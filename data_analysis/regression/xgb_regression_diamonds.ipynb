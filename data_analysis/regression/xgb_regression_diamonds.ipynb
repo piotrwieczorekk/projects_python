{
 "cells": [
  {
   "cell_type": "markdown",
   "metadata": {},
   "source": [
    "# **Using XGBoost for regression purposes - predicting diamonds sale price**"
   ]
  },
  {
   "cell_type": "markdown",
   "metadata": {},
   "source": [
    "**Table of contents**    \n",
    "- **Using XGBoost for regression purposes - predicting diamonds sale price**    \n",
    "  - Libraries    \n",
    "  - Reading the data    \n",
    "    - Selecting relevant columns    \n",
    "    - Exploring object variables    \n",
    "  - Modeling part    \n",
    "    - Splitting the data    \n",
    "    - Exploring the dependent variable    \n",
    "    - Creating dummy variables    \n",
    "    - Ploting the dependent variable after cutting the data above 99th percentile    \n",
    "    - Model parameters    \n",
    "    - Best paramaters    \n",
    "    - Fitting the ensemble    \n",
    "    - Predicting the test set    \n",
    "\n",
    "<!-- vscode-jupyter-toc-config\n",
    "\tnumbering=false\n",
    "\tanchor=false\n",
    "\tflat=false\n",
    "\tminLevel=1\n",
    "\tmaxLevel=3\n",
    "\t/vscode-jupyter-toc-config -->\n",
    "<!-- THIS CELL WILL BE REPLACED ON TOC UPDATE. DO NOT WRITE YOUR TEXT IN THIS CELL -->"
   ]
  },
  {
   "cell_type": "markdown",
   "metadata": {},
   "source": [
    "## Libraries"
   ]
  },
  {
   "cell_type": "code",
   "execution_count": 280,
   "metadata": {},
   "outputs": [],
   "source": [
    "import pandas as pd\n",
    "import numpy as np \n",
    "import matplotlib.pyplot as plt\n",
    "import seaborn as sns\n",
    "from sklearn.model_selection import train_test_split\n",
    "from xgboost import XGBRegressor\n",
    "from sklearn.metrics import mean_absolute_error, mean_absolute_percentage_error\n",
    "from sklearn.model_selection import GridSearchCV"
   ]
  },
  {
   "cell_type": "markdown",
   "metadata": {},
   "source": [
    "## Reading the data"
   ]
  },
  {
   "cell_type": "code",
   "execution_count": 217,
   "metadata": {},
   "outputs": [],
   "source": [
    "df = pd.read_csv(\"diamonds.csv\")"
   ]
  },
  {
   "cell_type": "markdown",
   "metadata": {},
   "source": [
    "### Selecting relevant columns"
   ]
  },
  {
   "cell_type": "code",
   "execution_count": 218,
   "metadata": {},
   "outputs": [],
   "source": [
    "l1 = df.iloc[:,1:6].columns.to_list()"
   ]
  },
  {
   "cell_type": "code",
   "execution_count": 219,
   "metadata": {},
   "outputs": [],
   "source": [
    "l2 = df.iloc[:,12:17].columns.to_list()"
   ]
  },
  {
   "cell_type": "code",
   "execution_count": 220,
   "metadata": {},
   "outputs": [],
   "source": [
    "l3 = df.iloc[:,-1:].columns.to_list()"
   ]
  },
  {
   "cell_type": "code",
   "execution_count": 221,
   "metadata": {},
   "outputs": [
    {
     "data": {
      "text/plain": [
       "['cut',\n",
       " 'color',\n",
       " 'clarity',\n",
       " 'carat_weight',\n",
       " 'cut_quality',\n",
       " 'depth_percent',\n",
       " 'table_percent',\n",
       " 'meas_length',\n",
       " 'meas_width',\n",
       " 'meas_depth',\n",
       " 'total_sales_price']"
      ]
     },
     "execution_count": 221,
     "metadata": {},
     "output_type": "execute_result"
    }
   ],
   "source": [
    "l1+l2+l3"
   ]
  },
  {
   "cell_type": "code",
   "execution_count": 222,
   "metadata": {},
   "outputs": [],
   "source": [
    "df = df.iloc[:,df.columns.isin(l1+l2+l3)]"
   ]
  },
  {
   "cell_type": "code",
   "execution_count": 223,
   "metadata": {},
   "outputs": [
    {
     "data": {
      "text/html": [
       "<div>\n",
       "<style scoped>\n",
       "    .dataframe tbody tr th:only-of-type {\n",
       "        vertical-align: middle;\n",
       "    }\n",
       "\n",
       "    .dataframe tbody tr th {\n",
       "        vertical-align: top;\n",
       "    }\n",
       "\n",
       "    .dataframe thead th {\n",
       "        text-align: right;\n",
       "    }\n",
       "</style>\n",
       "<table border=\"1\" class=\"dataframe\">\n",
       "  <thead>\n",
       "    <tr style=\"text-align: right;\">\n",
       "      <th></th>\n",
       "      <th>cut</th>\n",
       "      <th>color</th>\n",
       "      <th>clarity</th>\n",
       "      <th>carat_weight</th>\n",
       "      <th>cut_quality</th>\n",
       "      <th>depth_percent</th>\n",
       "      <th>table_percent</th>\n",
       "      <th>meas_length</th>\n",
       "      <th>meas_width</th>\n",
       "      <th>meas_depth</th>\n",
       "      <th>total_sales_price</th>\n",
       "    </tr>\n",
       "  </thead>\n",
       "  <tbody>\n",
       "    <tr>\n",
       "      <th>0</th>\n",
       "      <td>Round</td>\n",
       "      <td>E</td>\n",
       "      <td>VVS2</td>\n",
       "      <td>0.09</td>\n",
       "      <td>Excellent</td>\n",
       "      <td>62.7</td>\n",
       "      <td>59.0</td>\n",
       "      <td>2.85</td>\n",
       "      <td>2.87</td>\n",
       "      <td>1.79</td>\n",
       "      <td>200</td>\n",
       "    </tr>\n",
       "    <tr>\n",
       "      <th>1</th>\n",
       "      <td>Round</td>\n",
       "      <td>E</td>\n",
       "      <td>VVS2</td>\n",
       "      <td>0.09</td>\n",
       "      <td>Very Good</td>\n",
       "      <td>61.9</td>\n",
       "      <td>59.0</td>\n",
       "      <td>2.84</td>\n",
       "      <td>2.89</td>\n",
       "      <td>1.78</td>\n",
       "      <td>200</td>\n",
       "    </tr>\n",
       "    <tr>\n",
       "      <th>2</th>\n",
       "      <td>Round</td>\n",
       "      <td>E</td>\n",
       "      <td>VVS2</td>\n",
       "      <td>0.09</td>\n",
       "      <td>Excellent</td>\n",
       "      <td>61.1</td>\n",
       "      <td>59.0</td>\n",
       "      <td>2.88</td>\n",
       "      <td>2.90</td>\n",
       "      <td>1.77</td>\n",
       "      <td>200</td>\n",
       "    </tr>\n",
       "    <tr>\n",
       "      <th>3</th>\n",
       "      <td>Round</td>\n",
       "      <td>E</td>\n",
       "      <td>VVS2</td>\n",
       "      <td>0.09</td>\n",
       "      <td>Excellent</td>\n",
       "      <td>62.0</td>\n",
       "      <td>59.0</td>\n",
       "      <td>2.86</td>\n",
       "      <td>2.88</td>\n",
       "      <td>1.78</td>\n",
       "      <td>200</td>\n",
       "    </tr>\n",
       "    <tr>\n",
       "      <th>4</th>\n",
       "      <td>Round</td>\n",
       "      <td>E</td>\n",
       "      <td>VVS2</td>\n",
       "      <td>0.09</td>\n",
       "      <td>Very Good</td>\n",
       "      <td>64.9</td>\n",
       "      <td>58.5</td>\n",
       "      <td>2.79</td>\n",
       "      <td>2.83</td>\n",
       "      <td>1.82</td>\n",
       "      <td>200</td>\n",
       "    </tr>\n",
       "  </tbody>\n",
       "</table>\n",
       "</div>"
      ],
      "text/plain": [
       "     cut color clarity  carat_weight cut_quality  depth_percent  \\\n",
       "0  Round     E    VVS2          0.09   Excellent           62.7   \n",
       "1  Round     E    VVS2          0.09   Very Good           61.9   \n",
       "2  Round     E    VVS2          0.09   Excellent           61.1   \n",
       "3  Round     E    VVS2          0.09   Excellent           62.0   \n",
       "4  Round     E    VVS2          0.09   Very Good           64.9   \n",
       "\n",
       "   table_percent  meas_length  meas_width  meas_depth  total_sales_price  \n",
       "0           59.0         2.85        2.87        1.79                200  \n",
       "1           59.0         2.84        2.89        1.78                200  \n",
       "2           59.0         2.88        2.90        1.77                200  \n",
       "3           59.0         2.86        2.88        1.78                200  \n",
       "4           58.5         2.79        2.83        1.82                200  "
      ]
     },
     "execution_count": 223,
     "metadata": {},
     "output_type": "execute_result"
    }
   ],
   "source": [
    "df.head()"
   ]
  },
  {
   "cell_type": "markdown",
   "metadata": {},
   "source": [
    "### Exploring object variables"
   ]
  },
  {
   "cell_type": "code",
   "execution_count": 224,
   "metadata": {},
   "outputs": [
    {
     "name": "stdout",
     "output_type": "stream",
     "text": [
      "cut\n",
      "\n",
      "Round               0.720591\n",
      "Oval                0.063072\n",
      "Emerald             0.050482\n",
      "Pear                0.044879\n",
      "Princess            0.032089\n",
      "Radiant             0.025626\n",
      "Heart               0.021729\n",
      "Cushion Modified    0.018134\n",
      "Marquise            0.013272\n",
      "Asscher             0.007720\n",
      "Cushion             0.002408\n",
      "Name: cut, dtype: float64\n",
      "\n",
      "\n",
      "color\n",
      "\n",
      "E          0.150672\n",
      "F          0.143676\n",
      "D          0.140522\n",
      "G          0.132834\n",
      "H          0.118674\n",
      "I          0.101792\n",
      "J          0.076913\n",
      "K          0.053481\n",
      "unknown    0.041702\n",
      "L          0.025867\n",
      "M          0.013869\n",
      "Name: color, dtype: float64\n",
      "\n",
      "\n",
      "clarity\n",
      "\n",
      "SI1     0.175815\n",
      "VS2     0.173748\n",
      "VS1     0.168209\n",
      "SI2     0.141577\n",
      "VVS2    0.131928\n",
      "VVS1    0.126885\n",
      "IF      0.045398\n",
      "I1      0.031684\n",
      "I2      0.004297\n",
      "I3      0.000414\n",
      "SI3     0.000046\n",
      "Name: clarity, dtype: float64\n",
      "\n",
      "\n",
      "cut_quality\n",
      "\n",
      "Excellent    0.568317\n",
      "unknown      0.275859\n",
      "Very Good    0.155669\n",
      "Good         0.000127\n",
      "Fair         0.000023\n",
      "Ideal        0.000005\n",
      "Name: cut_quality, dtype: float64\n",
      "\n",
      "\n"
     ]
    }
   ],
   "source": [
    "for column in df.select_dtypes(\"object\").columns.to_list():\n",
    "    print(f'{column}\\n\\n{df[column].value_counts(normalize=True)}\\n\\n')"
   ]
  },
  {
   "cell_type": "markdown",
   "metadata": {},
   "source": [
    "#### Some categories are extremely rare and it was decided to remove them from the data set because it occured that after splitting the data, the test set and train set had unequal number of columns after creating dummy variables"
   ]
  },
  {
   "cell_type": "code",
   "execution_count": 225,
   "metadata": {},
   "outputs": [
    {
     "data": {
      "text/plain": [
       "(219703, 11)"
      ]
     },
     "execution_count": 225,
     "metadata": {},
     "output_type": "execute_result"
    }
   ],
   "source": [
    "df.shape"
   ]
  },
  {
   "cell_type": "code",
   "execution_count": 226,
   "metadata": {},
   "outputs": [
    {
     "data": {
      "text/plain": [
       "Int64Index([    69,     77,     95,     99,    101,    110,    111,    130,\n",
       "               149,    159,\n",
       "            ...\n",
       "            219468, 219481, 219488, 219515, 219535, 219566, 219571, 219579,\n",
       "            219631, 219655],\n",
       "           dtype='int64', length=3300)"
      ]
     },
     "execution_count": 226,
     "metadata": {},
     "output_type": "execute_result"
    }
   ],
   "source": [
    "df[(df['cut_quality'].isin([\"Good\",\"Fair\",\"Ideal\"])) | (df['clarity'].isin(['SI3','I3','I2']) | (df['cut'].isin(['Asscher','Cushion'])))].index"
   ]
  },
  {
   "cell_type": "code",
   "execution_count": 230,
   "metadata": {},
   "outputs": [],
   "source": [
    "df = df.drop(index=df[(df['cut_quality'].isin([\"Good\",\"Fair\",\"Ideal\"])) | (df['clarity'].isin(['SI3','I3','I2']) | (df['cut'].isin(['Asscher','Cushion'])))].index)"
   ]
  },
  {
   "cell_type": "code",
   "execution_count": 232,
   "metadata": {},
   "outputs": [],
   "source": [
    "df = df.reset_index(drop=True)"
   ]
  },
  {
   "cell_type": "code",
   "execution_count": 234,
   "metadata": {},
   "outputs": [
    {
     "data": {
      "text/plain": [
       "216403"
      ]
     },
     "execution_count": 234,
     "metadata": {},
     "output_type": "execute_result"
    }
   ],
   "source": [
    "len(df)"
   ]
  },
  {
   "cell_type": "markdown",
   "metadata": {},
   "source": [
    "## Modeling part"
   ]
  },
  {
   "cell_type": "markdown",
   "metadata": {},
   "source": [
    "### Splitting the data"
   ]
  },
  {
   "cell_type": "code",
   "execution_count": 235,
   "metadata": {},
   "outputs": [
    {
     "name": "stdout",
     "output_type": "stream",
     "text": [
      "x_train: (151482, 10)\n",
      "x_test: (64921, 10)\n",
      "y_train: (151482,)\n",
      "y_test: (64921,)\n"
     ]
    }
   ],
   "source": [
    "X = df.drop('total_sales_price',axis=1)\n",
    "y = df['total_sales_price']\n",
    "\n",
    "X_train,X_test,y_train,y_test = train_test_split(X,y,train_size=0.7,random_state=123)\n",
    "print(f'x_train: {X_train.shape}')\n",
    "print(f'x_test: {X_test.shape}')\n",
    "print(f'y_train: {y_train.shape}')\n",
    "print(f'y_test: {y_test.shape}')"
   ]
  },
  {
   "cell_type": "code",
   "execution_count": 236,
   "metadata": {},
   "outputs": [
    {
     "data": {
      "text/html": [
       "<div>\n",
       "<style scoped>\n",
       "    .dataframe tbody tr th:only-of-type {\n",
       "        vertical-align: middle;\n",
       "    }\n",
       "\n",
       "    .dataframe tbody tr th {\n",
       "        vertical-align: top;\n",
       "    }\n",
       "\n",
       "    .dataframe thead th {\n",
       "        text-align: right;\n",
       "    }\n",
       "</style>\n",
       "<table border=\"1\" class=\"dataframe\">\n",
       "  <thead>\n",
       "    <tr style=\"text-align: right;\">\n",
       "      <th></th>\n",
       "      <th>cut</th>\n",
       "      <th>color</th>\n",
       "      <th>clarity</th>\n",
       "      <th>carat_weight</th>\n",
       "      <th>cut_quality</th>\n",
       "      <th>depth_percent</th>\n",
       "      <th>table_percent</th>\n",
       "      <th>meas_length</th>\n",
       "      <th>meas_width</th>\n",
       "      <th>meas_depth</th>\n",
       "    </tr>\n",
       "  </thead>\n",
       "  <tbody>\n",
       "    <tr>\n",
       "      <th>103523</th>\n",
       "      <td>Round</td>\n",
       "      <td>M</td>\n",
       "      <td>SI1</td>\n",
       "      <td>0.71</td>\n",
       "      <td>Excellent</td>\n",
       "      <td>61.7</td>\n",
       "      <td>58.0</td>\n",
       "      <td>5.69</td>\n",
       "      <td>5.72</td>\n",
       "      <td>3.52</td>\n",
       "    </tr>\n",
       "    <tr>\n",
       "      <th>74096</th>\n",
       "      <td>Round</td>\n",
       "      <td>F</td>\n",
       "      <td>VVS2</td>\n",
       "      <td>0.30</td>\n",
       "      <td>Excellent</td>\n",
       "      <td>62.8</td>\n",
       "      <td>58.0</td>\n",
       "      <td>4.25</td>\n",
       "      <td>4.28</td>\n",
       "      <td>2.68</td>\n",
       "    </tr>\n",
       "    <tr>\n",
       "      <th>128247</th>\n",
       "      <td>Round</td>\n",
       "      <td>I</td>\n",
       "      <td>VVS2</td>\n",
       "      <td>0.56</td>\n",
       "      <td>Excellent</td>\n",
       "      <td>61.9</td>\n",
       "      <td>58.0</td>\n",
       "      <td>5.28</td>\n",
       "      <td>5.31</td>\n",
       "      <td>3.28</td>\n",
       "    </tr>\n",
       "    <tr>\n",
       "      <th>14203</th>\n",
       "      <td>Heart</td>\n",
       "      <td>G</td>\n",
       "      <td>SI2</td>\n",
       "      <td>0.34</td>\n",
       "      <td>unknown</td>\n",
       "      <td>51.7</td>\n",
       "      <td>60.0</td>\n",
       "      <td>4.80</td>\n",
       "      <td>5.03</td>\n",
       "      <td>2.48</td>\n",
       "    </tr>\n",
       "    <tr>\n",
       "      <th>108845</th>\n",
       "      <td>Oval</td>\n",
       "      <td>D</td>\n",
       "      <td>VS1</td>\n",
       "      <td>0.51</td>\n",
       "      <td>unknown</td>\n",
       "      <td>65.6</td>\n",
       "      <td>57.0</td>\n",
       "      <td>5.97</td>\n",
       "      <td>4.50</td>\n",
       "      <td>2.95</td>\n",
       "    </tr>\n",
       "    <tr>\n",
       "      <th>...</th>\n",
       "      <td>...</td>\n",
       "      <td>...</td>\n",
       "      <td>...</td>\n",
       "      <td>...</td>\n",
       "      <td>...</td>\n",
       "      <td>...</td>\n",
       "      <td>...</td>\n",
       "      <td>...</td>\n",
       "      <td>...</td>\n",
       "      <td>...</td>\n",
       "    </tr>\n",
       "    <tr>\n",
       "      <th>119906</th>\n",
       "      <td>Round</td>\n",
       "      <td>I</td>\n",
       "      <td>VS2</td>\n",
       "      <td>0.50</td>\n",
       "      <td>Excellent</td>\n",
       "      <td>62.4</td>\n",
       "      <td>57.0</td>\n",
       "      <td>5.03</td>\n",
       "      <td>5.07</td>\n",
       "      <td>3.15</td>\n",
       "    </tr>\n",
       "    <tr>\n",
       "      <th>192476</th>\n",
       "      <td>Oval</td>\n",
       "      <td>I</td>\n",
       "      <td>VVS2</td>\n",
       "      <td>1.50</td>\n",
       "      <td>unknown</td>\n",
       "      <td>61.6</td>\n",
       "      <td>64.0</td>\n",
       "      <td>9.74</td>\n",
       "      <td>6.16</td>\n",
       "      <td>3.80</td>\n",
       "    </tr>\n",
       "    <tr>\n",
       "      <th>17730</th>\n",
       "      <td>Round</td>\n",
       "      <td>I</td>\n",
       "      <td>VS2</td>\n",
       "      <td>0.30</td>\n",
       "      <td>Very Good</td>\n",
       "      <td>60.5</td>\n",
       "      <td>59.0</td>\n",
       "      <td>4.27</td>\n",
       "      <td>4.31</td>\n",
       "      <td>2.60</td>\n",
       "    </tr>\n",
       "    <tr>\n",
       "      <th>28030</th>\n",
       "      <td>Round</td>\n",
       "      <td>F</td>\n",
       "      <td>SI2</td>\n",
       "      <td>0.30</td>\n",
       "      <td>Excellent</td>\n",
       "      <td>62.9</td>\n",
       "      <td>56.0</td>\n",
       "      <td>4.25</td>\n",
       "      <td>4.29</td>\n",
       "      <td>2.68</td>\n",
       "    </tr>\n",
       "    <tr>\n",
       "      <th>15725</th>\n",
       "      <td>Round</td>\n",
       "      <td>L</td>\n",
       "      <td>VS2</td>\n",
       "      <td>0.35</td>\n",
       "      <td>Excellent</td>\n",
       "      <td>62.8</td>\n",
       "      <td>56.0</td>\n",
       "      <td>4.49</td>\n",
       "      <td>4.51</td>\n",
       "      <td>2.83</td>\n",
       "    </tr>\n",
       "  </tbody>\n",
       "</table>\n",
       "<p>151482 rows × 10 columns</p>\n",
       "</div>"
      ],
      "text/plain": [
       "          cut color clarity  carat_weight cut_quality  depth_percent  \\\n",
       "103523  Round     M     SI1          0.71   Excellent           61.7   \n",
       "74096   Round     F    VVS2          0.30   Excellent           62.8   \n",
       "128247  Round     I    VVS2          0.56   Excellent           61.9   \n",
       "14203   Heart     G     SI2          0.34     unknown           51.7   \n",
       "108845   Oval     D     VS1          0.51     unknown           65.6   \n",
       "...       ...   ...     ...           ...         ...            ...   \n",
       "119906  Round     I     VS2          0.50   Excellent           62.4   \n",
       "192476   Oval     I    VVS2          1.50     unknown           61.6   \n",
       "17730   Round     I     VS2          0.30   Very Good           60.5   \n",
       "28030   Round     F     SI2          0.30   Excellent           62.9   \n",
       "15725   Round     L     VS2          0.35   Excellent           62.8   \n",
       "\n",
       "        table_percent  meas_length  meas_width  meas_depth  \n",
       "103523           58.0         5.69        5.72        3.52  \n",
       "74096            58.0         4.25        4.28        2.68  \n",
       "128247           58.0         5.28        5.31        3.28  \n",
       "14203            60.0         4.80        5.03        2.48  \n",
       "108845           57.0         5.97        4.50        2.95  \n",
       "...               ...          ...         ...         ...  \n",
       "119906           57.0         5.03        5.07        3.15  \n",
       "192476           64.0         9.74        6.16        3.80  \n",
       "17730            59.0         4.27        4.31        2.60  \n",
       "28030            56.0         4.25        4.29        2.68  \n",
       "15725            56.0         4.49        4.51        2.83  \n",
       "\n",
       "[151482 rows x 10 columns]"
      ]
     },
     "execution_count": 236,
     "metadata": {},
     "output_type": "execute_result"
    }
   ],
   "source": [
    "X_train"
   ]
  },
  {
   "cell_type": "markdown",
   "metadata": {},
   "source": [
    "### Exploring the dependent variable"
   ]
  },
  {
   "cell_type": "markdown",
   "metadata": {},
   "source": [
    "#### Diamonds sale price has some extreme right-skewed values that exceed 99th percentile\n",
    "#### It was decided to remove values above 99th percentile because they are too extreme"
   ]
  },
  {
   "cell_type": "code",
   "execution_count": 237,
   "metadata": {},
   "outputs": [
    {
     "data": {
      "text/plain": [
       "count    1.514820e+05\n",
       "mean     6.785443e+03\n",
       "std      2.576773e+04\n",
       "min      2.000000e+02\n",
       "10%      7.360000e+02\n",
       "20%      8.900000e+02\n",
       "30%      1.022000e+03\n",
       "40%      1.292000e+03\n",
       "50%      1.923500e+03\n",
       "60%      2.902000e+03\n",
       "70%      3.917000e+03\n",
       "80%      6.755000e+03\n",
       "90%      1.361450e+04\n",
       "91%      1.469771e+04\n",
       "92%      1.594600e+04\n",
       "93%      1.784766e+04\n",
       "94%      2.041700e+04\n",
       "95%      2.358190e+04\n",
       "96%      2.728100e+04\n",
       "97%      3.290856e+04\n",
       "98%      4.496490e+04\n",
       "99%      6.278326e+04\n",
       "max      1.350000e+06\n",
       "Name: total_sales_price, dtype: float64"
      ]
     },
     "execution_count": 237,
     "metadata": {},
     "output_type": "execute_result"
    }
   ],
   "source": [
    "y_train.describe(percentiles=[0.1,0.2,0.3,0.4,0.5,0.6,0.7,0.8,0.9,0.91,0.92,0.93,0.94,0.95,0.96,0.97,0.98,0.99])"
   ]
  },
  {
   "cell_type": "code",
   "execution_count": 238,
   "metadata": {},
   "outputs": [
    {
     "data": {
      "text/plain": [
       "1477"
      ]
     },
     "execution_count": 238,
     "metadata": {},
     "output_type": "execute_result"
    }
   ],
   "source": [
    "len(pd.DataFrame(y_train[y_train >= 63550]))"
   ]
  },
  {
   "cell_type": "code",
   "execution_count": 239,
   "metadata": {},
   "outputs": [],
   "source": [
    "train = pd.merge(X_train,y_train,left_index=True,right_index=True)"
   ]
  },
  {
   "cell_type": "code",
   "execution_count": 240,
   "metadata": {},
   "outputs": [],
   "source": [
    "train = train[train['total_sales_price'] <= 63550]"
   ]
  },
  {
   "cell_type": "code",
   "execution_count": 241,
   "metadata": {},
   "outputs": [],
   "source": [
    "test = pd.merge(X_test,y_test,left_index=True,right_index=True)"
   ]
  },
  {
   "cell_type": "code",
   "execution_count": 242,
   "metadata": {},
   "outputs": [],
   "source": [
    "test = test[test['total_sales_price'] <= 63550]"
   ]
  },
  {
   "cell_type": "code",
   "execution_count": 243,
   "metadata": {},
   "outputs": [
    {
     "data": {
      "text/html": [
       "<div>\n",
       "<style scoped>\n",
       "    .dataframe tbody tr th:only-of-type {\n",
       "        vertical-align: middle;\n",
       "    }\n",
       "\n",
       "    .dataframe tbody tr th {\n",
       "        vertical-align: top;\n",
       "    }\n",
       "\n",
       "    .dataframe thead th {\n",
       "        text-align: right;\n",
       "    }\n",
       "</style>\n",
       "<table border=\"1\" class=\"dataframe\">\n",
       "  <thead>\n",
       "    <tr style=\"text-align: right;\">\n",
       "      <th></th>\n",
       "      <th>cut</th>\n",
       "      <th>color</th>\n",
       "      <th>clarity</th>\n",
       "      <th>carat_weight</th>\n",
       "      <th>cut_quality</th>\n",
       "      <th>depth_percent</th>\n",
       "      <th>table_percent</th>\n",
       "      <th>meas_length</th>\n",
       "      <th>meas_width</th>\n",
       "      <th>meas_depth</th>\n",
       "      <th>total_sales_price</th>\n",
       "    </tr>\n",
       "  </thead>\n",
       "  <tbody>\n",
       "    <tr>\n",
       "      <th>103523</th>\n",
       "      <td>Round</td>\n",
       "      <td>M</td>\n",
       "      <td>SI1</td>\n",
       "      <td>0.71</td>\n",
       "      <td>Excellent</td>\n",
       "      <td>61.7</td>\n",
       "      <td>58.0</td>\n",
       "      <td>5.69</td>\n",
       "      <td>5.72</td>\n",
       "      <td>3.52</td>\n",
       "      <td>1754</td>\n",
       "    </tr>\n",
       "    <tr>\n",
       "      <th>74096</th>\n",
       "      <td>Round</td>\n",
       "      <td>F</td>\n",
       "      <td>VVS2</td>\n",
       "      <td>0.30</td>\n",
       "      <td>Excellent</td>\n",
       "      <td>62.8</td>\n",
       "      <td>58.0</td>\n",
       "      <td>4.25</td>\n",
       "      <td>4.28</td>\n",
       "      <td>2.68</td>\n",
       "      <td>1092</td>\n",
       "    </tr>\n",
       "    <tr>\n",
       "      <th>128247</th>\n",
       "      <td>Round</td>\n",
       "      <td>I</td>\n",
       "      <td>VVS2</td>\n",
       "      <td>0.56</td>\n",
       "      <td>Excellent</td>\n",
       "      <td>61.9</td>\n",
       "      <td>58.0</td>\n",
       "      <td>5.28</td>\n",
       "      <td>5.31</td>\n",
       "      <td>3.28</td>\n",
       "      <td>2816</td>\n",
       "    </tr>\n",
       "    <tr>\n",
       "      <th>14203</th>\n",
       "      <td>Heart</td>\n",
       "      <td>G</td>\n",
       "      <td>SI2</td>\n",
       "      <td>0.34</td>\n",
       "      <td>unknown</td>\n",
       "      <td>51.7</td>\n",
       "      <td>60.0</td>\n",
       "      <td>4.80</td>\n",
       "      <td>5.03</td>\n",
       "      <td>2.48</td>\n",
       "      <td>684</td>\n",
       "    </tr>\n",
       "    <tr>\n",
       "      <th>108845</th>\n",
       "      <td>Oval</td>\n",
       "      <td>D</td>\n",
       "      <td>VS1</td>\n",
       "      <td>0.51</td>\n",
       "      <td>unknown</td>\n",
       "      <td>65.6</td>\n",
       "      <td>57.0</td>\n",
       "      <td>5.97</td>\n",
       "      <td>4.50</td>\n",
       "      <td>2.95</td>\n",
       "      <td>1908</td>\n",
       "    </tr>\n",
       "    <tr>\n",
       "      <th>...</th>\n",
       "      <td>...</td>\n",
       "      <td>...</td>\n",
       "      <td>...</td>\n",
       "      <td>...</td>\n",
       "      <td>...</td>\n",
       "      <td>...</td>\n",
       "      <td>...</td>\n",
       "      <td>...</td>\n",
       "      <td>...</td>\n",
       "      <td>...</td>\n",
       "      <td>...</td>\n",
       "    </tr>\n",
       "    <tr>\n",
       "      <th>119906</th>\n",
       "      <td>Round</td>\n",
       "      <td>I</td>\n",
       "      <td>VS2</td>\n",
       "      <td>0.50</td>\n",
       "      <td>Excellent</td>\n",
       "      <td>62.4</td>\n",
       "      <td>57.0</td>\n",
       "      <td>5.03</td>\n",
       "      <td>5.07</td>\n",
       "      <td>3.15</td>\n",
       "      <td>2480</td>\n",
       "    </tr>\n",
       "    <tr>\n",
       "      <th>192476</th>\n",
       "      <td>Oval</td>\n",
       "      <td>I</td>\n",
       "      <td>VVS2</td>\n",
       "      <td>1.50</td>\n",
       "      <td>unknown</td>\n",
       "      <td>61.6</td>\n",
       "      <td>64.0</td>\n",
       "      <td>9.74</td>\n",
       "      <td>6.16</td>\n",
       "      <td>3.80</td>\n",
       "      <td>12608</td>\n",
       "    </tr>\n",
       "    <tr>\n",
       "      <th>17730</th>\n",
       "      <td>Round</td>\n",
       "      <td>I</td>\n",
       "      <td>VS2</td>\n",
       "      <td>0.30</td>\n",
       "      <td>Very Good</td>\n",
       "      <td>60.5</td>\n",
       "      <td>59.0</td>\n",
       "      <td>4.27</td>\n",
       "      <td>4.31</td>\n",
       "      <td>2.60</td>\n",
       "      <td>696</td>\n",
       "    </tr>\n",
       "    <tr>\n",
       "      <th>28030</th>\n",
       "      <td>Round</td>\n",
       "      <td>F</td>\n",
       "      <td>SI2</td>\n",
       "      <td>0.30</td>\n",
       "      <td>Excellent</td>\n",
       "      <td>62.9</td>\n",
       "      <td>56.0</td>\n",
       "      <td>4.25</td>\n",
       "      <td>4.29</td>\n",
       "      <td>2.68</td>\n",
       "      <td>796</td>\n",
       "    </tr>\n",
       "    <tr>\n",
       "      <th>15725</th>\n",
       "      <td>Round</td>\n",
       "      <td>L</td>\n",
       "      <td>VS2</td>\n",
       "      <td>0.35</td>\n",
       "      <td>Excellent</td>\n",
       "      <td>62.8</td>\n",
       "      <td>56.0</td>\n",
       "      <td>4.49</td>\n",
       "      <td>4.51</td>\n",
       "      <td>2.83</td>\n",
       "      <td>680</td>\n",
       "    </tr>\n",
       "  </tbody>\n",
       "</table>\n",
       "<p>150005 rows × 11 columns</p>\n",
       "</div>"
      ],
      "text/plain": [
       "          cut color clarity  carat_weight cut_quality  depth_percent  \\\n",
       "103523  Round     M     SI1          0.71   Excellent           61.7   \n",
       "74096   Round     F    VVS2          0.30   Excellent           62.8   \n",
       "128247  Round     I    VVS2          0.56   Excellent           61.9   \n",
       "14203   Heart     G     SI2          0.34     unknown           51.7   \n",
       "108845   Oval     D     VS1          0.51     unknown           65.6   \n",
       "...       ...   ...     ...           ...         ...            ...   \n",
       "119906  Round     I     VS2          0.50   Excellent           62.4   \n",
       "192476   Oval     I    VVS2          1.50     unknown           61.6   \n",
       "17730   Round     I     VS2          0.30   Very Good           60.5   \n",
       "28030   Round     F     SI2          0.30   Excellent           62.9   \n",
       "15725   Round     L     VS2          0.35   Excellent           62.8   \n",
       "\n",
       "        table_percent  meas_length  meas_width  meas_depth  total_sales_price  \n",
       "103523           58.0         5.69        5.72        3.52               1754  \n",
       "74096            58.0         4.25        4.28        2.68               1092  \n",
       "128247           58.0         5.28        5.31        3.28               2816  \n",
       "14203            60.0         4.80        5.03        2.48                684  \n",
       "108845           57.0         5.97        4.50        2.95               1908  \n",
       "...               ...          ...         ...         ...                ...  \n",
       "119906           57.0         5.03        5.07        3.15               2480  \n",
       "192476           64.0         9.74        6.16        3.80              12608  \n",
       "17730            59.0         4.27        4.31        2.60                696  \n",
       "28030            56.0         4.25        4.29        2.68                796  \n",
       "15725            56.0         4.49        4.51        2.83                680  \n",
       "\n",
       "[150005 rows x 11 columns]"
      ]
     },
     "execution_count": 243,
     "metadata": {},
     "output_type": "execute_result"
    }
   ],
   "source": [
    "train"
   ]
  },
  {
   "cell_type": "code",
   "execution_count": 244,
   "metadata": {},
   "outputs": [],
   "source": [
    "X_train = train.drop(\"total_sales_price\",axis=1)\n",
    "y_train = train['total_sales_price']\n",
    "\n",
    "X_test = test.drop(\"total_sales_price\",axis=1)\n",
    "y_test = test['total_sales_price']"
   ]
  },
  {
   "cell_type": "code",
   "execution_count": 245,
   "metadata": {},
   "outputs": [
    {
     "name": "stdout",
     "output_type": "stream",
     "text": [
      "x_train: (150005, 10)\n",
      "x_test: (64281, 10)\n",
      "y_train: (150005,)\n",
      "y_test: (64281,)\n"
     ]
    }
   ],
   "source": [
    "print(f'x_train: {X_train.shape}')\n",
    "print(f'x_test: {X_test.shape}')\n",
    "print(f'y_train: {y_train.shape}')\n",
    "print(f'y_test: {y_test.shape}')"
   ]
  },
  {
   "cell_type": "markdown",
   "metadata": {},
   "source": [
    "### Creating dummy variables"
   ]
  },
  {
   "cell_type": "code",
   "execution_count": 246,
   "metadata": {},
   "outputs": [],
   "source": [
    "X_train = pd.get_dummies(data=X_train,columns=X_train.select_dtypes(\"object\").columns.to_list(),drop_first=True)\n",
    "X_test = pd.get_dummies(data=X_test,columns=X_test.select_dtypes(\"object\").columns.to_list(),drop_first=True)"
   ]
  },
  {
   "cell_type": "code",
   "execution_count": 247,
   "metadata": {},
   "outputs": [
    {
     "name": "stdout",
     "output_type": "stream",
     "text": [
      "x_train: (150005, 33)\n",
      "x_test: (64281, 33)\n",
      "y_train: (150005,)\n",
      "y_test: (64281,)\n"
     ]
    }
   ],
   "source": [
    "print(f'x_train: {X_train.shape}')\n",
    "print(f'x_test: {X_test.shape}')\n",
    "print(f'y_train: {y_train.shape}')\n",
    "print(f'y_test: {y_test.shape}')"
   ]
  },
  {
   "cell_type": "markdown",
   "metadata": {},
   "source": [
    "### Ploting the dependent variable after cutting the data above 99th percentile"
   ]
  },
  {
   "cell_type": "code",
   "execution_count": 248,
   "metadata": {},
   "outputs": [
    {
     "data": {
      "text/plain": [
       "<AxesSubplot: xlabel='total_sales_price'>"
      ]
     },
     "execution_count": 248,
     "metadata": {},
     "output_type": "execute_result"
    },
    {
     "data": {
      "image/png": "[encoded data removed]",
      "text/plain": [
       "<Figure size 640x480 with 1 Axes>"
      ]
     },
     "metadata": {},
     "output_type": "display_data"
    }
   ],
   "source": [
    "sns.boxplot(x=y_train)"
   ]
  },
  {
   "cell_type": "markdown",
   "metadata": {},
   "source": [
    "### Model parameters"
   ]
  },
  {
   "cell_type": "code",
   "execution_count": 279,
   "metadata": {},
   "outputs": [],
   "source": [
    "param_grid = {\n",
    "    'n_estimators': [100, 200, 300],\n",
    "    'learning_rate': [0.05, 0.1, 0.2],\n",
    "    'max_depth': [3,4,5,6]\n",
    "}"
   ]
  },
  {
   "cell_type": "code",
   "execution_count": 281,
   "metadata": {},
   "outputs": [],
   "source": [
    "xg_reg = XGBRegressor()"
   ]
  },
  {
   "cell_type": "code",
   "execution_count": 297,
   "metadata": {},
   "outputs": [],
   "source": [
    "grid_search = GridSearchCV(estimator=xg_reg, param_grid=param_grid, cv=5, scoring='neg_mean_squared_error', verbose=1)"
   ]
  },
  {
   "cell_type": "code",
   "execution_count": 283,
   "metadata": {},
   "outputs": [
    {
     "name": "stdout",
     "output_type": "stream",
     "text": [
      "Fitting 5 folds for each of 36 candidates, totalling 180 fits\n"
     ]
    },
    {
     "data": {
      "text/html": [
       "<style>#sk-container-id-6 {color: black;background-color: white;}#sk-container-id-6 pre{padding: 0;}#sk-container-id-6 div.sk-toggleable {background-color: white;}#sk-container-id-6 label.sk-toggleable__label {cursor: pointer;display: block;width: 100%;margin-bottom: 0;padding: 0.3em;box-sizing: border-box;text-align: center;}#sk-container-id-6 label.sk-toggleable__label-arrow:before {content: \"▸\";float: left;margin-right: 0.25em;color: #696969;}#sk-container-id-6 label.sk-toggleable__label-arrow:hover:before {color: black;}#sk-container-id-6 div.sk-estimator:hover label.sk-toggleable__label-arrow:before {color: black;}#sk-container-id-6 div.sk-toggleable__content {max-height: 0;max-width: 0;overflow: hidden;text-align: left;background-color: #f0f8ff;}#sk-container-id-6 div.sk-toggleable__content pre {margin: 0.2em;color: black;border-radius: 0.25em;background-color: #f0f8ff;}#sk-container-id-6 input.sk-toggleable__control:checked~div.sk-toggleable__content {max-height: 200px;max-width: 100%;overflow: auto;}#sk-container-id-6 input.sk-toggleable__control:checked~label.sk-toggleable__label-arrow:before {content: \"▾\";}#sk-container-id-6 div.sk-estimator input.sk-toggleable__control:checked~label.sk-toggleable__label {background-color: #d4ebff;}#sk-container-id-6 div.sk-label input.sk-toggleable__control:checked~label.sk-toggleable__label {background-color: #d4ebff;}#sk-container-id-6 input.sk-hidden--visually {border: 0;clip: rect(1px 1px 1px 1px);clip: rect(1px, 1px, 1px, 1px);height: 1px;margin: -1px;overflow: hidden;padding: 0;position: absolute;width: 1px;}#sk-container-id-6 div.sk-estimator {font-family: monospace;background-color: #f0f8ff;border: 1px dotted black;border-radius: 0.25em;box-sizing: border-box;margin-bottom: 0.5em;}#sk-container-id-6 div.sk-estimator:hover {background-color: #d4ebff;}#sk-container-id-6 div.sk-parallel-item::after {content: \"\";width: 100%;border-bottom: 1px solid gray;flex-grow: 1;}#sk-container-id-6 div.sk-label:hover label.sk-toggleable__label {background-color: #d4ebff;}#sk-container-id-6 div.sk-serial::before {content: \"\";position: absolute;border-left: 1px solid gray;box-sizing: border-box;top: 0;bottom: 0;left: 50%;z-index: 0;}#sk-container-id-6 div.sk-serial {display: flex;flex-direction: column;align-items: center;background-color: white;padding-right: 0.2em;padding-left: 0.2em;position: relative;}#sk-container-id-6 div.sk-item {position: relative;z-index: 1;}#sk-container-id-6 div.sk-parallel {display: flex;align-items: stretch;justify-content: center;background-color: white;position: relative;}#sk-container-id-6 div.sk-item::before, #sk-container-id-6 div.sk-parallel-item::before {content: \"\";position: absolute;border-left: 1px solid gray;box-sizing: border-box;top: 0;bottom: 0;left: 50%;z-index: -1;}#sk-container-id-6 div.sk-parallel-item {display: flex;flex-direction: column;z-index: 1;position: relative;background-color: white;}#sk-container-id-6 div.sk-parallel-item:first-child::after {align-self: flex-end;width: 50%;}#sk-container-id-6 div.sk-parallel-item:last-child::after {align-self: flex-start;width: 50%;}#sk-container-id-6 div.sk-parallel-item:only-child::after {width: 0;}#sk-container-id-6 div.sk-dashed-wrapped {border: 1px dashed gray;margin: 0 0.4em 0.5em 0.4em;box-sizing: border-box;padding-bottom: 0.4em;background-color: white;}#sk-container-id-6 div.sk-label label {font-family: monospace;font-weight: bold;display: inline-block;line-height: 1.2em;}#sk-container-id-6 div.sk-label-container {text-align: center;}#sk-container-id-6 div.sk-container {/* jupyter's `normalize.less` sets `[hidden] { display: none; }` but bootstrap.min.css set `[hidden] { display: none !important; }` so we also need the `!important` here to be able to override the default hidden behavior on the sphinx rendered scikit-learn.org. See: https://github.com/scikit-learn/scikit-learn/issues/21755 */display: inline-block !important;position: relative;}#sk-container-id-6 div.sk-text-repr-fallback {display: none;}</style><div id=\"sk-container-id-6\" class=\"sk-top-container\"><div class=\"sk-text-repr-fallback\"><pre>GridSearchCV(cv=5,\n",
       "             estimator=XGBRegressor(base_score=None, booster=None,\n",
       "                                    callbacks=None, colsample_bylevel=None,\n",
       "                                    colsample_bynode=None,\n",
       "                                    colsample_bytree=None, device=None,\n",
       "                                    early_stopping_rounds=None,\n",
       "                                    enable_categorical=False, eval_metric=None,\n",
       "                                    feature_types=None, gamma=None,\n",
       "                                    grow_policy=None, importance_type=None,\n",
       "                                    interaction_constraints=None,\n",
       "                                    learning_rate=None, m...\n",
       "                                    max_cat_to_onehot=None, max_delta_step=None,\n",
       "                                    max_depth=None, max_leaves=None,\n",
       "                                    min_child_weight=None, missing=nan,\n",
       "                                    monotone_constraints=None,\n",
       "                                    multi_strategy=None, n_estimators=None,\n",
       "                                    n_jobs=None, num_parallel_tree=None,\n",
       "                                    random_state=None, ...),\n",
       "             param_grid={&#x27;learning_rate&#x27;: [0.05, 0.1, 0.2],\n",
       "                         &#x27;max_depth&#x27;: [3, 4, 5, 6],\n",
       "                         &#x27;n_estimators&#x27;: [100, 200, 300]},\n",
       "             scoring=&#x27;neg_mean_squared_error&#x27;, verbose=1)</pre><b>In a Jupyter environment, please rerun this cell to show the HTML representation or trust the notebook. <br />On GitHub, the HTML representation is unable to render, please try loading this page with nbviewer.org.</b></div><div class=\"sk-container\" hidden><div class=\"sk-item sk-dashed-wrapped\"><div class=\"sk-label-container\"><div class=\"sk-label sk-toggleable\"><input class=\"sk-toggleable__control sk-hidden--visually\" id=\"sk-estimator-id-6\" type=\"checkbox\" ><label for=\"sk-estimator-id-6\" class=\"sk-toggleable__label sk-toggleable__label-arrow\">GridSearchCV</label><div class=\"sk-toggleable__content\"><pre>GridSearchCV(cv=5,\n",
       "             estimator=XGBRegressor(base_score=None, booster=None,\n",
       "                                    callbacks=None, colsample_bylevel=None,\n",
       "                                    colsample_bynode=None,\n",
       "                                    colsample_bytree=None, device=None,\n",
       "                                    early_stopping_rounds=None,\n",
       "                                    enable_categorical=False, eval_metric=None,\n",
       "                                    feature_types=None, gamma=None,\n",
       "                                    grow_policy=None, importance_type=None,\n",
       "                                    interaction_constraints=None,\n",
       "                                    learning_rate=None, m...\n",
       "                                    max_cat_to_onehot=None, max_delta_step=None,\n",
       "                                    max_depth=None, max_leaves=None,\n",
       "                                    min_child_weight=None, missing=nan,\n",
       "                                    monotone_constraints=None,\n",
       "                                    multi_strategy=None, n_estimators=None,\n",
       "                                    n_jobs=None, num_parallel_tree=None,\n",
       "                                    random_state=None, ...),\n",
       "             param_grid={&#x27;learning_rate&#x27;: [0.05, 0.1, 0.2],\n",
       "                         &#x27;max_depth&#x27;: [3, 4, 5, 6],\n",
       "                         &#x27;n_estimators&#x27;: [100, 200, 300]},\n",
       "             scoring=&#x27;neg_mean_squared_error&#x27;, verbose=1)</pre></div></div></div><div class=\"sk-parallel\"><div class=\"sk-parallel-item\"><div class=\"sk-item\"><div class=\"sk-label-container\"><div class=\"sk-label sk-toggleable\"><input class=\"sk-toggleable__control sk-hidden--visually\" id=\"sk-estimator-id-7\" type=\"checkbox\" ><label for=\"sk-estimator-id-7\" class=\"sk-toggleable__label sk-toggleable__label-arrow\">estimator: XGBRegressor</label><div class=\"sk-toggleable__content\"><pre>XGBRegressor(base_score=None, booster=None, callbacks=None,\n",
       "             colsample_bylevel=None, colsample_bynode=None,\n",
       "             colsample_bytree=None, device=None, early_stopping_rounds=None,\n",
       "             enable_categorical=False, eval_metric=None, feature_types=None,\n",
       "             gamma=None, grow_policy=None, importance_type=None,\n",
       "             interaction_constraints=None, learning_rate=None, max_bin=None,\n",
       "             max_cat_threshold=None, max_cat_to_onehot=None,\n",
       "             max_delta_step=None, max_depth=None, max_leaves=None,\n",
       "             min_child_weight=None, missing=nan, monotone_constraints=None,\n",
       "             multi_strategy=None, n_estimators=None, n_jobs=None,\n",
       "             num_parallel_tree=None, random_state=None, ...)</pre></div></div></div><div class=\"sk-serial\"><div class=\"sk-item\"><div class=\"sk-estimator sk-toggleable\"><input class=\"sk-toggleable__control sk-hidden--visually\" id=\"sk-estimator-id-8\" type=\"checkbox\" ><label for=\"sk-estimator-id-8\" class=\"sk-toggleable__label sk-toggleable__label-arrow\">XGBRegressor</label><div class=\"sk-toggleable__content\"><pre>XGBRegressor(base_score=None, booster=None, callbacks=None,\n",
       "             colsample_bylevel=None, colsample_bynode=None,\n",
       "             colsample_bytree=None, device=None, early_stopping_rounds=None,\n",
       "             enable_categorical=False, eval_metric=None, feature_types=None,\n",
       "             gamma=None, grow_policy=None, importance_type=None,\n",
       "             interaction_constraints=None, learning_rate=None, max_bin=None,\n",
       "             max_cat_threshold=None, max_cat_to_onehot=None,\n",
       "             max_delta_step=None, max_depth=None, max_leaves=None,\n",
       "             min_child_weight=None, missing=nan, monotone_constraints=None,\n",
       "             multi_strategy=None, n_estimators=None, n_jobs=None,\n",
       "             num_parallel_tree=None, random_state=None, ...)</pre></div></div></div></div></div></div></div></div></div></div>"
      ],
      "text/plain": [
       "GridSearchCV(cv=5,\n",
       "             estimator=XGBRegressor(base_score=None, booster=None,\n",
       "                                    callbacks=None, colsample_bylevel=None,\n",
       "                                    colsample_bynode=None,\n",
       "                                    colsample_bytree=None, device=None,\n",
       "                                    early_stopping_rounds=None,\n",
       "                                    enable_categorical=False, eval_metric=None,\n",
       "                                    feature_types=None, gamma=None,\n",
       "                                    grow_policy=None, importance_type=None,\n",
       "                                    interaction_constraints=None,\n",
       "                                    learning_rate=None, m...\n",
       "                                    max_cat_to_onehot=None, max_delta_step=None,\n",
       "                                    max_depth=None, max_leaves=None,\n",
       "                                    min_child_weight=None, missing=nan,\n",
       "                                    monotone_constraints=None,\n",
       "                                    multi_strategy=None, n_estimators=None,\n",
       "                                    n_jobs=None, num_parallel_tree=None,\n",
       "                                    random_state=None, ...),\n",
       "             param_grid={'learning_rate': [0.05, 0.1, 0.2],\n",
       "                         'max_depth': [3, 4, 5, 6],\n",
       "                         'n_estimators': [100, 200, 300]},\n",
       "             scoring='neg_mean_squared_error', verbose=1)"
      ]
     },
     "execution_count": 283,
     "metadata": {},
     "output_type": "execute_result"
    }
   ],
   "source": [
    "grid_search.fit(X_train, y_train)"
   ]
  },
  {
   "cell_type": "code",
   "execution_count": 284,
   "metadata": {},
   "outputs": [],
   "source": [
    "best_params = grid_search.best_params_\n",
    "best_score = grid_search.best_score_"
   ]
  },
  {
   "cell_type": "markdown",
   "metadata": {},
   "source": [
    "### Best paramaters"
   ]
  },
  {
   "cell_type": "code",
   "execution_count": 285,
   "metadata": {},
   "outputs": [
    {
     "data": {
      "text/plain": [
       "{'learning_rate': 0.1, 'max_depth': 6, 'n_estimators': 300}"
      ]
     },
     "execution_count": 285,
     "metadata": {},
     "output_type": "execute_result"
    }
   ],
   "source": [
    "best_params"
   ]
  },
  {
   "cell_type": "code",
   "execution_count": 286,
   "metadata": {},
   "outputs": [
    {
     "data": {
      "text/plain": [
       "-4509408.869445642"
      ]
     },
     "execution_count": 286,
     "metadata": {},
     "output_type": "execute_result"
    }
   ],
   "source": [
    "best_score"
   ]
  },
  {
   "cell_type": "code",
   "execution_count": 298,
   "metadata": {},
   "outputs": [],
   "source": [
    "xg_reg = XGBRegressor(**best_params,random_state=123)"
   ]
  },
  {
   "cell_type": "markdown",
   "metadata": {},
   "source": [
    "### Fitting the ensemble"
   ]
  },
  {
   "cell_type": "code",
   "execution_count": 299,
   "metadata": {},
   "outputs": [
    {
     "data": {
      "text/html": [
       "<style>#sk-container-id-8 {color: black;background-color: white;}#sk-container-id-8 pre{padding: 0;}#sk-container-id-8 div.sk-toggleable {background-color: white;}#sk-container-id-8 label.sk-toggleable__label {cursor: pointer;display: block;width: 100%;margin-bottom: 0;padding: 0.3em;box-sizing: border-box;text-align: center;}#sk-container-id-8 label.sk-toggleable__label-arrow:before {content: \"▸\";float: left;margin-right: 0.25em;color: #696969;}#sk-container-id-8 label.sk-toggleable__label-arrow:hover:before {color: black;}#sk-container-id-8 div.sk-estimator:hover label.sk-toggleable__label-arrow:before {color: black;}#sk-container-id-8 div.sk-toggleable__content {max-height: 0;max-width: 0;overflow: hidden;text-align: left;background-color: #f0f8ff;}#sk-container-id-8 div.sk-toggleable__content pre {margin: 0.2em;color: black;border-radius: 0.25em;background-color: #f0f8ff;}#sk-container-id-8 input.sk-toggleable__control:checked~div.sk-toggleable__content {max-height: 200px;max-width: 100%;overflow: auto;}#sk-container-id-8 input.sk-toggleable__control:checked~label.sk-toggleable__label-arrow:before {content: \"▾\";}#sk-container-id-8 div.sk-estimator input.sk-toggleable__control:checked~label.sk-toggleable__label {background-color: #d4ebff;}#sk-container-id-8 div.sk-label input.sk-toggleable__control:checked~label.sk-toggleable__label {background-color: #d4ebff;}#sk-container-id-8 input.sk-hidden--visually {border: 0;clip: rect(1px 1px 1px 1px);clip: rect(1px, 1px, 1px, 1px);height: 1px;margin: -1px;overflow: hidden;padding: 0;position: absolute;width: 1px;}#sk-container-id-8 div.sk-estimator {font-family: monospace;background-color: #f0f8ff;border: 1px dotted black;border-radius: 0.25em;box-sizing: border-box;margin-bottom: 0.5em;}#sk-container-id-8 div.sk-estimator:hover {background-color: #d4ebff;}#sk-container-id-8 div.sk-parallel-item::after {content: \"\";width: 100%;border-bottom: 1px solid gray;flex-grow: 1;}#sk-container-id-8 div.sk-label:hover label.sk-toggleable__label {background-color: #d4ebff;}#sk-container-id-8 div.sk-serial::before {content: \"\";position: absolute;border-left: 1px solid gray;box-sizing: border-box;top: 0;bottom: 0;left: 50%;z-index: 0;}#sk-container-id-8 div.sk-serial {display: flex;flex-direction: column;align-items: center;background-color: white;padding-right: 0.2em;padding-left: 0.2em;position: relative;}#sk-container-id-8 div.sk-item {position: relative;z-index: 1;}#sk-container-id-8 div.sk-parallel {display: flex;align-items: stretch;justify-content: center;background-color: white;position: relative;}#sk-container-id-8 div.sk-item::before, #sk-container-id-8 div.sk-parallel-item::before {content: \"\";position: absolute;border-left: 1px solid gray;box-sizing: border-box;top: 0;bottom: 0;left: 50%;z-index: -1;}#sk-container-id-8 div.sk-parallel-item {display: flex;flex-direction: column;z-index: 1;position: relative;background-color: white;}#sk-container-id-8 div.sk-parallel-item:first-child::after {align-self: flex-end;width: 50%;}#sk-container-id-8 div.sk-parallel-item:last-child::after {align-self: flex-start;width: 50%;}#sk-container-id-8 div.sk-parallel-item:only-child::after {width: 0;}#sk-container-id-8 div.sk-dashed-wrapped {border: 1px dashed gray;margin: 0 0.4em 0.5em 0.4em;box-sizing: border-box;padding-bottom: 0.4em;background-color: white;}#sk-container-id-8 div.sk-label label {font-family: monospace;font-weight: bold;display: inline-block;line-height: 1.2em;}#sk-container-id-8 div.sk-label-container {text-align: center;}#sk-container-id-8 div.sk-container {/* jupyter's `normalize.less` sets `[hidden] { display: none; }` but bootstrap.min.css set `[hidden] { display: none !important; }` so we also need the `!important` here to be able to override the default hidden behavior on the sphinx rendered scikit-learn.org. See: https://github.com/scikit-learn/scikit-learn/issues/21755 */display: inline-block !important;position: relative;}#sk-container-id-8 div.sk-text-repr-fallback {display: none;}</style><div id=\"sk-container-id-8\" class=\"sk-top-container\"><div class=\"sk-text-repr-fallback\"><pre>XGBRegressor(base_score=None, booster=None, callbacks=None,\n",
       "             colsample_bylevel=None, colsample_bynode=None,\n",
       "             colsample_bytree=None, device=None, early_stopping_rounds=None,\n",
       "             enable_categorical=False, eval_metric=None, feature_types=None,\n",
       "             gamma=None, grow_policy=None, importance_type=None,\n",
       "             interaction_constraints=None, learning_rate=0.1, max_bin=None,\n",
       "             max_cat_threshold=None, max_cat_to_onehot=None,\n",
       "             max_delta_step=None, max_depth=6, max_leaves=None,\n",
       "             min_child_weight=None, missing=nan, monotone_constraints=None,\n",
       "             multi_strategy=None, n_estimators=300, n_jobs=None,\n",
       "             num_parallel_tree=None, random_state=123, ...)</pre><b>In a Jupyter environment, please rerun this cell to show the HTML representation or trust the notebook. <br />On GitHub, the HTML representation is unable to render, please try loading this page with nbviewer.org.</b></div><div class=\"sk-container\" hidden><div class=\"sk-item\"><div class=\"sk-estimator sk-toggleable\"><input class=\"sk-toggleable__control sk-hidden--visually\" id=\"sk-estimator-id-10\" type=\"checkbox\" checked><label for=\"sk-estimator-id-10\" class=\"sk-toggleable__label sk-toggleable__label-arrow\">XGBRegressor</label><div class=\"sk-toggleable__content\"><pre>XGBRegressor(base_score=None, booster=None, callbacks=None,\n",
       "             colsample_bylevel=None, colsample_bynode=None,\n",
       "             colsample_bytree=None, device=None, early_stopping_rounds=None,\n",
       "             enable_categorical=False, eval_metric=None, feature_types=None,\n",
       "             gamma=None, grow_policy=None, importance_type=None,\n",
       "             interaction_constraints=None, learning_rate=0.1, max_bin=None,\n",
       "             max_cat_threshold=None, max_cat_to_onehot=None,\n",
       "             max_delta_step=None, max_depth=6, max_leaves=None,\n",
       "             min_child_weight=None, missing=nan, monotone_constraints=None,\n",
       "             multi_strategy=None, n_estimators=300, n_jobs=None,\n",
       "             num_parallel_tree=None, random_state=123, ...)</pre></div></div></div></div></div>"
      ],
      "text/plain": [
       "XGBRegressor(base_score=None, booster=None, callbacks=None,\n",
       "             colsample_bylevel=None, colsample_bynode=None,\n",
       "             colsample_bytree=None, device=None, early_stopping_rounds=None,\n",
       "             enable_categorical=False, eval_metric=None, feature_types=None,\n",
       "             gamma=None, grow_policy=None, importance_type=None,\n",
       "             interaction_constraints=None, learning_rate=0.1, max_bin=None,\n",
       "             max_cat_threshold=None, max_cat_to_onehot=None,\n",
       "             max_delta_step=None, max_depth=6, max_leaves=None,\n",
       "             min_child_weight=None, missing=nan, monotone_constraints=None,\n",
       "             multi_strategy=None, n_estimators=300, n_jobs=None,\n",
       "             num_parallel_tree=None, random_state=123, ...)"
      ]
     },
     "execution_count": 299,
     "metadata": {},
     "output_type": "execute_result"
    }
   ],
   "source": [
    "xg_reg.fit(X_train,y_train)"
   ]
  },
  {
   "cell_type": "markdown",
   "metadata": {},
   "source": [
    "### Predicting the test set"
   ]
  },
  {
   "cell_type": "code",
   "execution_count": 301,
   "metadata": {},
   "outputs": [
    {
     "data": {
      "text/plain": [
       "array([  987.47534,  1132.9198 ,  2852.219  , ..., 13144.277  ,\n",
       "         634.3306 ,  2212.634  ], dtype=float32)"
      ]
     },
     "execution_count": 301,
     "metadata": {},
     "output_type": "execute_result"
    }
   ],
   "source": [
    "xg_reg.predict(X_test)"
   ]
  },
  {
   "cell_type": "code",
   "execution_count": 302,
   "metadata": {},
   "outputs": [
    {
     "data": {
      "text/plain": [
       "668.8212831166973"
      ]
     },
     "execution_count": 302,
     "metadata": {},
     "output_type": "execute_result"
    }
   ],
   "source": [
    "mean_absolute_error(y_true = y_test, y_pred = xg_reg.predict(X_test))"
   ]
  },
  {
   "cell_type": "code",
   "execution_count": 303,
   "metadata": {},
   "outputs": [
    {
     "data": {
      "text/plain": [
       "0.13292344035696627"
      ]
     },
     "execution_count": 303,
     "metadata": {},
     "output_type": "execute_result"
    }
   ],
   "source": [
    "mean_absolute_percentage_error(y_true = y_test, y_pred = xg_reg.predict(X_test))"
   ]
  },
  {
   "cell_type": "code",
   "execution_count": 304,
   "metadata": {},
   "outputs": [],
   "source": [
    "x_ax = range(len(y_test))"
   ]
  },
  {
   "cell_type": "code",
   "execution_count": 305,
   "metadata": {},
   "outputs": [
    {
     "data": {
      "image/png": "[encoded data removed]",
      "text/plain": [
       "<Figure size 640x480 with 1 Axes>"
      ]
     },
     "metadata": {},
     "output_type": "display_data"
    }
   ],
   "source": [
    "plt.plot(x_ax,y_test, label=\"Original values\")\n",
    "plt.plot(x_ax,xg_reg.predict(X_test), label=\"Predicted values\")\n",
    "plt.title(\"Original and Predicted Values\")\n",
    "plt.xlabel(\"Index\")\n",
    "plt.ylabel(\"Sales Price\")\n",
    "plt.legend()\n",
    "plt.show()"
   ]
  }
 ],
 "metadata": {
  "kernelspec": {
   "display_name": "Python 3",
   "language": "python",
   "name": "python3"
  },
  "language_info": {
   "codemirror_mode": {
    "name": "ipython",
    "version": 3
   },
   "file_extension": ".py",
   "mimetype": "text/x-python",
   "name": "python",
   "nbconvert_exporter": "python",
   "pygments_lexer": "ipython3",
   "version": "3.11.0"
  }
 },
 "nbformat": 4,
 "nbformat_minor": 2
}
