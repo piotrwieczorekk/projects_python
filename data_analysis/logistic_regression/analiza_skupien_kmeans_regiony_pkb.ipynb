{
 "cells": [
  {
   "cell_type": "code",
   "execution_count": 1,
   "metadata": {},
   "outputs": [],
   "source": [
    "import pandas as pd\n",
    "from sklearn.preprocessing import StandardScaler\n",
    "from scipy.cluster.hierarchy import linkage,dendrogram,cut_tree, set_link_color_palette\n",
    "from sklearn.cluster import AgglomerativeClustering\n",
    "import matplotlib.pyplot as plt\n",
    "from sklearn.cluster import KMeans\n",
    "from sklearn.decomposition import PCA"
   ]
  },
  {
   "cell_type": "code",
   "execution_count": 2,
   "metadata": {},
   "outputs": [],
   "source": [
    "df = pd.read_csv('Dane_projekt.csv')"
   ]
  },
  {
   "cell_type": "code",
   "execution_count": 3,
   "metadata": {},
   "outputs": [
    {
     "data": {
      "text/plain": [
       "array(['Africa', 'South Asia', 'East and Southeast Asia', 'Middle East',\n",
       "       'Australia and Oceania', 'Central Asia',\n",
       "       'Central America and the Caribbean', 'South America', 'Europe',\n",
       "       'North America'], dtype=object)"
      ]
     },
     "execution_count": 3,
     "metadata": {},
     "output_type": "execute_result"
    }
   ],
   "source": [
    "df['region'].unique()"
   ]
  },
  {
   "cell_type": "code",
   "execution_count": 4,
   "metadata": {},
   "outputs": [],
   "source": [
    "df_regions = df[df['region'].isin(['Europe','Central America and the Caribbean','South America','Africa'])]"
   ]
  },
  {
   "cell_type": "code",
   "execution_count": 5,
   "metadata": {},
   "outputs": [
    {
     "data": {
      "text/html": [
       "<div>\n",
       "<style scoped>\n",
       "    .dataframe tbody tr th:only-of-type {\n",
       "        vertical-align: middle;\n",
       "    }\n",
       "\n",
       "    .dataframe tbody tr th {\n",
       "        vertical-align: top;\n",
       "    }\n",
       "\n",
       "    .dataframe thead th {\n",
       "        text-align: right;\n",
       "    }\n",
       "</style>\n",
       "<table border=\"1\" class=\"dataframe\">\n",
       "  <thead>\n",
       "    <tr style=\"text-align: right;\">\n",
       "      <th></th>\n",
       "      <th>Country</th>\n",
       "      <th>Total fertility rate</th>\n",
       "      <th>region</th>\n",
       "      <th>Median age</th>\n",
       "      <th>Life expectancy at birth</th>\n",
       "      <th>Income Gini index</th>\n",
       "      <th>Wealth Gini Index</th>\n",
       "      <th>Age at first mariage (men)</th>\n",
       "      <th>Age at first mariage (women)</th>\n",
       "      <th>Urbanisation in %</th>\n",
       "      <th>LDI</th>\n",
       "      <th>Mean BMI Men</th>\n",
       "      <th>Mean BMI women</th>\n",
       "      <th>Mean Age Childbearing</th>\n",
       "    </tr>\n",
       "  </thead>\n",
       "  <tbody>\n",
       "    <tr>\n",
       "      <th>0</th>\n",
       "      <td>Niger</td>\n",
       "      <td>6.73</td>\n",
       "      <td>Africa</td>\n",
       "      <td>14.8</td>\n",
       "      <td>60.48</td>\n",
       "      <td>37.3</td>\n",
       "      <td>0.682</td>\n",
       "      <td>24.0</td>\n",
       "      <td>17.2</td>\n",
       "      <td>16.751</td>\n",
       "      <td>0.646</td>\n",
       "      <td>21.458482</td>\n",
       "      <td>22.383247</td>\n",
       "      <td>29.118</td>\n",
       "    </tr>\n",
       "    <tr>\n",
       "      <th>1</th>\n",
       "      <td>Angola</td>\n",
       "      <td>5.76</td>\n",
       "      <td>Africa</td>\n",
       "      <td>15.9</td>\n",
       "      <td>62.51</td>\n",
       "      <td>51.3</td>\n",
       "      <td>0.731</td>\n",
       "      <td>24.7</td>\n",
       "      <td>21.4</td>\n",
       "      <td>67.460</td>\n",
       "      <td>0.901</td>\n",
       "      <td>22.436538</td>\n",
       "      <td>24.376501</td>\n",
       "      <td>28.870</td>\n",
       "    </tr>\n",
       "    <tr>\n",
       "      <th>2</th>\n",
       "      <td>DR Congo</td>\n",
       "      <td>5.56</td>\n",
       "      <td>Africa</td>\n",
       "      <td>16.7</td>\n",
       "      <td>62.23</td>\n",
       "      <td>42.1</td>\n",
       "      <td>0.755</td>\n",
       "      <td>24.2</td>\n",
       "      <td>19.0</td>\n",
       "      <td>46.235</td>\n",
       "      <td>0.948</td>\n",
       "      <td>21.443568</td>\n",
       "      <td>22.708692</td>\n",
       "      <td>29.928</td>\n",
       "    </tr>\n",
       "    <tr>\n",
       "      <th>3</th>\n",
       "      <td>Mali</td>\n",
       "      <td>5.45</td>\n",
       "      <td>Africa</td>\n",
       "      <td>16.0</td>\n",
       "      <td>62.81</td>\n",
       "      <td>36.1</td>\n",
       "      <td>0.707</td>\n",
       "      <td>25.8</td>\n",
       "      <td>18.8</td>\n",
       "      <td>44.677</td>\n",
       "      <td>0.876</td>\n",
       "      <td>22.999918</td>\n",
       "      <td>23.182216</td>\n",
       "      <td>28.936</td>\n",
       "    </tr>\n",
       "    <tr>\n",
       "      <th>4</th>\n",
       "      <td>Benin</td>\n",
       "      <td>5.39</td>\n",
       "      <td>Africa</td>\n",
       "      <td>17.0</td>\n",
       "      <td>62.60</td>\n",
       "      <td>37.8</td>\n",
       "      <td>0.707</td>\n",
       "      <td>23.8</td>\n",
       "      <td>18.7</td>\n",
       "      <td>48.972</td>\n",
       "      <td>0.785</td>\n",
       "      <td>22.666707</td>\n",
       "      <td>24.579594</td>\n",
       "      <td>29.149</td>\n",
       "    </tr>\n",
       "    <tr>\n",
       "      <th>...</th>\n",
       "      <td>...</td>\n",
       "      <td>...</td>\n",
       "      <td>...</td>\n",
       "      <td>...</td>\n",
       "      <td>...</td>\n",
       "      <td>...</td>\n",
       "      <td>...</td>\n",
       "      <td>...</td>\n",
       "      <td>...</td>\n",
       "      <td>...</td>\n",
       "      <td>...</td>\n",
       "      <td>...</td>\n",
       "      <td>...</td>\n",
       "      <td>...</td>\n",
       "    </tr>\n",
       "    <tr>\n",
       "      <th>139</th>\n",
       "      <td>Greece</td>\n",
       "      <td>1.40</td>\n",
       "      <td>Europe</td>\n",
       "      <td>45.3</td>\n",
       "      <td>81.71</td>\n",
       "      <td>33.1</td>\n",
       "      <td>0.654</td>\n",
       "      <td>32.9</td>\n",
       "      <td>30.1</td>\n",
       "      <td>80.038</td>\n",
       "      <td>0.175</td>\n",
       "      <td>27.656249</td>\n",
       "      <td>26.915742</td>\n",
       "      <td>31.535</td>\n",
       "    </tr>\n",
       "    <tr>\n",
       "      <th>141</th>\n",
       "      <td>Bosnia and Herzegovina</td>\n",
       "      <td>1.37</td>\n",
       "      <td>Europe</td>\n",
       "      <td>43.3</td>\n",
       "      <td>78.22</td>\n",
       "      <td>33.0</td>\n",
       "      <td>0.642</td>\n",
       "      <td>29.5</td>\n",
       "      <td>26.8</td>\n",
       "      <td>49.425</td>\n",
       "      <td>0.416</td>\n",
       "      <td>26.530714</td>\n",
       "      <td>25.340139</td>\n",
       "      <td>29.080</td>\n",
       "    </tr>\n",
       "    <tr>\n",
       "      <th>142</th>\n",
       "      <td>Mauritius</td>\n",
       "      <td>1.35</td>\n",
       "      <td>Africa</td>\n",
       "      <td>36.3</td>\n",
       "      <td>75.13</td>\n",
       "      <td>36.8</td>\n",
       "      <td>0.662</td>\n",
       "      <td>29.8</td>\n",
       "      <td>25.4</td>\n",
       "      <td>40.775</td>\n",
       "      <td>0.641</td>\n",
       "      <td>24.670173</td>\n",
       "      <td>26.066932</td>\n",
       "      <td>28.760</td>\n",
       "    </tr>\n",
       "    <tr>\n",
       "      <th>143</th>\n",
       "      <td>Spain</td>\n",
       "      <td>1.29</td>\n",
       "      <td>Europe</td>\n",
       "      <td>43.9</td>\n",
       "      <td>82.78</td>\n",
       "      <td>34.3</td>\n",
       "      <td>0.694</td>\n",
       "      <td>35.6</td>\n",
       "      <td>33.6</td>\n",
       "      <td>81.056</td>\n",
       "      <td>0.438</td>\n",
       "      <td>27.162678</td>\n",
       "      <td>24.929999</td>\n",
       "      <td>32.130</td>\n",
       "    </tr>\n",
       "    <tr>\n",
       "      <th>144</th>\n",
       "      <td>Italy</td>\n",
       "      <td>1.24</td>\n",
       "      <td>Europe</td>\n",
       "      <td>46.5</td>\n",
       "      <td>82.79</td>\n",
       "      <td>35.2</td>\n",
       "      <td>0.669</td>\n",
       "      <td>33.7</td>\n",
       "      <td>31.5</td>\n",
       "      <td>71.346</td>\n",
       "      <td>0.593</td>\n",
       "      <td>26.648903</td>\n",
       "      <td>24.857621</td>\n",
       "      <td>31.951</td>\n",
       "    </tr>\n",
       "  </tbody>\n",
       "</table>\n",
       "<p>99 rows × 14 columns</p>\n",
       "</div>"
      ],
      "text/plain": [
       "                    Country  Total fertility rate  region  Median age  \\\n",
       "0                     Niger                  6.73  Africa        14.8   \n",
       "1                    Angola                  5.76  Africa        15.9   \n",
       "2                  DR Congo                  5.56  Africa        16.7   \n",
       "3                      Mali                  5.45  Africa        16.0   \n",
       "4                     Benin                  5.39  Africa        17.0   \n",
       "..                      ...                   ...     ...         ...   \n",
       "139                  Greece                  1.40  Europe        45.3   \n",
       "141  Bosnia and Herzegovina                  1.37  Europe        43.3   \n",
       "142               Mauritius                  1.35  Africa        36.3   \n",
       "143                   Spain                  1.29  Europe        43.9   \n",
       "144                   Italy                  1.24  Europe        46.5   \n",
       "\n",
       "     Life expectancy at birth  Income Gini index  Wealth Gini Index  \\\n",
       "0                       60.48               37.3              0.682   \n",
       "1                       62.51               51.3              0.731   \n",
       "2                       62.23               42.1              0.755   \n",
       "3                       62.81               36.1              0.707   \n",
       "4                       62.60               37.8              0.707   \n",
       "..                        ...                ...                ...   \n",
       "139                     81.71               33.1              0.654   \n",
       "141                     78.22               33.0              0.642   \n",
       "142                     75.13               36.8              0.662   \n",
       "143                     82.78               34.3              0.694   \n",
       "144                     82.79               35.2              0.669   \n",
       "\n",
       "     Age at first mariage (men)  Age at first mariage (women)  \\\n",
       "0                          24.0                          17.2   \n",
       "1                          24.7                          21.4   \n",
       "2                          24.2                          19.0   \n",
       "3                          25.8                          18.8   \n",
       "4                          23.8                          18.7   \n",
       "..                          ...                           ...   \n",
       "139                        32.9                          30.1   \n",
       "141                        29.5                          26.8   \n",
       "142                        29.8                          25.4   \n",
       "143                        35.6                          33.6   \n",
       "144                        33.7                          31.5   \n",
       "\n",
       "     Urbanisation in %    LDI  Mean BMI Men  Mean BMI women  \\\n",
       "0               16.751  0.646     21.458482       22.383247   \n",
       "1               67.460  0.901     22.436538       24.376501   \n",
       "2               46.235  0.948     21.443568       22.708692   \n",
       "3               44.677  0.876     22.999918       23.182216   \n",
       "4               48.972  0.785     22.666707       24.579594   \n",
       "..                 ...    ...           ...             ...   \n",
       "139             80.038  0.175     27.656249       26.915742   \n",
       "141             49.425  0.416     26.530714       25.340139   \n",
       "142             40.775  0.641     24.670173       26.066932   \n",
       "143             81.056  0.438     27.162678       24.929999   \n",
       "144             71.346  0.593     26.648903       24.857621   \n",
       "\n",
       "     Mean Age Childbearing  \n",
       "0                   29.118  \n",
       "1                   28.870  \n",
       "2                   29.928  \n",
       "3                   28.936  \n",
       "4                   29.149  \n",
       "..                     ...  \n",
       "139                 31.535  \n",
       "141                 29.080  \n",
       "142                 28.760  \n",
       "143                 32.130  \n",
       "144                 31.951  \n",
       "\n",
       "[99 rows x 14 columns]"
      ]
     },
     "execution_count": 5,
     "metadata": {},
     "output_type": "execute_result"
    }
   ],
   "source": [
    "df_regions"
   ]
  },
  {
   "cell_type": "code",
   "execution_count": 6,
   "metadata": {},
   "outputs": [
    {
     "data": {
      "text/plain": [
       "(99, 14)"
      ]
     },
     "execution_count": 6,
     "metadata": {},
     "output_type": "execute_result"
    }
   ],
   "source": [
    "df_regions.shape"
   ]
  },
  {
   "cell_type": "code",
   "execution_count": 7,
   "metadata": {},
   "outputs": [],
   "source": [
    "df_gdp = pd.read_excel('gdpcapita.xlsx')"
   ]
  },
  {
   "cell_type": "code",
   "execution_count": 8,
   "metadata": {},
   "outputs": [
    {
     "data": {
      "text/html": [
       "<div>\n",
       "<style scoped>\n",
       "    .dataframe tbody tr th:only-of-type {\n",
       "        vertical-align: middle;\n",
       "    }\n",
       "\n",
       "    .dataframe tbody tr th {\n",
       "        vertical-align: top;\n",
       "    }\n",
       "\n",
       "    .dataframe thead th {\n",
       "        text-align: right;\n",
       "    }\n",
       "</style>\n",
       "<table border=\"1\" class=\"dataframe\">\n",
       "  <thead>\n",
       "    <tr style=\"text-align: right;\">\n",
       "      <th></th>\n",
       "      <th>Country</th>\n",
       "      <th>gdp_capita</th>\n",
       "    </tr>\n",
       "  </thead>\n",
       "  <tbody>\n",
       "    <tr>\n",
       "      <th>0</th>\n",
       "      <td>Albania</td>\n",
       "      <td>6492.87</td>\n",
       "    </tr>\n",
       "    <tr>\n",
       "      <th>1</th>\n",
       "      <td>Austria</td>\n",
       "      <td>53637.71</td>\n",
       "    </tr>\n",
       "    <tr>\n",
       "      <th>2</th>\n",
       "      <td>Belarus</td>\n",
       "      <td>7302.26</td>\n",
       "    </tr>\n",
       "    <tr>\n",
       "      <th>3</th>\n",
       "      <td>Belgium</td>\n",
       "      <td>51247.02</td>\n",
       "    </tr>\n",
       "    <tr>\n",
       "      <th>4</th>\n",
       "      <td>Bosnia and Herzegovina</td>\n",
       "      <td>7143.31</td>\n",
       "    </tr>\n",
       "    <tr>\n",
       "      <th>...</th>\n",
       "      <td>...</td>\n",
       "      <td>...</td>\n",
       "    </tr>\n",
       "    <tr>\n",
       "      <th>104</th>\n",
       "      <td>Togo</td>\n",
       "      <td>973.21</td>\n",
       "    </tr>\n",
       "    <tr>\n",
       "      <th>105</th>\n",
       "      <td>Tunisia</td>\n",
       "      <td>3807.14</td>\n",
       "    </tr>\n",
       "    <tr>\n",
       "      <th>106</th>\n",
       "      <td>Uganda</td>\n",
       "      <td>883.89</td>\n",
       "    </tr>\n",
       "    <tr>\n",
       "      <th>107</th>\n",
       "      <td>Zambia</td>\n",
       "      <td>1137.34</td>\n",
       "    </tr>\n",
       "    <tr>\n",
       "      <th>108</th>\n",
       "      <td>Zimbabwe</td>\n",
       "      <td>1773.92</td>\n",
       "    </tr>\n",
       "  </tbody>\n",
       "</table>\n",
       "<p>109 rows × 2 columns</p>\n",
       "</div>"
      ],
      "text/plain": [
       "                    Country  gdp_capita\n",
       "0                   Albania     6492.87\n",
       "1                   Austria    53637.71\n",
       "2                   Belarus     7302.26\n",
       "3                   Belgium    51247.02\n",
       "4    Bosnia and Herzegovina     7143.31\n",
       "..                      ...         ...\n",
       "104                    Togo      973.21\n",
       "105                 Tunisia     3807.14\n",
       "106                  Uganda      883.89\n",
       "107                  Zambia     1137.34\n",
       "108                Zimbabwe     1773.92\n",
       "\n",
       "[109 rows x 2 columns]"
      ]
     },
     "execution_count": 8,
     "metadata": {},
     "output_type": "execute_result"
    }
   ],
   "source": [
    "df_gdp"
   ]
  },
  {
   "cell_type": "code",
   "execution_count": 9,
   "metadata": {},
   "outputs": [
    {
     "data": {
      "text/plain": [
       "Country        object\n",
       "gdp_capita    float64\n",
       "dtype: object"
      ]
     },
     "execution_count": 9,
     "metadata": {},
     "output_type": "execute_result"
    }
   ],
   "source": [
    "df_gdp.dtypes"
   ]
  },
  {
   "cell_type": "code",
   "execution_count": 10,
   "metadata": {},
   "outputs": [],
   "source": [
    "df_regions=pd.merge(df_regions, df_gdp, on=['Country'], how=\"inner\")"
   ]
  },
  {
   "cell_type": "code",
   "execution_count": 11,
   "metadata": {},
   "outputs": [
    {
     "data": {
      "text/plain": [
       "(96, 15)"
      ]
     },
     "execution_count": 11,
     "metadata": {},
     "output_type": "execute_result"
    }
   ],
   "source": [
    "df_regions.shape"
   ]
  },
  {
   "cell_type": "code",
   "execution_count": 12,
   "metadata": {},
   "outputs": [
    {
     "data": {
      "text/html": [
       "<div>\n",
       "<style scoped>\n",
       "    .dataframe tbody tr th:only-of-type {\n",
       "        vertical-align: middle;\n",
       "    }\n",
       "\n",
       "    .dataframe tbody tr th {\n",
       "        vertical-align: top;\n",
       "    }\n",
       "\n",
       "    .dataframe thead th {\n",
       "        text-align: right;\n",
       "    }\n",
       "</style>\n",
       "<table border=\"1\" class=\"dataframe\">\n",
       "  <thead>\n",
       "    <tr style=\"text-align: right;\">\n",
       "      <th></th>\n",
       "      <th>Country</th>\n",
       "      <th>Total fertility rate</th>\n",
       "      <th>region</th>\n",
       "      <th>Median age</th>\n",
       "      <th>Life expectancy at birth</th>\n",
       "      <th>Income Gini index</th>\n",
       "      <th>Wealth Gini Index</th>\n",
       "      <th>Age at first mariage (men)</th>\n",
       "      <th>Age at first mariage (women)</th>\n",
       "      <th>Urbanisation in %</th>\n",
       "      <th>LDI</th>\n",
       "      <th>Mean BMI Men</th>\n",
       "      <th>Mean BMI women</th>\n",
       "      <th>Mean Age Childbearing</th>\n",
       "      <th>gdp_capita</th>\n",
       "    </tr>\n",
       "  </thead>\n",
       "  <tbody>\n",
       "    <tr>\n",
       "      <th>0</th>\n",
       "      <td>Niger</td>\n",
       "      <td>6.73</td>\n",
       "      <td>Africa</td>\n",
       "      <td>14.8</td>\n",
       "      <td>60.48</td>\n",
       "      <td>37.3</td>\n",
       "      <td>0.682</td>\n",
       "      <td>24.0</td>\n",
       "      <td>17.2</td>\n",
       "      <td>16.751</td>\n",
       "      <td>0.646</td>\n",
       "      <td>21.458482</td>\n",
       "      <td>22.383247</td>\n",
       "      <td>29.118</td>\n",
       "      <td>590.63</td>\n",
       "    </tr>\n",
       "    <tr>\n",
       "      <th>1</th>\n",
       "      <td>Angola</td>\n",
       "      <td>5.76</td>\n",
       "      <td>Africa</td>\n",
       "      <td>15.9</td>\n",
       "      <td>62.51</td>\n",
       "      <td>51.3</td>\n",
       "      <td>0.731</td>\n",
       "      <td>24.7</td>\n",
       "      <td>21.4</td>\n",
       "      <td>67.460</td>\n",
       "      <td>0.901</td>\n",
       "      <td>22.436538</td>\n",
       "      <td>24.376501</td>\n",
       "      <td>28.870</td>\n",
       "      <td>1953.53</td>\n",
       "    </tr>\n",
       "    <tr>\n",
       "      <th>2</th>\n",
       "      <td>DR Congo</td>\n",
       "      <td>5.56</td>\n",
       "      <td>Africa</td>\n",
       "      <td>16.7</td>\n",
       "      <td>62.23</td>\n",
       "      <td>42.1</td>\n",
       "      <td>0.755</td>\n",
       "      <td>24.2</td>\n",
       "      <td>19.0</td>\n",
       "      <td>46.235</td>\n",
       "      <td>0.948</td>\n",
       "      <td>21.443568</td>\n",
       "      <td>22.708692</td>\n",
       "      <td>29.928</td>\n",
       "      <td>577.21</td>\n",
       "    </tr>\n",
       "    <tr>\n",
       "      <th>3</th>\n",
       "      <td>Mali</td>\n",
       "      <td>5.45</td>\n",
       "      <td>Africa</td>\n",
       "      <td>16.0</td>\n",
       "      <td>62.81</td>\n",
       "      <td>36.1</td>\n",
       "      <td>0.707</td>\n",
       "      <td>25.8</td>\n",
       "      <td>18.8</td>\n",
       "      <td>44.677</td>\n",
       "      <td>0.876</td>\n",
       "      <td>22.999918</td>\n",
       "      <td>23.182216</td>\n",
       "      <td>28.936</td>\n",
       "      <td>873.79</td>\n",
       "    </tr>\n",
       "    <tr>\n",
       "      <th>4</th>\n",
       "      <td>Benin</td>\n",
       "      <td>5.39</td>\n",
       "      <td>Africa</td>\n",
       "      <td>17.0</td>\n",
       "      <td>62.60</td>\n",
       "      <td>37.8</td>\n",
       "      <td>0.707</td>\n",
       "      <td>23.8</td>\n",
       "      <td>18.7</td>\n",
       "      <td>48.972</td>\n",
       "      <td>0.785</td>\n",
       "      <td>22.666707</td>\n",
       "      <td>24.579594</td>\n",
       "      <td>29.149</td>\n",
       "      <td>1319.16</td>\n",
       "    </tr>\n",
       "    <tr>\n",
       "      <th>...</th>\n",
       "      <td>...</td>\n",
       "      <td>...</td>\n",
       "      <td>...</td>\n",
       "      <td>...</td>\n",
       "      <td>...</td>\n",
       "      <td>...</td>\n",
       "      <td>...</td>\n",
       "      <td>...</td>\n",
       "      <td>...</td>\n",
       "      <td>...</td>\n",
       "      <td>...</td>\n",
       "      <td>...</td>\n",
       "      <td>...</td>\n",
       "      <td>...</td>\n",
       "      <td>...</td>\n",
       "    </tr>\n",
       "    <tr>\n",
       "      <th>91</th>\n",
       "      <td>Greece</td>\n",
       "      <td>1.40</td>\n",
       "      <td>Europe</td>\n",
       "      <td>45.3</td>\n",
       "      <td>81.71</td>\n",
       "      <td>33.1</td>\n",
       "      <td>0.654</td>\n",
       "      <td>32.9</td>\n",
       "      <td>30.1</td>\n",
       "      <td>80.038</td>\n",
       "      <td>0.175</td>\n",
       "      <td>27.656249</td>\n",
       "      <td>26.915742</td>\n",
       "      <td>31.535</td>\n",
       "      <td>20192.60</td>\n",
       "    </tr>\n",
       "    <tr>\n",
       "      <th>92</th>\n",
       "      <td>Bosnia and Herzegovina</td>\n",
       "      <td>1.37</td>\n",
       "      <td>Europe</td>\n",
       "      <td>43.3</td>\n",
       "      <td>78.22</td>\n",
       "      <td>33.0</td>\n",
       "      <td>0.642</td>\n",
       "      <td>29.5</td>\n",
       "      <td>26.8</td>\n",
       "      <td>49.425</td>\n",
       "      <td>0.416</td>\n",
       "      <td>26.530714</td>\n",
       "      <td>25.340139</td>\n",
       "      <td>29.080</td>\n",
       "      <td>7143.31</td>\n",
       "    </tr>\n",
       "    <tr>\n",
       "      <th>93</th>\n",
       "      <td>Mauritius</td>\n",
       "      <td>1.35</td>\n",
       "      <td>Africa</td>\n",
       "      <td>36.3</td>\n",
       "      <td>75.13</td>\n",
       "      <td>36.8</td>\n",
       "      <td>0.662</td>\n",
       "      <td>29.8</td>\n",
       "      <td>25.4</td>\n",
       "      <td>40.775</td>\n",
       "      <td>0.641</td>\n",
       "      <td>24.670173</td>\n",
       "      <td>26.066932</td>\n",
       "      <td>28.760</td>\n",
       "      <td>9106.24</td>\n",
       "    </tr>\n",
       "    <tr>\n",
       "      <th>94</th>\n",
       "      <td>Spain</td>\n",
       "      <td>1.29</td>\n",
       "      <td>Europe</td>\n",
       "      <td>43.9</td>\n",
       "      <td>82.78</td>\n",
       "      <td>34.3</td>\n",
       "      <td>0.694</td>\n",
       "      <td>35.6</td>\n",
       "      <td>33.6</td>\n",
       "      <td>81.056</td>\n",
       "      <td>0.438</td>\n",
       "      <td>27.162678</td>\n",
       "      <td>24.929999</td>\n",
       "      <td>32.130</td>\n",
       "      <td>30103.51</td>\n",
       "    </tr>\n",
       "    <tr>\n",
       "      <th>95</th>\n",
       "      <td>Italy</td>\n",
       "      <td>1.24</td>\n",
       "      <td>Europe</td>\n",
       "      <td>46.5</td>\n",
       "      <td>82.79</td>\n",
       "      <td>35.2</td>\n",
       "      <td>0.669</td>\n",
       "      <td>33.7</td>\n",
       "      <td>31.5</td>\n",
       "      <td>71.346</td>\n",
       "      <td>0.593</td>\n",
       "      <td>26.648903</td>\n",
       "      <td>24.857621</td>\n",
       "      <td>31.951</td>\n",
       "      <td>35657.50</td>\n",
       "    </tr>\n",
       "  </tbody>\n",
       "</table>\n",
       "<p>96 rows × 15 columns</p>\n",
       "</div>"
      ],
      "text/plain": [
       "                   Country  Total fertility rate  region  Median age  \\\n",
       "0                    Niger                  6.73  Africa        14.8   \n",
       "1                   Angola                  5.76  Africa        15.9   \n",
       "2                 DR Congo                  5.56  Africa        16.7   \n",
       "3                     Mali                  5.45  Africa        16.0   \n",
       "4                    Benin                  5.39  Africa        17.0   \n",
       "..                     ...                   ...     ...         ...   \n",
       "91                  Greece                  1.40  Europe        45.3   \n",
       "92  Bosnia and Herzegovina                  1.37  Europe        43.3   \n",
       "93               Mauritius                  1.35  Africa        36.3   \n",
       "94                   Spain                  1.29  Europe        43.9   \n",
       "95                   Italy                  1.24  Europe        46.5   \n",
       "\n",
       "    Life expectancy at birth  Income Gini index  Wealth Gini Index  \\\n",
       "0                      60.48               37.3              0.682   \n",
       "1                      62.51               51.3              0.731   \n",
       "2                      62.23               42.1              0.755   \n",
       "3                      62.81               36.1              0.707   \n",
       "4                      62.60               37.8              0.707   \n",
       "..                       ...                ...                ...   \n",
       "91                     81.71               33.1              0.654   \n",
       "92                     78.22               33.0              0.642   \n",
       "93                     75.13               36.8              0.662   \n",
       "94                     82.78               34.3              0.694   \n",
       "95                     82.79               35.2              0.669   \n",
       "\n",
       "    Age at first mariage (men)  Age at first mariage (women)  \\\n",
       "0                         24.0                          17.2   \n",
       "1                         24.7                          21.4   \n",
       "2                         24.2                          19.0   \n",
       "3                         25.8                          18.8   \n",
       "4                         23.8                          18.7   \n",
       "..                         ...                           ...   \n",
       "91                        32.9                          30.1   \n",
       "92                        29.5                          26.8   \n",
       "93                        29.8                          25.4   \n",
       "94                        35.6                          33.6   \n",
       "95                        33.7                          31.5   \n",
       "\n",
       "    Urbanisation in %    LDI  Mean BMI Men  Mean BMI women  \\\n",
       "0              16.751  0.646     21.458482       22.383247   \n",
       "1              67.460  0.901     22.436538       24.376501   \n",
       "2              46.235  0.948     21.443568       22.708692   \n",
       "3              44.677  0.876     22.999918       23.182216   \n",
       "4              48.972  0.785     22.666707       24.579594   \n",
       "..                ...    ...           ...             ...   \n",
       "91             80.038  0.175     27.656249       26.915742   \n",
       "92             49.425  0.416     26.530714       25.340139   \n",
       "93             40.775  0.641     24.670173       26.066932   \n",
       "94             81.056  0.438     27.162678       24.929999   \n",
       "95             71.346  0.593     26.648903       24.857621   \n",
       "\n",
       "    Mean Age Childbearing  gdp_capita  \n",
       "0                  29.118      590.63  \n",
       "1                  28.870     1953.53  \n",
       "2                  29.928      577.21  \n",
       "3                  28.936      873.79  \n",
       "4                  29.149     1319.16  \n",
       "..                    ...         ...  \n",
       "91                 31.535    20192.60  \n",
       "92                 29.080     7143.31  \n",
       "93                 28.760     9106.24  \n",
       "94                 32.130    30103.51  \n",
       "95                 31.951    35657.50  \n",
       "\n",
       "[96 rows x 15 columns]"
      ]
     },
     "execution_count": 12,
     "metadata": {},
     "output_type": "execute_result"
    }
   ],
   "source": [
    "df_regions"
   ]
  },
  {
   "attachments": {},
   "cell_type": "markdown",
   "metadata": {},
   "source": [
    "Stracilismy 3 kraje, bo na poczatku bylo 99"
   ]
  },
  {
   "cell_type": "code",
   "execution_count": 13,
   "metadata": {},
   "outputs": [],
   "source": [
    "df_regions = df_regions.set_index('Country')"
   ]
  },
  {
   "cell_type": "code",
   "execution_count": 14,
   "metadata": {},
   "outputs": [
    {
     "data": {
      "text/html": [
       "<div>\n",
       "<style scoped>\n",
       "    .dataframe tbody tr th:only-of-type {\n",
       "        vertical-align: middle;\n",
       "    }\n",
       "\n",
       "    .dataframe tbody tr th {\n",
       "        vertical-align: top;\n",
       "    }\n",
       "\n",
       "    .dataframe thead th {\n",
       "        text-align: right;\n",
       "    }\n",
       "</style>\n",
       "<table border=\"1\" class=\"dataframe\">\n",
       "  <thead>\n",
       "    <tr style=\"text-align: right;\">\n",
       "      <th></th>\n",
       "      <th>Total fertility rate</th>\n",
       "      <th>region</th>\n",
       "      <th>Median age</th>\n",
       "      <th>Life expectancy at birth</th>\n",
       "      <th>Income Gini index</th>\n",
       "      <th>Wealth Gini Index</th>\n",
       "      <th>Age at first mariage (men)</th>\n",
       "      <th>Age at first mariage (women)</th>\n",
       "      <th>Urbanisation in %</th>\n",
       "      <th>LDI</th>\n",
       "      <th>Mean BMI Men</th>\n",
       "      <th>Mean BMI women</th>\n",
       "      <th>Mean Age Childbearing</th>\n",
       "      <th>gdp_capita</th>\n",
       "    </tr>\n",
       "    <tr>\n",
       "      <th>Country</th>\n",
       "      <th></th>\n",
       "      <th></th>\n",
       "      <th></th>\n",
       "      <th></th>\n",
       "      <th></th>\n",
       "      <th></th>\n",
       "      <th></th>\n",
       "      <th></th>\n",
       "      <th></th>\n",
       "      <th></th>\n",
       "      <th></th>\n",
       "      <th></th>\n",
       "      <th></th>\n",
       "      <th></th>\n",
       "    </tr>\n",
       "  </thead>\n",
       "  <tbody>\n",
       "    <tr>\n",
       "      <th>Niger</th>\n",
       "      <td>6.73</td>\n",
       "      <td>Africa</td>\n",
       "      <td>14.8</td>\n",
       "      <td>60.48</td>\n",
       "      <td>37.3</td>\n",
       "      <td>0.682</td>\n",
       "      <td>24.0</td>\n",
       "      <td>17.2</td>\n",
       "      <td>16.751</td>\n",
       "      <td>0.646</td>\n",
       "      <td>21.458482</td>\n",
       "      <td>22.383247</td>\n",
       "      <td>29.118</td>\n",
       "      <td>590.63</td>\n",
       "    </tr>\n",
       "    <tr>\n",
       "      <th>Angola</th>\n",
       "      <td>5.76</td>\n",
       "      <td>Africa</td>\n",
       "      <td>15.9</td>\n",
       "      <td>62.51</td>\n",
       "      <td>51.3</td>\n",
       "      <td>0.731</td>\n",
       "      <td>24.7</td>\n",
       "      <td>21.4</td>\n",
       "      <td>67.460</td>\n",
       "      <td>0.901</td>\n",
       "      <td>22.436538</td>\n",
       "      <td>24.376501</td>\n",
       "      <td>28.870</td>\n",
       "      <td>1953.53</td>\n",
       "    </tr>\n",
       "    <tr>\n",
       "      <th>DR Congo</th>\n",
       "      <td>5.56</td>\n",
       "      <td>Africa</td>\n",
       "      <td>16.7</td>\n",
       "      <td>62.23</td>\n",
       "      <td>42.1</td>\n",
       "      <td>0.755</td>\n",
       "      <td>24.2</td>\n",
       "      <td>19.0</td>\n",
       "      <td>46.235</td>\n",
       "      <td>0.948</td>\n",
       "      <td>21.443568</td>\n",
       "      <td>22.708692</td>\n",
       "      <td>29.928</td>\n",
       "      <td>577.21</td>\n",
       "    </tr>\n",
       "    <tr>\n",
       "      <th>Mali</th>\n",
       "      <td>5.45</td>\n",
       "      <td>Africa</td>\n",
       "      <td>16.0</td>\n",
       "      <td>62.81</td>\n",
       "      <td>36.1</td>\n",
       "      <td>0.707</td>\n",
       "      <td>25.8</td>\n",
       "      <td>18.8</td>\n",
       "      <td>44.677</td>\n",
       "      <td>0.876</td>\n",
       "      <td>22.999918</td>\n",
       "      <td>23.182216</td>\n",
       "      <td>28.936</td>\n",
       "      <td>873.79</td>\n",
       "    </tr>\n",
       "    <tr>\n",
       "      <th>Benin</th>\n",
       "      <td>5.39</td>\n",
       "      <td>Africa</td>\n",
       "      <td>17.0</td>\n",
       "      <td>62.60</td>\n",
       "      <td>37.8</td>\n",
       "      <td>0.707</td>\n",
       "      <td>23.8</td>\n",
       "      <td>18.7</td>\n",
       "      <td>48.972</td>\n",
       "      <td>0.785</td>\n",
       "      <td>22.666707</td>\n",
       "      <td>24.579594</td>\n",
       "      <td>29.149</td>\n",
       "      <td>1319.16</td>\n",
       "    </tr>\n",
       "  </tbody>\n",
       "</table>\n",
       "</div>"
      ],
      "text/plain": [
       "          Total fertility rate  region  Median age  Life expectancy at birth  \\\n",
       "Country                                                                        \n",
       "Niger                     6.73  Africa        14.8                     60.48   \n",
       "Angola                    5.76  Africa        15.9                     62.51   \n",
       "DR Congo                  5.56  Africa        16.7                     62.23   \n",
       "Mali                      5.45  Africa        16.0                     62.81   \n",
       "Benin                     5.39  Africa        17.0                     62.60   \n",
       "\n",
       "          Income Gini index  Wealth Gini Index  Age at first mariage (men)  \\\n",
       "Country                                                                      \n",
       "Niger                  37.3              0.682                        24.0   \n",
       "Angola                 51.3              0.731                        24.7   \n",
       "DR Congo               42.1              0.755                        24.2   \n",
       "Mali                   36.1              0.707                        25.8   \n",
       "Benin                  37.8              0.707                        23.8   \n",
       "\n",
       "          Age at first mariage (women)  Urbanisation in %    LDI  \\\n",
       "Country                                                            \n",
       "Niger                             17.2             16.751  0.646   \n",
       "Angola                            21.4             67.460  0.901   \n",
       "DR Congo                          19.0             46.235  0.948   \n",
       "Mali                              18.8             44.677  0.876   \n",
       "Benin                             18.7             48.972  0.785   \n",
       "\n",
       "          Mean BMI Men  Mean BMI women  Mean Age Childbearing  gdp_capita  \n",
       "Country                                                                    \n",
       "Niger        21.458482       22.383247                 29.118      590.63  \n",
       "Angola       22.436538       24.376501                 28.870     1953.53  \n",
       "DR Congo     21.443568       22.708692                 29.928      577.21  \n",
       "Mali         22.999918       23.182216                 28.936      873.79  \n",
       "Benin        22.666707       24.579594                 29.149     1319.16  "
      ]
     },
     "execution_count": 14,
     "metadata": {},
     "output_type": "execute_result"
    }
   ],
   "source": [
    "df_regions.head(5)"
   ]
  },
  {
   "cell_type": "code",
   "execution_count": 15,
   "metadata": {},
   "outputs": [],
   "source": [
    "df_regions = df_regions.loc[:,df_regions.columns.isin(['Total fertility rate','Age at first mariage (men)','Age at first mariage (women)','Mean Age Childbearing','Life expectancy at birth','gdp_capita'])]"
   ]
  },
  {
   "cell_type": "code",
   "execution_count": 16,
   "metadata": {},
   "outputs": [
    {
     "data": {
      "text/html": [
       "<div>\n",
       "<style scoped>\n",
       "    .dataframe tbody tr th:only-of-type {\n",
       "        vertical-align: middle;\n",
       "    }\n",
       "\n",
       "    .dataframe tbody tr th {\n",
       "        vertical-align: top;\n",
       "    }\n",
       "\n",
       "    .dataframe thead th {\n",
       "        text-align: right;\n",
       "    }\n",
       "</style>\n",
       "<table border=\"1\" class=\"dataframe\">\n",
       "  <thead>\n",
       "    <tr style=\"text-align: right;\">\n",
       "      <th></th>\n",
       "      <th>Total fertility rate</th>\n",
       "      <th>Life expectancy at birth</th>\n",
       "      <th>Age at first mariage (men)</th>\n",
       "      <th>Age at first mariage (women)</th>\n",
       "      <th>Mean Age Childbearing</th>\n",
       "      <th>gdp_capita</th>\n",
       "    </tr>\n",
       "    <tr>\n",
       "      <th>Country</th>\n",
       "      <th></th>\n",
       "      <th></th>\n",
       "      <th></th>\n",
       "      <th></th>\n",
       "      <th></th>\n",
       "      <th></th>\n",
       "    </tr>\n",
       "  </thead>\n",
       "  <tbody>\n",
       "    <tr>\n",
       "      <th>Niger</th>\n",
       "      <td>6.73</td>\n",
       "      <td>60.48</td>\n",
       "      <td>24.0</td>\n",
       "      <td>17.2</td>\n",
       "      <td>29.118</td>\n",
       "      <td>590.63</td>\n",
       "    </tr>\n",
       "    <tr>\n",
       "      <th>Angola</th>\n",
       "      <td>5.76</td>\n",
       "      <td>62.51</td>\n",
       "      <td>24.7</td>\n",
       "      <td>21.4</td>\n",
       "      <td>28.870</td>\n",
       "      <td>1953.53</td>\n",
       "    </tr>\n",
       "    <tr>\n",
       "      <th>DR Congo</th>\n",
       "      <td>5.56</td>\n",
       "      <td>62.23</td>\n",
       "      <td>24.2</td>\n",
       "      <td>19.0</td>\n",
       "      <td>29.928</td>\n",
       "      <td>577.21</td>\n",
       "    </tr>\n",
       "    <tr>\n",
       "      <th>Mali</th>\n",
       "      <td>5.45</td>\n",
       "      <td>62.81</td>\n",
       "      <td>25.8</td>\n",
       "      <td>18.8</td>\n",
       "      <td>28.936</td>\n",
       "      <td>873.79</td>\n",
       "    </tr>\n",
       "    <tr>\n",
       "      <th>Benin</th>\n",
       "      <td>5.39</td>\n",
       "      <td>62.60</td>\n",
       "      <td>23.8</td>\n",
       "      <td>18.7</td>\n",
       "      <td>29.149</td>\n",
       "      <td>1319.16</td>\n",
       "    </tr>\n",
       "  </tbody>\n",
       "</table>\n",
       "</div>"
      ],
      "text/plain": [
       "          Total fertility rate  Life expectancy at birth  \\\n",
       "Country                                                    \n",
       "Niger                     6.73                     60.48   \n",
       "Angola                    5.76                     62.51   \n",
       "DR Congo                  5.56                     62.23   \n",
       "Mali                      5.45                     62.81   \n",
       "Benin                     5.39                     62.60   \n",
       "\n",
       "          Age at first mariage (men)  Age at first mariage (women)  \\\n",
       "Country                                                              \n",
       "Niger                           24.0                          17.2   \n",
       "Angola                          24.7                          21.4   \n",
       "DR Congo                        24.2                          19.0   \n",
       "Mali                            25.8                          18.8   \n",
       "Benin                           23.8                          18.7   \n",
       "\n",
       "          Mean Age Childbearing  gdp_capita  \n",
       "Country                                      \n",
       "Niger                    29.118      590.63  \n",
       "Angola                   28.870     1953.53  \n",
       "DR Congo                 29.928      577.21  \n",
       "Mali                     28.936      873.79  \n",
       "Benin                    29.149     1319.16  "
      ]
     },
     "execution_count": 16,
     "metadata": {},
     "output_type": "execute_result"
    }
   ],
   "source": [
    "df_regions.head(5)"
   ]
  },
  {
   "attachments": {},
   "cell_type": "markdown",
   "metadata": {},
   "source": [
    "standaryzacja"
   ]
  },
  {
   "cell_type": "code",
   "execution_count": 17,
   "metadata": {},
   "outputs": [],
   "source": [
    "std_scaler = StandardScaler()\n",
    "df_regions_std = pd.DataFrame(std_scaler.fit_transform(df_regions),\n",
    "                               columns=df_regions.columns,\n",
    "                               index=df_regions.index)"
   ]
  },
  {
   "cell_type": "code",
   "execution_count": 18,
   "metadata": {},
   "outputs": [
    {
     "data": {
      "text/html": [
       "<div>\n",
       "<style scoped>\n",
       "    .dataframe tbody tr th:only-of-type {\n",
       "        vertical-align: middle;\n",
       "    }\n",
       "\n",
       "    .dataframe tbody tr th {\n",
       "        vertical-align: top;\n",
       "    }\n",
       "\n",
       "    .dataframe thead th {\n",
       "        text-align: right;\n",
       "    }\n",
       "</style>\n",
       "<table border=\"1\" class=\"dataframe\">\n",
       "  <thead>\n",
       "    <tr style=\"text-align: right;\">\n",
       "      <th></th>\n",
       "      <th>Total fertility rate</th>\n",
       "      <th>Life expectancy at birth</th>\n",
       "      <th>Age at first mariage (men)</th>\n",
       "      <th>Age at first mariage (women)</th>\n",
       "      <th>Mean Age Childbearing</th>\n",
       "      <th>gdp_capita</th>\n",
       "    </tr>\n",
       "    <tr>\n",
       "      <th>Country</th>\n",
       "      <th></th>\n",
       "      <th></th>\n",
       "      <th></th>\n",
       "      <th></th>\n",
       "      <th></th>\n",
       "      <th></th>\n",
       "    </tr>\n",
       "  </thead>\n",
       "  <tbody>\n",
       "    <tr>\n",
       "      <th>Niger</th>\n",
       "      <td>3.007347</td>\n",
       "      <td>-1.705117</td>\n",
       "      <td>-1.271729</td>\n",
       "      <td>-1.604212</td>\n",
       "      <td>-0.219715</td>\n",
       "      <td>-0.662812</td>\n",
       "    </tr>\n",
       "    <tr>\n",
       "      <th>Angola</th>\n",
       "      <td>2.286828</td>\n",
       "      <td>-1.433824</td>\n",
       "      <td>-1.098607</td>\n",
       "      <td>-0.782855</td>\n",
       "      <td>-0.398179</td>\n",
       "      <td>-0.608384</td>\n",
       "    </tr>\n",
       "    <tr>\n",
       "      <th>DR Congo</th>\n",
       "      <td>2.138268</td>\n",
       "      <td>-1.471244</td>\n",
       "      <td>-1.222266</td>\n",
       "      <td>-1.252202</td>\n",
       "      <td>0.363172</td>\n",
       "      <td>-0.663348</td>\n",
       "    </tr>\n",
       "    <tr>\n",
       "      <th>Mali</th>\n",
       "      <td>2.056559</td>\n",
       "      <td>-1.393731</td>\n",
       "      <td>-0.826557</td>\n",
       "      <td>-1.291314</td>\n",
       "      <td>-0.350684</td>\n",
       "      <td>-0.651504</td>\n",
       "    </tr>\n",
       "    <tr>\n",
       "      <th>Benin</th>\n",
       "      <td>2.011991</td>\n",
       "      <td>-1.421796</td>\n",
       "      <td>-1.321193</td>\n",
       "      <td>-1.310870</td>\n",
       "      <td>-0.197406</td>\n",
       "      <td>-0.633718</td>\n",
       "    </tr>\n",
       "  </tbody>\n",
       "</table>\n",
       "</div>"
      ],
      "text/plain": [
       "          Total fertility rate  Life expectancy at birth  \\\n",
       "Country                                                    \n",
       "Niger                 3.007347                 -1.705117   \n",
       "Angola                2.286828                 -1.433824   \n",
       "DR Congo              2.138268                 -1.471244   \n",
       "Mali                  2.056559                 -1.393731   \n",
       "Benin                 2.011991                 -1.421796   \n",
       "\n",
       "          Age at first mariage (men)  Age at first mariage (women)  \\\n",
       "Country                                                              \n",
       "Niger                      -1.271729                     -1.604212   \n",
       "Angola                     -1.098607                     -0.782855   \n",
       "DR Congo                   -1.222266                     -1.252202   \n",
       "Mali                       -0.826557                     -1.291314   \n",
       "Benin                      -1.321193                     -1.310870   \n",
       "\n",
       "          Mean Age Childbearing  gdp_capita  \n",
       "Country                                      \n",
       "Niger                 -0.219715   -0.662812  \n",
       "Angola                -0.398179   -0.608384  \n",
       "DR Congo               0.363172   -0.663348  \n",
       "Mali                  -0.350684   -0.651504  \n",
       "Benin                 -0.197406   -0.633718  "
      ]
     },
     "execution_count": 18,
     "metadata": {},
     "output_type": "execute_result"
    }
   ],
   "source": [
    "df_regions_std.head(5)"
   ]
  },
  {
   "attachments": {},
   "cell_type": "markdown",
   "metadata": {},
   "source": [
    "ta funkcja odpowiada za wykres"
   ]
  },
  {
   "cell_type": "code",
   "execution_count": 19,
   "metadata": {},
   "outputs": [],
   "source": [
    "def optimal_k_means(data,max_k):\n",
    "    means =[]\n",
    "    inertias = []\n",
    "    for k in range(1, max_k):\n",
    "        kmeans = KMeans(n_clusters=k)\n",
    "        kmeans.fit(data)\n",
    "        means.append(k)\n",
    "        inertias.append(kmeans.inertia_)\n",
    "    plt.plot(means,inertias,'o-')\n",
    "    plt.xlabel('n_clusters')\n",
    "    plt.ylabel('Inertia')\n",
    "    plt.show()"
   ]
  },
  {
   "cell_type": "code",
   "execution_count": 20,
   "metadata": {},
   "outputs": [
    {
     "data": {
      "image/png": "[encoded data removed]",
      "text/plain": [
       "<Figure size 640x480 with 1 Axes>"
      ]
     },
     "metadata": {},
     "output_type": "display_data"
    }
   ],
   "source": [
    "optimal_k_means(df_regions_std,10)"
   ]
  },
  {
   "attachments": {},
   "cell_type": "markdown",
   "metadata": {},
   "source": [
    "te init=random,random_state=15,n_init=20 wzialem z zajec i ufam ze to moze tak byc"
   ]
  },
  {
   "cell_type": "code",
   "execution_count": 21,
   "metadata": {},
   "outputs": [],
   "source": [
    "kmeans = KMeans(n_clusters=3,\n",
    "                init='random',\n",
    "                random_state=15,\n",
    "                n_init=20)"
   ]
  },
  {
   "cell_type": "code",
   "execution_count": 22,
   "metadata": {},
   "outputs": [],
   "source": [
    "results = kmeans.fit(df_regions_std)"
   ]
  },
  {
   "cell_type": "code",
   "execution_count": 23,
   "metadata": {},
   "outputs": [
    {
     "data": {
      "text/html": [
       "<style>#sk-container-id-1 {color: black;background-color: white;}#sk-container-id-1 pre{padding: 0;}#sk-container-id-1 div.sk-toggleable {background-color: white;}#sk-container-id-1 label.sk-toggleable__label {cursor: pointer;display: block;width: 100%;margin-bottom: 0;padding: 0.3em;box-sizing: border-box;text-align: center;}#sk-container-id-1 label.sk-toggleable__label-arrow:before {content: \"▸\";float: left;margin-right: 0.25em;color: #696969;}#sk-container-id-1 label.sk-toggleable__label-arrow:hover:before {color: black;}#sk-container-id-1 div.sk-estimator:hover label.sk-toggleable__label-arrow:before {color: black;}#sk-container-id-1 div.sk-toggleable__content {max-height: 0;max-width: 0;overflow: hidden;text-align: left;background-color: #f0f8ff;}#sk-container-id-1 div.sk-toggleable__content pre {margin: 0.2em;color: black;border-radius: 0.25em;background-color: #f0f8ff;}#sk-container-id-1 input.sk-toggleable__control:checked~div.sk-toggleable__content {max-height: 200px;max-width: 100%;overflow: auto;}#sk-container-id-1 input.sk-toggleable__control:checked~label.sk-toggleable__label-arrow:before {content: \"▾\";}#sk-container-id-1 div.sk-estimator input.sk-toggleable__control:checked~label.sk-toggleable__label {background-color: #d4ebff;}#sk-container-id-1 div.sk-label input.sk-toggleable__control:checked~label.sk-toggleable__label {background-color: #d4ebff;}#sk-container-id-1 input.sk-hidden--visually {border: 0;clip: rect(1px 1px 1px 1px);clip: rect(1px, 1px, 1px, 1px);height: 1px;margin: -1px;overflow: hidden;padding: 0;position: absolute;width: 1px;}#sk-container-id-1 div.sk-estimator {font-family: monospace;background-color: #f0f8ff;border: 1px dotted black;border-radius: 0.25em;box-sizing: border-box;margin-bottom: 0.5em;}#sk-container-id-1 div.sk-estimator:hover {background-color: #d4ebff;}#sk-container-id-1 div.sk-parallel-item::after {content: \"\";width: 100%;border-bottom: 1px solid gray;flex-grow: 1;}#sk-container-id-1 div.sk-label:hover label.sk-toggleable__label {background-color: #d4ebff;}#sk-container-id-1 div.sk-serial::before {content: \"\";position: absolute;border-left: 1px solid gray;box-sizing: border-box;top: 0;bottom: 0;left: 50%;z-index: 0;}#sk-container-id-1 div.sk-serial {display: flex;flex-direction: column;align-items: center;background-color: white;padding-right: 0.2em;padding-left: 0.2em;position: relative;}#sk-container-id-1 div.sk-item {position: relative;z-index: 1;}#sk-container-id-1 div.sk-parallel {display: flex;align-items: stretch;justify-content: center;background-color: white;position: relative;}#sk-container-id-1 div.sk-item::before, #sk-container-id-1 div.sk-parallel-item::before {content: \"\";position: absolute;border-left: 1px solid gray;box-sizing: border-box;top: 0;bottom: 0;left: 50%;z-index: -1;}#sk-container-id-1 div.sk-parallel-item {display: flex;flex-direction: column;z-index: 1;position: relative;background-color: white;}#sk-container-id-1 div.sk-parallel-item:first-child::after {align-self: flex-end;width: 50%;}#sk-container-id-1 div.sk-parallel-item:last-child::after {align-self: flex-start;width: 50%;}#sk-container-id-1 div.sk-parallel-item:only-child::after {width: 0;}#sk-container-id-1 div.sk-dashed-wrapped {border: 1px dashed gray;margin: 0 0.4em 0.5em 0.4em;box-sizing: border-box;padding-bottom: 0.4em;background-color: white;}#sk-container-id-1 div.sk-label label {font-family: monospace;font-weight: bold;display: inline-block;line-height: 1.2em;}#sk-container-id-1 div.sk-label-container {text-align: center;}#sk-container-id-1 div.sk-container {/* jupyter's `normalize.less` sets `[hidden] { display: none; }` but bootstrap.min.css set `[hidden] { display: none !important; }` so we also need the `!important` here to be able to override the default hidden behavior on the sphinx rendered scikit-learn.org. See: https://github.com/scikit-learn/scikit-learn/issues/21755 */display: inline-block !important;position: relative;}#sk-container-id-1 div.sk-text-repr-fallback {display: none;}</style><div id=\"sk-container-id-1\" class=\"sk-top-container\"><div class=\"sk-text-repr-fallback\"><pre>KMeans(init=&#x27;random&#x27;, n_clusters=3, n_init=20, random_state=15)</pre><b>In a Jupyter environment, please rerun this cell to show the HTML representation or trust the notebook. <br />On GitHub, the HTML representation is unable to render, please try loading this page with nbviewer.org.</b></div><div class=\"sk-container\" hidden><div class=\"sk-item\"><div class=\"sk-estimator sk-toggleable\"><input class=\"sk-toggleable__control sk-hidden--visually\" id=\"sk-estimator-id-1\" type=\"checkbox\" checked><label for=\"sk-estimator-id-1\" class=\"sk-toggleable__label sk-toggleable__label-arrow\">KMeans</label><div class=\"sk-toggleable__content\"><pre>KMeans(init=&#x27;random&#x27;, n_clusters=3, n_init=20, random_state=15)</pre></div></div></div></div></div>"
      ],
      "text/plain": [
       "KMeans(init='random', n_clusters=3, n_init=20, random_state=15)"
      ]
     },
     "execution_count": 23,
     "metadata": {},
     "output_type": "execute_result"
    }
   ],
   "source": [
    "kmeans.fit(df_regions_std)"
   ]
  },
  {
   "attachments": {},
   "cell_type": "markdown",
   "metadata": {},
   "source": [
    "wartość kryterium - suma kwadratów odległości punktów od najbliższych im środków ciężkości\n",
    "<br /> SSE - sum of squared errors"
   ]
  },
  {
   "cell_type": "code",
   "execution_count": 24,
   "metadata": {},
   "outputs": [
    {
     "data": {
      "text/plain": [
       "170.86061775141474"
      ]
     },
     "execution_count": 24,
     "metadata": {},
     "output_type": "execute_result"
    }
   ],
   "source": [
    "results.inertia_"
   ]
  },
  {
   "attachments": {},
   "cell_type": "markdown",
   "metadata": {},
   "source": [
    "przynależność obiektów do skupień"
   ]
  },
  {
   "cell_type": "code",
   "execution_count": 25,
   "metadata": {},
   "outputs": [
    {
     "data": {
      "text/plain": [
       "array([0, 0, 0, 0, 0, 0, 0, 0, 0, 0, 0, 0, 0, 0, 0, 0, 0, 0, 0, 0, 0, 0,\n",
       "       0, 0, 0, 0, 0, 0, 0, 0, 0, 0, 2, 0, 2, 0, 1, 2, 2, 2, 2, 2, 2, 2,\n",
       "       2, 2, 2, 2, 1, 2, 1, 1, 2, 1, 2, 2, 1, 2, 2, 1, 1, 1, 1, 2, 2, 1,\n",
       "       1, 1, 1, 2, 1, 1, 1, 2, 1, 1, 2, 1, 2, 2, 1, 1, 2, 1, 1, 1, 2, 2,\n",
       "       1, 1, 2, 1, 2, 2, 1, 1])"
      ]
     },
     "execution_count": 25,
     "metadata": {},
     "output_type": "execute_result"
    }
   ],
   "source": [
    "results.labels_"
   ]
  },
  {
   "attachments": {},
   "cell_type": "markdown",
   "metadata": {},
   "source": [
    "środki ciężkości (dane standaryzowane)"
   ]
  },
  {
   "attachments": {},
   "cell_type": "markdown",
   "metadata": {},
   "source": [
    "<b>interpretacja</b>: wektory ponizej wyznaczają centra kazdego z czterech klastrow\n",
    "</br >zgodnie z tym co znalazlem w tym watku https://stackoverflow.com/questions/70555989/how-to-interpret-the-value-of-cluster-centers-in-k-means"
   ]
  },
  {
   "cell_type": "code",
   "execution_count": 26,
   "metadata": {},
   "outputs": [
    {
     "data": {
      "text/plain": [
       "array([[ 1.20583099, -1.06599436, -0.9603997 , -1.0819488 , -0.24301728,\n",
       "        -0.63205783],\n",
       "       [-0.76039844,  1.03699114,  1.06047859,  1.11865005,  1.12514723,\n",
       "         1.09075492],\n",
       "       [-0.56832189,  0.16043982,  0.026226  ,  0.10083618, -0.79661967,\n",
       "        -0.35102129]])"
      ]
     },
     "execution_count": 26,
     "metadata": {},
     "output_type": "execute_result"
    }
   ],
   "source": [
    "results.cluster_centers_"
   ]
  },
  {
   "attachments": {},
   "cell_type": "markdown",
   "metadata": {},
   "source": [
    "środki ciężkości - ramka z opisem"
   ]
  },
  {
   "cell_type": "code",
   "execution_count": 27,
   "metadata": {},
   "outputs": [
    {
     "data": {
      "text/html": [
       "<div>\n",
       "<style scoped>\n",
       "    .dataframe tbody tr th:only-of-type {\n",
       "        vertical-align: middle;\n",
       "    }\n",
       "\n",
       "    .dataframe tbody tr th {\n",
       "        vertical-align: top;\n",
       "    }\n",
       "\n",
       "    .dataframe thead th {\n",
       "        text-align: right;\n",
       "    }\n",
       "</style>\n",
       "<table border=\"1\" class=\"dataframe\">\n",
       "  <thead>\n",
       "    <tr style=\"text-align: right;\">\n",
       "      <th></th>\n",
       "      <th>Total fertility rate</th>\n",
       "      <th>Life expectancy at birth</th>\n",
       "      <th>Age at first mariage (men)</th>\n",
       "      <th>Age at first mariage (women)</th>\n",
       "      <th>Mean Age Childbearing</th>\n",
       "      <th>gdp_capita</th>\n",
       "    </tr>\n",
       "  </thead>\n",
       "  <tbody>\n",
       "    <tr>\n",
       "      <th>0</th>\n",
       "      <td>1.205831</td>\n",
       "      <td>-1.065994</td>\n",
       "      <td>-0.960400</td>\n",
       "      <td>-1.081949</td>\n",
       "      <td>-0.243017</td>\n",
       "      <td>-0.632058</td>\n",
       "    </tr>\n",
       "    <tr>\n",
       "      <th>1</th>\n",
       "      <td>-0.760398</td>\n",
       "      <td>1.036991</td>\n",
       "      <td>1.060479</td>\n",
       "      <td>1.118650</td>\n",
       "      <td>1.125147</td>\n",
       "      <td>1.090755</td>\n",
       "    </tr>\n",
       "    <tr>\n",
       "      <th>2</th>\n",
       "      <td>-0.568322</td>\n",
       "      <td>0.160440</td>\n",
       "      <td>0.026226</td>\n",
       "      <td>0.100836</td>\n",
       "      <td>-0.796620</td>\n",
       "      <td>-0.351021</td>\n",
       "    </tr>\n",
       "  </tbody>\n",
       "</table>\n",
       "</div>"
      ],
      "text/plain": [
       "   Total fertility rate  Life expectancy at birth  Age at first mariage (men)  \\\n",
       "0              1.205831                 -1.065994                   -0.960400   \n",
       "1             -0.760398                  1.036991                    1.060479   \n",
       "2             -0.568322                  0.160440                    0.026226   \n",
       "\n",
       "   Age at first mariage (women)  Mean Age Childbearing  gdp_capita  \n",
       "0                     -1.081949              -0.243017   -0.632058  \n",
       "1                      1.118650               1.125147    1.090755  \n",
       "2                      0.100836              -0.796620   -0.351021  "
      ]
     },
     "execution_count": 27,
     "metadata": {},
     "output_type": "execute_result"
    }
   ],
   "source": [
    "df_regions_center = pd.DataFrame(results.cluster_centers_,\n",
    "                          columns=df_regions_std.columns)\n",
    "df_regions_center"
   ]
  },
  {
   "cell_type": "code",
   "execution_count": 28,
   "metadata": {},
   "outputs": [
    {
     "data": {
      "image/png": "[encoded data removed]",
      "text/plain": [
       "<Figure size 640x480 with 1 Axes>"
      ]
     },
     "metadata": {},
     "output_type": "display_data"
    }
   ],
   "source": [
    "df_regions_center.plot.barh()\n",
    "plt.legend(bbox_to_anchor=(1.05,1))\n",
    "plt.show()"
   ]
  },
  {
   "cell_type": "code",
   "execution_count": 29,
   "metadata": {},
   "outputs": [],
   "source": [
    "df_regions['group'] = results.labels_"
   ]
  },
  {
   "cell_type": "code",
   "execution_count": 30,
   "metadata": {},
   "outputs": [
    {
     "data": {
      "text/html": [
       "<div>\n",
       "<style scoped>\n",
       "    .dataframe tbody tr th:only-of-type {\n",
       "        vertical-align: middle;\n",
       "    }\n",
       "\n",
       "    .dataframe tbody tr th {\n",
       "        vertical-align: top;\n",
       "    }\n",
       "\n",
       "    .dataframe thead th {\n",
       "        text-align: right;\n",
       "    }\n",
       "</style>\n",
       "<table border=\"1\" class=\"dataframe\">\n",
       "  <thead>\n",
       "    <tr style=\"text-align: right;\">\n",
       "      <th></th>\n",
       "      <th>Total fertility rate</th>\n",
       "      <th>Life expectancy at birth</th>\n",
       "      <th>Age at first mariage (men)</th>\n",
       "      <th>Age at first mariage (women)</th>\n",
       "      <th>Mean Age Childbearing</th>\n",
       "      <th>gdp_capita</th>\n",
       "      <th>group</th>\n",
       "    </tr>\n",
       "    <tr>\n",
       "      <th>Country</th>\n",
       "      <th></th>\n",
       "      <th></th>\n",
       "      <th></th>\n",
       "      <th></th>\n",
       "      <th></th>\n",
       "      <th></th>\n",
       "      <th></th>\n",
       "    </tr>\n",
       "  </thead>\n",
       "  <tbody>\n",
       "    <tr>\n",
       "      <th>Niger</th>\n",
       "      <td>6.73</td>\n",
       "      <td>60.48</td>\n",
       "      <td>24.0</td>\n",
       "      <td>17.2</td>\n",
       "      <td>29.118</td>\n",
       "      <td>590.63</td>\n",
       "      <td>0</td>\n",
       "    </tr>\n",
       "    <tr>\n",
       "      <th>Angola</th>\n",
       "      <td>5.76</td>\n",
       "      <td>62.51</td>\n",
       "      <td>24.7</td>\n",
       "      <td>21.4</td>\n",
       "      <td>28.870</td>\n",
       "      <td>1953.53</td>\n",
       "      <td>0</td>\n",
       "    </tr>\n",
       "    <tr>\n",
       "      <th>DR Congo</th>\n",
       "      <td>5.56</td>\n",
       "      <td>62.23</td>\n",
       "      <td>24.2</td>\n",
       "      <td>19.0</td>\n",
       "      <td>29.928</td>\n",
       "      <td>577.21</td>\n",
       "      <td>0</td>\n",
       "    </tr>\n",
       "    <tr>\n",
       "      <th>Mali</th>\n",
       "      <td>5.45</td>\n",
       "      <td>62.81</td>\n",
       "      <td>25.8</td>\n",
       "      <td>18.8</td>\n",
       "      <td>28.936</td>\n",
       "      <td>873.79</td>\n",
       "      <td>0</td>\n",
       "    </tr>\n",
       "    <tr>\n",
       "      <th>Benin</th>\n",
       "      <td>5.39</td>\n",
       "      <td>62.60</td>\n",
       "      <td>23.8</td>\n",
       "      <td>18.7</td>\n",
       "      <td>29.149</td>\n",
       "      <td>1319.16</td>\n",
       "      <td>0</td>\n",
       "    </tr>\n",
       "  </tbody>\n",
       "</table>\n",
       "</div>"
      ],
      "text/plain": [
       "          Total fertility rate  Life expectancy at birth  \\\n",
       "Country                                                    \n",
       "Niger                     6.73                     60.48   \n",
       "Angola                    5.76                     62.51   \n",
       "DR Congo                  5.56                     62.23   \n",
       "Mali                      5.45                     62.81   \n",
       "Benin                     5.39                     62.60   \n",
       "\n",
       "          Age at first mariage (men)  Age at first mariage (women)  \\\n",
       "Country                                                              \n",
       "Niger                           24.0                          17.2   \n",
       "Angola                          24.7                          21.4   \n",
       "DR Congo                        24.2                          19.0   \n",
       "Mali                            25.8                          18.8   \n",
       "Benin                           23.8                          18.7   \n",
       "\n",
       "          Mean Age Childbearing  gdp_capita  group  \n",
       "Country                                             \n",
       "Niger                    29.118      590.63      0  \n",
       "Angola                   28.870     1953.53      0  \n",
       "DR Congo                 29.928      577.21      0  \n",
       "Mali                     28.936      873.79      0  \n",
       "Benin                    29.149     1319.16      0  "
      ]
     },
     "execution_count": 30,
     "metadata": {},
     "output_type": "execute_result"
    }
   ],
   "source": [
    "df_regions.head(5)"
   ]
  },
  {
   "cell_type": "code",
   "execution_count": 31,
   "metadata": {},
   "outputs": [
    {
     "data": {
      "text/plain": [
       "array([0, 2, 1])"
      ]
     },
     "execution_count": 31,
     "metadata": {},
     "output_type": "execute_result"
    }
   ],
   "source": [
    "df_regions['group'].unique()"
   ]
  },
  {
   "attachments": {},
   "cell_type": "markdown",
   "metadata": {},
   "source": [
    "środki ciężkości skupień - dane pierwotne"
   ]
  },
  {
   "cell_type": "code",
   "execution_count": 32,
   "metadata": {},
   "outputs": [
    {
     "data": {
      "text/html": [
       "<div>\n",
       "<style scoped>\n",
       "    .dataframe tbody tr th:only-of-type {\n",
       "        vertical-align: middle;\n",
       "    }\n",
       "\n",
       "    .dataframe tbody tr th {\n",
       "        vertical-align: top;\n",
       "    }\n",
       "\n",
       "    .dataframe thead th {\n",
       "        text-align: right;\n",
       "    }\n",
       "</style>\n",
       "<table border=\"1\" class=\"dataframe\">\n",
       "  <thead>\n",
       "    <tr style=\"text-align: right;\">\n",
       "      <th></th>\n",
       "      <th>Total fertility rate</th>\n",
       "      <th>Life expectancy at birth</th>\n",
       "      <th>Age at first mariage (men)</th>\n",
       "      <th>Age at first mariage (women)</th>\n",
       "      <th>Mean Age Childbearing</th>\n",
       "      <th>gdp_capita</th>\n",
       "    </tr>\n",
       "    <tr>\n",
       "      <th>group</th>\n",
       "      <th></th>\n",
       "      <th></th>\n",
       "      <th></th>\n",
       "      <th></th>\n",
       "      <th></th>\n",
       "      <th></th>\n",
       "    </tr>\n",
       "  </thead>\n",
       "  <tbody>\n",
       "    <tr>\n",
       "      <th>0</th>\n",
       "      <td>4.304706</td>\n",
       "      <td>65.262353</td>\n",
       "      <td>25.258824</td>\n",
       "      <td>19.870588</td>\n",
       "      <td>29.085618</td>\n",
       "      <td>1360.730294</td>\n",
       "    </tr>\n",
       "    <tr>\n",
       "      <th>1</th>\n",
       "      <td>1.657667</td>\n",
       "      <td>80.998333</td>\n",
       "      <td>33.430000</td>\n",
       "      <td>31.123333</td>\n",
       "      <td>30.986867</td>\n",
       "      <td>44500.539000</td>\n",
       "    </tr>\n",
       "    <tr>\n",
       "      <th>2</th>\n",
       "      <td>1.916250</td>\n",
       "      <td>74.439375</td>\n",
       "      <td>29.248125</td>\n",
       "      <td>25.918750</td>\n",
       "      <td>28.316312</td>\n",
       "      <td>8397.979375</td>\n",
       "    </tr>\n",
       "  </tbody>\n",
       "</table>\n",
       "</div>"
      ],
      "text/plain": [
       "       Total fertility rate  Life expectancy at birth  \\\n",
       "group                                                   \n",
       "0                  4.304706                 65.262353   \n",
       "1                  1.657667                 80.998333   \n",
       "2                  1.916250                 74.439375   \n",
       "\n",
       "       Age at first mariage (men)  Age at first mariage (women)  \\\n",
       "group                                                             \n",
       "0                       25.258824                     19.870588   \n",
       "1                       33.430000                     31.123333   \n",
       "2                       29.248125                     25.918750   \n",
       "\n",
       "       Mean Age Childbearing    gdp_capita  \n",
       "group                                       \n",
       "0                  29.085618   1360.730294  \n",
       "1                  30.986867  44500.539000  \n",
       "2                  28.316312   8397.979375  "
      ]
     },
     "execution_count": 32,
     "metadata": {},
     "output_type": "execute_result"
    }
   ],
   "source": [
    "df_regions.groupby('group').mean(numeric_only=True)"
   ]
  },
  {
   "attachments": {},
   "cell_type": "markdown",
   "metadata": {},
   "source": [
    "wizualizacja - środki ciężkości (dane pierwotne)"
   ]
  },
  {
   "attachments": {},
   "cell_type": "markdown",
   "metadata": {},
   "source": [
    "ten wykres nie ma sensu bo skala jest zbyt nieproporcjonalna, poprzedni wykres na danych zestandaryzowanych ma za to sens"
   ]
  },
  {
   "cell_type": "code",
   "execution_count": 33,
   "metadata": {},
   "outputs": [
    {
     "data": {
      "image/png": "[encoded data removed]",
      "text/plain": [
       "<Figure size 640x480 with 1 Axes>"
      ]
     },
     "metadata": {},
     "output_type": "display_data"
    }
   ],
   "source": [
    "df_regions.groupby('group').mean(numeric_only=True).plot.barh()\n",
    "plt.legend(bbox_to_anchor=(1.05,1))\n",
    "plt.show()"
   ]
  },
  {
   "cell_type": "code",
   "execution_count": 34,
   "metadata": {},
   "outputs": [],
   "source": [
    "n_clusters = 3"
   ]
  },
  {
   "cell_type": "code",
   "execution_count": 35,
   "metadata": {},
   "outputs": [
    {
     "name": "stdout",
     "output_type": "stream",
     "text": [
      "W skupieniu 0 są następujące obiekty:    ['Niger' 'Angola' 'DR Congo' 'Mali' 'Benin' 'Chad' 'Uganda' 'Burundi'\n",
      " 'Guinea' 'Mozambique' 'Liberia' 'Nigeria' 'Sudan' 'Cameroon' 'Zambia'\n",
      " 'Tanzania' 'Congo' 'Togo' 'Senegal' 'Burkina Faso'\n",
      " 'Central African Republic' 'Ethiopia' 'Zimbabwe' 'Sierra Leone' 'Gambia'\n",
      " 'Ghana' 'Madagascar' 'Mauritania' 'Malawi' 'Gabon' 'Rwanda' 'Kenya'\n",
      " 'Lesotho' 'Comoros']\n",
      "W skupieniu 1 są następujące obiekty:    ['Algeria' 'France' 'Tunisia' 'Iceland' 'Ireland' 'Norway' 'Netherlands'\n",
      " 'Denmark' 'Belgium' 'Chile' 'Finland' 'Sweden' 'Luxembourg'\n",
      " 'United Kingdom' 'Estonia' 'Lithuania' 'Slovenia' 'Switzerland' 'Germany'\n",
      " 'Latvia' 'Austria' 'Malta' 'Czech Republic' 'Hungary' 'Cyprus' 'Croatia'\n",
      " 'Portugal' 'Greece' 'Spain' 'Italy']\n",
      "W skupieniu 2 są następujące obiekty:    ['Namibia' 'Egypt' 'Haiti' 'Panama' 'Botswana' 'Morocco' 'Bolivia' 'Peru'\n",
      " 'Argentina' 'South Africa' 'Djibouti' 'Guyana' 'El Salvador' 'Ecuador'\n",
      " 'Colombia' 'Paraguay' 'Costa Rica' 'Seychelles' 'Nicaragua' 'Uruguay'\n",
      " 'Brazil' 'Romania' 'Moldova' 'Ukraine' 'Albania' 'Belarus' 'Bulgaria'\n",
      " 'Slovakia' 'Serbia' 'Poland' 'Bosnia and Herzegovina' 'Mauritius']\n"
     ]
    }
   ],
   "source": [
    "for i in range(n_clusters):\n",
    "    print(f'''W skupieniu {i} są następujące obiekty:\\\n",
    "    {df_regions[df_regions['group'] == i].index.values}''')"
   ]
  },
  {
   "attachments": {},
   "cell_type": "markdown",
   "metadata": {},
   "source": [
    "ocena dopasowania"
   ]
  },
  {
   "cell_type": "code",
   "execution_count": 36,
   "metadata": {},
   "outputs": [],
   "source": [
    "from sklearn.metrics import silhouette_score, silhouette_samples, calinski_harabasz_score, davies_bouldin_score\n",
    "import numpy as np"
   ]
  },
  {
   "attachments": {},
   "cell_type": "markdown",
   "metadata": {},
   "source": [
    "Obydwa wskazniki dzialaja tak, ze im wieksze wartosci, tym lepiej"
   ]
  },
  {
   "cell_type": "code",
   "execution_count": 37,
   "metadata": {},
   "outputs": [
    {
     "name": "stdout",
     "output_type": "stream",
     "text": [
      "silhouette_score: 0.41\n",
      "calinski_harabasz_score: 110.26\n"
     ]
    }
   ],
   "source": [
    "print(f'silhouette_score: {np.round(silhouette_score(df_regions_std, kmeans.fit(df_regions_std).labels_),2)}')\n",
    "print(f'calinski_harabasz_score: {np.round(calinski_harabasz_score(df_regions_std, kmeans.fit(df_regions_std).labels_),2)}')"
   ]
  },
  {
   "attachments": {},
   "cell_type": "markdown",
   "metadata": {},
   "source": [
    "#### Ilustracja skupień w przestrzeni składowych"
   ]
  },
  {
   "cell_type": "code",
   "execution_count": 38,
   "metadata": {},
   "outputs": [],
   "source": [
    "pca = PCA(n_components=2)\n",
    "results_pca = pca.fit_transform(df_regions_std)"
   ]
  },
  {
   "attachments": {},
   "cell_type": "markdown",
   "metadata": {},
   "source": [
    "Widac, ze 2 elementy wyjasniaja ponad 80% wariancji"
   ]
  },
  {
   "cell_type": "code",
   "execution_count": 39,
   "metadata": {},
   "outputs": [
    {
     "data": {
      "text/plain": [
       "array([0.70989137, 0.15307756])"
      ]
     },
     "execution_count": 39,
     "metadata": {},
     "output_type": "execute_result"
    }
   ],
   "source": [
    "pca.explained_variance_ratio_"
   ]
  },
  {
   "cell_type": "code",
   "execution_count": 40,
   "metadata": {},
   "outputs": [
    {
     "data": {
      "image/png": "[encoded data removed]",
      "text/plain": [
       "<Figure size 640x480 with 1 Axes>"
      ]
     },
     "metadata": {},
     "output_type": "display_data"
    }
   ],
   "source": [
    "plt.scatter(results_pca[:,0], results_pca[:,1],\n",
    "           c = kmeans.fit(df_regions_std).labels_, # kolor reprezentuje przynależność do skupienia\n",
    "           cmap='plasma')\n",
    "plt.xlabel('Component 1')\n",
    "plt.ylabel('Component 2')\n",
    "plt.show()"
   ]
  },
  {
   "cell_type": "code",
   "execution_count": 41,
   "metadata": {},
   "outputs": [
    {
     "data": {
      "image/png": "[encoded data removed]",
      "text/plain": [
       "<Figure size 1600x1200 with 1 Axes>"
      ]
     },
     "metadata": {},
     "output_type": "display_data"
    }
   ],
   "source": [
    "plt.figure(figsize=(16,12))\n",
    "plt.scatter(results_pca[:,0], results_pca[:,1],\n",
    "           c = kmeans.fit(df_regions_std).labels_, # kolor reprezentuje przynależność do skupienia\n",
    "           cmap='plasma')\n",
    "plt.xlabel('Component 1')\n",
    "plt.ylabel('Component 2')\n",
    "plt.ylim(-2,3.0)\n",
    "for i in range(len(df_regions_std)):\n",
    "    plt.annotate(df_regions_std.index[i],(results_pca[i,0]+0.05, results_pca[i,1]+0.05),alpha=0.4)\n",
    "plt.show()"
   ]
  },
  {
   "cell_type": "code",
   "execution_count": null,
   "metadata": {},
   "outputs": [],
   "source": []
  }
 ],
 "metadata": {
  "kernelspec": {
   "display_name": "Python 3",
   "language": "python",
   "name": "python3"
  },
  "language_info": {
   "codemirror_mode": {
    "name": "ipython",
    "version": 3
   },
   "file_extension": ".py",
   "mimetype": "text/x-python",
   "name": "python",
   "nbconvert_exporter": "python",
   "pygments_lexer": "ipython3",
   "version": "3.11.0"
  },
  "orig_nbformat": 4
 },
 "nbformat": 4,
 "nbformat_minor": 2
}
