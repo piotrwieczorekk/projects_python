{
 "cells": [
  {
   "attachments": {},
   "cell_type": "markdown",
   "metadata": {},
   "source": [
    "### Library"
   ]
  },
  {
   "cell_type": "code",
   "execution_count": 1,
   "metadata": {},
   "outputs": [],
   "source": [
    "import pandas as pd\n",
    "import numpy as np\n",
    "import matplotlib.pyplot as plt\n",
    "import matplotlib.ticker as ticker\n",
    "import seaborn as sns\n",
    "import plotly.express as px\n",
    "import math"
   ]
  },
  {
   "attachments": {},
   "cell_type": "markdown",
   "metadata": {},
   "source": [
    "### Reading, exploring and cleaning the data "
   ]
  },
  {
   "cell_type": "code",
   "execution_count": 6,
   "metadata": {},
   "outputs": [],
   "source": [
    "df = pd.read_csv('ikea.csv')"
   ]
  },
  {
   "cell_type": "code",
   "execution_count": 7,
   "metadata": {},
   "outputs": [
    {
     "data": {
      "text/plain": [
       "(3694, 14)"
      ]
     },
     "execution_count": 7,
     "metadata": {},
     "output_type": "execute_result"
    }
   ],
   "source": [
    "df.shape"
   ]
  },
  {
   "cell_type": "code",
   "execution_count": 8,
   "metadata": {},
   "outputs": [
    {
     "name": "stdout",
     "output_type": "stream",
     "text": [
      "<class 'pandas.core.frame.DataFrame'>\n",
      "RangeIndex: 3694 entries, 0 to 3693\n",
      "Data columns (total 14 columns):\n",
      " #   Column             Non-Null Count  Dtype  \n",
      "---  ------             --------------  -----  \n",
      " 0   Unnamed: 0         3694 non-null   int64  \n",
      " 1   item_id            3694 non-null   int64  \n",
      " 2   name               3694 non-null   object \n",
      " 3   category           3694 non-null   object \n",
      " 4   price              3694 non-null   float64\n",
      " 5   old_price          3694 non-null   object \n",
      " 6   sellable_online    3694 non-null   bool   \n",
      " 7   link               3694 non-null   object \n",
      " 8   other_colors       3694 non-null   object \n",
      " 9   short_description  3694 non-null   object \n",
      " 10  designer           3694 non-null   object \n",
      " 11  depth              2231 non-null   float64\n",
      " 12  height             2706 non-null   float64\n",
      " 13  width              3105 non-null   float64\n",
      "dtypes: bool(1), float64(4), int64(2), object(7)\n",
      "memory usage: 378.9+ KB\n"
     ]
    }
   ],
   "source": [
    "df.info()"
   ]
  },
  {
   "cell_type": "code",
   "execution_count": 9,
   "metadata": {},
   "outputs": [
    {
     "data": {
      "text/plain": [
       "depth                1463\n",
       "height                988\n",
       "width                 589\n",
       "Unnamed: 0              0\n",
       "item_id                 0\n",
       "name                    0\n",
       "category                0\n",
       "price                   0\n",
       "old_price               0\n",
       "sellable_online         0\n",
       "link                    0\n",
       "other_colors            0\n",
       "short_description       0\n",
       "designer                0\n",
       "dtype: int64"
      ]
     },
     "execution_count": 9,
     "metadata": {},
     "output_type": "execute_result"
    }
   ],
   "source": [
    "df.isna().sum().sort_values(ascending=False)"
   ]
  },
  {
   "cell_type": "code",
   "execution_count": 10,
   "metadata": {},
   "outputs": [
    {
     "data": {
      "text/html": [
       "<div>\n",
       "<style scoped>\n",
       "    .dataframe tbody tr th:only-of-type {\n",
       "        vertical-align: middle;\n",
       "    }\n",
       "\n",
       "    .dataframe tbody tr th {\n",
       "        vertical-align: top;\n",
       "    }\n",
       "\n",
       "    .dataframe thead th {\n",
       "        text-align: right;\n",
       "    }\n",
       "</style>\n",
       "<table border=\"1\" class=\"dataframe\">\n",
       "  <thead>\n",
       "    <tr style=\"text-align: right;\">\n",
       "      <th></th>\n",
       "      <th>Unnamed: 0</th>\n",
       "      <th>item_id</th>\n",
       "      <th>name</th>\n",
       "      <th>category</th>\n",
       "      <th>price</th>\n",
       "      <th>old_price</th>\n",
       "      <th>sellable_online</th>\n",
       "      <th>link</th>\n",
       "      <th>other_colors</th>\n",
       "      <th>short_description</th>\n",
       "      <th>designer</th>\n",
       "      <th>depth</th>\n",
       "      <th>height</th>\n",
       "      <th>width</th>\n",
       "    </tr>\n",
       "  </thead>\n",
       "  <tbody>\n",
       "    <tr>\n",
       "      <th>0</th>\n",
       "      <td>0</td>\n",
       "      <td>90420332</td>\n",
       "      <td>FREKVENS</td>\n",
       "      <td>Bar furniture</td>\n",
       "      <td>265.0</td>\n",
       "      <td>No old price</td>\n",
       "      <td>True</td>\n",
       "      <td>https://www.ikea.com/sa/en/p/frekvens-bar-tabl...</td>\n",
       "      <td>No</td>\n",
       "      <td>Bar table, in/outdoor,          51x51 cm</td>\n",
       "      <td>Nicholai Wiig Hansen</td>\n",
       "      <td>NaN</td>\n",
       "      <td>99.0</td>\n",
       "      <td>51.0</td>\n",
       "    </tr>\n",
       "    <tr>\n",
       "      <th>1</th>\n",
       "      <td>1</td>\n",
       "      <td>368814</td>\n",
       "      <td>NORDVIKEN</td>\n",
       "      <td>Bar furniture</td>\n",
       "      <td>995.0</td>\n",
       "      <td>No old price</td>\n",
       "      <td>False</td>\n",
       "      <td>https://www.ikea.com/sa/en/p/nordviken-bar-tab...</td>\n",
       "      <td>No</td>\n",
       "      <td>Bar table,          140x80 cm</td>\n",
       "      <td>Francis Cayouette</td>\n",
       "      <td>NaN</td>\n",
       "      <td>105.0</td>\n",
       "      <td>80.0</td>\n",
       "    </tr>\n",
       "    <tr>\n",
       "      <th>2</th>\n",
       "      <td>2</td>\n",
       "      <td>9333523</td>\n",
       "      <td>NORDVIKEN / NORDVIKEN</td>\n",
       "      <td>Bar furniture</td>\n",
       "      <td>2095.0</td>\n",
       "      <td>No old price</td>\n",
       "      <td>False</td>\n",
       "      <td>https://www.ikea.com/sa/en/p/nordviken-nordvik...</td>\n",
       "      <td>No</td>\n",
       "      <td>Bar table and 4 bar stools</td>\n",
       "      <td>Francis Cayouette</td>\n",
       "      <td>NaN</td>\n",
       "      <td>NaN</td>\n",
       "      <td>NaN</td>\n",
       "    </tr>\n",
       "    <tr>\n",
       "      <th>3</th>\n",
       "      <td>3</td>\n",
       "      <td>80155205</td>\n",
       "      <td>STIG</td>\n",
       "      <td>Bar furniture</td>\n",
       "      <td>69.0</td>\n",
       "      <td>No old price</td>\n",
       "      <td>True</td>\n",
       "      <td>https://www.ikea.com/sa/en/p/stig-bar-stool-wi...</td>\n",
       "      <td>Yes</td>\n",
       "      <td>Bar stool with backrest,          74 cm</td>\n",
       "      <td>Henrik Preutz</td>\n",
       "      <td>50.0</td>\n",
       "      <td>100.0</td>\n",
       "      <td>60.0</td>\n",
       "    </tr>\n",
       "    <tr>\n",
       "      <th>4</th>\n",
       "      <td>4</td>\n",
       "      <td>30180504</td>\n",
       "      <td>NORBERG</td>\n",
       "      <td>Bar furniture</td>\n",
       "      <td>225.0</td>\n",
       "      <td>No old price</td>\n",
       "      <td>True</td>\n",
       "      <td>https://www.ikea.com/sa/en/p/norberg-wall-moun...</td>\n",
       "      <td>No</td>\n",
       "      <td>Wall-mounted drop-leaf table,         ...</td>\n",
       "      <td>Marcus Arvonen</td>\n",
       "      <td>60.0</td>\n",
       "      <td>43.0</td>\n",
       "      <td>74.0</td>\n",
       "    </tr>\n",
       "    <tr>\n",
       "      <th>5</th>\n",
       "      <td>5</td>\n",
       "      <td>10122647</td>\n",
       "      <td>INGOLF</td>\n",
       "      <td>Bar furniture</td>\n",
       "      <td>345.0</td>\n",
       "      <td>No old price</td>\n",
       "      <td>True</td>\n",
       "      <td>https://www.ikea.com/sa/en/p/ingolf-bar-stool-...</td>\n",
       "      <td>No</td>\n",
       "      <td>Bar stool with backrest,          63 cm</td>\n",
       "      <td>Carina Bengs</td>\n",
       "      <td>45.0</td>\n",
       "      <td>91.0</td>\n",
       "      <td>40.0</td>\n",
       "    </tr>\n",
       "    <tr>\n",
       "      <th>6</th>\n",
       "      <td>6</td>\n",
       "      <td>70404875</td>\n",
       "      <td>FRANKLIN</td>\n",
       "      <td>Bar furniture</td>\n",
       "      <td>129.0</td>\n",
       "      <td>No old price</td>\n",
       "      <td>True</td>\n",
       "      <td>https://www.ikea.com/sa/en/p/franklin-bar-stoo...</td>\n",
       "      <td>No</td>\n",
       "      <td>Bar stool with backrest, foldable,    ...</td>\n",
       "      <td>K Hagberg/M Hagberg</td>\n",
       "      <td>44.0</td>\n",
       "      <td>95.0</td>\n",
       "      <td>50.0</td>\n",
       "    </tr>\n",
       "    <tr>\n",
       "      <th>7</th>\n",
       "      <td>7</td>\n",
       "      <td>60155602</td>\n",
       "      <td>DALFRED</td>\n",
       "      <td>Bar furniture</td>\n",
       "      <td>195.0</td>\n",
       "      <td>No old price</td>\n",
       "      <td>True</td>\n",
       "      <td>https://www.ikea.com/sa/en/p/dalfred-bar-stool...</td>\n",
       "      <td>No</td>\n",
       "      <td>Bar stool,          63-74 cm</td>\n",
       "      <td>Sarah Fager</td>\n",
       "      <td>50.0</td>\n",
       "      <td>NaN</td>\n",
       "      <td>50.0</td>\n",
       "    </tr>\n",
       "    <tr>\n",
       "      <th>8</th>\n",
       "      <td>8</td>\n",
       "      <td>50406465</td>\n",
       "      <td>FRANKLIN</td>\n",
       "      <td>Bar furniture</td>\n",
       "      <td>129.0</td>\n",
       "      <td>No old price</td>\n",
       "      <td>True</td>\n",
       "      <td>https://www.ikea.com/sa/en/p/franklin-bar-stoo...</td>\n",
       "      <td>No</td>\n",
       "      <td>Bar stool with backrest, foldable,    ...</td>\n",
       "      <td>K Hagberg/M Hagberg</td>\n",
       "      <td>44.0</td>\n",
       "      <td>95.0</td>\n",
       "      <td>50.0</td>\n",
       "    </tr>\n",
       "    <tr>\n",
       "      <th>9</th>\n",
       "      <td>9</td>\n",
       "      <td>69304221</td>\n",
       "      <td>EKEDALEN / EKEDALEN</td>\n",
       "      <td>Bar furniture</td>\n",
       "      <td>2176.0</td>\n",
       "      <td>SR 2,375</td>\n",
       "      <td>True</td>\n",
       "      <td>https://www.ikea.com/sa/en/p/ekedalen-ekedalen...</td>\n",
       "      <td>No</td>\n",
       "      <td>Bar table and 4 bar stools</td>\n",
       "      <td>Ehlén Johansson</td>\n",
       "      <td>NaN</td>\n",
       "      <td>NaN</td>\n",
       "      <td>NaN</td>\n",
       "    </tr>\n",
       "  </tbody>\n",
       "</table>\n",
       "</div>"
      ],
      "text/plain": [
       "   Unnamed: 0   item_id                   name       category   price  \\\n",
       "0           0  90420332               FREKVENS  Bar furniture   265.0   \n",
       "1           1    368814              NORDVIKEN  Bar furniture   995.0   \n",
       "2           2   9333523  NORDVIKEN / NORDVIKEN  Bar furniture  2095.0   \n",
       "3           3  80155205                   STIG  Bar furniture    69.0   \n",
       "4           4  30180504                NORBERG  Bar furniture   225.0   \n",
       "5           5  10122647                 INGOLF  Bar furniture   345.0   \n",
       "6           6  70404875               FRANKLIN  Bar furniture   129.0   \n",
       "7           7  60155602                DALFRED  Bar furniture   195.0   \n",
       "8           8  50406465               FRANKLIN  Bar furniture   129.0   \n",
       "9           9  69304221    EKEDALEN / EKEDALEN  Bar furniture  2176.0   \n",
       "\n",
       "      old_price  sellable_online  \\\n",
       "0  No old price             True   \n",
       "1  No old price            False   \n",
       "2  No old price            False   \n",
       "3  No old price             True   \n",
       "4  No old price             True   \n",
       "5  No old price             True   \n",
       "6  No old price             True   \n",
       "7  No old price             True   \n",
       "8  No old price             True   \n",
       "9      SR 2,375             True   \n",
       "\n",
       "                                                link other_colors  \\\n",
       "0  https://www.ikea.com/sa/en/p/frekvens-bar-tabl...           No   \n",
       "1  https://www.ikea.com/sa/en/p/nordviken-bar-tab...           No   \n",
       "2  https://www.ikea.com/sa/en/p/nordviken-nordvik...           No   \n",
       "3  https://www.ikea.com/sa/en/p/stig-bar-stool-wi...          Yes   \n",
       "4  https://www.ikea.com/sa/en/p/norberg-wall-moun...           No   \n",
       "5  https://www.ikea.com/sa/en/p/ingolf-bar-stool-...           No   \n",
       "6  https://www.ikea.com/sa/en/p/franklin-bar-stoo...           No   \n",
       "7  https://www.ikea.com/sa/en/p/dalfred-bar-stool...           No   \n",
       "8  https://www.ikea.com/sa/en/p/franklin-bar-stoo...           No   \n",
       "9  https://www.ikea.com/sa/en/p/ekedalen-ekedalen...           No   \n",
       "\n",
       "                                   short_description              designer  \\\n",
       "0           Bar table, in/outdoor,          51x51 cm  Nicholai Wiig Hansen   \n",
       "1                      Bar table,          140x80 cm     Francis Cayouette   \n",
       "2                         Bar table and 4 bar stools     Francis Cayouette   \n",
       "3            Bar stool with backrest,          74 cm         Henrik Preutz   \n",
       "4          Wall-mounted drop-leaf table,         ...        Marcus Arvonen   \n",
       "5            Bar stool with backrest,          63 cm          Carina Bengs   \n",
       "6          Bar stool with backrest, foldable,    ...   K Hagberg/M Hagberg   \n",
       "7                       Bar stool,          63-74 cm           Sarah Fager   \n",
       "8          Bar stool with backrest, foldable,    ...   K Hagberg/M Hagberg   \n",
       "9                         Bar table and 4 bar stools       Ehlén Johansson   \n",
       "\n",
       "   depth  height  width  \n",
       "0    NaN    99.0   51.0  \n",
       "1    NaN   105.0   80.0  \n",
       "2    NaN     NaN    NaN  \n",
       "3   50.0   100.0   60.0  \n",
       "4   60.0    43.0   74.0  \n",
       "5   45.0    91.0   40.0  \n",
       "6   44.0    95.0   50.0  \n",
       "7   50.0     NaN   50.0  \n",
       "8   44.0    95.0   50.0  \n",
       "9    NaN     NaN    NaN  "
      ]
     },
     "execution_count": 10,
     "metadata": {},
     "output_type": "execute_result"
    }
   ],
   "source": [
    "df.head(10)"
   ]
  },
  {
   "cell_type": "code",
   "execution_count": 12,
   "metadata": {},
   "outputs": [],
   "source": [
    "df2 = df.loc[:,['name','category','price','old_price','sellable_online','other_colors','designer']]"
   ]
  },
  {
   "cell_type": "code",
   "execution_count": 13,
   "metadata": {},
   "outputs": [
    {
     "data": {
      "text/html": [
       "<div>\n",
       "<style scoped>\n",
       "    .dataframe tbody tr th:only-of-type {\n",
       "        vertical-align: middle;\n",
       "    }\n",
       "\n",
       "    .dataframe tbody tr th {\n",
       "        vertical-align: top;\n",
       "    }\n",
       "\n",
       "    .dataframe thead th {\n",
       "        text-align: right;\n",
       "    }\n",
       "</style>\n",
       "<table border=\"1\" class=\"dataframe\">\n",
       "  <thead>\n",
       "    <tr style=\"text-align: right;\">\n",
       "      <th></th>\n",
       "      <th>name</th>\n",
       "      <th>category</th>\n",
       "      <th>price</th>\n",
       "      <th>old_price</th>\n",
       "      <th>sellable_online</th>\n",
       "      <th>other_colors</th>\n",
       "      <th>designer</th>\n",
       "    </tr>\n",
       "  </thead>\n",
       "  <tbody>\n",
       "    <tr>\n",
       "      <th>0</th>\n",
       "      <td>FREKVENS</td>\n",
       "      <td>Bar furniture</td>\n",
       "      <td>265.0</td>\n",
       "      <td>No old price</td>\n",
       "      <td>True</td>\n",
       "      <td>No</td>\n",
       "      <td>Nicholai Wiig Hansen</td>\n",
       "    </tr>\n",
       "    <tr>\n",
       "      <th>1</th>\n",
       "      <td>NORDVIKEN</td>\n",
       "      <td>Bar furniture</td>\n",
       "      <td>995.0</td>\n",
       "      <td>No old price</td>\n",
       "      <td>False</td>\n",
       "      <td>No</td>\n",
       "      <td>Francis Cayouette</td>\n",
       "    </tr>\n",
       "    <tr>\n",
       "      <th>2</th>\n",
       "      <td>NORDVIKEN / NORDVIKEN</td>\n",
       "      <td>Bar furniture</td>\n",
       "      <td>2095.0</td>\n",
       "      <td>No old price</td>\n",
       "      <td>False</td>\n",
       "      <td>No</td>\n",
       "      <td>Francis Cayouette</td>\n",
       "    </tr>\n",
       "    <tr>\n",
       "      <th>3</th>\n",
       "      <td>STIG</td>\n",
       "      <td>Bar furniture</td>\n",
       "      <td>69.0</td>\n",
       "      <td>No old price</td>\n",
       "      <td>True</td>\n",
       "      <td>Yes</td>\n",
       "      <td>Henrik Preutz</td>\n",
       "    </tr>\n",
       "    <tr>\n",
       "      <th>4</th>\n",
       "      <td>NORBERG</td>\n",
       "      <td>Bar furniture</td>\n",
       "      <td>225.0</td>\n",
       "      <td>No old price</td>\n",
       "      <td>True</td>\n",
       "      <td>No</td>\n",
       "      <td>Marcus Arvonen</td>\n",
       "    </tr>\n",
       "    <tr>\n",
       "      <th>...</th>\n",
       "      <td>...</td>\n",
       "      <td>...</td>\n",
       "      <td>...</td>\n",
       "      <td>...</td>\n",
       "      <td>...</td>\n",
       "      <td>...</td>\n",
       "      <td>...</td>\n",
       "    </tr>\n",
       "    <tr>\n",
       "      <th>3689</th>\n",
       "      <td>ELVARLI</td>\n",
       "      <td>Wardrobes</td>\n",
       "      <td>750.0</td>\n",
       "      <td>SR 820</td>\n",
       "      <td>True</td>\n",
       "      <td>No</td>\n",
       "      <td>Ehlén Johansson</td>\n",
       "    </tr>\n",
       "    <tr>\n",
       "      <th>3690</th>\n",
       "      <td>ELVARLI</td>\n",
       "      <td>Wardrobes</td>\n",
       "      <td>1572.0</td>\n",
       "      <td>SR 1,755</td>\n",
       "      <td>True</td>\n",
       "      <td>No</td>\n",
       "      <td>Ehlén Johansson</td>\n",
       "    </tr>\n",
       "    <tr>\n",
       "      <th>3691</th>\n",
       "      <td>ELVARLI</td>\n",
       "      <td>Wardrobes</td>\n",
       "      <td>924.0</td>\n",
       "      <td>SR 1,050</td>\n",
       "      <td>True</td>\n",
       "      <td>No</td>\n",
       "      <td>Ehlén Johansson</td>\n",
       "    </tr>\n",
       "    <tr>\n",
       "      <th>3692</th>\n",
       "      <td>ELVARLI</td>\n",
       "      <td>Wardrobes</td>\n",
       "      <td>2745.0</td>\n",
       "      <td>SR 3,130</td>\n",
       "      <td>True</td>\n",
       "      <td>No</td>\n",
       "      <td>Ehlén Johansson</td>\n",
       "    </tr>\n",
       "    <tr>\n",
       "      <th>3693</th>\n",
       "      <td>ELVARLI</td>\n",
       "      <td>Wardrobes</td>\n",
       "      <td>1231.0</td>\n",
       "      <td>SR 1,535</td>\n",
       "      <td>True</td>\n",
       "      <td>No</td>\n",
       "      <td>Ehlén Johansson</td>\n",
       "    </tr>\n",
       "  </tbody>\n",
       "</table>\n",
       "<p>3694 rows × 7 columns</p>\n",
       "</div>"
      ],
      "text/plain": [
       "                       name       category   price     old_price  \\\n",
       "0                  FREKVENS  Bar furniture   265.0  No old price   \n",
       "1                 NORDVIKEN  Bar furniture   995.0  No old price   \n",
       "2     NORDVIKEN / NORDVIKEN  Bar furniture  2095.0  No old price   \n",
       "3                      STIG  Bar furniture    69.0  No old price   \n",
       "4                   NORBERG  Bar furniture   225.0  No old price   \n",
       "...                     ...            ...     ...           ...   \n",
       "3689                ELVARLI      Wardrobes   750.0        SR 820   \n",
       "3690                ELVARLI      Wardrobes  1572.0      SR 1,755   \n",
       "3691                ELVARLI      Wardrobes   924.0      SR 1,050   \n",
       "3692                ELVARLI      Wardrobes  2745.0      SR 3,130   \n",
       "3693                ELVARLI      Wardrobes  1231.0      SR 1,535   \n",
       "\n",
       "      sellable_online other_colors              designer  \n",
       "0                True           No  Nicholai Wiig Hansen  \n",
       "1               False           No     Francis Cayouette  \n",
       "2               False           No     Francis Cayouette  \n",
       "3                True          Yes         Henrik Preutz  \n",
       "4                True           No        Marcus Arvonen  \n",
       "...               ...          ...                   ...  \n",
       "3689             True           No       Ehlén Johansson  \n",
       "3690             True           No       Ehlén Johansson  \n",
       "3691             True           No       Ehlén Johansson  \n",
       "3692             True           No       Ehlén Johansson  \n",
       "3693             True           No       Ehlén Johansson  \n",
       "\n",
       "[3694 rows x 7 columns]"
      ]
     },
     "execution_count": 13,
     "metadata": {},
     "output_type": "execute_result"
    }
   ],
   "source": [
    "df2"
   ]
  },
  {
   "cell_type": "code",
   "execution_count": 14,
   "metadata": {},
   "outputs": [
    {
     "data": {
      "text/plain": [
       "name               0\n",
       "category           0\n",
       "price              0\n",
       "old_price          0\n",
       "sellable_online    0\n",
       "other_colors       0\n",
       "designer           0\n",
       "dtype: int64"
      ]
     },
     "execution_count": 14,
     "metadata": {},
     "output_type": "execute_result"
    }
   ],
   "source": [
    "df2.isna().sum()"
   ]
  },
  {
   "cell_type": "code",
   "execution_count": 19,
   "metadata": {},
   "outputs": [],
   "source": [
    "df2['name'] = df2['name'].apply(lambda x: x.capitalize())"
   ]
  },
  {
   "cell_type": "code",
   "execution_count": 20,
   "metadata": {},
   "outputs": [
    {
     "data": {
      "text/html": [
       "<div>\n",
       "<style scoped>\n",
       "    .dataframe tbody tr th:only-of-type {\n",
       "        vertical-align: middle;\n",
       "    }\n",
       "\n",
       "    .dataframe tbody tr th {\n",
       "        vertical-align: top;\n",
       "    }\n",
       "\n",
       "    .dataframe thead th {\n",
       "        text-align: right;\n",
       "    }\n",
       "</style>\n",
       "<table border=\"1\" class=\"dataframe\">\n",
       "  <thead>\n",
       "    <tr style=\"text-align: right;\">\n",
       "      <th></th>\n",
       "      <th>name</th>\n",
       "      <th>category</th>\n",
       "      <th>price</th>\n",
       "      <th>old_price</th>\n",
       "      <th>sellable_online</th>\n",
       "      <th>other_colors</th>\n",
       "      <th>designer</th>\n",
       "    </tr>\n",
       "  </thead>\n",
       "  <tbody>\n",
       "    <tr>\n",
       "      <th>0</th>\n",
       "      <td>Frekvens</td>\n",
       "      <td>Bar furniture</td>\n",
       "      <td>265.0</td>\n",
       "      <td>No old price</td>\n",
       "      <td>True</td>\n",
       "      <td>No</td>\n",
       "      <td>Nicholai Wiig Hansen</td>\n",
       "    </tr>\n",
       "    <tr>\n",
       "      <th>1</th>\n",
       "      <td>Nordviken</td>\n",
       "      <td>Bar furniture</td>\n",
       "      <td>995.0</td>\n",
       "      <td>No old price</td>\n",
       "      <td>False</td>\n",
       "      <td>No</td>\n",
       "      <td>Francis Cayouette</td>\n",
       "    </tr>\n",
       "    <tr>\n",
       "      <th>2</th>\n",
       "      <td>Nordviken / nordviken</td>\n",
       "      <td>Bar furniture</td>\n",
       "      <td>2095.0</td>\n",
       "      <td>No old price</td>\n",
       "      <td>False</td>\n",
       "      <td>No</td>\n",
       "      <td>Francis Cayouette</td>\n",
       "    </tr>\n",
       "    <tr>\n",
       "      <th>3</th>\n",
       "      <td>Stig</td>\n",
       "      <td>Bar furniture</td>\n",
       "      <td>69.0</td>\n",
       "      <td>No old price</td>\n",
       "      <td>True</td>\n",
       "      <td>Yes</td>\n",
       "      <td>Henrik Preutz</td>\n",
       "    </tr>\n",
       "    <tr>\n",
       "      <th>4</th>\n",
       "      <td>Norberg</td>\n",
       "      <td>Bar furniture</td>\n",
       "      <td>225.0</td>\n",
       "      <td>No old price</td>\n",
       "      <td>True</td>\n",
       "      <td>No</td>\n",
       "      <td>Marcus Arvonen</td>\n",
       "    </tr>\n",
       "    <tr>\n",
       "      <th>...</th>\n",
       "      <td>...</td>\n",
       "      <td>...</td>\n",
       "      <td>...</td>\n",
       "      <td>...</td>\n",
       "      <td>...</td>\n",
       "      <td>...</td>\n",
       "      <td>...</td>\n",
       "    </tr>\n",
       "    <tr>\n",
       "      <th>3689</th>\n",
       "      <td>Elvarli</td>\n",
       "      <td>Wardrobes</td>\n",
       "      <td>750.0</td>\n",
       "      <td>SR 820</td>\n",
       "      <td>True</td>\n",
       "      <td>No</td>\n",
       "      <td>Ehlén Johansson</td>\n",
       "    </tr>\n",
       "    <tr>\n",
       "      <th>3690</th>\n",
       "      <td>Elvarli</td>\n",
       "      <td>Wardrobes</td>\n",
       "      <td>1572.0</td>\n",
       "      <td>SR 1,755</td>\n",
       "      <td>True</td>\n",
       "      <td>No</td>\n",
       "      <td>Ehlén Johansson</td>\n",
       "    </tr>\n",
       "    <tr>\n",
       "      <th>3691</th>\n",
       "      <td>Elvarli</td>\n",
       "      <td>Wardrobes</td>\n",
       "      <td>924.0</td>\n",
       "      <td>SR 1,050</td>\n",
       "      <td>True</td>\n",
       "      <td>No</td>\n",
       "      <td>Ehlén Johansson</td>\n",
       "    </tr>\n",
       "    <tr>\n",
       "      <th>3692</th>\n",
       "      <td>Elvarli</td>\n",
       "      <td>Wardrobes</td>\n",
       "      <td>2745.0</td>\n",
       "      <td>SR 3,130</td>\n",
       "      <td>True</td>\n",
       "      <td>No</td>\n",
       "      <td>Ehlén Johansson</td>\n",
       "    </tr>\n",
       "    <tr>\n",
       "      <th>3693</th>\n",
       "      <td>Elvarli</td>\n",
       "      <td>Wardrobes</td>\n",
       "      <td>1231.0</td>\n",
       "      <td>SR 1,535</td>\n",
       "      <td>True</td>\n",
       "      <td>No</td>\n",
       "      <td>Ehlén Johansson</td>\n",
       "    </tr>\n",
       "  </tbody>\n",
       "</table>\n",
       "<p>3694 rows × 7 columns</p>\n",
       "</div>"
      ],
      "text/plain": [
       "                       name       category   price     old_price  \\\n",
       "0                  Frekvens  Bar furniture   265.0  No old price   \n",
       "1                 Nordviken  Bar furniture   995.0  No old price   \n",
       "2     Nordviken / nordviken  Bar furniture  2095.0  No old price   \n",
       "3                      Stig  Bar furniture    69.0  No old price   \n",
       "4                   Norberg  Bar furniture   225.0  No old price   \n",
       "...                     ...            ...     ...           ...   \n",
       "3689                Elvarli      Wardrobes   750.0        SR 820   \n",
       "3690                Elvarli      Wardrobes  1572.0      SR 1,755   \n",
       "3691                Elvarli      Wardrobes   924.0      SR 1,050   \n",
       "3692                Elvarli      Wardrobes  2745.0      SR 3,130   \n",
       "3693                Elvarli      Wardrobes  1231.0      SR 1,535   \n",
       "\n",
       "      sellable_online other_colors              designer  \n",
       "0                True           No  Nicholai Wiig Hansen  \n",
       "1               False           No     Francis Cayouette  \n",
       "2               False           No     Francis Cayouette  \n",
       "3                True          Yes         Henrik Preutz  \n",
       "4                True           No        Marcus Arvonen  \n",
       "...               ...          ...                   ...  \n",
       "3689             True           No       Ehlén Johansson  \n",
       "3690             True           No       Ehlén Johansson  \n",
       "3691             True           No       Ehlén Johansson  \n",
       "3692             True           No       Ehlén Johansson  \n",
       "3693             True           No       Ehlén Johansson  \n",
       "\n",
       "[3694 rows x 7 columns]"
      ]
     },
     "execution_count": 20,
     "metadata": {},
     "output_type": "execute_result"
    }
   ],
   "source": [
    "df2"
   ]
  },
  {
   "cell_type": "code",
   "execution_count": 22,
   "metadata": {},
   "outputs": [],
   "source": [
    "df2['sellable_online'] = np.where(df2['sellable_online'] == True,'Yes','No')"
   ]
  },
  {
   "cell_type": "code",
   "execution_count": 23,
   "metadata": {},
   "outputs": [
    {
     "data": {
      "text/html": [
       "<div>\n",
       "<style scoped>\n",
       "    .dataframe tbody tr th:only-of-type {\n",
       "        vertical-align: middle;\n",
       "    }\n",
       "\n",
       "    .dataframe tbody tr th {\n",
       "        vertical-align: top;\n",
       "    }\n",
       "\n",
       "    .dataframe thead th {\n",
       "        text-align: right;\n",
       "    }\n",
       "</style>\n",
       "<table border=\"1\" class=\"dataframe\">\n",
       "  <thead>\n",
       "    <tr style=\"text-align: right;\">\n",
       "      <th></th>\n",
       "      <th>name</th>\n",
       "      <th>category</th>\n",
       "      <th>price</th>\n",
       "      <th>old_price</th>\n",
       "      <th>sellable_online</th>\n",
       "      <th>other_colors</th>\n",
       "      <th>designer</th>\n",
       "    </tr>\n",
       "  </thead>\n",
       "  <tbody>\n",
       "    <tr>\n",
       "      <th>0</th>\n",
       "      <td>Frekvens</td>\n",
       "      <td>Bar furniture</td>\n",
       "      <td>265.0</td>\n",
       "      <td>No old price</td>\n",
       "      <td>Yes</td>\n",
       "      <td>No</td>\n",
       "      <td>Nicholai Wiig Hansen</td>\n",
       "    </tr>\n",
       "    <tr>\n",
       "      <th>1</th>\n",
       "      <td>Nordviken</td>\n",
       "      <td>Bar furniture</td>\n",
       "      <td>995.0</td>\n",
       "      <td>No old price</td>\n",
       "      <td>No</td>\n",
       "      <td>No</td>\n",
       "      <td>Francis Cayouette</td>\n",
       "    </tr>\n",
       "    <tr>\n",
       "      <th>2</th>\n",
       "      <td>Nordviken / nordviken</td>\n",
       "      <td>Bar furniture</td>\n",
       "      <td>2095.0</td>\n",
       "      <td>No old price</td>\n",
       "      <td>No</td>\n",
       "      <td>No</td>\n",
       "      <td>Francis Cayouette</td>\n",
       "    </tr>\n",
       "    <tr>\n",
       "      <th>3</th>\n",
       "      <td>Stig</td>\n",
       "      <td>Bar furniture</td>\n",
       "      <td>69.0</td>\n",
       "      <td>No old price</td>\n",
       "      <td>Yes</td>\n",
       "      <td>Yes</td>\n",
       "      <td>Henrik Preutz</td>\n",
       "    </tr>\n",
       "    <tr>\n",
       "      <th>4</th>\n",
       "      <td>Norberg</td>\n",
       "      <td>Bar furniture</td>\n",
       "      <td>225.0</td>\n",
       "      <td>No old price</td>\n",
       "      <td>Yes</td>\n",
       "      <td>No</td>\n",
       "      <td>Marcus Arvonen</td>\n",
       "    </tr>\n",
       "    <tr>\n",
       "      <th>...</th>\n",
       "      <td>...</td>\n",
       "      <td>...</td>\n",
       "      <td>...</td>\n",
       "      <td>...</td>\n",
       "      <td>...</td>\n",
       "      <td>...</td>\n",
       "      <td>...</td>\n",
       "    </tr>\n",
       "    <tr>\n",
       "      <th>3689</th>\n",
       "      <td>Elvarli</td>\n",
       "      <td>Wardrobes</td>\n",
       "      <td>750.0</td>\n",
       "      <td>SR 820</td>\n",
       "      <td>Yes</td>\n",
       "      <td>No</td>\n",
       "      <td>Ehlén Johansson</td>\n",
       "    </tr>\n",
       "    <tr>\n",
       "      <th>3690</th>\n",
       "      <td>Elvarli</td>\n",
       "      <td>Wardrobes</td>\n",
       "      <td>1572.0</td>\n",
       "      <td>SR 1,755</td>\n",
       "      <td>Yes</td>\n",
       "      <td>No</td>\n",
       "      <td>Ehlén Johansson</td>\n",
       "    </tr>\n",
       "    <tr>\n",
       "      <th>3691</th>\n",
       "      <td>Elvarli</td>\n",
       "      <td>Wardrobes</td>\n",
       "      <td>924.0</td>\n",
       "      <td>SR 1,050</td>\n",
       "      <td>Yes</td>\n",
       "      <td>No</td>\n",
       "      <td>Ehlén Johansson</td>\n",
       "    </tr>\n",
       "    <tr>\n",
       "      <th>3692</th>\n",
       "      <td>Elvarli</td>\n",
       "      <td>Wardrobes</td>\n",
       "      <td>2745.0</td>\n",
       "      <td>SR 3,130</td>\n",
       "      <td>Yes</td>\n",
       "      <td>No</td>\n",
       "      <td>Ehlén Johansson</td>\n",
       "    </tr>\n",
       "    <tr>\n",
       "      <th>3693</th>\n",
       "      <td>Elvarli</td>\n",
       "      <td>Wardrobes</td>\n",
       "      <td>1231.0</td>\n",
       "      <td>SR 1,535</td>\n",
       "      <td>Yes</td>\n",
       "      <td>No</td>\n",
       "      <td>Ehlén Johansson</td>\n",
       "    </tr>\n",
       "  </tbody>\n",
       "</table>\n",
       "<p>3694 rows × 7 columns</p>\n",
       "</div>"
      ],
      "text/plain": [
       "                       name       category   price     old_price  \\\n",
       "0                  Frekvens  Bar furniture   265.0  No old price   \n",
       "1                 Nordviken  Bar furniture   995.0  No old price   \n",
       "2     Nordviken / nordviken  Bar furniture  2095.0  No old price   \n",
       "3                      Stig  Bar furniture    69.0  No old price   \n",
       "4                   Norberg  Bar furniture   225.0  No old price   \n",
       "...                     ...            ...     ...           ...   \n",
       "3689                Elvarli      Wardrobes   750.0        SR 820   \n",
       "3690                Elvarli      Wardrobes  1572.0      SR 1,755   \n",
       "3691                Elvarli      Wardrobes   924.0      SR 1,050   \n",
       "3692                Elvarli      Wardrobes  2745.0      SR 3,130   \n",
       "3693                Elvarli      Wardrobes  1231.0      SR 1,535   \n",
       "\n",
       "     sellable_online other_colors              designer  \n",
       "0                Yes           No  Nicholai Wiig Hansen  \n",
       "1                 No           No     Francis Cayouette  \n",
       "2                 No           No     Francis Cayouette  \n",
       "3                Yes          Yes         Henrik Preutz  \n",
       "4                Yes           No        Marcus Arvonen  \n",
       "...              ...          ...                   ...  \n",
       "3689             Yes           No       Ehlén Johansson  \n",
       "3690             Yes           No       Ehlén Johansson  \n",
       "3691             Yes           No       Ehlén Johansson  \n",
       "3692             Yes           No       Ehlén Johansson  \n",
       "3693             Yes           No       Ehlén Johansson  \n",
       "\n",
       "[3694 rows x 7 columns]"
      ]
     },
     "execution_count": 23,
     "metadata": {},
     "output_type": "execute_result"
    }
   ],
   "source": [
    "df2"
   ]
  },
  {
   "cell_type": "code",
   "execution_count": 59,
   "metadata": {},
   "outputs": [
    {
     "name": "stdout",
     "output_type": "stream",
     "text": [
      "distinct values [name] = 607\n",
      "distinct values [category] = 17\n",
      "distinct values [sellable_online] = 2\n",
      "distinct values [other_colors] = 2\n",
      "distinct values [designer] = 381\n"
     ]
    }
   ],
   "source": [
    "for i in df2.columns:\n",
    "    if i != 'price' and i!='old_price':\n",
    "        x = df2[i].nunique()\n",
    "        print(f'distinct values [{i}] = {x}')"
   ]
  },
  {
   "cell_type": "code",
   "execution_count": 60,
   "metadata": {},
   "outputs": [
    {
     "data": {
      "text/plain": [
       "array(['Bar furniture', 'Beds', 'Bookcases & shelving units',\n",
       "       'Cabinets & cupboards', 'Café furniture', 'Chairs',\n",
       "       'Chests of drawers & drawer units', \"Children's furniture\",\n",
       "       'Nursery furniture', 'Outdoor furniture', 'Room dividers',\n",
       "       'Sideboards, buffets & console tables', 'Sofas & armchairs',\n",
       "       'Tables & desks', 'Trolleys', 'TV & media furniture', 'Wardrobes'],\n",
       "      dtype=object)"
      ]
     },
     "execution_count": 60,
     "metadata": {},
     "output_type": "execute_result"
    }
   ],
   "source": [
    "df2['category'].unique()"
   ]
  },
  {
   "attachments": {},
   "cell_type": "markdown",
   "metadata": {},
   "source": [
    "### Furniture category count"
   ]
  },
  {
   "cell_type": "code",
   "execution_count": 67,
   "metadata": {},
   "outputs": [
    {
     "data": {
      "text/html": [
       "<div>\n",
       "<style scoped>\n",
       "    .dataframe tbody tr th:only-of-type {\n",
       "        vertical-align: middle;\n",
       "    }\n",
       "\n",
       "    .dataframe tbody tr th {\n",
       "        vertical-align: top;\n",
       "    }\n",
       "\n",
       "    .dataframe thead th {\n",
       "        text-align: right;\n",
       "    }\n",
       "</style>\n",
       "<table border=\"1\" class=\"dataframe\">\n",
       "  <thead>\n",
       "    <tr style=\"text-align: right;\">\n",
       "      <th></th>\n",
       "      <th>index</th>\n",
       "      <th>count</th>\n",
       "    </tr>\n",
       "  </thead>\n",
       "  <tbody>\n",
       "    <tr>\n",
       "      <th>0</th>\n",
       "      <td>Tables &amp; desks</td>\n",
       "      <td>612</td>\n",
       "    </tr>\n",
       "    <tr>\n",
       "      <th>1</th>\n",
       "      <td>Bookcases &amp; shelving units</td>\n",
       "      <td>548</td>\n",
       "    </tr>\n",
       "    <tr>\n",
       "      <th>2</th>\n",
       "      <td>Chairs</td>\n",
       "      <td>481</td>\n",
       "    </tr>\n",
       "    <tr>\n",
       "      <th>3</th>\n",
       "      <td>Sofas &amp; armchairs</td>\n",
       "      <td>428</td>\n",
       "    </tr>\n",
       "    <tr>\n",
       "      <th>4</th>\n",
       "      <td>Cabinets &amp; cupboards</td>\n",
       "      <td>292</td>\n",
       "    </tr>\n",
       "    <tr>\n",
       "      <th>5</th>\n",
       "      <td>Wardrobes</td>\n",
       "      <td>236</td>\n",
       "    </tr>\n",
       "    <tr>\n",
       "      <th>6</th>\n",
       "      <td>Outdoor furniture</td>\n",
       "      <td>216</td>\n",
       "    </tr>\n",
       "    <tr>\n",
       "      <th>7</th>\n",
       "      <td>Beds</td>\n",
       "      <td>208</td>\n",
       "    </tr>\n",
       "    <tr>\n",
       "      <th>8</th>\n",
       "      <td>TV &amp; media furniture</td>\n",
       "      <td>190</td>\n",
       "    </tr>\n",
       "    <tr>\n",
       "      <th>9</th>\n",
       "      <td>Chests of drawers &amp; drawer units</td>\n",
       "      <td>125</td>\n",
       "    </tr>\n",
       "    <tr>\n",
       "      <th>10</th>\n",
       "      <td>Children's furniture</td>\n",
       "      <td>124</td>\n",
       "    </tr>\n",
       "    <tr>\n",
       "      <th>11</th>\n",
       "      <td>Nursery furniture</td>\n",
       "      <td>97</td>\n",
       "    </tr>\n",
       "    <tr>\n",
       "      <th>12</th>\n",
       "      <td>Bar furniture</td>\n",
       "      <td>47</td>\n",
       "    </tr>\n",
       "    <tr>\n",
       "      <th>13</th>\n",
       "      <td>Trolleys</td>\n",
       "      <td>28</td>\n",
       "    </tr>\n",
       "    <tr>\n",
       "      <th>14</th>\n",
       "      <td>Café furniture</td>\n",
       "      <td>26</td>\n",
       "    </tr>\n",
       "    <tr>\n",
       "      <th>15</th>\n",
       "      <td>Sideboards, buffets &amp; console tables</td>\n",
       "      <td>23</td>\n",
       "    </tr>\n",
       "    <tr>\n",
       "      <th>16</th>\n",
       "      <td>Room dividers</td>\n",
       "      <td>13</td>\n",
       "    </tr>\n",
       "  </tbody>\n",
       "</table>\n",
       "</div>"
      ],
      "text/plain": [
       "                                   index  count\n",
       "0                         Tables & desks    612\n",
       "1             Bookcases & shelving units    548\n",
       "2                                 Chairs    481\n",
       "3                      Sofas & armchairs    428\n",
       "4                   Cabinets & cupboards    292\n",
       "5                              Wardrobes    236\n",
       "6                      Outdoor furniture    216\n",
       "7                                   Beds    208\n",
       "8                   TV & media furniture    190\n",
       "9       Chests of drawers & drawer units    125\n",
       "10                  Children's furniture    124\n",
       "11                     Nursery furniture     97\n",
       "12                         Bar furniture     47\n",
       "13                              Trolleys     28\n",
       "14                        Café furniture     26\n",
       "15  Sideboards, buffets & console tables     23\n",
       "16                         Room dividers     13"
      ]
     },
     "execution_count": 67,
     "metadata": {},
     "output_type": "execute_result"
    }
   ],
   "source": [
    "df2['category'].value_counts().reset_index(name='count')"
   ]
  },
  {
   "cell_type": "code",
   "execution_count": 79,
   "metadata": {},
   "outputs": [
    {
     "data": {
      "text/plain": [
       "Text(0, 0.5, 'Category name')"
      ]
     },
     "execution_count": 79,
     "metadata": {},
     "output_type": "execute_result"
    },
    {
     "data": {
      "image/png": "[encoded data removed]",
      "text/plain": [
       "<Figure size 1200x800 with 1 Axes>"
      ]
     },
     "metadata": {},
     "output_type": "display_data"
    }
   ],
   "source": [
    "plt.figure(figsize=(12,8))\n",
    "bar = sns.barplot(data=df2['category'].value_counts().reset_index(name='count'),\n",
    "y='index',\n",
    "x='count',\n",
    "edgecolor='black')\n",
    "plt.bar_label(bar.containers[0])\n",
    "plt.gca().xaxis.set_major_locator(ticker.MultipleLocator(50))\n",
    "plt.title('Number of Distinct Observations by Furniture Category')\n",
    "plt.xlabel('Distinct values count')\n",
    "plt.ylabel('Category name')\n"
   ]
  },
  {
   "cell_type": "code",
   "execution_count": 80,
   "metadata": {},
   "outputs": [
    {
     "data": {
      "text/html": [
       "<div>\n",
       "<style scoped>\n",
       "    .dataframe tbody tr th:only-of-type {\n",
       "        vertical-align: middle;\n",
       "    }\n",
       "\n",
       "    .dataframe tbody tr th {\n",
       "        vertical-align: top;\n",
       "    }\n",
       "\n",
       "    .dataframe thead th {\n",
       "        text-align: right;\n",
       "    }\n",
       "</style>\n",
       "<table border=\"1\" class=\"dataframe\">\n",
       "  <thead>\n",
       "    <tr style=\"text-align: right;\">\n",
       "      <th></th>\n",
       "      <th>name</th>\n",
       "      <th>category</th>\n",
       "      <th>price</th>\n",
       "      <th>old_price</th>\n",
       "      <th>sellable_online</th>\n",
       "      <th>other_colors</th>\n",
       "      <th>designer</th>\n",
       "    </tr>\n",
       "  </thead>\n",
       "  <tbody>\n",
       "    <tr>\n",
       "      <th>0</th>\n",
       "      <td>Frekvens</td>\n",
       "      <td>Bar furniture</td>\n",
       "      <td>265.0</td>\n",
       "      <td>No old price</td>\n",
       "      <td>Yes</td>\n",
       "      <td>No</td>\n",
       "      <td>Nicholai Wiig Hansen</td>\n",
       "    </tr>\n",
       "    <tr>\n",
       "      <th>1</th>\n",
       "      <td>Nordviken</td>\n",
       "      <td>Bar furniture</td>\n",
       "      <td>995.0</td>\n",
       "      <td>No old price</td>\n",
       "      <td>No</td>\n",
       "      <td>No</td>\n",
       "      <td>Francis Cayouette</td>\n",
       "    </tr>\n",
       "    <tr>\n",
       "      <th>2</th>\n",
       "      <td>Nordviken / nordviken</td>\n",
       "      <td>Bar furniture</td>\n",
       "      <td>2095.0</td>\n",
       "      <td>No old price</td>\n",
       "      <td>No</td>\n",
       "      <td>No</td>\n",
       "      <td>Francis Cayouette</td>\n",
       "    </tr>\n",
       "    <tr>\n",
       "      <th>3</th>\n",
       "      <td>Stig</td>\n",
       "      <td>Bar furniture</td>\n",
       "      <td>69.0</td>\n",
       "      <td>No old price</td>\n",
       "      <td>Yes</td>\n",
       "      <td>Yes</td>\n",
       "      <td>Henrik Preutz</td>\n",
       "    </tr>\n",
       "    <tr>\n",
       "      <th>4</th>\n",
       "      <td>Norberg</td>\n",
       "      <td>Bar furniture</td>\n",
       "      <td>225.0</td>\n",
       "      <td>No old price</td>\n",
       "      <td>Yes</td>\n",
       "      <td>No</td>\n",
       "      <td>Marcus Arvonen</td>\n",
       "    </tr>\n",
       "    <tr>\n",
       "      <th>5</th>\n",
       "      <td>Ingolf</td>\n",
       "      <td>Bar furniture</td>\n",
       "      <td>345.0</td>\n",
       "      <td>No old price</td>\n",
       "      <td>Yes</td>\n",
       "      <td>No</td>\n",
       "      <td>Carina Bengs</td>\n",
       "    </tr>\n",
       "    <tr>\n",
       "      <th>6</th>\n",
       "      <td>Franklin</td>\n",
       "      <td>Bar furniture</td>\n",
       "      <td>129.0</td>\n",
       "      <td>No old price</td>\n",
       "      <td>Yes</td>\n",
       "      <td>No</td>\n",
       "      <td>K Hagberg/M Hagberg</td>\n",
       "    </tr>\n",
       "    <tr>\n",
       "      <th>7</th>\n",
       "      <td>Dalfred</td>\n",
       "      <td>Bar furniture</td>\n",
       "      <td>195.0</td>\n",
       "      <td>No old price</td>\n",
       "      <td>Yes</td>\n",
       "      <td>No</td>\n",
       "      <td>Sarah Fager</td>\n",
       "    </tr>\n",
       "    <tr>\n",
       "      <th>8</th>\n",
       "      <td>Franklin</td>\n",
       "      <td>Bar furniture</td>\n",
       "      <td>129.0</td>\n",
       "      <td>No old price</td>\n",
       "      <td>Yes</td>\n",
       "      <td>No</td>\n",
       "      <td>K Hagberg/M Hagberg</td>\n",
       "    </tr>\n",
       "    <tr>\n",
       "      <th>9</th>\n",
       "      <td>Ekedalen / ekedalen</td>\n",
       "      <td>Bar furniture</td>\n",
       "      <td>2176.0</td>\n",
       "      <td>SR 2,375</td>\n",
       "      <td>Yes</td>\n",
       "      <td>No</td>\n",
       "      <td>Ehlén Johansson</td>\n",
       "    </tr>\n",
       "  </tbody>\n",
       "</table>\n",
       "</div>"
      ],
      "text/plain": [
       "                    name       category   price     old_price sellable_online  \\\n",
       "0               Frekvens  Bar furniture   265.0  No old price             Yes   \n",
       "1              Nordviken  Bar furniture   995.0  No old price              No   \n",
       "2  Nordviken / nordviken  Bar furniture  2095.0  No old price              No   \n",
       "3                   Stig  Bar furniture    69.0  No old price             Yes   \n",
       "4                Norberg  Bar furniture   225.0  No old price             Yes   \n",
       "5                 Ingolf  Bar furniture   345.0  No old price             Yes   \n",
       "6               Franklin  Bar furniture   129.0  No old price             Yes   \n",
       "7                Dalfred  Bar furniture   195.0  No old price             Yes   \n",
       "8               Franklin  Bar furniture   129.0  No old price             Yes   \n",
       "9    Ekedalen / ekedalen  Bar furniture  2176.0      SR 2,375             Yes   \n",
       "\n",
       "  other_colors              designer  \n",
       "0           No  Nicholai Wiig Hansen  \n",
       "1           No     Francis Cayouette  \n",
       "2           No     Francis Cayouette  \n",
       "3          Yes         Henrik Preutz  \n",
       "4           No        Marcus Arvonen  \n",
       "5           No          Carina Bengs  \n",
       "6           No   K Hagberg/M Hagberg  \n",
       "7           No           Sarah Fager  \n",
       "8           No   K Hagberg/M Hagberg  \n",
       "9           No       Ehlén Johansson  "
      ]
     },
     "execution_count": 80,
     "metadata": {},
     "output_type": "execute_result"
    }
   ],
   "source": [
    "df2.head(10)"
   ]
  },
  {
   "cell_type": "code",
   "execution_count": 83,
   "metadata": {},
   "outputs": [],
   "source": [
    "df2_price = df2.groupby(['category'])['price'].mean().reset_index()"
   ]
  },
  {
   "cell_type": "code",
   "execution_count": 85,
   "metadata": {},
   "outputs": [],
   "source": [
    "df2_price['price'] = round(df2_price['price'],2)"
   ]
  },
  {
   "cell_type": "code",
   "execution_count": 90,
   "metadata": {},
   "outputs": [],
   "source": [
    "df2_price = df2_price.sort_values('price',ascending=False).reset_index(drop=True)"
   ]
  },
  {
   "attachments": {},
   "cell_type": "markdown",
   "metadata": {},
   "source": [
    "### Average price per furniture category"
   ]
  },
  {
   "cell_type": "code",
   "execution_count": 91,
   "metadata": {},
   "outputs": [
    {
     "data": {
      "text/html": [
       "<div>\n",
       "<style scoped>\n",
       "    .dataframe tbody tr th:only-of-type {\n",
       "        vertical-align: middle;\n",
       "    }\n",
       "\n",
       "    .dataframe tbody tr th {\n",
       "        vertical-align: top;\n",
       "    }\n",
       "\n",
       "    .dataframe thead th {\n",
       "        text-align: right;\n",
       "    }\n",
       "</style>\n",
       "<table border=\"1\" class=\"dataframe\">\n",
       "  <thead>\n",
       "    <tr style=\"text-align: right;\">\n",
       "      <th></th>\n",
       "      <th>category</th>\n",
       "      <th>price</th>\n",
       "    </tr>\n",
       "  </thead>\n",
       "  <tbody>\n",
       "    <tr>\n",
       "      <th>0</th>\n",
       "      <td>Wardrobes</td>\n",
       "      <td>2162.14</td>\n",
       "    </tr>\n",
       "    <tr>\n",
       "      <th>1</th>\n",
       "      <td>Sofas &amp; armchairs</td>\n",
       "      <td>2004.02</td>\n",
       "    </tr>\n",
       "    <tr>\n",
       "      <th>2</th>\n",
       "      <td>Beds</td>\n",
       "      <td>1647.43</td>\n",
       "    </tr>\n",
       "    <tr>\n",
       "      <th>3</th>\n",
       "      <td>Tables &amp; desks</td>\n",
       "      <td>1129.40</td>\n",
       "    </tr>\n",
       "    <tr>\n",
       "      <th>4</th>\n",
       "      <td>Sideboards, buffets &amp; console tables</td>\n",
       "      <td>1068.09</td>\n",
       "    </tr>\n",
       "    <tr>\n",
       "      <th>5</th>\n",
       "      <td>Chairs</td>\n",
       "      <td>1048.93</td>\n",
       "    </tr>\n",
       "    <tr>\n",
       "      <th>6</th>\n",
       "      <td>Room dividers</td>\n",
       "      <td>932.00</td>\n",
       "    </tr>\n",
       "    <tr>\n",
       "      <th>7</th>\n",
       "      <td>Outdoor furniture</td>\n",
       "      <td>859.83</td>\n",
       "    </tr>\n",
       "    <tr>\n",
       "      <th>8</th>\n",
       "      <td>Cabinets &amp; cupboards</td>\n",
       "      <td>789.02</td>\n",
       "    </tr>\n",
       "    <tr>\n",
       "      <th>9</th>\n",
       "      <td>Bar furniture</td>\n",
       "      <td>679.55</td>\n",
       "    </tr>\n",
       "    <tr>\n",
       "      <th>10</th>\n",
       "      <td>Trolleys</td>\n",
       "      <td>678.52</td>\n",
       "    </tr>\n",
       "    <tr>\n",
       "      <th>11</th>\n",
       "      <td>TV &amp; media furniture</td>\n",
       "      <td>659.05</td>\n",
       "    </tr>\n",
       "    <tr>\n",
       "      <th>12</th>\n",
       "      <td>Chests of drawers &amp; drawer units</td>\n",
       "      <td>612.18</td>\n",
       "    </tr>\n",
       "    <tr>\n",
       "      <th>13</th>\n",
       "      <td>Café furniture</td>\n",
       "      <td>553.88</td>\n",
       "    </tr>\n",
       "    <tr>\n",
       "      <th>14</th>\n",
       "      <td>Bookcases &amp; shelving units</td>\n",
       "      <td>519.42</td>\n",
       "    </tr>\n",
       "    <tr>\n",
       "      <th>15</th>\n",
       "      <td>Nursery furniture</td>\n",
       "      <td>393.66</td>\n",
       "    </tr>\n",
       "    <tr>\n",
       "      <th>16</th>\n",
       "      <td>Children's furniture</td>\n",
       "      <td>272.76</td>\n",
       "    </tr>\n",
       "  </tbody>\n",
       "</table>\n",
       "</div>"
      ],
      "text/plain": [
       "                                category    price\n",
       "0                              Wardrobes  2162.14\n",
       "1                      Sofas & armchairs  2004.02\n",
       "2                                   Beds  1647.43\n",
       "3                         Tables & desks  1129.40\n",
       "4   Sideboards, buffets & console tables  1068.09\n",
       "5                                 Chairs  1048.93\n",
       "6                          Room dividers   932.00\n",
       "7                      Outdoor furniture   859.83\n",
       "8                   Cabinets & cupboards   789.02\n",
       "9                          Bar furniture   679.55\n",
       "10                              Trolleys   678.52\n",
       "11                  TV & media furniture   659.05\n",
       "12      Chests of drawers & drawer units   612.18\n",
       "13                        Café furniture   553.88\n",
       "14            Bookcases & shelving units   519.42\n",
       "15                     Nursery furniture   393.66\n",
       "16                  Children's furniture   272.76"
      ]
     },
     "execution_count": 91,
     "metadata": {},
     "output_type": "execute_result"
    }
   ],
   "source": [
    "df2_price"
   ]
  },
  {
   "cell_type": "code",
   "execution_count": 106,
   "metadata": {},
   "outputs": [
    {
     "data": {
      "text/plain": [
       "Text(0.5, 1.0, 'Average Price by Category')"
      ]
     },
     "execution_count": 106,
     "metadata": {},
     "output_type": "execute_result"
    },
    {
     "data": {
      "image/png": "[encoded data removed]",
      "text/plain": [
       "<Figure size 1500x850 with 1 Axes>"
      ]
     },
     "metadata": {},
     "output_type": "display_data"
    }
   ],
   "source": [
    "plt.figure(figsize=(15,8.5))\n",
    "bar = sns.barplot(data=df2_price,\n",
    "y='category',\n",
    "x='price',\n",
    "edgecolor='black',\n",
    "palette='viridis')\n",
    "plt.bar_label(bar.containers[0])\n",
    "plt.gca().xaxis.set_major_locator(ticker.MultipleLocator(100))\n",
    "plt.gca().xaxis.set_major_formatter(ticker.FormatStrFormatter('%.0f$'))\n",
    "plt.title('Average Price by Category')"
   ]
  },
  {
   "cell_type": "code",
   "execution_count": 113,
   "metadata": {},
   "outputs": [],
   "source": [
    "df2_price_px = df2_price.sort_values('price',ascending=True).reset_index(drop=True)"
   ]
  },
  {
   "attachments": {},
   "cell_type": "markdown",
   "metadata": {},
   "source": [
    "### Average price by furniture category in IKEA - dynamic plot"
   ]
  },
  {
   "cell_type": "code",
   "execution_count": 120,
   "metadata": {},
   "outputs": [
    {
     "data": {
      "application/vnd.plotly.v1+json": {
       "config": {
        "plotlyServerURL": "https://plot.ly"
       },
       "data": [
        {
         "alignmentgroup": "True",
         "hovertemplate": "price=%{marker.color}<br>category=%{y}<extra></extra>",
         "legendgroup": "",
         "marker": {
          "color": [
           272.76,
           393.66,
           519.42,
           553.88,
           612.18,
           659.05,
           678.52,
           679.55,
           789.02,
           859.83,
           932,
           1048.93,
           1068.09,
           1129.4,
           1647.43,
           2004.02,
           2162.14
          ],
          "coloraxis": "coloraxis",
          "pattern": {
           "shape": ""
          }
         },
         "name": "",
         "offsetgroup": "",
         "orientation": "h",
         "showlegend": false,
         "textposition": "auto",
         "type": "bar",
         "x": [
          272.76,
          393.66,
          519.42,
          553.88,
          612.18,
          659.05,
          678.52,
          679.55,
          789.02,
          859.83,
          932,
          1048.93,
          1068.09,
          1129.4,
          1647.43,
          2004.02,
          2162.14
         ],
         "xaxis": "x",
         "y": [
          "Children's furniture",
          "Nursery furniture",
          "Bookcases & shelving units",
          "Café furniture",
          "Chests of drawers & drawer units",
          "TV & media furniture",
          "Trolleys",
          "Bar furniture",
          "Cabinets & cupboards",
          "Outdoor furniture",
          "Room dividers",
          "Chairs",
          "Sideboards, buffets & console tables",
          "Tables & desks",
          "Beds",
          "Sofas & armchairs",
          "Wardrobes"
         ],
         "yaxis": "y"
        }
       ],
       "layout": {
        "barmode": "relative",
        "coloraxis": {
         "colorbar": {
          "title": {
           "text": "price"
          }
         },
         "colorscale": [
          [
           0,
           "rgb(247,252,253)"
          ],
          [
           0.125,
           "rgb(224,236,244)"
          ],
          [
           0.25,
           "rgb(191,211,230)"
          ],
          [
           0.375,
           "rgb(158,188,218)"
          ],
          [
           0.5,
           "rgb(140,150,198)"
          ],
          [
           0.625,
           "rgb(140,107,177)"
          ],
          [
           0.75,
           "rgb(136,65,157)"
          ],
          [
           0.875,
           "rgb(129,15,124)"
          ],
          [
           1,
           "rgb(77,0,75)"
          ]
         ]
        },
        "height": 800,
        "legend": {
         "tracegroupgap": 0
        },
        "margin": {
         "t": 60
        },
        "template": {
         "data": {
          "bar": [
           {
            "error_x": {
             "color": "#2a3f5f"
            },
            "error_y": {
             "color": "#2a3f5f"
            },
            "marker": {
             "line": {
              "color": "#E5ECF6",
              "width": 0.5
             },
             "pattern": {
              "fillmode": "overlay",
              "size": 10,
              "solidity": 0.2
             }
            },
            "type": "bar"
           }
          ],
          "barpolar": [
           {
            "marker": {
             "line": {
              "color": "#E5ECF6",
              "width": 0.5
             },
             "pattern": {
              "fillmode": "overlay",
              "size": 10,
              "solidity": 0.2
             }
            },
            "type": "barpolar"
           }
          ],
          "carpet": [
           {
            "aaxis": {
             "endlinecolor": "#2a3f5f",
             "gridcolor": "white",
             "linecolor": "white",
             "minorgridcolor": "white",
             "startlinecolor": "#2a3f5f"
            },
            "baxis": {
             "endlinecolor": "#2a3f5f",
             "gridcolor": "white",
             "linecolor": "white",
             "minorgridcolor": "white",
             "startlinecolor": "#2a3f5f"
            },
            "type": "carpet"
           }
          ],
          "choropleth": [
           {
            "colorbar": {
             "outlinewidth": 0,
             "ticks": ""
            },
            "type": "choropleth"
           }
          ],
          "contour": [
           {
            "colorbar": {
             "outlinewidth": 0,
             "ticks": ""
            },
            "colorscale": [
             [
              0,
              "#0d0887"
             ],
             [
              0.1111111111111111,
              "#46039f"
             ],
             [
              0.2222222222222222,
              "#7201a8"
             ],
             [
              0.3333333333333333,
              "#9c179e"
             ],
             [
              0.4444444444444444,
              "#bd3786"
             ],
             [
              0.5555555555555556,
              "#d8576b"
             ],
             [
              0.6666666666666666,
              "#ed7953"
             ],
             [
              0.7777777777777778,
              "#fb9f3a"
             ],
             [
              0.8888888888888888,
              "#fdca26"
             ],
             [
              1,
              "#f0f921"
             ]
            ],
            "type": "contour"
           }
          ],
          "contourcarpet": [
           {
            "colorbar": {
             "outlinewidth": 0,
             "ticks": ""
            },
            "type": "contourcarpet"
           }
          ],
          "heatmap": [
           {
            "colorbar": {
             "outlinewidth": 0,
             "ticks": ""
            },
            "colorscale": [
             [
              0,
              "#0d0887"
             ],
             [
              0.1111111111111111,
              "#46039f"
             ],
             [
              0.2222222222222222,
              "#7201a8"
             ],
             [
              0.3333333333333333,
              "#9c179e"
             ],
             [
              0.4444444444444444,
              "#bd3786"
             ],
             [
              0.5555555555555556,
              "#d8576b"
             ],
             [
              0.6666666666666666,
              "#ed7953"
             ],
             [
              0.7777777777777778,
              "#fb9f3a"
             ],
             [
              0.8888888888888888,
              "#fdca26"
             ],
             [
              1,
              "#f0f921"
             ]
            ],
            "type": "heatmap"
           }
          ],
          "heatmapgl": [
           {
            "colorbar": {
             "outlinewidth": 0,
             "ticks": ""
            },
            "colorscale": [
             [
              0,
              "#0d0887"
             ],
             [
              0.1111111111111111,
              "#46039f"
             ],
             [
              0.2222222222222222,
              "#7201a8"
             ],
             [
              0.3333333333333333,
              "#9c179e"
             ],
             [
              0.4444444444444444,
              "#bd3786"
             ],
             [
              0.5555555555555556,
              "#d8576b"
             ],
             [
              0.6666666666666666,
              "#ed7953"
             ],
             [
              0.7777777777777778,
              "#fb9f3a"
             ],
             [
              0.8888888888888888,
              "#fdca26"
             ],
             [
              1,
              "#f0f921"
             ]
            ],
            "type": "heatmapgl"
           }
          ],
          "histogram": [
           {
            "marker": {
             "pattern": {
              "fillmode": "overlay",
              "size": 10,
              "solidity": 0.2
             }
            },
            "type": "histogram"
           }
          ],
          "histogram2d": [
           {
            "colorbar": {
             "outlinewidth": 0,
             "ticks": ""
            },
            "colorscale": [
             [
              0,
              "#0d0887"
             ],
             [
              0.1111111111111111,
              "#46039f"
             ],
             [
              0.2222222222222222,
              "#7201a8"
             ],
             [
              0.3333333333333333,
              "#9c179e"
             ],
             [
              0.4444444444444444,
              "#bd3786"
             ],
             [
              0.5555555555555556,
              "#d8576b"
             ],
             [
              0.6666666666666666,
              "#ed7953"
             ],
             [
              0.7777777777777778,
              "#fb9f3a"
             ],
             [
              0.8888888888888888,
              "#fdca26"
             ],
             [
              1,
              "#f0f921"
             ]
            ],
            "type": "histogram2d"
           }
          ],
          "histogram2dcontour": [
           {
            "colorbar": {
             "outlinewidth": 0,
             "ticks": ""
            },
            "colorscale": [
             [
              0,
              "#0d0887"
             ],
             [
              0.1111111111111111,
              "#46039f"
             ],
             [
              0.2222222222222222,
              "#7201a8"
             ],
             [
              0.3333333333333333,
              "#9c179e"
             ],
             [
              0.4444444444444444,
              "#bd3786"
             ],
             [
              0.5555555555555556,
              "#d8576b"
             ],
             [
              0.6666666666666666,
              "#ed7953"
             ],
             [
              0.7777777777777778,
              "#fb9f3a"
             ],
             [
              0.8888888888888888,
              "#fdca26"
             ],
             [
              1,
              "#f0f921"
             ]
            ],
            "type": "histogram2dcontour"
           }
          ],
          "mesh3d": [
           {
            "colorbar": {
             "outlinewidth": 0,
             "ticks": ""
            },
            "type": "mesh3d"
           }
          ],
          "parcoords": [
           {
            "line": {
             "colorbar": {
              "outlinewidth": 0,
              "ticks": ""
             }
            },
            "type": "parcoords"
           }
          ],
          "pie": [
           {
            "automargin": true,
            "type": "pie"
           }
          ],
          "scatter": [
           {
            "fillpattern": {
             "fillmode": "overlay",
             "size": 10,
             "solidity": 0.2
            },
            "type": "scatter"
           }
          ],
          "scatter3d": [
           {
            "line": {
             "colorbar": {
              "outlinewidth": 0,
              "ticks": ""
             }
            },
            "marker": {
             "colorbar": {
              "outlinewidth": 0,
              "ticks": ""
             }
            },
            "type": "scatter3d"
           }
          ],
          "scattercarpet": [
           {
            "marker": {
             "colorbar": {
              "outlinewidth": 0,
              "ticks": ""
             }
            },
            "type": "scattercarpet"
           }
          ],
          "scattergeo": [
           {
            "marker": {
             "colorbar": {
              "outlinewidth": 0,
              "ticks": ""
             }
            },
            "type": "scattergeo"
           }
          ],
          "scattergl": [
           {
            "marker": {
             "colorbar": {
              "outlinewidth": 0,
              "ticks": ""
             }
            },
            "type": "scattergl"
           }
          ],
          "scattermapbox": [
           {
            "marker": {
             "colorbar": {
              "outlinewidth": 0,
              "ticks": ""
             }
            },
            "type": "scattermapbox"
           }
          ],
          "scatterpolar": [
           {
            "marker": {
             "colorbar": {
              "outlinewidth": 0,
              "ticks": ""
             }
            },
            "type": "scatterpolar"
           }
          ],
          "scatterpolargl": [
           {
            "marker": {
             "colorbar": {
              "outlinewidth": 0,
              "ticks": ""
             }
            },
            "type": "scatterpolargl"
           }
          ],
          "scatterternary": [
           {
            "marker": {
             "colorbar": {
              "outlinewidth": 0,
              "ticks": ""
             }
            },
            "type": "scatterternary"
           }
          ],
          "surface": [
           {
            "colorbar": {
             "outlinewidth": 0,
             "ticks": ""
            },
            "colorscale": [
             [
              0,
              "#0d0887"
             ],
             [
              0.1111111111111111,
              "#46039f"
             ],
             [
              0.2222222222222222,
              "#7201a8"
             ],
             [
              0.3333333333333333,
              "#9c179e"
             ],
             [
              0.4444444444444444,
              "#bd3786"
             ],
             [
              0.5555555555555556,
              "#d8576b"
             ],
             [
              0.6666666666666666,
              "#ed7953"
             ],
             [
              0.7777777777777778,
              "#fb9f3a"
             ],
             [
              0.8888888888888888,
              "#fdca26"
             ],
             [
              1,
              "#f0f921"
             ]
            ],
            "type": "surface"
           }
          ],
          "table": [
           {
            "cells": {
             "fill": {
              "color": "#EBF0F8"
             },
             "line": {
              "color": "white"
             }
            },
            "header": {
             "fill": {
              "color": "#C8D4E3"
             },
             "line": {
              "color": "white"
             }
            },
            "type": "table"
           }
          ]
         },
         "layout": {
          "annotationdefaults": {
           "arrowcolor": "#2a3f5f",
           "arrowhead": 0,
           "arrowwidth": 1
          },
          "autotypenumbers": "strict",
          "coloraxis": {
           "colorbar": {
            "outlinewidth": 0,
            "ticks": ""
           }
          },
          "colorscale": {
           "diverging": [
            [
             0,
             "#8e0152"
            ],
            [
             0.1,
             "#c51b7d"
            ],
            [
             0.2,
             "#de77ae"
            ],
            [
             0.3,
             "#f1b6da"
            ],
            [
             0.4,
             "#fde0ef"
            ],
            [
             0.5,
             "#f7f7f7"
            ],
            [
             0.6,
             "#e6f5d0"
            ],
            [
             0.7,
             "#b8e186"
            ],
            [
             0.8,
             "#7fbc41"
            ],
            [
             0.9,
             "#4d9221"
            ],
            [
             1,
             "#276419"
            ]
           ],
           "sequential": [
            [
             0,
             "#0d0887"
            ],
            [
             0.1111111111111111,
             "#46039f"
            ],
            [
             0.2222222222222222,
             "#7201a8"
            ],
            [
             0.3333333333333333,
             "#9c179e"
            ],
            [
             0.4444444444444444,
             "#bd3786"
            ],
            [
             0.5555555555555556,
             "#d8576b"
            ],
            [
             0.6666666666666666,
             "#ed7953"
            ],
            [
             0.7777777777777778,
             "#fb9f3a"
            ],
            [
             0.8888888888888888,
             "#fdca26"
            ],
            [
             1,
             "#f0f921"
            ]
           ],
           "sequentialminus": [
            [
             0,
             "#0d0887"
            ],
            [
             0.1111111111111111,
             "#46039f"
            ],
            [
             0.2222222222222222,
             "#7201a8"
            ],
            [
             0.3333333333333333,
             "#9c179e"
            ],
            [
             0.4444444444444444,
             "#bd3786"
            ],
            [
             0.5555555555555556,
             "#d8576b"
            ],
            [
             0.6666666666666666,
             "#ed7953"
            ],
            [
             0.7777777777777778,
             "#fb9f3a"
            ],
            [
             0.8888888888888888,
             "#fdca26"
            ],
            [
             1,
             "#f0f921"
            ]
           ]
          },
          "colorway": [
           "#636efa",
           "#EF553B",
           "#00cc96",
           "#ab63fa",
           "#FFA15A",
           "#19d3f3",
           "#FF6692",
           "#B6E880",
           "#FF97FF",
           "#FECB52"
          ],
          "font": {
           "color": "#2a3f5f"
          },
          "geo": {
           "bgcolor": "white",
           "lakecolor": "white",
           "landcolor": "#E5ECF6",
           "showlakes": true,
           "showland": true,
           "subunitcolor": "white"
          },
          "hoverlabel": {
           "align": "left"
          },
          "hovermode": "closest",
          "mapbox": {
           "style": "light"
          },
          "paper_bgcolor": "white",
          "plot_bgcolor": "#E5ECF6",
          "polar": {
           "angularaxis": {
            "gridcolor": "white",
            "linecolor": "white",
            "ticks": ""
           },
           "bgcolor": "#E5ECF6",
           "radialaxis": {
            "gridcolor": "white",
            "linecolor": "white",
            "ticks": ""
           }
          },
          "scene": {
           "xaxis": {
            "backgroundcolor": "#E5ECF6",
            "gridcolor": "white",
            "gridwidth": 2,
            "linecolor": "white",
            "showbackground": true,
            "ticks": "",
            "zerolinecolor": "white"
           },
           "yaxis": {
            "backgroundcolor": "#E5ECF6",
            "gridcolor": "white",
            "gridwidth": 2,
            "linecolor": "white",
            "showbackground": true,
            "ticks": "",
            "zerolinecolor": "white"
           },
           "zaxis": {
            "backgroundcolor": "#E5ECF6",
            "gridcolor": "white",
            "gridwidth": 2,
            "linecolor": "white",
            "showbackground": true,
            "ticks": "",
            "zerolinecolor": "white"
           }
          },
          "shapedefaults": {
           "line": {
            "color": "#2a3f5f"
           }
          },
          "ternary": {
           "aaxis": {
            "gridcolor": "white",
            "linecolor": "white",
            "ticks": ""
           },
           "baxis": {
            "gridcolor": "white",
            "linecolor": "white",
            "ticks": ""
           },
           "bgcolor": "#E5ECF6",
           "caxis": {
            "gridcolor": "white",
            "linecolor": "white",
            "ticks": ""
           }
          },
          "title": {
           "x": 0.05
          },
          "xaxis": {
           "automargin": true,
           "gridcolor": "white",
           "linecolor": "white",
           "ticks": "",
           "title": {
            "standoff": 15
           },
           "zerolinecolor": "white",
           "zerolinewidth": 2
          },
          "yaxis": {
           "automargin": true,
           "gridcolor": "white",
           "linecolor": "white",
           "ticks": "",
           "title": {
            "standoff": 15
           },
           "zerolinecolor": "white",
           "zerolinewidth": 2
          }
         }
        },
        "title": {
         "text": "Average Price by Category"
        },
        "width": 1200,
        "xaxis": {
         "anchor": "y",
         "domain": [
          0,
          1
         ],
         "title": {
          "text": "Price"
         }
        },
        "yaxis": {
         "anchor": "x",
         "domain": [
          0,
          1
         ],
         "title": {
          "text": "Category"
         }
        }
       }
      }
     },
     "metadata": {},
     "output_type": "display_data"
    }
   ],
   "source": [
    "fig = px.bar(\n",
    "    data_frame = df2_price_px,\n",
    "    y='category',\n",
    "    x='price',\n",
    "    color='price',\n",
    "    width=1200,\n",
    "    height=800,\n",
    "    color_continuous_scale='bupu'\n",
    ")\n",
    "fig.update_layout(\n",
    "    title = 'Average Price by Category',\n",
    "    xaxis_title = 'Price',\n",
    "    yaxis_title = 'Category'\n",
    ")\n",
    "fig.show()"
   ]
  },
  {
   "cell_type": "code",
   "execution_count": 111,
   "metadata": {},
   "outputs": [
    {
     "data": {
      "text/html": [
       "<div>\n",
       "<style scoped>\n",
       "    .dataframe tbody tr th:only-of-type {\n",
       "        vertical-align: middle;\n",
       "    }\n",
       "\n",
       "    .dataframe tbody tr th {\n",
       "        vertical-align: top;\n",
       "    }\n",
       "\n",
       "    .dataframe thead th {\n",
       "        text-align: right;\n",
       "    }\n",
       "</style>\n",
       "<table border=\"1\" class=\"dataframe\">\n",
       "  <thead>\n",
       "    <tr style=\"text-align: right;\">\n",
       "      <th></th>\n",
       "      <th>category</th>\n",
       "      <th>price</th>\n",
       "    </tr>\n",
       "  </thead>\n",
       "  <tbody>\n",
       "    <tr>\n",
       "      <th>0</th>\n",
       "      <td>Wardrobes</td>\n",
       "      <td>2162.14</td>\n",
       "    </tr>\n",
       "    <tr>\n",
       "      <th>1</th>\n",
       "      <td>Sofas &amp; armchairs</td>\n",
       "      <td>2004.02</td>\n",
       "    </tr>\n",
       "    <tr>\n",
       "      <th>2</th>\n",
       "      <td>Beds</td>\n",
       "      <td>1647.43</td>\n",
       "    </tr>\n",
       "    <tr>\n",
       "      <th>3</th>\n",
       "      <td>Tables &amp; desks</td>\n",
       "      <td>1129.40</td>\n",
       "    </tr>\n",
       "    <tr>\n",
       "      <th>4</th>\n",
       "      <td>Sideboards, buffets &amp; console tables</td>\n",
       "      <td>1068.09</td>\n",
       "    </tr>\n",
       "    <tr>\n",
       "      <th>5</th>\n",
       "      <td>Chairs</td>\n",
       "      <td>1048.93</td>\n",
       "    </tr>\n",
       "    <tr>\n",
       "      <th>6</th>\n",
       "      <td>Room dividers</td>\n",
       "      <td>932.00</td>\n",
       "    </tr>\n",
       "    <tr>\n",
       "      <th>7</th>\n",
       "      <td>Outdoor furniture</td>\n",
       "      <td>859.83</td>\n",
       "    </tr>\n",
       "    <tr>\n",
       "      <th>8</th>\n",
       "      <td>Cabinets &amp; cupboards</td>\n",
       "      <td>789.02</td>\n",
       "    </tr>\n",
       "    <tr>\n",
       "      <th>9</th>\n",
       "      <td>Bar furniture</td>\n",
       "      <td>679.55</td>\n",
       "    </tr>\n",
       "    <tr>\n",
       "      <th>10</th>\n",
       "      <td>Trolleys</td>\n",
       "      <td>678.52</td>\n",
       "    </tr>\n",
       "    <tr>\n",
       "      <th>11</th>\n",
       "      <td>TV &amp; media furniture</td>\n",
       "      <td>659.05</td>\n",
       "    </tr>\n",
       "    <tr>\n",
       "      <th>12</th>\n",
       "      <td>Chests of drawers &amp; drawer units</td>\n",
       "      <td>612.18</td>\n",
       "    </tr>\n",
       "    <tr>\n",
       "      <th>13</th>\n",
       "      <td>Café furniture</td>\n",
       "      <td>553.88</td>\n",
       "    </tr>\n",
       "    <tr>\n",
       "      <th>14</th>\n",
       "      <td>Bookcases &amp; shelving units</td>\n",
       "      <td>519.42</td>\n",
       "    </tr>\n",
       "    <tr>\n",
       "      <th>15</th>\n",
       "      <td>Nursery furniture</td>\n",
       "      <td>393.66</td>\n",
       "    </tr>\n",
       "    <tr>\n",
       "      <th>16</th>\n",
       "      <td>Children's furniture</td>\n",
       "      <td>272.76</td>\n",
       "    </tr>\n",
       "  </tbody>\n",
       "</table>\n",
       "</div>"
      ],
      "text/plain": [
       "                                category    price\n",
       "0                              Wardrobes  2162.14\n",
       "1                      Sofas & armchairs  2004.02\n",
       "2                                   Beds  1647.43\n",
       "3                         Tables & desks  1129.40\n",
       "4   Sideboards, buffets & console tables  1068.09\n",
       "5                                 Chairs  1048.93\n",
       "6                          Room dividers   932.00\n",
       "7                      Outdoor furniture   859.83\n",
       "8                   Cabinets & cupboards   789.02\n",
       "9                          Bar furniture   679.55\n",
       "10                              Trolleys   678.52\n",
       "11                  TV & media furniture   659.05\n",
       "12      Chests of drawers & drawer units   612.18\n",
       "13                        Café furniture   553.88\n",
       "14            Bookcases & shelving units   519.42\n",
       "15                     Nursery furniture   393.66\n",
       "16                  Children's furniture   272.76"
      ]
     },
     "execution_count": 111,
     "metadata": {},
     "output_type": "execute_result"
    }
   ],
   "source": [
    "df2_price"
   ]
  },
  {
   "cell_type": "code",
   "execution_count": 121,
   "metadata": {},
   "outputs": [
    {
     "data": {
      "text/html": [
       "<div>\n",
       "<style scoped>\n",
       "    .dataframe tbody tr th:only-of-type {\n",
       "        vertical-align: middle;\n",
       "    }\n",
       "\n",
       "    .dataframe tbody tr th {\n",
       "        vertical-align: top;\n",
       "    }\n",
       "\n",
       "    .dataframe thead th {\n",
       "        text-align: right;\n",
       "    }\n",
       "</style>\n",
       "<table border=\"1\" class=\"dataframe\">\n",
       "  <thead>\n",
       "    <tr style=\"text-align: right;\">\n",
       "      <th></th>\n",
       "      <th>name</th>\n",
       "      <th>category</th>\n",
       "      <th>price</th>\n",
       "      <th>old_price</th>\n",
       "      <th>sellable_online</th>\n",
       "      <th>other_colors</th>\n",
       "      <th>designer</th>\n",
       "    </tr>\n",
       "  </thead>\n",
       "  <tbody>\n",
       "    <tr>\n",
       "      <th>0</th>\n",
       "      <td>Frekvens</td>\n",
       "      <td>Bar furniture</td>\n",
       "      <td>265.0</td>\n",
       "      <td>No old price</td>\n",
       "      <td>Yes</td>\n",
       "      <td>No</td>\n",
       "      <td>Nicholai Wiig Hansen</td>\n",
       "    </tr>\n",
       "    <tr>\n",
       "      <th>1</th>\n",
       "      <td>Nordviken</td>\n",
       "      <td>Bar furniture</td>\n",
       "      <td>995.0</td>\n",
       "      <td>No old price</td>\n",
       "      <td>No</td>\n",
       "      <td>No</td>\n",
       "      <td>Francis Cayouette</td>\n",
       "    </tr>\n",
       "    <tr>\n",
       "      <th>2</th>\n",
       "      <td>Nordviken / nordviken</td>\n",
       "      <td>Bar furniture</td>\n",
       "      <td>2095.0</td>\n",
       "      <td>No old price</td>\n",
       "      <td>No</td>\n",
       "      <td>No</td>\n",
       "      <td>Francis Cayouette</td>\n",
       "    </tr>\n",
       "    <tr>\n",
       "      <th>3</th>\n",
       "      <td>Stig</td>\n",
       "      <td>Bar furniture</td>\n",
       "      <td>69.0</td>\n",
       "      <td>No old price</td>\n",
       "      <td>Yes</td>\n",
       "      <td>Yes</td>\n",
       "      <td>Henrik Preutz</td>\n",
       "    </tr>\n",
       "    <tr>\n",
       "      <th>4</th>\n",
       "      <td>Norberg</td>\n",
       "      <td>Bar furniture</td>\n",
       "      <td>225.0</td>\n",
       "      <td>No old price</td>\n",
       "      <td>Yes</td>\n",
       "      <td>No</td>\n",
       "      <td>Marcus Arvonen</td>\n",
       "    </tr>\n",
       "    <tr>\n",
       "      <th>5</th>\n",
       "      <td>Ingolf</td>\n",
       "      <td>Bar furniture</td>\n",
       "      <td>345.0</td>\n",
       "      <td>No old price</td>\n",
       "      <td>Yes</td>\n",
       "      <td>No</td>\n",
       "      <td>Carina Bengs</td>\n",
       "    </tr>\n",
       "    <tr>\n",
       "      <th>6</th>\n",
       "      <td>Franklin</td>\n",
       "      <td>Bar furniture</td>\n",
       "      <td>129.0</td>\n",
       "      <td>No old price</td>\n",
       "      <td>Yes</td>\n",
       "      <td>No</td>\n",
       "      <td>K Hagberg/M Hagberg</td>\n",
       "    </tr>\n",
       "    <tr>\n",
       "      <th>7</th>\n",
       "      <td>Dalfred</td>\n",
       "      <td>Bar furniture</td>\n",
       "      <td>195.0</td>\n",
       "      <td>No old price</td>\n",
       "      <td>Yes</td>\n",
       "      <td>No</td>\n",
       "      <td>Sarah Fager</td>\n",
       "    </tr>\n",
       "    <tr>\n",
       "      <th>8</th>\n",
       "      <td>Franklin</td>\n",
       "      <td>Bar furniture</td>\n",
       "      <td>129.0</td>\n",
       "      <td>No old price</td>\n",
       "      <td>Yes</td>\n",
       "      <td>No</td>\n",
       "      <td>K Hagberg/M Hagberg</td>\n",
       "    </tr>\n",
       "    <tr>\n",
       "      <th>9</th>\n",
       "      <td>Ekedalen / ekedalen</td>\n",
       "      <td>Bar furniture</td>\n",
       "      <td>2176.0</td>\n",
       "      <td>SR 2,375</td>\n",
       "      <td>Yes</td>\n",
       "      <td>No</td>\n",
       "      <td>Ehlén Johansson</td>\n",
       "    </tr>\n",
       "  </tbody>\n",
       "</table>\n",
       "</div>"
      ],
      "text/plain": [
       "                    name       category   price     old_price sellable_online  \\\n",
       "0               Frekvens  Bar furniture   265.0  No old price             Yes   \n",
       "1              Nordviken  Bar furniture   995.0  No old price              No   \n",
       "2  Nordviken / nordviken  Bar furniture  2095.0  No old price              No   \n",
       "3                   Stig  Bar furniture    69.0  No old price             Yes   \n",
       "4                Norberg  Bar furniture   225.0  No old price             Yes   \n",
       "5                 Ingolf  Bar furniture   345.0  No old price             Yes   \n",
       "6               Franklin  Bar furniture   129.0  No old price             Yes   \n",
       "7                Dalfred  Bar furniture   195.0  No old price             Yes   \n",
       "8               Franklin  Bar furniture   129.0  No old price             Yes   \n",
       "9    Ekedalen / ekedalen  Bar furniture  2176.0      SR 2,375             Yes   \n",
       "\n",
       "  other_colors              designer  \n",
       "0           No  Nicholai Wiig Hansen  \n",
       "1           No     Francis Cayouette  \n",
       "2           No     Francis Cayouette  \n",
       "3          Yes         Henrik Preutz  \n",
       "4           No        Marcus Arvonen  \n",
       "5           No          Carina Bengs  \n",
       "6           No   K Hagberg/M Hagberg  \n",
       "7           No           Sarah Fager  \n",
       "8           No   K Hagberg/M Hagberg  \n",
       "9           No       Ehlén Johansson  "
      ]
     },
     "execution_count": 121,
     "metadata": {},
     "output_type": "execute_result"
    }
   ],
   "source": [
    "df2.head(10)"
   ]
  },
  {
   "cell_type": "code",
   "execution_count": 122,
   "metadata": {},
   "outputs": [
    {
     "data": {
      "text/plain": [
       "Yes    3666\n",
       "No       28\n",
       "Name: sellable_online, dtype: int64"
      ]
     },
     "execution_count": 122,
     "metadata": {},
     "output_type": "execute_result"
    }
   ],
   "source": [
    "df2['sellable_online'].value_counts()"
   ]
  },
  {
   "cell_type": "code",
   "execution_count": 128,
   "metadata": {},
   "outputs": [],
   "source": [
    "df2_design_top = df2['designer'].value_counts().head(10).sort_values(ascending=True).reset_index(name='count')"
   ]
  },
  {
   "attachments": {},
   "cell_type": "markdown",
   "metadata": {},
   "source": [
    "### Top 10 designers in IKEA"
   ]
  },
  {
   "cell_type": "code",
   "execution_count": 129,
   "metadata": {},
   "outputs": [
    {
     "data": {
      "text/html": [
       "<div>\n",
       "<style scoped>\n",
       "    .dataframe tbody tr th:only-of-type {\n",
       "        vertical-align: middle;\n",
       "    }\n",
       "\n",
       "    .dataframe tbody tr th {\n",
       "        vertical-align: top;\n",
       "    }\n",
       "\n",
       "    .dataframe thead th {\n",
       "        text-align: right;\n",
       "    }\n",
       "</style>\n",
       "<table border=\"1\" class=\"dataframe\">\n",
       "  <thead>\n",
       "    <tr style=\"text-align: right;\">\n",
       "      <th></th>\n",
       "      <th>index</th>\n",
       "      <th>count</th>\n",
       "    </tr>\n",
       "  </thead>\n",
       "  <tbody>\n",
       "    <tr>\n",
       "      <th>0</th>\n",
       "      <td>Henrik Preutz</td>\n",
       "      <td>70</td>\n",
       "    </tr>\n",
       "    <tr>\n",
       "      <th>1</th>\n",
       "      <td>IKEA of Sweden/Ehlén Johansson</td>\n",
       "      <td>70</td>\n",
       "    </tr>\n",
       "    <tr>\n",
       "      <th>2</th>\n",
       "      <td>Carina Bengs</td>\n",
       "      <td>75</td>\n",
       "    </tr>\n",
       "    <tr>\n",
       "      <th>3</th>\n",
       "      <td>Ehlén Johansson/IKEA of Sweden</td>\n",
       "      <td>75</td>\n",
       "    </tr>\n",
       "    <tr>\n",
       "      <th>4</th>\n",
       "      <td>Jon Karlsson</td>\n",
       "      <td>120</td>\n",
       "    </tr>\n",
       "    <tr>\n",
       "      <th>5</th>\n",
       "      <td>K Hagberg/M Hagberg</td>\n",
       "      <td>122</td>\n",
       "    </tr>\n",
       "    <tr>\n",
       "      <th>6</th>\n",
       "      <td>Ola Wihlborg</td>\n",
       "      <td>134</td>\n",
       "    </tr>\n",
       "    <tr>\n",
       "      <th>7</th>\n",
       "      <td>Francis Cayouette</td>\n",
       "      <td>151</td>\n",
       "    </tr>\n",
       "    <tr>\n",
       "      <th>8</th>\n",
       "      <td>Ehlén Johansson</td>\n",
       "      <td>161</td>\n",
       "    </tr>\n",
       "    <tr>\n",
       "      <th>9</th>\n",
       "      <td>IKEA of Sweden</td>\n",
       "      <td>828</td>\n",
       "    </tr>\n",
       "  </tbody>\n",
       "</table>\n",
       "</div>"
      ],
      "text/plain": [
       "                            index  count\n",
       "0                   Henrik Preutz     70\n",
       "1  IKEA of Sweden/Ehlén Johansson     70\n",
       "2                    Carina Bengs     75\n",
       "3  Ehlén Johansson/IKEA of Sweden     75\n",
       "4                    Jon Karlsson    120\n",
       "5             K Hagberg/M Hagberg    122\n",
       "6                    Ola Wihlborg    134\n",
       "7               Francis Cayouette    151\n",
       "8                 Ehlén Johansson    161\n",
       "9                  IKEA of Sweden    828"
      ]
     },
     "execution_count": 129,
     "metadata": {},
     "output_type": "execute_result"
    }
   ],
   "source": [
    "df2_design_top"
   ]
  },
  {
   "cell_type": "code",
   "execution_count": 133,
   "metadata": {},
   "outputs": [
    {
     "data": {
      "application/vnd.plotly.v1+json": {
       "config": {
        "plotlyServerURL": "https://plot.ly"
       },
       "data": [
        {
         "alignmentgroup": "True",
         "hovertemplate": "<b>%{hovertext}</b><br><br>count=%{marker.color}<br>index=%{y}<extra></extra>",
         "hovertext": [
          "Henrik Preutz",
          "IKEA of Sweden/Ehlén Johansson",
          "Carina Bengs",
          "Ehlén Johansson/IKEA of Sweden",
          "Jon Karlsson",
          "K Hagberg/M Hagberg",
          "Ola Wihlborg",
          "Francis Cayouette",
          "Ehlén Johansson",
          "IKEA of Sweden"
         ],
         "legendgroup": "",
         "marker": {
          "color": [
           70,
           70,
           75,
           75,
           120,
           122,
           134,
           151,
           161,
           828
          ],
          "coloraxis": "coloraxis",
          "pattern": {
           "shape": ""
          }
         },
         "name": "",
         "offsetgroup": "",
         "orientation": "h",
         "showlegend": false,
         "textposition": "auto",
         "type": "bar",
         "x": [
          70,
          70,
          75,
          75,
          120,
          122,
          134,
          151,
          161,
          828
         ],
         "xaxis": "x",
         "y": [
          "Henrik Preutz",
          "IKEA of Sweden/Ehlén Johansson",
          "Carina Bengs",
          "Ehlén Johansson/IKEA of Sweden",
          "Jon Karlsson",
          "K Hagberg/M Hagberg",
          "Ola Wihlborg",
          "Francis Cayouette",
          "Ehlén Johansson",
          "IKEA of Sweden"
         ],
         "yaxis": "y"
        }
       ],
       "layout": {
        "barmode": "relative",
        "coloraxis": {
         "colorbar": {
          "title": {
           "text": "count"
          }
         },
         "colorscale": [
          [
           0,
           "rgb(255,245,235)"
          ],
          [
           0.125,
           "rgb(254,230,206)"
          ],
          [
           0.25,
           "rgb(253,208,162)"
          ],
          [
           0.375,
           "rgb(253,174,107)"
          ],
          [
           0.5,
           "rgb(253,141,60)"
          ],
          [
           0.625,
           "rgb(241,105,19)"
          ],
          [
           0.75,
           "rgb(217,72,1)"
          ],
          [
           0.875,
           "rgb(166,54,3)"
          ],
          [
           1,
           "rgb(127,39,4)"
          ]
         ]
        },
        "height": 800,
        "legend": {
         "tracegroupgap": 0
        },
        "margin": {
         "t": 60
        },
        "template": {
         "data": {
          "bar": [
           {
            "error_x": {
             "color": "#2a3f5f"
            },
            "error_y": {
             "color": "#2a3f5f"
            },
            "marker": {
             "line": {
              "color": "#E5ECF6",
              "width": 0.5
             },
             "pattern": {
              "fillmode": "overlay",
              "size": 10,
              "solidity": 0.2
             }
            },
            "type": "bar"
           }
          ],
          "barpolar": [
           {
            "marker": {
             "line": {
              "color": "#E5ECF6",
              "width": 0.5
             },
             "pattern": {
              "fillmode": "overlay",
              "size": 10,
              "solidity": 0.2
             }
            },
            "type": "barpolar"
           }
          ],
          "carpet": [
           {
            "aaxis": {
             "endlinecolor": "#2a3f5f",
             "gridcolor": "white",
             "linecolor": "white",
             "minorgridcolor": "white",
             "startlinecolor": "#2a3f5f"
            },
            "baxis": {
             "endlinecolor": "#2a3f5f",
             "gridcolor": "white",
             "linecolor": "white",
             "minorgridcolor": "white",
             "startlinecolor": "#2a3f5f"
            },
            "type": "carpet"
           }
          ],
          "choropleth": [
           {
            "colorbar": {
             "outlinewidth": 0,
             "ticks": ""
            },
            "type": "choropleth"
           }
          ],
          "contour": [
           {
            "colorbar": {
             "outlinewidth": 0,
             "ticks": ""
            },
            "colorscale": [
             [
              0,
              "#0d0887"
             ],
             [
              0.1111111111111111,
              "#46039f"
             ],
             [
              0.2222222222222222,
              "#7201a8"
             ],
             [
              0.3333333333333333,
              "#9c179e"
             ],
             [
              0.4444444444444444,
              "#bd3786"
             ],
             [
              0.5555555555555556,
              "#d8576b"
             ],
             [
              0.6666666666666666,
              "#ed7953"
             ],
             [
              0.7777777777777778,
              "#fb9f3a"
             ],
             [
              0.8888888888888888,
              "#fdca26"
             ],
             [
              1,
              "#f0f921"
             ]
            ],
            "type": "contour"
           }
          ],
          "contourcarpet": [
           {
            "colorbar": {
             "outlinewidth": 0,
             "ticks": ""
            },
            "type": "contourcarpet"
           }
          ],
          "heatmap": [
           {
            "colorbar": {
             "outlinewidth": 0,
             "ticks": ""
            },
            "colorscale": [
             [
              0,
              "#0d0887"
             ],
             [
              0.1111111111111111,
              "#46039f"
             ],
             [
              0.2222222222222222,
              "#7201a8"
             ],
             [
              0.3333333333333333,
              "#9c179e"
             ],
             [
              0.4444444444444444,
              "#bd3786"
             ],
             [
              0.5555555555555556,
              "#d8576b"
             ],
             [
              0.6666666666666666,
              "#ed7953"
             ],
             [
              0.7777777777777778,
              "#fb9f3a"
             ],
             [
              0.8888888888888888,
              "#fdca26"
             ],
             [
              1,
              "#f0f921"
             ]
            ],
            "type": "heatmap"
           }
          ],
          "heatmapgl": [
           {
            "colorbar": {
             "outlinewidth": 0,
             "ticks": ""
            },
            "colorscale": [
             [
              0,
              "#0d0887"
             ],
             [
              0.1111111111111111,
              "#46039f"
             ],
             [
              0.2222222222222222,
              "#7201a8"
             ],
             [
              0.3333333333333333,
              "#9c179e"
             ],
             [
              0.4444444444444444,
              "#bd3786"
             ],
             [
              0.5555555555555556,
              "#d8576b"
             ],
             [
              0.6666666666666666,
              "#ed7953"
             ],
             [
              0.7777777777777778,
              "#fb9f3a"
             ],
             [
              0.8888888888888888,
              "#fdca26"
             ],
             [
              1,
              "#f0f921"
             ]
            ],
            "type": "heatmapgl"
           }
          ],
          "histogram": [
           {
            "marker": {
             "pattern": {
              "fillmode": "overlay",
              "size": 10,
              "solidity": 0.2
             }
            },
            "type": "histogram"
           }
          ],
          "histogram2d": [
           {
            "colorbar": {
             "outlinewidth": 0,
             "ticks": ""
            },
            "colorscale": [
             [
              0,
              "#0d0887"
             ],
             [
              0.1111111111111111,
              "#46039f"
             ],
             [
              0.2222222222222222,
              "#7201a8"
             ],
             [
              0.3333333333333333,
              "#9c179e"
             ],
             [
              0.4444444444444444,
              "#bd3786"
             ],
             [
              0.5555555555555556,
              "#d8576b"
             ],
             [
              0.6666666666666666,
              "#ed7953"
             ],
             [
              0.7777777777777778,
              "#fb9f3a"
             ],
             [
              0.8888888888888888,
              "#fdca26"
             ],
             [
              1,
              "#f0f921"
             ]
            ],
            "type": "histogram2d"
           }
          ],
          "histogram2dcontour": [
           {
            "colorbar": {
             "outlinewidth": 0,
             "ticks": ""
            },
            "colorscale": [
             [
              0,
              "#0d0887"
             ],
             [
              0.1111111111111111,
              "#46039f"
             ],
             [
              0.2222222222222222,
              "#7201a8"
             ],
             [
              0.3333333333333333,
              "#9c179e"
             ],
             [
              0.4444444444444444,
              "#bd3786"
             ],
             [
              0.5555555555555556,
              "#d8576b"
             ],
             [
              0.6666666666666666,
              "#ed7953"
             ],
             [
              0.7777777777777778,
              "#fb9f3a"
             ],
             [
              0.8888888888888888,
              "#fdca26"
             ],
             [
              1,
              "#f0f921"
             ]
            ],
            "type": "histogram2dcontour"
           }
          ],
          "mesh3d": [
           {
            "colorbar": {
             "outlinewidth": 0,
             "ticks": ""
            },
            "type": "mesh3d"
           }
          ],
          "parcoords": [
           {
            "line": {
             "colorbar": {
              "outlinewidth": 0,
              "ticks": ""
             }
            },
            "type": "parcoords"
           }
          ],
          "pie": [
           {
            "automargin": true,
            "type": "pie"
           }
          ],
          "scatter": [
           {
            "fillpattern": {
             "fillmode": "overlay",
             "size": 10,
             "solidity": 0.2
            },
            "type": "scatter"
           }
          ],
          "scatter3d": [
           {
            "line": {
             "colorbar": {
              "outlinewidth": 0,
              "ticks": ""
             }
            },
            "marker": {
             "colorbar": {
              "outlinewidth": 0,
              "ticks": ""
             }
            },
            "type": "scatter3d"
           }
          ],
          "scattercarpet": [
           {
            "marker": {
             "colorbar": {
              "outlinewidth": 0,
              "ticks": ""
             }
            },
            "type": "scattercarpet"
           }
          ],
          "scattergeo": [
           {
            "marker": {
             "colorbar": {
              "outlinewidth": 0,
              "ticks": ""
             }
            },
            "type": "scattergeo"
           }
          ],
          "scattergl": [
           {
            "marker": {
             "colorbar": {
              "outlinewidth": 0,
              "ticks": ""
             }
            },
            "type": "scattergl"
           }
          ],
          "scattermapbox": [
           {
            "marker": {
             "colorbar": {
              "outlinewidth": 0,
              "ticks": ""
             }
            },
            "type": "scattermapbox"
           }
          ],
          "scatterpolar": [
           {
            "marker": {
             "colorbar": {
              "outlinewidth": 0,
              "ticks": ""
             }
            },
            "type": "scatterpolar"
           }
          ],
          "scatterpolargl": [
           {
            "marker": {
             "colorbar": {
              "outlinewidth": 0,
              "ticks": ""
             }
            },
            "type": "scatterpolargl"
           }
          ],
          "scatterternary": [
           {
            "marker": {
             "colorbar": {
              "outlinewidth": 0,
              "ticks": ""
             }
            },
            "type": "scatterternary"
           }
          ],
          "surface": [
           {
            "colorbar": {
             "outlinewidth": 0,
             "ticks": ""
            },
            "colorscale": [
             [
              0,
              "#0d0887"
             ],
             [
              0.1111111111111111,
              "#46039f"
             ],
             [
              0.2222222222222222,
              "#7201a8"
             ],
             [
              0.3333333333333333,
              "#9c179e"
             ],
             [
              0.4444444444444444,
              "#bd3786"
             ],
             [
              0.5555555555555556,
              "#d8576b"
             ],
             [
              0.6666666666666666,
              "#ed7953"
             ],
             [
              0.7777777777777778,
              "#fb9f3a"
             ],
             [
              0.8888888888888888,
              "#fdca26"
             ],
             [
              1,
              "#f0f921"
             ]
            ],
            "type": "surface"
           }
          ],
          "table": [
           {
            "cells": {
             "fill": {
              "color": "#EBF0F8"
             },
             "line": {
              "color": "white"
             }
            },
            "header": {
             "fill": {
              "color": "#C8D4E3"
             },
             "line": {
              "color": "white"
             }
            },
            "type": "table"
           }
          ]
         },
         "layout": {
          "annotationdefaults": {
           "arrowcolor": "#2a3f5f",
           "arrowhead": 0,
           "arrowwidth": 1
          },
          "autotypenumbers": "strict",
          "coloraxis": {
           "colorbar": {
            "outlinewidth": 0,
            "ticks": ""
           }
          },
          "colorscale": {
           "diverging": [
            [
             0,
             "#8e0152"
            ],
            [
             0.1,
             "#c51b7d"
            ],
            [
             0.2,
             "#de77ae"
            ],
            [
             0.3,
             "#f1b6da"
            ],
            [
             0.4,
             "#fde0ef"
            ],
            [
             0.5,
             "#f7f7f7"
            ],
            [
             0.6,
             "#e6f5d0"
            ],
            [
             0.7,
             "#b8e186"
            ],
            [
             0.8,
             "#7fbc41"
            ],
            [
             0.9,
             "#4d9221"
            ],
            [
             1,
             "#276419"
            ]
           ],
           "sequential": [
            [
             0,
             "#0d0887"
            ],
            [
             0.1111111111111111,
             "#46039f"
            ],
            [
             0.2222222222222222,
             "#7201a8"
            ],
            [
             0.3333333333333333,
             "#9c179e"
            ],
            [
             0.4444444444444444,
             "#bd3786"
            ],
            [
             0.5555555555555556,
             "#d8576b"
            ],
            [
             0.6666666666666666,
             "#ed7953"
            ],
            [
             0.7777777777777778,
             "#fb9f3a"
            ],
            [
             0.8888888888888888,
             "#fdca26"
            ],
            [
             1,
             "#f0f921"
            ]
           ],
           "sequentialminus": [
            [
             0,
             "#0d0887"
            ],
            [
             0.1111111111111111,
             "#46039f"
            ],
            [
             0.2222222222222222,
             "#7201a8"
            ],
            [
             0.3333333333333333,
             "#9c179e"
            ],
            [
             0.4444444444444444,
             "#bd3786"
            ],
            [
             0.5555555555555556,
             "#d8576b"
            ],
            [
             0.6666666666666666,
             "#ed7953"
            ],
            [
             0.7777777777777778,
             "#fb9f3a"
            ],
            [
             0.8888888888888888,
             "#fdca26"
            ],
            [
             1,
             "#f0f921"
            ]
           ]
          },
          "colorway": [
           "#636efa",
           "#EF553B",
           "#00cc96",
           "#ab63fa",
           "#FFA15A",
           "#19d3f3",
           "#FF6692",
           "#B6E880",
           "#FF97FF",
           "#FECB52"
          ],
          "font": {
           "color": "#2a3f5f"
          },
          "geo": {
           "bgcolor": "white",
           "lakecolor": "white",
           "landcolor": "#E5ECF6",
           "showlakes": true,
           "showland": true,
           "subunitcolor": "white"
          },
          "hoverlabel": {
           "align": "left"
          },
          "hovermode": "closest",
          "mapbox": {
           "style": "light"
          },
          "paper_bgcolor": "white",
          "plot_bgcolor": "#E5ECF6",
          "polar": {
           "angularaxis": {
            "gridcolor": "white",
            "linecolor": "white",
            "ticks": ""
           },
           "bgcolor": "#E5ECF6",
           "radialaxis": {
            "gridcolor": "white",
            "linecolor": "white",
            "ticks": ""
           }
          },
          "scene": {
           "xaxis": {
            "backgroundcolor": "#E5ECF6",
            "gridcolor": "white",
            "gridwidth": 2,
            "linecolor": "white",
            "showbackground": true,
            "ticks": "",
            "zerolinecolor": "white"
           },
           "yaxis": {
            "backgroundcolor": "#E5ECF6",
            "gridcolor": "white",
            "gridwidth": 2,
            "linecolor": "white",
            "showbackground": true,
            "ticks": "",
            "zerolinecolor": "white"
           },
           "zaxis": {
            "backgroundcolor": "#E5ECF6",
            "gridcolor": "white",
            "gridwidth": 2,
            "linecolor": "white",
            "showbackground": true,
            "ticks": "",
            "zerolinecolor": "white"
           }
          },
          "shapedefaults": {
           "line": {
            "color": "#2a3f5f"
           }
          },
          "ternary": {
           "aaxis": {
            "gridcolor": "white",
            "linecolor": "white",
            "ticks": ""
           },
           "baxis": {
            "gridcolor": "white",
            "linecolor": "white",
            "ticks": ""
           },
           "bgcolor": "#E5ECF6",
           "caxis": {
            "gridcolor": "white",
            "linecolor": "white",
            "ticks": ""
           }
          },
          "title": {
           "x": 0.05
          },
          "xaxis": {
           "automargin": true,
           "gridcolor": "white",
           "linecolor": "white",
           "ticks": "",
           "title": {
            "standoff": 15
           },
           "zerolinecolor": "white",
           "zerolinewidth": 2
          },
          "yaxis": {
           "automargin": true,
           "gridcolor": "white",
           "linecolor": "white",
           "ticks": "",
           "title": {
            "standoff": 15
           },
           "zerolinecolor": "white",
           "zerolinewidth": 2
          }
         }
        },
        "title": {
         "text": "Designed Products Count by Artist"
        },
        "width": 1200,
        "xaxis": {
         "anchor": "y",
         "domain": [
          0,
          1
         ],
         "title": {
          "text": "Number of designed products"
         }
        },
        "yaxis": {
         "anchor": "x",
         "domain": [
          0,
          1
         ],
         "title": {
          "text": "Designer name"
         }
        }
       }
      }
     },
     "metadata": {},
     "output_type": "display_data"
    }
   ],
   "source": [
    "fig = px.bar(\n",
    "    data_frame = df2_design_top,\n",
    "    y='index',\n",
    "    x='count',\n",
    "    color = 'count',\n",
    "    color_continuous_scale='Oranges',\n",
    "    width = 1200,\n",
    "    height = 800,\n",
    "    hover_name = 'index'\n",
    "\n",
    ")\n",
    "fig.update_layout(\n",
    "    xaxis_title = 'Number of designed products',\n",
    "    yaxis_title = 'Designer name',\n",
    "    title = 'Designed Products Count by Artist'\n",
    ")"
   ]
  }
 ],
 "metadata": {
  "kernelspec": {
   "display_name": "Python 3",
   "language": "python",
   "name": "python3"
  },
  "language_info": {
   "codemirror_mode": {
    "name": "ipython",
    "version": 3
   },
   "file_extension": ".py",
   "mimetype": "text/x-python",
   "name": "python",
   "nbconvert_exporter": "python",
   "pygments_lexer": "ipython3",
   "version": "3.11.0 (main, Oct 24 2022, 18:26:48) [MSC v.1933 64 bit (AMD64)]"
  },
  "orig_nbformat": 4,
  "vscode": {
   "interpreter": {
    "hash": "a1f2d31f3cfa242181f85bb58fcdf4b9b5b4fad4a1c371137165c825fb1a7558"
   }
  }
 },
 "nbformat": 4,
 "nbformat_minor": 2
}
