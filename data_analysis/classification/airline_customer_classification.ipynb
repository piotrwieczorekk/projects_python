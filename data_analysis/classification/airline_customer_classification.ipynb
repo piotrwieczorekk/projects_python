{
 "cells": [
  {
   "cell_type": "markdown",
   "metadata": {},
   "source": [
    "**Table of contents**    \n",
    "- Importing libraries    \n",
    "- Reading and exploring the data    \n",
    "- Preparing the data for logistic regression    \n",
    "- Modelling    \n",
    "  - Logistic regression model    \n",
    "  - Fixing the model    \n",
    "  - Classification report for the train set    \n",
    "  - ROC curve for the train set    \n",
    "  - Classification report for the test set    \n",
    "  - ROC curve for the test set    \n",
    "- Random Forest    \n",
    "  - Classification report for the train set (random forest model)    \n",
    "  - Classification report for the test set (random forest model)    \n",
    "  - Importance Plot    \n",
    "- Logistic regression and random forest comparison    \n",
    "\n",
    "<!-- vscode-jupyter-toc-config\n",
    "\tnumbering=false\n",
    "\tanchor=false\n",
    "\tflat=false\n",
    "\tminLevel=2\n",
    "\tmaxLevel=3\n",
    "\t/vscode-jupyter-toc-config -->\n",
    "<!-- THIS CELL WILL BE REPLACED ON TOC UPDATE. DO NOT WRITE YOUR TEXT IN THIS CELL -->"
   ]
  },
  {
   "cell_type": "markdown",
   "metadata": {},
   "source": [
    "# Predicting whether or not a customer was satisfied with the flight"
   ]
  },
  {
   "cell_type": "markdown",
   "metadata": {},
   "source": [
    "## Importing libraries"
   ]
  },
  {
   "cell_type": "code",
   "execution_count": 1,
   "metadata": {},
   "outputs": [],
   "source": [
    "import pandas as pd\n",
    "import numpy as np\n",
    "import seaborn as sns\n",
    "import matplotlib.pyplot as plt\n",
    "import statsmodels.api as sm\n",
    "from sklearn.metrics import classification_report,roc_curve, auc\n",
    "from sklearn.model_selection import train_test_split\n",
    "from sklearn.ensemble import RandomForestClassifier"
   ]
  },
  {
   "cell_type": "markdown",
   "metadata": {},
   "source": [
    "## Reading and exploring the data"
   ]
  },
  {
   "cell_type": "code",
   "execution_count": 2,
   "metadata": {},
   "outputs": [],
   "source": [
    "df = pd.read_csv('Invistico_Airline.csv')"
   ]
  },
  {
   "cell_type": "code",
   "execution_count": 3,
   "metadata": {},
   "outputs": [
    {
     "data": {
      "text/plain": [
       "(129880, 23)"
      ]
     },
     "execution_count": 3,
     "metadata": {},
     "output_type": "execute_result"
    }
   ],
   "source": [
    "df.shape"
   ]
  },
  {
   "cell_type": "code",
   "execution_count": 4,
   "metadata": {},
   "outputs": [
    {
     "name": "stdout",
     "output_type": "stream",
     "text": [
      "<class 'pandas.core.frame.DataFrame'>\n",
      "RangeIndex: 129880 entries, 0 to 129879\n",
      "Data columns (total 23 columns):\n",
      " #   Column                             Non-Null Count   Dtype  \n",
      "---  ------                             --------------   -----  \n",
      " 0   satisfaction                       129880 non-null  object \n",
      " 1   Gender                             129880 non-null  object \n",
      " 2   Customer Type                      129880 non-null  object \n",
      " 3   Age                                129880 non-null  int64  \n",
      " 4   Type of Travel                     129880 non-null  object \n",
      " 5   Class                              129880 non-null  object \n",
      " 6   Flight Distance                    129880 non-null  int64  \n",
      " 7   Seat comfort                       129880 non-null  int64  \n",
      " 8   Departure/Arrival time convenient  129880 non-null  int64  \n",
      " 9   Food and drink                     129880 non-null  int64  \n",
      " 10  Gate location                      129880 non-null  int64  \n",
      " 11  Inflight wifi service              129880 non-null  int64  \n",
      " 12  Inflight entertainment             129880 non-null  int64  \n",
      " 13  Online support                     129880 non-null  int64  \n",
      " 14  Ease of Online booking             129880 non-null  int64  \n",
      " 15  On-board service                   129880 non-null  int64  \n",
      " 16  Leg room service                   129880 non-null  int64  \n",
      " 17  Baggage handling                   129880 non-null  int64  \n",
      " 18  Checkin service                    129880 non-null  int64  \n",
      " 19  Cleanliness                        129880 non-null  int64  \n",
      " 20  Online boarding                    129880 non-null  int64  \n",
      " 21  Departure Delay in Minutes         129880 non-null  int64  \n",
      " 22  Arrival Delay in Minutes           129487 non-null  float64\n",
      "dtypes: float64(1), int64(17), object(5)\n",
      "memory usage: 22.8+ MB\n"
     ]
    }
   ],
   "source": [
    "df.info()"
   ]
  },
  {
   "cell_type": "markdown",
   "metadata": {},
   "source": [
    "#### Most likely the NaN's were supposed to be 0"
   ]
  },
  {
   "cell_type": "code",
   "execution_count": 5,
   "metadata": {},
   "outputs": [],
   "source": [
    "df['Arrival Delay in Minutes'] = df['Arrival Delay in Minutes'].fillna(0)"
   ]
  },
  {
   "cell_type": "markdown",
   "metadata": {},
   "source": [
    "## Preparing the data for logistic regression"
   ]
  },
  {
   "cell_type": "code",
   "execution_count": 6,
   "metadata": {},
   "outputs": [
    {
     "data": {
      "text/plain": [
       "satisfied       71087\n",
       "dissatisfied    58793\n",
       "Name: satisfaction, dtype: int64"
      ]
     },
     "execution_count": 6,
     "metadata": {},
     "output_type": "execute_result"
    }
   ],
   "source": [
    "df['satisfaction'].value_counts()"
   ]
  },
  {
   "cell_type": "code",
   "execution_count": 7,
   "metadata": {},
   "outputs": [],
   "source": [
    "df['satisfaction'] = np.where(df['satisfaction'] == 'satisfied',1,0)"
   ]
  },
  {
   "cell_type": "code",
   "execution_count": 8,
   "metadata": {},
   "outputs": [],
   "source": [
    "df_with_dummies = pd.get_dummies(data = df, columns= ['Gender','Customer Type','Type of Travel',\n",
    "'Class','Seat comfort','Departure/Arrival time convenient',\n",
    "'Food and drink','Gate location','Inflight wifi service',\n",
    "'Inflight entertainment','Online support','Ease of Online booking',\n",
    "'On-board service','Leg room service','Baggage handling',\n",
    "'Checkin service','Cleanliness','Online boarding'],drop_first =True)"
   ]
  },
  {
   "cell_type": "code",
   "execution_count": 9,
   "metadata": {},
   "outputs": [
    {
     "data": {
      "text/html": [
       "<div>\n",
       "<style scoped>\n",
       "    .dataframe tbody tr th:only-of-type {\n",
       "        vertical-align: middle;\n",
       "    }\n",
       "\n",
       "    .dataframe tbody tr th {\n",
       "        vertical-align: top;\n",
       "    }\n",
       "\n",
       "    .dataframe thead th {\n",
       "        text-align: right;\n",
       "    }\n",
       "</style>\n",
       "<table border=\"1\" class=\"dataframe\">\n",
       "  <thead>\n",
       "    <tr style=\"text-align: right;\">\n",
       "      <th></th>\n",
       "      <th>satisfaction</th>\n",
       "      <th>Age</th>\n",
       "      <th>Flight Distance</th>\n",
       "      <th>Departure Delay in Minutes</th>\n",
       "      <th>Arrival Delay in Minutes</th>\n",
       "      <th>Gender_Male</th>\n",
       "      <th>Customer Type_disloyal Customer</th>\n",
       "      <th>Type of Travel_Personal Travel</th>\n",
       "      <th>Class_Eco</th>\n",
       "      <th>Class_Eco Plus</th>\n",
       "      <th>...</th>\n",
       "      <th>Cleanliness_1</th>\n",
       "      <th>Cleanliness_2</th>\n",
       "      <th>Cleanliness_3</th>\n",
       "      <th>Cleanliness_4</th>\n",
       "      <th>Cleanliness_5</th>\n",
       "      <th>Online boarding_1</th>\n",
       "      <th>Online boarding_2</th>\n",
       "      <th>Online boarding_3</th>\n",
       "      <th>Online boarding_4</th>\n",
       "      <th>Online boarding_5</th>\n",
       "    </tr>\n",
       "  </thead>\n",
       "  <tbody>\n",
       "    <tr>\n",
       "      <th>0</th>\n",
       "      <td>1</td>\n",
       "      <td>65</td>\n",
       "      <td>265</td>\n",
       "      <td>0</td>\n",
       "      <td>0.0</td>\n",
       "      <td>0</td>\n",
       "      <td>0</td>\n",
       "      <td>1</td>\n",
       "      <td>1</td>\n",
       "      <td>0</td>\n",
       "      <td>...</td>\n",
       "      <td>0</td>\n",
       "      <td>0</td>\n",
       "      <td>1</td>\n",
       "      <td>0</td>\n",
       "      <td>0</td>\n",
       "      <td>0</td>\n",
       "      <td>1</td>\n",
       "      <td>0</td>\n",
       "      <td>0</td>\n",
       "      <td>0</td>\n",
       "    </tr>\n",
       "    <tr>\n",
       "      <th>1</th>\n",
       "      <td>1</td>\n",
       "      <td>47</td>\n",
       "      <td>2464</td>\n",
       "      <td>310</td>\n",
       "      <td>305.0</td>\n",
       "      <td>1</td>\n",
       "      <td>0</td>\n",
       "      <td>1</td>\n",
       "      <td>0</td>\n",
       "      <td>0</td>\n",
       "      <td>...</td>\n",
       "      <td>0</td>\n",
       "      <td>0</td>\n",
       "      <td>1</td>\n",
       "      <td>0</td>\n",
       "      <td>0</td>\n",
       "      <td>0</td>\n",
       "      <td>1</td>\n",
       "      <td>0</td>\n",
       "      <td>0</td>\n",
       "      <td>0</td>\n",
       "    </tr>\n",
       "    <tr>\n",
       "      <th>2</th>\n",
       "      <td>1</td>\n",
       "      <td>15</td>\n",
       "      <td>2138</td>\n",
       "      <td>0</td>\n",
       "      <td>0.0</td>\n",
       "      <td>0</td>\n",
       "      <td>0</td>\n",
       "      <td>1</td>\n",
       "      <td>1</td>\n",
       "      <td>0</td>\n",
       "      <td>...</td>\n",
       "      <td>0</td>\n",
       "      <td>0</td>\n",
       "      <td>0</td>\n",
       "      <td>1</td>\n",
       "      <td>0</td>\n",
       "      <td>0</td>\n",
       "      <td>1</td>\n",
       "      <td>0</td>\n",
       "      <td>0</td>\n",
       "      <td>0</td>\n",
       "    </tr>\n",
       "    <tr>\n",
       "      <th>3</th>\n",
       "      <td>1</td>\n",
       "      <td>60</td>\n",
       "      <td>623</td>\n",
       "      <td>0</td>\n",
       "      <td>0.0</td>\n",
       "      <td>0</td>\n",
       "      <td>0</td>\n",
       "      <td>1</td>\n",
       "      <td>1</td>\n",
       "      <td>0</td>\n",
       "      <td>...</td>\n",
       "      <td>1</td>\n",
       "      <td>0</td>\n",
       "      <td>0</td>\n",
       "      <td>0</td>\n",
       "      <td>0</td>\n",
       "      <td>0</td>\n",
       "      <td>0</td>\n",
       "      <td>1</td>\n",
       "      <td>0</td>\n",
       "      <td>0</td>\n",
       "    </tr>\n",
       "    <tr>\n",
       "      <th>4</th>\n",
       "      <td>1</td>\n",
       "      <td>70</td>\n",
       "      <td>354</td>\n",
       "      <td>0</td>\n",
       "      <td>0.0</td>\n",
       "      <td>0</td>\n",
       "      <td>0</td>\n",
       "      <td>1</td>\n",
       "      <td>1</td>\n",
       "      <td>0</td>\n",
       "      <td>...</td>\n",
       "      <td>0</td>\n",
       "      <td>1</td>\n",
       "      <td>0</td>\n",
       "      <td>0</td>\n",
       "      <td>0</td>\n",
       "      <td>0</td>\n",
       "      <td>0</td>\n",
       "      <td>0</td>\n",
       "      <td>0</td>\n",
       "      <td>1</td>\n",
       "    </tr>\n",
       "    <tr>\n",
       "      <th>...</th>\n",
       "      <td>...</td>\n",
       "      <td>...</td>\n",
       "      <td>...</td>\n",
       "      <td>...</td>\n",
       "      <td>...</td>\n",
       "      <td>...</td>\n",
       "      <td>...</td>\n",
       "      <td>...</td>\n",
       "      <td>...</td>\n",
       "      <td>...</td>\n",
       "      <td>...</td>\n",
       "      <td>...</td>\n",
       "      <td>...</td>\n",
       "      <td>...</td>\n",
       "      <td>...</td>\n",
       "      <td>...</td>\n",
       "      <td>...</td>\n",
       "      <td>...</td>\n",
       "      <td>...</td>\n",
       "      <td>...</td>\n",
       "      <td>...</td>\n",
       "    </tr>\n",
       "    <tr>\n",
       "      <th>129875</th>\n",
       "      <td>1</td>\n",
       "      <td>29</td>\n",
       "      <td>1731</td>\n",
       "      <td>0</td>\n",
       "      <td>0.0</td>\n",
       "      <td>0</td>\n",
       "      <td>1</td>\n",
       "      <td>1</td>\n",
       "      <td>1</td>\n",
       "      <td>0</td>\n",
       "      <td>...</td>\n",
       "      <td>0</td>\n",
       "      <td>0</td>\n",
       "      <td>0</td>\n",
       "      <td>1</td>\n",
       "      <td>0</td>\n",
       "      <td>0</td>\n",
       "      <td>1</td>\n",
       "      <td>0</td>\n",
       "      <td>0</td>\n",
       "      <td>0</td>\n",
       "    </tr>\n",
       "    <tr>\n",
       "      <th>129876</th>\n",
       "      <td>0</td>\n",
       "      <td>63</td>\n",
       "      <td>2087</td>\n",
       "      <td>174</td>\n",
       "      <td>172.0</td>\n",
       "      <td>1</td>\n",
       "      <td>1</td>\n",
       "      <td>1</td>\n",
       "      <td>0</td>\n",
       "      <td>0</td>\n",
       "      <td>...</td>\n",
       "      <td>0</td>\n",
       "      <td>1</td>\n",
       "      <td>0</td>\n",
       "      <td>0</td>\n",
       "      <td>0</td>\n",
       "      <td>1</td>\n",
       "      <td>0</td>\n",
       "      <td>0</td>\n",
       "      <td>0</td>\n",
       "      <td>0</td>\n",
       "    </tr>\n",
       "    <tr>\n",
       "      <th>129877</th>\n",
       "      <td>0</td>\n",
       "      <td>69</td>\n",
       "      <td>2320</td>\n",
       "      <td>155</td>\n",
       "      <td>163.0</td>\n",
       "      <td>1</td>\n",
       "      <td>1</td>\n",
       "      <td>1</td>\n",
       "      <td>1</td>\n",
       "      <td>0</td>\n",
       "      <td>...</td>\n",
       "      <td>0</td>\n",
       "      <td>0</td>\n",
       "      <td>1</td>\n",
       "      <td>0</td>\n",
       "      <td>0</td>\n",
       "      <td>0</td>\n",
       "      <td>1</td>\n",
       "      <td>0</td>\n",
       "      <td>0</td>\n",
       "      <td>0</td>\n",
       "    </tr>\n",
       "    <tr>\n",
       "      <th>129878</th>\n",
       "      <td>0</td>\n",
       "      <td>66</td>\n",
       "      <td>2450</td>\n",
       "      <td>193</td>\n",
       "      <td>205.0</td>\n",
       "      <td>1</td>\n",
       "      <td>1</td>\n",
       "      <td>1</td>\n",
       "      <td>1</td>\n",
       "      <td>0</td>\n",
       "      <td>...</td>\n",
       "      <td>1</td>\n",
       "      <td>0</td>\n",
       "      <td>0</td>\n",
       "      <td>0</td>\n",
       "      <td>0</td>\n",
       "      <td>0</td>\n",
       "      <td>1</td>\n",
       "      <td>0</td>\n",
       "      <td>0</td>\n",
       "      <td>0</td>\n",
       "    </tr>\n",
       "    <tr>\n",
       "      <th>129879</th>\n",
       "      <td>0</td>\n",
       "      <td>38</td>\n",
       "      <td>4307</td>\n",
       "      <td>185</td>\n",
       "      <td>186.0</td>\n",
       "      <td>0</td>\n",
       "      <td>1</td>\n",
       "      <td>1</td>\n",
       "      <td>1</td>\n",
       "      <td>0</td>\n",
       "      <td>...</td>\n",
       "      <td>0</td>\n",
       "      <td>0</td>\n",
       "      <td>1</td>\n",
       "      <td>0</td>\n",
       "      <td>0</td>\n",
       "      <td>0</td>\n",
       "      <td>0</td>\n",
       "      <td>1</td>\n",
       "      <td>0</td>\n",
       "      <td>0</td>\n",
       "    </tr>\n",
       "  </tbody>\n",
       "</table>\n",
       "<p>129880 rows × 79 columns</p>\n",
       "</div>"
      ],
      "text/plain": [
       "        satisfaction  Age  Flight Distance  Departure Delay in Minutes  \\\n",
       "0                  1   65              265                           0   \n",
       "1                  1   47             2464                         310   \n",
       "2                  1   15             2138                           0   \n",
       "3                  1   60              623                           0   \n",
       "4                  1   70              354                           0   \n",
       "...              ...  ...              ...                         ...   \n",
       "129875             1   29             1731                           0   \n",
       "129876             0   63             2087                         174   \n",
       "129877             0   69             2320                         155   \n",
       "129878             0   66             2450                         193   \n",
       "129879             0   38             4307                         185   \n",
       "\n",
       "        Arrival Delay in Minutes  Gender_Male  \\\n",
       "0                            0.0            0   \n",
       "1                          305.0            1   \n",
       "2                            0.0            0   \n",
       "3                            0.0            0   \n",
       "4                            0.0            0   \n",
       "...                          ...          ...   \n",
       "129875                       0.0            0   \n",
       "129876                     172.0            1   \n",
       "129877                     163.0            1   \n",
       "129878                     205.0            1   \n",
       "129879                     186.0            0   \n",
       "\n",
       "        Customer Type_disloyal Customer  Type of Travel_Personal Travel  \\\n",
       "0                                     0                               1   \n",
       "1                                     0                               1   \n",
       "2                                     0                               1   \n",
       "3                                     0                               1   \n",
       "4                                     0                               1   \n",
       "...                                 ...                             ...   \n",
       "129875                                1                               1   \n",
       "129876                                1                               1   \n",
       "129877                                1                               1   \n",
       "129878                                1                               1   \n",
       "129879                                1                               1   \n",
       "\n",
       "        Class_Eco  Class_Eco Plus  ...  Cleanliness_1  Cleanliness_2  \\\n",
       "0               1               0  ...              0              0   \n",
       "1               0               0  ...              0              0   \n",
       "2               1               0  ...              0              0   \n",
       "3               1               0  ...              1              0   \n",
       "4               1               0  ...              0              1   \n",
       "...           ...             ...  ...            ...            ...   \n",
       "129875          1               0  ...              0              0   \n",
       "129876          0               0  ...              0              1   \n",
       "129877          1               0  ...              0              0   \n",
       "129878          1               0  ...              1              0   \n",
       "129879          1               0  ...              0              0   \n",
       "\n",
       "        Cleanliness_3  Cleanliness_4  Cleanliness_5  Online boarding_1  \\\n",
       "0                   1              0              0                  0   \n",
       "1                   1              0              0                  0   \n",
       "2                   0              1              0                  0   \n",
       "3                   0              0              0                  0   \n",
       "4                   0              0              0                  0   \n",
       "...               ...            ...            ...                ...   \n",
       "129875              0              1              0                  0   \n",
       "129876              0              0              0                  1   \n",
       "129877              1              0              0                  0   \n",
       "129878              0              0              0                  0   \n",
       "129879              1              0              0                  0   \n",
       "\n",
       "        Online boarding_2  Online boarding_3  Online boarding_4  \\\n",
       "0                       1                  0                  0   \n",
       "1                       1                  0                  0   \n",
       "2                       1                  0                  0   \n",
       "3                       0                  1                  0   \n",
       "4                       0                  0                  0   \n",
       "...                   ...                ...                ...   \n",
       "129875                  1                  0                  0   \n",
       "129876                  0                  0                  0   \n",
       "129877                  1                  0                  0   \n",
       "129878                  1                  0                  0   \n",
       "129879                  0                  1                  0   \n",
       "\n",
       "        Online boarding_5  \n",
       "0                       0  \n",
       "1                       0  \n",
       "2                       0  \n",
       "3                       0  \n",
       "4                       1  \n",
       "...                   ...  \n",
       "129875                  0  \n",
       "129876                  0  \n",
       "129877                  0  \n",
       "129878                  0  \n",
       "129879                  0  \n",
       "\n",
       "[129880 rows x 79 columns]"
      ]
     },
     "execution_count": 9,
     "metadata": {},
     "output_type": "execute_result"
    }
   ],
   "source": [
    "df_with_dummies"
   ]
  },
  {
   "cell_type": "markdown",
   "metadata": {},
   "source": [
    "## Modelling"
   ]
  },
  {
   "cell_type": "markdown",
   "metadata": {},
   "source": [
    "### Logistic regression model"
   ]
  },
  {
   "cell_type": "code",
   "execution_count": 10,
   "metadata": {},
   "outputs": [
    {
     "name": "stdout",
     "output_type": "stream",
     "text": [
      "x_train: (90916, 78)\n",
      "x_test: (38964, 78)\n",
      "y_train: (90916,)\n",
      "y_test: (38964,)\n"
     ]
    }
   ],
   "source": [
    "x = df_with_dummies.drop('satisfaction',axis=1)\n",
    "y = df['satisfaction']\n",
    "\n",
    "x_train,x_test,y_train,y_test = train_test_split(x,y,train_size=0.7,random_state=123)\n",
    "print(f'x_train: {x_train.shape}')\n",
    "print(f'x_test: {x_test.shape}')\n",
    "print(f'y_train: {y_train.shape}')\n",
    "print(f'y_test: {y_test.shape}')"
   ]
  },
  {
   "cell_type": "code",
   "execution_count": 11,
   "metadata": {},
   "outputs": [
    {
     "name": "stdout",
     "output_type": "stream",
     "text": [
      "Warning: Maximum number of iterations has been exceeded.\n",
      "         Current function value: 0.233202\n",
      "         Iterations: 35\n",
      "                           Logit Regression Results                           \n",
      "==============================================================================\n",
      "Dep. Variable:           satisfaction   No. Observations:                90916\n",
      "Model:                          Logit   Df Residuals:                    90841\n",
      "Method:                           MLE   Df Model:                           74\n",
      "Date:                Fri, 04 Aug 2023   Pseudo R-squ.:                  0.6614\n",
      "Time:                        16:44:15   Log-Likelihood:                -21202.\n",
      "converged:                      False   LL-Null:                       -62618.\n",
      "Covariance Type:            nonrobust   LLR p-value:                     0.000\n",
      "=======================================================================================================\n",
      "                                          coef    std err          z      P>|z|      [0.025      0.975]\n",
      "-------------------------------------------------------------------------------------------------------\n",
      "Age                                    -0.0037      0.001     -4.056      0.000      -0.005      -0.002\n",
      "Flight Distance                     -9.595e-05   1.35e-05     -7.116      0.000      -0.000   -6.95e-05\n",
      "Departure Delay in Minutes              0.0028      0.001      2.465      0.014       0.001       0.005\n",
      "Arrival Delay in Minutes               -0.0080      0.001     -7.156      0.000      -0.010      -0.006\n",
      "Gender_Male                            -0.8860      0.026    -33.902      0.000      -0.937      -0.835\n",
      "Customer Type_disloyal Customer        -2.7473      0.043    -63.197      0.000      -2.832      -2.662\n",
      "Type of Travel_Personal Travel         -1.3721      0.039    -35.260      0.000      -1.448      -1.296\n",
      "Class_Eco                              -0.5385      0.034    -15.910      0.000      -0.605      -0.472\n",
      "Class_Eco Plus                         -0.6555      0.052    -12.552      0.000      -0.758      -0.553\n",
      "Seat comfort_1                        -25.5511    525.846     -0.049      0.961   -1056.190    1005.088\n",
      "Seat comfort_2                        -25.9797    525.846     -0.049      0.961   -1056.619    1004.659\n",
      "Seat comfort_3                        -26.0215    525.846     -0.049      0.961   -1056.660    1004.617\n",
      "Seat comfort_4                        -24.9523    525.846     -0.047      0.962   -1055.591    1005.687\n",
      "Seat comfort_5                        -20.0872    525.846     -0.038      0.970   -1050.726    1010.552\n",
      "Departure/Arrival time convenient_1     0.4927      0.086      5.729      0.000       0.324       0.661\n",
      "Departure/Arrival time convenient_2     0.6119      0.083      7.364      0.000       0.449       0.775\n",
      "Departure/Arrival time convenient_3     0.5756      0.081      7.082      0.000       0.416       0.735\n",
      "Departure/Arrival time convenient_4    -0.4850      0.076     -6.414      0.000      -0.633      -0.337\n",
      "Departure/Arrival time convenient_5    -1.5106      0.082    -18.389      0.000      -1.672      -1.350\n",
      "Food and drink_1                        3.4495      0.720      4.790      0.000       2.038       4.861\n",
      "Food and drink_2                        3.4364      0.720      4.772      0.000       2.025       4.848\n",
      "Food and drink_3                        3.7951      0.720      5.272      0.000       2.384       5.206\n",
      "Food and drink_4                        3.9213      0.720      5.450      0.000       2.511       5.332\n",
      "Food and drink_5                        4.1189      0.720      5.722      0.000       2.708       5.530\n",
      "Gate location_1                       -12.9536    677.915     -0.019      0.985   -1341.642    1315.735\n",
      "Gate location_2                       -12.8599    677.915     -0.019      0.985   -1341.549    1315.829\n",
      "Gate location_3                       -13.2040    677.915     -0.019      0.984   -1341.893    1315.485\n",
      "Gate location_4                       -12.9514    677.915     -0.019      0.985   -1341.640    1315.738\n",
      "Gate location_5                       -13.0816    677.915     -0.019      0.985   -1341.771    1315.608\n",
      "Inflight wifi service_1                -1.0320      1.117     -0.924      0.356      -3.221       1.157\n",
      "Inflight wifi service_2                -0.6993      1.117     -0.626      0.531      -2.888       1.489\n",
      "Inflight wifi service_3                -0.9488      1.116     -0.850      0.395      -3.137       1.239\n",
      "Inflight wifi service_4                -0.9903      1.116     -0.887      0.375      -3.178       1.198\n",
      "Inflight wifi service_5                -1.1539      1.116     -1.034      0.301      -3.342       1.034\n",
      "Inflight entertainment_1               -3.1508      0.724     -4.350      0.000      -4.571      -1.731\n",
      "Inflight entertainment_2               -3.0043      0.724     -4.150      0.000      -4.423      -1.586\n",
      "Inflight entertainment_3               -3.2027      0.723     -4.427      0.000      -4.621      -1.785\n",
      "Inflight entertainment_4               -1.4144      0.723     -1.956      0.050      -2.832       0.003\n",
      "Inflight entertainment_5               -0.1640      0.723     -0.227      0.821      -1.581       1.253\n",
      "Online support_1                        2.3058        nan        nan        nan         nan         nan\n",
      "Online support_2                        1.9645        nan        nan        nan         nan         nan\n",
      "Online support_3                        0.8471        nan        nan        nan         nan         nan\n",
      "Online support_4                        1.6353        nan        nan        nan         nan         nan\n",
      "Online support_5                        2.2776        nan        nan        nan         nan         nan\n",
      "Ease of Online booking_1               17.4144        nan        nan        nan         nan         nan\n",
      "Ease of Online booking_2               18.3116        nan        nan        nan         nan         nan\n",
      "Ease of Online booking_3               19.2701        nan        nan        nan         nan         nan\n",
      "Ease of Online booking_4               19.4204        nan        nan        nan         nan         nan\n",
      "Ease of Online booking_5               18.6058        nan        nan        nan         nan         nan\n",
      "On-board service_1                     -2.2222        nan        nan        nan         nan         nan\n",
      "On-board service_2                     -2.0382        nan        nan        nan         nan         nan\n",
      "On-board service_3                     -1.6736        nan        nan        nan         nan         nan\n",
      "On-board service_4                     -1.5054        nan        nan        nan         nan         nan\n",
      "On-board service_5                     -1.0162        nan        nan        nan         nan         nan\n",
      "Leg room service_1                     -2.0314      0.776     -2.619      0.009      -3.552      -0.511\n",
      "Leg room service_2                     -1.6943      0.775     -2.185      0.029      -3.214      -0.175\n",
      "Leg room service_3                     -1.9066      0.775     -2.460      0.014      -3.426      -0.387\n",
      "Leg room service_4                     -1.2257      0.775     -1.581      0.114      -2.745       0.293\n",
      "Leg room service_5                     -1.0250      0.775     -1.322      0.186      -2.544       0.494\n",
      "Baggage handling_2                     -0.1955      0.072     -2.723      0.006      -0.336      -0.055\n",
      "Baggage handling_3                     -0.6739      0.067    -10.105      0.000      -0.805      -0.543\n",
      "Baggage handling_4                     -0.1401      0.065     -2.160      0.031      -0.267      -0.013\n",
      "Baggage handling_5                      0.3857      0.068      5.641      0.000       0.252       0.520\n",
      "Checkin service_1                       1.2659        nan        nan        nan         nan         nan\n",
      "Checkin service_2                       1.4530        nan        nan        nan         nan         nan\n",
      "Checkin service_3                       1.9140        nan        nan        nan         nan         nan\n",
      "Checkin service_4                       1.8885        nan        nan        nan         nan         nan\n",
      "Checkin service_5                       2.5089        nan        nan        nan         nan         nan\n",
      "Cleanliness_1                          -1.5341        nan        nan        nan         nan         nan\n",
      "Cleanliness_2                          -1.6022        nan        nan        nan         nan         nan\n",
      "Cleanliness_3                          -2.3148        nan        nan        nan         nan         nan\n",
      "Cleanliness_4                          -1.7670        nan        nan        nan         nan         nan\n",
      "Cleanliness_5                          -1.2373        nan        nan        nan         nan         nan\n",
      "Online boarding_1                      21.9054        nan        nan        nan         nan         nan\n",
      "Online boarding_2                      21.7434        nan        nan        nan         nan         nan\n",
      "Online boarding_3                      22.2918        nan        nan        nan         nan         nan\n",
      "Online boarding_4                      22.0996        nan        nan        nan         nan         nan\n",
      "Online boarding_5                      22.4677        nan        nan        nan         nan         nan\n",
      "=======================================================================================================\n"
     ]
    },
    {
     "name": "stderr",
     "output_type": "stream",
     "text": [
      "c:\\Users\\piotr\\AppData\\Local\\Programs\\Python\\Python311\\Lib\\site-packages\\statsmodels\\base\\model.py:604: ConvergenceWarning: Maximum Likelihood optimization failed to converge. Check mle_retvals\n",
      "  warnings.warn(\"Maximum Likelihood optimization failed to \"\n"
     ]
    }
   ],
   "source": [
    "mod = sm.Logit(y_train,x_train).fit()\n",
    "print(mod.summary())"
   ]
  },
  {
   "cell_type": "markdown",
   "metadata": {},
   "source": [
    "#### This model has a lot of invalid variables which ought to be excluded"
   ]
  },
  {
   "cell_type": "markdown",
   "metadata": {},
   "source": [
    "### Fixing the model"
   ]
  },
  {
   "cell_type": "code",
   "execution_count": 12,
   "metadata": {},
   "outputs": [
    {
     "name": "stdout",
     "output_type": "stream",
     "text": [
      "x_train: (90916, 38)\n",
      "x_test: (38964, 38)\n",
      "y_train: (90916,)\n",
      "y_test: (38964,)\n"
     ]
    }
   ],
   "source": [
    "x = df_with_dummies.drop(['satisfaction','Seat comfort_1','Seat comfort_2',\n",
    "'Seat comfort_3','Seat comfort_4','Seat comfort_5',\n",
    "'Gate location_1','Gate location_2','Gate location_3',\n",
    "'Gate location_4','Gate location_5','Online support_1',\n",
    "'Online support_2','Online support_3','Online support_4',\n",
    "'Online support_5','Ease of Online booking_1','Ease of Online booking_2',\n",
    "'Ease of Online booking_3','Ease of Online booking_4','Ease of Online booking_5',\n",
    "'On-board service_1','On-board service_2','On-board service_3',\n",
    "'On-board service_4','On-board service_5','Checkin service_1',\n",
    "'Checkin service_2','Checkin service_3','Checkin service_4',\n",
    "'Checkin service_5','Cleanliness_1','Cleanliness_2',\n",
    "'Cleanliness_3','Cleanliness_4','Cleanliness_5',\n",
    "'Online boarding_1','Online boarding_2','Online boarding_3',\n",
    "'Online boarding_4','Online boarding_5'],\n",
    "axis=1)\n",
    "y = df['satisfaction']\n",
    "\n",
    "x_train,x_test,y_train,y_test = train_test_split(x,y,train_size=0.7,random_state=123)\n",
    "print(f'x_train: {x_train.shape}')\n",
    "print(f'x_test: {x_test.shape}')\n",
    "print(f'y_train: {y_train.shape}')\n",
    "print(f'y_test: {y_test.shape}')"
   ]
  },
  {
   "cell_type": "code",
   "execution_count": 13,
   "metadata": {},
   "outputs": [
    {
     "name": "stdout",
     "output_type": "stream",
     "text": [
      "Optimization terminated successfully.\n",
      "         Current function value: 0.322779\n",
      "         Iterations 8\n",
      "                           Logit Regression Results                           \n",
      "==============================================================================\n",
      "Dep. Variable:           satisfaction   No. Observations:                90916\n",
      "Model:                          Logit   Df Residuals:                    90878\n",
      "Method:                           MLE   Df Model:                           37\n",
      "Date:                Fri, 04 Aug 2023   Pseudo R-squ.:                  0.5314\n",
      "Time:                        16:44:17   Log-Likelihood:                -29346.\n",
      "converged:                       True   LL-Null:                       -62618.\n",
      "Covariance Type:            nonrobust   LLR p-value:                     0.000\n",
      "=======================================================================================================\n",
      "                                          coef    std err          z      P>|z|      [0.025      0.975]\n",
      "-------------------------------------------------------------------------------------------------------\n",
      "Age                                    -0.0047      0.001     -6.223      0.000      -0.006      -0.003\n",
      "Flight Distance                        -0.0001   1.13e-05     -9.090      0.000      -0.000   -8.03e-05\n",
      "Departure Delay in Minutes              0.0024      0.001      2.465      0.014       0.000       0.004\n",
      "Arrival Delay in Minutes               -0.0085      0.001     -8.717      0.000      -0.010      -0.007\n",
      "Gender_Male                            -0.9253      0.022    -42.595      0.000      -0.968      -0.883\n",
      "Customer Type_disloyal Customer        -2.1866      0.034    -63.823      0.000      -2.254      -2.119\n",
      "Type of Travel_Personal Travel         -0.9379      0.030    -30.820      0.000      -0.998      -0.878\n",
      "Class_Eco                              -0.6857      0.027    -25.411      0.000      -0.739      -0.633\n",
      "Class_Eco Plus                         -0.7727      0.042    -18.469      0.000      -0.855      -0.691\n",
      "Departure/Arrival time convenient_1     0.1132      0.065      1.743      0.081      -0.014       0.240\n",
      "Departure/Arrival time convenient_2     0.1996      0.063      3.163      0.002       0.076       0.323\n",
      "Departure/Arrival time convenient_3     0.1540      0.062      2.482      0.013       0.032       0.276\n",
      "Departure/Arrival time convenient_4    -0.4210      0.057     -7.349      0.000      -0.533      -0.309\n",
      "Departure/Arrival time convenient_5    -1.0212      0.060    -17.015      0.000      -1.139      -0.904\n",
      "Food and drink_1                       -3.2485      0.103    -31.651      0.000      -3.450      -3.047\n",
      "Food and drink_2                       -3.4591      0.101    -34.081      0.000      -3.658      -3.260\n",
      "Food and drink_3                       -3.3967      0.100    -33.865      0.000      -3.593      -3.200\n",
      "Food and drink_4                       -3.0052      0.098    -30.684      0.000      -3.197      -2.813\n",
      "Food and drink_5                       -1.9206      0.100    -19.247      0.000      -2.116      -1.725\n",
      "Inflight wifi service_1                 0.7633      0.155      4.926      0.000       0.460       1.067\n",
      "Inflight wifi service_2                 1.3109      0.154      8.515      0.000       1.009       1.613\n",
      "Inflight wifi service_3                 1.3223      0.154      8.598      0.000       1.021       1.624\n",
      "Inflight wifi service_4                 1.7738      0.154     11.522      0.000       1.472       2.076\n",
      "Inflight wifi service_5                 1.6504      0.154     10.697      0.000       1.348       1.953\n",
      "Inflight entertainment_1                0.0710      0.106      0.670      0.503      -0.137       0.279\n",
      "Inflight entertainment_2               -0.1348      0.105     -1.282      0.200      -0.341       0.071\n",
      "Inflight entertainment_3               -0.1564      0.104     -1.504      0.132      -0.360       0.047\n",
      "Inflight entertainment_4                1.9862      0.104     19.172      0.000       1.783       2.189\n",
      "Inflight entertainment_5                4.0039      0.109     36.842      0.000       3.791       4.217\n",
      "Leg room service_1                      1.0599      0.146      7.283      0.000       0.775       1.345\n",
      "Leg room service_2                      1.4616      0.145     10.113      0.000       1.178       1.745\n",
      "Leg room service_3                      1.3895      0.144      9.619      0.000       1.106       1.673\n",
      "Leg room service_4                      2.4445      0.144     16.933      0.000       2.162       2.727\n",
      "Leg room service_5                      2.5870      0.145     17.829      0.000       2.303       2.871\n",
      "Baggage handling_2                     -0.1112      0.050     -2.209      0.027      -0.210      -0.013\n",
      "Baggage handling_3                     -0.2650      0.047     -5.648      0.000      -0.357      -0.173\n",
      "Baggage handling_4                      0.7973      0.045     17.748      0.000       0.709       0.885\n",
      "Baggage handling_5                      1.6211      0.048     33.530      0.000       1.526       1.716\n",
      "=======================================================================================================\n"
     ]
    }
   ],
   "source": [
    "mod = sm.Logit(y_train,x_train).fit()\n",
    "print(mod.summary())"
   ]
  },
  {
   "cell_type": "code",
   "execution_count": 14,
   "metadata": {},
   "outputs": [],
   "source": [
    "def group_round(x):\n",
    "    if x >= 0.5:\n",
    "        return 1\n",
    "    else:\n",
    "        return 0"
   ]
  },
  {
   "cell_type": "code",
   "execution_count": 15,
   "metadata": {},
   "outputs": [],
   "source": [
    "y_train_pred = mod.predict(x_train).apply(group_round)"
   ]
  },
  {
   "cell_type": "markdown",
   "metadata": {},
   "source": [
    "### Classification report for the train set"
   ]
  },
  {
   "cell_type": "code",
   "execution_count": 16,
   "metadata": {},
   "outputs": [
    {
     "name": "stdout",
     "output_type": "stream",
     "text": [
      "              precision    recall  f1-score   support\n",
      "\n",
      "           0       0.84      0.84      0.84     41195\n",
      "           1       0.87      0.87      0.87     49721\n",
      "\n",
      "    accuracy                           0.86     90916\n",
      "   macro avg       0.86      0.86      0.86     90916\n",
      "weighted avg       0.86      0.86      0.86     90916\n",
      "\n"
     ]
    }
   ],
   "source": [
    "print(classification_report(y_pred = y_train_pred, y_true = y_train))"
   ]
  },
  {
   "cell_type": "markdown",
   "metadata": {},
   "source": [
    "### ROC curve for the train set"
   ]
  },
  {
   "cell_type": "code",
   "execution_count": 17,
   "metadata": {},
   "outputs": [
    {
     "data": {
      "image/png": "[encoded data removed]",
      "text/plain": [
       "<Figure size 640x480 with 1 Axes>"
      ]
     },
     "metadata": {},
     "output_type": "display_data"
    }
   ],
   "source": [
    "fpr, tpr, _ = roc_curve(y_train, y_train_pred)\n",
    "roc_auc = auc(fpr, tpr)\n",
    "\n",
    "# Plot the ROC curve\n",
    "plt.figure()\n",
    "lw = 2\n",
    "plt.plot(fpr, tpr, color='darkorange', lw=lw, label='ROC curve (area = %0.2f)' % roc_auc)\n",
    "plt.plot([0, 1], [0, 1], color='navy', lw=lw, linestyle='--')\n",
    "plt.scatter([0.16], [0.87], color='black')\n",
    "plt.xlim([0.0, 1.0])\n",
    "plt.ylim([0.0, 1.0])\n",
    "plt.xlabel('1-Specificity')\n",
    "plt.ylabel('Sensitivity')\n",
    "plt.title('Receiver Operating Characteristic example')\n",
    "plt.legend(loc=\"lower right\")\n",
    "plt.show()"
   ]
  },
  {
   "cell_type": "code",
   "execution_count": 18,
   "metadata": {},
   "outputs": [
    {
     "data": {
      "text/plain": [
       "0.55"
      ]
     },
     "execution_count": 18,
     "metadata": {},
     "output_type": "execute_result"
    }
   ],
   "source": [
    "round(df_with_dummies['satisfaction'].value_counts()[1]/df_with_dummies['satisfaction'].value_counts().sum(),2)"
   ]
  },
  {
   "cell_type": "code",
   "execution_count": 19,
   "metadata": {},
   "outputs": [],
   "source": [
    "y_test_pred = mod.predict(x_test).apply(group_round)"
   ]
  },
  {
   "cell_type": "markdown",
   "metadata": {},
   "source": [
    "### Classification report for the test set"
   ]
  },
  {
   "cell_type": "code",
   "execution_count": 20,
   "metadata": {},
   "outputs": [
    {
     "name": "stdout",
     "output_type": "stream",
     "text": [
      "              precision    recall  f1-score   support\n",
      "\n",
      "           0       0.85      0.84      0.84     17598\n",
      "           1       0.87      0.88      0.87     21366\n",
      "\n",
      "    accuracy                           0.86     38964\n",
      "   macro avg       0.86      0.86      0.86     38964\n",
      "weighted avg       0.86      0.86      0.86     38964\n",
      "\n"
     ]
    }
   ],
   "source": [
    "print(classification_report(y_pred=y_test_pred,y_true = y_test))"
   ]
  },
  {
   "cell_type": "markdown",
   "metadata": {},
   "source": [
    "### ROC curve for the test set"
   ]
  },
  {
   "cell_type": "code",
   "execution_count": 21,
   "metadata": {},
   "outputs": [
    {
     "data": {
      "image/png": "[encoded data removed]",
      "text/plain": [
       "<Figure size 640x480 with 1 Axes>"
      ]
     },
     "metadata": {},
     "output_type": "display_data"
    }
   ],
   "source": [
    "fpr, tpr, _ = roc_curve(y_test, y_test_pred)\n",
    "roc_auc = auc(fpr, tpr)\n",
    "\n",
    "# Plot the ROC curve\n",
    "plt.figure()\n",
    "lw = 2\n",
    "plt.plot(fpr, tpr, color='darkorange', lw=lw, label='ROC curve (area = %0.2f)' % roc_auc)\n",
    "plt.plot([0, 1], [0, 1], color='navy', lw=lw, linestyle='--')\n",
    "plt.scatter([0.16], [0.88], color='black')\n",
    "plt.xlim([0.0, 1.0])\n",
    "plt.ylim([0.0, 1.0])\n",
    "plt.xlabel('1-Specificity')\n",
    "plt.ylabel('Sensitivity')\n",
    "plt.title('Receiver Operating Characteristic example')\n",
    "plt.legend(loc=\"lower right\")\n",
    "plt.show()"
   ]
  },
  {
   "cell_type": "code",
   "execution_count": 22,
   "metadata": {},
   "outputs": [
    {
     "data": {
      "text/plain": [
       "4.795831523312719"
      ]
     },
     "execution_count": 22,
     "metadata": {},
     "output_type": "execute_result"
    }
   ],
   "source": [
    "df.shape[1]**0.5"
   ]
  },
  {
   "cell_type": "markdown",
   "metadata": {},
   "source": [
    "## Random Forest"
   ]
  },
  {
   "cell_type": "code",
   "execution_count": 23,
   "metadata": {},
   "outputs": [
    {
     "data": {
      "text/html": [
       "<style>#sk-container-id-1 {color: black;background-color: white;}#sk-container-id-1 pre{padding: 0;}#sk-container-id-1 div.sk-toggleable {background-color: white;}#sk-container-id-1 label.sk-toggleable__label {cursor: pointer;display: block;width: 100%;margin-bottom: 0;padding: 0.3em;box-sizing: border-box;text-align: center;}#sk-container-id-1 label.sk-toggleable__label-arrow:before {content: \"▸\";float: left;margin-right: 0.25em;color: #696969;}#sk-container-id-1 label.sk-toggleable__label-arrow:hover:before {color: black;}#sk-container-id-1 div.sk-estimator:hover label.sk-toggleable__label-arrow:before {color: black;}#sk-container-id-1 div.sk-toggleable__content {max-height: 0;max-width: 0;overflow: hidden;text-align: left;background-color: #f0f8ff;}#sk-container-id-1 div.sk-toggleable__content pre {margin: 0.2em;color: black;border-radius: 0.25em;background-color: #f0f8ff;}#sk-container-id-1 input.sk-toggleable__control:checked~div.sk-toggleable__content {max-height: 200px;max-width: 100%;overflow: auto;}#sk-container-id-1 input.sk-toggleable__control:checked~label.sk-toggleable__label-arrow:before {content: \"▾\";}#sk-container-id-1 div.sk-estimator input.sk-toggleable__control:checked~label.sk-toggleable__label {background-color: #d4ebff;}#sk-container-id-1 div.sk-label input.sk-toggleable__control:checked~label.sk-toggleable__label {background-color: #d4ebff;}#sk-container-id-1 input.sk-hidden--visually {border: 0;clip: rect(1px 1px 1px 1px);clip: rect(1px, 1px, 1px, 1px);height: 1px;margin: -1px;overflow: hidden;padding: 0;position: absolute;width: 1px;}#sk-container-id-1 div.sk-estimator {font-family: monospace;background-color: #f0f8ff;border: 1px dotted black;border-radius: 0.25em;box-sizing: border-box;margin-bottom: 0.5em;}#sk-container-id-1 div.sk-estimator:hover {background-color: #d4ebff;}#sk-container-id-1 div.sk-parallel-item::after {content: \"\";width: 100%;border-bottom: 1px solid gray;flex-grow: 1;}#sk-container-id-1 div.sk-label:hover label.sk-toggleable__label {background-color: #d4ebff;}#sk-container-id-1 div.sk-serial::before {content: \"\";position: absolute;border-left: 1px solid gray;box-sizing: border-box;top: 0;bottom: 0;left: 50%;z-index: 0;}#sk-container-id-1 div.sk-serial {display: flex;flex-direction: column;align-items: center;background-color: white;padding-right: 0.2em;padding-left: 0.2em;position: relative;}#sk-container-id-1 div.sk-item {position: relative;z-index: 1;}#sk-container-id-1 div.sk-parallel {display: flex;align-items: stretch;justify-content: center;background-color: white;position: relative;}#sk-container-id-1 div.sk-item::before, #sk-container-id-1 div.sk-parallel-item::before {content: \"\";position: absolute;border-left: 1px solid gray;box-sizing: border-box;top: 0;bottom: 0;left: 50%;z-index: -1;}#sk-container-id-1 div.sk-parallel-item {display: flex;flex-direction: column;z-index: 1;position: relative;background-color: white;}#sk-container-id-1 div.sk-parallel-item:first-child::after {align-self: flex-end;width: 50%;}#sk-container-id-1 div.sk-parallel-item:last-child::after {align-self: flex-start;width: 50%;}#sk-container-id-1 div.sk-parallel-item:only-child::after {width: 0;}#sk-container-id-1 div.sk-dashed-wrapped {border: 1px dashed gray;margin: 0 0.4em 0.5em 0.4em;box-sizing: border-box;padding-bottom: 0.4em;background-color: white;}#sk-container-id-1 div.sk-label label {font-family: monospace;font-weight: bold;display: inline-block;line-height: 1.2em;}#sk-container-id-1 div.sk-label-container {text-align: center;}#sk-container-id-1 div.sk-container {/* jupyter's `normalize.less` sets `[hidden] { display: none; }` but bootstrap.min.css set `[hidden] { display: none !important; }` so we also need the `!important` here to be able to override the default hidden behavior on the sphinx rendered scikit-learn.org. See: https://github.com/scikit-learn/scikit-learn/issues/21755 */display: inline-block !important;position: relative;}#sk-container-id-1 div.sk-text-repr-fallback {display: none;}</style><div id=\"sk-container-id-1\" class=\"sk-top-container\"><div class=\"sk-text-repr-fallback\"><pre>RandomForestClassifier(max_depth=6, max_features=5, n_estimators=200,\n",
       "                       random_state=424)</pre><b>In a Jupyter environment, please rerun this cell to show the HTML representation or trust the notebook. <br />On GitHub, the HTML representation is unable to render, please try loading this page with nbviewer.org.</b></div><div class=\"sk-container\" hidden><div class=\"sk-item\"><div class=\"sk-estimator sk-toggleable\"><input class=\"sk-toggleable__control sk-hidden--visually\" id=\"sk-estimator-id-1\" type=\"checkbox\" checked><label for=\"sk-estimator-id-1\" class=\"sk-toggleable__label sk-toggleable__label-arrow\">RandomForestClassifier</label><div class=\"sk-toggleable__content\"><pre>RandomForestClassifier(max_depth=6, max_features=5, n_estimators=200,\n",
       "                       random_state=424)</pre></div></div></div></div></div>"
      ],
      "text/plain": [
       "RandomForestClassifier(max_depth=6, max_features=5, n_estimators=200,\n",
       "                       random_state=424)"
      ]
     },
     "execution_count": 23,
     "metadata": {},
     "output_type": "execute_result"
    }
   ],
   "source": [
    "rf = RandomForestClassifier(max_features=5,n_estimators=200,random_state=424,max_depth=6)\n",
    "rf.fit(x_train,y_train)"
   ]
  },
  {
   "cell_type": "code",
   "execution_count": 24,
   "metadata": {},
   "outputs": [],
   "source": [
    "y_train_rf_pred = rf.predict(x_train)"
   ]
  },
  {
   "cell_type": "code",
   "execution_count": 25,
   "metadata": {},
   "outputs": [
    {
     "data": {
      "text/plain": [
       "array([0, 0, 0, ..., 1, 1, 1])"
      ]
     },
     "execution_count": 25,
     "metadata": {},
     "output_type": "execute_result"
    }
   ],
   "source": [
    "y_train_rf_pred"
   ]
  },
  {
   "cell_type": "markdown",
   "metadata": {},
   "source": [
    "### Classification report for the train set (random forest model)"
   ]
  },
  {
   "cell_type": "code",
   "execution_count": 26,
   "metadata": {},
   "outputs": [
    {
     "name": "stdout",
     "output_type": "stream",
     "text": [
      "              precision    recall  f1-score   support\n",
      "\n",
      "           0       0.86      0.83      0.84     41195\n",
      "           1       0.86      0.89      0.87     49721\n",
      "\n",
      "    accuracy                           0.86     90916\n",
      "   macro avg       0.86      0.86      0.86     90916\n",
      "weighted avg       0.86      0.86      0.86     90916\n",
      "\n"
     ]
    }
   ],
   "source": [
    "print(classification_report(y_train,y_train_rf_pred))"
   ]
  },
  {
   "cell_type": "code",
   "execution_count": 27,
   "metadata": {},
   "outputs": [],
   "source": [
    "y_test_rf_pred = rf.predict(x_test)"
   ]
  },
  {
   "cell_type": "code",
   "execution_count": 28,
   "metadata": {},
   "outputs": [
    {
     "data": {
      "text/plain": [
       "array([1, 1, 1, ..., 0, 1, 1])"
      ]
     },
     "execution_count": 28,
     "metadata": {},
     "output_type": "execute_result"
    }
   ],
   "source": [
    "y_test_rf_pred"
   ]
  },
  {
   "cell_type": "markdown",
   "metadata": {},
   "source": [
    "### Classification report for the test set (random forest model)"
   ]
  },
  {
   "cell_type": "code",
   "execution_count": 29,
   "metadata": {},
   "outputs": [
    {
     "name": "stdout",
     "output_type": "stream",
     "text": [
      "              precision    recall  f1-score   support\n",
      "\n",
      "           0       0.86      0.83      0.84     17598\n",
      "           1       0.86      0.89      0.88     21366\n",
      "\n",
      "    accuracy                           0.86     38964\n",
      "   macro avg       0.86      0.86      0.86     38964\n",
      "weighted avg       0.86      0.86      0.86     38964\n",
      "\n"
     ]
    }
   ],
   "source": [
    "print(classification_report(y_test,y_test_rf_pred))"
   ]
  },
  {
   "cell_type": "code",
   "execution_count": 30,
   "metadata": {},
   "outputs": [],
   "source": [
    "importances = rf.feature_importances_"
   ]
  },
  {
   "cell_type": "code",
   "execution_count": 31,
   "metadata": {},
   "outputs": [],
   "source": [
    "cols_list = x_train.columns.to_list()"
   ]
  },
  {
   "cell_type": "code",
   "execution_count": 32,
   "metadata": {},
   "outputs": [],
   "source": [
    "importances_list = list(importances)"
   ]
  },
  {
   "cell_type": "markdown",
   "metadata": {},
   "source": [
    "### Importance Plot"
   ]
  },
  {
   "cell_type": "code",
   "execution_count": 33,
   "metadata": {},
   "outputs": [
    {
     "data": {
      "image/png": "[encoded data removed]",
      "text/plain": [
       "<Figure size 1000x600 with 1 Axes>"
      ]
     },
     "metadata": {},
     "output_type": "display_data"
    }
   ],
   "source": [
    "plt.figure(figsize=(10,6))\n",
    "sns.barplot(y=cols_list,x=importances_list)\n",
    "plt.title('Importance Plot')\n",
    "plt.ylabel('Variable')\n",
    "plt.xlabel('Weighted average decrease in Gini impurity')\n",
    "plt.show()"
   ]
  },
  {
   "cell_type": "markdown",
   "metadata": {},
   "source": [
    "## Logistic regression and random forest comparison"
   ]
  },
  {
   "cell_type": "code",
   "execution_count": 34,
   "metadata": {},
   "outputs": [],
   "source": [
    "model_metrics_test_set = pd.DataFrame({'model_type':['logistic_regression_test_set','random_forest_test_set'],\n",
    "                              'accuracy_score':[0.86,0.86],\n",
    "                              'recall: 0':[0.84,0.83],\n",
    "                              'recall: 1':[0.88,0.89],\n",
    "                              'precision 0':[0.85,0.86],\n",
    "                              'precision 1':[0.87,0.86]})"
   ]
  },
  {
   "cell_type": "code",
   "execution_count": 35,
   "metadata": {},
   "outputs": [
    {
     "data": {
      "text/html": [
       "<div>\n",
       "<style scoped>\n",
       "    .dataframe tbody tr th:only-of-type {\n",
       "        vertical-align: middle;\n",
       "    }\n",
       "\n",
       "    .dataframe tbody tr th {\n",
       "        vertical-align: top;\n",
       "    }\n",
       "\n",
       "    .dataframe thead th {\n",
       "        text-align: right;\n",
       "    }\n",
       "</style>\n",
       "<table border=\"1\" class=\"dataframe\">\n",
       "  <thead>\n",
       "    <tr style=\"text-align: right;\">\n",
       "      <th></th>\n",
       "      <th>model_type</th>\n",
       "      <th>accuracy_score</th>\n",
       "      <th>recall: 0</th>\n",
       "      <th>recall: 1</th>\n",
       "      <th>precision 0</th>\n",
       "      <th>precision 1</th>\n",
       "    </tr>\n",
       "  </thead>\n",
       "  <tbody>\n",
       "    <tr>\n",
       "      <th>0</th>\n",
       "      <td>logistic_regression_test_set</td>\n",
       "      <td>0.86</td>\n",
       "      <td>0.84</td>\n",
       "      <td>0.88</td>\n",
       "      <td>0.85</td>\n",
       "      <td>0.87</td>\n",
       "    </tr>\n",
       "    <tr>\n",
       "      <th>1</th>\n",
       "      <td>random_forest_test_set</td>\n",
       "      <td>0.86</td>\n",
       "      <td>0.83</td>\n",
       "      <td>0.89</td>\n",
       "      <td>0.86</td>\n",
       "      <td>0.86</td>\n",
       "    </tr>\n",
       "  </tbody>\n",
       "</table>\n",
       "</div>"
      ],
      "text/plain": [
       "                     model_type  accuracy_score  recall: 0  recall: 1  \\\n",
       "0  logistic_regression_test_set            0.86       0.84       0.88   \n",
       "1        random_forest_test_set            0.86       0.83       0.89   \n",
       "\n",
       "   precision 0  precision 1  \n",
       "0         0.85         0.87  \n",
       "1         0.86         0.86  "
      ]
     },
     "execution_count": 35,
     "metadata": {},
     "output_type": "execute_result"
    }
   ],
   "source": [
    "model_metrics_test_set"
   ]
  },
  {
   "cell_type": "markdown",
   "metadata": {},
   "source": [
    "#### All of the models are valid, since in the test set, No Information Rate would be equal to 0.55"
   ]
  },
  {
   "cell_type": "code",
   "execution_count": 36,
   "metadata": {},
   "outputs": [
    {
     "data": {
      "text/plain": [
       "0.55"
      ]
     },
     "execution_count": 36,
     "metadata": {},
     "output_type": "execute_result"
    }
   ],
   "source": [
    "round(y_train.value_counts()[1]/y_train.value_counts().sum(),2)"
   ]
  }
 ],
 "metadata": {
  "kernelspec": {
   "display_name": "Python 3",
   "language": "python",
   "name": "python3"
  },
  "language_info": {
   "codemirror_mode": {
    "name": "ipython",
    "version": 3
   },
   "file_extension": ".py",
   "mimetype": "text/x-python",
   "name": "python",
   "nbconvert_exporter": "python",
   "pygments_lexer": "ipython3",
   "version": "3.11.0"
  },
  "orig_nbformat": 4
 },
 "nbformat": 4,
 "nbformat_minor": 2
}
