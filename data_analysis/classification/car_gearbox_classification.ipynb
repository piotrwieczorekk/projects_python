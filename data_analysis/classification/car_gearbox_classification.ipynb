{
 "cells": [
  {
   "cell_type": "markdown",
   "metadata": {},
   "source": [
    "# This project aims to classify gearbox (either manual or automatic) based on a dataset containing data about cars"
   ]
  },
  {
   "cell_type": "markdown",
   "metadata": {},
   "source": [
    "**Table of contents**    \n",
    "- Importing libraries    \n",
    "- Reading the data    \n",
    "- Exploring the data    \n",
    "  - NaN values    \n",
    "  - Sorting unnecessary columns out    \n",
    "  - Dropping NaN values from selected columns    \n",
    "  - Exploring value_counts() for each category    \n",
    "  - Handling near-zero-variance variables    \n",
    "  - Get dummy variables    \n",
    "- Logistic regression    \n",
    "  - Data partition    \n",
    "  - First logistic regression model    \n",
    "  - Classification report for the test set    \n",
    "  - ROC curve for the test set    \n",
    "  - Upsampling the train set to make the 0's and 1's evenly frequent    \n",
    "  - Second model - logistic regression with upsampled train set    \n",
    "  - Classification report for the test set (based on model fit on the upsampled train set)    \n",
    "- Random Forest    \n",
    "  - Classification report for the test set    \n",
    "  - Classification report for the test set (model fitted on upsampled train set)    \n",
    "  - Feature importance for the test set (model fitted on upsampled train set)    \n",
    "\n",
    "<!-- vscode-jupyter-toc-config\n",
    "\tnumbering=false\n",
    "\tanchor=false\n",
    "\tflat=false\n",
    "\tminLevel=2\n",
    "\tmaxLevel=3\n",
    "\t/vscode-jupyter-toc-config -->\n",
    "<!-- THIS CELL WILL BE REPLACED ON TOC UPDATE. DO NOT WRITE YOUR TEXT IN THIS CELL -->"
   ]
  },
  {
   "cell_type": "markdown",
   "metadata": {},
   "source": [
    "## Importing libraries"
   ]
  },
  {
   "cell_type": "code",
   "execution_count": 1,
   "metadata": {},
   "outputs": [],
   "source": [
    "import pandas as pd\n",
    "import numpy as np\n",
    "import seaborn as sns\n",
    "import matplotlib.pyplot as plt\n",
    "import statsmodels.api as sm \n",
    "from sklearn.metrics import classification_report, roc_auc_score, roc_curve, auc\n",
    "from sklearn.model_selection import train_test_split\n",
    "from imblearn.over_sampling import RandomOverSampler\n",
    "from sklearn.ensemble import RandomForestClassifier"
   ]
  },
  {
   "cell_type": "markdown",
   "metadata": {},
   "source": [
    "## Reading the data"
   ]
  },
  {
   "cell_type": "code",
   "execution_count": 2,
   "metadata": {},
   "outputs": [],
   "source": [
    "df = pd.read_csv('autos.csv',encoding='latin-1')"
   ]
  },
  {
   "cell_type": "markdown",
   "metadata": {},
   "source": [
    "## Exploring the data"
   ]
  },
  {
   "cell_type": "code",
   "execution_count": 3,
   "metadata": {},
   "outputs": [
    {
     "data": {
      "text/plain": [
       "(371528, 20)"
      ]
     },
     "execution_count": 3,
     "metadata": {},
     "output_type": "execute_result"
    }
   ],
   "source": [
    "df.shape"
   ]
  },
  {
   "cell_type": "code",
   "execution_count": 4,
   "metadata": {},
   "outputs": [
    {
     "name": "stdout",
     "output_type": "stream",
     "text": [
      "<class 'pandas.core.frame.DataFrame'>\n",
      "RangeIndex: 371528 entries, 0 to 371527\n",
      "Data columns (total 20 columns):\n",
      " #   Column               Non-Null Count   Dtype \n",
      "---  ------               --------------   ----- \n",
      " 0   dateCrawled          371528 non-null  object\n",
      " 1   name                 371528 non-null  object\n",
      " 2   seller               371528 non-null  object\n",
      " 3   offerType            371528 non-null  object\n",
      " 4   price                371528 non-null  int64 \n",
      " 5   abtest               371528 non-null  object\n",
      " 6   vehicleType          333659 non-null  object\n",
      " 7   yearOfRegistration   371528 non-null  int64 \n",
      " 8   gearbox              351319 non-null  object\n",
      " 9   powerPS              371528 non-null  int64 \n",
      " 10  model                351044 non-null  object\n",
      " 11  kilometer            371528 non-null  int64 \n",
      " 12  monthOfRegistration  371528 non-null  int64 \n",
      " 13  fuelType             338142 non-null  object\n",
      " 14  brand                371528 non-null  object\n",
      " 15  notRepairedDamage    299468 non-null  object\n",
      " 16  dateCreated          371528 non-null  object\n",
      " 17  nrOfPictures         371528 non-null  int64 \n",
      " 18  postalCode           371528 non-null  int64 \n",
      " 19  lastSeen             371528 non-null  object\n",
      "dtypes: int64(7), object(13)\n",
      "memory usage: 56.7+ MB\n"
     ]
    }
   ],
   "source": [
    "df.info()"
   ]
  },
  {
   "cell_type": "markdown",
   "metadata": {},
   "source": [
    "### NaN values"
   ]
  },
  {
   "cell_type": "code",
   "execution_count": 5,
   "metadata": {},
   "outputs": [
    {
     "name": "stdout",
     "output_type": "stream",
     "text": [
      "column: vehicleType:\n",
      "NaN count: 37869\n",
      "NaN share: 0.1019\n",
      "\n",
      "column: gearbox:\n",
      "NaN count: 20209\n",
      "NaN share: 0.0544\n",
      "\n",
      "column: model:\n",
      "NaN count: 20484\n",
      "NaN share: 0.0551\n",
      "\n",
      "column: fuelType:\n",
      "NaN count: 33386\n",
      "NaN share: 0.0899\n",
      "\n",
      "column: notRepairedDamage:\n",
      "NaN count: 72060\n",
      "NaN share: 0.194\n",
      "\n"
     ]
    }
   ],
   "source": [
    "for column in df.columns:\n",
    "    if df[column].isna().sum() > 0:\n",
    "        print(f'column: {column}:\\nNaN count: {df[column].isna().sum()}\\nNaN share: {round(df[column].isna().sum() / df.shape[0],4)}\\n')"
   ]
  },
  {
   "cell_type": "markdown",
   "metadata": {},
   "source": [
    "### Sorting unnecessary columns out"
   ]
  },
  {
   "cell_type": "code",
   "execution_count": 6,
   "metadata": {},
   "outputs": [],
   "source": [
    "df = df.loc[:,~df.columns.isin(['dateCrawled','dateCreated','lastSeen','model','name','nrOfPictures','postalCode','monthOfRegistration'])]"
   ]
  },
  {
   "cell_type": "markdown",
   "metadata": {},
   "source": [
    "### Dropping NaN values from selected columns"
   ]
  },
  {
   "cell_type": "code",
   "execution_count": 7,
   "metadata": {},
   "outputs": [],
   "source": [
    "df =  df.dropna(subset=['vehicleType','gearbox','notRepairedDamage','fuelType'])"
   ]
  },
  {
   "cell_type": "markdown",
   "metadata": {},
   "source": [
    "### Exploring value_counts() for each category"
   ]
  },
  {
   "cell_type": "code",
   "execution_count": 8,
   "metadata": {},
   "outputs": [
    {
     "name": "stdout",
     "output_type": "stream",
     "text": [
      "seller:\n",
      "privat        268010\n",
      "gewerblich         2\n",
      "Name: seller, dtype: int64\n",
      "\n",
      "offerType:\n",
      "Angebot    268008\n",
      "Gesuch          4\n",
      "Name: offerType, dtype: int64\n",
      "\n",
      "abtest:\n",
      "test       139158\n",
      "control    128854\n",
      "Name: abtest, dtype: int64\n",
      "\n",
      "vehicleType:\n",
      "limousine     78160\n",
      "kleinwagen    60706\n",
      "kombi         54451\n",
      "bus           25501\n",
      "cabrio        19203\n",
      "coupe         15334\n",
      "suv           12675\n",
      "andere         1982\n",
      "Name: vehicleType, dtype: int64\n",
      "\n",
      "gearbox:\n",
      "manuell      205177\n",
      "automatik     62835\n",
      "Name: gearbox, dtype: int64\n",
      "\n",
      "fuelType:\n",
      "benzin     174476\n",
      "diesel      88461\n",
      "lpg          4184\n",
      "cng           470\n",
      "hybrid        242\n",
      "andere         99\n",
      "elektro        80\n",
      "Name: fuelType, dtype: int64\n",
      "\n",
      "brand:\n",
      "volkswagen        55213\n",
      "bmw               30879\n",
      "mercedes_benz     27264\n",
      "opel              26959\n",
      "audi              25122\n",
      "ford              17777\n",
      "renault           11922\n",
      "peugeot            8125\n",
      "fiat               6511\n",
      "seat               5096\n",
      "skoda              4589\n",
      "mazda              4153\n",
      "toyota             3757\n",
      "citroen            3756\n",
      "nissan             3654\n",
      "smart              3424\n",
      "mini               2898\n",
      "hyundai            2860\n",
      "volvo              2619\n",
      "sonstige_autos     2162\n",
      "mitsubishi         2125\n",
      "kia                2009\n",
      "honda              1997\n",
      "porsche            1880\n",
      "alfa_romeo         1740\n",
      "suzuki             1729\n",
      "chevrolet          1386\n",
      "chrysler           1064\n",
      "dacia               733\n",
      "land_rover          638\n",
      "jeep                621\n",
      "subaru              561\n",
      "daihatsu            530\n",
      "jaguar              492\n",
      "saab                426\n",
      "daewoo              351\n",
      "lancia              328\n",
      "rover               288\n",
      "trabant             225\n",
      "lada                149\n",
      "Name: brand, dtype: int64\n",
      "\n",
      "notRepairedDamage:\n",
      "nein    238707\n",
      "ja       29305\n",
      "Name: notRepairedDamage, dtype: int64\n",
      "\n"
     ]
    }
   ],
   "source": [
    "for column in df.select_dtypes('object').columns.to_list():\n",
    "    print(f'{column}:\\n{df[column].value_counts()}\\n')"
   ]
  },
  {
   "cell_type": "markdown",
   "metadata": {},
   "source": [
    "#### Columns 'seller' and 'offerType' are (almost) zero variance variables and they should be removed"
   ]
  },
  {
   "cell_type": "code",
   "execution_count": 9,
   "metadata": {},
   "outputs": [],
   "source": [
    "df = df.loc[:,~df.columns.isin(['seller','offerType'])]"
   ]
  },
  {
   "cell_type": "markdown",
   "metadata": {},
   "source": [
    "#### <br>Searching for near-zero-variance variables. In the example below, total number of rows (df.shape[0]) is divided by the number of each (object) variable's category.</br> <br>A near-zero-variance variable is a variable, which ratio of the frequency of the most prevalent value to the frequency of the second most prevalent value is large (say around 20) (according to Max Kuhn, who developed the 'caret' package in R). Thefore, while creating dummy variables, we want to ensure that the 0's are 1's are roughly balanced. To achieve that, it's a good idea to get the low-frequent categories of particular variables and consolidate into \"other\" category.</br>"
   ]
  },
  {
   "cell_type": "code",
   "execution_count": 10,
   "metadata": {},
   "outputs": [
    {
     "name": "stdout",
     "output_type": "stream",
     "text": [
      "abtest:\n",
      "test       1.925955\n",
      "control    2.079966\n",
      "Name: abtest, dtype: float64\n",
      "\n",
      "vehicleType:\n",
      "limousine       3.429017\n",
      "kleinwagen      4.414918\n",
      "kombi           4.922077\n",
      "bus            10.509862\n",
      "cabrio         13.956778\n",
      "coupe          17.478284\n",
      "suv            21.144931\n",
      "andere        135.223007\n",
      "Name: vehicleType, dtype: float64\n",
      "\n",
      "gearbox:\n",
      "manuell      1.306248\n",
      "automatik    4.265330\n",
      "Name: gearbox, dtype: float64\n",
      "\n",
      "fuelType:\n",
      "benzin        1.536097\n",
      "diesel        3.029719\n",
      "lpg          64.056405\n",
      "cng         570.238298\n",
      "hybrid     1107.487603\n",
      "andere     2707.191919\n",
      "elektro    3350.150000\n",
      "Name: fuelType, dtype: float64\n",
      "\n",
      "brand:\n",
      "volkswagen           4.854147\n",
      "bmw                  8.679426\n",
      "mercedes_benz        9.830252\n",
      "opel                 9.941467\n",
      "audi                10.668418\n",
      "ford                15.076335\n",
      "renault             22.480456\n",
      "peugeot             32.986092\n",
      "fiat                41.162955\n",
      "seat                52.592622\n",
      "skoda               58.403138\n",
      "mazda               64.534553\n",
      "toyota              71.336705\n",
      "citroen             71.355698\n",
      "nissan              73.347564\n",
      "smart               78.274533\n",
      "mini                92.481712\n",
      "hyundai             93.710490\n",
      "volvo              102.333715\n",
      "sonstige_autos     123.964847\n",
      "mitsubishi         126.123294\n",
      "kia                133.405674\n",
      "honda              134.207311\n",
      "porsche            142.559574\n",
      "alfa_romeo         154.029885\n",
      "suzuki             155.009832\n",
      "chevrolet          193.370851\n",
      "chrysler           251.890977\n",
      "dacia              365.637108\n",
      "land_rover         420.081505\n",
      "jeep               431.581320\n",
      "subaru             477.739750\n",
      "daihatsu           505.683019\n",
      "jaguar             544.739837\n",
      "saab               629.136150\n",
      "daewoo             763.566952\n",
      "lancia             817.109756\n",
      "rover              930.597222\n",
      "trabant           1191.164444\n",
      "lada              1798.738255\n",
      "Name: brand, dtype: float64\n",
      "\n",
      "notRepairedDamage:\n",
      "nein    1.122766\n",
      "ja      9.145607\n",
      "Name: notRepairedDamage, dtype: float64\n",
      "\n"
     ]
    }
   ],
   "source": [
    "for column in df.select_dtypes('object').columns.to_list():\n",
    "    print(f'{column}:\\n{df.shape[0]/df[column].value_counts()}\\n')"
   ]
  },
  {
   "cell_type": "markdown",
   "metadata": {},
   "source": [
    "### Handling near-zero-variance variables"
   ]
  },
  {
   "cell_type": "code",
   "execution_count": 11,
   "metadata": {},
   "outputs": [],
   "source": [
    "df['vehicleType'].replace({'andere':'other'},inplace=True)\n",
    "df['vehicleType'].replace({'suv':'other'},inplace=True)"
   ]
  },
  {
   "cell_type": "code",
   "execution_count": 12,
   "metadata": {},
   "outputs": [
    {
     "data": {
      "text/plain": [
       "limousine     78160\n",
       "kleinwagen    60706\n",
       "kombi         54451\n",
       "bus           25501\n",
       "cabrio        19203\n",
       "coupe         15334\n",
       "other         14657\n",
       "Name: vehicleType, dtype: int64"
      ]
     },
     "execution_count": 12,
     "metadata": {},
     "output_type": "execute_result"
    }
   ],
   "source": [
    "df['vehicleType'].value_counts()"
   ]
  },
  {
   "cell_type": "code",
   "execution_count": 13,
   "metadata": {},
   "outputs": [],
   "source": [
    "df['fuelType'].replace({'lpg':'other',\n",
    "                        'cng':'other',\n",
    "                        'hybrid':'other',\n",
    "                        'andere':'other',\n",
    "                        'elektro':'other'},inplace=True)"
   ]
  },
  {
   "cell_type": "code",
   "execution_count": 14,
   "metadata": {},
   "outputs": [
    {
     "data": {
      "text/plain": [
       "benzin    174476\n",
       "diesel     88461\n",
       "other       5075\n",
       "Name: fuelType, dtype: int64"
      ]
     },
     "execution_count": 14,
     "metadata": {},
     "output_type": "execute_result"
    }
   ],
   "source": [
    "df['fuelType'].value_counts()"
   ]
  },
  {
   "cell_type": "code",
   "execution_count": 15,
   "metadata": {},
   "outputs": [],
   "source": [
    "def fix_brand(x):\n",
    "    if x in ['volvo','sonstige_autos','mitsubishi','kia','honda',\n",
    "    'porsche','alfa_romeo','suzuki','chevrolet','chrysler',\n",
    "    'dacia','land_rover','jeep','subaru','daihatsu','jaguar',\n",
    "    'saab','daewoo','lancia','rover','trabant','lada','hyundai',\n",
    "    'mini','smart','nissan','citroen','toyota','mazda','skoda','seat','fiat']:\n",
    "        return 'other'\n",
    "    else:\n",
    "        return x    "
   ]
  },
  {
   "cell_type": "code",
   "execution_count": 16,
   "metadata": {},
   "outputs": [],
   "source": [
    "df['brand'] = df['brand'].apply(fix_brand)"
   ]
  },
  {
   "cell_type": "markdown",
   "metadata": {},
   "source": [
    "#### Now the categories frequency are fixed"
   ]
  },
  {
   "cell_type": "code",
   "execution_count": 17,
   "metadata": {},
   "outputs": [
    {
     "name": "stdout",
     "output_type": "stream",
     "text": [
      "abtest:\n",
      "test       1.925955\n",
      "control    2.079966\n",
      "Name: abtest, dtype: float64\n",
      "\n",
      "vehicleType:\n",
      "limousine      3.429017\n",
      "kleinwagen     4.414918\n",
      "kombi          4.922077\n",
      "bus           10.509862\n",
      "cabrio        13.956778\n",
      "coupe         17.478284\n",
      "other         18.285597\n",
      "Name: vehicleType, dtype: float64\n",
      "\n",
      "gearbox:\n",
      "manuell      1.306248\n",
      "automatik    4.265330\n",
      "Name: gearbox, dtype: float64\n",
      "\n",
      "fuelType:\n",
      "benzin     1.536097\n",
      "diesel     3.029719\n",
      "other     52.810246\n",
      "Name: fuelType, dtype: float64\n",
      "\n",
      "brand:\n",
      "other             4.139118\n",
      "volkswagen        4.854147\n",
      "bmw               8.679426\n",
      "mercedes_benz     9.830252\n",
      "opel              9.941467\n",
      "audi             10.668418\n",
      "ford             15.076335\n",
      "renault          22.480456\n",
      "peugeot          32.986092\n",
      "Name: brand, dtype: float64\n",
      "\n",
      "notRepairedDamage:\n",
      "nein    1.122766\n",
      "ja      9.145607\n",
      "Name: notRepairedDamage, dtype: float64\n",
      "\n"
     ]
    }
   ],
   "source": [
    "for column in df.select_dtypes('object').columns.to_list():\n",
    "    print(f'{column}:\\n{df.shape[0]/df[column].value_counts()}\\n')"
   ]
  },
  {
   "cell_type": "code",
   "execution_count": 18,
   "metadata": {},
   "outputs": [
    {
     "data": {
      "text/html": [
       "<div>\n",
       "<style scoped>\n",
       "    .dataframe tbody tr th:only-of-type {\n",
       "        vertical-align: middle;\n",
       "    }\n",
       "\n",
       "    .dataframe tbody tr th {\n",
       "        vertical-align: top;\n",
       "    }\n",
       "\n",
       "    .dataframe thead th {\n",
       "        text-align: right;\n",
       "    }\n",
       "</style>\n",
       "<table border=\"1\" class=\"dataframe\">\n",
       "  <thead>\n",
       "    <tr style=\"text-align: right;\">\n",
       "      <th></th>\n",
       "      <th>price</th>\n",
       "      <th>abtest</th>\n",
       "      <th>vehicleType</th>\n",
       "      <th>yearOfRegistration</th>\n",
       "      <th>gearbox</th>\n",
       "      <th>powerPS</th>\n",
       "      <th>kilometer</th>\n",
       "      <th>fuelType</th>\n",
       "      <th>brand</th>\n",
       "      <th>notRepairedDamage</th>\n",
       "    </tr>\n",
       "  </thead>\n",
       "  <tbody>\n",
       "    <tr>\n",
       "      <th>1</th>\n",
       "      <td>18300</td>\n",
       "      <td>test</td>\n",
       "      <td>coupe</td>\n",
       "      <td>2011</td>\n",
       "      <td>manuell</td>\n",
       "      <td>190</td>\n",
       "      <td>125000</td>\n",
       "      <td>diesel</td>\n",
       "      <td>audi</td>\n",
       "      <td>ja</td>\n",
       "    </tr>\n",
       "    <tr>\n",
       "      <th>3</th>\n",
       "      <td>1500</td>\n",
       "      <td>test</td>\n",
       "      <td>kleinwagen</td>\n",
       "      <td>2001</td>\n",
       "      <td>manuell</td>\n",
       "      <td>75</td>\n",
       "      <td>150000</td>\n",
       "      <td>benzin</td>\n",
       "      <td>volkswagen</td>\n",
       "      <td>nein</td>\n",
       "    </tr>\n",
       "    <tr>\n",
       "      <th>4</th>\n",
       "      <td>3600</td>\n",
       "      <td>test</td>\n",
       "      <td>kleinwagen</td>\n",
       "      <td>2008</td>\n",
       "      <td>manuell</td>\n",
       "      <td>69</td>\n",
       "      <td>90000</td>\n",
       "      <td>diesel</td>\n",
       "      <td>other</td>\n",
       "      <td>nein</td>\n",
       "    </tr>\n",
       "    <tr>\n",
       "      <th>5</th>\n",
       "      <td>650</td>\n",
       "      <td>test</td>\n",
       "      <td>limousine</td>\n",
       "      <td>1995</td>\n",
       "      <td>manuell</td>\n",
       "      <td>102</td>\n",
       "      <td>150000</td>\n",
       "      <td>benzin</td>\n",
       "      <td>bmw</td>\n",
       "      <td>ja</td>\n",
       "    </tr>\n",
       "    <tr>\n",
       "      <th>6</th>\n",
       "      <td>2200</td>\n",
       "      <td>test</td>\n",
       "      <td>cabrio</td>\n",
       "      <td>2004</td>\n",
       "      <td>manuell</td>\n",
       "      <td>109</td>\n",
       "      <td>150000</td>\n",
       "      <td>benzin</td>\n",
       "      <td>peugeot</td>\n",
       "      <td>nein</td>\n",
       "    </tr>\n",
       "  </tbody>\n",
       "</table>\n",
       "</div>"
      ],
      "text/plain": [
       "   price abtest vehicleType  yearOfRegistration  gearbox  powerPS  kilometer  \\\n",
       "1  18300   test       coupe                2011  manuell      190     125000   \n",
       "3   1500   test  kleinwagen                2001  manuell       75     150000   \n",
       "4   3600   test  kleinwagen                2008  manuell       69      90000   \n",
       "5    650   test   limousine                1995  manuell      102     150000   \n",
       "6   2200   test      cabrio                2004  manuell      109     150000   \n",
       "\n",
       "  fuelType       brand notRepairedDamage  \n",
       "1   diesel        audi                ja  \n",
       "3   benzin  volkswagen              nein  \n",
       "4   diesel       other              nein  \n",
       "5   benzin         bmw                ja  \n",
       "6   benzin     peugeot              nein  "
      ]
     },
     "execution_count": 18,
     "metadata": {},
     "output_type": "execute_result"
    }
   ],
   "source": [
    "df.head()"
   ]
  },
  {
   "cell_type": "code",
   "execution_count": 19,
   "metadata": {},
   "outputs": [],
   "source": [
    "df['gearbox'].replace({'automatik':1,\n",
    "                        'manuell':0},inplace=True)\n",
    "\n",
    "df['notRepairedDamage'].replace({'ja':'yes',\n",
    "                                'nein':'no'},inplace=True)"
   ]
  },
  {
   "cell_type": "markdown",
   "metadata": {},
   "source": [
    "### Creating dummy variables"
   ]
  },
  {
   "cell_type": "code",
   "execution_count": 20,
   "metadata": {},
   "outputs": [],
   "source": [
    "df = pd.get_dummies(data=df,columns=['abtest','vehicleType','fuelType','brand','notRepairedDamage'],drop_first=True)"
   ]
  },
  {
   "cell_type": "code",
   "execution_count": 21,
   "metadata": {},
   "outputs": [
    {
     "data": {
      "text/html": [
       "<div>\n",
       "<style scoped>\n",
       "    .dataframe tbody tr th:only-of-type {\n",
       "        vertical-align: middle;\n",
       "    }\n",
       "\n",
       "    .dataframe tbody tr th {\n",
       "        vertical-align: top;\n",
       "    }\n",
       "\n",
       "    .dataframe thead th {\n",
       "        text-align: right;\n",
       "    }\n",
       "</style>\n",
       "<table border=\"1\" class=\"dataframe\">\n",
       "  <thead>\n",
       "    <tr style=\"text-align: right;\">\n",
       "      <th></th>\n",
       "      <th>price</th>\n",
       "      <th>yearOfRegistration</th>\n",
       "      <th>gearbox</th>\n",
       "      <th>powerPS</th>\n",
       "      <th>kilometer</th>\n",
       "      <th>abtest_test</th>\n",
       "      <th>vehicleType_cabrio</th>\n",
       "      <th>vehicleType_coupe</th>\n",
       "      <th>vehicleType_kleinwagen</th>\n",
       "      <th>vehicleType_kombi</th>\n",
       "      <th>...</th>\n",
       "      <th>fuelType_other</th>\n",
       "      <th>brand_bmw</th>\n",
       "      <th>brand_ford</th>\n",
       "      <th>brand_mercedes_benz</th>\n",
       "      <th>brand_opel</th>\n",
       "      <th>brand_other</th>\n",
       "      <th>brand_peugeot</th>\n",
       "      <th>brand_renault</th>\n",
       "      <th>brand_volkswagen</th>\n",
       "      <th>notRepairedDamage_yes</th>\n",
       "    </tr>\n",
       "  </thead>\n",
       "  <tbody>\n",
       "    <tr>\n",
       "      <th>1</th>\n",
       "      <td>18300</td>\n",
       "      <td>2011</td>\n",
       "      <td>0</td>\n",
       "      <td>190</td>\n",
       "      <td>125000</td>\n",
       "      <td>1</td>\n",
       "      <td>0</td>\n",
       "      <td>1</td>\n",
       "      <td>0</td>\n",
       "      <td>0</td>\n",
       "      <td>...</td>\n",
       "      <td>0</td>\n",
       "      <td>0</td>\n",
       "      <td>0</td>\n",
       "      <td>0</td>\n",
       "      <td>0</td>\n",
       "      <td>0</td>\n",
       "      <td>0</td>\n",
       "      <td>0</td>\n",
       "      <td>0</td>\n",
       "      <td>1</td>\n",
       "    </tr>\n",
       "    <tr>\n",
       "      <th>3</th>\n",
       "      <td>1500</td>\n",
       "      <td>2001</td>\n",
       "      <td>0</td>\n",
       "      <td>75</td>\n",
       "      <td>150000</td>\n",
       "      <td>1</td>\n",
       "      <td>0</td>\n",
       "      <td>0</td>\n",
       "      <td>1</td>\n",
       "      <td>0</td>\n",
       "      <td>...</td>\n",
       "      <td>0</td>\n",
       "      <td>0</td>\n",
       "      <td>0</td>\n",
       "      <td>0</td>\n",
       "      <td>0</td>\n",
       "      <td>0</td>\n",
       "      <td>0</td>\n",
       "      <td>0</td>\n",
       "      <td>1</td>\n",
       "      <td>0</td>\n",
       "    </tr>\n",
       "    <tr>\n",
       "      <th>4</th>\n",
       "      <td>3600</td>\n",
       "      <td>2008</td>\n",
       "      <td>0</td>\n",
       "      <td>69</td>\n",
       "      <td>90000</td>\n",
       "      <td>1</td>\n",
       "      <td>0</td>\n",
       "      <td>0</td>\n",
       "      <td>1</td>\n",
       "      <td>0</td>\n",
       "      <td>...</td>\n",
       "      <td>0</td>\n",
       "      <td>0</td>\n",
       "      <td>0</td>\n",
       "      <td>0</td>\n",
       "      <td>0</td>\n",
       "      <td>1</td>\n",
       "      <td>0</td>\n",
       "      <td>0</td>\n",
       "      <td>0</td>\n",
       "      <td>0</td>\n",
       "    </tr>\n",
       "    <tr>\n",
       "      <th>5</th>\n",
       "      <td>650</td>\n",
       "      <td>1995</td>\n",
       "      <td>0</td>\n",
       "      <td>102</td>\n",
       "      <td>150000</td>\n",
       "      <td>1</td>\n",
       "      <td>0</td>\n",
       "      <td>0</td>\n",
       "      <td>0</td>\n",
       "      <td>0</td>\n",
       "      <td>...</td>\n",
       "      <td>0</td>\n",
       "      <td>1</td>\n",
       "      <td>0</td>\n",
       "      <td>0</td>\n",
       "      <td>0</td>\n",
       "      <td>0</td>\n",
       "      <td>0</td>\n",
       "      <td>0</td>\n",
       "      <td>0</td>\n",
       "      <td>1</td>\n",
       "    </tr>\n",
       "    <tr>\n",
       "      <th>6</th>\n",
       "      <td>2200</td>\n",
       "      <td>2004</td>\n",
       "      <td>0</td>\n",
       "      <td>109</td>\n",
       "      <td>150000</td>\n",
       "      <td>1</td>\n",
       "      <td>1</td>\n",
       "      <td>0</td>\n",
       "      <td>0</td>\n",
       "      <td>0</td>\n",
       "      <td>...</td>\n",
       "      <td>0</td>\n",
       "      <td>0</td>\n",
       "      <td>0</td>\n",
       "      <td>0</td>\n",
       "      <td>0</td>\n",
       "      <td>0</td>\n",
       "      <td>1</td>\n",
       "      <td>0</td>\n",
       "      <td>0</td>\n",
       "      <td>0</td>\n",
       "    </tr>\n",
       "    <tr>\n",
       "      <th>...</th>\n",
       "      <td>...</td>\n",
       "      <td>...</td>\n",
       "      <td>...</td>\n",
       "      <td>...</td>\n",
       "      <td>...</td>\n",
       "      <td>...</td>\n",
       "      <td>...</td>\n",
       "      <td>...</td>\n",
       "      <td>...</td>\n",
       "      <td>...</td>\n",
       "      <td>...</td>\n",
       "      <td>...</td>\n",
       "      <td>...</td>\n",
       "      <td>...</td>\n",
       "      <td>...</td>\n",
       "      <td>...</td>\n",
       "      <td>...</td>\n",
       "      <td>...</td>\n",
       "      <td>...</td>\n",
       "      <td>...</td>\n",
       "      <td>...</td>\n",
       "    </tr>\n",
       "    <tr>\n",
       "      <th>371520</th>\n",
       "      <td>3200</td>\n",
       "      <td>2004</td>\n",
       "      <td>0</td>\n",
       "      <td>225</td>\n",
       "      <td>150000</td>\n",
       "      <td>0</td>\n",
       "      <td>0</td>\n",
       "      <td>0</td>\n",
       "      <td>0</td>\n",
       "      <td>0</td>\n",
       "      <td>...</td>\n",
       "      <td>0</td>\n",
       "      <td>0</td>\n",
       "      <td>0</td>\n",
       "      <td>0</td>\n",
       "      <td>0</td>\n",
       "      <td>1</td>\n",
       "      <td>0</td>\n",
       "      <td>0</td>\n",
       "      <td>0</td>\n",
       "      <td>1</td>\n",
       "    </tr>\n",
       "    <tr>\n",
       "      <th>371521</th>\n",
       "      <td>1150</td>\n",
       "      <td>2000</td>\n",
       "      <td>0</td>\n",
       "      <td>0</td>\n",
       "      <td>150000</td>\n",
       "      <td>0</td>\n",
       "      <td>0</td>\n",
       "      <td>0</td>\n",
       "      <td>0</td>\n",
       "      <td>0</td>\n",
       "      <td>...</td>\n",
       "      <td>0</td>\n",
       "      <td>0</td>\n",
       "      <td>0</td>\n",
       "      <td>0</td>\n",
       "      <td>1</td>\n",
       "      <td>0</td>\n",
       "      <td>0</td>\n",
       "      <td>0</td>\n",
       "      <td>0</td>\n",
       "      <td>0</td>\n",
       "    </tr>\n",
       "    <tr>\n",
       "      <th>371524</th>\n",
       "      <td>1199</td>\n",
       "      <td>2000</td>\n",
       "      <td>1</td>\n",
       "      <td>101</td>\n",
       "      <td>125000</td>\n",
       "      <td>1</td>\n",
       "      <td>1</td>\n",
       "      <td>0</td>\n",
       "      <td>0</td>\n",
       "      <td>0</td>\n",
       "      <td>...</td>\n",
       "      <td>0</td>\n",
       "      <td>0</td>\n",
       "      <td>0</td>\n",
       "      <td>0</td>\n",
       "      <td>0</td>\n",
       "      <td>1</td>\n",
       "      <td>0</td>\n",
       "      <td>0</td>\n",
       "      <td>0</td>\n",
       "      <td>0</td>\n",
       "    </tr>\n",
       "    <tr>\n",
       "      <th>371525</th>\n",
       "      <td>9200</td>\n",
       "      <td>1996</td>\n",
       "      <td>0</td>\n",
       "      <td>102</td>\n",
       "      <td>150000</td>\n",
       "      <td>1</td>\n",
       "      <td>0</td>\n",
       "      <td>0</td>\n",
       "      <td>0</td>\n",
       "      <td>0</td>\n",
       "      <td>...</td>\n",
       "      <td>0</td>\n",
       "      <td>0</td>\n",
       "      <td>0</td>\n",
       "      <td>0</td>\n",
       "      <td>0</td>\n",
       "      <td>0</td>\n",
       "      <td>0</td>\n",
       "      <td>0</td>\n",
       "      <td>1</td>\n",
       "      <td>0</td>\n",
       "    </tr>\n",
       "    <tr>\n",
       "      <th>371527</th>\n",
       "      <td>28990</td>\n",
       "      <td>2013</td>\n",
       "      <td>0</td>\n",
       "      <td>320</td>\n",
       "      <td>50000</td>\n",
       "      <td>0</td>\n",
       "      <td>0</td>\n",
       "      <td>0</td>\n",
       "      <td>0</td>\n",
       "      <td>0</td>\n",
       "      <td>...</td>\n",
       "      <td>0</td>\n",
       "      <td>1</td>\n",
       "      <td>0</td>\n",
       "      <td>0</td>\n",
       "      <td>0</td>\n",
       "      <td>0</td>\n",
       "      <td>0</td>\n",
       "      <td>0</td>\n",
       "      <td>0</td>\n",
       "      <td>0</td>\n",
       "    </tr>\n",
       "  </tbody>\n",
       "</table>\n",
       "<p>268012 rows × 23 columns</p>\n",
       "</div>"
      ],
      "text/plain": [
       "        price  yearOfRegistration  gearbox  powerPS  kilometer  abtest_test  \\\n",
       "1       18300                2011        0      190     125000            1   \n",
       "3        1500                2001        0       75     150000            1   \n",
       "4        3600                2008        0       69      90000            1   \n",
       "5         650                1995        0      102     150000            1   \n",
       "6        2200                2004        0      109     150000            1   \n",
       "...       ...                 ...      ...      ...        ...          ...   \n",
       "371520   3200                2004        0      225     150000            0   \n",
       "371521   1150                2000        0        0     150000            0   \n",
       "371524   1199                2000        1      101     125000            1   \n",
       "371525   9200                1996        0      102     150000            1   \n",
       "371527  28990                2013        0      320      50000            0   \n",
       "\n",
       "        vehicleType_cabrio  vehicleType_coupe  vehicleType_kleinwagen  \\\n",
       "1                        0                  1                       0   \n",
       "3                        0                  0                       1   \n",
       "4                        0                  0                       1   \n",
       "5                        0                  0                       0   \n",
       "6                        1                  0                       0   \n",
       "...                    ...                ...                     ...   \n",
       "371520                   0                  0                       0   \n",
       "371521                   0                  0                       0   \n",
       "371524                   1                  0                       0   \n",
       "371525                   0                  0                       0   \n",
       "371527                   0                  0                       0   \n",
       "\n",
       "        vehicleType_kombi  ...  fuelType_other  brand_bmw  brand_ford  \\\n",
       "1                       0  ...               0          0           0   \n",
       "3                       0  ...               0          0           0   \n",
       "4                       0  ...               0          0           0   \n",
       "5                       0  ...               0          1           0   \n",
       "6                       0  ...               0          0           0   \n",
       "...                   ...  ...             ...        ...         ...   \n",
       "371520                  0  ...               0          0           0   \n",
       "371521                  0  ...               0          0           0   \n",
       "371524                  0  ...               0          0           0   \n",
       "371525                  0  ...               0          0           0   \n",
       "371527                  0  ...               0          1           0   \n",
       "\n",
       "        brand_mercedes_benz  brand_opel  brand_other  brand_peugeot  \\\n",
       "1                         0           0            0              0   \n",
       "3                         0           0            0              0   \n",
       "4                         0           0            1              0   \n",
       "5                         0           0            0              0   \n",
       "6                         0           0            0              1   \n",
       "...                     ...         ...          ...            ...   \n",
       "371520                    0           0            1              0   \n",
       "371521                    0           1            0              0   \n",
       "371524                    0           0            1              0   \n",
       "371525                    0           0            0              0   \n",
       "371527                    0           0            0              0   \n",
       "\n",
       "        brand_renault  brand_volkswagen  notRepairedDamage_yes  \n",
       "1                   0                 0                      1  \n",
       "3                   0                 1                      0  \n",
       "4                   0                 0                      0  \n",
       "5                   0                 0                      1  \n",
       "6                   0                 0                      0  \n",
       "...               ...               ...                    ...  \n",
       "371520              0                 0                      1  \n",
       "371521              0                 0                      0  \n",
       "371524              0                 0                      0  \n",
       "371525              0                 1                      0  \n",
       "371527              0                 0                      0  \n",
       "\n",
       "[268012 rows x 23 columns]"
      ]
     },
     "execution_count": 21,
     "metadata": {},
     "output_type": "execute_result"
    }
   ],
   "source": [
    "df"
   ]
  },
  {
   "cell_type": "markdown",
   "metadata": {},
   "source": [
    "## Logistic regression"
   ]
  },
  {
   "cell_type": "markdown",
   "metadata": {},
   "source": [
    "### Data partition"
   ]
  },
  {
   "cell_type": "code",
   "execution_count": 22,
   "metadata": {},
   "outputs": [
    {
     "name": "stdout",
     "output_type": "stream",
     "text": [
      "x_train: (201009, 22)\n",
      "x_test: (67003, 22)\n",
      "y_train: (201009,)\n",
      "y_test: (67003,)\n"
     ]
    }
   ],
   "source": [
    "x = df.drop('gearbox',axis=1)\n",
    "y = df['gearbox']\n",
    "x_train, x_test, y_train, y_test = train_test_split(x,y,train_size=0.75,random_state=123)\n",
    "\n",
    "print(f'x_train: {x_train.shape}')\n",
    "print(f'x_test: {x_test.shape}')\n",
    "print(f'y_train: {y_train.shape}')\n",
    "print(f'y_test: {y_test.shape}')"
   ]
  },
  {
   "cell_type": "markdown",
   "metadata": {},
   "source": [
    "### First logistic regression model"
   ]
  },
  {
   "cell_type": "code",
   "execution_count": 23,
   "metadata": {},
   "outputs": [
    {
     "name": "stdout",
     "output_type": "stream",
     "text": [
      "Optimization terminated successfully.\n",
      "         Current function value: 0.437781\n",
      "         Iterations 7\n",
      "                           Logit Regression Results                           \n",
      "==============================================================================\n",
      "Dep. Variable:                gearbox   No. Observations:               201009\n",
      "Model:                          Logit   Df Residuals:                   200987\n",
      "Method:                           MLE   Df Model:                           21\n",
      "Date:                Wed, 09 Aug 2023   Pseudo R-squ.:                  0.1940\n",
      "Time:                        18:39:48   Log-Likelihood:                -87998.\n",
      "converged:                       True   LL-Null:                   -1.0918e+05\n",
      "Covariance Type:            nonrobust   LLR p-value:                     0.000\n",
      "==========================================================================================\n",
      "                             coef    std err          z      P>|z|      [0.025      0.975]\n",
      "------------------------------------------------------------------------------------------\n",
      "price                   1.625e-08   1.74e-08      0.932      0.351   -1.79e-08    5.04e-08\n",
      "yearOfRegistration        -0.0011      2e-05    -56.424      0.000      -0.001      -0.001\n",
      "powerPS                    0.0100      0.000     90.188      0.000       0.010       0.010\n",
      "kilometer              -4.443e-06    1.5e-07    -29.558      0.000   -4.74e-06   -4.15e-06\n",
      "abtest_test                0.0156      0.012      1.308      0.191      -0.008       0.039\n",
      "vehicleType_cabrio         0.1685      0.032      5.270      0.000       0.106       0.231\n",
      "vehicleType_coupe          0.0576      0.033      1.751      0.080      -0.007       0.122\n",
      "vehicleType_kleinwagen     0.0622      0.029      2.164      0.030       0.006       0.119\n",
      "vehicleType_kombi          0.2660      0.025     10.767      0.000       0.218       0.314\n",
      "vehicleType_limousine      0.2223      0.024      9.118      0.000       0.175       0.270\n",
      "vehicleType_other          0.8164      0.030     26.790      0.000       0.757       0.876\n",
      "fuelType_diesel            0.5769      0.014     42.138      0.000       0.550       0.604\n",
      "fuelType_other             0.8673      0.039     22.204      0.000       0.791       0.944\n",
      "brand_bmw                  0.0009      0.022      0.041      0.967      -0.042       0.044\n",
      "brand_ford                -1.2278      0.037    -32.903      0.000      -1.301      -1.155\n",
      "brand_mercedes_benz        1.1121      0.023     49.223      0.000       1.068       1.156\n",
      "brand_opel                -0.7202      0.029    -24.455      0.000      -0.778      -0.662\n",
      "brand_other               -0.3800      0.022    -17.320      0.000      -0.423      -0.337\n",
      "brand_peugeot             -1.2473      0.055    -22.522      0.000      -1.356      -1.139\n",
      "brand_renault             -0.9223      0.045    -20.629      0.000      -1.010      -0.835\n",
      "brand_volkswagen          -0.5591      0.023    -24.622      0.000      -0.604      -0.515\n",
      "notRepairedDamage_yes      0.0300      0.021      1.450      0.147      -0.011       0.070\n",
      "==========================================================================================\n"
     ]
    }
   ],
   "source": [
    "mod = sm.Logit(y_train,x_train).fit()\n",
    "print(mod.summary())"
   ]
  },
  {
   "cell_type": "markdown",
   "metadata": {},
   "source": [
    "#### This function will convert the predicted values to either 0 or 1 based on the 0.5 threshold"
   ]
  },
  {
   "cell_type": "code",
   "execution_count": 24,
   "metadata": {},
   "outputs": [],
   "source": [
    "def predict_group(x):\n",
    "    if x >= 0.5:\n",
    "        return 1 \n",
    "    else:\n",
    "        return 0 "
   ]
  },
  {
   "cell_type": "markdown",
   "metadata": {},
   "source": [
    "### Classification report for the test set"
   ]
  },
  {
   "cell_type": "code",
   "execution_count": 25,
   "metadata": {},
   "outputs": [
    {
     "name": "stdout",
     "output_type": "stream",
     "text": [
      "              precision    recall  f1-score   support\n",
      "\n",
      "           0       0.83      0.96      0.89     51055\n",
      "           1       0.75      0.38      0.51     15948\n",
      "\n",
      "    accuracy                           0.82     67003\n",
      "   macro avg       0.79      0.67      0.70     67003\n",
      "weighted avg       0.81      0.82      0.80     67003\n",
      "\n"
     ]
    }
   ],
   "source": [
    "print(classification_report(y_pred=mod.predict(x_test).apply(predict_group),y_true=y_test))"
   ]
  },
  {
   "cell_type": "markdown",
   "metadata": {},
   "source": [
    "### ROC curve for the test set"
   ]
  },
  {
   "cell_type": "code",
   "execution_count": 26,
   "metadata": {},
   "outputs": [
    {
     "data": {
      "image/png": "[encoded data removed]",
      "text/plain": [
       "<Figure size 640x480 with 1 Axes>"
      ]
     },
     "metadata": {},
     "output_type": "display_data"
    }
   ],
   "source": [
    "fpr, tpr, _ = roc_curve(y_test,mod.predict(x_test).apply(predict_group))\n",
    "roc_auc = auc(fpr, tpr)\n",
    "\n",
    "# Plot the ROC curve\n",
    "plt.figure()\n",
    "lw = 2\n",
    "plt.plot(fpr, tpr, color='darkorange', lw=lw, label='ROC curve (area = %0.2f)' % roc_auc)\n",
    "plt.plot([0, 1], [0, 1], color='navy', lw=lw, linestyle='--')\n",
    "plt.scatter([0.04], [0.38],color='black')\n",
    "plt.xlim([0.0, 1.0])\n",
    "plt.ylim([0.0, 1.05])\n",
    "plt.xlabel('1-Specificity')\n",
    "plt.ylabel('Sensitivity')\n",
    "plt.title('Receiver Operating Characteristic example')\n",
    "plt.legend(loc=\"lower right\")\n",
    "plt.show()"
   ]
  },
  {
   "cell_type": "markdown",
   "metadata": {},
   "source": [
    "### Upsampling the train set to make the 0's and 1's evenly frequent"
   ]
  },
  {
   "cell_type": "code",
   "execution_count": 27,
   "metadata": {},
   "outputs": [
    {
     "name": "stdout",
     "output_type": "stream",
     "text": [
      "x_train_upsampled: (308244, 22)\n",
      "y_train_upsampled: (308244,)\n"
     ]
    }
   ],
   "source": [
    "rand_sampler = RandomOverSampler(random_state=455)\n",
    "\n",
    "x_train_upsampled, y_train_upsampled = rand_sampler.fit_resample(x_train,y_train)\n",
    "print(f'x_train_upsampled: {x_train_upsampled.shape}')\n",
    "print(f'y_train_upsampled: {y_train_upsampled.shape}')"
   ]
  },
  {
   "cell_type": "code",
   "execution_count": 28,
   "metadata": {},
   "outputs": [
    {
     "data": {
      "text/plain": [
       "0    154122\n",
       "1    154122\n",
       "Name: gearbox, dtype: int64"
      ]
     },
     "execution_count": 28,
     "metadata": {},
     "output_type": "execute_result"
    }
   ],
   "source": [
    "y_train_upsampled.value_counts()"
   ]
  },
  {
   "cell_type": "markdown",
   "metadata": {},
   "source": [
    "### Second model - logistic regression with upsampled train set"
   ]
  },
  {
   "cell_type": "code",
   "execution_count": 29,
   "metadata": {},
   "outputs": [
    {
     "name": "stdout",
     "output_type": "stream",
     "text": [
      "Optimization terminated successfully.\n",
      "         Current function value: 0.549728\n",
      "         Iterations 7\n",
      "                           Logit Regression Results                           \n",
      "==============================================================================\n",
      "Dep. Variable:                gearbox   No. Observations:               308244\n",
      "Model:                          Logit   Df Residuals:                   308222\n",
      "Method:                           MLE   Df Model:                           21\n",
      "Date:                Wed, 09 Aug 2023   Pseudo R-squ.:                  0.2069\n",
      "Time:                        18:39:52   Log-Likelihood:            -1.6945e+05\n",
      "converged:                       True   LL-Null:                   -2.1366e+05\n",
      "Covariance Type:            nonrobust   LLR p-value:                     0.000\n",
      "==========================================================================================\n",
      "                             coef    std err          z      P>|z|      [0.025      0.975]\n",
      "------------------------------------------------------------------------------------------\n",
      "price                   1.352e-08   1.29e-08      1.045      0.296   -1.18e-08    3.89e-08\n",
      "yearOfRegistration        -0.0006   1.41e-05    -39.083      0.000      -0.001      -0.001\n",
      "powerPS                    0.0106   8.13e-05    130.632      0.000       0.010       0.011\n",
      "kilometer              -4.875e-06   1.07e-07    -45.612      0.000   -5.08e-06   -4.67e-06\n",
      "abtest_test                0.0154      0.008      1.837      0.066      -0.001       0.032\n",
      "vehicleType_cabrio         0.1436      0.022      6.564      0.000       0.101       0.186\n",
      "vehicleType_coupe          0.0365      0.023      1.591      0.112      -0.008       0.081\n",
      "vehicleType_kleinwagen     0.0533      0.019      2.862      0.004       0.017       0.090\n",
      "vehicleType_kombi          0.2141      0.017     12.825      0.000       0.181       0.247\n",
      "vehicleType_limousine      0.1628      0.016      9.898      0.000       0.131       0.195\n",
      "vehicleType_other          0.6697      0.022     30.531      0.000       0.627       0.713\n",
      "fuelType_diesel            0.5278      0.010     54.187      0.000       0.509       0.547\n",
      "fuelType_other             0.8307      0.029     28.638      0.000       0.774       0.887\n",
      "brand_bmw                 -0.0147      0.016     -0.898      0.369      -0.047       0.017\n",
      "brand_ford                -1.1807      0.024    -49.009      0.000      -1.228      -1.133\n",
      "brand_mercedes_benz        1.1339      0.018     64.062      0.000       1.099       1.169\n",
      "brand_opel                -0.6457      0.020    -32.700      0.000      -0.684      -0.607\n",
      "brand_other               -0.2822      0.016    -17.758      0.000      -0.313      -0.251\n",
      "brand_peugeot             -1.1662      0.034    -34.648      0.000      -1.232      -1.100\n",
      "brand_renault             -0.8749      0.028    -30.729      0.000      -0.931      -0.819\n",
      "brand_volkswagen          -0.5325      0.016    -33.186      0.000      -0.564      -0.501\n",
      "notRepairedDamage_yes      0.0474      0.014      3.363      0.001       0.020       0.075\n",
      "==========================================================================================\n"
     ]
    }
   ],
   "source": [
    "model2 = sm.Logit(y_train_upsampled,x_train_upsampled).fit()\n",
    "print(model2.summary())"
   ]
  },
  {
   "cell_type": "markdown",
   "metadata": {},
   "source": [
    "### Classification report for the test set (based on model fit on the upsampled train set)"
   ]
  },
  {
   "cell_type": "code",
   "execution_count": 30,
   "metadata": {},
   "outputs": [
    {
     "name": "stdout",
     "output_type": "stream",
     "text": [
      "              precision    recall  f1-score   support\n",
      "\n",
      "           0       0.89      0.76      0.82     51055\n",
      "           1       0.48      0.71      0.57     15948\n",
      "\n",
      "    accuracy                           0.75     67003\n",
      "   macro avg       0.69      0.74      0.70     67003\n",
      "weighted avg       0.80      0.75      0.76     67003\n",
      "\n"
     ]
    }
   ],
   "source": [
    "print(classification_report(y_pred=model2.predict(x_test).apply(predict_group),y_true=y_test))"
   ]
  },
  {
   "cell_type": "markdown",
   "metadata": {},
   "source": [
    "## Random Forest"
   ]
  },
  {
   "cell_type": "code",
   "execution_count": 31,
   "metadata": {},
   "outputs": [
    {
     "data": {
      "text/html": [
       "<style>#sk-container-id-1 {color: black;background-color: white;}#sk-container-id-1 pre{padding: 0;}#sk-container-id-1 div.sk-toggleable {background-color: white;}#sk-container-id-1 label.sk-toggleable__label {cursor: pointer;display: block;width: 100%;margin-bottom: 0;padding: 0.3em;box-sizing: border-box;text-align: center;}#sk-container-id-1 label.sk-toggleable__label-arrow:before {content: \"▸\";float: left;margin-right: 0.25em;color: #696969;}#sk-container-id-1 label.sk-toggleable__label-arrow:hover:before {color: black;}#sk-container-id-1 div.sk-estimator:hover label.sk-toggleable__label-arrow:before {color: black;}#sk-container-id-1 div.sk-toggleable__content {max-height: 0;max-width: 0;overflow: hidden;text-align: left;background-color: #f0f8ff;}#sk-container-id-1 div.sk-toggleable__content pre {margin: 0.2em;color: black;border-radius: 0.25em;background-color: #f0f8ff;}#sk-container-id-1 input.sk-toggleable__control:checked~div.sk-toggleable__content {max-height: 200px;max-width: 100%;overflow: auto;}#sk-container-id-1 input.sk-toggleable__control:checked~label.sk-toggleable__label-arrow:before {content: \"▾\";}#sk-container-id-1 div.sk-estimator input.sk-toggleable__control:checked~label.sk-toggleable__label {background-color: #d4ebff;}#sk-container-id-1 div.sk-label input.sk-toggleable__control:checked~label.sk-toggleable__label {background-color: #d4ebff;}#sk-container-id-1 input.sk-hidden--visually {border: 0;clip: rect(1px 1px 1px 1px);clip: rect(1px, 1px, 1px, 1px);height: 1px;margin: -1px;overflow: hidden;padding: 0;position: absolute;width: 1px;}#sk-container-id-1 div.sk-estimator {font-family: monospace;background-color: #f0f8ff;border: 1px dotted black;border-radius: 0.25em;box-sizing: border-box;margin-bottom: 0.5em;}#sk-container-id-1 div.sk-estimator:hover {background-color: #d4ebff;}#sk-container-id-1 div.sk-parallel-item::after {content: \"\";width: 100%;border-bottom: 1px solid gray;flex-grow: 1;}#sk-container-id-1 div.sk-label:hover label.sk-toggleable__label {background-color: #d4ebff;}#sk-container-id-1 div.sk-serial::before {content: \"\";position: absolute;border-left: 1px solid gray;box-sizing: border-box;top: 0;bottom: 0;left: 50%;z-index: 0;}#sk-container-id-1 div.sk-serial {display: flex;flex-direction: column;align-items: center;background-color: white;padding-right: 0.2em;padding-left: 0.2em;position: relative;}#sk-container-id-1 div.sk-item {position: relative;z-index: 1;}#sk-container-id-1 div.sk-parallel {display: flex;align-items: stretch;justify-content: center;background-color: white;position: relative;}#sk-container-id-1 div.sk-item::before, #sk-container-id-1 div.sk-parallel-item::before {content: \"\";position: absolute;border-left: 1px solid gray;box-sizing: border-box;top: 0;bottom: 0;left: 50%;z-index: -1;}#sk-container-id-1 div.sk-parallel-item {display: flex;flex-direction: column;z-index: 1;position: relative;background-color: white;}#sk-container-id-1 div.sk-parallel-item:first-child::after {align-self: flex-end;width: 50%;}#sk-container-id-1 div.sk-parallel-item:last-child::after {align-self: flex-start;width: 50%;}#sk-container-id-1 div.sk-parallel-item:only-child::after {width: 0;}#sk-container-id-1 div.sk-dashed-wrapped {border: 1px dashed gray;margin: 0 0.4em 0.5em 0.4em;box-sizing: border-box;padding-bottom: 0.4em;background-color: white;}#sk-container-id-1 div.sk-label label {font-family: monospace;font-weight: bold;display: inline-block;line-height: 1.2em;}#sk-container-id-1 div.sk-label-container {text-align: center;}#sk-container-id-1 div.sk-container {/* jupyter's `normalize.less` sets `[hidden] { display: none; }` but bootstrap.min.css set `[hidden] { display: none !important; }` so we also need the `!important` here to be able to override the default hidden behavior on the sphinx rendered scikit-learn.org. See: https://github.com/scikit-learn/scikit-learn/issues/21755 */display: inline-block !important;position: relative;}#sk-container-id-1 div.sk-text-repr-fallback {display: none;}</style><div id=\"sk-container-id-1\" class=\"sk-top-container\"><div class=\"sk-text-repr-fallback\"><pre>RandomForestClassifier(max_depth=8, max_features=5, n_estimators=200,\n",
       "                       random_state=424)</pre><b>In a Jupyter environment, please rerun this cell to show the HTML representation or trust the notebook. <br />On GitHub, the HTML representation is unable to render, please try loading this page with nbviewer.org.</b></div><div class=\"sk-container\" hidden><div class=\"sk-item\"><div class=\"sk-estimator sk-toggleable\"><input class=\"sk-toggleable__control sk-hidden--visually\" id=\"sk-estimator-id-1\" type=\"checkbox\" checked><label for=\"sk-estimator-id-1\" class=\"sk-toggleable__label sk-toggleable__label-arrow\">RandomForestClassifier</label><div class=\"sk-toggleable__content\"><pre>RandomForestClassifier(max_depth=8, max_features=5, n_estimators=200,\n",
       "                       random_state=424)</pre></div></div></div></div></div>"
      ],
      "text/plain": [
       "RandomForestClassifier(max_depth=8, max_features=5, n_estimators=200,\n",
       "                       random_state=424)"
      ]
     },
     "execution_count": 31,
     "metadata": {},
     "output_type": "execute_result"
    }
   ],
   "source": [
    "rf = RandomForestClassifier(max_features=5,n_estimators=200,random_state=424,max_depth=8)\n",
    "rf.fit(x_train,y_train)"
   ]
  },
  {
   "cell_type": "code",
   "execution_count": 32,
   "metadata": {},
   "outputs": [],
   "source": [
    "y_test_rf_pred = rf.predict(x_test)"
   ]
  },
  {
   "cell_type": "markdown",
   "metadata": {},
   "source": [
    "### Classification report for the test set"
   ]
  },
  {
   "cell_type": "code",
   "execution_count": 33,
   "metadata": {},
   "outputs": [
    {
     "name": "stdout",
     "output_type": "stream",
     "text": [
      "              precision    recall  f1-score   support\n",
      "\n",
      "           0       0.84      0.96      0.90     51055\n",
      "           1       0.78      0.43      0.56     15948\n",
      "\n",
      "    accuracy                           0.84     67003\n",
      "   macro avg       0.81      0.70      0.73     67003\n",
      "weighted avg       0.83      0.84      0.82     67003\n",
      "\n"
     ]
    }
   ],
   "source": [
    "print(classification_report(y_test,y_test_rf_pred))"
   ]
  },
  {
   "cell_type": "code",
   "execution_count": 34,
   "metadata": {},
   "outputs": [
    {
     "data": {
      "text/html": [
       "<style>#sk-container-id-2 {color: black;background-color: white;}#sk-container-id-2 pre{padding: 0;}#sk-container-id-2 div.sk-toggleable {background-color: white;}#sk-container-id-2 label.sk-toggleable__label {cursor: pointer;display: block;width: 100%;margin-bottom: 0;padding: 0.3em;box-sizing: border-box;text-align: center;}#sk-container-id-2 label.sk-toggleable__label-arrow:before {content: \"▸\";float: left;margin-right: 0.25em;color: #696969;}#sk-container-id-2 label.sk-toggleable__label-arrow:hover:before {color: black;}#sk-container-id-2 div.sk-estimator:hover label.sk-toggleable__label-arrow:before {color: black;}#sk-container-id-2 div.sk-toggleable__content {max-height: 0;max-width: 0;overflow: hidden;text-align: left;background-color: #f0f8ff;}#sk-container-id-2 div.sk-toggleable__content pre {margin: 0.2em;color: black;border-radius: 0.25em;background-color: #f0f8ff;}#sk-container-id-2 input.sk-toggleable__control:checked~div.sk-toggleable__content {max-height: 200px;max-width: 100%;overflow: auto;}#sk-container-id-2 input.sk-toggleable__control:checked~label.sk-toggleable__label-arrow:before {content: \"▾\";}#sk-container-id-2 div.sk-estimator input.sk-toggleable__control:checked~label.sk-toggleable__label {background-color: #d4ebff;}#sk-container-id-2 div.sk-label input.sk-toggleable__control:checked~label.sk-toggleable__label {background-color: #d4ebff;}#sk-container-id-2 input.sk-hidden--visually {border: 0;clip: rect(1px 1px 1px 1px);clip: rect(1px, 1px, 1px, 1px);height: 1px;margin: -1px;overflow: hidden;padding: 0;position: absolute;width: 1px;}#sk-container-id-2 div.sk-estimator {font-family: monospace;background-color: #f0f8ff;border: 1px dotted black;border-radius: 0.25em;box-sizing: border-box;margin-bottom: 0.5em;}#sk-container-id-2 div.sk-estimator:hover {background-color: #d4ebff;}#sk-container-id-2 div.sk-parallel-item::after {content: \"\";width: 100%;border-bottom: 1px solid gray;flex-grow: 1;}#sk-container-id-2 div.sk-label:hover label.sk-toggleable__label {background-color: #d4ebff;}#sk-container-id-2 div.sk-serial::before {content: \"\";position: absolute;border-left: 1px solid gray;box-sizing: border-box;top: 0;bottom: 0;left: 50%;z-index: 0;}#sk-container-id-2 div.sk-serial {display: flex;flex-direction: column;align-items: center;background-color: white;padding-right: 0.2em;padding-left: 0.2em;position: relative;}#sk-container-id-2 div.sk-item {position: relative;z-index: 1;}#sk-container-id-2 div.sk-parallel {display: flex;align-items: stretch;justify-content: center;background-color: white;position: relative;}#sk-container-id-2 div.sk-item::before, #sk-container-id-2 div.sk-parallel-item::before {content: \"\";position: absolute;border-left: 1px solid gray;box-sizing: border-box;top: 0;bottom: 0;left: 50%;z-index: -1;}#sk-container-id-2 div.sk-parallel-item {display: flex;flex-direction: column;z-index: 1;position: relative;background-color: white;}#sk-container-id-2 div.sk-parallel-item:first-child::after {align-self: flex-end;width: 50%;}#sk-container-id-2 div.sk-parallel-item:last-child::after {align-self: flex-start;width: 50%;}#sk-container-id-2 div.sk-parallel-item:only-child::after {width: 0;}#sk-container-id-2 div.sk-dashed-wrapped {border: 1px dashed gray;margin: 0 0.4em 0.5em 0.4em;box-sizing: border-box;padding-bottom: 0.4em;background-color: white;}#sk-container-id-2 div.sk-label label {font-family: monospace;font-weight: bold;display: inline-block;line-height: 1.2em;}#sk-container-id-2 div.sk-label-container {text-align: center;}#sk-container-id-2 div.sk-container {/* jupyter's `normalize.less` sets `[hidden] { display: none; }` but bootstrap.min.css set `[hidden] { display: none !important; }` so we also need the `!important` here to be able to override the default hidden behavior on the sphinx rendered scikit-learn.org. See: https://github.com/scikit-learn/scikit-learn/issues/21755 */display: inline-block !important;position: relative;}#sk-container-id-2 div.sk-text-repr-fallback {display: none;}</style><div id=\"sk-container-id-2\" class=\"sk-top-container\"><div class=\"sk-text-repr-fallback\"><pre>RandomForestClassifier(max_depth=8, max_features=5, n_estimators=200,\n",
       "                       random_state=234)</pre><b>In a Jupyter environment, please rerun this cell to show the HTML representation or trust the notebook. <br />On GitHub, the HTML representation is unable to render, please try loading this page with nbviewer.org.</b></div><div class=\"sk-container\" hidden><div class=\"sk-item\"><div class=\"sk-estimator sk-toggleable\"><input class=\"sk-toggleable__control sk-hidden--visually\" id=\"sk-estimator-id-2\" type=\"checkbox\" checked><label for=\"sk-estimator-id-2\" class=\"sk-toggleable__label sk-toggleable__label-arrow\">RandomForestClassifier</label><div class=\"sk-toggleable__content\"><pre>RandomForestClassifier(max_depth=8, max_features=5, n_estimators=200,\n",
       "                       random_state=234)</pre></div></div></div></div></div>"
      ],
      "text/plain": [
       "RandomForestClassifier(max_depth=8, max_features=5, n_estimators=200,\n",
       "                       random_state=234)"
      ]
     },
     "execution_count": 34,
     "metadata": {},
     "output_type": "execute_result"
    }
   ],
   "source": [
    "rf2 = RandomForestClassifier(max_features=5,n_estimators=200,random_state=234,max_depth=8)\n",
    "rf2.fit(x_train_upsampled,y_train_upsampled)"
   ]
  },
  {
   "cell_type": "code",
   "execution_count": 35,
   "metadata": {},
   "outputs": [],
   "source": [
    "y_test_rf_pred2 = rf2.predict(x_test)"
   ]
  },
  {
   "cell_type": "markdown",
   "metadata": {},
   "source": [
    "### Classification report for the test set (model fitted on upsampled train set)"
   ]
  },
  {
   "cell_type": "code",
   "execution_count": 36,
   "metadata": {},
   "outputs": [
    {
     "name": "stdout",
     "output_type": "stream",
     "text": [
      "              precision    recall  f1-score   support\n",
      "\n",
      "           0       0.90      0.81      0.85     51055\n",
      "           1       0.54      0.72      0.62     15948\n",
      "\n",
      "    accuracy                           0.79     67003\n",
      "   macro avg       0.72      0.76      0.73     67003\n",
      "weighted avg       0.82      0.79      0.80     67003\n",
      "\n"
     ]
    }
   ],
   "source": [
    "print(classification_report(y_test,y_test_rf_pred2))"
   ]
  },
  {
   "cell_type": "markdown",
   "metadata": {},
   "source": [
    "### Feature importance for the test set (model fitted on upsampled train set)"
   ]
  },
  {
   "cell_type": "code",
   "execution_count": 37,
   "metadata": {},
   "outputs": [],
   "source": [
    "importances = rf2.feature_importances_"
   ]
  },
  {
   "cell_type": "code",
   "execution_count": 38,
   "metadata": {},
   "outputs": [],
   "source": [
    "cols_list = x_train.columns.to_list()"
   ]
  },
  {
   "cell_type": "code",
   "execution_count": 39,
   "metadata": {},
   "outputs": [],
   "source": [
    "importances_list = list(importances)"
   ]
  },
  {
   "cell_type": "code",
   "execution_count": 40,
   "metadata": {},
   "outputs": [
    {
     "data": {
      "image/png": "[encoded data removed]",
      "text/plain": [
       "<Figure size 1000x600 with 1 Axes>"
      ]
     },
     "metadata": {},
     "output_type": "display_data"
    }
   ],
   "source": [
    "plt.figure(figsize=(10,6))\n",
    "sns.barplot(y=cols_list,x=importances_list)\n",
    "plt.title('Importance Plot')\n",
    "plt.ylabel('Variable')\n",
    "plt.xlabel('Weighted average decrease in Gini impurity')\n",
    "plt.show()"
   ]
  },
  {
   "cell_type": "code",
   "execution_count": 41,
   "metadata": {},
   "outputs": [],
   "source": [
    "model_metrics_test_set = pd.DataFrame({'model_type':['logistic regression',\n",
    "                                                    'logistic regression with upsampling',\n",
    "                                                    'random forest',\n",
    "                                                    'random forest with upsampling'],\n",
    "                                        'train_or_test':['test','test','test','test'],\n",
    "                                        'accuracy_score':[0.82,0.75,0.83,0.79],\n",
    "                                        'recall: 0':[0.96,0.76,0.96,0.81],\n",
    "                                        'recall: 1':[0.38,0.71,0.43,0.72],\n",
    "                                        'precision 0':[0.83,0.89,0.84,0.90],\n",
    "                                        'precision 1':[0.75,0.48,0.78,0.54]})"
   ]
  },
  {
   "cell_type": "code",
   "execution_count": 42,
   "metadata": {},
   "outputs": [
    {
     "data": {
      "text/html": [
       "<div>\n",
       "<style scoped>\n",
       "    .dataframe tbody tr th:only-of-type {\n",
       "        vertical-align: middle;\n",
       "    }\n",
       "\n",
       "    .dataframe tbody tr th {\n",
       "        vertical-align: top;\n",
       "    }\n",
       "\n",
       "    .dataframe thead th {\n",
       "        text-align: right;\n",
       "    }\n",
       "</style>\n",
       "<table border=\"1\" class=\"dataframe\">\n",
       "  <thead>\n",
       "    <tr style=\"text-align: right;\">\n",
       "      <th></th>\n",
       "      <th>model_type</th>\n",
       "      <th>train_or_test</th>\n",
       "      <th>accuracy_score</th>\n",
       "      <th>recall: 0</th>\n",
       "      <th>recall: 1</th>\n",
       "      <th>precision 0</th>\n",
       "      <th>precision 1</th>\n",
       "    </tr>\n",
       "  </thead>\n",
       "  <tbody>\n",
       "    <tr>\n",
       "      <th>0</th>\n",
       "      <td>logistic regression</td>\n",
       "      <td>test</td>\n",
       "      <td>0.82</td>\n",
       "      <td>0.96</td>\n",
       "      <td>0.38</td>\n",
       "      <td>0.83</td>\n",
       "      <td>0.75</td>\n",
       "    </tr>\n",
       "    <tr>\n",
       "      <th>1</th>\n",
       "      <td>logistic regression with upsampling</td>\n",
       "      <td>test</td>\n",
       "      <td>0.75</td>\n",
       "      <td>0.76</td>\n",
       "      <td>0.71</td>\n",
       "      <td>0.89</td>\n",
       "      <td>0.48</td>\n",
       "    </tr>\n",
       "    <tr>\n",
       "      <th>2</th>\n",
       "      <td>random forest</td>\n",
       "      <td>test</td>\n",
       "      <td>0.83</td>\n",
       "      <td>0.96</td>\n",
       "      <td>0.43</td>\n",
       "      <td>0.84</td>\n",
       "      <td>0.78</td>\n",
       "    </tr>\n",
       "    <tr>\n",
       "      <th>3</th>\n",
       "      <td>random forest with upsampling</td>\n",
       "      <td>test</td>\n",
       "      <td>0.79</td>\n",
       "      <td>0.81</td>\n",
       "      <td>0.72</td>\n",
       "      <td>0.90</td>\n",
       "      <td>0.54</td>\n",
       "    </tr>\n",
       "  </tbody>\n",
       "</table>\n",
       "</div>"
      ],
      "text/plain": [
       "                            model_type train_or_test  accuracy_score  \\\n",
       "0                  logistic regression          test            0.82   \n",
       "1  logistic regression with upsampling          test            0.75   \n",
       "2                        random forest          test            0.83   \n",
       "3        random forest with upsampling          test            0.79   \n",
       "\n",
       "   recall: 0  recall: 1  precision 0  precision 1  \n",
       "0       0.96       0.38         0.83         0.75  \n",
       "1       0.76       0.71         0.89         0.48  \n",
       "2       0.96       0.43         0.84         0.78  \n",
       "3       0.81       0.72         0.90         0.54  "
      ]
     },
     "execution_count": 42,
     "metadata": {},
     "output_type": "execute_result"
    }
   ],
   "source": [
    "model_metrics_test_set"
   ]
  },
  {
   "cell_type": "markdown",
   "metadata": {},
   "source": [
    "#### Random forest model (fitted on the upsampled train set) is probably the most suitable model, because its sensitivity and specificity is balanced. In reality it's better to have a little lower accuracy score but maintain balanced specificity and sensitivity"
   ]
  }
 ],
 "metadata": {
  "kernelspec": {
   "display_name": "Python 3",
   "language": "python",
   "name": "python3"
  },
  "language_info": {
   "codemirror_mode": {
    "name": "ipython",
    "version": 3
   },
   "file_extension": ".py",
   "mimetype": "text/x-python",
   "name": "python",
   "nbconvert_exporter": "python",
   "pygments_lexer": "ipython3",
   "version": "3.11.0"
  },
  "orig_nbformat": 4
 },
 "nbformat": 4,
 "nbformat_minor": 2
}
