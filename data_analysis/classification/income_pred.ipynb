{
 "cells": [
  {
   "cell_type": "markdown",
   "metadata": {},
   "source": [
    "## **Classifying income group: either <=50K or >50K**"
   ]
  },
  {
   "cell_type": "markdown",
   "metadata": {},
   "source": [
    "**Table of contents**    \n",
    "- Libraries    \n",
    "- Reading and cleaning the data    \n",
    "  - Merging the data    \n",
    "  - Inspecting object class columns' frequency tables    \n",
    "  - Cleaning object columns to avoid having near-zero-variance variables in the model    \n",
    "  - Frequency tables of cleaned object variables    \n",
    "  - NaN values    \n",
    "  - Removing redundant variables    \n",
    "- Modeling    \n",
    "  - Logistic regression model    \n",
    "  - Prediction    \n",
    "  - Confusion matrix    \n",
    "  - Classification report    \n",
    "  - No-Information rate (the share of the most frequent class in the dependent variable)    \n",
    "  - Random Forest model    \n",
    "  - Classification report    \n",
    "  - Importance plot    \n",
    "- Conclusion    "
   ]
  },
  {
   "cell_type": "markdown",
   "metadata": {},
   "source": [
    "## Libraries"
   ]
  },
  {
   "cell_type": "code",
   "execution_count": 208,
   "metadata": {},
   "outputs": [],
   "source": [
    "import pandas as pd\n",
    "import numpy as np\n",
    "import seaborn as sns\n",
    "import matplotlib.pyplot as plt\n",
    "import statsmodels.api as sm\n",
    "from sklearn.metrics import classification_report,roc_curve, auc\n",
    "from sklearn.model_selection import train_test_split\n",
    "from sklearn.ensemble import RandomForestClassifier\n",
    "from sklearn.metrics import confusion_matrix, classification_report\n",
    "from ucimlrepo import fetch_ucirepo  \n",
    "from imblearn.over_sampling import RandomOverSampler"
   ]
  },
  {
   "cell_type": "markdown",
   "metadata": {},
   "source": [
    "## Reading and cleaning the data"
   ]
  },
  {
   "cell_type": "code",
   "execution_count": 171,
   "metadata": {},
   "outputs": [],
   "source": [
    "# fetch dataset \n",
    "adult = fetch_ucirepo(id=2) \n",
    "  \n",
    "# data (as pandas dataframes) \n",
    "X = adult.data.features \n",
    "y = adult.data.targets "
   ]
  },
  {
   "cell_type": "markdown",
   "metadata": {},
   "source": [
    "### Merging the data"
   ]
  },
  {
   "cell_type": "code",
   "execution_count": 172,
   "metadata": {},
   "outputs": [],
   "source": [
    "df = pd.merge(X,y, left_index=True, right_index=True)"
   ]
  },
  {
   "cell_type": "markdown",
   "metadata": {},
   "source": [
    "### Inspecting object class columns' frequency tables"
   ]
  },
  {
   "cell_type": "code",
   "execution_count": 173,
   "metadata": {},
   "outputs": [
    {
     "data": {
      "text/plain": [
       "['workclass',\n",
       " 'education',\n",
       " 'marital-status',\n",
       " 'occupation',\n",
       " 'relationship',\n",
       " 'race',\n",
       " 'sex',\n",
       " 'native-country',\n",
       " 'income']"
      ]
     },
     "execution_count": 173,
     "metadata": {},
     "output_type": "execute_result"
    }
   ],
   "source": [
    "df.select_dtypes('object').columns.to_list()"
   ]
  },
  {
   "cell_type": "code",
   "execution_count": 174,
   "metadata": {},
   "outputs": [
    {
     "name": "stdout",
     "output_type": "stream",
     "text": [
      "column: workclass\n",
      "\n",
      "Private             33906\n",
      "Self-emp-not-inc     3862\n",
      "Local-gov            3136\n",
      "State-gov            1981\n",
      "?                    1836\n",
      "Self-emp-inc         1695\n",
      "Federal-gov          1432\n",
      "Without-pay            21\n",
      "Never-worked           10\n",
      "Name: workclass, dtype: int64\n",
      "column: education\n",
      "\n",
      "HS-grad         15784\n",
      "Some-college    10878\n",
      "Bachelors        8025\n",
      "Masters          2657\n",
      "Assoc-voc        2061\n",
      "11th             1812\n",
      "Assoc-acdm       1601\n",
      "10th             1389\n",
      "7th-8th           955\n",
      "Prof-school       834\n",
      "9th               756\n",
      "12th              657\n",
      "Doctorate         594\n",
      "5th-6th           509\n",
      "1st-4th           247\n",
      "Preschool          83\n",
      "Name: education, dtype: int64\n",
      "column: marital-status\n",
      "\n",
      "Married-civ-spouse       22379\n",
      "Never-married            16117\n",
      "Divorced                  6633\n",
      "Separated                 1530\n",
      "Widowed                   1518\n",
      "Married-spouse-absent      628\n",
      "Married-AF-spouse           37\n",
      "Name: marital-status, dtype: int64\n",
      "column: occupation\n",
      "\n",
      "Prof-specialty       6172\n",
      "Craft-repair         6112\n",
      "Exec-managerial      6086\n",
      "Adm-clerical         5611\n",
      "Sales                5504\n",
      "Other-service        4923\n",
      "Machine-op-inspct    3022\n",
      "Transport-moving     2355\n",
      "Handlers-cleaners    2072\n",
      "?                    1843\n",
      "Farming-fishing      1490\n",
      "Tech-support         1446\n",
      "Protective-serv       983\n",
      "Priv-house-serv       242\n",
      "Armed-Forces           15\n",
      "Name: occupation, dtype: int64\n",
      "column: relationship\n",
      "\n",
      "Husband           19716\n",
      "Not-in-family     12583\n",
      "Own-child          7581\n",
      "Unmarried          5125\n",
      "Wife               2331\n",
      "Other-relative     1506\n",
      "Name: relationship, dtype: int64\n",
      "column: race\n",
      "\n",
      "White                 41762\n",
      "Black                  4685\n",
      "Asian-Pac-Islander     1519\n",
      "Amer-Indian-Eskimo      470\n",
      "Other                   406\n",
      "Name: race, dtype: int64\n",
      "column: sex\n",
      "\n",
      "Male      32650\n",
      "Female    16192\n",
      "Name: sex, dtype: int64\n",
      "column: native-country\n",
      "\n",
      "United-States                 43832\n",
      "Mexico                          951\n",
      "?                               583\n",
      "Philippines                     295\n",
      "Germany                         206\n",
      "Puerto-Rico                     184\n",
      "Canada                          182\n",
      "El-Salvador                     155\n",
      "India                           151\n",
      "Cuba                            138\n",
      "England                         127\n",
      "China                           122\n",
      "South                           115\n",
      "Jamaica                         106\n",
      "Italy                           105\n",
      "Dominican-Republic              103\n",
      "Japan                            92\n",
      "Guatemala                        88\n",
      "Poland                           87\n",
      "Vietnam                          86\n",
      "Columbia                         85\n",
      "Haiti                            75\n",
      "Portugal                         67\n",
      "Taiwan                           65\n",
      "Iran                             59\n",
      "Greece                           49\n",
      "Nicaragua                        49\n",
      "Peru                             46\n",
      "Ecuador                          45\n",
      "France                           38\n",
      "Ireland                          37\n",
      "Hong                             30\n",
      "Thailand                         30\n",
      "Cambodia                         28\n",
      "Trinadad&Tobago                  27\n",
      "Laos                             23\n",
      "Yugoslavia                       23\n",
      "Outlying-US(Guam-USVI-etc)       23\n",
      "Scotland                         21\n",
      "Honduras                         20\n",
      "Hungary                          19\n",
      "Holand-Netherlands                1\n",
      "Name: native-country, dtype: int64\n",
      "column: income\n",
      "\n",
      "<=50K     24720\n",
      "<=50K.    12435\n",
      ">50K       7841\n",
      ">50K.      3846\n",
      "Name: income, dtype: int64\n"
     ]
    }
   ],
   "source": [
    "for column in df.select_dtypes('object').columns.to_list():\n",
    "    print(f'column: {column}\\n')\n",
    "    print(df[column].value_counts())"
   ]
  },
  {
   "cell_type": "markdown",
   "metadata": {},
   "source": [
    "### Cleaning object columns to avoid having near-zero-variance variables in the model"
   ]
  },
  {
   "cell_type": "code",
   "execution_count": 175,
   "metadata": {},
   "outputs": [],
   "source": [
    "def fix_income(x):\n",
    "    x = x.strip().replace('.','')\n",
    "    return x "
   ]
  },
  {
   "cell_type": "code",
   "execution_count": 176,
   "metadata": {},
   "outputs": [],
   "source": [
    "df['income'] = df['income'].apply(fix_income)"
   ]
  },
  {
   "cell_type": "code",
   "execution_count": 177,
   "metadata": {},
   "outputs": [],
   "source": [
    "df.replace({\"?\":np.nan},inplace=True)"
   ]
  },
  {
   "cell_type": "code",
   "execution_count": 178,
   "metadata": {},
   "outputs": [],
   "source": [
    "def fix_workclass(x):\n",
    "    if x in [\"Local-gov\",\"State-gov\",\"Federal-gov\"]:\n",
    "        return \"gov\"\n",
    "    else:\n",
    "        return x"
   ]
  },
  {
   "cell_type": "code",
   "execution_count": 179,
   "metadata": {},
   "outputs": [],
   "source": [
    "df['workclass'] = df['workclass'].apply(fix_workclass)"
   ]
  },
  {
   "cell_type": "code",
   "execution_count": 180,
   "metadata": {},
   "outputs": [],
   "source": [
    "df['race'] = df['race'].apply(lambda x: \"Other\" if x in [\"Asian-Pac-Islander\",\"Amer-Indian-Eskimo\",\"Other\"] else x)\n",
    "\n",
    "df['native-country'] = df['native-country'].apply(lambda x: \"Europe\" if x in [\"Germany\", \"England\", \"Poland\", \"Italy\", \"Portugal\",\n",
    "            \"Greece\", \"France\", \"Ireland\", \"Yugoslavia\", \"Hungary\",\n",
    "            \"Scotland\", \"Holand-Netherlands\"] else x)\n",
    "df['native-country'] = df['native-country'].apply(lambda x: \"Other\" if x not in [\"Europe\",\"United-States\"] else x)\n",
    "\n",
    "df['education'] = df['education'].apply(lambda x: \"1-9th\" if x in [\"1st-4th\",\"5th-6th\",\"7th-8th\",\"9th\"] else x)\n",
    "df['education'] = df['education'].apply(lambda x: \"10-12th\" if x in [\"10th\",\"11th\",\"12th\"] else x)\n",
    "df['education'] = df['education'].apply(lambda x: \"Assoc\" if x in [\"Assoc-acdm\",\"Assoc-voc\"] else x)\n",
    "\n",
    "df['occupation'] = df['occupation'].apply(lambda x: \"Other\" if x in [\"Protective-serv\",\"Priv-house-serv\",\"Armed-Forces\"] else x)\n",
    "\n",
    "df['marital-status'] = df['marital-status'].apply(lambda x: \"Married\" if x in [\"Married-civ-spouse\",\"Married-spouse-absent\",\"Married-AF-spouse\",\"Separated\"] else x)\n",
    "df['marital-status'] = df['marital-status'].apply(lambda x: \"Not married\" if x in [\"Never-married\",\"Divorced\",\"Widowed\"] else x) "
   ]
  },
  {
   "cell_type": "code",
   "execution_count": 181,
   "metadata": {},
   "outputs": [
    {
     "name": "stdout",
     "output_type": "stream",
     "text": [
      "column: workclass\n",
      "\n",
      "Private             33906\n",
      "gov                  6549\n",
      "Self-emp-not-inc     3862\n",
      "Self-emp-inc         1695\n",
      "Without-pay            21\n",
      "Never-worked           10\n",
      "Name: workclass, dtype: int64\n",
      "column: education\n",
      "\n",
      "HS-grad         15784\n",
      "Some-college    10878\n",
      "Bachelors        8025\n",
      "10-12th          3858\n",
      "Assoc            3662\n",
      "Masters          2657\n",
      "1-9th            2467\n",
      "Prof-school       834\n",
      "Doctorate         594\n",
      "Preschool          83\n",
      "Name: education, dtype: int64\n",
      "column: marital-status\n",
      "\n",
      "Married        24574\n",
      "Not married    24268\n",
      "Name: marital-status, dtype: int64\n",
      "column: occupation\n",
      "\n",
      "Prof-specialty       6172\n",
      "Craft-repair         6112\n",
      "Exec-managerial      6086\n",
      "Adm-clerical         5611\n",
      "Sales                5504\n",
      "Other-service        4923\n",
      "Machine-op-inspct    3022\n",
      "Transport-moving     2355\n",
      "Handlers-cleaners    2072\n",
      "Farming-fishing      1490\n",
      "Tech-support         1446\n",
      "Other                1240\n",
      "Name: occupation, dtype: int64\n",
      "column: relationship\n",
      "\n",
      "Husband           19716\n",
      "Not-in-family     12583\n",
      "Own-child          7581\n",
      "Unmarried          5125\n",
      "Wife               2331\n",
      "Other-relative     1506\n",
      "Name: relationship, dtype: int64\n",
      "column: race\n",
      "\n",
      "White    41762\n",
      "Black     4685\n",
      "Other     2395\n",
      "Name: race, dtype: int64\n",
      "column: sex\n",
      "\n",
      "Male      32650\n",
      "Female    16192\n",
      "Name: sex, dtype: int64\n",
      "column: native-country\n",
      "\n",
      "United-States    43832\n",
      "Other             4230\n",
      "Europe             780\n",
      "Name: native-country, dtype: int64\n",
      "column: income\n",
      "\n",
      "<=50K    37155\n",
      ">50K     11687\n",
      "Name: income, dtype: int64\n"
     ]
    }
   ],
   "source": [
    "for column in df.select_dtypes('object').columns.to_list():\n",
    "    print(f'column: {column}\\n')\n",
    "    print(df[column].value_counts())"
   ]
  },
  {
   "cell_type": "code",
   "execution_count": 182,
   "metadata": {},
   "outputs": [],
   "source": [
    "df = df[~((df[\"education\"]==\"Preschool\") | (df[\"workclass\"].isin([\"Without-pay\", \"Never-worked\"])))]"
   ]
  },
  {
   "cell_type": "markdown",
   "metadata": {},
   "source": [
    "### Frequency tables of cleaned object variables"
   ]
  },
  {
   "cell_type": "code",
   "execution_count": 183,
   "metadata": {},
   "outputs": [
    {
     "name": "stdout",
     "output_type": "stream",
     "text": [
      "column: workclass\n",
      "\n",
      "Private             33843\n",
      "gov                  6544\n",
      "Self-emp-not-inc     3857\n",
      "Self-emp-inc         1695\n",
      "Name: workclass, dtype: int64\n",
      "column: education\n",
      "\n",
      "HS-grad         15768\n",
      "Some-college    10873\n",
      "Bachelors        8025\n",
      "10-12th          3853\n",
      "Assoc            3660\n",
      "Masters          2657\n",
      "1-9th            2464\n",
      "Prof-school       834\n",
      "Doctorate         594\n",
      "Name: education, dtype: int64\n",
      "column: marital-status\n",
      "\n",
      "Married        24520\n",
      "Not married    24208\n",
      "Name: marital-status, dtype: int64\n",
      "column: occupation\n",
      "\n",
      "Prof-specialty       6171\n",
      "Craft-repair         6105\n",
      "Exec-managerial      6084\n",
      "Adm-clerical         5605\n",
      "Sales                5501\n",
      "Other-service        4899\n",
      "Machine-op-inspct    3008\n",
      "Transport-moving     2352\n",
      "Handlers-cleaners    2065\n",
      "Farming-fishing      1465\n",
      "Tech-support         1446\n",
      "Other                1238\n",
      "Name: occupation, dtype: int64\n",
      "column: relationship\n",
      "\n",
      "Husband           19685\n",
      "Not-in-family     12544\n",
      "Own-child          7559\n",
      "Unmarried          5117\n",
      "Wife               2324\n",
      "Other-relative     1499\n",
      "Name: relationship, dtype: int64\n",
      "column: race\n",
      "\n",
      "White    41675\n",
      "Black     4669\n",
      "Other     2384\n",
      "Name: race, dtype: int64\n",
      "column: sex\n",
      "\n",
      "Male      32570\n",
      "Female    16158\n",
      "Name: sex, dtype: int64\n",
      "column: native-country\n",
      "\n",
      "United-States    43778\n",
      "Other             4170\n",
      "Europe             780\n",
      "Name: native-country, dtype: int64\n",
      "column: income\n",
      "\n",
      "<=50K    37044\n",
      ">50K     11684\n",
      "Name: income, dtype: int64\n"
     ]
    }
   ],
   "source": [
    "for column in df.select_dtypes('object').columns.to_list():\n",
    "    print(f'column: {column}\\n')\n",
    "    print(df[column].value_counts())"
   ]
  },
  {
   "cell_type": "markdown",
   "metadata": {},
   "source": [
    "### NaN values"
   ]
  },
  {
   "cell_type": "code",
   "execution_count": 184,
   "metadata": {},
   "outputs": [
    {
     "data": {
      "text/plain": [
       "workclass         2789\n",
       "occupation        2789\n",
       "age                  0\n",
       "fnlwgt               0\n",
       "education            0\n",
       "education-num        0\n",
       "marital-status       0\n",
       "relationship         0\n",
       "race                 0\n",
       "sex                  0\n",
       "capital-gain         0\n",
       "capital-loss         0\n",
       "hours-per-week       0\n",
       "native-country       0\n",
       "income               0\n",
       "dtype: int64"
      ]
     },
     "execution_count": 184,
     "metadata": {},
     "output_type": "execute_result"
    }
   ],
   "source": [
    "df.isna().sum().sort_values(ascending=False)"
   ]
  },
  {
   "cell_type": "code",
   "execution_count": 189,
   "metadata": {},
   "outputs": [],
   "source": [
    "df= df.dropna()"
   ]
  },
  {
   "cell_type": "code",
   "execution_count": 185,
   "metadata": {},
   "outputs": [],
   "source": [
    "cols = df.select_dtypes('object').columns.to_list()"
   ]
  },
  {
   "cell_type": "code",
   "execution_count": 186,
   "metadata": {},
   "outputs": [],
   "source": [
    "cols.remove(\"income\")"
   ]
  },
  {
   "cell_type": "code",
   "execution_count": 187,
   "metadata": {},
   "outputs": [
    {
     "data": {
      "text/plain": [
       "array(['Male', 'Female'], dtype=object)"
      ]
     },
     "execution_count": 187,
     "metadata": {},
     "output_type": "execute_result"
    }
   ],
   "source": [
    "df['sex'].unique()"
   ]
  },
  {
   "cell_type": "code",
   "execution_count": 188,
   "metadata": {},
   "outputs": [
    {
     "data": {
      "text/plain": [
       "['workclass',\n",
       " 'education',\n",
       " 'marital-status',\n",
       " 'occupation',\n",
       " 'relationship',\n",
       " 'race',\n",
       " 'sex',\n",
       " 'native-country']"
      ]
     },
     "execution_count": 188,
     "metadata": {},
     "output_type": "execute_result"
    }
   ],
   "source": [
    "cols"
   ]
  },
  {
   "cell_type": "markdown",
   "metadata": {},
   "source": [
    "### Removing redundant variables"
   ]
  },
  {
   "cell_type": "code",
   "execution_count": 190,
   "metadata": {},
   "outputs": [],
   "source": [
    "df = df.drop([\"capital-gain\",\"capital-loss\",\"education-num\"],axis=1)"
   ]
  },
  {
   "cell_type": "code",
   "execution_count": 191,
   "metadata": {},
   "outputs": [],
   "source": [
    "df[\"income\"] = np.where(df[\"income\"] == \"<=50K\",0,1)"
   ]
  },
  {
   "cell_type": "code",
   "execution_count": 192,
   "metadata": {},
   "outputs": [],
   "source": [
    "df = pd.get_dummies(data=df,columns=cols,drop_first=True)"
   ]
  },
  {
   "cell_type": "code",
   "execution_count": 193,
   "metadata": {},
   "outputs": [
    {
     "name": "stdout",
     "output_type": "stream",
     "text": [
      "X_train shape: (36751, 36)\n",
      "X_test shape: (9188, 36)\n",
      "y_train shape: (36751,)\n",
      "y_test shape: (9188,)\n"
     ]
    }
   ],
   "source": [
    "X = df.drop(\"income\",axis=1)\n",
    "y = df[\"income\"]\n",
    "X_train, X_test, y_train, y_test = train_test_split(X,y,test_size = 0.2, random_state=123)\n",
    "print(f'X_train shape: {X_train.shape}')\n",
    "print(f'X_test shape: {X_test.shape}')\n",
    "print(f'y_train shape: {y_train.shape}')\n",
    "print(f'y_test shape: {y_test.shape}')"
   ]
  },
  {
   "cell_type": "markdown",
   "metadata": {},
   "source": [
    "## Modeling"
   ]
  },
  {
   "cell_type": "markdown",
   "metadata": {},
   "source": [
    "### Logistic regression model"
   ]
  },
  {
   "cell_type": "code",
   "execution_count": 196,
   "metadata": {},
   "outputs": [
    {
     "name": "stdout",
     "output_type": "stream",
     "text": [
      "Optimization terminated successfully.\n",
      "         Current function value: 0.369239\n",
      "         Iterations 8\n",
      "                           Logit Regression Results                           \n",
      "==============================================================================\n",
      "Dep. Variable:                 income   No. Observations:                36751\n",
      "Model:                          Logit   Df Residuals:                    36715\n",
      "Method:                           MLE   Df Model:                           35\n",
      "Date:                Sun, 10 Dec 2023   Pseudo R-squ.:                  0.3416\n",
      "Time:                        00:50:12   Log-Likelihood:                -13570.\n",
      "converged:                       True   LL-Null:                       -20609.\n",
      "Covariance Type:            nonrobust   LLR p-value:                     0.000\n",
      "================================================================================================\n",
      "                                   coef    std err          z      P>|z|      [0.025      0.975]\n",
      "------------------------------------------------------------------------------------------------\n",
      "age                              0.0154      0.001     12.410      0.000       0.013       0.018\n",
      "fnlwgt                       -7.147e-08   1.45e-07     -0.492      0.623   -3.56e-07    2.13e-07\n",
      "hours-per-week                   0.0185      0.001     13.885      0.000       0.016       0.021\n",
      "workclass_Self-emp-inc           0.3157      0.073      4.353      0.000       0.174       0.458\n",
      "workclass_Self-emp-not-inc      -0.3972      0.055     -7.277      0.000      -0.504      -0.290\n",
      "workclass_gov                   -0.0916      0.045     -2.023      0.043      -0.180      -0.003\n",
      "education_10-12th               -0.7038      0.113     -6.231      0.000      -0.925      -0.482\n",
      "education_Assoc                  0.6020      0.089      6.740      0.000       0.427       0.777\n",
      "education_Bachelors              1.2176      0.083     14.651      0.000       1.055       1.380\n",
      "education_Doctorate              2.2415      0.153     14.639      0.000       1.941       2.542\n",
      "education_HS-grad                0.0595      0.078      0.767      0.443      -0.093       0.212\n",
      "education_Masters                1.6159      0.097     16.603      0.000       1.425       1.807\n",
      "education_Prof-school            2.4063      0.138     17.386      0.000       2.135       2.678\n",
      "education_Some-college           0.4098      0.081      5.083      0.000       0.252       0.568\n",
      "marital-status_Not married      -0.5044      0.096     -5.257      0.000      -0.692      -0.316\n",
      "occupation_Craft-repair         -0.4233      0.064     -6.661      0.000      -0.548      -0.299\n",
      "occupation_Exec-managerial       0.4227      0.062      6.872      0.000       0.302       0.543\n",
      "occupation_Farming-fishing      -1.4632      0.119    -12.287      0.000      -1.697      -1.230\n",
      "occupation_Handlers-cleaners    -1.2734      0.117    -10.915      0.000      -1.502      -1.045\n",
      "occupation_Machine-op-inspct    -0.9170      0.084    -10.919      0.000      -1.082      -0.752\n",
      "occupation_Other                -0.1316      0.101     -1.309      0.190      -0.329       0.065\n",
      "occupation_Other-service        -1.5351      0.099    -15.485      0.000      -1.729      -1.341\n",
      "occupation_Prof-specialty        0.0890      0.064      1.381      0.167      -0.037       0.215\n",
      "occupation_Sales                -0.1095      0.066     -1.663      0.096      -0.238       0.020\n",
      "occupation_Tech-support          0.1238      0.092      1.352      0.177      -0.056       0.303\n",
      "occupation_Transport-moving     -0.6410      0.082     -7.789      0.000      -0.802      -0.480\n",
      "relationship_Not-in-family      -1.7192      0.099    -17.436      0.000      -1.913      -1.526\n",
      "relationship_Other-relative     -2.2667      0.182    -12.453      0.000      -2.623      -1.910\n",
      "relationship_Own-child          -2.9503      0.145    -20.408      0.000      -3.234      -2.667\n",
      "relationship_Unmarried          -2.0806      0.113    -18.476      0.000      -2.301      -1.860\n",
      "relationship_Wife                0.3781      0.081      4.681      0.000       0.220       0.536\n",
      "race_Other                      -0.3880      0.097     -3.991      0.000      -0.579      -0.197\n",
      "race_White                      -0.3627      0.057     -6.358      0.000      -0.475      -0.251\n",
      "sex_Male                         0.2577      0.061      4.245      0.000       0.139       0.377\n",
      "native-country_Other            -2.2011      0.109    -20.220      0.000      -2.414      -1.988\n",
      "native-country_United-States    -1.7556      0.092    -19.186      0.000      -1.935      -1.576\n",
      "================================================================================================\n"
     ]
    }
   ],
   "source": [
    "mod = sm.Logit(y_train,X_train).fit()\n",
    "print(mod.summary())"
   ]
  },
  {
   "cell_type": "markdown",
   "metadata": {},
   "source": [
    "### Prediction"
   ]
  },
  {
   "cell_type": "code",
   "execution_count": 198,
   "metadata": {},
   "outputs": [],
   "source": [
    "def group(x):\n",
    "    if x>=0.5:\n",
    "        return 1\n",
    "    else:\n",
    "        return 0"
   ]
  },
  {
   "cell_type": "code",
   "execution_count": 200,
   "metadata": {},
   "outputs": [],
   "source": [
    "y_test_pred = mod.predict(X_test).apply(group)"
   ]
  },
  {
   "cell_type": "markdown",
   "metadata": {},
   "source": [
    "### Confusion matrix"
   ]
  },
  {
   "cell_type": "code",
   "execution_count": 202,
   "metadata": {},
   "outputs": [
    {
     "name": "stdout",
     "output_type": "stream",
     "text": [
      "[[6318  587]\n",
      " [1046 1237]]\n"
     ]
    }
   ],
   "source": [
    "print(confusion_matrix(y_true = y_test, y_pred= y_test_pred))"
   ]
  },
  {
   "cell_type": "markdown",
   "metadata": {},
   "source": [
    "### Classification report\n",
    "\n",
    "#### Regarding group \"0\":\n",
    "* precision = 0.86 implies that among all observations that were classified as \"0\" by the model, 86% of them were of class \"0\" in reality\n",
    "* recall = 0.91 implies that the model correctly classified 91% observations of class \"0\"\n",
    "* f1-score is a harmonic average considering both precision and recall\n",
    "* support = 6905 implies that there are 6905 instances of \"0\" class\n",
    "\n",
    "#### Regarding group \"1\":\n",
    "* precision = 0.68 implies that among all observations that were classified as \"1\" by the model, 68% of them were of class \"1\" in reality\n",
    "* recall = 0.54 implies that the model correctly classified 54% observations of class \"1\"\n",
    "* f1-score is a harmonic average considering both precision and recall\n",
    "* support = 2283 implies that there are 2283 instances of \"1\" class"
   ]
  },
  {
   "cell_type": "code",
   "execution_count": 204,
   "metadata": {},
   "outputs": [
    {
     "name": "stdout",
     "output_type": "stream",
     "text": [
      "              precision    recall  f1-score   support\n",
      "\n",
      "           0       0.86      0.91      0.89      6905\n",
      "           1       0.68      0.54      0.60      2283\n",
      "\n",
      "    accuracy                           0.82      9188\n",
      "   macro avg       0.77      0.73      0.74      9188\n",
      "weighted avg       0.81      0.82      0.82      9188\n",
      "\n"
     ]
    }
   ],
   "source": [
    "print(classification_report(y_true = y_test, y_pred= y_test_pred))"
   ]
  },
  {
   "cell_type": "code",
   "execution_count": 206,
   "metadata": {},
   "outputs": [
    {
     "data": {
      "text/plain": [
       "0    6905\n",
       "1    2283\n",
       "Name: income, dtype: int64"
      ]
     },
     "execution_count": 206,
     "metadata": {},
     "output_type": "execute_result"
    }
   ],
   "source": [
    "y_test.value_counts()"
   ]
  },
  {
   "cell_type": "markdown",
   "metadata": {},
   "source": [
    "### No-Information rate (the share of the most frequent class in the dependent variable)"
   ]
  },
  {
   "cell_type": "code",
   "execution_count": 207,
   "metadata": {},
   "outputs": [
    {
     "data": {
      "text/plain": [
       "0.751523726599913"
      ]
     },
     "execution_count": 207,
     "metadata": {},
     "output_type": "execute_result"
    }
   ],
   "source": [
    "6905/(6905+2283)"
   ]
  },
  {
   "cell_type": "markdown",
   "metadata": {},
   "source": [
    "### Random Forest model"
   ]
  },
  {
   "cell_type": "code",
   "execution_count": 250,
   "metadata": {},
   "outputs": [
    {
     "data": {
      "text/html": [
       "<style>#sk-container-id-11 {color: black;background-color: white;}#sk-container-id-11 pre{padding: 0;}#sk-container-id-11 div.sk-toggleable {background-color: white;}#sk-container-id-11 label.sk-toggleable__label {cursor: pointer;display: block;width: 100%;margin-bottom: 0;padding: 0.3em;box-sizing: border-box;text-align: center;}#sk-container-id-11 label.sk-toggleable__label-arrow:before {content: \"▸\";float: left;margin-right: 0.25em;color: #696969;}#sk-container-id-11 label.sk-toggleable__label-arrow:hover:before {color: black;}#sk-container-id-11 div.sk-estimator:hover label.sk-toggleable__label-arrow:before {color: black;}#sk-container-id-11 div.sk-toggleable__content {max-height: 0;max-width: 0;overflow: hidden;text-align: left;background-color: #f0f8ff;}#sk-container-id-11 div.sk-toggleable__content pre {margin: 0.2em;color: black;border-radius: 0.25em;background-color: #f0f8ff;}#sk-container-id-11 input.sk-toggleable__control:checked~div.sk-toggleable__content {max-height: 200px;max-width: 100%;overflow: auto;}#sk-container-id-11 input.sk-toggleable__control:checked~label.sk-toggleable__label-arrow:before {content: \"▾\";}#sk-container-id-11 div.sk-estimator input.sk-toggleable__control:checked~label.sk-toggleable__label {background-color: #d4ebff;}#sk-container-id-11 div.sk-label input.sk-toggleable__control:checked~label.sk-toggleable__label {background-color: #d4ebff;}#sk-container-id-11 input.sk-hidden--visually {border: 0;clip: rect(1px 1px 1px 1px);clip: rect(1px, 1px, 1px, 1px);height: 1px;margin: -1px;overflow: hidden;padding: 0;position: absolute;width: 1px;}#sk-container-id-11 div.sk-estimator {font-family: monospace;background-color: #f0f8ff;border: 1px dotted black;border-radius: 0.25em;box-sizing: border-box;margin-bottom: 0.5em;}#sk-container-id-11 div.sk-estimator:hover {background-color: #d4ebff;}#sk-container-id-11 div.sk-parallel-item::after {content: \"\";width: 100%;border-bottom: 1px solid gray;flex-grow: 1;}#sk-container-id-11 div.sk-label:hover label.sk-toggleable__label {background-color: #d4ebff;}#sk-container-id-11 div.sk-serial::before {content: \"\";position: absolute;border-left: 1px solid gray;box-sizing: border-box;top: 0;bottom: 0;left: 50%;z-index: 0;}#sk-container-id-11 div.sk-serial {display: flex;flex-direction: column;align-items: center;background-color: white;padding-right: 0.2em;padding-left: 0.2em;position: relative;}#sk-container-id-11 div.sk-item {position: relative;z-index: 1;}#sk-container-id-11 div.sk-parallel {display: flex;align-items: stretch;justify-content: center;background-color: white;position: relative;}#sk-container-id-11 div.sk-item::before, #sk-container-id-11 div.sk-parallel-item::before {content: \"\";position: absolute;border-left: 1px solid gray;box-sizing: border-box;top: 0;bottom: 0;left: 50%;z-index: -1;}#sk-container-id-11 div.sk-parallel-item {display: flex;flex-direction: column;z-index: 1;position: relative;background-color: white;}#sk-container-id-11 div.sk-parallel-item:first-child::after {align-self: flex-end;width: 50%;}#sk-container-id-11 div.sk-parallel-item:last-child::after {align-self: flex-start;width: 50%;}#sk-container-id-11 div.sk-parallel-item:only-child::after {width: 0;}#sk-container-id-11 div.sk-dashed-wrapped {border: 1px dashed gray;margin: 0 0.4em 0.5em 0.4em;box-sizing: border-box;padding-bottom: 0.4em;background-color: white;}#sk-container-id-11 div.sk-label label {font-family: monospace;font-weight: bold;display: inline-block;line-height: 1.2em;}#sk-container-id-11 div.sk-label-container {text-align: center;}#sk-container-id-11 div.sk-container {/* jupyter's `normalize.less` sets `[hidden] { display: none; }` but bootstrap.min.css set `[hidden] { display: none !important; }` so we also need the `!important` here to be able to override the default hidden behavior on the sphinx rendered scikit-learn.org. See: https://github.com/scikit-learn/scikit-learn/issues/21755 */display: inline-block !important;position: relative;}#sk-container-id-11 div.sk-text-repr-fallback {display: none;}</style><div id=\"sk-container-id-11\" class=\"sk-top-container\"><div class=\"sk-text-repr-fallback\"><pre>RandomForestClassifier(max_depth=10, max_features=10, n_estimators=150)</pre><b>In a Jupyter environment, please rerun this cell to show the HTML representation or trust the notebook. <br />On GitHub, the HTML representation is unable to render, please try loading this page with nbviewer.org.</b></div><div class=\"sk-container\" hidden><div class=\"sk-item\"><div class=\"sk-estimator sk-toggleable\"><input class=\"sk-toggleable__control sk-hidden--visually\" id=\"sk-estimator-id-11\" type=\"checkbox\" checked><label for=\"sk-estimator-id-11\" class=\"sk-toggleable__label sk-toggleable__label-arrow\">RandomForestClassifier</label><div class=\"sk-toggleable__content\"><pre>RandomForestClassifier(max_depth=10, max_features=10, n_estimators=150)</pre></div></div></div></div></div>"
      ],
      "text/plain": [
       "RandomForestClassifier(max_depth=10, max_features=10, n_estimators=150)"
      ]
     },
     "execution_count": 250,
     "metadata": {},
     "output_type": "execute_result"
    }
   ],
   "source": [
    "rf_mod = RandomForestClassifier(n_estimators=150,max_depth=10,max_features=10)\n",
    "rf_mod.fit(X_train,y_train)"
   ]
  },
  {
   "cell_type": "code",
   "execution_count": 251,
   "metadata": {},
   "outputs": [],
   "source": [
    "y_test_pred_rf = rf_mod.predict(X_test)"
   ]
  },
  {
   "cell_type": "markdown",
   "metadata": {},
   "source": [
    "### Classification report"
   ]
  },
  {
   "cell_type": "code",
   "execution_count": 252,
   "metadata": {},
   "outputs": [
    {
     "name": "stdout",
     "output_type": "stream",
     "text": [
      "              precision    recall  f1-score   support\n",
      "\n",
      "           0       0.85      0.94      0.89      6905\n",
      "           1       0.72      0.49      0.59      2283\n",
      "\n",
      "    accuracy                           0.83      9188\n",
      "   macro avg       0.79      0.72      0.74      9188\n",
      "weighted avg       0.82      0.83      0.82      9188\n",
      "\n"
     ]
    }
   ],
   "source": [
    "print(classification_report(y_true=y_test,y_pred=y_test_pred_rf))"
   ]
  },
  {
   "cell_type": "markdown",
   "metadata": {},
   "source": [
    "### Importance plot"
   ]
  },
  {
   "cell_type": "code",
   "execution_count": 256,
   "metadata": {},
   "outputs": [
    {
     "data": {
      "image/png": "[encoded data removed]",
      "text/plain": [
       "<Figure size 1000x600 with 1 Axes>"
      ]
     },
     "metadata": {},
     "output_type": "display_data"
    }
   ],
   "source": [
    "importances = rf_mod.feature_importances_\n",
    "cols_list = X_train.columns.to_list()\n",
    "importances_list = list(importances)\n",
    "\n",
    "plt.figure(figsize=(10,6))\n",
    "sns.barplot(y=cols_list,x=importances_list)\n",
    "plt.title('Importance Plot')\n",
    "plt.ylabel('Variable')\n",
    "plt.xlabel('Weighted average decrease in Gini impurity')\n",
    "plt.show()"
   ]
  },
  {
   "cell_type": "markdown",
   "metadata": {},
   "source": [
    "## Conclusion"
   ]
  },
  {
   "cell_type": "markdown",
   "metadata": {},
   "source": [
    "### While both logistic regression exhibit similar accuracy scores (0.82 and 0.83), logistic regression model seems better in terms of balancing sensitivity and specificity (0.91,0.54 and 0.94,0.49)"
   ]
  }
 ],
 "metadata": {
  "kernelspec": {
   "display_name": "Python 3",
   "language": "python",
   "name": "python3"
  },
  "language_info": {
   "codemirror_mode": {
    "name": "ipython",
    "version": 3
   },
   "file_extension": ".py",
   "mimetype": "text/x-python",
   "name": "python",
   "nbconvert_exporter": "python",
   "pygments_lexer": "ipython3",
   "version": "3.11.0"
  }
 },
 "nbformat": 4,
 "nbformat_minor": 2
}
