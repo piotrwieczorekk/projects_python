{
 "cells": [
  {
   "cell_type": "markdown",
   "metadata": {},
   "source": [
    "## Libraries"
   ]
  },
  {
   "cell_type": "code",
   "execution_count": 176,
   "metadata": {},
   "outputs": [],
   "source": [
    "from gapminder import gapminder\n",
    "import pandas as pd\n",
    "import numpy as np\n",
    "import matplotlib.pyplot as plt\n",
    "import plotly.express as px\n",
    "import seaborn as sns\n",
    "from plotly.subplots import make_subplots\n",
    "import plotly.graph_objects as go\n",
    "import plotly.figure_factory as ff"
   ]
  },
  {
   "cell_type": "markdown",
   "metadata": {},
   "source": [
    "## Loading the gapminder data"
   ]
  },
  {
   "cell_type": "code",
   "execution_count": 3,
   "metadata": {},
   "outputs": [],
   "source": [
    "df = gapminder"
   ]
  },
  {
   "cell_type": "code",
   "execution_count": 5,
   "metadata": {},
   "outputs": [
    {
     "data": {
      "text/plain": [
       "array([1952, 1957, 1962, 1967, 1972, 1977, 1982, 1987, 1992, 1997, 2002,\n",
       "       2007], dtype=int64)"
      ]
     },
     "execution_count": 5,
     "metadata": {},
     "output_type": "execute_result"
    }
   ],
   "source": [
    "df['year'].unique()"
   ]
  },
  {
   "cell_type": "code",
   "execution_count": 7,
   "metadata": {},
   "outputs": [],
   "source": [
    "df = df[df['year'] == 2007]"
   ]
  },
  {
   "cell_type": "code",
   "execution_count": 8,
   "metadata": {},
   "outputs": [
    {
     "data": {
      "text/html": [
       "<div>\n",
       "<style scoped>\n",
       "    .dataframe tbody tr th:only-of-type {\n",
       "        vertical-align: middle;\n",
       "    }\n",
       "\n",
       "    .dataframe tbody tr th {\n",
       "        vertical-align: top;\n",
       "    }\n",
       "\n",
       "    .dataframe thead th {\n",
       "        text-align: right;\n",
       "    }\n",
       "</style>\n",
       "<table border=\"1\" class=\"dataframe\">\n",
       "  <thead>\n",
       "    <tr style=\"text-align: right;\">\n",
       "      <th></th>\n",
       "      <th>country</th>\n",
       "      <th>continent</th>\n",
       "      <th>year</th>\n",
       "      <th>lifeExp</th>\n",
       "      <th>pop</th>\n",
       "      <th>gdpPercap</th>\n",
       "    </tr>\n",
       "  </thead>\n",
       "  <tbody>\n",
       "    <tr>\n",
       "      <th>11</th>\n",
       "      <td>Afghanistan</td>\n",
       "      <td>Asia</td>\n",
       "      <td>2007</td>\n",
       "      <td>43.828</td>\n",
       "      <td>31889923</td>\n",
       "      <td>974.580338</td>\n",
       "    </tr>\n",
       "    <tr>\n",
       "      <th>23</th>\n",
       "      <td>Albania</td>\n",
       "      <td>Europe</td>\n",
       "      <td>2007</td>\n",
       "      <td>76.423</td>\n",
       "      <td>3600523</td>\n",
       "      <td>5937.029526</td>\n",
       "    </tr>\n",
       "    <tr>\n",
       "      <th>35</th>\n",
       "      <td>Algeria</td>\n",
       "      <td>Africa</td>\n",
       "      <td>2007</td>\n",
       "      <td>72.301</td>\n",
       "      <td>33333216</td>\n",
       "      <td>6223.367465</td>\n",
       "    </tr>\n",
       "    <tr>\n",
       "      <th>47</th>\n",
       "      <td>Angola</td>\n",
       "      <td>Africa</td>\n",
       "      <td>2007</td>\n",
       "      <td>42.731</td>\n",
       "      <td>12420476</td>\n",
       "      <td>4797.231267</td>\n",
       "    </tr>\n",
       "    <tr>\n",
       "      <th>59</th>\n",
       "      <td>Argentina</td>\n",
       "      <td>Americas</td>\n",
       "      <td>2007</td>\n",
       "      <td>75.320</td>\n",
       "      <td>40301927</td>\n",
       "      <td>12779.379640</td>\n",
       "    </tr>\n",
       "  </tbody>\n",
       "</table>\n",
       "</div>"
      ],
      "text/plain": [
       "        country continent  year  lifeExp       pop     gdpPercap\n",
       "11  Afghanistan      Asia  2007   43.828  31889923    974.580338\n",
       "23      Albania    Europe  2007   76.423   3600523   5937.029526\n",
       "35      Algeria    Africa  2007   72.301  33333216   6223.367465\n",
       "47       Angola    Africa  2007   42.731  12420476   4797.231267\n",
       "59    Argentina  Americas  2007   75.320  40301927  12779.379640"
      ]
     },
     "execution_count": 8,
     "metadata": {},
     "output_type": "execute_result"
    }
   ],
   "source": [
    "df.head()"
   ]
  },
  {
   "cell_type": "code",
   "execution_count": 95,
   "metadata": {},
   "outputs": [
    {
     "data": {
      "text/plain": [
       "['Africa', 'Asia', 'Americas', 'Europe']"
      ]
     },
     "execution_count": 95,
     "metadata": {},
     "output_type": "execute_result"
    }
   ],
   "source": [
    "df[df[\"continent\"] != \"Oceania\"].iloc[:,[1,3]].groupby(['continent'])['lifeExp'].median().sort_values(ascending=True).index.to_list()"
   ]
  },
  {
   "cell_type": "markdown",
   "metadata": {},
   "source": [
    "## Exploring color palettes"
   ]
  },
  {
   "cell_type": "code",
   "execution_count": 106,
   "metadata": {},
   "outputs": [
    {
     "data": {
      "application/vnd.plotly.v1+json": {
       "config": {
        "plotlyServerURL": "https://plot.ly"
       },
       "data": [
        {
         "customdata": [
          0,
          1,
          2,
          3,
          4,
          5,
          6
         ],
         "hovertemplate": "%{y}[%{customdata}] = %{marker.color}<extra></extra>",
         "marker": {
          "color": [
           "rgb(237, 229, 207)",
           "rgb(224, 194, 162)",
           "rgb(211, 156, 131)",
           "rgb(193, 118, 111)",
           "rgb(166, 84, 97)",
           "rgb(129, 55, 83)",
           "rgb(84, 31, 63)"
          ]
         },
         "orientation": "h",
         "type": "bar",
         "x": [
          1,
          1,
          1,
          1,
          1,
          1,
          1
         ],
         "y": [
          "Brwnyl",
          "Brwnyl",
          "Brwnyl",
          "Brwnyl",
          "Brwnyl",
          "Brwnyl",
          "Brwnyl"
         ]
        },
        {
         "customdata": [
          0,
          1,
          2,
          3,
          4,
          5,
          6
         ],
         "hovertemplate": "%{y}[%{customdata}] = %{marker.color}<extra></extra>",
         "marker": {
          "color": [
           "rgb(75, 41, 145)",
           "rgb(135, 44, 162)",
           "rgb(192, 54, 157)",
           "rgb(234, 79, 136)",
           "rgb(250, 120, 118)",
           "rgb(246, 169, 122)",
           "rgb(237, 217, 163)"
          ]
         },
         "orientation": "h",
         "type": "bar",
         "x": [
          1,
          1,
          1,
          1,
          1,
          1,
          1
         ],
         "y": [
          "Agsunset",
          "Agsunset",
          "Agsunset",
          "Agsunset",
          "Agsunset",
          "Agsunset",
          "Agsunset"
         ]
        },
        {
         "customdata": [
          0,
          1,
          2,
          3,
          4,
          5,
          6
         ],
         "hovertemplate": "%{y}[%{customdata}] = %{marker.color}<extra></extra>",
         "marker": {
          "color": [
           "rgb(252, 222, 156)",
           "rgb(250, 164, 118)",
           "rgb(240, 116, 110)",
           "rgb(227, 79, 111)",
           "rgb(220, 57, 119)",
           "rgb(185, 37, 122)",
           "rgb(124, 29, 111)"
          ]
         },
         "orientation": "h",
         "type": "bar",
         "x": [
          1,
          1,
          1,
          1,
          1,
          1,
          1
         ],
         "y": [
          "Sunsetdark",
          "Sunsetdark",
          "Sunsetdark",
          "Sunsetdark",
          "Sunsetdark",
          "Sunsetdark",
          "Sunsetdark"
         ]
        },
        {
         "customdata": [
          0,
          1,
          2,
          3,
          4,
          5,
          6
         ],
         "hovertemplate": "%{y}[%{customdata}] = %{marker.color}<extra></extra>",
         "marker": {
          "color": [
           "rgb(243, 203, 211)",
           "rgb(234, 169, 189)",
           "rgb(221, 136, 172)",
           "rgb(202, 105, 157)",
           "rgb(177, 77, 142)",
           "rgb(145, 53, 125)",
           "rgb(108, 33, 103)"
          ]
         },
         "orientation": "h",
         "type": "bar",
         "x": [
          1,
          1,
          1,
          1,
          1,
          1,
          1
         ],
         "y": [
          "Magenta",
          "Magenta",
          "Magenta",
          "Magenta",
          "Magenta",
          "Magenta",
          "Magenta"
         ]
        },
        {
         "customdata": [
          0,
          1,
          2,
          3,
          4,
          5,
          6
         ],
         "hovertemplate": "%{y}[%{customdata}] = %{marker.color}<extra></extra>",
         "marker": {
          "color": [
           "rgb(243, 231, 155)",
           "rgb(250, 196, 132)",
           "rgb(248, 160, 126)",
           "rgb(235, 127, 134)",
           "rgb(206, 102, 147)",
           "rgb(160, 89, 160)",
           "rgb(92, 83, 165)"
          ]
         },
         "orientation": "h",
         "type": "bar",
         "x": [
          1,
          1,
          1,
          1,
          1,
          1,
          1
         ],
         "y": [
          "Sunset",
          "Sunset",
          "Sunset",
          "Sunset",
          "Sunset",
          "Sunset",
          "Sunset"
         ]
        },
        {
         "customdata": [
          0,
          1,
          2,
          3,
          4,
          5,
          6
         ],
         "hovertemplate": "%{y}[%{customdata}] = %{marker.color}<extra></extra>",
         "marker": {
          "color": [
           "rgb(249, 221, 218)",
           "rgb(242, 185, 196)",
           "rgb(229, 151, 185)",
           "rgb(206, 120, 179)",
           "rgb(173, 95, 173)",
           "rgb(131, 75, 160)",
           "rgb(87, 59, 136)"
          ]
         },
         "orientation": "h",
         "type": "bar",
         "x": [
          1,
          1,
          1,
          1,
          1,
          1,
          1
         ],
         "y": [
          "Purpor",
          "Purpor",
          "Purpor",
          "Purpor",
          "Purpor",
          "Purpor",
          "Purpor"
         ]
        },
        {
         "customdata": [
          0,
          1,
          2,
          3,
          4,
          5,
          6
         ],
         "hovertemplate": "%{y}[%{customdata}] = %{marker.color}<extra></extra>",
         "marker": {
          "color": [
           "rgb(243, 224, 247)",
           "rgb(228, 199, 241)",
           "rgb(209, 175, 232)",
           "rgb(185, 152, 221)",
           "rgb(159, 130, 206)",
           "rgb(130, 109, 186)",
           "rgb(99, 88, 159)"
          ]
         },
         "orientation": "h",
         "type": "bar",
         "x": [
          1,
          1,
          1,
          1,
          1,
          1,
          1
         ],
         "y": [
          "Purp",
          "Purp",
          "Purp",
          "Purp",
          "Purp",
          "Purp",
          "Purp"
         ]
        },
        {
         "customdata": [
          0,
          1,
          2,
          3,
          4,
          5,
          6
         ],
         "hovertemplate": "%{y}[%{customdata}] = %{marker.color}<extra></extra>",
         "marker": {
          "color": [
           "rgb(176, 242, 188)",
           "rgb(137, 232, 172)",
           "rgb(103, 219, 165)",
           "rgb(76, 200, 163)",
           "rgb(56, 178, 163)",
           "rgb(44, 152, 160)",
           "rgb(37, 125, 152)"
          ]
         },
         "orientation": "h",
         "type": "bar",
         "x": [
          1,
          1,
          1,
          1,
          1,
          1,
          1
         ],
         "y": [
          "Tealgrn",
          "Tealgrn",
          "Tealgrn",
          "Tealgrn",
          "Tealgrn",
          "Tealgrn",
          "Tealgrn"
         ]
        },
        {
         "customdata": [
          0,
          1,
          2,
          3,
          4,
          5,
          6
         ],
         "hovertemplate": "%{y}[%{customdata}] = %{marker.color}<extra></extra>",
         "marker": {
          "color": [
           "rgb(209, 238, 234)",
           "rgb(168, 219, 217)",
           "rgb(133, 196, 201)",
           "rgb(104, 171, 184)",
           "rgb(79, 144, 166)",
           "rgb(59, 115, 143)",
           "rgb(42, 86, 116)"
          ]
         },
         "orientation": "h",
         "type": "bar",
         "x": [
          1,
          1,
          1,
          1,
          1,
          1,
          1
         ],
         "y": [
          "Teal",
          "Teal",
          "Teal",
          "Teal",
          "Teal",
          "Teal",
          "Teal"
         ]
        },
        {
         "customdata": [
          0,
          1,
          2,
          3,
          4,
          5,
          6
         ],
         "hovertemplate": "%{y}[%{customdata}] = %{marker.color}<extra></extra>",
         "marker": {
          "color": [
           "rgb(247, 254, 174)",
           "rgb(183, 230, 165)",
           "rgb(124, 203, 162)",
           "rgb(70, 174, 160)",
           "rgb(8, 144, 153)",
           "rgb(0, 113, 139)",
           "rgb(4, 82, 117)"
          ]
         },
         "orientation": "h",
         "type": "bar",
         "x": [
          1,
          1,
          1,
          1,
          1,
          1,
          1
         ],
         "y": [
          "Bluyl",
          "Bluyl",
          "Bluyl",
          "Bluyl",
          "Bluyl",
          "Bluyl",
          "Bluyl"
         ]
        },
        {
         "customdata": [
          0,
          1,
          2,
          3,
          4,
          5,
          6
         ],
         "hovertemplate": "%{y}[%{customdata}] = %{marker.color}<extra></extra>",
         "marker": {
          "color": [
           "rgb(36, 86, 104)",
           "rgb(15, 114, 121)",
           "rgb(13, 143, 129)",
           "rgb(57, 171, 126)",
           "rgb(110, 197, 116)",
           "rgb(169, 220, 103)",
           "rgb(237, 239, 93)"
          ]
         },
         "orientation": "h",
         "type": "bar",
         "x": [
          1,
          1,
          1,
          1,
          1,
          1,
          1
         ],
         "y": [
          "Aggrnyl",
          "Aggrnyl",
          "Aggrnyl",
          "Aggrnyl",
          "Aggrnyl",
          "Aggrnyl",
          "Aggrnyl"
         ]
        },
        {
         "customdata": [
          0,
          1,
          2,
          3,
          4,
          5,
          6
         ],
         "hovertemplate": "%{y}[%{customdata}] = %{marker.color}<extra></extra>",
         "marker": {
          "color": [
           "rgb(211, 242, 163)",
           "rgb(151, 225, 150)",
           "rgb(108, 192, 139)",
           "rgb(76, 155, 130)",
           "rgb(33, 122, 121)",
           "rgb(16, 89, 101)",
           "rgb(7, 64, 80)"
          ]
         },
         "orientation": "h",
         "type": "bar",
         "x": [
          1,
          1,
          1,
          1,
          1,
          1,
          1
         ],
         "y": [
          "Emrld",
          "Emrld",
          "Emrld",
          "Emrld",
          "Emrld",
          "Emrld",
          "Emrld"
         ]
        },
        {
         "customdata": [
          0,
          1,
          2,
          3,
          4,
          5,
          6
         ],
         "hovertemplate": "%{y}[%{customdata}] = %{marker.color}<extra></extra>",
         "marker": {
          "color": [
           "rgb(210, 251, 212)",
           "rgb(165, 219, 194)",
           "rgb(123, 188, 176)",
           "rgb(85, 156, 158)",
           "rgb(58, 124, 137)",
           "rgb(35, 93, 114)",
           "rgb(18, 63, 90)"
          ]
         },
         "orientation": "h",
         "type": "bar",
         "x": [
          1,
          1,
          1,
          1,
          1,
          1,
          1
         ],
         "y": [
          "Darkmint",
          "Darkmint",
          "Darkmint",
          "Darkmint",
          "Darkmint",
          "Darkmint",
          "Darkmint"
         ]
        },
        {
         "customdata": [
          0,
          1,
          2,
          3,
          4,
          5,
          6
         ],
         "hovertemplate": "%{y}[%{customdata}] = %{marker.color}<extra></extra>",
         "marker": {
          "color": [
           "rgb(196, 230, 195)",
           "rgb(150, 210, 164)",
           "rgb(109, 188, 144)",
           "rgb(77, 162, 132)",
           "rgb(54, 135, 122)",
           "rgb(38, 107, 110)",
           "rgb(29, 79, 96)"
          ]
         },
         "orientation": "h",
         "type": "bar",
         "x": [
          1,
          1,
          1,
          1,
          1,
          1,
          1
         ],
         "y": [
          "Blugrn",
          "Blugrn",
          "Blugrn",
          "Blugrn",
          "Blugrn",
          "Blugrn",
          "Blugrn"
         ]
        },
        {
         "customdata": [
          0,
          1,
          2,
          3,
          4,
          5,
          6
         ],
         "hovertemplate": "%{y}[%{customdata}] = %{marker.color}<extra></extra>",
         "marker": {
          "color": [
           "rgb(228, 241, 225)",
           "rgb(180, 217, 204)",
           "rgb(137, 192, 182)",
           "rgb(99, 166, 160)",
           "rgb(68, 140, 138)",
           "rgb(40, 114, 116)",
           "rgb(13, 88, 95)"
          ]
         },
         "orientation": "h",
         "type": "bar",
         "x": [
          1,
          1,
          1,
          1,
          1,
          1,
          1
         ],
         "y": [
          "Mint",
          "Mint",
          "Mint",
          "Mint",
          "Mint",
          "Mint",
          "Mint"
         ]
        },
        {
         "customdata": [
          0,
          1,
          2,
          3,
          4,
          5,
          6
         ],
         "hovertemplate": "%{y}[%{customdata}] = %{marker.color}<extra></extra>",
         "marker": {
          "color": [
           "rgb(254, 246, 181)",
           "rgb(255, 221, 154)",
           "rgb(255, 194, 133)",
           "rgb(255, 166, 121)",
           "rgb(250, 138, 118)",
           "rgb(241, 109, 122)",
           "rgb(225, 83, 131)"
          ]
         },
         "orientation": "h",
         "type": "bar",
         "x": [
          1,
          1,
          1,
          1,
          1,
          1,
          1
         ],
         "y": [
          "Pinkyl",
          "Pinkyl",
          "Pinkyl",
          "Pinkyl",
          "Pinkyl",
          "Pinkyl",
          "Pinkyl"
         ]
        },
        {
         "customdata": [
          0,
          1,
          2,
          3,
          4,
          5,
          6
         ],
         "hovertemplate": "%{y}[%{customdata}] = %{marker.color}<extra></extra>",
         "marker": {
          "color": [
           "rgb(253, 224, 197)",
           "rgb(250, 203, 166)",
           "rgb(248, 181, 139)",
           "rgb(245, 158, 114)",
           "rgb(242, 133, 93)",
           "rgb(239, 106, 76)",
           "rgb(235, 74, 64)"
          ]
         },
         "orientation": "h",
         "type": "bar",
         "x": [
          1,
          1,
          1,
          1,
          1,
          1,
          1
         ],
         "y": [
          "Peach",
          "Peach",
          "Peach",
          "Peach",
          "Peach",
          "Peach",
          "Peach"
         ]
        },
        {
         "customdata": [
          0,
          1,
          2,
          3,
          4,
          5,
          6
         ],
         "hovertemplate": "%{y}[%{customdata}] = %{marker.color}<extra></extra>",
         "marker": {
          "color": [
           "rgb(236, 218, 154)",
           "rgb(239, 196, 126)",
           "rgb(243, 173, 106)",
           "rgb(247, 148, 93)",
           "rgb(249, 123, 87)",
           "rgb(246, 99, 86)",
           "rgb(238, 77, 90)"
          ]
         },
         "orientation": "h",
         "type": "bar",
         "x": [
          1,
          1,
          1,
          1,
          1,
          1,
          1
         ],
         "y": [
          "Oryel",
          "Oryel",
          "Oryel",
          "Oryel",
          "Oryel",
          "Oryel",
          "Oryel"
         ]
        },
        {
         "customdata": [
          0,
          1,
          2,
          3,
          4,
          5,
          6
         ],
         "hovertemplate": "%{y}[%{customdata}] = %{marker.color}<extra></extra>",
         "marker": {
          "color": [
           "rgb(246, 210, 169)",
           "rgb(245, 183, 142)",
           "rgb(241, 156, 124)",
           "rgb(234, 129, 113)",
           "rgb(221, 104, 108)",
           "rgb(202, 82, 104)",
           "rgb(177, 63, 100)"
          ]
         },
         "orientation": "h",
         "type": "bar",
         "x": [
          1,
          1,
          1,
          1,
          1,
          1,
          1
         ],
         "y": [
          "Redor",
          "Redor",
          "Redor",
          "Redor",
          "Redor",
          "Redor",
          "Redor"
         ]
        },
        {
         "customdata": [
          0,
          1,
          2,
          3,
          4,
          5,
          6
         ],
         "hovertemplate": "%{y}[%{customdata}] = %{marker.color}<extra></extra>",
         "marker": {
          "color": [
           "rgb(251, 230, 197)",
           "rgb(245, 186, 152)",
           "rgb(238, 138, 130)",
           "rgb(220, 113, 118)",
           "rgb(200, 88, 108)",
           "rgb(156, 63, 93)",
           "rgb(112, 40, 74)"
          ]
         },
         "orientation": "h",
         "type": "bar",
         "x": [
          1,
          1,
          1,
          1,
          1,
          1,
          1
         ],
         "y": [
          "Burgyl",
          "Burgyl",
          "Burgyl",
          "Burgyl",
          "Burgyl",
          "Burgyl",
          "Burgyl"
         ]
        },
        {
         "customdata": [
          0,
          1,
          2,
          3,
          4,
          5,
          6
         ],
         "hovertemplate": "%{y}[%{customdata}] = %{marker.color}<extra></extra>",
         "marker": {
          "color": [
           "rgb(255, 198, 196)",
           "rgb(244, 163, 168)",
           "rgb(227, 129, 145)",
           "rgb(204, 96, 125)",
           "rgb(173, 70, 108)",
           "rgb(139, 48, 88)",
           "rgb(103, 32, 68)"
          ]
         },
         "orientation": "h",
         "type": "bar",
         "x": [
          1,
          1,
          1,
          1,
          1,
          1,
          1
         ],
         "y": [
          "Burg",
          "Burg",
          "Burg",
          "Burg",
          "Burg",
          "Burg",
          "Burg"
         ]
        },
        {
         "customdata": [
          0,
          1,
          2,
          3,
          4,
          5,
          6,
          7,
          8,
          9,
          10,
          11
         ],
         "hovertemplate": "%{y}[%{customdata}] = %{marker.color}<extra></extra>",
         "marker": {
          "color": [
           "rgb(254, 245, 244)",
           "rgb(222, 224, 210)",
           "rgb(189, 206, 181)",
           "rgb(153, 189, 156)",
           "rgb(110, 173, 138)",
           "rgb(65, 157, 129)",
           "rgb(25, 137, 125)",
           "rgb(18, 116, 117)",
           "rgb(25, 94, 106)",
           "rgb(28, 72, 93)",
           "rgb(25, 51, 80)",
           "rgb(20, 29, 67)"
          ]
         },
         "orientation": "h",
         "type": "bar",
         "x": [
          1,
          1,
          1,
          1,
          1,
          1,
          1,
          1,
          1,
          1,
          1,
          1
         ],
         "y": [
          "tempo",
          "tempo",
          "tempo",
          "tempo",
          "tempo",
          "tempo",
          "tempo",
          "tempo",
          "tempo",
          "tempo",
          "tempo",
          "tempo"
         ]
        },
        {
         "customdata": [
          0,
          1,
          2,
          3,
          4,
          5,
          6,
          7,
          8,
          9,
          10,
          11
         ],
         "hovertemplate": "%{y}[%{customdata}] = %{marker.color}<extra></extra>",
         "marker": {
          "color": [
           "rgb(241, 236, 236)",
           "rgb(230, 209, 203)",
           "rgb(221, 182, 170)",
           "rgb(213, 156, 137)",
           "rgb(205, 129, 103)",
           "rgb(196, 102, 73)",
           "rgb(186, 74, 47)",
           "rgb(172, 44, 36)",
           "rgb(149, 19, 39)",
           "rgb(120, 14, 40)",
           "rgb(89, 13, 31)",
           "rgb(60, 9, 17)"
          ]
         },
         "orientation": "h",
         "type": "bar",
         "x": [
          1,
          1,
          1,
          1,
          1,
          1,
          1,
          1,
          1,
          1,
          1,
          1
         ],
         "y": [
          "amp",
          "amp",
          "amp",
          "amp",
          "amp",
          "amp",
          "amp",
          "amp",
          "amp",
          "amp",
          "amp",
          "amp"
         ]
        },
        {
         "customdata": [
          0,
          1,
          2,
          3,
          4,
          5,
          6,
          7,
          8,
          9,
          10,
          11
         ],
         "hovertemplate": "%{y}[%{customdata}] = %{marker.color}<extra></extra>",
         "marker": {
          "color": [
           "rgb(254, 252, 205)",
           "rgb(239, 225, 156)",
           "rgb(221, 201, 106)",
           "rgb(194, 182, 59)",
           "rgb(157, 167, 21)",
           "rgb(116, 153, 5)",
           "rgb(75, 138, 20)",
           "rgb(35, 121, 36)",
           "rgb(11, 100, 44)",
           "rgb(18, 78, 43)",
           "rgb(25, 56, 34)",
           "rgb(23, 35, 18)"
          ]
         },
         "orientation": "h",
         "type": "bar",
         "x": [
          1,
          1,
          1,
          1,
          1,
          1,
          1,
          1,
          1,
          1,
          1,
          1
         ],
         "y": [
          "speed",
          "speed",
          "speed",
          "speed",
          "speed",
          "speed",
          "speed",
          "speed",
          "speed",
          "speed",
          "speed",
          "speed"
         ]
        },
        {
         "customdata": [
          0,
          1,
          2,
          3,
          4,
          5,
          6,
          7,
          8,
          9,
          10,
          11
         ],
         "hovertemplate": "%{y}[%{customdata}] = %{marker.color}<extra></extra>",
         "marker": {
          "color": [
           "rgb(253, 237, 176)",
           "rgb(250, 205, 145)",
           "rgb(246, 173, 119)",
           "rgb(240, 142, 98)",
           "rgb(231, 109, 84)",
           "rgb(216, 80, 83)",
           "rgb(195, 56, 90)",
           "rgb(168, 40, 96)",
           "rgb(138, 29, 99)",
           "rgb(107, 24, 93)",
           "rgb(76, 21, 80)",
           "rgb(47, 15, 61)"
          ]
         },
         "orientation": "h",
         "type": "bar",
         "x": [
          1,
          1,
          1,
          1,
          1,
          1,
          1,
          1,
          1,
          1,
          1,
          1
         ],
         "y": [
          "matter",
          "matter",
          "matter",
          "matter",
          "matter",
          "matter",
          "matter",
          "matter",
          "matter",
          "matter",
          "matter",
          "matter"
         ]
        },
        {
         "customdata": [
          0,
          1,
          2,
          3,
          4,
          5,
          6,
          7,
          8,
          9,
          10,
          11
         ],
         "hovertemplate": "%{y}[%{customdata}] = %{marker.color}<extra></extra>",
         "marker": {
          "color": [
           "rgb(214, 249, 207)",
           "rgb(186, 228, 174)",
           "rgb(156, 209, 143)",
           "rgb(124, 191, 115)",
           "rgb(85, 174, 91)",
           "rgb(37, 157, 81)",
           "rgb(7, 138, 78)",
           "rgb(13, 117, 71)",
           "rgb(23, 95, 61)",
           "rgb(25, 75, 49)",
           "rgb(23, 55, 35)",
           "rgb(17, 36, 20)"
          ]
         },
         "orientation": "h",
         "type": "bar",
         "x": [
          1,
          1,
          1,
          1,
          1,
          1,
          1,
          1,
          1,
          1,
          1,
          1
         ],
         "y": [
          "algae",
          "algae",
          "algae",
          "algae",
          "algae",
          "algae",
          "algae",
          "algae",
          "algae",
          "algae",
          "algae",
          "algae"
         ]
        },
        {
         "customdata": [
          0,
          1,
          2,
          3,
          4,
          5,
          6,
          7,
          8,
          9,
          10,
          11
         ],
         "hovertemplate": "%{y}[%{customdata}] = %{marker.color}<extra></extra>",
         "marker": {
          "color": [
           "rgb(230, 240, 240)",
           "rgb(191, 221, 229)",
           "rgb(156, 201, 226)",
           "rgb(129, 180, 227)",
           "rgb(115, 154, 228)",
           "rgb(117, 127, 221)",
           "rgb(120, 100, 202)",
           "rgb(119, 74, 175)",
           "rgb(113, 50, 141)",
           "rgb(100, 31, 104)",
           "rgb(80, 20, 66)",
           "rgb(54, 14, 36)"
          ]
         },
         "orientation": "h",
         "type": "bar",
         "x": [
          1,
          1,
          1,
          1,
          1,
          1,
          1,
          1,
          1,
          1,
          1,
          1
         ],
         "y": [
          "dense",
          "dense",
          "dense",
          "dense",
          "dense",
          "dense",
          "dense",
          "dense",
          "dense",
          "dense",
          "dense",
          "dense"
         ]
        },
        {
         "customdata": [
          0,
          1,
          2,
          3,
          4,
          5,
          6,
          7,
          8,
          9,
          10,
          11
         ],
         "hovertemplate": "%{y}[%{customdata}] = %{marker.color}<extra></extra>",
         "marker": {
          "color": [
           "rgb(253, 253, 204)",
           "rgb(206, 236, 179)",
           "rgb(156, 219, 165)",
           "rgb(111, 201, 163)",
           "rgb(86, 177, 163)",
           "rgb(76, 153, 160)",
           "rgb(68, 130, 155)",
           "rgb(62, 108, 150)",
           "rgb(62, 82, 143)",
           "rgb(64, 60, 115)",
           "rgb(54, 43, 77)",
           "rgb(39, 26, 44)"
          ]
         },
         "orientation": "h",
         "type": "bar",
         "x": [
          1,
          1,
          1,
          1,
          1,
          1,
          1,
          1,
          1,
          1,
          1,
          1
         ],
         "y": [
          "deep",
          "deep",
          "deep",
          "deep",
          "deep",
          "deep",
          "deep",
          "deep",
          "deep",
          "deep",
          "deep",
          "deep"
         ]
        },
        {
         "customdata": [
          0,
          1,
          2,
          3,
          4,
          5,
          6,
          7,
          8,
          9,
          10,
          11
         ],
         "hovertemplate": "%{y}[%{customdata}] = %{marker.color}<extra></extra>",
         "marker": {
          "color": [
           "rgb(0, 0, 0)",
           "rgb(16, 16, 16)",
           "rgb(38, 38, 38)",
           "rgb(59, 59, 59)",
           "rgb(81, 80, 80)",
           "rgb(102, 101, 101)",
           "rgb(124, 123, 122)",
           "rgb(146, 146, 145)",
           "rgb(171, 171, 170)",
           "rgb(197, 197, 195)",
           "rgb(224, 224, 223)",
           "rgb(254, 254, 253)"
          ]
         },
         "orientation": "h",
         "type": "bar",
         "x": [
          1,
          1,
          1,
          1,
          1,
          1,
          1,
          1,
          1,
          1,
          1,
          1
         ],
         "y": [
          "gray",
          "gray",
          "gray",
          "gray",
          "gray",
          "gray",
          "gray",
          "gray",
          "gray",
          "gray",
          "gray",
          "gray"
         ]
        },
        {
         "customdata": [
          0,
          1,
          2,
          3,
          4,
          5,
          6,
          7,
          8,
          9,
          10,
          11
         ],
         "hovertemplate": "%{y}[%{customdata}] = %{marker.color}<extra></extra>",
         "marker": {
          "color": [
           "rgb(3, 5, 18)",
           "rgb(25, 25, 51)",
           "rgb(44, 42, 87)",
           "rgb(58, 60, 125)",
           "rgb(62, 83, 160)",
           "rgb(62, 109, 178)",
           "rgb(72, 134, 187)",
           "rgb(89, 159, 196)",
           "rgb(114, 184, 205)",
           "rgb(149, 207, 216)",
           "rgb(192, 229, 232)",
           "rgb(234, 252, 253)"
          ]
         },
         "orientation": "h",
         "type": "bar",
         "x": [
          1,
          1,
          1,
          1,
          1,
          1,
          1,
          1,
          1,
          1,
          1,
          1
         ],
         "y": [
          "ice",
          "ice",
          "ice",
          "ice",
          "ice",
          "ice",
          "ice",
          "ice",
          "ice",
          "ice",
          "ice",
          "ice"
         ]
        },
        {
         "customdata": [
          0,
          1,
          2,
          3,
          4,
          5,
          6,
          7,
          8,
          9,
          10,
          11
         ],
         "hovertemplate": "%{y}[%{customdata}] = %{marker.color}<extra></extra>",
         "marker": {
          "color": [
           "rgb(51, 19, 23)",
           "rgb(79, 28, 33)",
           "rgb(108, 36, 36)",
           "rgb(135, 47, 32)",
           "rgb(157, 66, 25)",
           "rgb(174, 88, 20)",
           "rgb(188, 111, 19)",
           "rgb(199, 137, 22)",
           "rgb(209, 164, 32)",
           "rgb(217, 192, 44)",
           "rgb(222, 222, 59)",
           "rgb(224, 253, 74)"
          ]
         },
         "orientation": "h",
         "type": "bar",
         "x": [
          1,
          1,
          1,
          1,
          1,
          1,
          1,
          1,
          1,
          1,
          1,
          1
         ],
         "y": [
          "solar",
          "solar",
          "solar",
          "solar",
          "solar",
          "solar",
          "solar",
          "solar",
          "solar",
          "solar",
          "solar",
          "solar"
         ]
        },
        {
         "customdata": [
          0,
          1,
          2,
          3,
          4,
          5,
          6,
          7,
          8,
          9,
          10,
          11
         ],
         "hovertemplate": "%{y}[%{customdata}] = %{marker.color}<extra></extra>",
         "marker": {
          "color": [
           "rgb(41, 24, 107)",
           "rgb(42, 35, 160)",
           "rgb(15, 71, 153)",
           "rgb(18, 95, 142)",
           "rgb(38, 116, 137)",
           "rgb(53, 136, 136)",
           "rgb(65, 157, 133)",
           "rgb(81, 178, 124)",
           "rgb(111, 198, 107)",
           "rgb(160, 214, 91)",
           "rgb(212, 225, 112)",
           "rgb(253, 238, 153)"
          ]
         },
         "orientation": "h",
         "type": "bar",
         "x": [
          1,
          1,
          1,
          1,
          1,
          1,
          1,
          1,
          1,
          1,
          1,
          1
         ],
         "y": [
          "haline",
          "haline",
          "haline",
          "haline",
          "haline",
          "haline",
          "haline",
          "haline",
          "haline",
          "haline",
          "haline",
          "haline"
         ]
        },
        {
         "customdata": [
          0,
          1,
          2,
          3,
          4,
          5,
          6,
          7,
          8,
          9,
          10,
          11
         ],
         "hovertemplate": "%{y}[%{customdata}] = %{marker.color}<extra></extra>",
         "marker": {
          "color": [
           "rgb(3, 35, 51)",
           "rgb(13, 48, 100)",
           "rgb(53, 50, 155)",
           "rgb(93, 62, 153)",
           "rgb(126, 77, 143)",
           "rgb(158, 89, 135)",
           "rgb(193, 100, 121)",
           "rgb(225, 113, 97)",
           "rgb(246, 139, 69)",
           "rgb(251, 173, 60)",
           "rgb(246, 211, 70)",
           "rgb(231, 250, 90)"
          ]
         },
         "orientation": "h",
         "type": "bar",
         "x": [
          1,
          1,
          1,
          1,
          1,
          1,
          1,
          1,
          1,
          1,
          1,
          1
         ],
         "y": [
          "thermal",
          "thermal",
          "thermal",
          "thermal",
          "thermal",
          "thermal",
          "thermal",
          "thermal",
          "thermal",
          "thermal",
          "thermal",
          "thermal"
         ]
        },
        {
         "customdata": [
          0,
          1,
          2,
          3,
          4,
          5,
          6,
          7,
          8,
          9,
          10,
          11
         ],
         "hovertemplate": "%{y}[%{customdata}] = %{marker.color}<extra></extra>",
         "marker": {
          "color": [
           "rgb(232, 245, 171)",
           "rgb(220, 219, 137)",
           "rgb(209, 193, 107)",
           "rgb(199, 168, 83)",
           "rgb(186, 143, 66)",
           "rgb(170, 121, 60)",
           "rgb(151, 103, 58)",
           "rgb(129, 87, 56)",
           "rgb(104, 72, 53)",
           "rgb(80, 59, 46)",
           "rgb(57, 45, 37)",
           "rgb(34, 30, 27)"
          ]
         },
         "orientation": "h",
         "type": "bar",
         "x": [
          1,
          1,
          1,
          1,
          1,
          1,
          1,
          1,
          1,
          1,
          1,
          1
         ],
         "y": [
          "turbid",
          "turbid",
          "turbid",
          "turbid",
          "turbid",
          "turbid",
          "turbid",
          "turbid",
          "turbid",
          "turbid",
          "turbid",
          "turbid"
         ]
        },
        {
         "customdata": [
          0,
          1,
          2,
          3,
          4,
          5,
          6,
          7,
          8
         ],
         "hovertemplate": "%{y}[%{customdata}] = %{marker.color}<extra></extra>",
         "marker": {
          "color": [
           "rgb(255,255,204)",
           "rgb(255,237,160)",
           "rgb(254,217,118)",
           "rgb(254,178,76)",
           "rgb(253,141,60)",
           "rgb(252,78,42)",
           "rgb(227,26,28)",
           "rgb(189,0,38)",
           "rgb(128,0,38)"
          ]
         },
         "orientation": "h",
         "type": "bar",
         "x": [
          1,
          1,
          1,
          1,
          1,
          1,
          1,
          1,
          1
         ],
         "y": [
          "YlOrRd",
          "YlOrRd",
          "YlOrRd",
          "YlOrRd",
          "YlOrRd",
          "YlOrRd",
          "YlOrRd",
          "YlOrRd",
          "YlOrRd"
         ]
        },
        {
         "customdata": [
          0,
          1,
          2,
          3,
          4,
          5,
          6,
          7,
          8
         ],
         "hovertemplate": "%{y}[%{customdata}] = %{marker.color}<extra></extra>",
         "marker": {
          "color": [
           "rgb(255,255,229)",
           "rgb(255,247,188)",
           "rgb(254,227,145)",
           "rgb(254,196,79)",
           "rgb(254,153,41)",
           "rgb(236,112,20)",
           "rgb(204,76,2)",
           "rgb(153,52,4)",
           "rgb(102,37,6)"
          ]
         },
         "orientation": "h",
         "type": "bar",
         "x": [
          1,
          1,
          1,
          1,
          1,
          1,
          1,
          1,
          1
         ],
         "y": [
          "YlOrBr",
          "YlOrBr",
          "YlOrBr",
          "YlOrBr",
          "YlOrBr",
          "YlOrBr",
          "YlOrBr",
          "YlOrBr",
          "YlOrBr"
         ]
        },
        {
         "customdata": [
          0,
          1,
          2,
          3,
          4,
          5,
          6,
          7,
          8
         ],
         "hovertemplate": "%{y}[%{customdata}] = %{marker.color}<extra></extra>",
         "marker": {
          "color": [
           "rgb(255,255,217)",
           "rgb(237,248,177)",
           "rgb(199,233,180)",
           "rgb(127,205,187)",
           "rgb(65,182,196)",
           "rgb(29,145,192)",
           "rgb(34,94,168)",
           "rgb(37,52,148)",
           "rgb(8,29,88)"
          ]
         },
         "orientation": "h",
         "type": "bar",
         "x": [
          1,
          1,
          1,
          1,
          1,
          1,
          1,
          1,
          1
         ],
         "y": [
          "YlGnBu",
          "YlGnBu",
          "YlGnBu",
          "YlGnBu",
          "YlGnBu",
          "YlGnBu",
          "YlGnBu",
          "YlGnBu",
          "YlGnBu"
         ]
        },
        {
         "customdata": [
          0,
          1,
          2,
          3,
          4,
          5,
          6,
          7,
          8
         ],
         "hovertemplate": "%{y}[%{customdata}] = %{marker.color}<extra></extra>",
         "marker": {
          "color": [
           "rgb(255,255,229)",
           "rgb(247,252,185)",
           "rgb(217,240,163)",
           "rgb(173,221,142)",
           "rgb(120,198,121)",
           "rgb(65,171,93)",
           "rgb(35,132,67)",
           "rgb(0,104,55)",
           "rgb(0,69,41)"
          ]
         },
         "orientation": "h",
         "type": "bar",
         "x": [
          1,
          1,
          1,
          1,
          1,
          1,
          1,
          1,
          1
         ],
         "y": [
          "YlGn",
          "YlGn",
          "YlGn",
          "YlGn",
          "YlGn",
          "YlGn",
          "YlGn",
          "YlGn",
          "YlGn"
         ]
        },
        {
         "customdata": [
          0,
          1,
          2,
          3,
          4,
          5,
          6,
          7,
          8
         ],
         "hovertemplate": "%{y}[%{customdata}] = %{marker.color}<extra></extra>",
         "marker": {
          "color": [
           "rgb(255,245,240)",
           "rgb(254,224,210)",
           "rgb(252,187,161)",
           "rgb(252,146,114)",
           "rgb(251,106,74)",
           "rgb(239,59,44)",
           "rgb(203,24,29)",
           "rgb(165,15,21)",
           "rgb(103,0,13)"
          ]
         },
         "orientation": "h",
         "type": "bar",
         "x": [
          1,
          1,
          1,
          1,
          1,
          1,
          1,
          1,
          1
         ],
         "y": [
          "Reds",
          "Reds",
          "Reds",
          "Reds",
          "Reds",
          "Reds",
          "Reds",
          "Reds",
          "Reds"
         ]
        },
        {
         "customdata": [
          0,
          1,
          2,
          3,
          4,
          5,
          6,
          7,
          8
         ],
         "hovertemplate": "%{y}[%{customdata}] = %{marker.color}<extra></extra>",
         "marker": {
          "color": [
           "rgb(255,247,243)",
           "rgb(253,224,221)",
           "rgb(252,197,192)",
           "rgb(250,159,181)",
           "rgb(247,104,161)",
           "rgb(221,52,151)",
           "rgb(174,1,126)",
           "rgb(122,1,119)",
           "rgb(73,0,106)"
          ]
         },
         "orientation": "h",
         "type": "bar",
         "x": [
          1,
          1,
          1,
          1,
          1,
          1,
          1,
          1,
          1
         ],
         "y": [
          "RdPu",
          "RdPu",
          "RdPu",
          "RdPu",
          "RdPu",
          "RdPu",
          "RdPu",
          "RdPu",
          "RdPu"
         ]
        },
        {
         "customdata": [
          0,
          1,
          2,
          3,
          4,
          5,
          6,
          7,
          8,
          9,
          10
         ],
         "hovertemplate": "%{y}[%{customdata}] = %{marker.color}<extra></extra>",
         "marker": {
          "color": [
           "rgb(103,0,31)",
           "rgb(178,24,43)",
           "rgb(214,96,77)",
           "rgb(244,165,130)",
           "rgb(253,219,199)",
           "rgb(247,247,247)",
           "rgb(209,229,240)",
           "rgb(146,197,222)",
           "rgb(67,147,195)",
           "rgb(33,102,172)",
           "rgb(5,48,97)"
          ]
         },
         "orientation": "h",
         "type": "bar",
         "x": [
          1,
          1,
          1,
          1,
          1,
          1,
          1,
          1,
          1,
          1,
          1
         ],
         "y": [
          "RdBu",
          "RdBu",
          "RdBu",
          "RdBu",
          "RdBu",
          "RdBu",
          "RdBu",
          "RdBu",
          "RdBu",
          "RdBu",
          "RdBu"
         ]
        },
        {
         "customdata": [
          0,
          1,
          2,
          3,
          4,
          5,
          6,
          7,
          8
         ],
         "hovertemplate": "%{y}[%{customdata}] = %{marker.color}<extra></extra>",
         "marker": {
          "color": [
           "rgb(252,251,253)",
           "rgb(239,237,245)",
           "rgb(218,218,235)",
           "rgb(188,189,220)",
           "rgb(158,154,200)",
           "rgb(128,125,186)",
           "rgb(106,81,163)",
           "rgb(84,39,143)",
           "rgb(63,0,125)"
          ]
         },
         "orientation": "h",
         "type": "bar",
         "x": [
          1,
          1,
          1,
          1,
          1,
          1,
          1,
          1,
          1
         ],
         "y": [
          "Purples",
          "Purples",
          "Purples",
          "Purples",
          "Purples",
          "Purples",
          "Purples",
          "Purples",
          "Purples"
         ]
        },
        {
         "customdata": [
          0,
          1,
          2,
          3,
          4,
          5,
          6,
          7,
          8
         ],
         "hovertemplate": "%{y}[%{customdata}] = %{marker.color}<extra></extra>",
         "marker": {
          "color": [
           "rgb(247,244,249)",
           "rgb(231,225,239)",
           "rgb(212,185,218)",
           "rgb(201,148,199)",
           "rgb(223,101,176)",
           "rgb(231,41,138)",
           "rgb(206,18,86)",
           "rgb(152,0,67)",
           "rgb(103,0,31)"
          ]
         },
         "orientation": "h",
         "type": "bar",
         "x": [
          1,
          1,
          1,
          1,
          1,
          1,
          1,
          1,
          1
         ],
         "y": [
          "PuRd",
          "PuRd",
          "PuRd",
          "PuRd",
          "PuRd",
          "PuRd",
          "PuRd",
          "PuRd",
          "PuRd"
         ]
        },
        {
         "customdata": [
          0,
          1,
          2,
          3,
          4,
          5,
          6,
          7,
          8
         ],
         "hovertemplate": "%{y}[%{customdata}] = %{marker.color}<extra></extra>",
         "marker": {
          "color": [
           "rgb(255,247,251)",
           "rgb(236,226,240)",
           "rgb(208,209,230)",
           "rgb(166,189,219)",
           "rgb(103,169,207)",
           "rgb(54,144,192)",
           "rgb(2,129,138)",
           "rgb(1,108,89)",
           "rgb(1,70,54)"
          ]
         },
         "orientation": "h",
         "type": "bar",
         "x": [
          1,
          1,
          1,
          1,
          1,
          1,
          1,
          1,
          1
         ],
         "y": [
          "PuBuGn",
          "PuBuGn",
          "PuBuGn",
          "PuBuGn",
          "PuBuGn",
          "PuBuGn",
          "PuBuGn",
          "PuBuGn",
          "PuBuGn"
         ]
        },
        {
         "customdata": [
          0,
          1,
          2,
          3,
          4,
          5,
          6,
          7,
          8
         ],
         "hovertemplate": "%{y}[%{customdata}] = %{marker.color}<extra></extra>",
         "marker": {
          "color": [
           "rgb(255,247,251)",
           "rgb(236,231,242)",
           "rgb(208,209,230)",
           "rgb(166,189,219)",
           "rgb(116,169,207)",
           "rgb(54,144,192)",
           "rgb(5,112,176)",
           "rgb(4,90,141)",
           "rgb(2,56,88)"
          ]
         },
         "orientation": "h",
         "type": "bar",
         "x": [
          1,
          1,
          1,
          1,
          1,
          1,
          1,
          1,
          1
         ],
         "y": [
          "PuBu",
          "PuBu",
          "PuBu",
          "PuBu",
          "PuBu",
          "PuBu",
          "PuBu",
          "PuBu",
          "PuBu"
         ]
        },
        {
         "customdata": [
          0,
          1,
          2,
          3,
          4,
          5,
          6,
          7,
          8
         ],
         "hovertemplate": "%{y}[%{customdata}] = %{marker.color}<extra></extra>",
         "marker": {
          "color": [
           "rgb(255,245,235)",
           "rgb(254,230,206)",
           "rgb(253,208,162)",
           "rgb(253,174,107)",
           "rgb(253,141,60)",
           "rgb(241,105,19)",
           "rgb(217,72,1)",
           "rgb(166,54,3)",
           "rgb(127,39,4)"
          ]
         },
         "orientation": "h",
         "type": "bar",
         "x": [
          1,
          1,
          1,
          1,
          1,
          1,
          1,
          1,
          1
         ],
         "y": [
          "Oranges",
          "Oranges",
          "Oranges",
          "Oranges",
          "Oranges",
          "Oranges",
          "Oranges",
          "Oranges",
          "Oranges"
         ]
        },
        {
         "customdata": [
          0,
          1,
          2,
          3,
          4,
          5,
          6,
          7,
          8
         ],
         "hovertemplate": "%{y}[%{customdata}] = %{marker.color}<extra></extra>",
         "marker": {
          "color": [
           "rgb(255,247,236)",
           "rgb(254,232,200)",
           "rgb(253,212,158)",
           "rgb(253,187,132)",
           "rgb(252,141,89)",
           "rgb(239,101,72)",
           "rgb(215,48,31)",
           "rgb(179,0,0)",
           "rgb(127,0,0)"
          ]
         },
         "orientation": "h",
         "type": "bar",
         "x": [
          1,
          1,
          1,
          1,
          1,
          1,
          1,
          1,
          1
         ],
         "y": [
          "OrRd",
          "OrRd",
          "OrRd",
          "OrRd",
          "OrRd",
          "OrRd",
          "OrRd",
          "OrRd",
          "OrRd"
         ]
        },
        {
         "customdata": [
          0,
          1,
          2,
          3,
          4,
          5,
          6,
          7,
          8
         ],
         "hovertemplate": "%{y}[%{customdata}] = %{marker.color}<extra></extra>",
         "marker": {
          "color": [
           "rgb(255,255,255)",
           "rgb(240,240,240)",
           "rgb(217,217,217)",
           "rgb(189,189,189)",
           "rgb(150,150,150)",
           "rgb(115,115,115)",
           "rgb(82,82,82)",
           "rgb(37,37,37)",
           "rgb(0,0,0)"
          ]
         },
         "orientation": "h",
         "type": "bar",
         "x": [
          1,
          1,
          1,
          1,
          1,
          1,
          1,
          1,
          1
         ],
         "y": [
          "Greys",
          "Greys",
          "Greys",
          "Greys",
          "Greys",
          "Greys",
          "Greys",
          "Greys",
          "Greys"
         ]
        },
        {
         "customdata": [
          0,
          1,
          2,
          3,
          4,
          5,
          6,
          7,
          8
         ],
         "hovertemplate": "%{y}[%{customdata}] = %{marker.color}<extra></extra>",
         "marker": {
          "color": [
           "rgb(247,252,245)",
           "rgb(229,245,224)",
           "rgb(199,233,192)",
           "rgb(161,217,155)",
           "rgb(116,196,118)",
           "rgb(65,171,93)",
           "rgb(35,139,69)",
           "rgb(0,109,44)",
           "rgb(0,68,27)"
          ]
         },
         "orientation": "h",
         "type": "bar",
         "x": [
          1,
          1,
          1,
          1,
          1,
          1,
          1,
          1,
          1
         ],
         "y": [
          "Greens",
          "Greens",
          "Greens",
          "Greens",
          "Greens",
          "Greens",
          "Greens",
          "Greens",
          "Greens"
         ]
        },
        {
         "customdata": [
          0,
          1,
          2,
          3,
          4,
          5,
          6,
          7,
          8
         ],
         "hovertemplate": "%{y}[%{customdata}] = %{marker.color}<extra></extra>",
         "marker": {
          "color": [
           "rgb(247,252,240)",
           "rgb(224,243,219)",
           "rgb(204,235,197)",
           "rgb(168,221,181)",
           "rgb(123,204,196)",
           "rgb(78,179,211)",
           "rgb(43,140,190)",
           "rgb(8,104,172)",
           "rgb(8,64,129)"
          ]
         },
         "orientation": "h",
         "type": "bar",
         "x": [
          1,
          1,
          1,
          1,
          1,
          1,
          1,
          1,
          1
         ],
         "y": [
          "GnBu",
          "GnBu",
          "GnBu",
          "GnBu",
          "GnBu",
          "GnBu",
          "GnBu",
          "GnBu",
          "GnBu"
         ]
        },
        {
         "customdata": [
          0,
          1,
          2,
          3,
          4,
          5,
          6,
          7,
          8
         ],
         "hovertemplate": "%{y}[%{customdata}] = %{marker.color}<extra></extra>",
         "marker": {
          "color": [
           "rgb(247,252,253)",
           "rgb(224,236,244)",
           "rgb(191,211,230)",
           "rgb(158,188,218)",
           "rgb(140,150,198)",
           "rgb(140,107,177)",
           "rgb(136,65,157)",
           "rgb(129,15,124)",
           "rgb(77,0,75)"
          ]
         },
         "orientation": "h",
         "type": "bar",
         "x": [
          1,
          1,
          1,
          1,
          1,
          1,
          1,
          1,
          1
         ],
         "y": [
          "BuPu",
          "BuPu",
          "BuPu",
          "BuPu",
          "BuPu",
          "BuPu",
          "BuPu",
          "BuPu",
          "BuPu"
         ]
        },
        {
         "customdata": [
          0,
          1,
          2,
          3,
          4,
          5,
          6,
          7,
          8
         ],
         "hovertemplate": "%{y}[%{customdata}] = %{marker.color}<extra></extra>",
         "marker": {
          "color": [
           "rgb(247,252,253)",
           "rgb(229,245,249)",
           "rgb(204,236,230)",
           "rgb(153,216,201)",
           "rgb(102,194,164)",
           "rgb(65,174,118)",
           "rgb(35,139,69)",
           "rgb(0,109,44)",
           "rgb(0,68,27)"
          ]
         },
         "orientation": "h",
         "type": "bar",
         "x": [
          1,
          1,
          1,
          1,
          1,
          1,
          1,
          1,
          1
         ],
         "y": [
          "BuGn",
          "BuGn",
          "BuGn",
          "BuGn",
          "BuGn",
          "BuGn",
          "BuGn",
          "BuGn",
          "BuGn"
         ]
        },
        {
         "customdata": [
          0,
          1,
          2,
          3,
          4,
          5,
          6,
          7,
          8
         ],
         "hovertemplate": "%{y}[%{customdata}] = %{marker.color}<extra></extra>",
         "marker": {
          "color": [
           "rgb(247,251,255)",
           "rgb(222,235,247)",
           "rgb(198,219,239)",
           "rgb(158,202,225)",
           "rgb(107,174,214)",
           "rgb(66,146,198)",
           "rgb(33,113,181)",
           "rgb(8,81,156)",
           "rgb(8,48,107)"
          ]
         },
         "orientation": "h",
         "type": "bar",
         "x": [
          1,
          1,
          1,
          1,
          1,
          1,
          1,
          1,
          1
         ],
         "y": [
          "Blues",
          "Blues",
          "Blues",
          "Blues",
          "Blues",
          "Blues",
          "Blues",
          "Blues",
          "Blues"
         ]
        },
        {
         "customdata": [
          0,
          1,
          2,
          3,
          4,
          5,
          6,
          7,
          8
         ],
         "hovertemplate": "%{y}[%{customdata}] = %{marker.color}<extra></extra>",
         "marker": {
          "color": [
           "rgb(150,0,90)",
           "rgb(0,0,200)",
           "rgb(0,25,255)",
           "rgb(0,152,255)",
           "rgb(44,255,150)",
           "rgb(151,255,0)",
           "rgb(255,234,0)",
           "rgb(255,111,0)",
           "rgb(255,0,0)"
          ]
         },
         "orientation": "h",
         "type": "bar",
         "x": [
          1,
          1,
          1,
          1,
          1,
          1,
          1,
          1,
          1
         ],
         "y": [
          "Rainbow",
          "Rainbow",
          "Rainbow",
          "Rainbow",
          "Rainbow",
          "Rainbow",
          "Rainbow",
          "Rainbow",
          "Rainbow"
         ]
        },
        {
         "customdata": [
          0,
          1,
          2,
          3,
          4,
          5
         ],
         "hovertemplate": "%{y}[%{customdata}] = %{marker.color}<extra></extra>",
         "marker": {
          "color": [
           "rgb(0,0,131)",
           "rgb(0,60,170)",
           "rgb(5,255,255)",
           "rgb(255,255,0)",
           "rgb(250,0,0)",
           "rgb(128,0,0)"
          ]
         },
         "orientation": "h",
         "type": "bar",
         "x": [
          1,
          1,
          1,
          1,
          1,
          1
         ],
         "y": [
          "Jet",
          "Jet",
          "Jet",
          "Jet",
          "Jet",
          "Jet"
         ]
        },
        {
         "customdata": [
          0,
          1,
          2,
          3
         ],
         "hovertemplate": "%{y}[%{customdata}] = %{marker.color}<extra></extra>",
         "marker": {
          "color": [
           "rgb(0,0,0)",
           "rgb(230,0,0)",
           "rgb(255,210,0)",
           "rgb(255,255,255)"
          ]
         },
         "orientation": "h",
         "type": "bar",
         "x": [
          1,
          1,
          1,
          1
         ],
         "y": [
          "Hot",
          "Hot",
          "Hot",
          "Hot"
         ]
        },
        {
         "customdata": [
          0,
          1,
          2,
          3,
          4,
          5
         ],
         "hovertemplate": "%{y}[%{customdata}] = %{marker.color}<extra></extra>",
         "marker": {
          "color": [
           "rgb(0,0,0)",
           "rgb(30,0,100)",
           "rgb(120,0,100)",
           "rgb(160,90,0)",
           "rgb(230,200,0)",
           "rgb(255,250,220)"
          ]
         },
         "orientation": "h",
         "type": "bar",
         "x": [
          1,
          1,
          1,
          1,
          1,
          1
         ],
         "y": [
          "Electric",
          "Electric",
          "Electric",
          "Electric",
          "Electric",
          "Electric"
         ]
        },
        {
         "customdata": [
          0,
          1
         ],
         "hovertemplate": "%{y}[%{customdata}] = %{marker.color}<extra></extra>",
         "marker": {
          "color": [
           "rgb(0,0,255)",
           "rgb(255,0,0)"
          ]
         },
         "orientation": "h",
         "type": "bar",
         "x": [
          1,
          1
         ],
         "y": [
          "Bluered",
          "Bluered"
         ]
        },
        {
         "customdata": [
          0,
          1,
          2,
          3,
          4
         ],
         "hovertemplate": "%{y}[%{customdata}] = %{marker.color}<extra></extra>",
         "marker": {
          "color": [
           "rgb(0,0,0)",
           "rgb(230,0,0)",
           "rgb(230,210,0)",
           "rgb(255,255,255)",
           "rgb(160,200,255)"
          ]
         },
         "orientation": "h",
         "type": "bar",
         "x": [
          1,
          1,
          1,
          1,
          1
         ],
         "y": [
          "Blackbody",
          "Blackbody",
          "Blackbody",
          "Blackbody",
          "Blackbody"
         ]
        },
        {
         "customdata": [
          0,
          1,
          2,
          3,
          4,
          5,
          6,
          7,
          8,
          9,
          10,
          11,
          12,
          13,
          14
         ],
         "hovertemplate": "%{y}[%{customdata}] = %{marker.color}<extra></extra>",
         "marker": {
          "color": [
           "#30123b",
           "#4145ab",
           "#4675ed",
           "#39a2fc",
           "#1bcfd4",
           "#24eca6",
           "#61fc6c",
           "#a4fc3b",
           "#d1e834",
           "#f3c63a",
           "#fe9b2d",
           "#f36315",
           "#d93806",
           "#b11901",
           "#7a0402"
          ]
         },
         "orientation": "h",
         "type": "bar",
         "x": [
          1,
          1,
          1,
          1,
          1,
          1,
          1,
          1,
          1,
          1,
          1,
          1,
          1,
          1,
          1
         ],
         "y": [
          "Turbo",
          "Turbo",
          "Turbo",
          "Turbo",
          "Turbo",
          "Turbo",
          "Turbo",
          "Turbo",
          "Turbo",
          "Turbo",
          "Turbo",
          "Turbo",
          "Turbo",
          "Turbo",
          "Turbo"
         ]
        },
        {
         "customdata": [
          0,
          1,
          2,
          3,
          4,
          5,
          6,
          7,
          8,
          9
         ],
         "hovertemplate": "%{y}[%{customdata}] = %{marker.color}<extra></extra>",
         "marker": {
          "color": [
           "#0d0887",
           "#46039f",
           "#7201a8",
           "#9c179e",
           "#bd3786",
           "#d8576b",
           "#ed7953",
           "#fb9f3a",
           "#fdca26",
           "#f0f921"
          ]
         },
         "orientation": "h",
         "type": "bar",
         "x": [
          1,
          1,
          1,
          1,
          1,
          1,
          1,
          1,
          1,
          1
         ],
         "y": [
          "Plasma",
          "Plasma",
          "Plasma",
          "Plasma",
          "Plasma",
          "Plasma",
          "Plasma",
          "Plasma",
          "Plasma",
          "Plasma"
         ]
        },
        {
         "customdata": [
          0,
          1,
          2,
          3,
          4,
          5,
          6,
          7,
          8,
          9
         ],
         "hovertemplate": "%{y}[%{customdata}] = %{marker.color}<extra></extra>",
         "marker": {
          "color": [
           "#000004",
           "#180f3d",
           "#440f76",
           "#721f81",
           "#9e2f7f",
           "#cd4071",
           "#f1605d",
           "#fd9668",
           "#feca8d",
           "#fcfdbf"
          ]
         },
         "orientation": "h",
         "type": "bar",
         "x": [
          1,
          1,
          1,
          1,
          1,
          1,
          1,
          1,
          1,
          1
         ],
         "y": [
          "Magma",
          "Magma",
          "Magma",
          "Magma",
          "Magma",
          "Magma",
          "Magma",
          "Magma",
          "Magma",
          "Magma"
         ]
        },
        {
         "customdata": [
          0,
          1,
          2,
          3,
          4,
          5,
          6,
          7,
          8,
          9
         ],
         "hovertemplate": "%{y}[%{customdata}] = %{marker.color}<extra></extra>",
         "marker": {
          "color": [
           "#000004",
           "#1b0c41",
           "#4a0c6b",
           "#781c6d",
           "#a52c60",
           "#cf4446",
           "#ed6925",
           "#fb9b06",
           "#f7d13d",
           "#fcffa4"
          ]
         },
         "orientation": "h",
         "type": "bar",
         "x": [
          1,
          1,
          1,
          1,
          1,
          1,
          1,
          1,
          1,
          1
         ],
         "y": [
          "Inferno",
          "Inferno",
          "Inferno",
          "Inferno",
          "Inferno",
          "Inferno",
          "Inferno",
          "Inferno",
          "Inferno",
          "Inferno"
         ]
        },
        {
         "customdata": [
          0,
          1,
          2,
          3,
          4,
          5,
          6,
          7,
          8,
          9
         ],
         "hovertemplate": "%{y}[%{customdata}] = %{marker.color}<extra></extra>",
         "marker": {
          "color": [
           "#00224e",
           "#123570",
           "#3b496c",
           "#575d6d",
           "#707173",
           "#8a8678",
           "#a59c74",
           "#c3b369",
           "#e1cc55",
           "#fee838"
          ]
         },
         "orientation": "h",
         "type": "bar",
         "x": [
          1,
          1,
          1,
          1,
          1,
          1,
          1,
          1,
          1,
          1
         ],
         "y": [
          "Cividis",
          "Cividis",
          "Cividis",
          "Cividis",
          "Cividis",
          "Cividis",
          "Cividis",
          "Cividis",
          "Cividis",
          "Cividis"
         ]
        },
        {
         "customdata": [
          0,
          1,
          2,
          3,
          4,
          5,
          6,
          7,
          8,
          9
         ],
         "hovertemplate": "%{y}[%{customdata}] = %{marker.color}<extra></extra>",
         "marker": {
          "color": [
           "#440154",
           "#482878",
           "#3e4989",
           "#31688e",
           "#26828e",
           "#1f9e89",
           "#35b779",
           "#6ece58",
           "#b5de2b",
           "#fde725"
          ]
         },
         "orientation": "h",
         "type": "bar",
         "x": [
          1,
          1,
          1,
          1,
          1,
          1,
          1,
          1,
          1,
          1
         ],
         "y": [
          "Viridis",
          "Viridis",
          "Viridis",
          "Viridis",
          "Viridis",
          "Viridis",
          "Viridis",
          "Viridis",
          "Viridis",
          "Viridis"
         ]
        },
        {
         "customdata": [
          0,
          1,
          2,
          3,
          4,
          5,
          6,
          7,
          8,
          9,
          10,
          11,
          12
         ],
         "hovertemplate": "%{y}[%{customdata}] = %{marker.color}<extra></extra>",
         "marker": {
          "color": [
           "#0508b8",
           "#1910d8",
           "#3c19f0",
           "#6b1cfb",
           "#981cfd",
           "#bf1cfd",
           "#dd2bfd",
           "#f246fe",
           "#fc67fd",
           "#fe88fc",
           "#fea5fd",
           "#febefe",
           "#fec3fe"
          ]
         },
         "orientation": "h",
         "type": "bar",
         "x": [
          1,
          1,
          1,
          1,
          1,
          1,
          1,
          1,
          1,
          1,
          1,
          1,
          1
         ],
         "y": [
          "Plotly3",
          "Plotly3",
          "Plotly3",
          "Plotly3",
          "Plotly3",
          "Plotly3",
          "Plotly3",
          "Plotly3",
          "Plotly3",
          "Plotly3",
          "Plotly3",
          "Plotly3",
          "Plotly3"
         ]
        }
       ],
       "layout": {
        "bargap": 0.5,
        "barmode": "stack",
        "barnorm": "fraction",
        "height": 2640,
        "margin": {
         "b": 10
        },
        "showlegend": false,
        "template": {
         "data": {
          "bar": [
           {
            "error_x": {
             "color": "#2a3f5f"
            },
            "error_y": {
             "color": "#2a3f5f"
            },
            "marker": {
             "line": {
              "color": "#E5ECF6",
              "width": 0.5
             },
             "pattern": {
              "fillmode": "overlay",
              "size": 10,
              "solidity": 0.2
             }
            },
            "type": "bar"
           }
          ],
          "barpolar": [
           {
            "marker": {
             "line": {
              "color": "#E5ECF6",
              "width": 0.5
             },
             "pattern": {
              "fillmode": "overlay",
              "size": 10,
              "solidity": 0.2
             }
            },
            "type": "barpolar"
           }
          ],
          "carpet": [
           {
            "aaxis": {
             "endlinecolor": "#2a3f5f",
             "gridcolor": "white",
             "linecolor": "white",
             "minorgridcolor": "white",
             "startlinecolor": "#2a3f5f"
            },
            "baxis": {
             "endlinecolor": "#2a3f5f",
             "gridcolor": "white",
             "linecolor": "white",
             "minorgridcolor": "white",
             "startlinecolor": "#2a3f5f"
            },
            "type": "carpet"
           }
          ],
          "choropleth": [
           {
            "colorbar": {
             "outlinewidth": 0,
             "ticks": ""
            },
            "type": "choropleth"
           }
          ],
          "contour": [
           {
            "colorbar": {
             "outlinewidth": 0,
             "ticks": ""
            },
            "colorscale": [
             [
              0,
              "#0d0887"
             ],
             [
              0.1111111111111111,
              "#46039f"
             ],
             [
              0.2222222222222222,
              "#7201a8"
             ],
             [
              0.3333333333333333,
              "#9c179e"
             ],
             [
              0.4444444444444444,
              "#bd3786"
             ],
             [
              0.5555555555555556,
              "#d8576b"
             ],
             [
              0.6666666666666666,
              "#ed7953"
             ],
             [
              0.7777777777777778,
              "#fb9f3a"
             ],
             [
              0.8888888888888888,
              "#fdca26"
             ],
             [
              1,
              "#f0f921"
             ]
            ],
            "type": "contour"
           }
          ],
          "contourcarpet": [
           {
            "colorbar": {
             "outlinewidth": 0,
             "ticks": ""
            },
            "type": "contourcarpet"
           }
          ],
          "heatmap": [
           {
            "colorbar": {
             "outlinewidth": 0,
             "ticks": ""
            },
            "colorscale": [
             [
              0,
              "#0d0887"
             ],
             [
              0.1111111111111111,
              "#46039f"
             ],
             [
              0.2222222222222222,
              "#7201a8"
             ],
             [
              0.3333333333333333,
              "#9c179e"
             ],
             [
              0.4444444444444444,
              "#bd3786"
             ],
             [
              0.5555555555555556,
              "#d8576b"
             ],
             [
              0.6666666666666666,
              "#ed7953"
             ],
             [
              0.7777777777777778,
              "#fb9f3a"
             ],
             [
              0.8888888888888888,
              "#fdca26"
             ],
             [
              1,
              "#f0f921"
             ]
            ],
            "type": "heatmap"
           }
          ],
          "heatmapgl": [
           {
            "colorbar": {
             "outlinewidth": 0,
             "ticks": ""
            },
            "colorscale": [
             [
              0,
              "#0d0887"
             ],
             [
              0.1111111111111111,
              "#46039f"
             ],
             [
              0.2222222222222222,
              "#7201a8"
             ],
             [
              0.3333333333333333,
              "#9c179e"
             ],
             [
              0.4444444444444444,
              "#bd3786"
             ],
             [
              0.5555555555555556,
              "#d8576b"
             ],
             [
              0.6666666666666666,
              "#ed7953"
             ],
             [
              0.7777777777777778,
              "#fb9f3a"
             ],
             [
              0.8888888888888888,
              "#fdca26"
             ],
             [
              1,
              "#f0f921"
             ]
            ],
            "type": "heatmapgl"
           }
          ],
          "histogram": [
           {
            "marker": {
             "pattern": {
              "fillmode": "overlay",
              "size": 10,
              "solidity": 0.2
             }
            },
            "type": "histogram"
           }
          ],
          "histogram2d": [
           {
            "colorbar": {
             "outlinewidth": 0,
             "ticks": ""
            },
            "colorscale": [
             [
              0,
              "#0d0887"
             ],
             [
              0.1111111111111111,
              "#46039f"
             ],
             [
              0.2222222222222222,
              "#7201a8"
             ],
             [
              0.3333333333333333,
              "#9c179e"
             ],
             [
              0.4444444444444444,
              "#bd3786"
             ],
             [
              0.5555555555555556,
              "#d8576b"
             ],
             [
              0.6666666666666666,
              "#ed7953"
             ],
             [
              0.7777777777777778,
              "#fb9f3a"
             ],
             [
              0.8888888888888888,
              "#fdca26"
             ],
             [
              1,
              "#f0f921"
             ]
            ],
            "type": "histogram2d"
           }
          ],
          "histogram2dcontour": [
           {
            "colorbar": {
             "outlinewidth": 0,
             "ticks": ""
            },
            "colorscale": [
             [
              0,
              "#0d0887"
             ],
             [
              0.1111111111111111,
              "#46039f"
             ],
             [
              0.2222222222222222,
              "#7201a8"
             ],
             [
              0.3333333333333333,
              "#9c179e"
             ],
             [
              0.4444444444444444,
              "#bd3786"
             ],
             [
              0.5555555555555556,
              "#d8576b"
             ],
             [
              0.6666666666666666,
              "#ed7953"
             ],
             [
              0.7777777777777778,
              "#fb9f3a"
             ],
             [
              0.8888888888888888,
              "#fdca26"
             ],
             [
              1,
              "#f0f921"
             ]
            ],
            "type": "histogram2dcontour"
           }
          ],
          "mesh3d": [
           {
            "colorbar": {
             "outlinewidth": 0,
             "ticks": ""
            },
            "type": "mesh3d"
           }
          ],
          "parcoords": [
           {
            "line": {
             "colorbar": {
              "outlinewidth": 0,
              "ticks": ""
             }
            },
            "type": "parcoords"
           }
          ],
          "pie": [
           {
            "automargin": true,
            "type": "pie"
           }
          ],
          "scatter": [
           {
            "fillpattern": {
             "fillmode": "overlay",
             "size": 10,
             "solidity": 0.2
            },
            "type": "scatter"
           }
          ],
          "scatter3d": [
           {
            "line": {
             "colorbar": {
              "outlinewidth": 0,
              "ticks": ""
             }
            },
            "marker": {
             "colorbar": {
              "outlinewidth": 0,
              "ticks": ""
             }
            },
            "type": "scatter3d"
           }
          ],
          "scattercarpet": [
           {
            "marker": {
             "colorbar": {
              "outlinewidth": 0,
              "ticks": ""
             }
            },
            "type": "scattercarpet"
           }
          ],
          "scattergeo": [
           {
            "marker": {
             "colorbar": {
              "outlinewidth": 0,
              "ticks": ""
             }
            },
            "type": "scattergeo"
           }
          ],
          "scattergl": [
           {
            "marker": {
             "colorbar": {
              "outlinewidth": 0,
              "ticks": ""
             }
            },
            "type": "scattergl"
           }
          ],
          "scattermapbox": [
           {
            "marker": {
             "colorbar": {
              "outlinewidth": 0,
              "ticks": ""
             }
            },
            "type": "scattermapbox"
           }
          ],
          "scatterpolar": [
           {
            "marker": {
             "colorbar": {
              "outlinewidth": 0,
              "ticks": ""
             }
            },
            "type": "scatterpolar"
           }
          ],
          "scatterpolargl": [
           {
            "marker": {
             "colorbar": {
              "outlinewidth": 0,
              "ticks": ""
             }
            },
            "type": "scatterpolargl"
           }
          ],
          "scatterternary": [
           {
            "marker": {
             "colorbar": {
              "outlinewidth": 0,
              "ticks": ""
             }
            },
            "type": "scatterternary"
           }
          ],
          "surface": [
           {
            "colorbar": {
             "outlinewidth": 0,
             "ticks": ""
            },
            "colorscale": [
             [
              0,
              "#0d0887"
             ],
             [
              0.1111111111111111,
              "#46039f"
             ],
             [
              0.2222222222222222,
              "#7201a8"
             ],
             [
              0.3333333333333333,
              "#9c179e"
             ],
             [
              0.4444444444444444,
              "#bd3786"
             ],
             [
              0.5555555555555556,
              "#d8576b"
             ],
             [
              0.6666666666666666,
              "#ed7953"
             ],
             [
              0.7777777777777778,
              "#fb9f3a"
             ],
             [
              0.8888888888888888,
              "#fdca26"
             ],
             [
              1,
              "#f0f921"
             ]
            ],
            "type": "surface"
           }
          ],
          "table": [
           {
            "cells": {
             "fill": {
              "color": "#EBF0F8"
             },
             "line": {
              "color": "white"
             }
            },
            "header": {
             "fill": {
              "color": "#C8D4E3"
             },
             "line": {
              "color": "white"
             }
            },
            "type": "table"
           }
          ]
         },
         "layout": {
          "annotationdefaults": {
           "arrowcolor": "#2a3f5f",
           "arrowhead": 0,
           "arrowwidth": 1
          },
          "autotypenumbers": "strict",
          "coloraxis": {
           "colorbar": {
            "outlinewidth": 0,
            "ticks": ""
           }
          },
          "colorscale": {
           "diverging": [
            [
             0,
             "#8e0152"
            ],
            [
             0.1,
             "#c51b7d"
            ],
            [
             0.2,
             "#de77ae"
            ],
            [
             0.3,
             "#f1b6da"
            ],
            [
             0.4,
             "#fde0ef"
            ],
            [
             0.5,
             "#f7f7f7"
            ],
            [
             0.6,
             "#e6f5d0"
            ],
            [
             0.7,
             "#b8e186"
            ],
            [
             0.8,
             "#7fbc41"
            ],
            [
             0.9,
             "#4d9221"
            ],
            [
             1,
             "#276419"
            ]
           ],
           "sequential": [
            [
             0,
             "#0d0887"
            ],
            [
             0.1111111111111111,
             "#46039f"
            ],
            [
             0.2222222222222222,
             "#7201a8"
            ],
            [
             0.3333333333333333,
             "#9c179e"
            ],
            [
             0.4444444444444444,
             "#bd3786"
            ],
            [
             0.5555555555555556,
             "#d8576b"
            ],
            [
             0.6666666666666666,
             "#ed7953"
            ],
            [
             0.7777777777777778,
             "#fb9f3a"
            ],
            [
             0.8888888888888888,
             "#fdca26"
            ],
            [
             1,
             "#f0f921"
            ]
           ],
           "sequentialminus": [
            [
             0,
             "#0d0887"
            ],
            [
             0.1111111111111111,
             "#46039f"
            ],
            [
             0.2222222222222222,
             "#7201a8"
            ],
            [
             0.3333333333333333,
             "#9c179e"
            ],
            [
             0.4444444444444444,
             "#bd3786"
            ],
            [
             0.5555555555555556,
             "#d8576b"
            ],
            [
             0.6666666666666666,
             "#ed7953"
            ],
            [
             0.7777777777777778,
             "#fb9f3a"
            ],
            [
             0.8888888888888888,
             "#fdca26"
            ],
            [
             1,
             "#f0f921"
            ]
           ]
          },
          "colorway": [
           "#636efa",
           "#EF553B",
           "#00cc96",
           "#ab63fa",
           "#FFA15A",
           "#19d3f3",
           "#FF6692",
           "#B6E880",
           "#FF97FF",
           "#FECB52"
          ],
          "font": {
           "color": "#2a3f5f"
          },
          "geo": {
           "bgcolor": "white",
           "lakecolor": "white",
           "landcolor": "#E5ECF6",
           "showlakes": true,
           "showland": true,
           "subunitcolor": "white"
          },
          "hoverlabel": {
           "align": "left"
          },
          "hovermode": "closest",
          "mapbox": {
           "style": "light"
          },
          "paper_bgcolor": "white",
          "plot_bgcolor": "#E5ECF6",
          "polar": {
           "angularaxis": {
            "gridcolor": "white",
            "linecolor": "white",
            "ticks": ""
           },
           "bgcolor": "#E5ECF6",
           "radialaxis": {
            "gridcolor": "white",
            "linecolor": "white",
            "ticks": ""
           }
          },
          "scene": {
           "xaxis": {
            "backgroundcolor": "#E5ECF6",
            "gridcolor": "white",
            "gridwidth": 2,
            "linecolor": "white",
            "showbackground": true,
            "ticks": "",
            "zerolinecolor": "white"
           },
           "yaxis": {
            "backgroundcolor": "#E5ECF6",
            "gridcolor": "white",
            "gridwidth": 2,
            "linecolor": "white",
            "showbackground": true,
            "ticks": "",
            "zerolinecolor": "white"
           },
           "zaxis": {
            "backgroundcolor": "#E5ECF6",
            "gridcolor": "white",
            "gridwidth": 2,
            "linecolor": "white",
            "showbackground": true,
            "ticks": "",
            "zerolinecolor": "white"
           }
          },
          "shapedefaults": {
           "line": {
            "color": "#2a3f5f"
           }
          },
          "ternary": {
           "aaxis": {
            "gridcolor": "white",
            "linecolor": "white",
            "ticks": ""
           },
           "baxis": {
            "gridcolor": "white",
            "linecolor": "white",
            "ticks": ""
           },
           "bgcolor": "#E5ECF6",
           "caxis": {
            "gridcolor": "white",
            "linecolor": "white",
            "ticks": ""
           }
          },
          "title": {
           "x": 0.05
          },
          "xaxis": {
           "automargin": true,
           "gridcolor": "white",
           "linecolor": "white",
           "ticks": "",
           "title": {
            "standoff": 15
           },
           "zerolinecolor": "white",
           "zerolinewidth": 2
          },
          "yaxis": {
           "automargin": true,
           "gridcolor": "white",
           "linecolor": "white",
           "ticks": "",
           "title": {
            "standoff": 15
           },
           "zerolinecolor": "white",
           "zerolinewidth": 2
          }
         }
        },
        "title": {
         "text": "plotly.colors.sequential"
        },
        "xaxis": {
         "range": [
          -0.02,
          1.02
         ],
         "showgrid": false,
         "showticklabels": false
        }
       }
      }
     },
     "metadata": {},
     "output_type": "display_data"
    }
   ],
   "source": [
    "px.colors.sequential.swatches()"
   ]
  },
  {
   "cell_type": "code",
   "execution_count": 101,
   "metadata": {},
   "outputs": [
    {
     "data": {
      "application/vnd.plotly.v1+json": {
       "config": {
        "plotlyServerURL": "https://plot.ly"
       },
       "data": [
        {
         "customdata": [
          0,
          1,
          2,
          3,
          4,
          5,
          6,
          7,
          8,
          9,
          10
         ],
         "hovertemplate": "%{y}[%{customdata}] = %{marker.color}<extra></extra>",
         "marker": {
          "color": [
           "rgb(229, 134, 6)",
           "rgb(93, 105, 177)",
           "rgb(82, 188, 163)",
           "rgb(153, 201, 69)",
           "rgb(204, 97, 176)",
           "rgb(36, 121, 108)",
           "rgb(218, 165, 27)",
           "rgb(47, 138, 196)",
           "rgb(118, 78, 159)",
           "rgb(237, 100, 90)",
           "rgb(165, 170, 153)"
          ]
         },
         "orientation": "h",
         "type": "bar",
         "x": [
          1,
          1,
          1,
          1,
          1,
          1,
          1,
          1,
          1,
          1,
          1
         ],
         "y": [
          "Vivid",
          "Vivid",
          "Vivid",
          "Vivid",
          "Vivid",
          "Vivid",
          "Vivid",
          "Vivid",
          "Vivid",
          "Vivid",
          "Vivid"
         ]
        },
        {
         "customdata": [
          0,
          1,
          2,
          3,
          4,
          5,
          6,
          7,
          8,
          9,
          10
         ],
         "hovertemplate": "%{y}[%{customdata}] = %{marker.color}<extra></extra>",
         "marker": {
          "color": [
           "rgb(136, 204, 238)",
           "rgb(204, 102, 119)",
           "rgb(221, 204, 119)",
           "rgb(17, 119, 51)",
           "rgb(51, 34, 136)",
           "rgb(170, 68, 153)",
           "rgb(68, 170, 153)",
           "rgb(153, 153, 51)",
           "rgb(136, 34, 85)",
           "rgb(102, 17, 0)",
           "rgb(136, 136, 136)"
          ]
         },
         "orientation": "h",
         "type": "bar",
         "x": [
          1,
          1,
          1,
          1,
          1,
          1,
          1,
          1,
          1,
          1,
          1
         ],
         "y": [
          "Safe",
          "Safe",
          "Safe",
          "Safe",
          "Safe",
          "Safe",
          "Safe",
          "Safe",
          "Safe",
          "Safe",
          "Safe"
         ]
        },
        {
         "customdata": [
          0,
          1,
          2,
          3,
          4,
          5,
          6,
          7,
          8,
          9,
          10
         ],
         "hovertemplate": "%{y}[%{customdata}] = %{marker.color}<extra></extra>",
         "marker": {
          "color": [
           "rgb(95, 70, 144)",
           "rgb(29, 105, 150)",
           "rgb(56, 166, 165)",
           "rgb(15, 133, 84)",
           "rgb(115, 175, 72)",
           "rgb(237, 173, 8)",
           "rgb(225, 124, 5)",
           "rgb(204, 80, 62)",
           "rgb(148, 52, 110)",
           "rgb(111, 64, 112)",
           "rgb(102, 102, 102)"
          ]
         },
         "orientation": "h",
         "type": "bar",
         "x": [
          1,
          1,
          1,
          1,
          1,
          1,
          1,
          1,
          1,
          1,
          1
         ],
         "y": [
          "Prism",
          "Prism",
          "Prism",
          "Prism",
          "Prism",
          "Prism",
          "Prism",
          "Prism",
          "Prism",
          "Prism",
          "Prism"
         ]
        },
        {
         "customdata": [
          0,
          1,
          2,
          3,
          4,
          5,
          6,
          7,
          8,
          9,
          10
         ],
         "hovertemplate": "%{y}[%{customdata}] = %{marker.color}<extra></extra>",
         "marker": {
          "color": [
           "rgb(102, 197, 204)",
           "rgb(246, 207, 113)",
           "rgb(248, 156, 116)",
           "rgb(220, 176, 242)",
           "rgb(135, 197, 95)",
           "rgb(158, 185, 243)",
           "rgb(254, 136, 177)",
           "rgb(201, 219, 116)",
           "rgb(139, 224, 164)",
           "rgb(180, 151, 231)",
           "rgb(179, 179, 179)"
          ]
         },
         "orientation": "h",
         "type": "bar",
         "x": [
          1,
          1,
          1,
          1,
          1,
          1,
          1,
          1,
          1,
          1,
          1
         ],
         "y": [
          "Pastel",
          "Pastel",
          "Pastel",
          "Pastel",
          "Pastel",
          "Pastel",
          "Pastel",
          "Pastel",
          "Pastel",
          "Pastel",
          "Pastel"
         ]
        },
        {
         "customdata": [
          0,
          1,
          2,
          3,
          4,
          5,
          6,
          7,
          8,
          9,
          10
         ],
         "hovertemplate": "%{y}[%{customdata}] = %{marker.color}<extra></extra>",
         "marker": {
          "color": [
           "rgb(127, 60, 141)",
           "rgb(17, 165, 121)",
           "rgb(57, 105, 172)",
           "rgb(242, 183, 1)",
           "rgb(231, 63, 116)",
           "rgb(128, 186, 90)",
           "rgb(230, 131, 16)",
           "rgb(0, 134, 149)",
           "rgb(207, 28, 144)",
           "rgb(249, 123, 114)",
           "rgb(165, 170, 153)"
          ]
         },
         "orientation": "h",
         "type": "bar",
         "x": [
          1,
          1,
          1,
          1,
          1,
          1,
          1,
          1,
          1,
          1,
          1
         ],
         "y": [
          "Bold",
          "Bold",
          "Bold",
          "Bold",
          "Bold",
          "Bold",
          "Bold",
          "Bold",
          "Bold",
          "Bold",
          "Bold"
         ]
        },
        {
         "customdata": [
          0,
          1,
          2,
          3,
          4,
          5,
          6,
          7,
          8,
          9,
          10
         ],
         "hovertemplate": "%{y}[%{customdata}] = %{marker.color}<extra></extra>",
         "marker": {
          "color": [
           "rgb(133, 92, 117)",
           "rgb(217, 175, 107)",
           "rgb(175, 100, 88)",
           "rgb(115, 111, 76)",
           "rgb(82, 106, 131)",
           "rgb(98, 83, 119)",
           "rgb(104, 133, 92)",
           "rgb(156, 156, 94)",
           "rgb(160, 97, 119)",
           "rgb(140, 120, 93)",
           "rgb(124, 124, 124)"
          ]
         },
         "orientation": "h",
         "type": "bar",
         "x": [
          1,
          1,
          1,
          1,
          1,
          1,
          1,
          1,
          1,
          1,
          1
         ],
         "y": [
          "Antique",
          "Antique",
          "Antique",
          "Antique",
          "Antique",
          "Antique",
          "Antique",
          "Antique",
          "Antique",
          "Antique",
          "Antique"
         ]
        },
        {
         "customdata": [
          0,
          1,
          2,
          3,
          4,
          5,
          6,
          7,
          8,
          9,
          10,
          11
         ],
         "hovertemplate": "%{y}[%{customdata}] = %{marker.color}<extra></extra>",
         "marker": {
          "color": [
           "rgb(141,211,199)",
           "rgb(255,255,179)",
           "rgb(190,186,218)",
           "rgb(251,128,114)",
           "rgb(128,177,211)",
           "rgb(253,180,98)",
           "rgb(179,222,105)",
           "rgb(252,205,229)",
           "rgb(217,217,217)",
           "rgb(188,128,189)",
           "rgb(204,235,197)",
           "rgb(255,237,111)"
          ]
         },
         "orientation": "h",
         "type": "bar",
         "x": [
          1,
          1,
          1,
          1,
          1,
          1,
          1,
          1,
          1,
          1,
          1,
          1
         ],
         "y": [
          "Set3",
          "Set3",
          "Set3",
          "Set3",
          "Set3",
          "Set3",
          "Set3",
          "Set3",
          "Set3",
          "Set3",
          "Set3",
          "Set3"
         ]
        },
        {
         "customdata": [
          0,
          1,
          2,
          3,
          4,
          5,
          6,
          7
         ],
         "hovertemplate": "%{y}[%{customdata}] = %{marker.color}<extra></extra>",
         "marker": {
          "color": [
           "rgb(179,226,205)",
           "rgb(253,205,172)",
           "rgb(203,213,232)",
           "rgb(244,202,228)",
           "rgb(230,245,201)",
           "rgb(255,242,174)",
           "rgb(241,226,204)",
           "rgb(204,204,204)"
          ]
         },
         "orientation": "h",
         "type": "bar",
         "x": [
          1,
          1,
          1,
          1,
          1,
          1,
          1,
          1
         ],
         "y": [
          "Pastel2",
          "Pastel2",
          "Pastel2",
          "Pastel2",
          "Pastel2",
          "Pastel2",
          "Pastel2",
          "Pastel2"
         ]
        },
        {
         "customdata": [
          0,
          1,
          2,
          3,
          4,
          5,
          6,
          7
         ],
         "hovertemplate": "%{y}[%{customdata}] = %{marker.color}<extra></extra>",
         "marker": {
          "color": [
           "rgb(102,194,165)",
           "rgb(252,141,98)",
           "rgb(141,160,203)",
           "rgb(231,138,195)",
           "rgb(166,216,84)",
           "rgb(255,217,47)",
           "rgb(229,196,148)",
           "rgb(179,179,179)"
          ]
         },
         "orientation": "h",
         "type": "bar",
         "x": [
          1,
          1,
          1,
          1,
          1,
          1,
          1,
          1
         ],
         "y": [
          "Set2",
          "Set2",
          "Set2",
          "Set2",
          "Set2",
          "Set2",
          "Set2",
          "Set2"
         ]
        },
        {
         "customdata": [
          0,
          1,
          2,
          3,
          4,
          5,
          6,
          7
         ],
         "hovertemplate": "%{y}[%{customdata}] = %{marker.color}<extra></extra>",
         "marker": {
          "color": [
           "rgb(27,158,119)",
           "rgb(217,95,2)",
           "rgb(117,112,179)",
           "rgb(231,41,138)",
           "rgb(102,166,30)",
           "rgb(230,171,2)",
           "rgb(166,118,29)",
           "rgb(102,102,102)"
          ]
         },
         "orientation": "h",
         "type": "bar",
         "x": [
          1,
          1,
          1,
          1,
          1,
          1,
          1,
          1
         ],
         "y": [
          "Dark2",
          "Dark2",
          "Dark2",
          "Dark2",
          "Dark2",
          "Dark2",
          "Dark2",
          "Dark2"
         ]
        },
        {
         "customdata": [
          0,
          1,
          2,
          3,
          4,
          5,
          6,
          7,
          8
         ],
         "hovertemplate": "%{y}[%{customdata}] = %{marker.color}<extra></extra>",
         "marker": {
          "color": [
           "rgb(251,180,174)",
           "rgb(179,205,227)",
           "rgb(204,235,197)",
           "rgb(222,203,228)",
           "rgb(254,217,166)",
           "rgb(255,255,204)",
           "rgb(229,216,189)",
           "rgb(253,218,236)",
           "rgb(242,242,242)"
          ]
         },
         "orientation": "h",
         "type": "bar",
         "x": [
          1,
          1,
          1,
          1,
          1,
          1,
          1,
          1,
          1
         ],
         "y": [
          "Pastel1",
          "Pastel1",
          "Pastel1",
          "Pastel1",
          "Pastel1",
          "Pastel1",
          "Pastel1",
          "Pastel1",
          "Pastel1"
         ]
        },
        {
         "customdata": [
          0,
          1,
          2,
          3,
          4,
          5,
          6,
          7,
          8
         ],
         "hovertemplate": "%{y}[%{customdata}] = %{marker.color}<extra></extra>",
         "marker": {
          "color": [
           "rgb(228,26,28)",
           "rgb(55,126,184)",
           "rgb(77,175,74)",
           "rgb(152,78,163)",
           "rgb(255,127,0)",
           "rgb(255,255,51)",
           "rgb(166,86,40)",
           "rgb(247,129,191)",
           "rgb(153,153,153)"
          ]
         },
         "orientation": "h",
         "type": "bar",
         "x": [
          1,
          1,
          1,
          1,
          1,
          1,
          1,
          1,
          1
         ],
         "y": [
          "Set1",
          "Set1",
          "Set1",
          "Set1",
          "Set1",
          "Set1",
          "Set1",
          "Set1",
          "Set1"
         ]
        },
        {
         "customdata": [
          0,
          1,
          2,
          3,
          4,
          5,
          6,
          7,
          8,
          9,
          10,
          11,
          12,
          13,
          14,
          15,
          16,
          17,
          18,
          19,
          20,
          21,
          22,
          23
         ],
         "hovertemplate": "%{y}[%{customdata}] = %{marker.color}<extra></extra>",
         "marker": {
          "color": [
           "#FD3216",
           "#00FE35",
           "#6A76FC",
           "#FED4C4",
           "#FE00CE",
           "#0DF9FF",
           "#F6F926",
           "#FF9616",
           "#479B55",
           "#EEA6FB",
           "#DC587D",
           "#D626FF",
           "#6E899C",
           "#00B5F7",
           "#B68E00",
           "#C9FBE5",
           "#FF0092",
           "#22FFA7",
           "#E3EE9E",
           "#86CE00",
           "#BC7196",
           "#7E7DCD",
           "#FC6955",
           "#E48F72"
          ]
         },
         "orientation": "h",
         "type": "bar",
         "x": [
          1,
          1,
          1,
          1,
          1,
          1,
          1,
          1,
          1,
          1,
          1,
          1,
          1,
          1,
          1,
          1,
          1,
          1,
          1,
          1,
          1,
          1,
          1,
          1
         ],
         "y": [
          "Light24",
          "Light24",
          "Light24",
          "Light24",
          "Light24",
          "Light24",
          "Light24",
          "Light24",
          "Light24",
          "Light24",
          "Light24",
          "Light24",
          "Light24",
          "Light24",
          "Light24",
          "Light24",
          "Light24",
          "Light24",
          "Light24",
          "Light24",
          "Light24",
          "Light24",
          "Light24",
          "Light24"
         ]
        },
        {
         "customdata": [
          0,
          1,
          2,
          3,
          4,
          5,
          6,
          7,
          8,
          9,
          10,
          11,
          12,
          13,
          14,
          15,
          16,
          17,
          18,
          19,
          20,
          21,
          22,
          23
         ],
         "hovertemplate": "%{y}[%{customdata}] = %{marker.color}<extra></extra>",
         "marker": {
          "color": [
           "#2E91E5",
           "#E15F99",
           "#1CA71C",
           "#FB0D0D",
           "#DA16FF",
           "#222A2A",
           "#B68100",
           "#750D86",
           "#EB663B",
           "#511CFB",
           "#00A08B",
           "#FB00D1",
           "#FC0080",
           "#B2828D",
           "#6C7C32",
           "#778AAE",
           "#862A16",
           "#A777F1",
           "#620042",
           "#1616A7",
           "#DA60CA",
           "#6C4516",
           "#0D2A63",
           "#AF0038"
          ]
         },
         "orientation": "h",
         "type": "bar",
         "x": [
          1,
          1,
          1,
          1,
          1,
          1,
          1,
          1,
          1,
          1,
          1,
          1,
          1,
          1,
          1,
          1,
          1,
          1,
          1,
          1,
          1,
          1,
          1,
          1
         ],
         "y": [
          "Dark24",
          "Dark24",
          "Dark24",
          "Dark24",
          "Dark24",
          "Dark24",
          "Dark24",
          "Dark24",
          "Dark24",
          "Dark24",
          "Dark24",
          "Dark24",
          "Dark24",
          "Dark24",
          "Dark24",
          "Dark24",
          "Dark24",
          "Dark24",
          "Dark24",
          "Dark24",
          "Dark24",
          "Dark24",
          "Dark24",
          "Dark24"
         ]
        },
        {
         "customdata": [
          0,
          1,
          2,
          3,
          4,
          5,
          6,
          7,
          8,
          9,
          10,
          11,
          12,
          13,
          14,
          15,
          16,
          17,
          18,
          19,
          20,
          21,
          22,
          23,
          24,
          25
         ],
         "hovertemplate": "%{y}[%{customdata}] = %{marker.color}<extra></extra>",
         "marker": {
          "color": [
           "#AA0DFE",
           "#3283FE",
           "#85660D",
           "#782AB6",
           "#565656",
           "#1C8356",
           "#16FF32",
           "#F7E1A0",
           "#E2E2E2",
           "#1CBE4F",
           "#C4451C",
           "#DEA0FD",
           "#FE00FA",
           "#325A9B",
           "#FEAF16",
           "#F8A19F",
           "#90AD1C",
           "#F6222E",
           "#1CFFCE",
           "#2ED9FF",
           "#B10DA1",
           "#C075A6",
           "#FC1CBF",
           "#B00068",
           "#FBE426",
           "#FA0087"
          ]
         },
         "orientation": "h",
         "type": "bar",
         "x": [
          1,
          1,
          1,
          1,
          1,
          1,
          1,
          1,
          1,
          1,
          1,
          1,
          1,
          1,
          1,
          1,
          1,
          1,
          1,
          1,
          1,
          1,
          1,
          1,
          1,
          1
         ],
         "y": [
          "Alphabet",
          "Alphabet",
          "Alphabet",
          "Alphabet",
          "Alphabet",
          "Alphabet",
          "Alphabet",
          "Alphabet",
          "Alphabet",
          "Alphabet",
          "Alphabet",
          "Alphabet",
          "Alphabet",
          "Alphabet",
          "Alphabet",
          "Alphabet",
          "Alphabet",
          "Alphabet",
          "Alphabet",
          "Alphabet",
          "Alphabet",
          "Alphabet",
          "Alphabet",
          "Alphabet",
          "Alphabet",
          "Alphabet"
         ]
        },
        {
         "customdata": [
          0,
          1,
          2,
          3,
          4,
          5,
          6,
          7,
          8,
          9
         ],
         "hovertemplate": "%{y}[%{customdata}] = %{marker.color}<extra></extra>",
         "marker": {
          "color": [
           "#4C78A8",
           "#F58518",
           "#E45756",
           "#72B7B2",
           "#54A24B",
           "#EECA3B",
           "#B279A2",
           "#FF9DA6",
           "#9D755D",
           "#BAB0AC"
          ]
         },
         "orientation": "h",
         "type": "bar",
         "x": [
          1,
          1,
          1,
          1,
          1,
          1,
          1,
          1,
          1,
          1
         ],
         "y": [
          "T10",
          "T10",
          "T10",
          "T10",
          "T10",
          "T10",
          "T10",
          "T10",
          "T10",
          "T10"
         ]
        },
        {
         "customdata": [
          0,
          1,
          2,
          3,
          4,
          5,
          6,
          7,
          8,
          9
         ],
         "hovertemplate": "%{y}[%{customdata}] = %{marker.color}<extra></extra>",
         "marker": {
          "color": [
           "#3366CC",
           "#DC3912",
           "#FF9900",
           "#109618",
           "#990099",
           "#0099C6",
           "#DD4477",
           "#66AA00",
           "#B82E2E",
           "#316395"
          ]
         },
         "orientation": "h",
         "type": "bar",
         "x": [
          1,
          1,
          1,
          1,
          1,
          1,
          1,
          1,
          1,
          1
         ],
         "y": [
          "G10",
          "G10",
          "G10",
          "G10",
          "G10",
          "G10",
          "G10",
          "G10",
          "G10",
          "G10"
         ]
        },
        {
         "customdata": [
          0,
          1,
          2,
          3,
          4,
          5,
          6,
          7,
          8,
          9
         ],
         "hovertemplate": "%{y}[%{customdata}] = %{marker.color}<extra></extra>",
         "marker": {
          "color": [
           "#1F77B4",
           "#FF7F0E",
           "#2CA02C",
           "#D62728",
           "#9467BD",
           "#8C564B",
           "#E377C2",
           "#7F7F7F",
           "#BCBD22",
           "#17BECF"
          ]
         },
         "orientation": "h",
         "type": "bar",
         "x": [
          1,
          1,
          1,
          1,
          1,
          1,
          1,
          1,
          1,
          1
         ],
         "y": [
          "D3",
          "D3",
          "D3",
          "D3",
          "D3",
          "D3",
          "D3",
          "D3",
          "D3",
          "D3"
         ]
        },
        {
         "customdata": [
          0,
          1,
          2,
          3,
          4,
          5,
          6,
          7,
          8,
          9
         ],
         "hovertemplate": "%{y}[%{customdata}] = %{marker.color}<extra></extra>",
         "marker": {
          "color": [
           "#636EFA",
           "#EF553B",
           "#00CC96",
           "#AB63FA",
           "#FFA15A",
           "#19D3F3",
           "#FF6692",
           "#B6E880",
           "#FF97FF",
           "#FECB52"
          ]
         },
         "orientation": "h",
         "type": "bar",
         "x": [
          1,
          1,
          1,
          1,
          1,
          1,
          1,
          1,
          1,
          1
         ],
         "y": [
          "Plotly",
          "Plotly",
          "Plotly",
          "Plotly",
          "Plotly",
          "Plotly",
          "Plotly",
          "Plotly",
          "Plotly",
          "Plotly"
         ]
        }
       ],
       "layout": {
        "bargap": 0.5,
        "barmode": "stack",
        "barnorm": "fraction",
        "height": 760,
        "margin": {
         "b": 10
        },
        "showlegend": false,
        "template": {
         "data": {
          "bar": [
           {
            "error_x": {
             "color": "#2a3f5f"
            },
            "error_y": {
             "color": "#2a3f5f"
            },
            "marker": {
             "line": {
              "color": "#E5ECF6",
              "width": 0.5
             },
             "pattern": {
              "fillmode": "overlay",
              "size": 10,
              "solidity": 0.2
             }
            },
            "type": "bar"
           }
          ],
          "barpolar": [
           {
            "marker": {
             "line": {
              "color": "#E5ECF6",
              "width": 0.5
             },
             "pattern": {
              "fillmode": "overlay",
              "size": 10,
              "solidity": 0.2
             }
            },
            "type": "barpolar"
           }
          ],
          "carpet": [
           {
            "aaxis": {
             "endlinecolor": "#2a3f5f",
             "gridcolor": "white",
             "linecolor": "white",
             "minorgridcolor": "white",
             "startlinecolor": "#2a3f5f"
            },
            "baxis": {
             "endlinecolor": "#2a3f5f",
             "gridcolor": "white",
             "linecolor": "white",
             "minorgridcolor": "white",
             "startlinecolor": "#2a3f5f"
            },
            "type": "carpet"
           }
          ],
          "choropleth": [
           {
            "colorbar": {
             "outlinewidth": 0,
             "ticks": ""
            },
            "type": "choropleth"
           }
          ],
          "contour": [
           {
            "colorbar": {
             "outlinewidth": 0,
             "ticks": ""
            },
            "colorscale": [
             [
              0,
              "#0d0887"
             ],
             [
              0.1111111111111111,
              "#46039f"
             ],
             [
              0.2222222222222222,
              "#7201a8"
             ],
             [
              0.3333333333333333,
              "#9c179e"
             ],
             [
              0.4444444444444444,
              "#bd3786"
             ],
             [
              0.5555555555555556,
              "#d8576b"
             ],
             [
              0.6666666666666666,
              "#ed7953"
             ],
             [
              0.7777777777777778,
              "#fb9f3a"
             ],
             [
              0.8888888888888888,
              "#fdca26"
             ],
             [
              1,
              "#f0f921"
             ]
            ],
            "type": "contour"
           }
          ],
          "contourcarpet": [
           {
            "colorbar": {
             "outlinewidth": 0,
             "ticks": ""
            },
            "type": "contourcarpet"
           }
          ],
          "heatmap": [
           {
            "colorbar": {
             "outlinewidth": 0,
             "ticks": ""
            },
            "colorscale": [
             [
              0,
              "#0d0887"
             ],
             [
              0.1111111111111111,
              "#46039f"
             ],
             [
              0.2222222222222222,
              "#7201a8"
             ],
             [
              0.3333333333333333,
              "#9c179e"
             ],
             [
              0.4444444444444444,
              "#bd3786"
             ],
             [
              0.5555555555555556,
              "#d8576b"
             ],
             [
              0.6666666666666666,
              "#ed7953"
             ],
             [
              0.7777777777777778,
              "#fb9f3a"
             ],
             [
              0.8888888888888888,
              "#fdca26"
             ],
             [
              1,
              "#f0f921"
             ]
            ],
            "type": "heatmap"
           }
          ],
          "heatmapgl": [
           {
            "colorbar": {
             "outlinewidth": 0,
             "ticks": ""
            },
            "colorscale": [
             [
              0,
              "#0d0887"
             ],
             [
              0.1111111111111111,
              "#46039f"
             ],
             [
              0.2222222222222222,
              "#7201a8"
             ],
             [
              0.3333333333333333,
              "#9c179e"
             ],
             [
              0.4444444444444444,
              "#bd3786"
             ],
             [
              0.5555555555555556,
              "#d8576b"
             ],
             [
              0.6666666666666666,
              "#ed7953"
             ],
             [
              0.7777777777777778,
              "#fb9f3a"
             ],
             [
              0.8888888888888888,
              "#fdca26"
             ],
             [
              1,
              "#f0f921"
             ]
            ],
            "type": "heatmapgl"
           }
          ],
          "histogram": [
           {
            "marker": {
             "pattern": {
              "fillmode": "overlay",
              "size": 10,
              "solidity": 0.2
             }
            },
            "type": "histogram"
           }
          ],
          "histogram2d": [
           {
            "colorbar": {
             "outlinewidth": 0,
             "ticks": ""
            },
            "colorscale": [
             [
              0,
              "#0d0887"
             ],
             [
              0.1111111111111111,
              "#46039f"
             ],
             [
              0.2222222222222222,
              "#7201a8"
             ],
             [
              0.3333333333333333,
              "#9c179e"
             ],
             [
              0.4444444444444444,
              "#bd3786"
             ],
             [
              0.5555555555555556,
              "#d8576b"
             ],
             [
              0.6666666666666666,
              "#ed7953"
             ],
             [
              0.7777777777777778,
              "#fb9f3a"
             ],
             [
              0.8888888888888888,
              "#fdca26"
             ],
             [
              1,
              "#f0f921"
             ]
            ],
            "type": "histogram2d"
           }
          ],
          "histogram2dcontour": [
           {
            "colorbar": {
             "outlinewidth": 0,
             "ticks": ""
            },
            "colorscale": [
             [
              0,
              "#0d0887"
             ],
             [
              0.1111111111111111,
              "#46039f"
             ],
             [
              0.2222222222222222,
              "#7201a8"
             ],
             [
              0.3333333333333333,
              "#9c179e"
             ],
             [
              0.4444444444444444,
              "#bd3786"
             ],
             [
              0.5555555555555556,
              "#d8576b"
             ],
             [
              0.6666666666666666,
              "#ed7953"
             ],
             [
              0.7777777777777778,
              "#fb9f3a"
             ],
             [
              0.8888888888888888,
              "#fdca26"
             ],
             [
              1,
              "#f0f921"
             ]
            ],
            "type": "histogram2dcontour"
           }
          ],
          "mesh3d": [
           {
            "colorbar": {
             "outlinewidth": 0,
             "ticks": ""
            },
            "type": "mesh3d"
           }
          ],
          "parcoords": [
           {
            "line": {
             "colorbar": {
              "outlinewidth": 0,
              "ticks": ""
             }
            },
            "type": "parcoords"
           }
          ],
          "pie": [
           {
            "automargin": true,
            "type": "pie"
           }
          ],
          "scatter": [
           {
            "fillpattern": {
             "fillmode": "overlay",
             "size": 10,
             "solidity": 0.2
            },
            "type": "scatter"
           }
          ],
          "scatter3d": [
           {
            "line": {
             "colorbar": {
              "outlinewidth": 0,
              "ticks": ""
             }
            },
            "marker": {
             "colorbar": {
              "outlinewidth": 0,
              "ticks": ""
             }
            },
            "type": "scatter3d"
           }
          ],
          "scattercarpet": [
           {
            "marker": {
             "colorbar": {
              "outlinewidth": 0,
              "ticks": ""
             }
            },
            "type": "scattercarpet"
           }
          ],
          "scattergeo": [
           {
            "marker": {
             "colorbar": {
              "outlinewidth": 0,
              "ticks": ""
             }
            },
            "type": "scattergeo"
           }
          ],
          "scattergl": [
           {
            "marker": {
             "colorbar": {
              "outlinewidth": 0,
              "ticks": ""
             }
            },
            "type": "scattergl"
           }
          ],
          "scattermapbox": [
           {
            "marker": {
             "colorbar": {
              "outlinewidth": 0,
              "ticks": ""
             }
            },
            "type": "scattermapbox"
           }
          ],
          "scatterpolar": [
           {
            "marker": {
             "colorbar": {
              "outlinewidth": 0,
              "ticks": ""
             }
            },
            "type": "scatterpolar"
           }
          ],
          "scatterpolargl": [
           {
            "marker": {
             "colorbar": {
              "outlinewidth": 0,
              "ticks": ""
             }
            },
            "type": "scatterpolargl"
           }
          ],
          "scatterternary": [
           {
            "marker": {
             "colorbar": {
              "outlinewidth": 0,
              "ticks": ""
             }
            },
            "type": "scatterternary"
           }
          ],
          "surface": [
           {
            "colorbar": {
             "outlinewidth": 0,
             "ticks": ""
            },
            "colorscale": [
             [
              0,
              "#0d0887"
             ],
             [
              0.1111111111111111,
              "#46039f"
             ],
             [
              0.2222222222222222,
              "#7201a8"
             ],
             [
              0.3333333333333333,
              "#9c179e"
             ],
             [
              0.4444444444444444,
              "#bd3786"
             ],
             [
              0.5555555555555556,
              "#d8576b"
             ],
             [
              0.6666666666666666,
              "#ed7953"
             ],
             [
              0.7777777777777778,
              "#fb9f3a"
             ],
             [
              0.8888888888888888,
              "#fdca26"
             ],
             [
              1,
              "#f0f921"
             ]
            ],
            "type": "surface"
           }
          ],
          "table": [
           {
            "cells": {
             "fill": {
              "color": "#EBF0F8"
             },
             "line": {
              "color": "white"
             }
            },
            "header": {
             "fill": {
              "color": "#C8D4E3"
             },
             "line": {
              "color": "white"
             }
            },
            "type": "table"
           }
          ]
         },
         "layout": {
          "annotationdefaults": {
           "arrowcolor": "#2a3f5f",
           "arrowhead": 0,
           "arrowwidth": 1
          },
          "autotypenumbers": "strict",
          "coloraxis": {
           "colorbar": {
            "outlinewidth": 0,
            "ticks": ""
           }
          },
          "colorscale": {
           "diverging": [
            [
             0,
             "#8e0152"
            ],
            [
             0.1,
             "#c51b7d"
            ],
            [
             0.2,
             "#de77ae"
            ],
            [
             0.3,
             "#f1b6da"
            ],
            [
             0.4,
             "#fde0ef"
            ],
            [
             0.5,
             "#f7f7f7"
            ],
            [
             0.6,
             "#e6f5d0"
            ],
            [
             0.7,
             "#b8e186"
            ],
            [
             0.8,
             "#7fbc41"
            ],
            [
             0.9,
             "#4d9221"
            ],
            [
             1,
             "#276419"
            ]
           ],
           "sequential": [
            [
             0,
             "#0d0887"
            ],
            [
             0.1111111111111111,
             "#46039f"
            ],
            [
             0.2222222222222222,
             "#7201a8"
            ],
            [
             0.3333333333333333,
             "#9c179e"
            ],
            [
             0.4444444444444444,
             "#bd3786"
            ],
            [
             0.5555555555555556,
             "#d8576b"
            ],
            [
             0.6666666666666666,
             "#ed7953"
            ],
            [
             0.7777777777777778,
             "#fb9f3a"
            ],
            [
             0.8888888888888888,
             "#fdca26"
            ],
            [
             1,
             "#f0f921"
            ]
           ],
           "sequentialminus": [
            [
             0,
             "#0d0887"
            ],
            [
             0.1111111111111111,
             "#46039f"
            ],
            [
             0.2222222222222222,
             "#7201a8"
            ],
            [
             0.3333333333333333,
             "#9c179e"
            ],
            [
             0.4444444444444444,
             "#bd3786"
            ],
            [
             0.5555555555555556,
             "#d8576b"
            ],
            [
             0.6666666666666666,
             "#ed7953"
            ],
            [
             0.7777777777777778,
             "#fb9f3a"
            ],
            [
             0.8888888888888888,
             "#fdca26"
            ],
            [
             1,
             "#f0f921"
            ]
           ]
          },
          "colorway": [
           "#636efa",
           "#EF553B",
           "#00cc96",
           "#ab63fa",
           "#FFA15A",
           "#19d3f3",
           "#FF6692",
           "#B6E880",
           "#FF97FF",
           "#FECB52"
          ],
          "font": {
           "color": "#2a3f5f"
          },
          "geo": {
           "bgcolor": "white",
           "lakecolor": "white",
           "landcolor": "#E5ECF6",
           "showlakes": true,
           "showland": true,
           "subunitcolor": "white"
          },
          "hoverlabel": {
           "align": "left"
          },
          "hovermode": "closest",
          "mapbox": {
           "style": "light"
          },
          "paper_bgcolor": "white",
          "plot_bgcolor": "#E5ECF6",
          "polar": {
           "angularaxis": {
            "gridcolor": "white",
            "linecolor": "white",
            "ticks": ""
           },
           "bgcolor": "#E5ECF6",
           "radialaxis": {
            "gridcolor": "white",
            "linecolor": "white",
            "ticks": ""
           }
          },
          "scene": {
           "xaxis": {
            "backgroundcolor": "#E5ECF6",
            "gridcolor": "white",
            "gridwidth": 2,
            "linecolor": "white",
            "showbackground": true,
            "ticks": "",
            "zerolinecolor": "white"
           },
           "yaxis": {
            "backgroundcolor": "#E5ECF6",
            "gridcolor": "white",
            "gridwidth": 2,
            "linecolor": "white",
            "showbackground": true,
            "ticks": "",
            "zerolinecolor": "white"
           },
           "zaxis": {
            "backgroundcolor": "#E5ECF6",
            "gridcolor": "white",
            "gridwidth": 2,
            "linecolor": "white",
            "showbackground": true,
            "ticks": "",
            "zerolinecolor": "white"
           }
          },
          "shapedefaults": {
           "line": {
            "color": "#2a3f5f"
           }
          },
          "ternary": {
           "aaxis": {
            "gridcolor": "white",
            "linecolor": "white",
            "ticks": ""
           },
           "baxis": {
            "gridcolor": "white",
            "linecolor": "white",
            "ticks": ""
           },
           "bgcolor": "#E5ECF6",
           "caxis": {
            "gridcolor": "white",
            "linecolor": "white",
            "ticks": ""
           }
          },
          "title": {
           "x": 0.05
          },
          "xaxis": {
           "automargin": true,
           "gridcolor": "white",
           "linecolor": "white",
           "ticks": "",
           "title": {
            "standoff": 15
           },
           "zerolinecolor": "white",
           "zerolinewidth": 2
          },
          "yaxis": {
           "automargin": true,
           "gridcolor": "white",
           "linecolor": "white",
           "ticks": "",
           "title": {
            "standoff": 15
           },
           "zerolinecolor": "white",
           "zerolinewidth": 2
          }
         }
        },
        "title": {
         "text": "plotly.colors.qualitative"
        },
        "xaxis": {
         "range": [
          -0.02,
          1.02
         ],
         "showgrid": false,
         "showticklabels": false
        }
       }
      }
     },
     "metadata": {},
     "output_type": "display_data"
    }
   ],
   "source": [
    "px.colors.qualitative.swatches()"
   ]
  },
  {
   "cell_type": "markdown",
   "metadata": {},
   "source": [
    "## Plot 1"
   ]
  },
  {
   "cell_type": "code",
   "execution_count": 219,
   "metadata": {},
   "outputs": [
    {
     "data": {
      "application/vnd.plotly.v1+json": {
       "config": {
        "plotlyServerURL": "https://plot.ly"
       },
       "data": [
        {
         "alignmentgroup": "True",
         "boxpoints": "all",
         "customdata": [
          [
           "Afghanistan"
          ],
          [
           "Bahrain"
          ],
          [
           "Bangladesh"
          ],
          [
           "Cambodia"
          ],
          [
           "China"
          ],
          [
           "Hong Kong, China"
          ],
          [
           "India"
          ],
          [
           "Indonesia"
          ],
          [
           "Iran"
          ],
          [
           "Iraq"
          ],
          [
           "Israel"
          ],
          [
           "Japan"
          ],
          [
           "Jordan"
          ],
          [
           "Korea, Dem. Rep."
          ],
          [
           "Korea, Rep."
          ],
          [
           "Kuwait"
          ],
          [
           "Lebanon"
          ],
          [
           "Malaysia"
          ],
          [
           "Mongolia"
          ],
          [
           "Myanmar"
          ],
          [
           "Nepal"
          ],
          [
           "Oman"
          ],
          [
           "Pakistan"
          ],
          [
           "Philippines"
          ],
          [
           "Saudi Arabia"
          ],
          [
           "Singapore"
          ],
          [
           "Sri Lanka"
          ],
          [
           "Syria"
          ],
          [
           "Taiwan"
          ],
          [
           "Thailand"
          ],
          [
           "Vietnam"
          ],
          [
           "West Bank and Gaza"
          ],
          [
           "Yemen, Rep."
          ]
         ],
         "hovertemplate": "Continent=%{x}<br>Life Expectancy=%{y}<br>country=%{customdata[0]}<extra></extra>",
         "legendgroup": "Asia",
         "marker": {
          "color": "#3366CC"
         },
         "name": "Asia",
         "notched": false,
         "offsetgroup": "Asia",
         "orientation": "v",
         "showlegend": true,
         "type": "box",
         "x": [
          "Asia",
          "Asia",
          "Asia",
          "Asia",
          "Asia",
          "Asia",
          "Asia",
          "Asia",
          "Asia",
          "Asia",
          "Asia",
          "Asia",
          "Asia",
          "Asia",
          "Asia",
          "Asia",
          "Asia",
          "Asia",
          "Asia",
          "Asia",
          "Asia",
          "Asia",
          "Asia",
          "Asia",
          "Asia",
          "Asia",
          "Asia",
          "Asia",
          "Asia",
          "Asia",
          "Asia",
          "Asia",
          "Asia"
         ],
         "x0": " ",
         "xaxis": "x",
         "y": [
          43.83,
          75.64,
          64.06,
          59.72,
          72.96,
          82.21,
          64.7,
          70.65,
          70.96,
          59.55,
          80.75,
          82.6,
          72.53,
          67.3,
          78.62,
          77.59,
          71.99,
          74.24,
          66.8,
          62.07,
          63.78,
          75.64,
          65.48,
          71.69,
          72.78,
          79.97,
          72.4,
          74.14,
          78.4,
          70.62,
          74.25,
          73.42,
          62.7
         ],
         "y0": " ",
         "yaxis": "y"
        },
        {
         "alignmentgroup": "True",
         "boxpoints": "all",
         "customdata": [
          [
           "Albania"
          ],
          [
           "Austria"
          ],
          [
           "Belgium"
          ],
          [
           "Bosnia and Herzegovina"
          ],
          [
           "Bulgaria"
          ],
          [
           "Croatia"
          ],
          [
           "Czech Republic"
          ],
          [
           "Denmark"
          ],
          [
           "Finland"
          ],
          [
           "France"
          ],
          [
           "Germany"
          ],
          [
           "Greece"
          ],
          [
           "Hungary"
          ],
          [
           "Iceland"
          ],
          [
           "Ireland"
          ],
          [
           "Italy"
          ],
          [
           "Montenegro"
          ],
          [
           "Netherlands"
          ],
          [
           "Norway"
          ],
          [
           "Poland"
          ],
          [
           "Portugal"
          ],
          [
           "Romania"
          ],
          [
           "Serbia"
          ],
          [
           "Slovak Republic"
          ],
          [
           "Slovenia"
          ],
          [
           "Spain"
          ],
          [
           "Sweden"
          ],
          [
           "Switzerland"
          ],
          [
           "Turkey"
          ],
          [
           "United Kingdom"
          ]
         ],
         "hovertemplate": "Continent=%{x}<br>Life Expectancy=%{y}<br>country=%{customdata[0]}<extra></extra>",
         "legendgroup": "Europe",
         "marker": {
          "color": "#DC3912"
         },
         "name": "Europe",
         "notched": false,
         "offsetgroup": "Europe",
         "orientation": "v",
         "showlegend": true,
         "type": "box",
         "x": [
          "Europe",
          "Europe",
          "Europe",
          "Europe",
          "Europe",
          "Europe",
          "Europe",
          "Europe",
          "Europe",
          "Europe",
          "Europe",
          "Europe",
          "Europe",
          "Europe",
          "Europe",
          "Europe",
          "Europe",
          "Europe",
          "Europe",
          "Europe",
          "Europe",
          "Europe",
          "Europe",
          "Europe",
          "Europe",
          "Europe",
          "Europe",
          "Europe",
          "Europe",
          "Europe"
         ],
         "x0": " ",
         "xaxis": "x",
         "y": [
          76.42,
          79.83,
          79.44,
          74.85,
          73,
          75.75,
          76.49,
          78.33,
          79.31,
          80.66,
          79.41,
          79.48,
          73.34,
          81.76,
          78.89,
          80.55,
          74.54,
          79.76,
          80.2,
          75.56,
          78.1,
          72.48,
          74,
          74.66,
          77.93,
          80.94,
          80.88,
          81.7,
          71.78,
          79.42
         ],
         "y0": " ",
         "yaxis": "y"
        },
        {
         "alignmentgroup": "True",
         "boxpoints": "all",
         "customdata": [
          [
           "Algeria"
          ],
          [
           "Angola"
          ],
          [
           "Benin"
          ],
          [
           "Botswana"
          ],
          [
           "Burkina Faso"
          ],
          [
           "Burundi"
          ],
          [
           "Cameroon"
          ],
          [
           "Central African Republic"
          ],
          [
           "Chad"
          ],
          [
           "Comoros"
          ],
          [
           "Congo, Dem. Rep."
          ],
          [
           "Congo, Rep."
          ],
          [
           "Cote d'Ivoire"
          ],
          [
           "Djibouti"
          ],
          [
           "Egypt"
          ],
          [
           "Equatorial Guinea"
          ],
          [
           "Eritrea"
          ],
          [
           "Ethiopia"
          ],
          [
           "Gabon"
          ],
          [
           "Gambia"
          ],
          [
           "Ghana"
          ],
          [
           "Guinea"
          ],
          [
           "Guinea-Bissau"
          ],
          [
           "Kenya"
          ],
          [
           "Lesotho"
          ],
          [
           "Liberia"
          ],
          [
           "Libya"
          ],
          [
           "Madagascar"
          ],
          [
           "Malawi"
          ],
          [
           "Mali"
          ],
          [
           "Mauritania"
          ],
          [
           "Mauritius"
          ],
          [
           "Morocco"
          ],
          [
           "Mozambique"
          ],
          [
           "Namibia"
          ],
          [
           "Niger"
          ],
          [
           "Nigeria"
          ],
          [
           "Reunion"
          ],
          [
           "Rwanda"
          ],
          [
           "Sao Tome and Principe"
          ],
          [
           "Senegal"
          ],
          [
           "Sierra Leone"
          ],
          [
           "Somalia"
          ],
          [
           "South Africa"
          ],
          [
           "Sudan"
          ],
          [
           "Swaziland"
          ],
          [
           "Tanzania"
          ],
          [
           "Togo"
          ],
          [
           "Tunisia"
          ],
          [
           "Uganda"
          ],
          [
           "Zambia"
          ],
          [
           "Zimbabwe"
          ]
         ],
         "hovertemplate": "Continent=%{x}<br>Life Expectancy=%{y}<br>country=%{customdata[0]}<extra></extra>",
         "legendgroup": "Africa",
         "marker": {
          "color": "#FF9900"
         },
         "name": "Africa",
         "notched": false,
         "offsetgroup": "Africa",
         "orientation": "v",
         "showlegend": true,
         "type": "box",
         "x": [
          "Africa",
          "Africa",
          "Africa",
          "Africa",
          "Africa",
          "Africa",
          "Africa",
          "Africa",
          "Africa",
          "Africa",
          "Africa",
          "Africa",
          "Africa",
          "Africa",
          "Africa",
          "Africa",
          "Africa",
          "Africa",
          "Africa",
          "Africa",
          "Africa",
          "Africa",
          "Africa",
          "Africa",
          "Africa",
          "Africa",
          "Africa",
          "Africa",
          "Africa",
          "Africa",
          "Africa",
          "Africa",
          "Africa",
          "Africa",
          "Africa",
          "Africa",
          "Africa",
          "Africa",
          "Africa",
          "Africa",
          "Africa",
          "Africa",
          "Africa",
          "Africa",
          "Africa",
          "Africa",
          "Africa",
          "Africa",
          "Africa",
          "Africa",
          "Africa",
          "Africa"
         ],
         "x0": " ",
         "xaxis": "x",
         "y": [
          72.3,
          42.73,
          56.73,
          50.73,
          52.3,
          49.58,
          50.43,
          44.74,
          50.65,
          65.15,
          46.46,
          55.32,
          48.33,
          54.79,
          71.34,
          51.58,
          58.04,
          52.95,
          56.73,
          59.45,
          60.02,
          56.01,
          46.39,
          54.11,
          42.59,
          45.68,
          73.95,
          59.44,
          48.3,
          54.47,
          64.16,
          72.8,
          71.16,
          42.08,
          52.91,
          56.87,
          46.86,
          76.44,
          46.24,
          65.53,
          63.06,
          42.57,
          48.16,
          49.34,
          58.56,
          39.61,
          52.52,
          58.42,
          73.92,
          51.54,
          42.38,
          43.49
         ],
         "y0": " ",
         "yaxis": "y"
        },
        {
         "alignmentgroup": "True",
         "boxpoints": "all",
         "customdata": [
          [
           "Argentina"
          ],
          [
           "Bolivia"
          ],
          [
           "Brazil"
          ],
          [
           "Canada"
          ],
          [
           "Chile"
          ],
          [
           "Colombia"
          ],
          [
           "Costa Rica"
          ],
          [
           "Cuba"
          ],
          [
           "Dominican Republic"
          ],
          [
           "Ecuador"
          ],
          [
           "El Salvador"
          ],
          [
           "Guatemala"
          ],
          [
           "Haiti"
          ],
          [
           "Honduras"
          ],
          [
           "Jamaica"
          ],
          [
           "Mexico"
          ],
          [
           "Nicaragua"
          ],
          [
           "Panama"
          ],
          [
           "Paraguay"
          ],
          [
           "Peru"
          ],
          [
           "Puerto Rico"
          ],
          [
           "Trinidad and Tobago"
          ],
          [
           "United States"
          ],
          [
           "Uruguay"
          ],
          [
           "Venezuela"
          ]
         ],
         "hovertemplate": "Continent=%{x}<br>Life Expectancy=%{y}<br>country=%{customdata[0]}<extra></extra>",
         "legendgroup": "Americas",
         "marker": {
          "color": "#109618"
         },
         "name": "Americas",
         "notched": false,
         "offsetgroup": "Americas",
         "orientation": "v",
         "showlegend": true,
         "type": "box",
         "x": [
          "Americas",
          "Americas",
          "Americas",
          "Americas",
          "Americas",
          "Americas",
          "Americas",
          "Americas",
          "Americas",
          "Americas",
          "Americas",
          "Americas",
          "Americas",
          "Americas",
          "Americas",
          "Americas",
          "Americas",
          "Americas",
          "Americas",
          "Americas",
          "Americas",
          "Americas",
          "Americas",
          "Americas",
          "Americas"
         ],
         "x0": " ",
         "xaxis": "x",
         "y": [
          75.32,
          65.55,
          72.39,
          80.65,
          78.55,
          72.89,
          78.78,
          78.27,
          72.23,
          74.99,
          71.88,
          70.26,
          60.92,
          70.2,
          72.57,
          76.19,
          72.9,
          75.54,
          71.75,
          71.42,
          78.75,
          69.82,
          78.24,
          76.38,
          73.75
         ],
         "y0": " ",
         "yaxis": "y"
        },
        {
         "hovertemplate": "continent=Asia<br>lifeExp=%{x}<br>probability=%{y}<extra></extra>",
         "legendgroup": "Asia",
         "line": {
          "dash": "solid",
          "shape": "hv"
         },
         "marker": {
          "color": "#3366CC",
          "symbol": "circle"
         },
         "mode": "lines",
         "name": "Asia",
         "orientation": "v",
         "showlegend": true,
         "type": "scatter",
         "x": [
          43.83,
          59.55,
          59.72,
          62.07,
          62.7,
          63.78,
          64.06,
          64.7,
          65.48,
          66.8,
          67.3,
          70.62,
          70.65,
          70.96,
          71.69,
          71.99,
          72.4,
          72.53,
          72.78,
          72.96,
          73.42,
          74.14,
          74.24,
          74.25,
          75.64,
          75.64,
          77.59,
          78.4,
          78.62,
          79.97,
          80.75,
          82.21,
          82.6
         ],
         "xaxis": "x2",
         "y": [
          0.030303030303030304,
          0.06060606060606061,
          0.09090909090909091,
          0.12121212121212122,
          0.15151515151515152,
          0.18181818181818182,
          0.21212121212121213,
          0.24242424242424243,
          0.2727272727272727,
          0.30303030303030304,
          0.3333333333333333,
          0.36363636363636365,
          0.3939393939393939,
          0.42424242424242425,
          0.45454545454545453,
          0.48484848484848486,
          0.5151515151515151,
          0.5454545454545454,
          0.5757575757575758,
          0.6060606060606061,
          0.6363636363636364,
          0.6666666666666666,
          0.696969696969697,
          0.7272727272727273,
          0.7575757575757576,
          0.7878787878787878,
          0.8181818181818182,
          0.8484848484848485,
          0.8787878787878788,
          0.9090909090909091,
          0.9393939393939394,
          0.9696969696969697,
          1
         ],
         "yaxis": "y2"
        },
        {
         "hovertemplate": "continent=Europe<br>lifeExp=%{x}<br>probability=%{y}<extra></extra>",
         "legendgroup": "Europe",
         "line": {
          "dash": "solid",
          "shape": "hv"
         },
         "marker": {
          "color": "#DC3912",
          "symbol": "circle"
         },
         "mode": "lines",
         "name": "Europe",
         "orientation": "v",
         "showlegend": true,
         "type": "scatter",
         "x": [
          71.78,
          72.48,
          73,
          73.34,
          74,
          74.54,
          74.66,
          74.85,
          75.56,
          75.75,
          76.42,
          76.49,
          77.93,
          78.1,
          78.33,
          78.89,
          79.31,
          79.41,
          79.42,
          79.44,
          79.48,
          79.76,
          79.83,
          80.2,
          80.55,
          80.66,
          80.88,
          80.94,
          81.7,
          81.76
         ],
         "xaxis": "x2",
         "y": [
          0.03333333333333333,
          0.06666666666666667,
          0.1,
          0.13333333333333333,
          0.16666666666666666,
          0.2,
          0.23333333333333334,
          0.26666666666666666,
          0.3,
          0.3333333333333333,
          0.36666666666666664,
          0.4,
          0.43333333333333335,
          0.4666666666666667,
          0.5,
          0.5333333333333333,
          0.5666666666666667,
          0.6,
          0.6333333333333333,
          0.6666666666666666,
          0.7,
          0.7333333333333333,
          0.7666666666666667,
          0.8,
          0.8333333333333334,
          0.8666666666666667,
          0.9,
          0.9333333333333333,
          0.9666666666666667,
          1
         ],
         "yaxis": "y2"
        },
        {
         "hovertemplate": "continent=Africa<br>lifeExp=%{x}<br>probability=%{y}<extra></extra>",
         "legendgroup": "Africa",
         "line": {
          "dash": "solid",
          "shape": "hv"
         },
         "marker": {
          "color": "#FF9900",
          "symbol": "circle"
         },
         "mode": "lines",
         "name": "Africa",
         "orientation": "v",
         "showlegend": true,
         "type": "scatter",
         "x": [
          39.61,
          42.08,
          42.38,
          42.57,
          42.59,
          42.73,
          43.49,
          44.74,
          45.68,
          46.24,
          46.39,
          46.46,
          46.86,
          48.16,
          48.3,
          48.33,
          49.34,
          49.58,
          50.43,
          50.65,
          50.73,
          51.54,
          51.58,
          52.3,
          52.52,
          52.91,
          52.95,
          54.11,
          54.47,
          54.79,
          55.32,
          56.01,
          56.73,
          56.73,
          56.87,
          58.04,
          58.42,
          58.56,
          59.44,
          59.45,
          60.02,
          63.06,
          64.16,
          65.15,
          65.53,
          71.16,
          71.34,
          72.3,
          72.8,
          73.92,
          73.95,
          76.44
         ],
         "xaxis": "x2",
         "y": [
          0.019230769230769232,
          0.038461538461538464,
          0.057692307692307696,
          0.07692307692307693,
          0.09615384615384616,
          0.11538461538461539,
          0.1346153846153846,
          0.15384615384615385,
          0.17307692307692307,
          0.19230769230769232,
          0.21153846153846154,
          0.23076923076923078,
          0.25,
          0.2692307692307692,
          0.28846153846153844,
          0.3076923076923077,
          0.3269230769230769,
          0.34615384615384615,
          0.36538461538461536,
          0.38461538461538464,
          0.40384615384615385,
          0.4230769230769231,
          0.4423076923076923,
          0.46153846153846156,
          0.4807692307692308,
          0.5,
          0.5192307692307693,
          0.5384615384615384,
          0.5576923076923077,
          0.5769230769230769,
          0.5961538461538461,
          0.6153846153846154,
          0.6346153846153846,
          0.6538461538461539,
          0.6730769230769231,
          0.6923076923076923,
          0.7115384615384616,
          0.7307692307692307,
          0.75,
          0.7692307692307693,
          0.7884615384615384,
          0.8076923076923077,
          0.8269230769230769,
          0.8461538461538461,
          0.8653846153846154,
          0.8846153846153846,
          0.9038461538461539,
          0.9230769230769231,
          0.9423076923076923,
          0.9615384615384616,
          0.9807692307692307,
          1
         ],
         "yaxis": "y2"
        },
        {
         "hovertemplate": "continent=Americas<br>lifeExp=%{x}<br>probability=%{y}<extra></extra>",
         "legendgroup": "Americas",
         "line": {
          "dash": "solid",
          "shape": "hv"
         },
         "marker": {
          "color": "#109618",
          "symbol": "circle"
         },
         "mode": "lines",
         "name": "Americas",
         "orientation": "v",
         "showlegend": true,
         "type": "scatter",
         "x": [
          60.92,
          65.55,
          69.82,
          70.2,
          70.26,
          71.42,
          71.75,
          71.88,
          72.23,
          72.39,
          72.57,
          72.89,
          72.9,
          73.75,
          74.99,
          75.32,
          75.54,
          76.19,
          76.38,
          78.24,
          78.27,
          78.55,
          78.75,
          78.78,
          80.65
         ],
         "xaxis": "x2",
         "y": [
          0.04,
          0.08,
          0.12,
          0.16,
          0.2,
          0.24,
          0.28,
          0.32,
          0.36,
          0.4,
          0.44,
          0.48,
          0.52,
          0.56,
          0.6,
          0.64,
          0.68,
          0.72,
          0.76,
          0.8,
          0.84,
          0.88,
          0.92,
          0.96,
          1
         ],
         "yaxis": "y2"
        },
        {
         "alignmentgroup": "True",
         "boxpoints": "all",
         "customdata": [
          [
           "Afghanistan",
           43.83
          ],
          [
           "Bahrain",
           75.64
          ],
          [
           "Bangladesh",
           64.06
          ],
          [
           "Cambodia",
           59.72
          ],
          [
           "China",
           72.96
          ],
          [
           "Hong Kong, China",
           82.21
          ],
          [
           "India",
           64.7
          ],
          [
           "Indonesia",
           70.65
          ],
          [
           "Iran",
           70.96
          ],
          [
           "Iraq",
           59.55
          ],
          [
           "Israel",
           80.75
          ],
          [
           "Japan",
           82.6
          ],
          [
           "Jordan",
           72.53
          ],
          [
           "Korea, Dem. Rep.",
           67.3
          ],
          [
           "Korea, Rep.",
           78.62
          ],
          [
           "Kuwait",
           77.59
          ],
          [
           "Lebanon",
           71.99
          ],
          [
           "Malaysia",
           74.24
          ],
          [
           "Mongolia",
           66.8
          ],
          [
           "Myanmar",
           62.07
          ],
          [
           "Nepal",
           63.78
          ],
          [
           "Oman",
           75.64
          ],
          [
           "Pakistan",
           65.48
          ],
          [
           "Philippines",
           71.69
          ],
          [
           "Saudi Arabia",
           72.78
          ],
          [
           "Singapore",
           79.97
          ],
          [
           "Sri Lanka",
           72.4
          ],
          [
           "Syria",
           74.14
          ],
          [
           "Taiwan",
           78.4
          ],
          [
           "Thailand",
           70.62
          ],
          [
           "Vietnam",
           74.25
          ],
          [
           "West Bank and Gaza",
           73.42
          ],
          [
           "Yemen, Rep.",
           62.7
          ]
         ],
         "hovertemplate": "Continent=%{x}<br>GDP Per Capita=%{y}<br>country=%{customdata[0]}<br>lifeExp=%{customdata[1]}<extra></extra>",
         "legendgroup": "Asia",
         "marker": {
          "color": "#3366CC"
         },
         "name": "Asia",
         "notched": false,
         "offsetgroup": "Asia",
         "orientation": "v",
         "showlegend": true,
         "type": "box",
         "x": [
          "Asia",
          "Asia",
          "Asia",
          "Asia",
          "Asia",
          "Asia",
          "Asia",
          "Asia",
          "Asia",
          "Asia",
          "Asia",
          "Asia",
          "Asia",
          "Asia",
          "Asia",
          "Asia",
          "Asia",
          "Asia",
          "Asia",
          "Asia",
          "Asia",
          "Asia",
          "Asia",
          "Asia",
          "Asia",
          "Asia",
          "Asia",
          "Asia",
          "Asia",
          "Asia",
          "Asia",
          "Asia",
          "Asia"
         ],
         "x0": " ",
         "xaxis": "x3",
         "y": [
          974.58,
          29796.05,
          1391.25,
          1713.78,
          4959.11,
          39724.98,
          2452.21,
          3540.65,
          11605.71,
          4471.06,
          25523.28,
          31656.07,
          4519.46,
          1593.07,
          23348.14,
          47306.99,
          10461.06,
          12451.66,
          3095.77,
          944,
          1091.36,
          22316.19,
          2605.95,
          3190.48,
          21654.83,
          47143.18,
          3970.1,
          4184.55,
          28718.28,
          7458.4,
          2441.58,
          3025.35,
          2280.77
         ],
         "y0": " ",
         "yaxis": "y3"
        },
        {
         "alignmentgroup": "True",
         "boxpoints": "all",
         "customdata": [
          [
           "Albania",
           76.42
          ],
          [
           "Austria",
           79.83
          ],
          [
           "Belgium",
           79.44
          ],
          [
           "Bosnia and Herzegovina",
           74.85
          ],
          [
           "Bulgaria",
           73
          ],
          [
           "Croatia",
           75.75
          ],
          [
           "Czech Republic",
           76.49
          ],
          [
           "Denmark",
           78.33
          ],
          [
           "Finland",
           79.31
          ],
          [
           "France",
           80.66
          ],
          [
           "Germany",
           79.41
          ],
          [
           "Greece",
           79.48
          ],
          [
           "Hungary",
           73.34
          ],
          [
           "Iceland",
           81.76
          ],
          [
           "Ireland",
           78.89
          ],
          [
           "Italy",
           80.55
          ],
          [
           "Montenegro",
           74.54
          ],
          [
           "Netherlands",
           79.76
          ],
          [
           "Norway",
           80.2
          ],
          [
           "Poland",
           75.56
          ],
          [
           "Portugal",
           78.1
          ],
          [
           "Romania",
           72.48
          ],
          [
           "Serbia",
           74
          ],
          [
           "Slovak Republic",
           74.66
          ],
          [
           "Slovenia",
           77.93
          ],
          [
           "Spain",
           80.94
          ],
          [
           "Sweden",
           80.88
          ],
          [
           "Switzerland",
           81.7
          ],
          [
           "Turkey",
           71.78
          ],
          [
           "United Kingdom",
           79.42
          ]
         ],
         "hovertemplate": "Continent=%{x}<br>GDP Per Capita=%{y}<br>country=%{customdata[0]}<br>lifeExp=%{customdata[1]}<extra></extra>",
         "legendgroup": "Europe",
         "marker": {
          "color": "#DC3912"
         },
         "name": "Europe",
         "notched": false,
         "offsetgroup": "Europe",
         "orientation": "v",
         "showlegend": true,
         "type": "box",
         "x": [
          "Europe",
          "Europe",
          "Europe",
          "Europe",
          "Europe",
          "Europe",
          "Europe",
          "Europe",
          "Europe",
          "Europe",
          "Europe",
          "Europe",
          "Europe",
          "Europe",
          "Europe",
          "Europe",
          "Europe",
          "Europe",
          "Europe",
          "Europe",
          "Europe",
          "Europe",
          "Europe",
          "Europe",
          "Europe",
          "Europe",
          "Europe",
          "Europe",
          "Europe",
          "Europe"
         ],
         "x0": " ",
         "xaxis": "x3",
         "y": [
          5937.03,
          36126.49,
          33692.61,
          7446.3,
          10680.79,
          14619.22,
          22833.31,
          35278.42,
          33207.08,
          30470.02,
          32170.37,
          27538.41,
          18008.94,
          36180.79,
          40676,
          28569.72,
          9253.9,
          36797.93,
          49357.19,
          15389.92,
          20509.65,
          10808.48,
          9786.53,
          18678.31,
          25768.26,
          28821.06,
          33859.75,
          37506.42,
          8458.28,
          33203.26
         ],
         "y0": " ",
         "yaxis": "y3"
        },
        {
         "alignmentgroup": "True",
         "boxpoints": "all",
         "customdata": [
          [
           "Algeria",
           72.3
          ],
          [
           "Angola",
           42.73
          ],
          [
           "Benin",
           56.73
          ],
          [
           "Botswana",
           50.73
          ],
          [
           "Burkina Faso",
           52.3
          ],
          [
           "Burundi",
           49.58
          ],
          [
           "Cameroon",
           50.43
          ],
          [
           "Central African Republic",
           44.74
          ],
          [
           "Chad",
           50.65
          ],
          [
           "Comoros",
           65.15
          ],
          [
           "Congo, Dem. Rep.",
           46.46
          ],
          [
           "Congo, Rep.",
           55.32
          ],
          [
           "Cote d'Ivoire",
           48.33
          ],
          [
           "Djibouti",
           54.79
          ],
          [
           "Egypt",
           71.34
          ],
          [
           "Equatorial Guinea",
           51.58
          ],
          [
           "Eritrea",
           58.04
          ],
          [
           "Ethiopia",
           52.95
          ],
          [
           "Gabon",
           56.73
          ],
          [
           "Gambia",
           59.45
          ],
          [
           "Ghana",
           60.02
          ],
          [
           "Guinea",
           56.01
          ],
          [
           "Guinea-Bissau",
           46.39
          ],
          [
           "Kenya",
           54.11
          ],
          [
           "Lesotho",
           42.59
          ],
          [
           "Liberia",
           45.68
          ],
          [
           "Libya",
           73.95
          ],
          [
           "Madagascar",
           59.44
          ],
          [
           "Malawi",
           48.3
          ],
          [
           "Mali",
           54.47
          ],
          [
           "Mauritania",
           64.16
          ],
          [
           "Mauritius",
           72.8
          ],
          [
           "Morocco",
           71.16
          ],
          [
           "Mozambique",
           42.08
          ],
          [
           "Namibia",
           52.91
          ],
          [
           "Niger",
           56.87
          ],
          [
           "Nigeria",
           46.86
          ],
          [
           "Reunion",
           76.44
          ],
          [
           "Rwanda",
           46.24
          ],
          [
           "Sao Tome and Principe",
           65.53
          ],
          [
           "Senegal",
           63.06
          ],
          [
           "Sierra Leone",
           42.57
          ],
          [
           "Somalia",
           48.16
          ],
          [
           "South Africa",
           49.34
          ],
          [
           "Sudan",
           58.56
          ],
          [
           "Swaziland",
           39.61
          ],
          [
           "Tanzania",
           52.52
          ],
          [
           "Togo",
           58.42
          ],
          [
           "Tunisia",
           73.92
          ],
          [
           "Uganda",
           51.54
          ],
          [
           "Zambia",
           42.38
          ],
          [
           "Zimbabwe",
           43.49
          ]
         ],
         "hovertemplate": "Continent=%{x}<br>GDP Per Capita=%{y}<br>country=%{customdata[0]}<br>lifeExp=%{customdata[1]}<extra></extra>",
         "legendgroup": "Africa",
         "marker": {
          "color": "#FF9900"
         },
         "name": "Africa",
         "notched": false,
         "offsetgroup": "Africa",
         "orientation": "v",
         "showlegend": true,
         "type": "box",
         "x": [
          "Africa",
          "Africa",
          "Africa",
          "Africa",
          "Africa",
          "Africa",
          "Africa",
          "Africa",
          "Africa",
          "Africa",
          "Africa",
          "Africa",
          "Africa",
          "Africa",
          "Africa",
          "Africa",
          "Africa",
          "Africa",
          "Africa",
          "Africa",
          "Africa",
          "Africa",
          "Africa",
          "Africa",
          "Africa",
          "Africa",
          "Africa",
          "Africa",
          "Africa",
          "Africa",
          "Africa",
          "Africa",
          "Africa",
          "Africa",
          "Africa",
          "Africa",
          "Africa",
          "Africa",
          "Africa",
          "Africa",
          "Africa",
          "Africa",
          "Africa",
          "Africa",
          "Africa",
          "Africa",
          "Africa",
          "Africa",
          "Africa",
          "Africa",
          "Africa",
          "Africa"
         ],
         "x0": " ",
         "xaxis": "x3",
         "y": [
          6223.37,
          4797.23,
          1441.28,
          12569.85,
          1217.03,
          430.07,
          2042.1,
          706.02,
          1704.06,
          986.15,
          277.55,
          3632.56,
          1544.75,
          2082.48,
          5581.18,
          12154.09,
          641.37,
          690.81,
          13206.48,
          752.75,
          1327.61,
          942.65,
          579.23,
          1463.25,
          1569.33,
          414.51,
          12057.5,
          1044.77,
          759.35,
          1042.58,
          1803.15,
          10956.99,
          3820.18,
          823.69,
          4811.06,
          619.68,
          2013.98,
          7670.12,
          863.09,
          1598.44,
          1712.47,
          862.54,
          926.14,
          9269.66,
          2602.39,
          4513.48,
          1107.48,
          882.97,
          7092.92,
          1056.38,
          1271.21,
          469.71
         ],
         "y0": " ",
         "yaxis": "y3"
        },
        {
         "alignmentgroup": "True",
         "boxpoints": "all",
         "customdata": [
          [
           "Argentina",
           75.32
          ],
          [
           "Bolivia",
           65.55
          ],
          [
           "Brazil",
           72.39
          ],
          [
           "Canada",
           80.65
          ],
          [
           "Chile",
           78.55
          ],
          [
           "Colombia",
           72.89
          ],
          [
           "Costa Rica",
           78.78
          ],
          [
           "Cuba",
           78.27
          ],
          [
           "Dominican Republic",
           72.23
          ],
          [
           "Ecuador",
           74.99
          ],
          [
           "El Salvador",
           71.88
          ],
          [
           "Guatemala",
           70.26
          ],
          [
           "Haiti",
           60.92
          ],
          [
           "Honduras",
           70.2
          ],
          [
           "Jamaica",
           72.57
          ],
          [
           "Mexico",
           76.19
          ],
          [
           "Nicaragua",
           72.9
          ],
          [
           "Panama",
           75.54
          ],
          [
           "Paraguay",
           71.75
          ],
          [
           "Peru",
           71.42
          ],
          [
           "Puerto Rico",
           78.75
          ],
          [
           "Trinidad and Tobago",
           69.82
          ],
          [
           "United States",
           78.24
          ],
          [
           "Uruguay",
           76.38
          ],
          [
           "Venezuela",
           73.75
          ]
         ],
         "hovertemplate": "Continent=%{x}<br>GDP Per Capita=%{y}<br>country=%{customdata[0]}<br>lifeExp=%{customdata[1]}<extra></extra>",
         "legendgroup": "Americas",
         "marker": {
          "color": "#109618"
         },
         "name": "Americas",
         "notched": false,
         "offsetgroup": "Americas",
         "orientation": "v",
         "showlegend": true,
         "type": "box",
         "x": [
          "Americas",
          "Americas",
          "Americas",
          "Americas",
          "Americas",
          "Americas",
          "Americas",
          "Americas",
          "Americas",
          "Americas",
          "Americas",
          "Americas",
          "Americas",
          "Americas",
          "Americas",
          "Americas",
          "Americas",
          "Americas",
          "Americas",
          "Americas",
          "Americas",
          "Americas",
          "Americas",
          "Americas",
          "Americas"
         ],
         "x0": " ",
         "xaxis": "x3",
         "y": [
          12779.38,
          3822.14,
          9065.8,
          36319.24,
          13171.64,
          7006.58,
          9645.06,
          8948.1,
          6025.37,
          6873.26,
          5728.35,
          5186.05,
          1201.64,
          3548.33,
          7320.88,
          11977.57,
          2749.32,
          9809.19,
          4172.84,
          7408.91,
          19328.71,
          18008.51,
          42951.65,
          10611.46,
          11415.81
         ],
         "y0": " ",
         "yaxis": "y3"
        },
        {
         "hovertemplate": "continent=Asia<br>gdpPercap=%{x}<br>probability=%{y}<extra></extra>",
         "legendgroup": "Asia",
         "line": {
          "dash": "solid",
          "shape": "hv"
         },
         "marker": {
          "color": "#3366CC",
          "symbol": "circle"
         },
         "mode": "lines",
         "name": "Asia",
         "orientation": "v",
         "showlegend": true,
         "type": "scatter",
         "x": [
          944,
          974.58,
          1091.36,
          1391.25,
          1593.07,
          1713.78,
          2280.77,
          2441.58,
          2452.21,
          2605.95,
          3025.35,
          3095.77,
          3190.48,
          3540.65,
          3970.1,
          4184.55,
          4471.06,
          4519.46,
          4959.11,
          7458.4,
          10461.06,
          11605.71,
          12451.66,
          21654.83,
          22316.19,
          23348.14,
          25523.28,
          28718.28,
          29796.05,
          31656.07,
          39724.98,
          47143.18,
          47306.99
         ],
         "xaxis": "x4",
         "y": [
          0.030303030303030304,
          0.06060606060606061,
          0.09090909090909091,
          0.12121212121212122,
          0.15151515151515152,
          0.18181818181818182,
          0.21212121212121213,
          0.24242424242424243,
          0.2727272727272727,
          0.30303030303030304,
          0.3333333333333333,
          0.36363636363636365,
          0.3939393939393939,
          0.42424242424242425,
          0.45454545454545453,
          0.48484848484848486,
          0.5151515151515151,
          0.5454545454545454,
          0.5757575757575758,
          0.6060606060606061,
          0.6363636363636364,
          0.6666666666666666,
          0.696969696969697,
          0.7272727272727273,
          0.7575757575757576,
          0.7878787878787878,
          0.8181818181818182,
          0.8484848484848485,
          0.8787878787878788,
          0.9090909090909091,
          0.9393939393939394,
          0.9696969696969697,
          1
         ],
         "yaxis": "y4"
        },
        {
         "hovertemplate": "continent=Europe<br>gdpPercap=%{x}<br>probability=%{y}<extra></extra>",
         "legendgroup": "Europe",
         "line": {
          "dash": "solid",
          "shape": "hv"
         },
         "marker": {
          "color": "#DC3912",
          "symbol": "circle"
         },
         "mode": "lines",
         "name": "Europe",
         "orientation": "v",
         "showlegend": true,
         "type": "scatter",
         "x": [
          5937.03,
          7446.3,
          8458.28,
          9253.9,
          9786.53,
          10680.79,
          10808.48,
          14619.22,
          15389.92,
          18008.94,
          18678.31,
          20509.65,
          22833.31,
          25768.26,
          27538.41,
          28569.72,
          28821.06,
          30470.02,
          32170.37,
          33203.26,
          33207.08,
          33692.61,
          33859.75,
          35278.42,
          36126.49,
          36180.79,
          36797.93,
          37506.42,
          40676,
          49357.19
         ],
         "xaxis": "x4",
         "y": [
          0.03333333333333333,
          0.06666666666666667,
          0.1,
          0.13333333333333333,
          0.16666666666666666,
          0.2,
          0.23333333333333334,
          0.26666666666666666,
          0.3,
          0.3333333333333333,
          0.36666666666666664,
          0.4,
          0.43333333333333335,
          0.4666666666666667,
          0.5,
          0.5333333333333333,
          0.5666666666666667,
          0.6,
          0.6333333333333333,
          0.6666666666666666,
          0.7,
          0.7333333333333333,
          0.7666666666666667,
          0.8,
          0.8333333333333334,
          0.8666666666666667,
          0.9,
          0.9333333333333333,
          0.9666666666666667,
          1
         ],
         "yaxis": "y4"
        },
        {
         "hovertemplate": "continent=Africa<br>gdpPercap=%{x}<br>probability=%{y}<extra></extra>",
         "legendgroup": "Africa",
         "line": {
          "dash": "solid",
          "shape": "hv"
         },
         "marker": {
          "color": "#FF9900",
          "symbol": "circle"
         },
         "mode": "lines",
         "name": "Africa",
         "orientation": "v",
         "showlegend": true,
         "type": "scatter",
         "x": [
          277.55,
          414.51,
          430.07,
          469.71,
          579.23,
          619.68,
          641.37,
          690.81,
          706.02,
          752.75,
          759.35,
          823.69,
          862.54,
          863.09,
          882.97,
          926.14,
          942.65,
          986.15,
          1042.58,
          1044.77,
          1056.38,
          1107.48,
          1217.03,
          1271.21,
          1327.61,
          1441.28,
          1463.25,
          1544.75,
          1569.33,
          1598.44,
          1704.06,
          1712.47,
          1803.15,
          2013.98,
          2042.1,
          2082.48,
          2602.39,
          3632.56,
          3820.18,
          4513.48,
          4797.23,
          4811.06,
          5581.18,
          6223.37,
          7092.92,
          7670.12,
          9269.66,
          10956.99,
          12057.5,
          12154.09,
          12569.85,
          13206.48
         ],
         "xaxis": "x4",
         "y": [
          0.019230769230769232,
          0.038461538461538464,
          0.057692307692307696,
          0.07692307692307693,
          0.09615384615384616,
          0.11538461538461539,
          0.1346153846153846,
          0.15384615384615385,
          0.17307692307692307,
          0.19230769230769232,
          0.21153846153846154,
          0.23076923076923078,
          0.25,
          0.2692307692307692,
          0.28846153846153844,
          0.3076923076923077,
          0.3269230769230769,
          0.34615384615384615,
          0.36538461538461536,
          0.38461538461538464,
          0.40384615384615385,
          0.4230769230769231,
          0.4423076923076923,
          0.46153846153846156,
          0.4807692307692308,
          0.5,
          0.5192307692307693,
          0.5384615384615384,
          0.5576923076923077,
          0.5769230769230769,
          0.5961538461538461,
          0.6153846153846154,
          0.6346153846153846,
          0.6538461538461539,
          0.6730769230769231,
          0.6923076923076923,
          0.7115384615384616,
          0.7307692307692307,
          0.75,
          0.7692307692307693,
          0.7884615384615384,
          0.8076923076923077,
          0.8269230769230769,
          0.8461538461538461,
          0.8653846153846154,
          0.8846153846153846,
          0.9038461538461539,
          0.9230769230769231,
          0.9423076923076923,
          0.9615384615384616,
          0.9807692307692307,
          1
         ],
         "yaxis": "y4"
        },
        {
         "hovertemplate": "continent=Americas<br>gdpPercap=%{x}<br>probability=%{y}<extra></extra>",
         "legendgroup": "Americas",
         "line": {
          "dash": "solid",
          "shape": "hv"
         },
         "marker": {
          "color": "#109618",
          "symbol": "circle"
         },
         "mode": "lines",
         "name": "Americas",
         "orientation": "v",
         "showlegend": true,
         "type": "scatter",
         "x": [
          1201.64,
          2749.32,
          3548.33,
          3822.14,
          4172.84,
          5186.05,
          5728.35,
          6025.37,
          6873.26,
          7006.58,
          7320.88,
          7408.91,
          8948.1,
          9065.8,
          9645.06,
          9809.19,
          10611.46,
          11415.81,
          11977.57,
          12779.38,
          13171.64,
          18008.51,
          19328.71,
          36319.24,
          42951.65
         ],
         "xaxis": "x4",
         "y": [
          0.04,
          0.08,
          0.12,
          0.16,
          0.2,
          0.24,
          0.28,
          0.32,
          0.36,
          0.4,
          0.44,
          0.48,
          0.52,
          0.56,
          0.6,
          0.64,
          0.68,
          0.72,
          0.76,
          0.8,
          0.84,
          0.88,
          0.92,
          0.96,
          1
         ],
         "yaxis": "y4"
        },
        {
         "customdata": [
          [
           "Asia",
           "Afghanistan"
          ],
          [
           "Asia",
           "Bahrain"
          ],
          [
           "Asia",
           "Bangladesh"
          ],
          [
           "Asia",
           "Cambodia"
          ],
          [
           "Asia",
           "China"
          ],
          [
           "Asia",
           "Hong Kong, China"
          ],
          [
           "Asia",
           "India"
          ],
          [
           "Asia",
           "Indonesia"
          ],
          [
           "Asia",
           "Iran"
          ],
          [
           "Asia",
           "Iraq"
          ],
          [
           "Asia",
           "Israel"
          ],
          [
           "Asia",
           "Japan"
          ],
          [
           "Asia",
           "Jordan"
          ],
          [
           "Asia",
           "Korea, Dem. Rep."
          ],
          [
           "Asia",
           "Korea, Rep."
          ],
          [
           "Asia",
           "Kuwait"
          ],
          [
           "Asia",
           "Lebanon"
          ],
          [
           "Asia",
           "Malaysia"
          ],
          [
           "Asia",
           "Mongolia"
          ],
          [
           "Asia",
           "Myanmar"
          ],
          [
           "Asia",
           "Nepal"
          ],
          [
           "Asia",
           "Oman"
          ],
          [
           "Asia",
           "Pakistan"
          ],
          [
           "Asia",
           "Philippines"
          ],
          [
           "Asia",
           "Saudi Arabia"
          ],
          [
           "Asia",
           "Singapore"
          ],
          [
           "Asia",
           "Sri Lanka"
          ],
          [
           "Asia",
           "Syria"
          ],
          [
           "Asia",
           "Taiwan"
          ],
          [
           "Asia",
           "Thailand"
          ],
          [
           "Asia",
           "Vietnam"
          ],
          [
           "Asia",
           "West Bank and Gaza"
          ],
          [
           "Asia",
           "Yemen, Rep."
          ]
         ],
         "hovertemplate": "continent=%{customdata[0]}<br>GDP Per Capita=%{x}<br>Life Expectancy=%{y}<br>country=%{customdata[1]}<extra></extra>",
         "legendgroup": "Asia",
         "marker": {
          "color": "#3366CC",
          "symbol": "circle"
         },
         "mode": "markers",
         "name": "Asia",
         "orientation": "v",
         "showlegend": true,
         "type": "scatter",
         "x": [
          974.58,
          29796.05,
          1391.25,
          1713.78,
          4959.11,
          39724.98,
          2452.21,
          3540.65,
          11605.71,
          4471.06,
          25523.28,
          31656.07,
          4519.46,
          1593.07,
          23348.14,
          47306.99,
          10461.06,
          12451.66,
          3095.77,
          944,
          1091.36,
          22316.19,
          2605.95,
          3190.48,
          21654.83,
          47143.18,
          3970.1,
          4184.55,
          28718.28,
          7458.4,
          2441.58,
          3025.35,
          2280.77
         ],
         "xaxis": "x5",
         "y": [
          43.83,
          75.64,
          64.06,
          59.72,
          72.96,
          82.21,
          64.7,
          70.65,
          70.96,
          59.55,
          80.75,
          82.6,
          72.53,
          67.3,
          78.62,
          77.59,
          71.99,
          74.24,
          66.8,
          62.07,
          63.78,
          75.64,
          65.48,
          71.69,
          72.78,
          79.97,
          72.4,
          74.14,
          78.4,
          70.62,
          74.25,
          73.42,
          62.7
         ],
         "yaxis": "y5"
        },
        {
         "customdata": [
          [
           "Europe",
           "Albania"
          ],
          [
           "Europe",
           "Austria"
          ],
          [
           "Europe",
           "Belgium"
          ],
          [
           "Europe",
           "Bosnia and Herzegovina"
          ],
          [
           "Europe",
           "Bulgaria"
          ],
          [
           "Europe",
           "Croatia"
          ],
          [
           "Europe",
           "Czech Republic"
          ],
          [
           "Europe",
           "Denmark"
          ],
          [
           "Europe",
           "Finland"
          ],
          [
           "Europe",
           "France"
          ],
          [
           "Europe",
           "Germany"
          ],
          [
           "Europe",
           "Greece"
          ],
          [
           "Europe",
           "Hungary"
          ],
          [
           "Europe",
           "Iceland"
          ],
          [
           "Europe",
           "Ireland"
          ],
          [
           "Europe",
           "Italy"
          ],
          [
           "Europe",
           "Montenegro"
          ],
          [
           "Europe",
           "Netherlands"
          ],
          [
           "Europe",
           "Norway"
          ],
          [
           "Europe",
           "Poland"
          ],
          [
           "Europe",
           "Portugal"
          ],
          [
           "Europe",
           "Romania"
          ],
          [
           "Europe",
           "Serbia"
          ],
          [
           "Europe",
           "Slovak Republic"
          ],
          [
           "Europe",
           "Slovenia"
          ],
          [
           "Europe",
           "Spain"
          ],
          [
           "Europe",
           "Sweden"
          ],
          [
           "Europe",
           "Switzerland"
          ],
          [
           "Europe",
           "Turkey"
          ],
          [
           "Europe",
           "United Kingdom"
          ]
         ],
         "hovertemplate": "continent=%{customdata[0]}<br>GDP Per Capita=%{x}<br>Life Expectancy=%{y}<br>country=%{customdata[1]}<extra></extra>",
         "legendgroup": "Europe",
         "marker": {
          "color": "#DC3912",
          "symbol": "circle"
         },
         "mode": "markers",
         "name": "Europe",
         "orientation": "v",
         "showlegend": true,
         "type": "scatter",
         "x": [
          5937.03,
          36126.49,
          33692.61,
          7446.3,
          10680.79,
          14619.22,
          22833.31,
          35278.42,
          33207.08,
          30470.02,
          32170.37,
          27538.41,
          18008.94,
          36180.79,
          40676,
          28569.72,
          9253.9,
          36797.93,
          49357.19,
          15389.92,
          20509.65,
          10808.48,
          9786.53,
          18678.31,
          25768.26,
          28821.06,
          33859.75,
          37506.42,
          8458.28,
          33203.26
         ],
         "xaxis": "x5",
         "y": [
          76.42,
          79.83,
          79.44,
          74.85,
          73,
          75.75,
          76.49,
          78.33,
          79.31,
          80.66,
          79.41,
          79.48,
          73.34,
          81.76,
          78.89,
          80.55,
          74.54,
          79.76,
          80.2,
          75.56,
          78.1,
          72.48,
          74,
          74.66,
          77.93,
          80.94,
          80.88,
          81.7,
          71.78,
          79.42
         ],
         "yaxis": "y5"
        },
        {
         "customdata": [
          [
           "Africa",
           "Algeria"
          ],
          [
           "Africa",
           "Angola"
          ],
          [
           "Africa",
           "Benin"
          ],
          [
           "Africa",
           "Botswana"
          ],
          [
           "Africa",
           "Burkina Faso"
          ],
          [
           "Africa",
           "Burundi"
          ],
          [
           "Africa",
           "Cameroon"
          ],
          [
           "Africa",
           "Central African Republic"
          ],
          [
           "Africa",
           "Chad"
          ],
          [
           "Africa",
           "Comoros"
          ],
          [
           "Africa",
           "Congo, Dem. Rep."
          ],
          [
           "Africa",
           "Congo, Rep."
          ],
          [
           "Africa",
           "Cote d'Ivoire"
          ],
          [
           "Africa",
           "Djibouti"
          ],
          [
           "Africa",
           "Egypt"
          ],
          [
           "Africa",
           "Equatorial Guinea"
          ],
          [
           "Africa",
           "Eritrea"
          ],
          [
           "Africa",
           "Ethiopia"
          ],
          [
           "Africa",
           "Gabon"
          ],
          [
           "Africa",
           "Gambia"
          ],
          [
           "Africa",
           "Ghana"
          ],
          [
           "Africa",
           "Guinea"
          ],
          [
           "Africa",
           "Guinea-Bissau"
          ],
          [
           "Africa",
           "Kenya"
          ],
          [
           "Africa",
           "Lesotho"
          ],
          [
           "Africa",
           "Liberia"
          ],
          [
           "Africa",
           "Libya"
          ],
          [
           "Africa",
           "Madagascar"
          ],
          [
           "Africa",
           "Malawi"
          ],
          [
           "Africa",
           "Mali"
          ],
          [
           "Africa",
           "Mauritania"
          ],
          [
           "Africa",
           "Mauritius"
          ],
          [
           "Africa",
           "Morocco"
          ],
          [
           "Africa",
           "Mozambique"
          ],
          [
           "Africa",
           "Namibia"
          ],
          [
           "Africa",
           "Niger"
          ],
          [
           "Africa",
           "Nigeria"
          ],
          [
           "Africa",
           "Reunion"
          ],
          [
           "Africa",
           "Rwanda"
          ],
          [
           "Africa",
           "Sao Tome and Principe"
          ],
          [
           "Africa",
           "Senegal"
          ],
          [
           "Africa",
           "Sierra Leone"
          ],
          [
           "Africa",
           "Somalia"
          ],
          [
           "Africa",
           "South Africa"
          ],
          [
           "Africa",
           "Sudan"
          ],
          [
           "Africa",
           "Swaziland"
          ],
          [
           "Africa",
           "Tanzania"
          ],
          [
           "Africa",
           "Togo"
          ],
          [
           "Africa",
           "Tunisia"
          ],
          [
           "Africa",
           "Uganda"
          ],
          [
           "Africa",
           "Zambia"
          ],
          [
           "Africa",
           "Zimbabwe"
          ]
         ],
         "hovertemplate": "continent=%{customdata[0]}<br>GDP Per Capita=%{x}<br>Life Expectancy=%{y}<br>country=%{customdata[1]}<extra></extra>",
         "legendgroup": "Africa",
         "marker": {
          "color": "#FF9900",
          "symbol": "circle"
         },
         "mode": "markers",
         "name": "Africa",
         "orientation": "v",
         "showlegend": true,
         "type": "scatter",
         "x": [
          6223.37,
          4797.23,
          1441.28,
          12569.85,
          1217.03,
          430.07,
          2042.1,
          706.02,
          1704.06,
          986.15,
          277.55,
          3632.56,
          1544.75,
          2082.48,
          5581.18,
          12154.09,
          641.37,
          690.81,
          13206.48,
          752.75,
          1327.61,
          942.65,
          579.23,
          1463.25,
          1569.33,
          414.51,
          12057.5,
          1044.77,
          759.35,
          1042.58,
          1803.15,
          10956.99,
          3820.18,
          823.69,
          4811.06,
          619.68,
          2013.98,
          7670.12,
          863.09,
          1598.44,
          1712.47,
          862.54,
          926.14,
          9269.66,
          2602.39,
          4513.48,
          1107.48,
          882.97,
          7092.92,
          1056.38,
          1271.21,
          469.71
         ],
         "xaxis": "x5",
         "y": [
          72.3,
          42.73,
          56.73,
          50.73,
          52.3,
          49.58,
          50.43,
          44.74,
          50.65,
          65.15,
          46.46,
          55.32,
          48.33,
          54.79,
          71.34,
          51.58,
          58.04,
          52.95,
          56.73,
          59.45,
          60.02,
          56.01,
          46.39,
          54.11,
          42.59,
          45.68,
          73.95,
          59.44,
          48.3,
          54.47,
          64.16,
          72.8,
          71.16,
          42.08,
          52.91,
          56.87,
          46.86,
          76.44,
          46.24,
          65.53,
          63.06,
          42.57,
          48.16,
          49.34,
          58.56,
          39.61,
          52.52,
          58.42,
          73.92,
          51.54,
          42.38,
          43.49
         ],
         "yaxis": "y5"
        },
        {
         "customdata": [
          [
           "Americas",
           "Argentina"
          ],
          [
           "Americas",
           "Bolivia"
          ],
          [
           "Americas",
           "Brazil"
          ],
          [
           "Americas",
           "Canada"
          ],
          [
           "Americas",
           "Chile"
          ],
          [
           "Americas",
           "Colombia"
          ],
          [
           "Americas",
           "Costa Rica"
          ],
          [
           "Americas",
           "Cuba"
          ],
          [
           "Americas",
           "Dominican Republic"
          ],
          [
           "Americas",
           "Ecuador"
          ],
          [
           "Americas",
           "El Salvador"
          ],
          [
           "Americas",
           "Guatemala"
          ],
          [
           "Americas",
           "Haiti"
          ],
          [
           "Americas",
           "Honduras"
          ],
          [
           "Americas",
           "Jamaica"
          ],
          [
           "Americas",
           "Mexico"
          ],
          [
           "Americas",
           "Nicaragua"
          ],
          [
           "Americas",
           "Panama"
          ],
          [
           "Americas",
           "Paraguay"
          ],
          [
           "Americas",
           "Peru"
          ],
          [
           "Americas",
           "Puerto Rico"
          ],
          [
           "Americas",
           "Trinidad and Tobago"
          ],
          [
           "Americas",
           "United States"
          ],
          [
           "Americas",
           "Uruguay"
          ],
          [
           "Americas",
           "Venezuela"
          ]
         ],
         "hovertemplate": "continent=%{customdata[0]}<br>GDP Per Capita=%{x}<br>Life Expectancy=%{y}<br>country=%{customdata[1]}<extra></extra>",
         "legendgroup": "Americas",
         "marker": {
          "color": "#109618",
          "symbol": "circle"
         },
         "mode": "markers",
         "name": "Americas",
         "orientation": "v",
         "showlegend": true,
         "type": "scatter",
         "x": [
          12779.38,
          3822.14,
          9065.8,
          36319.24,
          13171.64,
          7006.58,
          9645.06,
          8948.1,
          6025.37,
          6873.26,
          5728.35,
          5186.05,
          1201.64,
          3548.33,
          7320.88,
          11977.57,
          2749.32,
          9809.19,
          4172.84,
          7408.91,
          19328.71,
          18008.51,
          42951.65,
          10611.46,
          11415.81
         ],
         "xaxis": "x5",
         "y": [
          75.32,
          65.55,
          72.39,
          80.65,
          78.55,
          72.89,
          78.78,
          78.27,
          72.23,
          74.99,
          71.88,
          70.26,
          60.92,
          70.2,
          72.57,
          76.19,
          72.9,
          75.54,
          71.75,
          71.42,
          78.75,
          69.82,
          78.24,
          76.38,
          73.75
         ],
         "yaxis": "y5"
        }
       ],
       "layout": {
        "annotations": [
         {
          "font": {
           "size": 16
          },
          "showarrow": false,
          "text": "Life Expectancy by Continent",
          "x": 0.225,
          "xanchor": "center",
          "xref": "paper",
          "y": 1,
          "yanchor": "bottom",
          "yref": "paper"
         },
         {
          "font": {
           "size": 16
          },
          "showarrow": false,
          "text": "Life Expectancy by Continent - Empirical Cumulative Distribution Function",
          "x": 0.775,
          "xanchor": "center",
          "xref": "paper",
          "y": 1,
          "yanchor": "bottom",
          "yref": "paper"
         },
         {
          "font": {
           "size": 16
          },
          "showarrow": false,
          "text": "GDP Per Capita by Continent",
          "x": 0.225,
          "xanchor": "center",
          "xref": "paper",
          "y": 0.6111111111111112,
          "yanchor": "bottom",
          "yref": "paper"
         },
         {
          "font": {
           "size": 16
          },
          "showarrow": false,
          "text": "GDP Per Capita - Empirical Cumulative Distribution Function",
          "x": 0.775,
          "xanchor": "center",
          "xref": "paper",
          "y": 0.6111111111111112,
          "yanchor": "bottom",
          "yref": "paper"
         },
         {
          "font": {
           "size": 16
          },
          "showarrow": false,
          "text": "GDP Per Capita vs Life Expectancy",
          "x": 0.225,
          "xanchor": "center",
          "xref": "paper",
          "y": 0.22222222222222224,
          "yanchor": "bottom",
          "yref": "paper"
         }
        ],
        "height": 800,
        "template": {
         "data": {
          "bar": [
           {
            "error_x": {
             "color": "#2a3f5f"
            },
            "error_y": {
             "color": "#2a3f5f"
            },
            "marker": {
             "line": {
              "color": "#E5ECF6",
              "width": 0.5
             },
             "pattern": {
              "fillmode": "overlay",
              "size": 10,
              "solidity": 0.2
             }
            },
            "type": "bar"
           }
          ],
          "barpolar": [
           {
            "marker": {
             "line": {
              "color": "#E5ECF6",
              "width": 0.5
             },
             "pattern": {
              "fillmode": "overlay",
              "size": 10,
              "solidity": 0.2
             }
            },
            "type": "barpolar"
           }
          ],
          "carpet": [
           {
            "aaxis": {
             "endlinecolor": "#2a3f5f",
             "gridcolor": "white",
             "linecolor": "white",
             "minorgridcolor": "white",
             "startlinecolor": "#2a3f5f"
            },
            "baxis": {
             "endlinecolor": "#2a3f5f",
             "gridcolor": "white",
             "linecolor": "white",
             "minorgridcolor": "white",
             "startlinecolor": "#2a3f5f"
            },
            "type": "carpet"
           }
          ],
          "choropleth": [
           {
            "colorbar": {
             "outlinewidth": 0,
             "ticks": ""
            },
            "type": "choropleth"
           }
          ],
          "contour": [
           {
            "colorbar": {
             "outlinewidth": 0,
             "ticks": ""
            },
            "colorscale": [
             [
              0,
              "#0d0887"
             ],
             [
              0.1111111111111111,
              "#46039f"
             ],
             [
              0.2222222222222222,
              "#7201a8"
             ],
             [
              0.3333333333333333,
              "#9c179e"
             ],
             [
              0.4444444444444444,
              "#bd3786"
             ],
             [
              0.5555555555555556,
              "#d8576b"
             ],
             [
              0.6666666666666666,
              "#ed7953"
             ],
             [
              0.7777777777777778,
              "#fb9f3a"
             ],
             [
              0.8888888888888888,
              "#fdca26"
             ],
             [
              1,
              "#f0f921"
             ]
            ],
            "type": "contour"
           }
          ],
          "contourcarpet": [
           {
            "colorbar": {
             "outlinewidth": 0,
             "ticks": ""
            },
            "type": "contourcarpet"
           }
          ],
          "heatmap": [
           {
            "colorbar": {
             "outlinewidth": 0,
             "ticks": ""
            },
            "colorscale": [
             [
              0,
              "#0d0887"
             ],
             [
              0.1111111111111111,
              "#46039f"
             ],
             [
              0.2222222222222222,
              "#7201a8"
             ],
             [
              0.3333333333333333,
              "#9c179e"
             ],
             [
              0.4444444444444444,
              "#bd3786"
             ],
             [
              0.5555555555555556,
              "#d8576b"
             ],
             [
              0.6666666666666666,
              "#ed7953"
             ],
             [
              0.7777777777777778,
              "#fb9f3a"
             ],
             [
              0.8888888888888888,
              "#fdca26"
             ],
             [
              1,
              "#f0f921"
             ]
            ],
            "type": "heatmap"
           }
          ],
          "heatmapgl": [
           {
            "colorbar": {
             "outlinewidth": 0,
             "ticks": ""
            },
            "colorscale": [
             [
              0,
              "#0d0887"
             ],
             [
              0.1111111111111111,
              "#46039f"
             ],
             [
              0.2222222222222222,
              "#7201a8"
             ],
             [
              0.3333333333333333,
              "#9c179e"
             ],
             [
              0.4444444444444444,
              "#bd3786"
             ],
             [
              0.5555555555555556,
              "#d8576b"
             ],
             [
              0.6666666666666666,
              "#ed7953"
             ],
             [
              0.7777777777777778,
              "#fb9f3a"
             ],
             [
              0.8888888888888888,
              "#fdca26"
             ],
             [
              1,
              "#f0f921"
             ]
            ],
            "type": "heatmapgl"
           }
          ],
          "histogram": [
           {
            "marker": {
             "pattern": {
              "fillmode": "overlay",
              "size": 10,
              "solidity": 0.2
             }
            },
            "type": "histogram"
           }
          ],
          "histogram2d": [
           {
            "colorbar": {
             "outlinewidth": 0,
             "ticks": ""
            },
            "colorscale": [
             [
              0,
              "#0d0887"
             ],
             [
              0.1111111111111111,
              "#46039f"
             ],
             [
              0.2222222222222222,
              "#7201a8"
             ],
             [
              0.3333333333333333,
              "#9c179e"
             ],
             [
              0.4444444444444444,
              "#bd3786"
             ],
             [
              0.5555555555555556,
              "#d8576b"
             ],
             [
              0.6666666666666666,
              "#ed7953"
             ],
             [
              0.7777777777777778,
              "#fb9f3a"
             ],
             [
              0.8888888888888888,
              "#fdca26"
             ],
             [
              1,
              "#f0f921"
             ]
            ],
            "type": "histogram2d"
           }
          ],
          "histogram2dcontour": [
           {
            "colorbar": {
             "outlinewidth": 0,
             "ticks": ""
            },
            "colorscale": [
             [
              0,
              "#0d0887"
             ],
             [
              0.1111111111111111,
              "#46039f"
             ],
             [
              0.2222222222222222,
              "#7201a8"
             ],
             [
              0.3333333333333333,
              "#9c179e"
             ],
             [
              0.4444444444444444,
              "#bd3786"
             ],
             [
              0.5555555555555556,
              "#d8576b"
             ],
             [
              0.6666666666666666,
              "#ed7953"
             ],
             [
              0.7777777777777778,
              "#fb9f3a"
             ],
             [
              0.8888888888888888,
              "#fdca26"
             ],
             [
              1,
              "#f0f921"
             ]
            ],
            "type": "histogram2dcontour"
           }
          ],
          "mesh3d": [
           {
            "colorbar": {
             "outlinewidth": 0,
             "ticks": ""
            },
            "type": "mesh3d"
           }
          ],
          "parcoords": [
           {
            "line": {
             "colorbar": {
              "outlinewidth": 0,
              "ticks": ""
             }
            },
            "type": "parcoords"
           }
          ],
          "pie": [
           {
            "automargin": true,
            "type": "pie"
           }
          ],
          "scatter": [
           {
            "fillpattern": {
             "fillmode": "overlay",
             "size": 10,
             "solidity": 0.2
            },
            "type": "scatter"
           }
          ],
          "scatter3d": [
           {
            "line": {
             "colorbar": {
              "outlinewidth": 0,
              "ticks": ""
             }
            },
            "marker": {
             "colorbar": {
              "outlinewidth": 0,
              "ticks": ""
             }
            },
            "type": "scatter3d"
           }
          ],
          "scattercarpet": [
           {
            "marker": {
             "colorbar": {
              "outlinewidth": 0,
              "ticks": ""
             }
            },
            "type": "scattercarpet"
           }
          ],
          "scattergeo": [
           {
            "marker": {
             "colorbar": {
              "outlinewidth": 0,
              "ticks": ""
             }
            },
            "type": "scattergeo"
           }
          ],
          "scattergl": [
           {
            "marker": {
             "colorbar": {
              "outlinewidth": 0,
              "ticks": ""
             }
            },
            "type": "scattergl"
           }
          ],
          "scattermapbox": [
           {
            "marker": {
             "colorbar": {
              "outlinewidth": 0,
              "ticks": ""
             }
            },
            "type": "scattermapbox"
           }
          ],
          "scatterpolar": [
           {
            "marker": {
             "colorbar": {
              "outlinewidth": 0,
              "ticks": ""
             }
            },
            "type": "scatterpolar"
           }
          ],
          "scatterpolargl": [
           {
            "marker": {
             "colorbar": {
              "outlinewidth": 0,
              "ticks": ""
             }
            },
            "type": "scatterpolargl"
           }
          ],
          "scatterternary": [
           {
            "marker": {
             "colorbar": {
              "outlinewidth": 0,
              "ticks": ""
             }
            },
            "type": "scatterternary"
           }
          ],
          "surface": [
           {
            "colorbar": {
             "outlinewidth": 0,
             "ticks": ""
            },
            "colorscale": [
             [
              0,
              "#0d0887"
             ],
             [
              0.1111111111111111,
              "#46039f"
             ],
             [
              0.2222222222222222,
              "#7201a8"
             ],
             [
              0.3333333333333333,
              "#9c179e"
             ],
             [
              0.4444444444444444,
              "#bd3786"
             ],
             [
              0.5555555555555556,
              "#d8576b"
             ],
             [
              0.6666666666666666,
              "#ed7953"
             ],
             [
              0.7777777777777778,
              "#fb9f3a"
             ],
             [
              0.8888888888888888,
              "#fdca26"
             ],
             [
              1,
              "#f0f921"
             ]
            ],
            "type": "surface"
           }
          ],
          "table": [
           {
            "cells": {
             "fill": {
              "color": "#EBF0F8"
             },
             "line": {
              "color": "white"
             }
            },
            "header": {
             "fill": {
              "color": "#C8D4E3"
             },
             "line": {
              "color": "white"
             }
            },
            "type": "table"
           }
          ]
         },
         "layout": {
          "annotationdefaults": {
           "arrowcolor": "#2a3f5f",
           "arrowhead": 0,
           "arrowwidth": 1
          },
          "autotypenumbers": "strict",
          "coloraxis": {
           "colorbar": {
            "outlinewidth": 0,
            "ticks": ""
           }
          },
          "colorscale": {
           "diverging": [
            [
             0,
             "#8e0152"
            ],
            [
             0.1,
             "#c51b7d"
            ],
            [
             0.2,
             "#de77ae"
            ],
            [
             0.3,
             "#f1b6da"
            ],
            [
             0.4,
             "#fde0ef"
            ],
            [
             0.5,
             "#f7f7f7"
            ],
            [
             0.6,
             "#e6f5d0"
            ],
            [
             0.7,
             "#b8e186"
            ],
            [
             0.8,
             "#7fbc41"
            ],
            [
             0.9,
             "#4d9221"
            ],
            [
             1,
             "#276419"
            ]
           ],
           "sequential": [
            [
             0,
             "#0d0887"
            ],
            [
             0.1111111111111111,
             "#46039f"
            ],
            [
             0.2222222222222222,
             "#7201a8"
            ],
            [
             0.3333333333333333,
             "#9c179e"
            ],
            [
             0.4444444444444444,
             "#bd3786"
            ],
            [
             0.5555555555555556,
             "#d8576b"
            ],
            [
             0.6666666666666666,
             "#ed7953"
            ],
            [
             0.7777777777777778,
             "#fb9f3a"
            ],
            [
             0.8888888888888888,
             "#fdca26"
            ],
            [
             1,
             "#f0f921"
            ]
           ],
           "sequentialminus": [
            [
             0,
             "#0d0887"
            ],
            [
             0.1111111111111111,
             "#46039f"
            ],
            [
             0.2222222222222222,
             "#7201a8"
            ],
            [
             0.3333333333333333,
             "#9c179e"
            ],
            [
             0.4444444444444444,
             "#bd3786"
            ],
            [
             0.5555555555555556,
             "#d8576b"
            ],
            [
             0.6666666666666666,
             "#ed7953"
            ],
            [
             0.7777777777777778,
             "#fb9f3a"
            ],
            [
             0.8888888888888888,
             "#fdca26"
            ],
            [
             1,
             "#f0f921"
            ]
           ]
          },
          "colorway": [
           "#636efa",
           "#EF553B",
           "#00cc96",
           "#ab63fa",
           "#FFA15A",
           "#19d3f3",
           "#FF6692",
           "#B6E880",
           "#FF97FF",
           "#FECB52"
          ],
          "font": {
           "color": "#2a3f5f"
          },
          "geo": {
           "bgcolor": "white",
           "lakecolor": "white",
           "landcolor": "#E5ECF6",
           "showlakes": true,
           "showland": true,
           "subunitcolor": "white"
          },
          "hoverlabel": {
           "align": "left"
          },
          "hovermode": "closest",
          "mapbox": {
           "style": "light"
          },
          "paper_bgcolor": "white",
          "plot_bgcolor": "#E5ECF6",
          "polar": {
           "angularaxis": {
            "gridcolor": "white",
            "linecolor": "white",
            "ticks": ""
           },
           "bgcolor": "#E5ECF6",
           "radialaxis": {
            "gridcolor": "white",
            "linecolor": "white",
            "ticks": ""
           }
          },
          "scene": {
           "xaxis": {
            "backgroundcolor": "#E5ECF6",
            "gridcolor": "white",
            "gridwidth": 2,
            "linecolor": "white",
            "showbackground": true,
            "ticks": "",
            "zerolinecolor": "white"
           },
           "yaxis": {
            "backgroundcolor": "#E5ECF6",
            "gridcolor": "white",
            "gridwidth": 2,
            "linecolor": "white",
            "showbackground": true,
            "ticks": "",
            "zerolinecolor": "white"
           },
           "zaxis": {
            "backgroundcolor": "#E5ECF6",
            "gridcolor": "white",
            "gridwidth": 2,
            "linecolor": "white",
            "showbackground": true,
            "ticks": "",
            "zerolinecolor": "white"
           }
          },
          "shapedefaults": {
           "line": {
            "color": "#2a3f5f"
           }
          },
          "ternary": {
           "aaxis": {
            "gridcolor": "white",
            "linecolor": "white",
            "ticks": ""
           },
           "baxis": {
            "gridcolor": "white",
            "linecolor": "white",
            "ticks": ""
           },
           "bgcolor": "#E5ECF6",
           "caxis": {
            "gridcolor": "white",
            "linecolor": "white",
            "ticks": ""
           }
          },
          "title": {
           "x": 0.05
          },
          "xaxis": {
           "automargin": true,
           "gridcolor": "white",
           "linecolor": "white",
           "ticks": "",
           "title": {
            "standoff": 15
           },
           "zerolinecolor": "white",
           "zerolinewidth": 2
          },
          "yaxis": {
           "automargin": true,
           "gridcolor": "white",
           "linecolor": "white",
           "ticks": "",
           "title": {
            "standoff": 15
           },
           "zerolinecolor": "white",
           "zerolinewidth": 2
          }
         }
        },
        "title": {
         "text": "Exploratory Analysis - Plots",
         "x": 0
        },
        "width": 1200,
        "xaxis": {
         "anchor": "y",
         "domain": [
          0,
          0.45
         ]
        },
        "xaxis2": {
         "anchor": "y2",
         "domain": [
          0.55,
          1
         ]
        },
        "xaxis3": {
         "anchor": "y3",
         "domain": [
          0,
          0.45
         ]
        },
        "xaxis4": {
         "anchor": "y4",
         "domain": [
          0.55,
          1
         ]
        },
        "xaxis5": {
         "anchor": "y5",
         "domain": [
          0,
          1
         ]
        },
        "xaxis6": {
         "anchor": "y6",
         "domain": [
          0.55,
          1
         ]
        },
        "yaxis": {
         "anchor": "x",
         "domain": [
          0.7777777777777778,
          1
         ]
        },
        "yaxis2": {
         "anchor": "x2",
         "domain": [
          0.7777777777777778,
          1
         ]
        },
        "yaxis3": {
         "anchor": "x3",
         "domain": [
          0.3888888888888889,
          0.6111111111111112
         ]
        },
        "yaxis4": {
         "anchor": "x4",
         "domain": [
          0.3888888888888889,
          0.6111111111111112
         ]
        },
        "yaxis5": {
         "anchor": "x5",
         "domain": [
          0,
          0.22222222222222224
         ]
        },
        "yaxis6": {
         "anchor": "x6",
         "domain": [
          0,
          0.22222222222222224
         ]
        }
       }
      }
     },
     "metadata": {},
     "output_type": "display_data"
    }
   ],
   "source": [
    "fig1 = px.box(data_frame=df[df[\"continent\"] != \"Oceania\"],\n",
    "    x=\"continent\",\n",
    "    y=\"lifeExp\",\n",
    "    color=\"continent\",\n",
    "    color_discrete_sequence=px.colors.qualitative.G10,\n",
    "    points=\"all\",\n",
    "    hover_data=df.columns[[1, 0, 3]],\n",
    "    labels={\"continent\": \"Continent\", \"lifeExp\": \"Life Expectancy\"}\n",
    ")\n",
    "\n",
    "fig2 = px.ecdf(data_frame=df[df[\"continent\"] != \"Oceania\"],\n",
    "                    x=\"lifeExp\",\n",
    "                    color=\"continent\",\n",
    "                    color_discrete_sequence=px.colors.qualitative.G10)\n",
    "\n",
    "\n",
    "\n",
    "fig3 = px.box(\n",
    "    data_frame = df[df[\"continent\"] != \"Oceania\"],\n",
    "    x=\"continent\",\n",
    "    y=\"gdpPercap\",\n",
    "    color=\"continent\",\n",
    "    color_discrete_sequence=px.colors.qualitative.G10,\n",
    "    points=\"all\",\n",
    "    hover_data=df.columns[[1, 0, 3]],\n",
    "    labels={\"continent\": \"Continent\", \"gdpPercap\": \"GDP Per Capita\"}\n",
    ")\n",
    "\n",
    "fig4 = px.ecdf(data_frame=df[df[\"continent\"] != \"Oceania\"],\n",
    "                    x=\"gdpPercap\",\n",
    "                    color=\"continent\",\n",
    "                    color_discrete_sequence=px.colors.qualitative.G10)\n",
    "\n",
    "\n",
    "fig5 = px.scatter(\n",
    "    data_frame = df[df[\"continent\"] != \"Oceania\"],\n",
    "    x=\"gdpPercap\",\n",
    "    y=\"lifeExp\",\n",
    "    color=\"continent\",\n",
    "    color_discrete_sequence=px.colors.qualitative.G10,\n",
    "    hover_data=df.columns[[1, 0, 3]],\n",
    "    labels={\"gdpPercap\": \"GDP Per Capita\", \"lifeExp\": \"Life Expectancy\"}\n",
    ")\n",
    "fig5.update_layout(xaxis_title = \"\")\n",
    "\n",
    "\n",
    "fig_combined = make_subplots(rows=3, cols=2, subplot_titles=[\"Life Expectancy by Continent\", \"Life Expectancy by Continent - Empirical Cumulative Distribution Function\",\"GDP Per Capita by Continent\", \"GDP Per Capita - Empirical Cumulative Distribution Function\",\n",
    "                                                             \"GDP Per Capita vs Life Expectancy\"])\n",
    "\n",
    "\n",
    "for trace in fig1.data:\n",
    "    trace.showlegend = True\n",
    "    fig_combined.add_trace(trace, row=1, col=1)\n",
    "\n",
    "for trace in fig2.data:\n",
    "    trace.showlegend = True\n",
    "    fig_combined.add_trace(trace, row=1, col=2)\n",
    "\n",
    "for trace in fig3.data:\n",
    "    trace.showlegend=True\n",
    "    fig_combined.add_trace(trace,row=2,col=1)\n",
    "\n",
    "for trace in fig4.data:\n",
    "    trace.showlegend=True\n",
    "    fig_combined.add_trace(trace,row=2,col=2)\n",
    "\n",
    "for trace in fig5.data:\n",
    "    trace.showlegend=True\n",
    "    fig_combined.add_trace(trace,row=3,col=1)\n",
    "\n",
    "\n",
    "fig_combined.update_layout({'xaxis5': {'domain': [0, 1]}})\n",
    "fig_combined.update_layout(height=800, width=1200, title_text=\"Exploratory Analysis - Plots\")\n",
    "fig_combined.update_layout(title=dict(x=0))\n",
    "\n",
    "\n",
    "fig_combined.show()"
   ]
  },
  {
   "cell_type": "code",
   "execution_count": 217,
   "metadata": {},
   "outputs": [],
   "source": [
    "df2 = gapminder"
   ]
  },
  {
   "cell_type": "markdown",
   "metadata": {},
   "source": [
    "## Plot 2"
   ]
  },
  {
   "cell_type": "code",
   "execution_count": 235,
   "metadata": {},
   "outputs": [
    {
     "data": {
      "application/vnd.plotly.v1+json": {
       "config": {
        "plotlyServerURL": "https://plot.ly"
       },
       "data": [
        {
         "hovertemplate": "continent=Africa<br>year=%{x}<br>lifeExp=%{y}<extra></extra>",
         "legendgroup": "Africa",
         "line": {
          "color": "#3366CC",
          "dash": "solid"
         },
         "marker": {
          "symbol": "circle"
         },
         "mode": "lines+markers",
         "name": "Africa",
         "orientation": "v",
         "showlegend": true,
         "type": "scatter",
         "x": [
          1952,
          1957,
          1962,
          1967,
          1972,
          1977,
          1982,
          1987,
          1992,
          1997,
          2002,
          2007
         ],
         "xaxis": "x",
         "y": [
          39.1355,
          41.26634615384615,
          43.319442307692306,
          45.334538461538465,
          47.45094230769231,
          49.580423076923076,
          51.592865384615386,
          53.344788461538464,
          53.62957692307692,
          53.59826923076923,
          53.325230769230764,
          54.80603846153846
         ],
         "yaxis": "y"
        },
        {
         "hovertemplate": "continent=Americas<br>year=%{x}<br>lifeExp=%{y}<extra></extra>",
         "legendgroup": "Americas",
         "line": {
          "color": "#DC3912",
          "dash": "solid"
         },
         "marker": {
          "symbol": "circle"
         },
         "mode": "lines+markers",
         "name": "Americas",
         "orientation": "v",
         "showlegend": true,
         "type": "scatter",
         "x": [
          1952,
          1957,
          1962,
          1967,
          1972,
          1977,
          1982,
          1987,
          1992,
          1997,
          2002,
          2007
         ],
         "xaxis": "x",
         "y": [
          53.27984000000001,
          55.960280000000004,
          58.39876,
          60.41092,
          62.39492,
          64.39156,
          66.22884,
          68.09072,
          69.56836,
          71.15048,
          72.42204,
          73.60812
         ],
         "yaxis": "y"
        },
        {
         "hovertemplate": "continent=Asia<br>year=%{x}<br>lifeExp=%{y}<extra></extra>",
         "legendgroup": "Asia",
         "line": {
          "color": "#FF9900",
          "dash": "solid"
         },
         "marker": {
          "symbol": "circle"
         },
         "mode": "lines+markers",
         "name": "Asia",
         "orientation": "v",
         "showlegend": true,
         "type": "scatter",
         "x": [
          1952,
          1957,
          1962,
          1967,
          1972,
          1977,
          1982,
          1987,
          1992,
          1997,
          2002,
          2007
         ],
         "xaxis": "x",
         "y": [
          46.31439393939394,
          49.318544242424245,
          51.56322303030303,
          54.66364,
          57.319269090909096,
          59.61055636363636,
          62.61793939393939,
          64.85118181818181,
          66.53721212121212,
          68.02051515151516,
          69.23387878787878,
          70.72848484848485
         ],
         "yaxis": "y"
        },
        {
         "hovertemplate": "continent=Europe<br>year=%{x}<br>lifeExp=%{y}<extra></extra>",
         "legendgroup": "Europe",
         "line": {
          "color": "#109618",
          "dash": "solid"
         },
         "marker": {
          "symbol": "circle"
         },
         "mode": "lines+markers",
         "name": "Europe",
         "orientation": "v",
         "showlegend": true,
         "type": "scatter",
         "x": [
          1952,
          1957,
          1962,
          1967,
          1972,
          1977,
          1982,
          1987,
          1992,
          1997,
          2002,
          2007
         ],
         "xaxis": "x",
         "y": [
          64.4085,
          66.70306666666667,
          68.53923333333334,
          69.7376,
          70.77503333333334,
          71.93776666666666,
          72.8064,
          73.64216666666667,
          74.4401,
          75.50516666666667,
          76.7006,
          77.6486
         ],
         "yaxis": "y"
        },
        {
         "hovertemplate": "continent=Oceania<br>year=%{x}<br>lifeExp=%{y}<extra></extra>",
         "legendgroup": "Oceania",
         "line": {
          "color": "#990099",
          "dash": "solid"
         },
         "marker": {
          "symbol": "circle"
         },
         "mode": "lines+markers",
         "name": "Oceania",
         "orientation": "v",
         "showlegend": true,
         "type": "scatter",
         "x": [
          1952,
          1957,
          1962,
          1967,
          1972,
          1977,
          1982,
          1987,
          1992,
          1997,
          2002,
          2007
         ],
         "xaxis": "x",
         "y": [
          69.255,
          70.295,
          71.08500000000001,
          71.31,
          71.91,
          72.85499999999999,
          74.28999999999999,
          75.32,
          76.945,
          78.19,
          79.74000000000001,
          80.7195
         ],
         "yaxis": "y"
        },
        {
         "hovertemplate": "continent=Africa<br>year=%{x}<br>pop=%{y}<extra></extra>",
         "legendgroup": "Africa",
         "line": {
          "color": "#3366CC",
          "dash": "solid"
         },
         "marker": {
          "symbol": "circle"
         },
         "mode": "lines+markers",
         "name": "Africa",
         "orientation": "v",
         "showlegend": true,
         "type": "scatter",
         "x": [
          1952,
          1957,
          1962,
          1967,
          1972,
          1977,
          1982,
          1987,
          1992,
          1997,
          2002,
          2007
         ],
         "xaxis": "x2",
         "y": [
          4570009.634615385,
          5093033.423076923,
          5702247.403846154,
          6447874.788461538,
          7305375.788461538,
          8328096.557692308,
          9602857.442307692,
          11054502.115384616,
          12674644.557692308,
          14304480.461538462,
          16033152.23076923,
          17875763.307692308
         ],
         "yaxis": "y2"
        },
        {
         "hovertemplate": "continent=Americas<br>year=%{x}<br>pop=%{y}<extra></extra>",
         "legendgroup": "Americas",
         "line": {
          "color": "#DC3912",
          "dash": "solid"
         },
         "marker": {
          "symbol": "circle"
         },
         "mode": "lines+markers",
         "name": "Americas",
         "orientation": "v",
         "showlegend": true,
         "type": "scatter",
         "x": [
          1952,
          1957,
          1962,
          1967,
          1972,
          1977,
          1982,
          1987,
          1992,
          1997,
          2002,
          2007
         ],
         "xaxis": "x2",
         "y": [
          13806097.84,
          15478156.64,
          17330810.16,
          19229864.92,
          21175368.4,
          23122707.96,
          25211636.8,
          27310158.84,
          29570964.16,
          31876016.4,
          33990910.48,
          35954847.36
         ],
         "yaxis": "y2"
        },
        {
         "hovertemplate": "continent=Asia<br>year=%{x}<br>pop=%{y}<extra></extra>",
         "legendgroup": "Asia",
         "line": {
          "color": "#FF9900",
          "dash": "solid"
         },
         "marker": {
          "symbol": "circle"
         },
         "mode": "lines+markers",
         "name": "Asia",
         "orientation": "v",
         "showlegend": true,
         "type": "scatter",
         "x": [
          1952,
          1957,
          1962,
          1967,
          1972,
          1977,
          1982,
          1987,
          1992,
          1997,
          2002,
          2007
         ],
         "xaxis": "x2",
         "y": [
          42283556.09090909,
          47356987.84848485,
          51404763.09090909,
          57747360.60606061,
          65180977.21212121,
          72257986.54545455,
          79095017.63636364,
          87006689.75757575,
          94948248.21212122,
          102523803.03030303,
          109145521.3030303,
          115513752.33333333
         ],
         "yaxis": "y2"
        },
        {
         "hovertemplate": "continent=Europe<br>year=%{x}<br>pop=%{y}<extra></extra>",
         "legendgroup": "Europe",
         "line": {
          "color": "#109618",
          "dash": "solid"
         },
         "marker": {
          "symbol": "circle"
         },
         "mode": "lines+markers",
         "name": "Europe",
         "orientation": "v",
         "showlegend": true,
         "type": "scatter",
         "x": [
          1952,
          1957,
          1962,
          1967,
          1972,
          1977,
          1982,
          1987,
          1992,
          1997,
          2002,
          2007
         ],
         "xaxis": "x2",
         "y": [
          13937361.533333333,
          14596345.033333333,
          15345171.833333334,
          16039298.6,
          16687835.3,
          17238817.7,
          17708896.7,
          18103138.666666668,
          18604759.9,
          18964804.933333334,
          19274128.966666665,
          19536617.633333333
         ],
         "yaxis": "y2"
        },
        {
         "hovertemplate": "continent=Oceania<br>year=%{x}<br>pop=%{y}<extra></extra>",
         "legendgroup": "Oceania",
         "line": {
          "color": "#990099",
          "dash": "solid"
         },
         "marker": {
          "symbol": "circle"
         },
         "mode": "lines+markers",
         "name": "Oceania",
         "orientation": "v",
         "showlegend": true,
         "type": "scatter",
         "x": [
          1952,
          1957,
          1962,
          1967,
          1972,
          1977,
          1982,
          1987,
          1992,
          1997,
          2002,
          2007
         ],
         "xaxis": "x2",
         "y": [
          5343003,
          5970988,
          6641759,
          7300207,
          8053050,
          8619500,
          9197425,
          9787207.5,
          10459825.5,
          11120715,
          11727414.5,
          12274973.5
         ],
         "yaxis": "y2"
        },
        {
         "hovertemplate": "continent=Africa<br>year=%{x}<br>gdpPercap=%{y}<extra></extra>",
         "legendgroup": "Africa",
         "line": {
          "color": "#3366CC",
          "dash": "solid"
         },
         "marker": {
          "symbol": "circle"
         },
         "mode": "lines+markers",
         "name": "Africa",
         "orientation": "v",
         "showlegend": true,
         "type": "scatter",
         "x": [
          1952,
          1957,
          1962,
          1967,
          1972,
          1977,
          1982,
          1987,
          1992,
          1997,
          2002,
          2007
         ],
         "xaxis": "x3",
         "y": [
          1252.5724658211539,
          1385.2360622557692,
          1598.0788248461538,
          2050.3638008576922,
          2339.615674198077,
          2585.9385084634614,
          2481.592959753846,
          2282.6689912596153,
          2281.8103332442306,
          2378.759555101923,
          2599.385158890385,
          3089.0326047365384
         ],
         "yaxis": "y3"
        },
        {
         "hovertemplate": "continent=Americas<br>year=%{x}<br>gdpPercap=%{y}<extra></extra>",
         "legendgroup": "Americas",
         "line": {
          "color": "#DC3912",
          "dash": "solid"
         },
         "marker": {
          "symbol": "circle"
         },
         "mode": "lines+markers",
         "name": "Americas",
         "orientation": "v",
         "showlegend": true,
         "type": "scatter",
         "x": [
          1952,
          1957,
          1962,
          1967,
          1972,
          1977,
          1982,
          1987,
          1992,
          1997,
          2002,
          2007
         ],
         "xaxis": "x3",
         "y": [
          4079.0625522,
          4616.04373316,
          4901.5418704,
          5668.25349604,
          6491.334139039999,
          7352.007126280001,
          7506.73708808,
          7793.40026112,
          8044.93440552,
          8889.30086256,
          9287.67710732,
          11003.03162536
         ],
         "yaxis": "y3"
        },
        {
         "hovertemplate": "continent=Asia<br>year=%{x}<br>gdpPercap=%{y}<extra></extra>",
         "legendgroup": "Asia",
         "line": {
          "color": "#FF9900",
          "dash": "solid"
         },
         "marker": {
          "symbol": "circle"
         },
         "mode": "lines+markers",
         "name": "Asia",
         "orientation": "v",
         "showlegend": true,
         "type": "scatter",
         "x": [
          1952,
          1957,
          1962,
          1967,
          1972,
          1977,
          1982,
          1987,
          1992,
          1997,
          2002,
          2007
         ],
         "xaxis": "x3",
         "y": [
          5195.484004039394,
          5787.732939942424,
          5729.369624775758,
          5971.1733736060605,
          8187.468699448485,
          7791.3140199303025,
          7434.135157484849,
          7608.226507730302,
          8639.690247730303,
          9834.093295248485,
          10174.090396578787,
          12473.026870133333
         ],
         "yaxis": "y3"
        },
        {
         "hovertemplate": "continent=Europe<br>year=%{x}<br>gdpPercap=%{y}<extra></extra>",
         "legendgroup": "Europe",
         "line": {
          "color": "#109618",
          "dash": "solid"
         },
         "marker": {
          "symbol": "circle"
         },
         "mode": "lines+markers",
         "name": "Europe",
         "orientation": "v",
         "showlegend": true,
         "type": "scatter",
         "x": [
          1952,
          1957,
          1962,
          1967,
          1972,
          1977,
          1982,
          1987,
          1992,
          1997,
          2002,
          2007
         ],
         "xaxis": "x3",
         "y": [
          5661.05743476,
          6963.0128159333335,
          8365.4868143,
          10143.823756533333,
          12479.575246466668,
          14283.9791096,
          15617.896551233334,
          17214.310726633335,
          17061.5680842,
          19076.781801600002,
          21711.73242243333,
          25054.481635933334
         ],
         "yaxis": "y3"
        },
        {
         "hovertemplate": "continent=Oceania<br>year=%{x}<br>gdpPercap=%{y}<extra></extra>",
         "legendgroup": "Oceania",
         "line": {
          "color": "#990099",
          "dash": "solid"
         },
         "marker": {
          "symbol": "circle"
         },
         "mode": "lines+markers",
         "name": "Oceania",
         "orientation": "v",
         "showlegend": true,
         "type": "scatter",
         "x": [
          1952,
          1957,
          1962,
          1967,
          1972,
          1977,
          1982,
          1987,
          1992,
          1997,
          2002,
          2007
         ],
         "xaxis": "x3",
         "y": [
          10298.08565,
          11598.522455,
          12696.452430000001,
          14495.021789999999,
          16417.33338,
          17283.957605,
          18554.70984,
          20448.040159999997,
          20894.045885,
          24024.175170000002,
          26938.77804,
          29810.188275
         ],
         "yaxis": "y3"
        }
       ],
       "layout": {
        "annotations": [
         {
          "font": {
           "size": 16
          },
          "showarrow": false,
          "text": "Mean Life Expectancy by Continent and Year",
          "x": 0.5,
          "xanchor": "center",
          "xref": "paper",
          "y": 1,
          "yanchor": "bottom",
          "yref": "paper"
         },
         {
          "font": {
           "size": 16
          },
          "showarrow": false,
          "text": "Mean Population by Continent and Year",
          "x": 0.5,
          "xanchor": "center",
          "xref": "paper",
          "y": 0.6111111111111112,
          "yanchor": "bottom",
          "yref": "paper"
         },
         {
          "font": {
           "size": 16
          },
          "showarrow": false,
          "text": "Mean GDP Per Capita by Continent and Year",
          "x": 0.5,
          "xanchor": "center",
          "xref": "paper",
          "y": 0.22222222222222224,
          "yanchor": "bottom",
          "yref": "paper"
         }
        ],
        "height": 800,
        "template": {
         "data": {
          "bar": [
           {
            "error_x": {
             "color": "#2a3f5f"
            },
            "error_y": {
             "color": "#2a3f5f"
            },
            "marker": {
             "line": {
              "color": "#E5ECF6",
              "width": 0.5
             },
             "pattern": {
              "fillmode": "overlay",
              "size": 10,
              "solidity": 0.2
             }
            },
            "type": "bar"
           }
          ],
          "barpolar": [
           {
            "marker": {
             "line": {
              "color": "#E5ECF6",
              "width": 0.5
             },
             "pattern": {
              "fillmode": "overlay",
              "size": 10,
              "solidity": 0.2
             }
            },
            "type": "barpolar"
           }
          ],
          "carpet": [
           {
            "aaxis": {
             "endlinecolor": "#2a3f5f",
             "gridcolor": "white",
             "linecolor": "white",
             "minorgridcolor": "white",
             "startlinecolor": "#2a3f5f"
            },
            "baxis": {
             "endlinecolor": "#2a3f5f",
             "gridcolor": "white",
             "linecolor": "white",
             "minorgridcolor": "white",
             "startlinecolor": "#2a3f5f"
            },
            "type": "carpet"
           }
          ],
          "choropleth": [
           {
            "colorbar": {
             "outlinewidth": 0,
             "ticks": ""
            },
            "type": "choropleth"
           }
          ],
          "contour": [
           {
            "colorbar": {
             "outlinewidth": 0,
             "ticks": ""
            },
            "colorscale": [
             [
              0,
              "#0d0887"
             ],
             [
              0.1111111111111111,
              "#46039f"
             ],
             [
              0.2222222222222222,
              "#7201a8"
             ],
             [
              0.3333333333333333,
              "#9c179e"
             ],
             [
              0.4444444444444444,
              "#bd3786"
             ],
             [
              0.5555555555555556,
              "#d8576b"
             ],
             [
              0.6666666666666666,
              "#ed7953"
             ],
             [
              0.7777777777777778,
              "#fb9f3a"
             ],
             [
              0.8888888888888888,
              "#fdca26"
             ],
             [
              1,
              "#f0f921"
             ]
            ],
            "type": "contour"
           }
          ],
          "contourcarpet": [
           {
            "colorbar": {
             "outlinewidth": 0,
             "ticks": ""
            },
            "type": "contourcarpet"
           }
          ],
          "heatmap": [
           {
            "colorbar": {
             "outlinewidth": 0,
             "ticks": ""
            },
            "colorscale": [
             [
              0,
              "#0d0887"
             ],
             [
              0.1111111111111111,
              "#46039f"
             ],
             [
              0.2222222222222222,
              "#7201a8"
             ],
             [
              0.3333333333333333,
              "#9c179e"
             ],
             [
              0.4444444444444444,
              "#bd3786"
             ],
             [
              0.5555555555555556,
              "#d8576b"
             ],
             [
              0.6666666666666666,
              "#ed7953"
             ],
             [
              0.7777777777777778,
              "#fb9f3a"
             ],
             [
              0.8888888888888888,
              "#fdca26"
             ],
             [
              1,
              "#f0f921"
             ]
            ],
            "type": "heatmap"
           }
          ],
          "heatmapgl": [
           {
            "colorbar": {
             "outlinewidth": 0,
             "ticks": ""
            },
            "colorscale": [
             [
              0,
              "#0d0887"
             ],
             [
              0.1111111111111111,
              "#46039f"
             ],
             [
              0.2222222222222222,
              "#7201a8"
             ],
             [
              0.3333333333333333,
              "#9c179e"
             ],
             [
              0.4444444444444444,
              "#bd3786"
             ],
             [
              0.5555555555555556,
              "#d8576b"
             ],
             [
              0.6666666666666666,
              "#ed7953"
             ],
             [
              0.7777777777777778,
              "#fb9f3a"
             ],
             [
              0.8888888888888888,
              "#fdca26"
             ],
             [
              1,
              "#f0f921"
             ]
            ],
            "type": "heatmapgl"
           }
          ],
          "histogram": [
           {
            "marker": {
             "pattern": {
              "fillmode": "overlay",
              "size": 10,
              "solidity": 0.2
             }
            },
            "type": "histogram"
           }
          ],
          "histogram2d": [
           {
            "colorbar": {
             "outlinewidth": 0,
             "ticks": ""
            },
            "colorscale": [
             [
              0,
              "#0d0887"
             ],
             [
              0.1111111111111111,
              "#46039f"
             ],
             [
              0.2222222222222222,
              "#7201a8"
             ],
             [
              0.3333333333333333,
              "#9c179e"
             ],
             [
              0.4444444444444444,
              "#bd3786"
             ],
             [
              0.5555555555555556,
              "#d8576b"
             ],
             [
              0.6666666666666666,
              "#ed7953"
             ],
             [
              0.7777777777777778,
              "#fb9f3a"
             ],
             [
              0.8888888888888888,
              "#fdca26"
             ],
             [
              1,
              "#f0f921"
             ]
            ],
            "type": "histogram2d"
           }
          ],
          "histogram2dcontour": [
           {
            "colorbar": {
             "outlinewidth": 0,
             "ticks": ""
            },
            "colorscale": [
             [
              0,
              "#0d0887"
             ],
             [
              0.1111111111111111,
              "#46039f"
             ],
             [
              0.2222222222222222,
              "#7201a8"
             ],
             [
              0.3333333333333333,
              "#9c179e"
             ],
             [
              0.4444444444444444,
              "#bd3786"
             ],
             [
              0.5555555555555556,
              "#d8576b"
             ],
             [
              0.6666666666666666,
              "#ed7953"
             ],
             [
              0.7777777777777778,
              "#fb9f3a"
             ],
             [
              0.8888888888888888,
              "#fdca26"
             ],
             [
              1,
              "#f0f921"
             ]
            ],
            "type": "histogram2dcontour"
           }
          ],
          "mesh3d": [
           {
            "colorbar": {
             "outlinewidth": 0,
             "ticks": ""
            },
            "type": "mesh3d"
           }
          ],
          "parcoords": [
           {
            "line": {
             "colorbar": {
              "outlinewidth": 0,
              "ticks": ""
             }
            },
            "type": "parcoords"
           }
          ],
          "pie": [
           {
            "automargin": true,
            "type": "pie"
           }
          ],
          "scatter": [
           {
            "fillpattern": {
             "fillmode": "overlay",
             "size": 10,
             "solidity": 0.2
            },
            "type": "scatter"
           }
          ],
          "scatter3d": [
           {
            "line": {
             "colorbar": {
              "outlinewidth": 0,
              "ticks": ""
             }
            },
            "marker": {
             "colorbar": {
              "outlinewidth": 0,
              "ticks": ""
             }
            },
            "type": "scatter3d"
           }
          ],
          "scattercarpet": [
           {
            "marker": {
             "colorbar": {
              "outlinewidth": 0,
              "ticks": ""
             }
            },
            "type": "scattercarpet"
           }
          ],
          "scattergeo": [
           {
            "marker": {
             "colorbar": {
              "outlinewidth": 0,
              "ticks": ""
             }
            },
            "type": "scattergeo"
           }
          ],
          "scattergl": [
           {
            "marker": {
             "colorbar": {
              "outlinewidth": 0,
              "ticks": ""
             }
            },
            "type": "scattergl"
           }
          ],
          "scattermapbox": [
           {
            "marker": {
             "colorbar": {
              "outlinewidth": 0,
              "ticks": ""
             }
            },
            "type": "scattermapbox"
           }
          ],
          "scatterpolar": [
           {
            "marker": {
             "colorbar": {
              "outlinewidth": 0,
              "ticks": ""
             }
            },
            "type": "scatterpolar"
           }
          ],
          "scatterpolargl": [
           {
            "marker": {
             "colorbar": {
              "outlinewidth": 0,
              "ticks": ""
             }
            },
            "type": "scatterpolargl"
           }
          ],
          "scatterternary": [
           {
            "marker": {
             "colorbar": {
              "outlinewidth": 0,
              "ticks": ""
             }
            },
            "type": "scatterternary"
           }
          ],
          "surface": [
           {
            "colorbar": {
             "outlinewidth": 0,
             "ticks": ""
            },
            "colorscale": [
             [
              0,
              "#0d0887"
             ],
             [
              0.1111111111111111,
              "#46039f"
             ],
             [
              0.2222222222222222,
              "#7201a8"
             ],
             [
              0.3333333333333333,
              "#9c179e"
             ],
             [
              0.4444444444444444,
              "#bd3786"
             ],
             [
              0.5555555555555556,
              "#d8576b"
             ],
             [
              0.6666666666666666,
              "#ed7953"
             ],
             [
              0.7777777777777778,
              "#fb9f3a"
             ],
             [
              0.8888888888888888,
              "#fdca26"
             ],
             [
              1,
              "#f0f921"
             ]
            ],
            "type": "surface"
           }
          ],
          "table": [
           {
            "cells": {
             "fill": {
              "color": "#EBF0F8"
             },
             "line": {
              "color": "white"
             }
            },
            "header": {
             "fill": {
              "color": "#C8D4E3"
             },
             "line": {
              "color": "white"
             }
            },
            "type": "table"
           }
          ]
         },
         "layout": {
          "annotationdefaults": {
           "arrowcolor": "#2a3f5f",
           "arrowhead": 0,
           "arrowwidth": 1
          },
          "autotypenumbers": "strict",
          "coloraxis": {
           "colorbar": {
            "outlinewidth": 0,
            "ticks": ""
           }
          },
          "colorscale": {
           "diverging": [
            [
             0,
             "#8e0152"
            ],
            [
             0.1,
             "#c51b7d"
            ],
            [
             0.2,
             "#de77ae"
            ],
            [
             0.3,
             "#f1b6da"
            ],
            [
             0.4,
             "#fde0ef"
            ],
            [
             0.5,
             "#f7f7f7"
            ],
            [
             0.6,
             "#e6f5d0"
            ],
            [
             0.7,
             "#b8e186"
            ],
            [
             0.8,
             "#7fbc41"
            ],
            [
             0.9,
             "#4d9221"
            ],
            [
             1,
             "#276419"
            ]
           ],
           "sequential": [
            [
             0,
             "#0d0887"
            ],
            [
             0.1111111111111111,
             "#46039f"
            ],
            [
             0.2222222222222222,
             "#7201a8"
            ],
            [
             0.3333333333333333,
             "#9c179e"
            ],
            [
             0.4444444444444444,
             "#bd3786"
            ],
            [
             0.5555555555555556,
             "#d8576b"
            ],
            [
             0.6666666666666666,
             "#ed7953"
            ],
            [
             0.7777777777777778,
             "#fb9f3a"
            ],
            [
             0.8888888888888888,
             "#fdca26"
            ],
            [
             1,
             "#f0f921"
            ]
           ],
           "sequentialminus": [
            [
             0,
             "#0d0887"
            ],
            [
             0.1111111111111111,
             "#46039f"
            ],
            [
             0.2222222222222222,
             "#7201a8"
            ],
            [
             0.3333333333333333,
             "#9c179e"
            ],
            [
             0.4444444444444444,
             "#bd3786"
            ],
            [
             0.5555555555555556,
             "#d8576b"
            ],
            [
             0.6666666666666666,
             "#ed7953"
            ],
            [
             0.7777777777777778,
             "#fb9f3a"
            ],
            [
             0.8888888888888888,
             "#fdca26"
            ],
            [
             1,
             "#f0f921"
            ]
           ]
          },
          "colorway": [
           "#636efa",
           "#EF553B",
           "#00cc96",
           "#ab63fa",
           "#FFA15A",
           "#19d3f3",
           "#FF6692",
           "#B6E880",
           "#FF97FF",
           "#FECB52"
          ],
          "font": {
           "color": "#2a3f5f"
          },
          "geo": {
           "bgcolor": "white",
           "lakecolor": "white",
           "landcolor": "#E5ECF6",
           "showlakes": true,
           "showland": true,
           "subunitcolor": "white"
          },
          "hoverlabel": {
           "align": "left"
          },
          "hovermode": "closest",
          "mapbox": {
           "style": "light"
          },
          "paper_bgcolor": "white",
          "plot_bgcolor": "#E5ECF6",
          "polar": {
           "angularaxis": {
            "gridcolor": "white",
            "linecolor": "white",
            "ticks": ""
           },
           "bgcolor": "#E5ECF6",
           "radialaxis": {
            "gridcolor": "white",
            "linecolor": "white",
            "ticks": ""
           }
          },
          "scene": {
           "xaxis": {
            "backgroundcolor": "#E5ECF6",
            "gridcolor": "white",
            "gridwidth": 2,
            "linecolor": "white",
            "showbackground": true,
            "ticks": "",
            "zerolinecolor": "white"
           },
           "yaxis": {
            "backgroundcolor": "#E5ECF6",
            "gridcolor": "white",
            "gridwidth": 2,
            "linecolor": "white",
            "showbackground": true,
            "ticks": "",
            "zerolinecolor": "white"
           },
           "zaxis": {
            "backgroundcolor": "#E5ECF6",
            "gridcolor": "white",
            "gridwidth": 2,
            "linecolor": "white",
            "showbackground": true,
            "ticks": "",
            "zerolinecolor": "white"
           }
          },
          "shapedefaults": {
           "line": {
            "color": "#2a3f5f"
           }
          },
          "ternary": {
           "aaxis": {
            "gridcolor": "white",
            "linecolor": "white",
            "ticks": ""
           },
           "baxis": {
            "gridcolor": "white",
            "linecolor": "white",
            "ticks": ""
           },
           "bgcolor": "#E5ECF6",
           "caxis": {
            "gridcolor": "white",
            "linecolor": "white",
            "ticks": ""
           }
          },
          "title": {
           "x": 0.05
          },
          "xaxis": {
           "automargin": true,
           "gridcolor": "white",
           "linecolor": "white",
           "ticks": "",
           "title": {
            "standoff": 15
           },
           "zerolinecolor": "white",
           "zerolinewidth": 2
          },
          "yaxis": {
           "automargin": true,
           "gridcolor": "white",
           "linecolor": "white",
           "ticks": "",
           "title": {
            "standoff": 15
           },
           "zerolinecolor": "white",
           "zerolinewidth": 2
          }
         }
        },
        "title": {
         "text": "Exploratory Analysis - Line Plots",
         "x": 0
        },
        "width": 1200,
        "xaxis": {
         "anchor": "y",
         "domain": [
          0,
          1
         ]
        },
        "xaxis2": {
         "anchor": "y2",
         "domain": [
          0,
          1
         ]
        },
        "xaxis3": {
         "anchor": "y3",
         "domain": [
          0,
          1
         ]
        },
        "yaxis": {
         "anchor": "x",
         "domain": [
          0.7777777777777778,
          1
         ]
        },
        "yaxis2": {
         "anchor": "x2",
         "domain": [
          0.3888888888888889,
          0.6111111111111112
         ]
        },
        "yaxis3": {
         "anchor": "x3",
         "domain": [
          0,
          0.22222222222222224
         ]
        }
       }
      }
     },
     "metadata": {},
     "output_type": "display_data"
    }
   ],
   "source": [
    "fig1 = px.line(data_frame=df2.groupby([\"continent\",\"year\"])[\"lifeExp\"].mean().reset_index(),\n",
    "        x = \"year\",\n",
    "        y = \"lifeExp\",\n",
    "        color = \"continent\",\n",
    "        color_discrete_sequence=px.colors.qualitative.G10,\n",
    "        markers=True)\n",
    "\n",
    "\n",
    "\n",
    "fig2 = px.line(data_frame=df2.groupby([\"continent\",\"year\"])[\"pop\"].mean().reset_index(),\n",
    "        x = \"year\",\n",
    "        y = \"pop\",\n",
    "        color = \"continent\",\n",
    "        color_discrete_sequence=px.colors.qualitative.G10,\n",
    "        markers=True)\n",
    "\n",
    "\n",
    "\n",
    "fig3 = px.line(data_frame=df2.groupby([\"continent\",\"year\"])[\"gdpPercap\"].mean().reset_index(),\n",
    "        x = \"year\",\n",
    "        y = \"gdpPercap\",\n",
    "        color = \"continent\",\n",
    "        color_discrete_sequence=px.colors.qualitative.G10,\n",
    "        markers=True)\n",
    "\n",
    "\n",
    "fig_combined = make_subplots(rows=3, cols=1, subplot_titles=[\"Mean Life Expectancy by Continent and Year\",\n",
    "                                                             \"Mean Population by Continent and Year\",\n",
    "                                                             \"Mean GDP Per Capita by Continent and Year\"])\n",
    "\n",
    "\n",
    "for trace in fig1.data:\n",
    "    trace.showlegend = True\n",
    "    fig_combined.add_trace(trace, row=1, col=1)\n",
    "\n",
    "for trace in fig2.data:\n",
    "    trace.showlegend = True\n",
    "    fig_combined.add_trace(trace, row=2, col=1)\n",
    "\n",
    "for trace in fig3.data:\n",
    "    trace.showlegend=True\n",
    "    fig_combined.add_trace(trace,row=3,col=1)\n",
    "\n",
    "fig_combined.update_layout(height=800, width=1200, title_text=\"Exploratory Analysis - Line Plots\")\n",
    "fig_combined.update_layout(title=dict(x=0))\n",
    "\n",
    "\n",
    "fig_combined.show()"
   ]
  }
 ],
 "metadata": {
  "kernelspec": {
   "display_name": "Python 3",
   "language": "python",
   "name": "python3"
  },
  "language_info": {
   "codemirror_mode": {
    "name": "ipython",
    "version": 3
   },
   "file_extension": ".py",
   "mimetype": "text/x-python",
   "name": "python",
   "nbconvert_exporter": "python",
   "pygments_lexer": "ipython3",
   "version": "3.10.5"
  }
 },
 "nbformat": 4,
 "nbformat_minor": 2
}
