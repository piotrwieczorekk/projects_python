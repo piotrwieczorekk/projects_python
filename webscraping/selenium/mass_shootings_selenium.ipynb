{
 "cells": [
  {
   "cell_type": "markdown",
   "metadata": {},
   "source": [
    "## **Scraping data about mass shootings in the US from 01-01-2023 to 03-12-2023**"
   ]
  },
  {
   "cell_type": "markdown",
   "metadata": {},
   "source": [
    "## Libraries"
   ]
  },
  {
   "cell_type": "code",
   "execution_count": 1,
   "metadata": {},
   "outputs": [],
   "source": [
    "import requests\n",
    "from bs4 import BeautifulSoup\n",
    "import pandas as pd\n",
    "import numpy as np\n",
    "import time\n",
    "from bs4 import BeautifulSoup\n",
    "from selenium import webdriver\n",
    "from selenium.webdriver.chrome.service import Service\n",
    "from selenium.webdriver.common.keys import Keys\n",
    "from selenium.webdriver.common.by import By\n",
    "from selenium.webdriver.support.wait import WebDriverWait\n",
    "import seaborn as sns\n",
    "from selenium.webdriver.support import expected_conditions as EC"
   ]
  },
  {
   "cell_type": "markdown",
   "metadata": {},
   "source": [
    "## Scraping code"
   ]
  },
  {
   "cell_type": "code",
   "execution_count": 67,
   "metadata": {},
   "outputs": [
    {
     "name": "stdout",
     "output_type": "stream",
     "text": [
      "Getting data from page 0. Awaiting...\n",
      "Getting data from page 1. Awaiting...\n",
      "Getting data from page 2. Awaiting...\n",
      "Getting data from page 3. Awaiting...\n",
      "Getting data from page 4. Awaiting...\n",
      "Getting data from page 5. Awaiting...\n",
      "Getting data from page 6. Awaiting...\n",
      "Getting data from page 7. Awaiting...\n",
      "Getting data from page 8. Awaiting...\n",
      "Getting data from page 9. Awaiting...\n",
      "Getting data from page 10. Awaiting...\n",
      "Getting data from page 11. Awaiting...\n",
      "Getting data from page 12. Awaiting...\n",
      "Getting data from page 13. Awaiting...\n",
      "Getting data from page 14. Awaiting...\n",
      "Getting data from page 15. Awaiting...\n",
      "Getting data from page 16. Awaiting...\n",
      "Getting data from page 17. Awaiting...\n",
      "Getting data from page 18. Awaiting...\n",
      "Getting data from page 19. Awaiting...\n",
      "Getting data from page 20. Awaiting...\n",
      "Getting data from page 21. Awaiting...\n",
      "Getting data from page 22. Awaiting...\n",
      "Getting data from page 23. Awaiting...\n",
      "Getting data from page 24. Awaiting...\n"
     ]
    }
   ],
   "source": [
    "s = Service('C:\\webdrivers\\chromedriver.exe')\n",
    "driver = webdriver.Chrome(service=s)\n",
    "\n",
    "scraped_data = []\n",
    "\n",
    "for page in range(0, 25):\n",
    "    page_url = f\"https://www.gunviolencearchive.org/reports/mass-shooting?page={page}\"\n",
    "    driver.get(page_url)\n",
    "    print(f'Getting data from page {page}. Awaiting...')\n",
    "    driver.implicitly_wait(5)\n",
    "\n",
    "\n",
    "    data_rows= driver.find_elements(By.XPATH, '//table[@class=\"responsive sticky-enabled tableheader-processed sticky-table\"]//tbody//tr')\n",
    "    for data_row in data_rows:\n",
    "        incident_id = data_row.find_element(By.XPATH, './/td[1]').text.strip()\n",
    "        incident_date = data_row.find_element(By.XPATH, './/td[2]').text.strip()\n",
    "        state = data_row.find_element(By.XPATH, './/td[3]').text.strip()\n",
    "        city_or_country = data_row.find_element(By.XPATH, './/td[4]').text.strip()\n",
    "        address = data_row.find_element(By.XPATH, './/td[5]').text.strip()\n",
    "        victims_killed = data_row.find_element(By.XPATH, './/td[6]').text.strip()\n",
    "        victims_injured = data_row.find_element(By.XPATH, './/td[7]').text.strip()\n",
    "        suspects_killed = data_row.find_element(By.XPATH, './/td[8]').text.strip()\n",
    "        suspects_injured = data_row.find_element(By.XPATH, './/td[9]').text.strip()\n",
    "        suspects_arrested = data_row.find_element(By.XPATH, './/td[10]').text.strip()\n",
    "\n",
    "        scraped_data.append({\n",
    "            \"incident_id\": incident_id,\n",
    "            \"incident_date\": incident_date,\n",
    "            \"state\": state,\n",
    "            \"city_or_country\": city_or_country,\n",
    "            \"address\": address,\n",
    "            \"victims_killed\": victims_killed,\n",
    "            \"victims_injured\": victims_injured,\n",
    "            \"suspects_killed\": suspects_killed,\n",
    "            \"suspects_injured\": suspects_injured,\n",
    "            \"suspects_arrested\": suspects_arrested\n",
    "        })\n",
    "\n",
    "    time.sleep(1)\n",
    "\n",
    "\n",
    "driver.quit()"
   ]
  },
  {
   "cell_type": "markdown",
   "metadata": {},
   "source": [
    "## Cleaning the data"
   ]
  },
  {
   "cell_type": "code",
   "execution_count": 68,
   "metadata": {},
   "outputs": [],
   "source": [
    "df = pd.DataFrame(scraped_data)"
   ]
  },
  {
   "cell_type": "code",
   "execution_count": 69,
   "metadata": {},
   "outputs": [],
   "source": [
    "df = df.loc[:,~df.columns.isin([\"incident_id\"])]"
   ]
  },
  {
   "cell_type": "code",
   "execution_count": 70,
   "metadata": {},
   "outputs": [
    {
     "name": "stdout",
     "output_type": "stream",
     "text": [
      "incident_date        object\n",
      "state                object\n",
      "city_or_country      object\n",
      "address              object\n",
      "victims_killed       object\n",
      "victims_injured      object\n",
      "suspects_killed      object\n",
      "suspects_injured     object\n",
      "suspects_arrested    object\n",
      "dtype: object\n",
      "\n",
      "\n",
      "shape: (621, 9)\n"
     ]
    }
   ],
   "source": [
    "print(df.dtypes)\n",
    "print('\\n')\n",
    "print(f'shape: {df.shape}')"
   ]
  },
  {
   "cell_type": "code",
   "execution_count": 71,
   "metadata": {},
   "outputs": [
    {
     "data": {
      "text/html": [
       "<div>\n",
       "<style scoped>\n",
       "    .dataframe tbody tr th:only-of-type {\n",
       "        vertical-align: middle;\n",
       "    }\n",
       "\n",
       "    .dataframe tbody tr th {\n",
       "        vertical-align: top;\n",
       "    }\n",
       "\n",
       "    .dataframe thead th {\n",
       "        text-align: right;\n",
       "    }\n",
       "</style>\n",
       "<table border=\"1\" class=\"dataframe\">\n",
       "  <thead>\n",
       "    <tr style=\"text-align: right;\">\n",
       "      <th></th>\n",
       "      <th>incident_date</th>\n",
       "      <th>state</th>\n",
       "      <th>city_or_country</th>\n",
       "      <th>address</th>\n",
       "      <th>victims_killed</th>\n",
       "      <th>victims_injured</th>\n",
       "      <th>suspects_killed</th>\n",
       "      <th>suspects_injured</th>\n",
       "      <th>suspects_arrested</th>\n",
       "    </tr>\n",
       "  </thead>\n",
       "  <tbody>\n",
       "    <tr>\n",
       "      <th>0</th>\n",
       "      <td>December 1, 2023</td>\n",
       "      <td>Nevada</td>\n",
       "      <td>Las Vegas</td>\n",
       "      <td>E Charleston Blvd and N Honolulu St</td>\n",
       "      <td>1</td>\n",
       "      <td>4</td>\n",
       "      <td>0</td>\n",
       "      <td>0</td>\n",
       "      <td>0</td>\n",
       "    </tr>\n",
       "    <tr>\n",
       "      <th>1</th>\n",
       "      <td>November 29, 2023</td>\n",
       "      <td>Illinois</td>\n",
       "      <td>Chicago</td>\n",
       "      <td>3600 block of West Flournoy St</td>\n",
       "      <td>1</td>\n",
       "      <td>3</td>\n",
       "      <td>0</td>\n",
       "      <td>0</td>\n",
       "      <td>0</td>\n",
       "    </tr>\n",
       "    <tr>\n",
       "      <th>2</th>\n",
       "      <td>November 29, 2023</td>\n",
       "      <td>North Carolina</td>\n",
       "      <td>Lexington</td>\n",
       "      <td>7000 block of NC-8</td>\n",
       "      <td>0</td>\n",
       "      <td>5</td>\n",
       "      <td>0</td>\n",
       "      <td>0</td>\n",
       "      <td>0</td>\n",
       "    </tr>\n",
       "    <tr>\n",
       "      <th>3</th>\n",
       "      <td>November 26, 2023</td>\n",
       "      <td>North Carolina</td>\n",
       "      <td>Winston Salem (Winston-salem)</td>\n",
       "      <td>3533 N Glenn Ave</td>\n",
       "      <td>0</td>\n",
       "      <td>4</td>\n",
       "      <td>0</td>\n",
       "      <td>1</td>\n",
       "      <td>1</td>\n",
       "    </tr>\n",
       "    <tr>\n",
       "      <th>4</th>\n",
       "      <td>November 25, 2023</td>\n",
       "      <td>California</td>\n",
       "      <td>Fontana</td>\n",
       "      <td>15500 block of Eastwind Ave</td>\n",
       "      <td>3</td>\n",
       "      <td>1</td>\n",
       "      <td>0</td>\n",
       "      <td>0</td>\n",
       "      <td>1</td>\n",
       "    </tr>\n",
       "  </tbody>\n",
       "</table>\n",
       "</div>"
      ],
      "text/plain": [
       "       incident_date           state                city_or_country  \\\n",
       "0   December 1, 2023          Nevada                      Las Vegas   \n",
       "1  November 29, 2023        Illinois                        Chicago   \n",
       "2  November 29, 2023  North Carolina                      Lexington   \n",
       "3  November 26, 2023  North Carolina  Winston Salem (Winston-salem)   \n",
       "4  November 25, 2023      California                        Fontana   \n",
       "\n",
       "                               address victims_killed victims_injured  \\\n",
       "0  E Charleston Blvd and N Honolulu St              1               4   \n",
       "1       3600 block of West Flournoy St              1               3   \n",
       "2                   7000 block of NC-8              0               5   \n",
       "3                     3533 N Glenn Ave              0               4   \n",
       "4          15500 block of Eastwind Ave              3               1   \n",
       "\n",
       "  suspects_killed suspects_injured suspects_arrested  \n",
       "0               0                0                 0  \n",
       "1               0                0                 0  \n",
       "2               0                0                 0  \n",
       "3               0                1                 1  \n",
       "4               0                0                 1  "
      ]
     },
     "execution_count": 71,
     "metadata": {},
     "output_type": "execute_result"
    }
   ],
   "source": [
    "df.head()"
   ]
  },
  {
   "cell_type": "code",
   "execution_count": 72,
   "metadata": {},
   "outputs": [],
   "source": [
    "df = df.apply(pd.to_numeric,errors='ignore')"
   ]
  },
  {
   "cell_type": "code",
   "execution_count": 73,
   "metadata": {},
   "outputs": [
    {
     "data": {
      "text/plain": [
       "incident_date        object\n",
       "state                object\n",
       "city_or_country      object\n",
       "address              object\n",
       "victims_killed        int64\n",
       "victims_injured       int64\n",
       "suspects_killed       int64\n",
       "suspects_injured      int64\n",
       "suspects_arrested     int64\n",
       "dtype: object"
      ]
     },
     "execution_count": 73,
     "metadata": {},
     "output_type": "execute_result"
    }
   ],
   "source": [
    "df.dtypes"
   ]
  },
  {
   "cell_type": "code",
   "execution_count": 74,
   "metadata": {},
   "outputs": [],
   "source": [
    "df['incident_date'] = pd.to_datetime(df['incident_date'])"
   ]
  },
  {
   "cell_type": "code",
   "execution_count": 76,
   "metadata": {},
   "outputs": [
    {
     "data": {
      "text/html": [
       "<div>\n",
       "<style scoped>\n",
       "    .dataframe tbody tr th:only-of-type {\n",
       "        vertical-align: middle;\n",
       "    }\n",
       "\n",
       "    .dataframe tbody tr th {\n",
       "        vertical-align: top;\n",
       "    }\n",
       "\n",
       "    .dataframe thead th {\n",
       "        text-align: right;\n",
       "    }\n",
       "</style>\n",
       "<table border=\"1\" class=\"dataframe\">\n",
       "  <thead>\n",
       "    <tr style=\"text-align: right;\">\n",
       "      <th></th>\n",
       "      <th>incident_date</th>\n",
       "      <th>state</th>\n",
       "      <th>city_or_country</th>\n",
       "      <th>address</th>\n",
       "      <th>victims_killed</th>\n",
       "      <th>victims_injured</th>\n",
       "      <th>suspects_killed</th>\n",
       "      <th>suspects_injured</th>\n",
       "      <th>suspects_arrested</th>\n",
       "    </tr>\n",
       "  </thead>\n",
       "  <tbody>\n",
       "    <tr>\n",
       "      <th>0</th>\n",
       "      <td>2023-12-01</td>\n",
       "      <td>Nevada</td>\n",
       "      <td>Las Vegas</td>\n",
       "      <td>E Charleston Blvd and N Honolulu St</td>\n",
       "      <td>1</td>\n",
       "      <td>4</td>\n",
       "      <td>0</td>\n",
       "      <td>0</td>\n",
       "      <td>0</td>\n",
       "    </tr>\n",
       "    <tr>\n",
       "      <th>1</th>\n",
       "      <td>2023-11-29</td>\n",
       "      <td>Illinois</td>\n",
       "      <td>Chicago</td>\n",
       "      <td>3600 block of West Flournoy St</td>\n",
       "      <td>1</td>\n",
       "      <td>3</td>\n",
       "      <td>0</td>\n",
       "      <td>0</td>\n",
       "      <td>0</td>\n",
       "    </tr>\n",
       "    <tr>\n",
       "      <th>2</th>\n",
       "      <td>2023-11-29</td>\n",
       "      <td>North Carolina</td>\n",
       "      <td>Lexington</td>\n",
       "      <td>7000 block of NC-8</td>\n",
       "      <td>0</td>\n",
       "      <td>5</td>\n",
       "      <td>0</td>\n",
       "      <td>0</td>\n",
       "      <td>0</td>\n",
       "    </tr>\n",
       "    <tr>\n",
       "      <th>3</th>\n",
       "      <td>2023-11-26</td>\n",
       "      <td>North Carolina</td>\n",
       "      <td>Winston Salem (Winston-salem)</td>\n",
       "      <td>3533 N Glenn Ave</td>\n",
       "      <td>0</td>\n",
       "      <td>4</td>\n",
       "      <td>0</td>\n",
       "      <td>1</td>\n",
       "      <td>1</td>\n",
       "    </tr>\n",
       "    <tr>\n",
       "      <th>4</th>\n",
       "      <td>2023-11-25</td>\n",
       "      <td>California</td>\n",
       "      <td>Fontana</td>\n",
       "      <td>15500 block of Eastwind Ave</td>\n",
       "      <td>3</td>\n",
       "      <td>1</td>\n",
       "      <td>0</td>\n",
       "      <td>0</td>\n",
       "      <td>1</td>\n",
       "    </tr>\n",
       "  </tbody>\n",
       "</table>\n",
       "</div>"
      ],
      "text/plain": [
       "  incident_date           state                city_or_country  \\\n",
       "0    2023-12-01          Nevada                      Las Vegas   \n",
       "1    2023-11-29        Illinois                        Chicago   \n",
       "2    2023-11-29  North Carolina                      Lexington   \n",
       "3    2023-11-26  North Carolina  Winston Salem (Winston-salem)   \n",
       "4    2023-11-25      California                        Fontana   \n",
       "\n",
       "                               address  victims_killed  victims_injured  \\\n",
       "0  E Charleston Blvd and N Honolulu St               1                4   \n",
       "1       3600 block of West Flournoy St               1                3   \n",
       "2                   7000 block of NC-8               0                5   \n",
       "3                     3533 N Glenn Ave               0                4   \n",
       "4          15500 block of Eastwind Ave               3                1   \n",
       "\n",
       "   suspects_killed  suspects_injured  suspects_arrested  \n",
       "0                0                 0                  0  \n",
       "1                0                 0                  0  \n",
       "2                0                 0                  0  \n",
       "3                0                 1                  1  \n",
       "4                0                 0                  1  "
      ]
     },
     "execution_count": 76,
     "metadata": {},
     "output_type": "execute_result"
    }
   ],
   "source": [
    "df.head()"
   ]
  },
  {
   "cell_type": "code",
   "execution_count": 77,
   "metadata": {},
   "outputs": [],
   "source": [
    "df.to_csv('mass_shootings_usa.csv')"
   ]
  }
 ],
 "metadata": {
  "kernelspec": {
   "display_name": "Python 3",
   "language": "python",
   "name": "python3"
  },
  "language_info": {
   "codemirror_mode": {
    "name": "ipython",
    "version": 3
   },
   "file_extension": ".py",
   "mimetype": "text/x-python",
   "name": "python",
   "nbconvert_exporter": "python",
   "pygments_lexer": "ipython3",
   "version": "3.11.0"
  }
 },
 "nbformat": 4,
 "nbformat_minor": 2
}
