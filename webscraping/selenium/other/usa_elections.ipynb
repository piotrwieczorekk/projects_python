{
 "cells": [
  {
   "attachments": {},
   "cell_type": "markdown",
   "metadata": {},
   "source": [
    "## Sraping data about all US presidental elections (1789-2020)"
   ]
  },
  {
   "attachments": {},
   "cell_type": "markdown",
   "metadata": {},
   "source": [
    "### Libraries"
   ]
  },
  {
   "cell_type": "code",
   "execution_count": 1,
   "metadata": {},
   "outputs": [],
   "source": [
    "import requests\n",
    "from bs4 import BeautifulSoup\n",
    "import pandas as pd\n",
    "import numpy as np\n",
    "import time\n",
    "from bs4 import BeautifulSoup\n",
    "from selenium import webdriver\n",
    "from selenium.webdriver.common.keys import Keys\n",
    "from selenium.webdriver.common.by import By\n",
    "from selenium.webdriver.support.wait import WebDriverWait\n",
    "import seaborn as sns"
   ]
  },
  {
   "attachments": {},
   "cell_type": "markdown",
   "metadata": {},
   "source": [
    "### Connection"
   ]
  },
  {
   "cell_type": "code",
   "execution_count": 2,
   "metadata": {},
   "outputs": [
    {
     "data": {
      "text/plain": [
       "200"
      ]
     },
     "execution_count": 2,
     "metadata": {},
     "output_type": "execute_result"
    }
   ],
   "source": [
    "url = \"https://www.270towin.com/historical-presidential-elections/\"\n",
    "response = requests.get(url)\n",
    "response.status_code"
   ]
  },
  {
   "attachments": {},
   "cell_type": "markdown",
   "metadata": {},
   "source": [
    "### Scraping code"
   ]
  },
  {
   "cell_type": "code",
   "execution_count": 4,
   "metadata": {},
   "outputs": [
    {
     "name": "stderr",
     "output_type": "stream",
     "text": [
      "C:\\Users\\piotr\\AppData\\Local\\Temp\\ipykernel_13876\\1165309194.py:2: DeprecationWarning: executable_path has been deprecated, please pass in a Service object\n",
      "  driver = webdriver.Chrome(executable_path=PATH)\n"
     ]
    }
   ],
   "source": [
    "PATH = 'C:\\webdrivers\\chromedriver.exe'\n",
    "driver = webdriver.Chrome(executable_path=PATH)\n",
    "driver.get(url)\n",
    "time.sleep(5)\n",
    "cookies = driver.find_element(By.XPATH,'//button[@class=\" css-47sehv\"]')\n",
    "cookies.click()\n",
    "driver.implicitly_wait(10)\n",
    "all_election_links = []\n",
    "election_years = []\n",
    "election_data = []\n",
    "election_links = driver.find_elements(By.XPATH,'.//div[@class=\"historical-map-thumb\"]//a[2]')\n",
    "for election in election_links:\n",
    "    election = election.get_attribute('href')\n",
    "    all_election_links.append({'link':election})\n",
    "for i in all_election_links:\n",
    "    driver.get(i[\"link\"])\n",
    "    driver.implicitly_wait(5)\n",
    "    driver.refresh()\n",
    "    time.sleep(3)\n",
    "    table_data = driver.find_elements(By.XPATH,'.//table[@class=\"table table-sm table-striped border-bottom\"]//tbody//tr')\n",
    "    election_year = (driver.find_element(By.XPATH,'//h3[@class=\"mt-4\"]').text.strip() + ' ').split(' Election  ') * len(table_data)\n",
    "    for k in election_year:\n",
    "        k  = f'{k}'\n",
    "        election_years.append({'year':k})\n",
    "    for l in table_data:\n",
    "        election_candidates = l.find_element(By.XPATH,'.//td[3]').text.strip()\n",
    "        candidate_party = l.find_element(By.XPATH,'.//td[4]').text.strip()\n",
    "        electoral_votes = l.find_element(By.XPATH,'.//td[5]').text.strip()\n",
    "        try:\n",
    "            popular_votes = l.find_element(By.XPATH,'.//td[6]').text.strip()\n",
    "        except:\n",
    "            popular_votes = np.NaN\n",
    "        election_data.append({'candidates':election_candidates,\n",
    "                              'party':candidate_party,\n",
    "                              'electoral_votes':electoral_votes,\n",
    "                              'popular_votes':popular_votes\n",
    "                              })\n",
    "    time.sleep(1)\n",
    "    driver.refresh()"
   ]
  },
  {
   "cell_type": "code",
   "execution_count": 8,
   "metadata": {},
   "outputs": [],
   "source": [
    "df1 = pd.DataFrame(election_data)"
   ]
  },
  {
   "cell_type": "code",
   "execution_count": 9,
   "metadata": {},
   "outputs": [],
   "source": [
    "df2 = pd.DataFrame(election_years)"
   ]
  },
  {
   "cell_type": "code",
   "execution_count": 11,
   "metadata": {},
   "outputs": [],
   "source": [
    "df3 = pd.merge(df1,df2,left_index=True,right_index=True)"
   ]
  },
  {
   "attachments": {},
   "cell_type": "markdown",
   "metadata": {},
   "source": [
    "### Final data frame"
   ]
  },
  {
   "cell_type": "code",
   "execution_count": 12,
   "metadata": {},
   "outputs": [
    {
     "data": {
      "text/html": [
       "<div>\n",
       "<style scoped>\n",
       "    .dataframe tbody tr th:only-of-type {\n",
       "        vertical-align: middle;\n",
       "    }\n",
       "\n",
       "    .dataframe tbody tr th {\n",
       "        vertical-align: top;\n",
       "    }\n",
       "\n",
       "    .dataframe thead th {\n",
       "        text-align: right;\n",
       "    }\n",
       "</style>\n",
       "<table border=\"1\" class=\"dataframe\">\n",
       "  <thead>\n",
       "    <tr style=\"text-align: right;\">\n",
       "      <th></th>\n",
       "      <th>candidates</th>\n",
       "      <th>party</th>\n",
       "      <th>electoral_votes</th>\n",
       "      <th>popular_votes</th>\n",
       "      <th>year</th>\n",
       "    </tr>\n",
       "  </thead>\n",
       "  <tbody>\n",
       "    <tr>\n",
       "      <th>0</th>\n",
       "      <td>Joseph R. Biden</td>\n",
       "      <td>Democratic</td>\n",
       "      <td>306</td>\n",
       "      <td>81,268,867</td>\n",
       "      <td>2020 Election Results</td>\n",
       "    </tr>\n",
       "    <tr>\n",
       "      <th>1</th>\n",
       "      <td>Donald J. Trump (I)</td>\n",
       "      <td>Republican</td>\n",
       "      <td>232</td>\n",
       "      <td>74,216,747</td>\n",
       "      <td>2020 Election Results</td>\n",
       "    </tr>\n",
       "    <tr>\n",
       "      <th>2</th>\n",
       "      <td>Jo Jorgensen</td>\n",
       "      <td>Libertarian</td>\n",
       "      <td>0</td>\n",
       "      <td>1,865,720</td>\n",
       "      <td>2020 Election Results</td>\n",
       "    </tr>\n",
       "    <tr>\n",
       "      <th>3</th>\n",
       "      <td>Donald J. Trump</td>\n",
       "      <td>Republican</td>\n",
       "      <td>304</td>\n",
       "      <td>62,984,828</td>\n",
       "      <td>2016 Election Results</td>\n",
       "    </tr>\n",
       "    <tr>\n",
       "      <th>4</th>\n",
       "      <td>Hillary R. Clinton</td>\n",
       "      <td>Democratic</td>\n",
       "      <td>227</td>\n",
       "      <td>65,853,514</td>\n",
       "      <td>2016 Election Results</td>\n",
       "    </tr>\n",
       "    <tr>\n",
       "      <th>...</th>\n",
       "      <td>...</td>\n",
       "      <td>...</td>\n",
       "      <td>...</td>\n",
       "      <td>...</td>\n",
       "      <td>...</td>\n",
       "    </tr>\n",
       "    <tr>\n",
       "      <th>174</th>\n",
       "      <td>George Clinton</td>\n",
       "      <td>Anti-Federalist</td>\n",
       "      <td>50</td>\n",
       "      <td>NaN</td>\n",
       "      <td>1792 Election Results</td>\n",
       "    </tr>\n",
       "    <tr>\n",
       "      <th>175</th>\n",
       "      <td>Others</td>\n",
       "      <td>Anti-Federalist</td>\n",
       "      <td>5</td>\n",
       "      <td>NaN</td>\n",
       "      <td>1792 Election Results</td>\n",
       "    </tr>\n",
       "    <tr>\n",
       "      <th>176</th>\n",
       "      <td>George Washington</td>\n",
       "      <td>Federalist</td>\n",
       "      <td>69</td>\n",
       "      <td>NaN</td>\n",
       "      <td>1789 Election Results</td>\n",
       "    </tr>\n",
       "    <tr>\n",
       "      <th>177</th>\n",
       "      <td>Others</td>\n",
       "      <td>Independent</td>\n",
       "      <td>35</td>\n",
       "      <td>NaN</td>\n",
       "      <td>1789 Election Results</td>\n",
       "    </tr>\n",
       "    <tr>\n",
       "      <th>178</th>\n",
       "      <td>John Adams</td>\n",
       "      <td>Federalist</td>\n",
       "      <td>34</td>\n",
       "      <td>NaN</td>\n",
       "      <td>1789 Election Results</td>\n",
       "    </tr>\n",
       "  </tbody>\n",
       "</table>\n",
       "<p>179 rows × 5 columns</p>\n",
       "</div>"
      ],
      "text/plain": [
       "              candidates            party electoral_votes popular_votes  \\\n",
       "0        Joseph R. Biden       Democratic             306    81,268,867   \n",
       "1    Donald J. Trump (I)       Republican             232    74,216,747   \n",
       "2           Jo Jorgensen      Libertarian               0     1,865,720   \n",
       "3        Donald J. Trump       Republican             304    62,984,828   \n",
       "4     Hillary R. Clinton       Democratic             227    65,853,514   \n",
       "..                   ...              ...             ...           ...   \n",
       "174       George Clinton  Anti-Federalist              50           NaN   \n",
       "175               Others  Anti-Federalist               5           NaN   \n",
       "176    George Washington       Federalist              69           NaN   \n",
       "177               Others      Independent              35           NaN   \n",
       "178           John Adams       Federalist              34           NaN   \n",
       "\n",
       "                       year  \n",
       "0    2020 Election Results   \n",
       "1    2020 Election Results   \n",
       "2    2020 Election Results   \n",
       "3    2016 Election Results   \n",
       "4    2016 Election Results   \n",
       "..                      ...  \n",
       "174  1792 Election Results   \n",
       "175  1792 Election Results   \n",
       "176  1789 Election Results   \n",
       "177  1789 Election Results   \n",
       "178  1789 Election Results   \n",
       "\n",
       "[179 rows x 5 columns]"
      ]
     },
     "execution_count": 12,
     "metadata": {},
     "output_type": "execute_result"
    }
   ],
   "source": [
    "df3"
   ]
  }
 ],
 "metadata": {
  "kernelspec": {
   "display_name": "Python 3",
   "language": "python",
   "name": "python3"
  },
  "language_info": {
   "codemirror_mode": {
    "name": "ipython",
    "version": 3
   },
   "file_extension": ".py",
   "mimetype": "text/x-python",
   "name": "python",
   "nbconvert_exporter": "python",
   "pygments_lexer": "ipython3",
   "version": "3.11.0"
  },
  "orig_nbformat": 4
 },
 "nbformat": 4,
 "nbformat_minor": 2
}
