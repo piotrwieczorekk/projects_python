{
 "cells": [
  {
   "cell_type": "markdown",
   "metadata": {},
   "source": [
    "### **Scraping data about real estate prices in Katowice**"
   ]
  },
  {
   "cell_type": "markdown",
   "metadata": {},
   "source": [
    "### Libraries"
   ]
  },
  {
   "cell_type": "code",
   "execution_count": 3,
   "metadata": {},
   "outputs": [],
   "source": [
    "import requests\n",
    "import pandas as pd\n",
    "import numpy as np\n",
    "import time\n",
    "from selenium import webdriver\n",
    "from selenium.webdriver.chrome.service import Service\n",
    "from selenium.webdriver.common.keys import Keys\n",
    "from selenium.webdriver.common.by import By\n",
    "from selenium.webdriver.support.wait import WebDriverWait\n",
    "import seaborn as sns\n",
    "from selenium.webdriver.support import expected_conditions as EC\n",
    "import matplotlib.pyplot as plt"
   ]
  },
  {
   "cell_type": "markdown",
   "metadata": {},
   "source": [
    "### The code"
   ]
  },
  {
   "cell_type": "code",
   "execution_count": 34,
   "metadata": {},
   "outputs": [
    {
     "name": "stderr",
     "output_type": "stream",
     "text": [
      "<>:2: SyntaxWarning: invalid escape sequence '\\w'\n",
      "<>:2: SyntaxWarning: invalid escape sequence '\\w'\n",
      "C:\\Users\\piotr\\AppData\\Local\\Temp\\ipykernel_12192\\3846595681.py:2: SyntaxWarning: invalid escape sequence '\\w'\n",
      "  s = Service('C:\\webdrivers\\chromedriver.exe')\n"
     ]
    },
    {
     "name": "stdout",
     "output_type": "stream",
     "text": [
      "Currently getting data from page number 1\n",
      "Currently getting data from page number 2\n",
      "Currently getting data from page number 3\n",
      "Currently getting data from page number 4\n",
      "Currently getting data from page number 5\n",
      "Currently getting data from page number 6\n",
      "Currently getting data from page number 7\n",
      "Currently getting data from page number 8\n",
      "Currently getting data from page number 9\n",
      "Currently getting data from page number 10\n"
     ]
    }
   ],
   "source": [
    "url = \"https://www.otodom.pl/pl/wyniki/sprzedaz/mieszkanie/slaskie/katowice/katowice/katowice\"\n",
    "s = Service('C:\\webdrivers\\chromedriver.exe')\n",
    "driver = webdriver.Chrome(service=s)\n",
    "driver.get(url)\n",
    "\n",
    "WebDriverWait(driver, 5).until(EC.presence_of_element_located((By.XPATH, '//div[@id=\"onetrust-button-group\"]//button[1]')))\n",
    "\n",
    "accept_cookies = driver.find_element(By.XPATH,'//div[@id=\"onetrust-button-group\"]//button[1]')\n",
    "accept_cookies.click()\n",
    "driver.refresh()\n",
    "\n",
    "\n",
    "\n",
    "all_real_estate_links = []\n",
    "all_data = []\n",
    "\n",
    "for page in range(1,11):\n",
    "    page_url = f\"https://www.otodom.pl/pl/wyniki/sprzedaz/mieszkanie/slaskie/katowice/katowice/katowice?page={page}\"\n",
    "    driver.get(page_url)\n",
    "    driver.implicitly_wait(3)\n",
    "    print(f'Currently getting data from page number {page}')\n",
    "\n",
    "\n",
    "    all_links_elements = driver.find_elements(By.XPATH,'.//div[@class=\"css-13gthep eeungyz2\"]//a')\n",
    "    all_links = [link.get_attribute('href') for link in all_links_elements]\n",
    "\n",
    "\n",
    "    for link in all_links:\n",
    "        driver.get(link)\n",
    "        try:\n",
    "            price = driver.find_element(By.XPATH,'//strong[@class=\"css-t3wmkv e9aa0kv0\"]').text.strip()\n",
    "        except:\n",
    "            price = np.nan\n",
    "        try:\n",
    "            price_square_meter = driver.find_element(By.XPATH,'//div[@class=\"css-1h1l5lm e1csqp8m9\"]').text.strip()\n",
    "        except:\n",
    "            price = np.nan\n",
    "        try:\n",
    "            area = driver.find_element(By.XPATH,'(//div[@class=\"css-2vlfd7 evcbp5k0\"]//div[@class=\"css-1ivc1bc ewb0mtf1\"]//div[@class=\"css-1wi2w6s ewb0mtf5\"])[1]').text.strip()\n",
    "        except:\n",
    "            area = np.nan\n",
    "        all_data.append({\"link\":link,\n",
    "                            \"price\":price,\n",
    "                            \"price_sqm\":price_square_meter,\n",
    "                            \"area\":area})\n",
    "        time.sleep(1)\n",
    "    time.sleep(1)"
   ]
  },
  {
   "cell_type": "markdown",
   "metadata": {},
   "source": [
    "### Cleaning the data"
   ]
  },
  {
   "cell_type": "code",
   "execution_count": 104,
   "metadata": {},
   "outputs": [],
   "source": [
    "df = pd.DataFrame(all_data)"
   ]
  },
  {
   "cell_type": "code",
   "execution_count": 105,
   "metadata": {},
   "outputs": [
    {
     "data": {
      "text/html": [
       "<div>\n",
       "<style scoped>\n",
       "    .dataframe tbody tr th:only-of-type {\n",
       "        vertical-align: middle;\n",
       "    }\n",
       "\n",
       "    .dataframe tbody tr th {\n",
       "        vertical-align: top;\n",
       "    }\n",
       "\n",
       "    .dataframe thead th {\n",
       "        text-align: right;\n",
       "    }\n",
       "</style>\n",
       "<table border=\"1\" class=\"dataframe\">\n",
       "  <thead>\n",
       "    <tr style=\"text-align: right;\">\n",
       "      <th></th>\n",
       "      <th>link</th>\n",
       "      <th>price</th>\n",
       "      <th>price_sqm</th>\n",
       "      <th>area</th>\n",
       "    </tr>\n",
       "  </thead>\n",
       "  <tbody>\n",
       "    <tr>\n",
       "      <th>0</th>\n",
       "      <td>https://www.otodom.pl/pl/oferta/2-pokojowe-mie...</td>\n",
       "      <td>Zapytaj o cenę</td>\n",
       "      <td></td>\n",
       "      <td>79,09 m²</td>\n",
       "    </tr>\n",
       "    <tr>\n",
       "      <th>1</th>\n",
       "      <td>https://www.otodom.pl/pl/oferta/4-pokoje-z-wid...</td>\n",
       "      <td>595 000 zł</td>\n",
       "      <td>9 597 zł/m²</td>\n",
       "      <td>62 m²</td>\n",
       "    </tr>\n",
       "    <tr>\n",
       "      <th>2</th>\n",
       "      <td>https://www.otodom.pl/pl/oferta/katowice-bryno...</td>\n",
       "      <td>695 000 zł</td>\n",
       "      <td>8 688 zł/m²</td>\n",
       "      <td>80 m²</td>\n",
       "    </tr>\n",
       "    <tr>\n",
       "      <th>3</th>\n",
       "      <td>https://www.otodom.pl/pl/oferta/4-pokojowe-mie...</td>\n",
       "      <td>735 968 zł</td>\n",
       "      <td>10 900 zł/m²</td>\n",
       "      <td>67,52 m²</td>\n",
       "    </tr>\n",
       "    <tr>\n",
       "      <th>4</th>\n",
       "      <td>https://www.otodom.pl/pl/oferta/srodmiescie-no...</td>\n",
       "      <td>345 000 zł</td>\n",
       "      <td>13 254 zł/m²</td>\n",
       "      <td>26,03 m²</td>\n",
       "    </tr>\n",
       "    <tr>\n",
       "      <th>...</th>\n",
       "      <td>...</td>\n",
       "      <td>...</td>\n",
       "      <td>...</td>\n",
       "      <td>...</td>\n",
       "    </tr>\n",
       "    <tr>\n",
       "      <th>345</th>\n",
       "      <td>https://www.otodom.pl/pl/oferta/2-pokojowe-mie...</td>\n",
       "      <td>576 828 zł</td>\n",
       "      <td>12 600 zł/m²</td>\n",
       "      <td>45,78 m²</td>\n",
       "    </tr>\n",
       "    <tr>\n",
       "      <th>346</th>\n",
       "      <td>https://www.otodom.pl/pl/oferta/nowe-mieszkani...</td>\n",
       "      <td>513 428 zł</td>\n",
       "      <td>9 879 zł/m²</td>\n",
       "      <td>51,97 m²</td>\n",
       "    </tr>\n",
       "    <tr>\n",
       "      <th>347</th>\n",
       "      <td>https://www.otodom.pl/pl/oferta/4-pokojowy-apa...</td>\n",
       "      <td>885 701 zł</td>\n",
       "      <td>9 207 zł/m²</td>\n",
       "      <td>96,2 m²</td>\n",
       "    </tr>\n",
       "    <tr>\n",
       "      <th>348</th>\n",
       "      <td>https://www.otodom.pl/pl/oferta/nowy-apartamen...</td>\n",
       "      <td>778 480 zł</td>\n",
       "      <td>9 255 zł/m²</td>\n",
       "      <td>84,11 m²</td>\n",
       "    </tr>\n",
       "    <tr>\n",
       "      <th>349</th>\n",
       "      <td>https://www.otodom.pl/pl/oferta/3-pokojowy-apa...</td>\n",
       "      <td>716 706 zł</td>\n",
       "      <td>9 697 zł/m²</td>\n",
       "      <td>73,91 m²</td>\n",
       "    </tr>\n",
       "  </tbody>\n",
       "</table>\n",
       "<p>350 rows × 4 columns</p>\n",
       "</div>"
      ],
      "text/plain": [
       "                                                  link           price  \\\n",
       "0    https://www.otodom.pl/pl/oferta/2-pokojowe-mie...  Zapytaj o cenę   \n",
       "1    https://www.otodom.pl/pl/oferta/4-pokoje-z-wid...      595 000 zł   \n",
       "2    https://www.otodom.pl/pl/oferta/katowice-bryno...      695 000 zł   \n",
       "3    https://www.otodom.pl/pl/oferta/4-pokojowe-mie...      735 968 zł   \n",
       "4    https://www.otodom.pl/pl/oferta/srodmiescie-no...      345 000 zł   \n",
       "..                                                 ...             ...   \n",
       "345  https://www.otodom.pl/pl/oferta/2-pokojowe-mie...      576 828 zł   \n",
       "346  https://www.otodom.pl/pl/oferta/nowe-mieszkani...      513 428 zł   \n",
       "347  https://www.otodom.pl/pl/oferta/4-pokojowy-apa...      885 701 zł   \n",
       "348  https://www.otodom.pl/pl/oferta/nowy-apartamen...      778 480 zł   \n",
       "349  https://www.otodom.pl/pl/oferta/3-pokojowy-apa...      716 706 zł   \n",
       "\n",
       "        price_sqm      area  \n",
       "0                  79,09 m²  \n",
       "1     9 597 zł/m²     62 m²  \n",
       "2     8 688 zł/m²     80 m²  \n",
       "3    10 900 zł/m²  67,52 m²  \n",
       "4    13 254 zł/m²  26,03 m²  \n",
       "..            ...       ...  \n",
       "345  12 600 zł/m²  45,78 m²  \n",
       "346   9 879 zł/m²  51,97 m²  \n",
       "347   9 207 zł/m²   96,2 m²  \n",
       "348   9 255 zł/m²  84,11 m²  \n",
       "349   9 697 zł/m²  73,91 m²  \n",
       "\n",
       "[350 rows x 4 columns]"
      ]
     },
     "execution_count": 105,
     "metadata": {},
     "output_type": "execute_result"
    }
   ],
   "source": [
    "df"
   ]
  },
  {
   "cell_type": "code",
   "execution_count": 106,
   "metadata": {},
   "outputs": [],
   "source": [
    "def fix_price_column(x):\n",
    "    if \"zł\" not in x:\n",
    "        return np.nan\n",
    "    else:\n",
    "        return x.replace(\" \",\"\").replace(\"zł\",\"\")"
   ]
  },
  {
   "cell_type": "code",
   "execution_count": 107,
   "metadata": {},
   "outputs": [],
   "source": [
    "df['price'] = df['price'].apply(fix_price_column)"
   ]
  },
  {
   "cell_type": "code",
   "execution_count": 108,
   "metadata": {},
   "outputs": [
    {
     "data": {
      "text/plain": [
       "0                  \n",
       "1       9 597 zł/m²\n",
       "2       8 688 zł/m²\n",
       "3      10 900 zł/m²\n",
       "4      13 254 zł/m²\n",
       "           ...     \n",
       "345    12 600 zł/m²\n",
       "346     9 879 zł/m²\n",
       "347     9 207 zł/m²\n",
       "348     9 255 zł/m²\n",
       "349     9 697 zł/m²\n",
       "Name: price_sqm, Length: 350, dtype: object"
      ]
     },
     "execution_count": 108,
     "metadata": {},
     "output_type": "execute_result"
    }
   ],
   "source": [
    "df['price_sqm'].apply(lambda x: x.strip())"
   ]
  },
  {
   "cell_type": "code",
   "execution_count": 109,
   "metadata": {},
   "outputs": [],
   "source": [
    "df['price_sqm'] = df['price_sqm'].apply(lambda x: x.replace(' zł/m²','').replace(' ',''))"
   ]
  },
  {
   "cell_type": "code",
   "execution_count": 110,
   "metadata": {},
   "outputs": [],
   "source": [
    "df['area'] = df['area'].apply(lambda x: x.replace(' m²','').replace(' ',''))"
   ]
  },
  {
   "cell_type": "code",
   "execution_count": 111,
   "metadata": {},
   "outputs": [],
   "source": [
    "df = df.replace(r'^\\s*$', np.nan, regex=True)"
   ]
  },
  {
   "cell_type": "code",
   "execution_count": 112,
   "metadata": {},
   "outputs": [],
   "source": [
    "df = df.dropna()"
   ]
  },
  {
   "cell_type": "code",
   "execution_count": 113,
   "metadata": {},
   "outputs": [],
   "source": [
    "df.iloc[:,1:] = df.iloc[:,1:].map(lambda x: x.replace(',','.'))"
   ]
  },
  {
   "cell_type": "code",
   "execution_count": 114,
   "metadata": {},
   "outputs": [
    {
     "data": {
      "text/plain": [
       "link         object\n",
       "price        object\n",
       "price_sqm    object\n",
       "area         object\n",
       "dtype: object"
      ]
     },
     "execution_count": 114,
     "metadata": {},
     "output_type": "execute_result"
    }
   ],
   "source": [
    "df.dtypes"
   ]
  },
  {
   "cell_type": "code",
   "execution_count": 116,
   "metadata": {},
   "outputs": [],
   "source": [
    "for col in df.iloc[:,1:].columns.to_list():\n",
    "     df[col] = pd.to_numeric(df[col])"
   ]
  },
  {
   "cell_type": "code",
   "execution_count": 118,
   "metadata": {},
   "outputs": [
    {
     "data": {
      "text/plain": [
       "link          object\n",
       "price        float64\n",
       "price_sqm      int64\n",
       "area         float64\n",
       "dtype: object"
      ]
     },
     "execution_count": 118,
     "metadata": {},
     "output_type": "execute_result"
    }
   ],
   "source": [
    "df.dtypes"
   ]
  },
  {
   "cell_type": "code",
   "execution_count": 119,
   "metadata": {},
   "outputs": [
    {
     "data": {
      "text/html": [
       "<div>\n",
       "<style scoped>\n",
       "    .dataframe tbody tr th:only-of-type {\n",
       "        vertical-align: middle;\n",
       "    }\n",
       "\n",
       "    .dataframe tbody tr th {\n",
       "        vertical-align: top;\n",
       "    }\n",
       "\n",
       "    .dataframe thead th {\n",
       "        text-align: right;\n",
       "    }\n",
       "</style>\n",
       "<table border=\"1\" class=\"dataframe\">\n",
       "  <thead>\n",
       "    <tr style=\"text-align: right;\">\n",
       "      <th></th>\n",
       "      <th>link</th>\n",
       "      <th>price</th>\n",
       "      <th>price_sqm</th>\n",
       "      <th>area</th>\n",
       "    </tr>\n",
       "  </thead>\n",
       "  <tbody>\n",
       "    <tr>\n",
       "      <th>1</th>\n",
       "      <td>https://www.otodom.pl/pl/oferta/4-pokoje-z-wid...</td>\n",
       "      <td>595000.0</td>\n",
       "      <td>9597</td>\n",
       "      <td>62.00</td>\n",
       "    </tr>\n",
       "    <tr>\n",
       "      <th>2</th>\n",
       "      <td>https://www.otodom.pl/pl/oferta/katowice-bryno...</td>\n",
       "      <td>695000.0</td>\n",
       "      <td>8688</td>\n",
       "      <td>80.00</td>\n",
       "    </tr>\n",
       "    <tr>\n",
       "      <th>3</th>\n",
       "      <td>https://www.otodom.pl/pl/oferta/4-pokojowe-mie...</td>\n",
       "      <td>735968.0</td>\n",
       "      <td>10900</td>\n",
       "      <td>67.52</td>\n",
       "    </tr>\n",
       "    <tr>\n",
       "      <th>4</th>\n",
       "      <td>https://www.otodom.pl/pl/oferta/srodmiescie-no...</td>\n",
       "      <td>345000.0</td>\n",
       "      <td>13254</td>\n",
       "      <td>26.03</td>\n",
       "    </tr>\n",
       "    <tr>\n",
       "      <th>5</th>\n",
       "      <td>https://www.otodom.pl/pl/oferta/centrum-1-dzie...</td>\n",
       "      <td>857000.0</td>\n",
       "      <td>19930</td>\n",
       "      <td>43.00</td>\n",
       "    </tr>\n",
       "    <tr>\n",
       "      <th>...</th>\n",
       "      <td>...</td>\n",
       "      <td>...</td>\n",
       "      <td>...</td>\n",
       "      <td>...</td>\n",
       "    </tr>\n",
       "    <tr>\n",
       "      <th>345</th>\n",
       "      <td>https://www.otodom.pl/pl/oferta/2-pokojowe-mie...</td>\n",
       "      <td>576828.0</td>\n",
       "      <td>12600</td>\n",
       "      <td>45.78</td>\n",
       "    </tr>\n",
       "    <tr>\n",
       "      <th>346</th>\n",
       "      <td>https://www.otodom.pl/pl/oferta/nowe-mieszkani...</td>\n",
       "      <td>513428.0</td>\n",
       "      <td>9879</td>\n",
       "      <td>51.97</td>\n",
       "    </tr>\n",
       "    <tr>\n",
       "      <th>347</th>\n",
       "      <td>https://www.otodom.pl/pl/oferta/4-pokojowy-apa...</td>\n",
       "      <td>885701.0</td>\n",
       "      <td>9207</td>\n",
       "      <td>96.20</td>\n",
       "    </tr>\n",
       "    <tr>\n",
       "      <th>348</th>\n",
       "      <td>https://www.otodom.pl/pl/oferta/nowy-apartamen...</td>\n",
       "      <td>778480.0</td>\n",
       "      <td>9255</td>\n",
       "      <td>84.11</td>\n",
       "    </tr>\n",
       "    <tr>\n",
       "      <th>349</th>\n",
       "      <td>https://www.otodom.pl/pl/oferta/3-pokojowy-apa...</td>\n",
       "      <td>716706.0</td>\n",
       "      <td>9697</td>\n",
       "      <td>73.91</td>\n",
       "    </tr>\n",
       "  </tbody>\n",
       "</table>\n",
       "<p>322 rows × 4 columns</p>\n",
       "</div>"
      ],
      "text/plain": [
       "                                                  link     price  price_sqm  \\\n",
       "1    https://www.otodom.pl/pl/oferta/4-pokoje-z-wid...  595000.0       9597   \n",
       "2    https://www.otodom.pl/pl/oferta/katowice-bryno...  695000.0       8688   \n",
       "3    https://www.otodom.pl/pl/oferta/4-pokojowe-mie...  735968.0      10900   \n",
       "4    https://www.otodom.pl/pl/oferta/srodmiescie-no...  345000.0      13254   \n",
       "5    https://www.otodom.pl/pl/oferta/centrum-1-dzie...  857000.0      19930   \n",
       "..                                                 ...       ...        ...   \n",
       "345  https://www.otodom.pl/pl/oferta/2-pokojowe-mie...  576828.0      12600   \n",
       "346  https://www.otodom.pl/pl/oferta/nowe-mieszkani...  513428.0       9879   \n",
       "347  https://www.otodom.pl/pl/oferta/4-pokojowy-apa...  885701.0       9207   \n",
       "348  https://www.otodom.pl/pl/oferta/nowy-apartamen...  778480.0       9255   \n",
       "349  https://www.otodom.pl/pl/oferta/3-pokojowy-apa...  716706.0       9697   \n",
       "\n",
       "      area  \n",
       "1    62.00  \n",
       "2    80.00  \n",
       "3    67.52  \n",
       "4    26.03  \n",
       "5    43.00  \n",
       "..     ...  \n",
       "345  45.78  \n",
       "346  51.97  \n",
       "347  96.20  \n",
       "348  84.11  \n",
       "349  73.91  \n",
       "\n",
       "[322 rows x 4 columns]"
      ]
     },
     "execution_count": 119,
     "metadata": {},
     "output_type": "execute_result"
    }
   ],
   "source": [
    "df"
   ]
  }
 ],
 "metadata": {
  "kernelspec": {
   "display_name": "Python 3",
   "language": "python",
   "name": "python3"
  },
  "language_info": {
   "codemirror_mode": {
    "name": "ipython",
    "version": 3
   },
   "file_extension": ".py",
   "mimetype": "text/x-python",
   "name": "python",
   "nbconvert_exporter": "python",
   "pygments_lexer": "ipython3",
   "version": "3.12.4"
  }
 },
 "nbformat": 4,
 "nbformat_minor": 2
}
