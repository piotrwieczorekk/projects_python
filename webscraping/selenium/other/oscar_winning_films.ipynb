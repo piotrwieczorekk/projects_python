{
 "cells": [
  {
   "cell_type": "markdown",
   "metadata": {},
   "source": [
    "## **Scraping data about nominated and awarded movies from 2010 to 2015 from the site**: https://www.scrapethissite.com/pages/ajax-javascript/#2010"
   ]
  },
  {
   "cell_type": "markdown",
   "metadata": {},
   "source": [
    "## Libraries"
   ]
  },
  {
   "cell_type": "code",
   "execution_count": 57,
   "metadata": {},
   "outputs": [],
   "source": [
    "import requests\n",
    "from bs4 import BeautifulSoup\n",
    "import pandas as pd\n",
    "import numpy as np\n",
    "import time\n",
    "from bs4 import BeautifulSoup\n",
    "from selenium import webdriver\n",
    "from selenium.webdriver.chrome.service import Service\n",
    "from selenium.webdriver.common.keys import Keys\n",
    "from selenium.webdriver.common.by import By\n",
    "from selenium.webdriver.support.wait import WebDriverWait\n",
    "import seaborn as sns\n",
    "from selenium.webdriver.support import expected_conditions as EC\n",
    "import matplotlib.pyplot as plt"
   ]
  },
  {
   "cell_type": "markdown",
   "metadata": {},
   "source": [
    "## Code"
   ]
  },
  {
   "cell_type": "code",
   "execution_count": 33,
   "metadata": {},
   "outputs": [],
   "source": [
    "film_data = []\n",
    "s = Service('C:\\webdrivers\\chromedriver.exe')\n",
    "driver = webdriver.Chrome(service=s)\n",
    "for year in range(2010,2016):\n",
    "    page_url = f\"https://www.scrapethissite.com/pages/ajax-javascript/#{year}\"\n",
    "    driver.get(page_url)\n",
    "    WebDriverWait(driver, 15).until(EC.presence_of_element_located((By.XPATH, '//table[@class=\"table\"]//tbody//tr')))\n",
    "    driver.refresh()\n",
    "    driver.execute_script(\"window.scrollTo(0, document.body.scrollHeight);\")\n",
    "    time.sleep(2)\n",
    "    film_table = driver.find_elements(By.XPATH,'//table[@class=\"table\"]//tbody//tr')\n",
    "    driver.implicitly_wait(5)\n",
    "    for film in film_table:\n",
    "        film_year = year\n",
    "        film_title = film.find_element(By.XPATH,'.//td[1]').text.strip()\n",
    "        film_nominations = film.find_element(By.XPATH,'.//td[2]').text.strip()\n",
    "        film_awards = film.find_element(By.XPATH,'.//td[3]').text.strip()\n",
    "        film_data.append({\"title\":film_title,\n",
    "                        \"nominations\":film_nominations,\n",
    "                        \"awards\":film_awards,\n",
    "                        \"year\":film_year})\n",
    "        time.sleep(1)\n",
    "    time.sleep(1)"
   ]
  },
  {
   "cell_type": "code",
   "execution_count": 34,
   "metadata": {},
   "outputs": [],
   "source": [
    "df = pd.DataFrame(film_data)"
   ]
  },
  {
   "cell_type": "markdown",
   "metadata": {},
   "source": [
    "### Data cleaning and visualization"
   ]
  },
  {
   "cell_type": "code",
   "execution_count": 35,
   "metadata": {},
   "outputs": [
    {
     "data": {
      "text/plain": [
       "array([2010, 2011, 2012, 2013, 2014, 2015], dtype=int64)"
      ]
     },
     "execution_count": 35,
     "metadata": {},
     "output_type": "execute_result"
    }
   ],
   "source": [
    "df['year'].unique()"
   ]
  },
  {
   "cell_type": "code",
   "execution_count": 36,
   "metadata": {},
   "outputs": [
    {
     "data": {
      "text/html": [
       "<div>\n",
       "<style scoped>\n",
       "    .dataframe tbody tr th:only-of-type {\n",
       "        vertical-align: middle;\n",
       "    }\n",
       "\n",
       "    .dataframe tbody tr th {\n",
       "        vertical-align: top;\n",
       "    }\n",
       "\n",
       "    .dataframe thead th {\n",
       "        text-align: right;\n",
       "    }\n",
       "</style>\n",
       "<table border=\"1\" class=\"dataframe\">\n",
       "  <thead>\n",
       "    <tr style=\"text-align: right;\">\n",
       "      <th></th>\n",
       "      <th>title</th>\n",
       "      <th>nominations</th>\n",
       "      <th>awards</th>\n",
       "      <th>year</th>\n",
       "    </tr>\n",
       "  </thead>\n",
       "  <tbody>\n",
       "    <tr>\n",
       "      <th>0</th>\n",
       "      <td>The King's Speech</td>\n",
       "      <td>12</td>\n",
       "      <td>4</td>\n",
       "      <td>2010</td>\n",
       "    </tr>\n",
       "    <tr>\n",
       "      <th>1</th>\n",
       "      <td>Inception</td>\n",
       "      <td>8</td>\n",
       "      <td>4</td>\n",
       "      <td>2010</td>\n",
       "    </tr>\n",
       "    <tr>\n",
       "      <th>2</th>\n",
       "      <td>The Social Network</td>\n",
       "      <td>8</td>\n",
       "      <td>3</td>\n",
       "      <td>2010</td>\n",
       "    </tr>\n",
       "    <tr>\n",
       "      <th>3</th>\n",
       "      <td>The Fighter</td>\n",
       "      <td>7</td>\n",
       "      <td>2</td>\n",
       "      <td>2010</td>\n",
       "    </tr>\n",
       "    <tr>\n",
       "      <th>4</th>\n",
       "      <td>Toy Story 3</td>\n",
       "      <td>5</td>\n",
       "      <td>2</td>\n",
       "      <td>2010</td>\n",
       "    </tr>\n",
       "    <tr>\n",
       "      <th>...</th>\n",
       "      <td>...</td>\n",
       "      <td>...</td>\n",
       "      <td>...</td>\n",
       "      <td>...</td>\n",
       "    </tr>\n",
       "    <tr>\n",
       "      <th>82</th>\n",
       "      <td>Bear Story</td>\n",
       "      <td>1</td>\n",
       "      <td>1</td>\n",
       "      <td>2015</td>\n",
       "    </tr>\n",
       "    <tr>\n",
       "      <th>83</th>\n",
       "      <td>A Girl in the River: The Price of Forgiveness</td>\n",
       "      <td>1</td>\n",
       "      <td>1</td>\n",
       "      <td>2015</td>\n",
       "    </tr>\n",
       "    <tr>\n",
       "      <th>84</th>\n",
       "      <td>Son of Saul</td>\n",
       "      <td>1</td>\n",
       "      <td>1</td>\n",
       "      <td>2015</td>\n",
       "    </tr>\n",
       "    <tr>\n",
       "      <th>85</th>\n",
       "      <td>Spectre</td>\n",
       "      <td>1</td>\n",
       "      <td>1</td>\n",
       "      <td>2015</td>\n",
       "    </tr>\n",
       "    <tr>\n",
       "      <th>86</th>\n",
       "      <td>Stutterer</td>\n",
       "      <td>1</td>\n",
       "      <td>1</td>\n",
       "      <td>2015</td>\n",
       "    </tr>\n",
       "  </tbody>\n",
       "</table>\n",
       "<p>87 rows × 4 columns</p>\n",
       "</div>"
      ],
      "text/plain": [
       "                                            title nominations awards  year\n",
       "0                               The King's Speech          12      4  2010\n",
       "1                                       Inception           8      4  2010\n",
       "2                              The Social Network           8      3  2010\n",
       "3                                     The Fighter           7      2  2010\n",
       "4                                     Toy Story 3           5      2  2010\n",
       "..                                            ...         ...    ...   ...\n",
       "82                                     Bear Story           1      1  2015\n",
       "83  A Girl in the River: The Price of Forgiveness           1      1  2015\n",
       "84                                    Son of Saul           1      1  2015\n",
       "85                                        Spectre           1      1  2015\n",
       "86                                      Stutterer           1      1  2015\n",
       "\n",
       "[87 rows x 4 columns]"
      ]
     },
     "execution_count": 36,
     "metadata": {},
     "output_type": "execute_result"
    }
   ],
   "source": [
    "df"
   ]
  },
  {
   "cell_type": "code",
   "execution_count": 46,
   "metadata": {},
   "outputs": [
    {
     "name": "stderr",
     "output_type": "stream",
     "text": [
      "C:\\Users\\piotr\\AppData\\Local\\Temp\\ipykernel_12400\\1456723580.py:1: FutureWarning: In a future version, `df.iloc[:, i] = newvals` will attempt to set the values inplace instead of always setting a new array. To retain the old behavior, use either `df[df.columns[i]] = newvals` or, if columns are non-unique, `df.isetitem(i, newvals)`\n",
      "  df.iloc[:,1:] = df.iloc[:,1:].apply(pd.to_numeric,errors=\"coerce\")\n"
     ]
    }
   ],
   "source": [
    "df.iloc[:,1:] = df.iloc[:,1:].apply(pd.to_numeric,errors=\"coerce\")"
   ]
  },
  {
   "cell_type": "code",
   "execution_count": 47,
   "metadata": {},
   "outputs": [
    {
     "data": {
      "text/plain": [
       "title          object\n",
       "nominations     int64\n",
       "awards          int64\n",
       "year            int64\n",
       "dtype: object"
      ]
     },
     "execution_count": 47,
     "metadata": {},
     "output_type": "execute_result"
    }
   ],
   "source": [
    "df.dtypes"
   ]
  },
  {
   "cell_type": "code",
   "execution_count": 79,
   "metadata": {},
   "outputs": [
    {
     "data": {
      "text/plain": [
       "(array([ 0., 10., 20., 30., 40., 50., 60., 70., 80.]),\n",
       " [Text(0, 0.0, '0'),\n",
       "  Text(0, 10.0, '10'),\n",
       "  Text(0, 20.0, '20'),\n",
       "  Text(0, 30.0, '30'),\n",
       "  Text(0, 40.0, '40'),\n",
       "  Text(0, 50.0, '50'),\n",
       "  Text(0, 60.0, '60'),\n",
       "  Text(0, 70.0, '70'),\n",
       "  Text(0, 80.0, '80')])"
      ]
     },
     "execution_count": 79,
     "metadata": {},
     "output_type": "execute_result"
    },
    {
     "data": {
      "image/png": "[encoded data removed]",
      "text/plain": [
       "<Figure size 1000x600 with 1 Axes>"
      ]
     },
     "metadata": {},
     "output_type": "display_data"
    }
   ],
   "source": [
    "plt.figure(figsize=(10,6))\n",
    "sns.barplot(data=df.groupby([\"year\"])[\"nominations\"].sum().reset_index(),\n",
    "            x=\"year\",\n",
    "            y=\"nominations\",\n",
    "            color = \"#78B683\")\n",
    "plt.title(\"Number of Film Nominations by Year\",fontsize=16)\n",
    "plt.xlabel(\"Year\",fontsize=14)\n",
    "plt.ylabel(\"Nominations\",fontsize=14)\n",
    "plt.xticks(fontsize=12)\n",
    "plt.yticks(fontsize=12)"
   ]
  }
 ],
 "metadata": {
  "kernelspec": {
   "display_name": "Python 3",
   "language": "python",
   "name": "python3"
  },
  "language_info": {
   "codemirror_mode": {
    "name": "ipython",
    "version": 3
   },
   "file_extension": ".py",
   "mimetype": "text/x-python",
   "name": "python",
   "nbconvert_exporter": "python",
   "pygments_lexer": "ipython3",
   "version": "3.11.0"
  }
 },
 "nbformat": 4,
 "nbformat_minor": 2
}
