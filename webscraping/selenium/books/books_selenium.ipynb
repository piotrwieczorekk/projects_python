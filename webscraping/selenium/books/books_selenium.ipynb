{
 "cells": [
  {
   "cell_type": "markdown",
   "metadata": {},
   "source": [
    "## Scraping data about books"
   ]
  },
  {
   "cell_type": "code",
   "execution_count": 21,
   "metadata": {},
   "outputs": [],
   "source": [
    "import requests\n",
    "import pandas as pd\n",
    "import numpy as np\n",
    "import time\n",
    "from selenium import webdriver\n",
    "from selenium.webdriver.chrome.service import Service\n",
    "from selenium.webdriver.common.keys import Keys\n",
    "from selenium.webdriver.common.by import By\n",
    "from selenium.webdriver.support.wait import WebDriverWait\n",
    "import seaborn as sns\n",
    "from selenium.webdriver.support import expected_conditions as EC\n",
    "import matplotlib.pyplot as plt\n",
    "from selenium.common.exceptions import NoSuchElementException"
   ]
  },
  {
   "cell_type": "code",
   "execution_count": 47,
   "metadata": {},
   "outputs": [
    {
     "name": "stderr",
     "output_type": "stream",
     "text": [
      "<>:2: SyntaxWarning: invalid escape sequence '\\w'\n",
      "<>:2: SyntaxWarning: invalid escape sequence '\\w'\n",
      "C:\\Users\\piotr\\AppData\\Local\\Temp\\ipykernel_2224\\553258931.py:2: SyntaxWarning: invalid escape sequence '\\w'\n",
      "  s = Service('C:\\webdrivers\\chromedriver.exe')\n"
     ]
    }
   ],
   "source": [
    "def get_book_url(webpage):\n",
    "    s = Service('C:\\webdrivers\\chromedriver.exe')\n",
    "    driver = webdriver.Chrome(service=s)\n",
    "    driver.get(webpage)\n",
    "    all_links = []\n",
    "\n",
    "    \n",
    "    while True:\n",
    "        \n",
    "        WebDriverWait(driver, 10).until(\n",
    "                EC.presence_of_all_elements_located((By.XPATH, '//li[@class=\"col-xs-6 col-sm-4 col-md-3 col-lg-3\"]//h3//a')))\n",
    "        links = driver.find_elements(By.XPATH,'//li[@class=\"col-xs-6 col-sm-4 col-md-3 col-lg-3\"]//h3//a')\n",
    "\n",
    "        for link in links:\n",
    "            link = link.get_attribute('href')\n",
    "            all_links.append(link)\n",
    "\n",
    "        try:\n",
    "            next_page = driver.find_element(By.XPATH,'//ul[@class=\"pager\"]//li[@class=\"next\"]//a')\n",
    "            next_page.click()\n",
    "        except NoSuchElementException:\n",
    "            break\n",
    "\n",
    "    return all_links\n"
   ]
  },
  {
   "cell_type": "code",
   "execution_count": 48,
   "metadata": {},
   "outputs": [],
   "source": [
    "all_links = get_book_url('https://books.toscrape.com/')"
   ]
  },
  {
   "cell_type": "code",
   "execution_count": 60,
   "metadata": {},
   "outputs": [
    {
     "name": "stdout",
     "output_type": "stream",
     "text": [
      "https://books.toscrape.com/catalogue/tipping-the-velvet_999/index.html\n",
      "https://books.toscrape.com/catalogue/soumission_998/index.html\n",
      "https://books.toscrape.com/catalogue/sharp-objects_997/index.html\n",
      "https://books.toscrape.com/catalogue/sapiens-a-brief-history-of-humankind_996/index.html\n"
     ]
    }
   ],
   "source": [
    "for each_book in all_links[1:5]:\n",
    "    print(each_book)"
   ]
  },
  {
   "cell_type": "code",
   "execution_count": 68,
   "metadata": {},
   "outputs": [
    {
     "name": "stderr",
     "output_type": "stream",
     "text": [
      "<>:1: SyntaxWarning: invalid escape sequence '\\w'\n",
      "<>:1: SyntaxWarning: invalid escape sequence '\\w'\n",
      "C:\\Users\\piotr\\AppData\\Local\\Temp\\ipykernel_2224\\3731769102.py:1: SyntaxWarning: invalid escape sequence '\\w'\n",
      "  s = Service('C:\\webdrivers\\chromedriver.exe')\n"
     ]
    }
   ],
   "source": [
    "s = Service('C:\\webdrivers\\chromedriver.exe')\n",
    "driver = webdriver.Chrome(service=s)\n",
    "all_data = []\n",
    "\n",
    "for each_book in all_links:\n",
    "    \n",
    "    driver.get(each_book)\n",
    "    driver.implicitly_wait(3)\n",
    "\n",
    "    try:\n",
    "        book_title = driver.find_element(By.XPATH,'//div[@class=\"col-sm-6 product_main\"]//h1').text.strip()\n",
    "    except:\n",
    "        book_title = np.nan\n",
    "    try:\n",
    "        book_price = driver.find_element(By.XPATH,'(//p[@class=\"price_color\"])[1]').text.strip()\n",
    "    except:\n",
    "        book_price = np.nan\n",
    "    try:\n",
    "        book_stock = driver.find_element(By.XPATH,'(//p[@class=\"instock availability\"])[1]').text.strip()\n",
    "    except:\n",
    "        book_stock = np.nan\n",
    "    book_link = each_book\n",
    "\n",
    "    all_data.append({\"title\":book_title,\n",
    "                     \"price\":book_price,\n",
    "                     \"stock\":book_stock,\n",
    "                     \"link\":book_link})\n"
   ]
  },
  {
   "cell_type": "code",
   "execution_count": 70,
   "metadata": {},
   "outputs": [],
   "source": [
    "df = pd.DataFrame(all_data)"
   ]
  },
  {
   "cell_type": "code",
   "execution_count": 71,
   "metadata": {},
   "outputs": [
    {
     "data": {
      "text/html": [
       "<div>\n",
       "<style scoped>\n",
       "    .dataframe tbody tr th:only-of-type {\n",
       "        vertical-align: middle;\n",
       "    }\n",
       "\n",
       "    .dataframe tbody tr th {\n",
       "        vertical-align: top;\n",
       "    }\n",
       "\n",
       "    .dataframe thead th {\n",
       "        text-align: right;\n",
       "    }\n",
       "</style>\n",
       "<table border=\"1\" class=\"dataframe\">\n",
       "  <thead>\n",
       "    <tr style=\"text-align: right;\">\n",
       "      <th></th>\n",
       "      <th>title</th>\n",
       "      <th>price</th>\n",
       "      <th>stock</th>\n",
       "      <th>link</th>\n",
       "    </tr>\n",
       "  </thead>\n",
       "  <tbody>\n",
       "    <tr>\n",
       "      <th>0</th>\n",
       "      <td>A Light in the Attic</td>\n",
       "      <td>£51.77</td>\n",
       "      <td>In stock (22 available)</td>\n",
       "      <td>https://books.toscrape.com/catalogue/a-light-i...</td>\n",
       "    </tr>\n",
       "    <tr>\n",
       "      <th>1</th>\n",
       "      <td>Tipping the Velvet</td>\n",
       "      <td>£53.74</td>\n",
       "      <td>In stock (20 available)</td>\n",
       "      <td>https://books.toscrape.com/catalogue/tipping-t...</td>\n",
       "    </tr>\n",
       "    <tr>\n",
       "      <th>2</th>\n",
       "      <td>Soumission</td>\n",
       "      <td>£50.10</td>\n",
       "      <td>In stock (20 available)</td>\n",
       "      <td>https://books.toscrape.com/catalogue/soumissio...</td>\n",
       "    </tr>\n",
       "    <tr>\n",
       "      <th>3</th>\n",
       "      <td>Sharp Objects</td>\n",
       "      <td>£47.82</td>\n",
       "      <td>In stock (20 available)</td>\n",
       "      <td>https://books.toscrape.com/catalogue/sharp-obj...</td>\n",
       "    </tr>\n",
       "    <tr>\n",
       "      <th>4</th>\n",
       "      <td>Sapiens: A Brief History of Humankind</td>\n",
       "      <td>£54.23</td>\n",
       "      <td>In stock (20 available)</td>\n",
       "      <td>https://books.toscrape.com/catalogue/sapiens-a...</td>\n",
       "    </tr>\n",
       "    <tr>\n",
       "      <th>...</th>\n",
       "      <td>...</td>\n",
       "      <td>...</td>\n",
       "      <td>...</td>\n",
       "      <td>...</td>\n",
       "    </tr>\n",
       "    <tr>\n",
       "      <th>995</th>\n",
       "      <td>Alice in Wonderland (Alice's Adventures in Won...</td>\n",
       "      <td>£55.53</td>\n",
       "      <td>In stock (1 available)</td>\n",
       "      <td>https://books.toscrape.com/catalogue/alice-in-...</td>\n",
       "    </tr>\n",
       "    <tr>\n",
       "      <th>996</th>\n",
       "      <td>Ajin: Demi-Human, Volume 1 (Ajin: Demi-Human #1)</td>\n",
       "      <td>£57.06</td>\n",
       "      <td>In stock (1 available)</td>\n",
       "      <td>https://books.toscrape.com/catalogue/ajin-demi...</td>\n",
       "    </tr>\n",
       "    <tr>\n",
       "      <th>997</th>\n",
       "      <td>A Spy's Devotion (The Regency Spies of London #1)</td>\n",
       "      <td>£16.97</td>\n",
       "      <td>In stock (1 available)</td>\n",
       "      <td>https://books.toscrape.com/catalogue/a-spys-de...</td>\n",
       "    </tr>\n",
       "    <tr>\n",
       "      <th>998</th>\n",
       "      <td>1st to Die (Women's Murder Club #1)</td>\n",
       "      <td>£53.98</td>\n",
       "      <td>In stock (1 available)</td>\n",
       "      <td>https://books.toscrape.com/catalogue/1st-to-di...</td>\n",
       "    </tr>\n",
       "    <tr>\n",
       "      <th>999</th>\n",
       "      <td>1,000 Places to See Before You Die</td>\n",
       "      <td>£26.08</td>\n",
       "      <td>In stock (1 available)</td>\n",
       "      <td>https://books.toscrape.com/catalogue/1000-plac...</td>\n",
       "    </tr>\n",
       "  </tbody>\n",
       "</table>\n",
       "<p>1000 rows × 4 columns</p>\n",
       "</div>"
      ],
      "text/plain": [
       "                                                 title   price  \\\n",
       "0                                 A Light in the Attic  £51.77   \n",
       "1                                   Tipping the Velvet  £53.74   \n",
       "2                                           Soumission  £50.10   \n",
       "3                                        Sharp Objects  £47.82   \n",
       "4                Sapiens: A Brief History of Humankind  £54.23   \n",
       "..                                                 ...     ...   \n",
       "995  Alice in Wonderland (Alice's Adventures in Won...  £55.53   \n",
       "996   Ajin: Demi-Human, Volume 1 (Ajin: Demi-Human #1)  £57.06   \n",
       "997  A Spy's Devotion (The Regency Spies of London #1)  £16.97   \n",
       "998                1st to Die (Women's Murder Club #1)  £53.98   \n",
       "999                 1,000 Places to See Before You Die  £26.08   \n",
       "\n",
       "                       stock  \\\n",
       "0    In stock (22 available)   \n",
       "1    In stock (20 available)   \n",
       "2    In stock (20 available)   \n",
       "3    In stock (20 available)   \n",
       "4    In stock (20 available)   \n",
       "..                       ...   \n",
       "995   In stock (1 available)   \n",
       "996   In stock (1 available)   \n",
       "997   In stock (1 available)   \n",
       "998   In stock (1 available)   \n",
       "999   In stock (1 available)   \n",
       "\n",
       "                                                  link  \n",
       "0    https://books.toscrape.com/catalogue/a-light-i...  \n",
       "1    https://books.toscrape.com/catalogue/tipping-t...  \n",
       "2    https://books.toscrape.com/catalogue/soumissio...  \n",
       "3    https://books.toscrape.com/catalogue/sharp-obj...  \n",
       "4    https://books.toscrape.com/catalogue/sapiens-a...  \n",
       "..                                                 ...  \n",
       "995  https://books.toscrape.com/catalogue/alice-in-...  \n",
       "996  https://books.toscrape.com/catalogue/ajin-demi...  \n",
       "997  https://books.toscrape.com/catalogue/a-spys-de...  \n",
       "998  https://books.toscrape.com/catalogue/1st-to-di...  \n",
       "999  https://books.toscrape.com/catalogue/1000-plac...  \n",
       "\n",
       "[1000 rows x 4 columns]"
      ]
     },
     "execution_count": 71,
     "metadata": {},
     "output_type": "execute_result"
    }
   ],
   "source": [
    "df"
   ]
  }
 ],
 "metadata": {
  "kernelspec": {
   "display_name": "Python 3",
   "language": "python",
   "name": "python3"
  },
  "language_info": {
   "codemirror_mode": {
    "name": "ipython",
    "version": 3
   },
   "file_extension": ".py",
   "mimetype": "text/x-python",
   "name": "python",
   "nbconvert_exporter": "python",
   "pygments_lexer": "ipython3",
   "version": "3.12.4"
  }
 },
 "nbformat": 4,
 "nbformat_minor": 2
}
