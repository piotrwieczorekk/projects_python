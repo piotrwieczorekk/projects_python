{
 "cells": [
  {
   "attachments": {},
   "cell_type": "markdown",
   "metadata": {},
   "source": [
    "<h2><b>Scraping data about fnatic (e-sport organization) in CS:GO with Selenium</h2></b>"
   ]
  },
  {
   "attachments": {},
   "cell_type": "markdown",
   "metadata": {},
   "source": [
    "<h3>Libraries</h3>"
   ]
  },
  {
   "cell_type": "code",
   "execution_count": 423,
   "metadata": {},
   "outputs": [],
   "source": [
    "import pandas as pd\n",
    "import numpy as np\n",
    "import requests\n",
    "import time\n",
    "from bs4 import BeautifulSoup\n",
    "from selenium import webdriver\n",
    "from selenium.webdriver.common.keys import Keys\n",
    "from selenium.webdriver.common.by import By\n",
    "from selenium.webdriver.support.wait import WebDriverWait\n",
    "from IPython.display import Image\n",
    "import cmd"
   ]
  },
  {
   "attachments": {},
   "cell_type": "markdown",
   "metadata": {},
   "source": [
    "<h3>Status code</h3>"
   ]
  },
  {
   "cell_type": "code",
   "execution_count": 424,
   "metadata": {},
   "outputs": [
    {
     "data": {
      "text/plain": [
       "200"
      ]
     },
     "execution_count": 424,
     "metadata": {},
     "output_type": "execute_result"
    }
   ],
   "source": [
    "url = \"https://www.hltv.org/results?team=4991\"\n",
    "response = requests.get(url)\n",
    "response.status_code"
   ]
  },
  {
   "attachments": {},
   "cell_type": "markdown",
   "metadata": {},
   "source": [
    "<h3>How the site looks like</h3>"
   ]
  },
  {
   "cell_type": "code",
   "execution_count": 425,
   "metadata": {},
   "outputs": [
    {
     "data": {
      "text/html": [
       "<img src=\"hltv_cookies.png\" width=\"1500\" height=\"700\"/>"
      ],
      "text/plain": [
       "<IPython.core.display.Image object>"
      ]
     },
     "execution_count": 425,
     "metadata": {},
     "output_type": "execute_result"
    }
   ],
   "source": [
    "Image(url=\"hltv_cookies.png\",width=1500, height=700)"
   ]
  },
  {
   "cell_type": "code",
   "execution_count": 426,
   "metadata": {},
   "outputs": [
    {
     "data": {
      "text/html": [
       "<img src=\"hltv.png\" width=\"1500\" height=\"800\"/>"
      ],
      "text/plain": [
       "<IPython.core.display.Image object>"
      ]
     },
     "execution_count": 426,
     "metadata": {},
     "output_type": "execute_result"
    }
   ],
   "source": [
    "Image(url=\"hltv.png\",width=1500, height=800)"
   ]
  },
  {
   "attachments": {},
   "cell_type": "markdown",
   "metadata": {},
   "source": [
    "<h3>Code for getting data about teams, score, event and link to the game</h3>"
   ]
  },
  {
   "cell_type": "code",
   "execution_count": 427,
   "metadata": {},
   "outputs": [
    {
     "name": "stderr",
     "output_type": "stream",
     "text": [
      "C:\\Users\\piotr\\AppData\\Local\\Temp\\ipykernel_12744\\1627560556.py:2: DeprecationWarning: executable_path has been deprecated, please pass in a Service object\n",
      "  driver = webdriver.Chrome(executable_path=PATH)\n"
     ]
    },
    {
     "name": "stdout",
     "output_type": "stream",
     "text": [
      "Getting page 1. Waiting...\n",
      "Getting page 2. Waiting...\n",
      "Getting page 3. Waiting...\n",
      "Getting page 4. Waiting...\n",
      "Getting page 5. Waiting...\n",
      "Getting page 6. Waiting...\n",
      "Getting page 7. Waiting...\n",
      "Getting page 8. Waiting...\n",
      "Getting page 9. Waiting...\n",
      "Getting page 10. Waiting...\n",
      "Getting page 11. Waiting...\n",
      "Getting page 12. Waiting...\n",
      "Getting page 13. Waiting...\n",
      "Getting page 14. Waiting...\n",
      "Getting page 15. Waiting...\n"
     ]
    }
   ],
   "source": [
    "PATH = 'C:\\webdrivers\\chromedriver.exe'\n",
    "driver = webdriver.Chrome(executable_path=PATH)\n",
    "driver.get(url)\n",
    "driver.implicitly_wait(10)\n",
    "cookies = driver.find_element(By.XPATH,\"//button[@id='CybotCookiebotDialogBodyLevelButtonLevelOptinAllowAll']\")\n",
    "cookies.click()\n",
    "s = []\n",
    "driver.implicitly_wait(5)\n",
    "#results = driver.find_elements(By.XPATH,\".//div[@class='result-con']\")#14 ostatnia strona\n",
    "for i in range(1,16):\n",
    "    results = driver.find_elements(By.XPATH,\".//div[@class='result-con']\")\n",
    "    for result in results:\n",
    "        team1 = result.find_element(By.XPATH,\".//a/div[@class='result']//table//tbody//tr//td[1]\").text\n",
    "        team2 = result.find_element(By.XPATH,\".//a/div[@class='result']//table/tbody//tr//td[3]\").text\n",
    "        score = result.find_element(By.XPATH,\".//a//div[@class='result']//table/tbody//tr//td[2]\").text\n",
    "        event = result.find_element(By.XPATH,\".//a//div[@class='result']//table//tbody//tr//td[4]\").text\n",
    "        game_link = result.find_element(By.XPATH,\".//a\").get_attribute('href')\n",
    "        s.append({\"team1\":team1,\n",
    "                  \"team2\":team2,\n",
    "                  \"score\":score,\n",
    "                  \"event\":event,\n",
    "                  \"game_link\":game_link})\n",
    "    driver.implicitly_wait(5)\n",
    "    if i != 15:\n",
    "        next_page = driver.find_element(By.XPATH,\"(//a[@class='pagination-next '])[1]\")\n",
    "        next_page.click()\n",
    "    print(f'Getting page {i}. Waiting...')\n",
    "    time.sleep(2)\n"
   ]
  },
  {
   "cell_type": "code",
   "execution_count": 428,
   "metadata": {},
   "outputs": [],
   "source": [
    "df = pd.DataFrame(s)"
   ]
  },
  {
   "attachments": {},
   "cell_type": "markdown",
   "metadata": {},
   "source": [
    "<h3>Getting the date of every game - this part is more difficult, because a lot of games were played at the same day and it had to be ascertained that each date occurs the right amount of time. The logic behind this is that each date occurence was multiplied by the amount of time a particular game occured in results_date = driver.find_elements(By.XPATH,\".//div[@class='results-sublist']\"). So in the example below, the date (formatted as strings inside a list) was multpilied by 3 (the example date Febraury 27th 2013 occured 3 times), because 3 games were played at this time which implies that len(date.find_elements(By.XPATH,\".//div[@class='result-con']\") in results_date = 3</h3>"
   ]
  },
  {
   "cell_type": "code",
   "execution_count": 429,
   "metadata": {},
   "outputs": [
    {
     "data": {
      "text/html": [
       "<img src=\"przyklad.png\" width=\"1500\" height=\"700\"/>"
      ],
      "text/plain": [
       "<IPython.core.display.Image object>"
      ]
     },
     "execution_count": 429,
     "metadata": {},
     "output_type": "execute_result"
    }
   ],
   "source": [
    "Image(url=\"przyklad.png\",width=1500, height=700)"
   ]
  },
  {
   "attachments": {},
   "cell_type": "markdown",
   "metadata": {},
   "source": [
    "<h3>Getting each element from each list with dates</h3>"
   ]
  },
  {
   "cell_type": "code",
   "execution_count": 430,
   "metadata": {},
   "outputs": [
    {
     "name": "stderr",
     "output_type": "stream",
     "text": [
      "C:\\Users\\piotr\\AppData\\Local\\Temp\\ipykernel_12744\\123345807.py:2: DeprecationWarning: executable_path has been deprecated, please pass in a Service object\n",
      "  driver = webdriver.Chrome(executable_path=PATH)\n"
     ]
    },
    {
     "name": "stdout",
     "output_type": "stream",
     "text": [
      "Results for May 30th 2023 \n",
      "Results for May 29th 2023 \n",
      "Results for May 18th 2023 \n",
      "Results for May 18th 2023 \n",
      "Results for May 18th 2023 \n",
      "Results for May 17th 2023 \n",
      "Results for May 16th 2023 \n",
      "Results for May 15th 2023 \n",
      "Results for May 14th 2023 \n",
      "Results for May 13th 2023 \n",
      "Results for May 13th 2023 \n",
      "Results for April 19th 2023 \n",
      "Results for April 18th 2023 \n",
      "Results for April 17th 2023 \n",
      "Results for April 7th 2023 \n",
      "Results for April 6th 2023 \n",
      "Results for April 6th 2023 \n",
      "Results for April 3rd 2023 \n",
      "Results for April 2nd 2023 \n",
      "Results for April 1st 2023 \n",
      "Results for March 31st 2023 \n",
      "Results for March 30th 2023 \n",
      "Results for March 21st 2023 \n",
      "Results for March 14th 2023 \n",
      "Results for February 27th 2023 \n",
      "Results for February 26th 2023 \n",
      "Results for February 25th 2023 \n",
      "Results for February 24th 2023 \n",
      "Results for February 23rd 2023 \n",
      "Results for February 22nd 2023 \n",
      "Results for February 7th 2023 \n",
      "Results for February 6th 2023 \n",
      "Results for February 5th 2023 \n",
      "Results for February 3rd 2023 \n",
      "Results for February 2nd 2023 \n",
      "Results for February 1st 2023 \n",
      "Results for November 20th 2022 \n",
      "Results for November 19th 2022 \n",
      "Results for November 17th 2022 \n",
      "Results for November 17th 2022 \n",
      "Results for November 17th 2022 \n",
      "Results for November 17th 2022 \n",
      "Results for November 17th 2022 \n",
      "Results for November 10th 2022 \n",
      "Results for November 7th 2022 \n",
      "Results for November 6th 2022 \n",
      "Results for November 6th 2022 \n",
      "Results for November 5th 2022 \n",
      "Results for November 4th 2022 \n",
      "Results for November 2nd 2022 \n",
      "Results for November 1st 2022 \n",
      "Results for November 1st 2022 \n",
      "Results for October 31st 2022 \n",
      "Results for October 8th 2022 \n",
      "Results for October 7th 2022 \n",
      "Results for October 6th 2022 \n",
      "Results for October 5th 2022 \n",
      "Results for October 4th 2022 \n",
      "Results for September 27th 2022 \n",
      "Results for September 17th 2022 \n",
      "Results for September 16th 2022 \n",
      "Results for September 16th 2022 \n",
      "Results for September 16th 2022 \n",
      "Results for September 7th 2022 \n",
      "Results for September 7th 2022 \n",
      "Results for September 4th 2022 \n",
      "Results for September 3rd 2022 \n",
      "Results for September 2nd 2022 \n",
      "Results for September 1st 2022 \n",
      "Results for August 31st 2022 \n",
      "Results for August 22nd 2022 \n",
      "Results for August 22nd 2022 \n",
      "Results for August 22nd 2022 \n",
      "Results for August 21st 2022 \n",
      "Results for August 21st 2022 \n",
      "Results for August 16th 2022 \n",
      "Results for August 16th 2022 \n",
      "Results for June 29th 2022 \n",
      "Results for June 28th 2022 \n",
      "Results for June 25th 2022 \n",
      "Results for June 23rd 2022 \n",
      "Results for June 21st 2022 \n",
      "Results for June 9th 2022 \n",
      "Results for June 9th 2022 \n",
      "Results for June 8th 2022 \n",
      "Results for May 2nd 2022 \n",
      "Results for May 2nd 2022 \n",
      "Results for April 19th 2022 \n",
      "Results for April 18th 2022 \n",
      "Results for April 17th 2022 \n",
      "Results for April 17th 2022 \n",
      "Results for April 5th 2022 \n",
      "Results for March 26th 2022 \n",
      "Results for March 26th 2022 \n",
      "Results for March 26th 2022 \n",
      "Results for March 15th 2022 \n",
      "Results for March 14th 2022 \n",
      "Results for March 13th 2022 \n",
      "Results for March 12th 2022 \n",
      "Results for March 11th 2022 \n"
     ]
    }
   ],
   "source": [
    "PATH = 'C:\\webdrivers\\chromedriver.exe'\n",
    "driver = webdriver.Chrome(executable_path=PATH)\n",
    "driver.get(url)\n",
    "driver.implicitly_wait(10)\n",
    "cookies = driver.find_element(By.XPATH,\"//button[@id='CybotCookiebotDialogBodyLevelButtonLevelOptinAllowAll']\")\n",
    "cookies.click()\n",
    "results_date = driver.find_elements(By.XPATH,\".//div[@class='results-sublist']\")\n",
    "for date in results_date:\n",
    "    list_date = (date.find_element(By.XPATH,\".//div[@class='standard-headline']\").text.strip() + \" \").split(' Results') * len(date.find_elements(By.XPATH,\".//div[@class='result-con']\"))\n",
    "    for i in list_date:\n",
    "        game_date  = f'{i}'\n",
    "        print(game_date)"
   ]
  },
  {
   "attachments": {},
   "cell_type": "markdown",
   "metadata": {},
   "source": [
    "<h3>Scraping dates</h3>"
   ]
  },
  {
   "cell_type": "code",
   "execution_count": 431,
   "metadata": {},
   "outputs": [
    {
     "name": "stderr",
     "output_type": "stream",
     "text": [
      "C:\\Users\\piotr\\AppData\\Local\\Temp\\ipykernel_12744\\3104152274.py:2: DeprecationWarning: executable_path has been deprecated, please pass in a Service object\n",
      "  driver = webdriver.Chrome(executable_path=PATH)\n"
     ]
    },
    {
     "name": "stdout",
     "output_type": "stream",
     "text": [
      "Getting page 1. Waiting...\n",
      "Getting page 2. Waiting...\n",
      "Getting page 3. Waiting...\n",
      "Getting page 4. Waiting...\n",
      "Getting page 5. Waiting...\n",
      "Getting page 6. Waiting...\n",
      "Getting page 7. Waiting...\n",
      "Getting page 8. Waiting...\n",
      "Getting page 9. Waiting...\n",
      "Getting page 10. Waiting...\n",
      "Getting page 11. Waiting...\n",
      "Getting page 12. Waiting...\n",
      "Getting page 13. Waiting...\n",
      "Getting page 14. Waiting...\n",
      "Getting page 15. Waiting...\n"
     ]
    }
   ],
   "source": [
    "PATH = 'C:\\webdrivers\\chromedriver.exe'\n",
    "driver = webdriver.Chrome(executable_path=PATH)\n",
    "driver.get(url)\n",
    "driver.implicitly_wait(10)\n",
    "cookies = driver.find_element(By.XPATH,\"//button[@id='CybotCookiebotDialogBodyLevelButtonLevelOptinAllowAll']\")\n",
    "cookies.click()\n",
    "d = []\n",
    "driver.implicitly_wait(5)\n",
    "#results = driver.find_elements(By.XPATH,\".//div[@class='result-con']\")#14 ostatnia strona\n",
    "for page in range(1,16):\n",
    "    results_date = driver.find_elements(By.XPATH,\".//div[@class='results-sublist']\")\n",
    "    for date in results_date:\n",
    "        list_date = (date.find_element(By.XPATH,\".//div[@class='standard-headline']\").text.strip() + \" \").split(' Results') * len(date.find_elements(By.XPATH,\".//div[@class='result-con']\"))\n",
    "        for i in list_date:\n",
    "            game_date  = f'{i}'\n",
    "            d.append({\"game_date\":game_date})\n",
    "    driver.implicitly_wait(5)\n",
    "    if page != 15:\n",
    "        next_page = driver.find_element(By.XPATH,\"(//a[@class='pagination-next '])[1]\")\n",
    "        next_page.click()\n",
    "    print(f'Getting page {page}. Waiting...')\n",
    "    time.sleep(2)"
   ]
  },
  {
   "cell_type": "code",
   "execution_count": 432,
   "metadata": {},
   "outputs": [],
   "source": [
    "df2 = pd.DataFrame(d)"
   ]
  },
  {
   "cell_type": "code",
   "execution_count": 433,
   "metadata": {},
   "outputs": [
    {
     "data": {
      "text/html": [
       "<div>\n",
       "<style scoped>\n",
       "    .dataframe tbody tr th:only-of-type {\n",
       "        vertical-align: middle;\n",
       "    }\n",
       "\n",
       "    .dataframe tbody tr th {\n",
       "        vertical-align: top;\n",
       "    }\n",
       "\n",
       "    .dataframe thead th {\n",
       "        text-align: right;\n",
       "    }\n",
       "</style>\n",
       "<table border=\"1\" class=\"dataframe\">\n",
       "  <thead>\n",
       "    <tr style=\"text-align: right;\">\n",
       "      <th></th>\n",
       "      <th>team1</th>\n",
       "      <th>team2</th>\n",
       "      <th>score</th>\n",
       "      <th>event</th>\n",
       "      <th>game_link</th>\n",
       "    </tr>\n",
       "  </thead>\n",
       "  <tbody>\n",
       "    <tr>\n",
       "      <th>0</th>\n",
       "      <td>fnatic</td>\n",
       "      <td>9z</td>\n",
       "      <td>1 - 2</td>\n",
       "      <td>IEM Dallas 2023</td>\n",
       "      <td>https://www.hltv.org/matches/2364475/fnatic-vs...</td>\n",
       "    </tr>\n",
       "    <tr>\n",
       "      <th>1</th>\n",
       "      <td>fnatic</td>\n",
       "      <td>MOUZ</td>\n",
       "      <td>9 - 16</td>\n",
       "      <td>IEM Dallas 2023</td>\n",
       "      <td>https://www.hltv.org/matches/2364392/fnatic-vs...</td>\n",
       "    </tr>\n",
       "    <tr>\n",
       "      <th>2</th>\n",
       "      <td>fnatic</td>\n",
       "      <td>Looking4Org</td>\n",
       "      <td>2 - 0</td>\n",
       "      <td>Gamers8 2023 Europe Open Qualifier 1</td>\n",
       "      <td>https://www.hltv.org/matches/2364348/looking4o...</td>\n",
       "    </tr>\n",
       "    <tr>\n",
       "      <th>3</th>\n",
       "      <td>fnatic</td>\n",
       "      <td>500</td>\n",
       "      <td>19 - 16</td>\n",
       "      <td>Gamers8 2023 Europe Open Qualifier 1</td>\n",
       "      <td>https://www.hltv.org/matches/2364346/fnatic-vs...</td>\n",
       "    </tr>\n",
       "    <tr>\n",
       "      <th>4</th>\n",
       "      <td>fnatic</td>\n",
       "      <td>GTZ</td>\n",
       "      <td>16 - 6</td>\n",
       "      <td>Gamers8 2023 Europe Open Qualifier 1</td>\n",
       "      <td>https://www.hltv.org/matches/2364342/fnatic-vs...</td>\n",
       "    </tr>\n",
       "    <tr>\n",
       "      <th>...</th>\n",
       "      <td>...</td>\n",
       "      <td>...</td>\n",
       "      <td>...</td>\n",
       "      <td>...</td>\n",
       "      <td>...</td>\n",
       "    </tr>\n",
       "    <tr>\n",
       "      <th>1457</th>\n",
       "      <td>fnatic</td>\n",
       "      <td>ALTERNATE aTTaX</td>\n",
       "      <td>16 - 14</td>\n",
       "      <td>RADEON Offensive by 99Damage</td>\n",
       "      <td>https://www.hltv.org/matches/2199933/fnatic-vs...</td>\n",
       "    </tr>\n",
       "    <tr>\n",
       "      <th>1458</th>\n",
       "      <td>fnatic</td>\n",
       "      <td>MOUZ</td>\n",
       "      <td>11 - 16</td>\n",
       "      <td>RADEON Offensive by 99Damage</td>\n",
       "      <td>https://www.hltv.org/matches/2197272/mouz-vs-f...</td>\n",
       "    </tr>\n",
       "    <tr>\n",
       "      <th>1459</th>\n",
       "      <td>fnatic</td>\n",
       "      <td>mousesports</td>\n",
       "      <td>14 - 16</td>\n",
       "      <td>DreamHack Winter 2012</td>\n",
       "      <td>https://www.hltv.org/matches/2192672/mousespor...</td>\n",
       "    </tr>\n",
       "    <tr>\n",
       "      <th>1460</th>\n",
       "      <td>fnatic</td>\n",
       "      <td>ESC</td>\n",
       "      <td>16 - 7</td>\n",
       "      <td>DreamHack Winter 2012</td>\n",
       "      <td>https://www.hltv.org/matches/2192670/fnatic-vs...</td>\n",
       "    </tr>\n",
       "    <tr>\n",
       "      <th>1461</th>\n",
       "      <td>fnatic</td>\n",
       "      <td>Ninjas in Pyjamas</td>\n",
       "      <td>6 - 16</td>\n",
       "      <td>DreamHack Winter 2012</td>\n",
       "      <td>https://www.hltv.org/matches/2192667/ninjas-in...</td>\n",
       "    </tr>\n",
       "  </tbody>\n",
       "</table>\n",
       "<p>1462 rows × 5 columns</p>\n",
       "</div>"
      ],
      "text/plain": [
       "       team1              team2    score  \\\n",
       "0     fnatic                 9z    1 - 2   \n",
       "1     fnatic               MOUZ   9 - 16   \n",
       "2     fnatic        Looking4Org    2 - 0   \n",
       "3     fnatic                500  19 - 16   \n",
       "4     fnatic                GTZ   16 - 6   \n",
       "...      ...                ...      ...   \n",
       "1457  fnatic    ALTERNATE aTTaX  16 - 14   \n",
       "1458  fnatic               MOUZ  11 - 16   \n",
       "1459  fnatic        mousesports  14 - 16   \n",
       "1460  fnatic                ESC   16 - 7   \n",
       "1461  fnatic  Ninjas in Pyjamas   6 - 16   \n",
       "\n",
       "                                     event  \\\n",
       "0                          IEM Dallas 2023   \n",
       "1                          IEM Dallas 2023   \n",
       "2     Gamers8 2023 Europe Open Qualifier 1   \n",
       "3     Gamers8 2023 Europe Open Qualifier 1   \n",
       "4     Gamers8 2023 Europe Open Qualifier 1   \n",
       "...                                    ...   \n",
       "1457          RADEON Offensive by 99Damage   \n",
       "1458          RADEON Offensive by 99Damage   \n",
       "1459                 DreamHack Winter 2012   \n",
       "1460                 DreamHack Winter 2012   \n",
       "1461                 DreamHack Winter 2012   \n",
       "\n",
       "                                              game_link  \n",
       "0     https://www.hltv.org/matches/2364475/fnatic-vs...  \n",
       "1     https://www.hltv.org/matches/2364392/fnatic-vs...  \n",
       "2     https://www.hltv.org/matches/2364348/looking4o...  \n",
       "3     https://www.hltv.org/matches/2364346/fnatic-vs...  \n",
       "4     https://www.hltv.org/matches/2364342/fnatic-vs...  \n",
       "...                                                 ...  \n",
       "1457  https://www.hltv.org/matches/2199933/fnatic-vs...  \n",
       "1458  https://www.hltv.org/matches/2197272/mouz-vs-f...  \n",
       "1459  https://www.hltv.org/matches/2192672/mousespor...  \n",
       "1460  https://www.hltv.org/matches/2192670/fnatic-vs...  \n",
       "1461  https://www.hltv.org/matches/2192667/ninjas-in...  \n",
       "\n",
       "[1462 rows x 5 columns]"
      ]
     },
     "execution_count": 433,
     "metadata": {},
     "output_type": "execute_result"
    }
   ],
   "source": [
    "df"
   ]
  },
  {
   "cell_type": "code",
   "execution_count": 434,
   "metadata": {},
   "outputs": [
    {
     "data": {
      "text/html": [
       "<div>\n",
       "<style scoped>\n",
       "    .dataframe tbody tr th:only-of-type {\n",
       "        vertical-align: middle;\n",
       "    }\n",
       "\n",
       "    .dataframe tbody tr th {\n",
       "        vertical-align: top;\n",
       "    }\n",
       "\n",
       "    .dataframe thead th {\n",
       "        text-align: right;\n",
       "    }\n",
       "</style>\n",
       "<table border=\"1\" class=\"dataframe\">\n",
       "  <thead>\n",
       "    <tr style=\"text-align: right;\">\n",
       "      <th></th>\n",
       "      <th>game_date</th>\n",
       "    </tr>\n",
       "  </thead>\n",
       "  <tbody>\n",
       "    <tr>\n",
       "      <th>0</th>\n",
       "      <td>Results for May 30th 2023</td>\n",
       "    </tr>\n",
       "    <tr>\n",
       "      <th>1</th>\n",
       "      <td>Results for May 29th 2023</td>\n",
       "    </tr>\n",
       "    <tr>\n",
       "      <th>2</th>\n",
       "      <td>Results for May 18th 2023</td>\n",
       "    </tr>\n",
       "    <tr>\n",
       "      <th>3</th>\n",
       "      <td>Results for May 18th 2023</td>\n",
       "    </tr>\n",
       "    <tr>\n",
       "      <th>4</th>\n",
       "      <td>Results for May 18th 2023</td>\n",
       "    </tr>\n",
       "    <tr>\n",
       "      <th>...</th>\n",
       "      <td>...</td>\n",
       "    </tr>\n",
       "    <tr>\n",
       "      <th>1457</th>\n",
       "      <td>Results for December 10th 2012</td>\n",
       "    </tr>\n",
       "    <tr>\n",
       "      <th>1458</th>\n",
       "      <td>Results for December 4th 2012</td>\n",
       "    </tr>\n",
       "    <tr>\n",
       "      <th>1459</th>\n",
       "      <td>Results for November 22nd 2012</td>\n",
       "    </tr>\n",
       "    <tr>\n",
       "      <th>1460</th>\n",
       "      <td>Results for November 22nd 2012</td>\n",
       "    </tr>\n",
       "    <tr>\n",
       "      <th>1461</th>\n",
       "      <td>Results for November 22nd 2012</td>\n",
       "    </tr>\n",
       "  </tbody>\n",
       "</table>\n",
       "<p>1462 rows × 1 columns</p>\n",
       "</div>"
      ],
      "text/plain": [
       "                            game_date\n",
       "0          Results for May 30th 2023 \n",
       "1          Results for May 29th 2023 \n",
       "2          Results for May 18th 2023 \n",
       "3          Results for May 18th 2023 \n",
       "4          Results for May 18th 2023 \n",
       "...                               ...\n",
       "1457  Results for December 10th 2012 \n",
       "1458   Results for December 4th 2012 \n",
       "1459  Results for November 22nd 2012 \n",
       "1460  Results for November 22nd 2012 \n",
       "1461  Results for November 22nd 2012 \n",
       "\n",
       "[1462 rows x 1 columns]"
      ]
     },
     "execution_count": 434,
     "metadata": {},
     "output_type": "execute_result"
    }
   ],
   "source": [
    "df2"
   ]
  },
  {
   "cell_type": "code",
   "execution_count": 435,
   "metadata": {},
   "outputs": [],
   "source": [
    "df['date'] = df2['game_date']"
   ]
  },
  {
   "attachments": {},
   "cell_type": "markdown",
   "metadata": {},
   "source": [
    "<h3>Final data frame</h3>"
   ]
  },
  {
   "cell_type": "code",
   "execution_count": 436,
   "metadata": {},
   "outputs": [
    {
     "data": {
      "text/html": [
       "<div>\n",
       "<style scoped>\n",
       "    .dataframe tbody tr th:only-of-type {\n",
       "        vertical-align: middle;\n",
       "    }\n",
       "\n",
       "    .dataframe tbody tr th {\n",
       "        vertical-align: top;\n",
       "    }\n",
       "\n",
       "    .dataframe thead th {\n",
       "        text-align: right;\n",
       "    }\n",
       "</style>\n",
       "<table border=\"1\" class=\"dataframe\">\n",
       "  <thead>\n",
       "    <tr style=\"text-align: right;\">\n",
       "      <th></th>\n",
       "      <th>team1</th>\n",
       "      <th>team2</th>\n",
       "      <th>score</th>\n",
       "      <th>event</th>\n",
       "      <th>game_link</th>\n",
       "      <th>date</th>\n",
       "    </tr>\n",
       "  </thead>\n",
       "  <tbody>\n",
       "    <tr>\n",
       "      <th>0</th>\n",
       "      <td>fnatic</td>\n",
       "      <td>9z</td>\n",
       "      <td>1 - 2</td>\n",
       "      <td>IEM Dallas 2023</td>\n",
       "      <td>https://www.hltv.org/matches/2364475/fnatic-vs...</td>\n",
       "      <td>Results for May 30th 2023</td>\n",
       "    </tr>\n",
       "    <tr>\n",
       "      <th>1</th>\n",
       "      <td>fnatic</td>\n",
       "      <td>MOUZ</td>\n",
       "      <td>9 - 16</td>\n",
       "      <td>IEM Dallas 2023</td>\n",
       "      <td>https://www.hltv.org/matches/2364392/fnatic-vs...</td>\n",
       "      <td>Results for May 29th 2023</td>\n",
       "    </tr>\n",
       "    <tr>\n",
       "      <th>2</th>\n",
       "      <td>fnatic</td>\n",
       "      <td>Looking4Org</td>\n",
       "      <td>2 - 0</td>\n",
       "      <td>Gamers8 2023 Europe Open Qualifier 1</td>\n",
       "      <td>https://www.hltv.org/matches/2364348/looking4o...</td>\n",
       "      <td>Results for May 18th 2023</td>\n",
       "    </tr>\n",
       "    <tr>\n",
       "      <th>3</th>\n",
       "      <td>fnatic</td>\n",
       "      <td>500</td>\n",
       "      <td>19 - 16</td>\n",
       "      <td>Gamers8 2023 Europe Open Qualifier 1</td>\n",
       "      <td>https://www.hltv.org/matches/2364346/fnatic-vs...</td>\n",
       "      <td>Results for May 18th 2023</td>\n",
       "    </tr>\n",
       "    <tr>\n",
       "      <th>4</th>\n",
       "      <td>fnatic</td>\n",
       "      <td>GTZ</td>\n",
       "      <td>16 - 6</td>\n",
       "      <td>Gamers8 2023 Europe Open Qualifier 1</td>\n",
       "      <td>https://www.hltv.org/matches/2364342/fnatic-vs...</td>\n",
       "      <td>Results for May 18th 2023</td>\n",
       "    </tr>\n",
       "    <tr>\n",
       "      <th>...</th>\n",
       "      <td>...</td>\n",
       "      <td>...</td>\n",
       "      <td>...</td>\n",
       "      <td>...</td>\n",
       "      <td>...</td>\n",
       "      <td>...</td>\n",
       "    </tr>\n",
       "    <tr>\n",
       "      <th>1457</th>\n",
       "      <td>fnatic</td>\n",
       "      <td>ALTERNATE aTTaX</td>\n",
       "      <td>16 - 14</td>\n",
       "      <td>RADEON Offensive by 99Damage</td>\n",
       "      <td>https://www.hltv.org/matches/2199933/fnatic-vs...</td>\n",
       "      <td>Results for December 10th 2012</td>\n",
       "    </tr>\n",
       "    <tr>\n",
       "      <th>1458</th>\n",
       "      <td>fnatic</td>\n",
       "      <td>MOUZ</td>\n",
       "      <td>11 - 16</td>\n",
       "      <td>RADEON Offensive by 99Damage</td>\n",
       "      <td>https://www.hltv.org/matches/2197272/mouz-vs-f...</td>\n",
       "      <td>Results for December 4th 2012</td>\n",
       "    </tr>\n",
       "    <tr>\n",
       "      <th>1459</th>\n",
       "      <td>fnatic</td>\n",
       "      <td>mousesports</td>\n",
       "      <td>14 - 16</td>\n",
       "      <td>DreamHack Winter 2012</td>\n",
       "      <td>https://www.hltv.org/matches/2192672/mousespor...</td>\n",
       "      <td>Results for November 22nd 2012</td>\n",
       "    </tr>\n",
       "    <tr>\n",
       "      <th>1460</th>\n",
       "      <td>fnatic</td>\n",
       "      <td>ESC</td>\n",
       "      <td>16 - 7</td>\n",
       "      <td>DreamHack Winter 2012</td>\n",
       "      <td>https://www.hltv.org/matches/2192670/fnatic-vs...</td>\n",
       "      <td>Results for November 22nd 2012</td>\n",
       "    </tr>\n",
       "    <tr>\n",
       "      <th>1461</th>\n",
       "      <td>fnatic</td>\n",
       "      <td>Ninjas in Pyjamas</td>\n",
       "      <td>6 - 16</td>\n",
       "      <td>DreamHack Winter 2012</td>\n",
       "      <td>https://www.hltv.org/matches/2192667/ninjas-in...</td>\n",
       "      <td>Results for November 22nd 2012</td>\n",
       "    </tr>\n",
       "  </tbody>\n",
       "</table>\n",
       "<p>1462 rows × 6 columns</p>\n",
       "</div>"
      ],
      "text/plain": [
       "       team1              team2    score  \\\n",
       "0     fnatic                 9z    1 - 2   \n",
       "1     fnatic               MOUZ   9 - 16   \n",
       "2     fnatic        Looking4Org    2 - 0   \n",
       "3     fnatic                500  19 - 16   \n",
       "4     fnatic                GTZ   16 - 6   \n",
       "...      ...                ...      ...   \n",
       "1457  fnatic    ALTERNATE aTTaX  16 - 14   \n",
       "1458  fnatic               MOUZ  11 - 16   \n",
       "1459  fnatic        mousesports  14 - 16   \n",
       "1460  fnatic                ESC   16 - 7   \n",
       "1461  fnatic  Ninjas in Pyjamas   6 - 16   \n",
       "\n",
       "                                     event  \\\n",
       "0                          IEM Dallas 2023   \n",
       "1                          IEM Dallas 2023   \n",
       "2     Gamers8 2023 Europe Open Qualifier 1   \n",
       "3     Gamers8 2023 Europe Open Qualifier 1   \n",
       "4     Gamers8 2023 Europe Open Qualifier 1   \n",
       "...                                    ...   \n",
       "1457          RADEON Offensive by 99Damage   \n",
       "1458          RADEON Offensive by 99Damage   \n",
       "1459                 DreamHack Winter 2012   \n",
       "1460                 DreamHack Winter 2012   \n",
       "1461                 DreamHack Winter 2012   \n",
       "\n",
       "                                              game_link  \\\n",
       "0     https://www.hltv.org/matches/2364475/fnatic-vs...   \n",
       "1     https://www.hltv.org/matches/2364392/fnatic-vs...   \n",
       "2     https://www.hltv.org/matches/2364348/looking4o...   \n",
       "3     https://www.hltv.org/matches/2364346/fnatic-vs...   \n",
       "4     https://www.hltv.org/matches/2364342/fnatic-vs...   \n",
       "...                                                 ...   \n",
       "1457  https://www.hltv.org/matches/2199933/fnatic-vs...   \n",
       "1458  https://www.hltv.org/matches/2197272/mouz-vs-f...   \n",
       "1459  https://www.hltv.org/matches/2192672/mousespor...   \n",
       "1460  https://www.hltv.org/matches/2192670/fnatic-vs...   \n",
       "1461  https://www.hltv.org/matches/2192667/ninjas-in...   \n",
       "\n",
       "                                 date  \n",
       "0          Results for May 30th 2023   \n",
       "1          Results for May 29th 2023   \n",
       "2          Results for May 18th 2023   \n",
       "3          Results for May 18th 2023   \n",
       "4          Results for May 18th 2023   \n",
       "...                               ...  \n",
       "1457  Results for December 10th 2012   \n",
       "1458   Results for December 4th 2012   \n",
       "1459  Results for November 22nd 2012   \n",
       "1460  Results for November 22nd 2012   \n",
       "1461  Results for November 22nd 2012   \n",
       "\n",
       "[1462 rows x 6 columns]"
      ]
     },
     "execution_count": 436,
     "metadata": {},
     "output_type": "execute_result"
    }
   ],
   "source": [
    "df"
   ]
  }
 ],
 "metadata": {
  "kernelspec": {
   "display_name": "Python 3",
   "language": "python",
   "name": "python3"
  },
  "language_info": {
   "codemirror_mode": {
    "name": "ipython",
    "version": 3
   },
   "file_extension": ".py",
   "mimetype": "text/x-python",
   "name": "python",
   "nbconvert_exporter": "python",
   "pygments_lexer": "ipython3",
   "version": "3.11.0"
  },
  "orig_nbformat": 4
 },
 "nbformat": 4,
 "nbformat_minor": 2
}
