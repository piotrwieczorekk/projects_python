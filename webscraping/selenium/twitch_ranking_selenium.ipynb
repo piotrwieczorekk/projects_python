{
 "cells": [
  {
   "attachments": {},
   "cell_type": "markdown",
   "metadata": {},
   "source": [
    "<h2><b>Scraping data about polish twitch ranking</h2></b>"
   ]
  },
  {
   "attachments": {},
   "cell_type": "markdown",
   "metadata": {},
   "source": [
    "### Libraries"
   ]
  },
  {
   "cell_type": "code",
   "execution_count": 1,
   "metadata": {},
   "outputs": [],
   "source": [
    "from bs4 import BeautifulSoup\n",
    "import time\n",
    "import requests\n",
    "import pandas as pd\n",
    "import numpy as np\n",
    "import seaborn as sns\n",
    "import matplotlib.pyplot as plt\n",
    "import matplotlib.ticker as ticker\n",
    "from selenium import webdriver\n",
    "from webdriver_manager.opera import OperaDriverManager\n",
    "from selenium.webdriver.common.keys import Keys\n",
    "from selenium.webdriver.common.by import By\n",
    "from selenium.webdriver.support.wait import WebDriverWait\n",
    "from selenium.webdriver.support import expected_conditions as EC\n",
    "from selenium.webdriver.common.action_chains import ActionChains"
   ]
  },
  {
   "attachments": {},
   "cell_type": "markdown",
   "metadata": {},
   "source": [
    "### Connection"
   ]
  },
  {
   "cell_type": "code",
   "execution_count": 2,
   "metadata": {},
   "outputs": [
    {
     "data": {
      "text/plain": [
       "200"
      ]
     },
     "execution_count": 2,
     "metadata": {},
     "output_type": "execute_result"
    }
   ],
   "source": [
    "url = \"https://streamerzy.pl/ranking/\"\n",
    "response = requests.get(url)\n",
    "response.status_code"
   ]
  },
  {
   "attachments": {},
   "cell_type": "markdown",
   "metadata": {},
   "source": [
    "### Scraping code - get all 181 pages of the ranking"
   ]
  },
  {
   "cell_type": "code",
   "execution_count": 23,
   "metadata": {},
   "outputs": [
    {
     "name": "stderr",
     "output_type": "stream",
     "text": [
      "C:\\Users\\piotr\\AppData\\Local\\Temp\\ipykernel_9584\\3488423088.py:2: DeprecationWarning: executable_path has been deprecated, please pass in a Service object\n",
      "  driver = webdriver.Chrome(executable_path=PATH)\n"
     ]
    },
    {
     "name": "stdout",
     "output_type": "stream",
     "text": [
      "Getting page 1. Waiting...\n",
      "Getting page 2. Waiting...\n",
      "Getting page 3. Waiting...\n",
      "Getting page 4. Waiting...\n",
      "Getting page 5. Waiting...\n",
      "Getting page 6. Waiting...\n",
      "Getting page 7. Waiting...\n",
      "Getting page 8. Waiting...\n",
      "Getting page 9. Waiting...\n",
      "Getting page 10. Waiting...\n",
      "Getting page 11. Waiting...\n",
      "Getting page 12. Waiting...\n",
      "Getting page 13. Waiting...\n",
      "Getting page 14. Waiting...\n",
      "Getting page 15. Waiting...\n",
      "Getting page 16. Waiting...\n",
      "Getting page 17. Waiting...\n",
      "Getting page 18. Waiting...\n",
      "Getting page 19. Waiting...\n",
      "Getting page 20. Waiting...\n",
      "Getting page 21. Waiting...\n",
      "Getting page 22. Waiting...\n",
      "Getting page 23. Waiting...\n",
      "Getting page 24. Waiting...\n",
      "Getting page 25. Waiting...\n",
      "Getting page 26. Waiting...\n",
      "Getting page 27. Waiting...\n",
      "Getting page 28. Waiting...\n",
      "Getting page 29. Waiting...\n",
      "Getting page 30. Waiting...\n",
      "Getting page 31. Waiting...\n",
      "Getting page 32. Waiting...\n",
      "Getting page 33. Waiting...\n",
      "Getting page 34. Waiting...\n",
      "Getting page 35. Waiting...\n",
      "Getting page 36. Waiting...\n",
      "Getting page 37. Waiting...\n",
      "Getting page 38. Waiting...\n",
      "Getting page 39. Waiting...\n",
      "Getting page 40. Waiting...\n",
      "Getting page 41. Waiting...\n",
      "Getting page 42. Waiting...\n",
      "Getting page 43. Waiting...\n",
      "Getting page 44. Waiting...\n",
      "Getting page 45. Waiting...\n",
      "Getting page 46. Waiting...\n",
      "Getting page 47. Waiting...\n",
      "Getting page 48. Waiting...\n",
      "Getting page 49. Waiting...\n",
      "Getting page 50. Waiting...\n",
      "Getting page 51. Waiting...\n",
      "Getting page 52. Waiting...\n",
      "Getting page 53. Waiting...\n",
      "Getting page 54. Waiting...\n",
      "Getting page 55. Waiting...\n",
      "Getting page 56. Waiting...\n",
      "Getting page 57. Waiting...\n",
      "Getting page 58. Waiting...\n",
      "Getting page 59. Waiting...\n",
      "Getting page 60. Waiting...\n",
      "Getting page 61. Waiting...\n",
      "Getting page 62. Waiting...\n",
      "Getting page 63. Waiting...\n",
      "Getting page 64. Waiting...\n",
      "Getting page 65. Waiting...\n",
      "Getting page 66. Waiting...\n",
      "Getting page 67. Waiting...\n",
      "Getting page 68. Waiting...\n",
      "Getting page 69. Waiting...\n",
      "Getting page 70. Waiting...\n",
      "Getting page 71. Waiting...\n",
      "Getting page 72. Waiting...\n",
      "Getting page 73. Waiting...\n",
      "Getting page 74. Waiting...\n",
      "Getting page 75. Waiting...\n",
      "Getting page 76. Waiting...\n",
      "Getting page 77. Waiting...\n",
      "Getting page 78. Waiting...\n",
      "Getting page 79. Waiting...\n",
      "Getting page 80. Waiting...\n",
      "Getting page 81. Waiting...\n",
      "Getting page 82. Waiting...\n",
      "Getting page 83. Waiting...\n",
      "Getting page 84. Waiting...\n",
      "Getting page 85. Waiting...\n",
      "Getting page 86. Waiting...\n",
      "Getting page 87. Waiting...\n",
      "Getting page 88. Waiting...\n",
      "Getting page 89. Waiting...\n",
      "Getting page 90. Waiting...\n",
      "Getting page 91. Waiting...\n",
      "Getting page 92. Waiting...\n",
      "Getting page 93. Waiting...\n",
      "Getting page 94. Waiting...\n",
      "Getting page 95. Waiting...\n",
      "Getting page 96. Waiting...\n",
      "Getting page 97. Waiting...\n",
      "Getting page 98. Waiting...\n",
      "Getting page 99. Waiting...\n",
      "Getting page 100. Waiting...\n",
      "Getting page 101. Waiting...\n",
      "Getting page 102. Waiting...\n",
      "Getting page 103. Waiting...\n",
      "Getting page 104. Waiting...\n",
      "Getting page 105. Waiting...\n",
      "Getting page 106. Waiting...\n",
      "Getting page 107. Waiting...\n",
      "Getting page 108. Waiting...\n",
      "Getting page 109. Waiting...\n",
      "Getting page 110. Waiting...\n",
      "Getting page 111. Waiting...\n",
      "Getting page 112. Waiting...\n",
      "Getting page 113. Waiting...\n",
      "Getting page 114. Waiting...\n",
      "Getting page 115. Waiting...\n",
      "Getting page 116. Waiting...\n",
      "Getting page 117. Waiting...\n",
      "Getting page 118. Waiting...\n",
      "Getting page 119. Waiting...\n",
      "Getting page 120. Waiting...\n",
      "Getting page 121. Waiting...\n",
      "Getting page 122. Waiting...\n",
      "Getting page 123. Waiting...\n",
      "Getting page 124. Waiting...\n",
      "Getting page 125. Waiting...\n",
      "Getting page 126. Waiting...\n",
      "Getting page 127. Waiting...\n",
      "Getting page 128. Waiting...\n",
      "Getting page 129. Waiting...\n",
      "Getting page 130. Waiting...\n",
      "Getting page 131. Waiting...\n",
      "Getting page 132. Waiting...\n",
      "Getting page 133. Waiting...\n",
      "Getting page 134. Waiting...\n",
      "Getting page 135. Waiting...\n",
      "Getting page 136. Waiting...\n",
      "Getting page 137. Waiting...\n",
      "Getting page 138. Waiting...\n",
      "Getting page 139. Waiting...\n",
      "Getting page 140. Waiting...\n",
      "Getting page 141. Waiting...\n",
      "Getting page 142. Waiting...\n",
      "Getting page 143. Waiting...\n",
      "Getting page 144. Waiting...\n",
      "Getting page 145. Waiting...\n",
      "Getting page 146. Waiting...\n",
      "Getting page 147. Waiting...\n",
      "Getting page 148. Waiting...\n",
      "Getting page 149. Waiting...\n",
      "Getting page 150. Waiting...\n",
      "Getting page 151. Waiting...\n",
      "Getting page 152. Waiting...\n",
      "Getting page 153. Waiting...\n",
      "Getting page 154. Waiting...\n",
      "Getting page 155. Waiting...\n",
      "Getting page 156. Waiting...\n",
      "Getting page 157. Waiting...\n",
      "Getting page 158. Waiting...\n",
      "Getting page 159. Waiting...\n",
      "Getting page 160. Waiting...\n",
      "Getting page 161. Waiting...\n",
      "Getting page 162. Waiting...\n",
      "Getting page 163. Waiting...\n",
      "Getting page 164. Waiting...\n",
      "Getting page 165. Waiting...\n",
      "Getting page 166. Waiting...\n",
      "Getting page 167. Waiting...\n",
      "Getting page 168. Waiting...\n",
      "Getting page 169. Waiting...\n",
      "Getting page 170. Waiting...\n",
      "Getting page 171. Waiting...\n",
      "Getting page 172. Waiting...\n",
      "Getting page 173. Waiting...\n",
      "Getting page 174. Waiting...\n",
      "Getting page 175. Waiting...\n",
      "Getting page 176. Waiting...\n",
      "Getting page 177. Waiting...\n",
      "Getting page 178. Waiting...\n",
      "Getting page 179. Waiting...\n",
      "Getting page 180. Waiting...\n",
      "Getting page 181. Waiting...\n"
     ]
    }
   ],
   "source": [
    "PATH = 'C:\\webdrivers\\chromedriver.exe'\n",
    "driver = webdriver.Chrome(executable_path=PATH)\n",
    "driver.get(url)\n",
    "driver.implicitly_wait(10)\n",
    "cookies = driver.find_element(By.XPATH,'//a[@id=\"btn-cookie\"]')\n",
    "cookies.click()\n",
    "s = []\n",
    "for i in range(1,182):\n",
    "    streamers = driver.find_elements(By.XPATH,'.//table[@id=\"ranking-table-homepage\"]//tbody//tr')\n",
    "    for streamer in streamers:\n",
    "        ranking = streamer.find_element(By.XPATH,'.//td[@class=\"column-id\"]').text.strip()\n",
    "        name = streamer.find_element(By.XPATH,'.//a[@class=\"column-streamer-name\"]').text.strip()\n",
    "        month_ranking_change = streamer.find_element(By.XPATH,'.//div[@class=\"diff__value\"]').text.strip()\n",
    "        average_viewers = streamer.find_element(By.XPATH,'.//td[@class=\"message column-avg\"]').text.strip()\n",
    "        max_viewers = streamer.find_element(By.XPATH,'.//td[@class=\"column-max\"]').text.strip()\n",
    "        watched_hours = streamer.find_element(By.XPATH,'.//td[@class=\"column-watched sorted-column\"]').text.strip()\n",
    "        stream_time = streamer.find_element(By.XPATH,'.//td[@class=\"column-time\"]').text.strip()\n",
    "        followers_count = streamer.find_element(By.XPATH,'.//td[@class=\"column-followers\"]').text.strip()\n",
    "        last_game = streamer.find_element(By.XPATH,'.//td[@class=\"column-game\"]').text.strip()\n",
    "        s.append({'ranking':ranking,\n",
    "                  'name':name,\n",
    "                  'month_ranking_change':month_ranking_change,\n",
    "                  'average_viewers':average_viewers,\n",
    "                  'max_viewers':max_viewers,\n",
    "                  'watched_hours':watched_hours,\n",
    "                  'stream_time':stream_time,\n",
    "                  'followers_count':followers_count,\n",
    "                  'last_game':last_game})\n",
    "    next_page = driver.find_element(By.XPATH,'//li[@class=\"active\"]/following-sibling::li//a')\n",
    "    driver.implicitly_wait(5)\n",
    "    if i != 181:\n",
    "        next_page.click()\n",
    "    print(f'Getting page {i}. Waiting...')\n",
    "    time.sleep(2)"
   ]
  },
  {
   "cell_type": "code",
   "execution_count": 25,
   "metadata": {},
   "outputs": [],
   "source": [
    "df = pd.DataFrame(s)"
   ]
  },
  {
   "cell_type": "code",
   "execution_count": 27,
   "metadata": {},
   "outputs": [
    {
     "data": {
      "text/plain": [
       "(1810, 9)"
      ]
     },
     "execution_count": 27,
     "metadata": {},
     "output_type": "execute_result"
    }
   ],
   "source": [
    "df.shape"
   ]
  },
  {
   "cell_type": "code",
   "execution_count": 28,
   "metadata": {},
   "outputs": [
    {
     "name": "stdout",
     "output_type": "stream",
     "text": [
      "<class 'pandas.core.frame.DataFrame'>\n",
      "RangeIndex: 1810 entries, 0 to 1809\n",
      "Data columns (total 9 columns):\n",
      " #   Column                Non-Null Count  Dtype \n",
      "---  ------                --------------  ----- \n",
      " 0   ranking               1810 non-null   object\n",
      " 1   name                  1810 non-null   object\n",
      " 2   month_ranking_change  1810 non-null   object\n",
      " 3   average_viewers       1810 non-null   object\n",
      " 4   max_viewers           1810 non-null   object\n",
      " 5   watched_hours         1810 non-null   object\n",
      " 6   stream_time           1810 non-null   object\n",
      " 7   followers_count       1810 non-null   object\n",
      " 8   last_game             1810 non-null   object\n",
      "dtypes: object(9)\n",
      "memory usage: 127.4+ KB\n"
     ]
    }
   ],
   "source": [
    "df.info()"
   ]
  },
  {
   "cell_type": "code",
   "execution_count": 31,
   "metadata": {},
   "outputs": [
    {
     "data": {
      "text/html": [
       "<div>\n",
       "<style scoped>\n",
       "    .dataframe tbody tr th:only-of-type {\n",
       "        vertical-align: middle;\n",
       "    }\n",
       "\n",
       "    .dataframe tbody tr th {\n",
       "        vertical-align: top;\n",
       "    }\n",
       "\n",
       "    .dataframe thead th {\n",
       "        text-align: right;\n",
       "    }\n",
       "</style>\n",
       "<table border=\"1\" class=\"dataframe\">\n",
       "  <thead>\n",
       "    <tr style=\"text-align: right;\">\n",
       "      <th></th>\n",
       "      <th>ranking</th>\n",
       "      <th>name</th>\n",
       "      <th>month_ranking_change</th>\n",
       "      <th>average_viewers</th>\n",
       "      <th>max_viewers</th>\n",
       "      <th>watched_hours</th>\n",
       "      <th>stream_time</th>\n",
       "      <th>followers_count</th>\n",
       "      <th>last_game</th>\n",
       "    </tr>\n",
       "  </thead>\n",
       "  <tbody>\n",
       "    <tr>\n",
       "      <th>0</th>\n",
       "      <td>1</td>\n",
       "      <td>XAYOO_</td>\n",
       "      <td>8</td>\n",
       "      <td>14 507</td>\n",
       "      <td>29 577</td>\n",
       "      <td>1 015 467</td>\n",
       "      <td></td>\n",
       "      <td>955 851</td>\n",
       "      <td>Counter-Strike: Global Offensive</td>\n",
       "    </tr>\n",
       "    <tr>\n",
       "      <th>1</th>\n",
       "      <td>2</td>\n",
       "      <td>EWROON</td>\n",
       "      <td>1</td>\n",
       "      <td>9028</td>\n",
       "      <td>19 812</td>\n",
       "      <td>809 483</td>\n",
       "      <td></td>\n",
       "      <td>878 181</td>\n",
       "      <td>Minecraft: Legends</td>\n",
       "    </tr>\n",
       "    <tr>\n",
       "      <th>2</th>\n",
       "      <td>3</td>\n",
       "      <td>IZAKOOO</td>\n",
       "      <td>11</td>\n",
       "      <td>5758</td>\n",
       "      <td>66 558</td>\n",
       "      <td>666 026</td>\n",
       "      <td></td>\n",
       "      <td>1 853 673</td>\n",
       "      <td>Just Chatting</td>\n",
       "    </tr>\n",
       "    <tr>\n",
       "      <th>3</th>\n",
       "      <td>4</td>\n",
       "      <td>XNTENTACION</td>\n",
       "      <td>18</td>\n",
       "      <td>7957</td>\n",
       "      <td>23 739</td>\n",
       "      <td>519 842</td>\n",
       "      <td></td>\n",
       "      <td>301 056</td>\n",
       "      <td>Chess</td>\n",
       "    </tr>\n",
       "    <tr>\n",
       "      <th>4</th>\n",
       "      <td>5</td>\n",
       "      <td>H2P_GUCIO</td>\n",
       "      <td>1</td>\n",
       "      <td>4277</td>\n",
       "      <td>8254</td>\n",
       "      <td>506 129</td>\n",
       "      <td></td>\n",
       "      <td>324 269</td>\n",
       "      <td>Path of Exile</td>\n",
       "    </tr>\n",
       "    <tr>\n",
       "      <th>...</th>\n",
       "      <td>...</td>\n",
       "      <td>...</td>\n",
       "      <td>...</td>\n",
       "      <td>...</td>\n",
       "      <td>...</td>\n",
       "      <td>...</td>\n",
       "      <td>...</td>\n",
       "      <td>...</td>\n",
       "      <td>...</td>\n",
       "    </tr>\n",
       "    <tr>\n",
       "      <th>1805</th>\n",
       "      <td>1806</td>\n",
       "      <td>POLSKIHITMAN</td>\n",
       "      <td>N</td>\n",
       "      <td>21</td>\n",
       "      <td>21</td>\n",
       "      <td>4</td>\n",
       "      <td></td>\n",
       "      <td>1368</td>\n",
       "      <td>Broken Ranks</td>\n",
       "    </tr>\n",
       "    <tr>\n",
       "      <th>1806</th>\n",
       "      <td>1807</td>\n",
       "      <td>ELOTHTEAM</td>\n",
       "      <td>N</td>\n",
       "      <td>21</td>\n",
       "      <td>21</td>\n",
       "      <td>4</td>\n",
       "      <td></td>\n",
       "      <td>609</td>\n",
       "      <td>Tibia</td>\n",
       "    </tr>\n",
       "    <tr>\n",
       "      <th>1807</th>\n",
       "      <td>1808</td>\n",
       "      <td>TECHNOTAMPON_TV</td>\n",
       "      <td>82</td>\n",
       "      <td>23</td>\n",
       "      <td>23</td>\n",
       "      <td>4</td>\n",
       "      <td></td>\n",
       "      <td>263</td>\n",
       "      <td>Serious Sam HD: The First Encounter</td>\n",
       "    </tr>\n",
       "    <tr>\n",
       "      <th>1808</th>\n",
       "      <td>1809</td>\n",
       "      <td>R6GODJAPKA</td>\n",
       "      <td>N</td>\n",
       "      <td>24</td>\n",
       "      <td>24</td>\n",
       "      <td>4</td>\n",
       "      <td></td>\n",
       "      <td>488</td>\n",
       "      <td>Just Chatting</td>\n",
       "    </tr>\n",
       "    <tr>\n",
       "      <th>1809</th>\n",
       "      <td>1810</td>\n",
       "      <td>LOPEZ909</td>\n",
       "      <td>N</td>\n",
       "      <td>24</td>\n",
       "      <td>24</td>\n",
       "      <td>4</td>\n",
       "      <td></td>\n",
       "      <td>814</td>\n",
       "      <td>Grand Theft Auto V</td>\n",
       "    </tr>\n",
       "  </tbody>\n",
       "</table>\n",
       "<p>1810 rows × 9 columns</p>\n",
       "</div>"
      ],
      "text/plain": [
       "     ranking             name month_ranking_change average_viewers  \\\n",
       "0          1           XAYOO_                    8          14 507   \n",
       "1          2           EWROON                    1            9028   \n",
       "2          3          IZAKOOO                   11            5758   \n",
       "3          4      XNTENTACION                   18            7957   \n",
       "4          5        H2P_GUCIO                    1            4277   \n",
       "...      ...              ...                  ...             ...   \n",
       "1805    1806     POLSKIHITMAN                    N              21   \n",
       "1806    1807        ELOTHTEAM                    N              21   \n",
       "1807    1808  TECHNOTAMPON_TV                   82              23   \n",
       "1808    1809       R6GODJAPKA                    N              24   \n",
       "1809    1810         LOPEZ909                    N              24   \n",
       "\n",
       "     max_viewers watched_hours stream_time followers_count  \\\n",
       "0         29 577     1 015 467                     955 851   \n",
       "1         19 812       809 483                     878 181   \n",
       "2         66 558       666 026                   1 853 673   \n",
       "3         23 739       519 842                     301 056   \n",
       "4           8254       506 129                     324 269   \n",
       "...          ...           ...         ...             ...   \n",
       "1805          21             4                        1368   \n",
       "1806          21             4                         609   \n",
       "1807          23             4                         263   \n",
       "1808          24             4                         488   \n",
       "1809          24             4                         814   \n",
       "\n",
       "                                last_game  \n",
       "0        Counter-Strike: Global Offensive  \n",
       "1                      Minecraft: Legends  \n",
       "2                           Just Chatting  \n",
       "3                                   Chess  \n",
       "4                           Path of Exile  \n",
       "...                                   ...  \n",
       "1805                         Broken Ranks  \n",
       "1806                                Tibia  \n",
       "1807  Serious Sam HD: The First Encounter  \n",
       "1808                        Just Chatting  \n",
       "1809                   Grand Theft Auto V  \n",
       "\n",
       "[1810 rows x 9 columns]"
      ]
     },
     "execution_count": 31,
     "metadata": {},
     "output_type": "execute_result"
    }
   ],
   "source": [
    "df"
   ]
  },
  {
   "cell_type": "code",
   "execution_count": 33,
   "metadata": {},
   "outputs": [
    {
     "data": {
      "text/plain": [
       "ranking                 object\n",
       "name                    object\n",
       "month_ranking_change    object\n",
       "average_viewers         object\n",
       "max_viewers             object\n",
       "watched_hours           object\n",
       "stream_time             object\n",
       "followers_count         object\n",
       "last_game               object\n",
       "dtype: object"
      ]
     },
     "execution_count": 33,
     "metadata": {},
     "output_type": "execute_result"
    }
   ],
   "source": [
    "df.dtypes"
   ]
  },
  {
   "cell_type": "code",
   "execution_count": 40,
   "metadata": {},
   "outputs": [],
   "source": [
    "num_cols = ['ranking','average_viewers','max_viewers','watched_hours','followers_count']"
   ]
  },
  {
   "cell_type": "code",
   "execution_count": 42,
   "metadata": {},
   "outputs": [],
   "source": [
    "df[num_cols] = df[num_cols].apply(lambda x: x.str.replace(' ','')).apply(pd.to_numeric)"
   ]
  },
  {
   "cell_type": "code",
   "execution_count": 44,
   "metadata": {},
   "outputs": [
    {
     "data": {
      "text/plain": [
       "ranking                  int64\n",
       "name                    object\n",
       "month_ranking_change    object\n",
       "average_viewers          int64\n",
       "max_viewers              int64\n",
       "watched_hours            int64\n",
       "stream_time             object\n",
       "followers_count          int64\n",
       "last_game               object\n",
       "dtype: object"
      ]
     },
     "execution_count": 44,
     "metadata": {},
     "output_type": "execute_result"
    }
   ],
   "source": [
    "df.dtypes"
   ]
  },
  {
   "cell_type": "code",
   "execution_count": 50,
   "metadata": {},
   "outputs": [
    {
     "data": {
      "text/plain": [
       "<AxesSubplot: xlabel='average_viewers', ylabel='name'>"
      ]
     },
     "execution_count": 50,
     "metadata": {},
     "output_type": "execute_result"
    },
    {
     "data": {
      "image/png": "[encoded data removed]",
      "text/plain": [
       "<Figure size 1000x800 with 1 Axes>"
      ]
     },
     "metadata": {},
     "output_type": "display_data"
    }
   ],
   "source": [
    "plt.figure(figsize=(10,8))\n",
    "sns.barplot(data=df.head(20).sort_values('average_viewers',ascending=False),\n",
    "            y='name',\n",
    "            x='average_viewers',\n",
    "            edgecolor = 'black')"
   ]
  }
 ],
 "metadata": {
  "kernelspec": {
   "display_name": "Python 3",
   "language": "python",
   "name": "python3"
  },
  "language_info": {
   "codemirror_mode": {
    "name": "ipython",
    "version": 3
   },
   "file_extension": ".py",
   "mimetype": "text/x-python",
   "name": "python",
   "nbconvert_exporter": "python",
   "pygments_lexer": "ipython3",
   "version": "3.11.0"
  },
  "orig_nbformat": 4
 },
 "nbformat": 4,
 "nbformat_minor": 2
}
