{
 "cells": [
  {
   "cell_type": "markdown",
   "metadata": {},
   "source": [
    "## Scraping data about popular quotes and their authors"
   ]
  },
  {
   "cell_type": "markdown",
   "metadata": {},
   "source": [
    "## Importing libraries"
   ]
  },
  {
   "cell_type": "code",
   "execution_count": 1,
   "metadata": {},
   "outputs": [],
   "source": [
    "import requests\n",
    "from bs4 import BeautifulSoup\n",
    "import pandas as pd\n",
    "import numpy as np\n",
    "import time\n",
    "from bs4 import BeautifulSoup\n",
    "from selenium import webdriver\n",
    "from selenium.webdriver.common.keys import Keys\n",
    "from selenium.webdriver.common.by import By\n",
    "from selenium.webdriver.support.wait import WebDriverWait\n",
    "import seaborn as sns"
   ]
  },
  {
   "cell_type": "markdown",
   "metadata": {},
   "source": [
    "### Connection"
   ]
  },
  {
   "cell_type": "code",
   "execution_count": 2,
   "metadata": {},
   "outputs": [
    {
     "data": {
      "text/plain": [
       "200"
      ]
     },
     "execution_count": 2,
     "metadata": {},
     "output_type": "execute_result"
    }
   ],
   "source": [
    "url = 'http://quotes.toscrape.com/page/1/'\n",
    "response = requests.get(url)\n",
    "response.status_code"
   ]
  },
  {
   "cell_type": "code",
   "execution_count": 8,
   "metadata": {},
   "outputs": [
    {
     "name": "stderr",
     "output_type": "stream",
     "text": [
      "C:\\Users\\piotr\\AppData\\Local\\Temp\\ipykernel_12840\\1021058804.py:2: DeprecationWarning: executable_path has been deprecated, please pass in a Service object\n",
      "  driver = webdriver.Chrome(executable_path=PATH)\n"
     ]
    }
   ],
   "source": [
    "PATH = 'C:\\webdrivers\\chromedriver.exe'\n",
    "driver = webdriver.Chrome(executable_path=PATH)\n",
    "url = 'http://quotes.toscrape.com'\n",
    "driver.get(url)\n",
    "time.sleep(5)"
   ]
  },
  {
   "cell_type": "markdown",
   "metadata": {},
   "source": [
    "### Get the quote, author and link to the author from each page"
   ]
  },
  {
   "cell_type": "code",
   "execution_count": 18,
   "metadata": {},
   "outputs": [
    {
     "name": "stderr",
     "output_type": "stream",
     "text": [
      "C:\\Users\\piotr\\AppData\\Local\\Temp\\ipykernel_12840\\832518232.py:2: DeprecationWarning: executable_path has been deprecated, please pass in a Service object\n",
      "  driver = webdriver.Chrome(executable_path=PATH)\n"
     ]
    },
    {
     "name": "stdout",
     "output_type": "stream",
     "text": [
      "Getting page 1. Waiting...\n",
      "Getting page 2. Waiting...\n",
      "Getting page 3. Waiting...\n",
      "Getting page 4. Waiting...\n",
      "Getting page 5. Waiting...\n",
      "Getting page 6. Waiting...\n",
      "Getting page 7. Waiting...\n",
      "Getting page 8. Waiting...\n",
      "Getting page 9. Waiting...\n",
      "Getting page 10. Waiting...\n"
     ]
    }
   ],
   "source": [
    "PATH = 'C:\\webdrivers\\chromedriver.exe'\n",
    "driver = webdriver.Chrome(executable_path=PATH)\n",
    "quotes_data = []\n",
    "for page in range(1,11):\n",
    "    url = f'http://quotes.toscrape.com/page/{page}'\n",
    "    driver.get(url)\n",
    "    driver.implicitly_wait(3)\n",
    "    quotes = driver.find_elements(By.XPATH,'(.//div[@class=\"col-md-8\"])[2]//div[@class=\"quote\"]')\n",
    "    author_links = driver.find_elements(By.XPATH,'(.//div[@class=\"col-md-8\"])[2]//div[@class=\"quote\"]//span[2]//a')\n",
    "    print(f'Getting page {page}. Waiting...')\n",
    "    for quote in quotes:\n",
    "        quote_text = quote.find_element(By.XPATH,'.//span[@class=\"text\"]').text.strip()\n",
    "        quote_author = quote.find_element(By.XPATH,'.//span[2]//small').text.strip()\n",
    "        quote_author_link = quote.find_element(By.XPATH,'.//span[2]//a').get_attribute('href')\n",
    "        quotes_data.append({'text':quote_text,\n",
    "                            'author':quote_author,\n",
    "                            'author_link':quote_author_link})\n",
    "    time.sleep(2)"
   ]
  },
  {
   "cell_type": "markdown",
   "metadata": {},
   "source": [
    "### Get all author links, and within each link get data about birth date, birth place and author description"
   ]
  },
  {
   "cell_type": "code",
   "execution_count": 20,
   "metadata": {},
   "outputs": [
    {
     "name": "stderr",
     "output_type": "stream",
     "text": [
      "C:\\Users\\piotr\\AppData\\Local\\Temp\\ipykernel_12840\\2102599181.py:2: DeprecationWarning: executable_path has been deprecated, please pass in a Service object\n",
      "  driver = webdriver.Chrome(executable_path=PATH)\n"
     ]
    }
   ],
   "source": [
    "PATH = 'C:\\webdrivers\\chromedriver.exe'\n",
    "driver = webdriver.Chrome(executable_path=PATH)\n",
    "author_data_links = []\n",
    "author_data = []\n",
    "for page in range(1,11):\n",
    "    url = f'http://quotes.toscrape.com/page/{page}'\n",
    "    driver.get(url)\n",
    "    author_links = driver.find_elements(By.XPATH,'(.//div[@class=\"col-md-8\"])[2]//div[@class=\"quote\"]//span[2]//a')\n",
    "    for i in author_links:\n",
    "        link = i.get_attribute('href')\n",
    "        author_data_links.append({'link':link})\n",
    "    time.sleep(2)\n",
    "        \n",
    "              \n",
    "for k in author_data_links:\n",
    "    driver.get(k['link'])\n",
    "    author_birth_date = driver.find_element(By.XPATH,'(//p//span)[1]').text.strip()\n",
    "    author_birth_place = driver.find_element(By.XPATH,'(//p//span)[2]').text.strip()\n",
    "    author_desc = driver.find_element(By.XPATH,'//div[@class=\"author-description\"]').text.strip()\n",
    "    author_data.append({'birth_date':author_birth_date,\n",
    "                        'birth_place':author_birth_date,\n",
    "                        'description':author_desc})\n",
    "    time.sleep(2)    "
   ]
  },
  {
   "cell_type": "markdown",
   "metadata": {},
   "source": [
    "### All author links"
   ]
  },
  {
   "cell_type": "code",
   "execution_count": 21,
   "metadata": {},
   "outputs": [
    {
     "data": {
      "text/plain": [
       "[{'link': 'http://quotes.toscrape.com/author/Albert-Einstein'},\n",
       " {'link': 'http://quotes.toscrape.com/author/J-K-Rowling'},\n",
       " {'link': 'http://quotes.toscrape.com/author/Albert-Einstein'},\n",
       " {'link': 'http://quotes.toscrape.com/author/Jane-Austen'},\n",
       " {'link': 'http://quotes.toscrape.com/author/Marilyn-Monroe'},\n",
       " {'link': 'http://quotes.toscrape.com/author/Albert-Einstein'},\n",
       " {'link': 'http://quotes.toscrape.com/author/Andre-Gide'},\n",
       " {'link': 'http://quotes.toscrape.com/author/Thomas-A-Edison'},\n",
       " {'link': 'http://quotes.toscrape.com/author/Eleanor-Roosevelt'},\n",
       " {'link': 'http://quotes.toscrape.com/author/Steve-Martin'},\n",
       " {'link': 'http://quotes.toscrape.com/author/Marilyn-Monroe'},\n",
       " {'link': 'http://quotes.toscrape.com/author/J-K-Rowling'},\n",
       " {'link': 'http://quotes.toscrape.com/author/Albert-Einstein'},\n",
       " {'link': 'http://quotes.toscrape.com/author/Bob-Marley'},\n",
       " {'link': 'http://quotes.toscrape.com/author/Dr-Seuss'},\n",
       " {'link': 'http://quotes.toscrape.com/author/Douglas-Adams'},\n",
       " {'link': 'http://quotes.toscrape.com/author/Elie-Wiesel'},\n",
       " {'link': 'http://quotes.toscrape.com/author/Friedrich-Nietzsche'},\n",
       " {'link': 'http://quotes.toscrape.com/author/Mark-Twain'},\n",
       " {'link': 'http://quotes.toscrape.com/author/Allen-Saunders'},\n",
       " {'link': 'http://quotes.toscrape.com/author/Pablo-Neruda'},\n",
       " {'link': 'http://quotes.toscrape.com/author/Ralph-Waldo-Emerson'},\n",
       " {'link': 'http://quotes.toscrape.com/author/Mother-Teresa'},\n",
       " {'link': 'http://quotes.toscrape.com/author/Garrison-Keillor'},\n",
       " {'link': 'http://quotes.toscrape.com/author/Jim-Henson'},\n",
       " {'link': 'http://quotes.toscrape.com/author/Dr-Seuss'},\n",
       " {'link': 'http://quotes.toscrape.com/author/Albert-Einstein'},\n",
       " {'link': 'http://quotes.toscrape.com/author/J-K-Rowling'},\n",
       " {'link': 'http://quotes.toscrape.com/author/Albert-Einstein'},\n",
       " {'link': 'http://quotes.toscrape.com/author/Bob-Marley'},\n",
       " {'link': 'http://quotes.toscrape.com/author/Dr-Seuss'},\n",
       " {'link': 'http://quotes.toscrape.com/author/J-K-Rowling'},\n",
       " {'link': 'http://quotes.toscrape.com/author/Bob-Marley'},\n",
       " {'link': 'http://quotes.toscrape.com/author/Mother-Teresa'},\n",
       " {'link': 'http://quotes.toscrape.com/author/J-K-Rowling'},\n",
       " {'link': 'http://quotes.toscrape.com/author/Charles-M-Schulz'},\n",
       " {'link': 'http://quotes.toscrape.com/author/William-Nicholson'},\n",
       " {'link': 'http://quotes.toscrape.com/author/Albert-Einstein'},\n",
       " {'link': 'http://quotes.toscrape.com/author/Jorge-Luis-Borges'},\n",
       " {'link': 'http://quotes.toscrape.com/author/George-Eliot'},\n",
       " {'link': 'http://quotes.toscrape.com/author/George-R-R-Martin'},\n",
       " {'link': 'http://quotes.toscrape.com/author/C-S-Lewis'},\n",
       " {'link': 'http://quotes.toscrape.com/author/Marilyn-Monroe'},\n",
       " {'link': 'http://quotes.toscrape.com/author/Marilyn-Monroe'},\n",
       " {'link': 'http://quotes.toscrape.com/author/Albert-Einstein'},\n",
       " {'link': 'http://quotes.toscrape.com/author/Marilyn-Monroe'},\n",
       " {'link': 'http://quotes.toscrape.com/author/Marilyn-Monroe'},\n",
       " {'link': 'http://quotes.toscrape.com/author/Martin-Luther-King-Jr'},\n",
       " {'link': 'http://quotes.toscrape.com/author/J-K-Rowling'},\n",
       " {'link': 'http://quotes.toscrape.com/author/James-Baldwin'},\n",
       " {'link': 'http://quotes.toscrape.com/author/Jane-Austen'},\n",
       " {'link': 'http://quotes.toscrape.com/author/Eleanor-Roosevelt'},\n",
       " {'link': 'http://quotes.toscrape.com/author/Marilyn-Monroe'},\n",
       " {'link': 'http://quotes.toscrape.com/author/Albert-Einstein'},\n",
       " {'link': 'http://quotes.toscrape.com/author/Haruki-Murakami'},\n",
       " {'link': 'http://quotes.toscrape.com/author/Alexandre-Dumas-fils'},\n",
       " {'link': 'http://quotes.toscrape.com/author/Stephenie-Meyer'},\n",
       " {'link': 'http://quotes.toscrape.com/author/Ernest-Hemingway'},\n",
       " {'link': 'http://quotes.toscrape.com/author/Helen-Keller'},\n",
       " {'link': 'http://quotes.toscrape.com/author/George-Bernard-Shaw'},\n",
       " {'link': 'http://quotes.toscrape.com/author/Charles-Bukowski'},\n",
       " {'link': 'http://quotes.toscrape.com/author/Suzanne-Collins'},\n",
       " {'link': 'http://quotes.toscrape.com/author/Suzanne-Collins'},\n",
       " {'link': 'http://quotes.toscrape.com/author/C-S-Lewis'},\n",
       " {'link': 'http://quotes.toscrape.com/author/J-R-R-Tolkien'},\n",
       " {'link': 'http://quotes.toscrape.com/author/J-K-Rowling'},\n",
       " {'link': 'http://quotes.toscrape.com/author/Ernest-Hemingway'},\n",
       " {'link': 'http://quotes.toscrape.com/author/Ralph-Waldo-Emerson'},\n",
       " {'link': 'http://quotes.toscrape.com/author/Mark-Twain'},\n",
       " {'link': 'http://quotes.toscrape.com/author/Dr-Seuss'},\n",
       " {'link': 'http://quotes.toscrape.com/author/Alfred-Tennyson'},\n",
       " {'link': 'http://quotes.toscrape.com/author/Charles-Bukowski'},\n",
       " {'link': 'http://quotes.toscrape.com/author/Terry-Pratchett'},\n",
       " {'link': 'http://quotes.toscrape.com/author/Dr-Seuss'},\n",
       " {'link': 'http://quotes.toscrape.com/author/J-D-Salinger'},\n",
       " {'link': 'http://quotes.toscrape.com/author/George-Carlin'},\n",
       " {'link': 'http://quotes.toscrape.com/author/John-Lennon'},\n",
       " {'link': 'http://quotes.toscrape.com/author/W-C-Fields'},\n",
       " {'link': 'http://quotes.toscrape.com/author/Ayn-Rand'},\n",
       " {'link': 'http://quotes.toscrape.com/author/Mark-Twain'},\n",
       " {'link': 'http://quotes.toscrape.com/author/Albert-Einstein'},\n",
       " {'link': 'http://quotes.toscrape.com/author/Jane-Austen'},\n",
       " {'link': 'http://quotes.toscrape.com/author/J-K-Rowling'},\n",
       " {'link': 'http://quotes.toscrape.com/author/Jane-Austen'},\n",
       " {'link': 'http://quotes.toscrape.com/author/Jane-Austen'},\n",
       " {'link': 'http://quotes.toscrape.com/author/C-S-Lewis'},\n",
       " {'link': 'http://quotes.toscrape.com/author/C-S-Lewis'},\n",
       " {'link': 'http://quotes.toscrape.com/author/Mark-Twain'},\n",
       " {'link': 'http://quotes.toscrape.com/author/Mark-Twain'},\n",
       " {'link': 'http://quotes.toscrape.com/author/C-S-Lewis'},\n",
       " {'link': 'http://quotes.toscrape.com/author/J-K-Rowling'},\n",
       " {'link': 'http://quotes.toscrape.com/author/Jimi-Hendrix'},\n",
       " {'link': 'http://quotes.toscrape.com/author/J-M-Barrie'},\n",
       " {'link': 'http://quotes.toscrape.com/author/E-E-Cummings'},\n",
       " {'link': 'http://quotes.toscrape.com/author/Khaled-Hosseini'},\n",
       " {'link': 'http://quotes.toscrape.com/author/Harper-Lee'},\n",
       " {'link': 'http://quotes.toscrape.com/author/Madeleine-LEngle'},\n",
       " {'link': 'http://quotes.toscrape.com/author/Mark-Twain'},\n",
       " {'link': 'http://quotes.toscrape.com/author/Dr-Seuss'},\n",
       " {'link': 'http://quotes.toscrape.com/author/George-R-R-Martin'}]"
      ]
     },
     "execution_count": 21,
     "metadata": {},
     "output_type": "execute_result"
    }
   ],
   "source": [
    "author_data_links"
   ]
  },
  {
   "cell_type": "markdown",
   "metadata": {},
   "source": [
    "### Creating data frames"
   ]
  },
  {
   "cell_type": "code",
   "execution_count": 26,
   "metadata": {},
   "outputs": [],
   "source": [
    "df_author = pd.DataFrame(author_data)"
   ]
  },
  {
   "cell_type": "code",
   "execution_count": 27,
   "metadata": {},
   "outputs": [],
   "source": [
    "df_quotes = pd.DataFrame(quotes_data)"
   ]
  },
  {
   "cell_type": "code",
   "execution_count": 30,
   "metadata": {},
   "outputs": [
    {
     "data": {
      "text/html": [
       "<div>\n",
       "<style scoped>\n",
       "    .dataframe tbody tr th:only-of-type {\n",
       "        vertical-align: middle;\n",
       "    }\n",
       "\n",
       "    .dataframe tbody tr th {\n",
       "        vertical-align: top;\n",
       "    }\n",
       "\n",
       "    .dataframe thead th {\n",
       "        text-align: right;\n",
       "    }\n",
       "</style>\n",
       "<table border=\"1\" class=\"dataframe\">\n",
       "  <thead>\n",
       "    <tr style=\"text-align: right;\">\n",
       "      <th></th>\n",
       "      <th>birth_date</th>\n",
       "      <th>birth_place</th>\n",
       "      <th>description</th>\n",
       "    </tr>\n",
       "  </thead>\n",
       "  <tbody>\n",
       "    <tr>\n",
       "      <th>0</th>\n",
       "      <td>March 14, 1879</td>\n",
       "      <td>March 14, 1879</td>\n",
       "      <td>In 1879, Albert Einstein was born in Ulm, Germ...</td>\n",
       "    </tr>\n",
       "    <tr>\n",
       "      <th>1</th>\n",
       "      <td>July 31, 1965</td>\n",
       "      <td>July 31, 1965</td>\n",
       "      <td>See also: Robert GalbraithAlthough she writes ...</td>\n",
       "    </tr>\n",
       "    <tr>\n",
       "      <th>2</th>\n",
       "      <td>March 14, 1879</td>\n",
       "      <td>March 14, 1879</td>\n",
       "      <td>In 1879, Albert Einstein was born in Ulm, Germ...</td>\n",
       "    </tr>\n",
       "    <tr>\n",
       "      <th>3</th>\n",
       "      <td>December 16, 1775</td>\n",
       "      <td>December 16, 1775</td>\n",
       "      <td>Jane Austen was an English novelist whose work...</td>\n",
       "    </tr>\n",
       "    <tr>\n",
       "      <th>4</th>\n",
       "      <td>June 01, 1926</td>\n",
       "      <td>June 01, 1926</td>\n",
       "      <td>Marilyn Monroe (born Norma Jeane Mortenson; Ju...</td>\n",
       "    </tr>\n",
       "  </tbody>\n",
       "</table>\n",
       "</div>"
      ],
      "text/plain": [
       "          birth_date        birth_place  \\\n",
       "0     March 14, 1879     March 14, 1879   \n",
       "1      July 31, 1965      July 31, 1965   \n",
       "2     March 14, 1879     March 14, 1879   \n",
       "3  December 16, 1775  December 16, 1775   \n",
       "4      June 01, 1926      June 01, 1926   \n",
       "\n",
       "                                         description  \n",
       "0  In 1879, Albert Einstein was born in Ulm, Germ...  \n",
       "1  See also: Robert GalbraithAlthough she writes ...  \n",
       "2  In 1879, Albert Einstein was born in Ulm, Germ...  \n",
       "3  Jane Austen was an English novelist whose work...  \n",
       "4  Marilyn Monroe (born Norma Jeane Mortenson; Ju...  "
      ]
     },
     "execution_count": 30,
     "metadata": {},
     "output_type": "execute_result"
    }
   ],
   "source": [
    "df_author.head()"
   ]
  },
  {
   "cell_type": "code",
   "execution_count": 31,
   "metadata": {},
   "outputs": [
    {
     "data": {
      "text/html": [
       "<div>\n",
       "<style scoped>\n",
       "    .dataframe tbody tr th:only-of-type {\n",
       "        vertical-align: middle;\n",
       "    }\n",
       "\n",
       "    .dataframe tbody tr th {\n",
       "        vertical-align: top;\n",
       "    }\n",
       "\n",
       "    .dataframe thead th {\n",
       "        text-align: right;\n",
       "    }\n",
       "</style>\n",
       "<table border=\"1\" class=\"dataframe\">\n",
       "  <thead>\n",
       "    <tr style=\"text-align: right;\">\n",
       "      <th></th>\n",
       "      <th>text</th>\n",
       "      <th>author</th>\n",
       "      <th>author_link</th>\n",
       "    </tr>\n",
       "  </thead>\n",
       "  <tbody>\n",
       "    <tr>\n",
       "      <th>0</th>\n",
       "      <td>“The world as we have created it is a process ...</td>\n",
       "      <td>Albert Einstein</td>\n",
       "      <td>http://quotes.toscrape.com/author/Albert-Einstein</td>\n",
       "    </tr>\n",
       "    <tr>\n",
       "      <th>1</th>\n",
       "      <td>“It is our choices, Harry, that show what we t...</td>\n",
       "      <td>J.K. Rowling</td>\n",
       "      <td>http://quotes.toscrape.com/author/J-K-Rowling</td>\n",
       "    </tr>\n",
       "    <tr>\n",
       "      <th>2</th>\n",
       "      <td>“There are only two ways to live your life. On...</td>\n",
       "      <td>Albert Einstein</td>\n",
       "      <td>http://quotes.toscrape.com/author/Albert-Einstein</td>\n",
       "    </tr>\n",
       "    <tr>\n",
       "      <th>3</th>\n",
       "      <td>“The person, be it gentleman or lady, who has ...</td>\n",
       "      <td>Jane Austen</td>\n",
       "      <td>http://quotes.toscrape.com/author/Jane-Austen</td>\n",
       "    </tr>\n",
       "    <tr>\n",
       "      <th>4</th>\n",
       "      <td>“Imperfection is beauty, madness is genius and...</td>\n",
       "      <td>Marilyn Monroe</td>\n",
       "      <td>http://quotes.toscrape.com/author/Marilyn-Monroe</td>\n",
       "    </tr>\n",
       "  </tbody>\n",
       "</table>\n",
       "</div>"
      ],
      "text/plain": [
       "                                                text           author  \\\n",
       "0  “The world as we have created it is a process ...  Albert Einstein   \n",
       "1  “It is our choices, Harry, that show what we t...     J.K. Rowling   \n",
       "2  “There are only two ways to live your life. On...  Albert Einstein   \n",
       "3  “The person, be it gentleman or lady, who has ...      Jane Austen   \n",
       "4  “Imperfection is beauty, madness is genius and...   Marilyn Monroe   \n",
       "\n",
       "                                         author_link  \n",
       "0  http://quotes.toscrape.com/author/Albert-Einstein  \n",
       "1      http://quotes.toscrape.com/author/J-K-Rowling  \n",
       "2  http://quotes.toscrape.com/author/Albert-Einstein  \n",
       "3      http://quotes.toscrape.com/author/Jane-Austen  \n",
       "4   http://quotes.toscrape.com/author/Marilyn-Monroe  "
      ]
     },
     "execution_count": 31,
     "metadata": {},
     "output_type": "execute_result"
    }
   ],
   "source": [
    "df_quotes.head()"
   ]
  },
  {
   "cell_type": "code",
   "execution_count": 34,
   "metadata": {},
   "outputs": [
    {
     "data": {
      "text/html": [
       "<div>\n",
       "<style scoped>\n",
       "    .dataframe tbody tr th:only-of-type {\n",
       "        vertical-align: middle;\n",
       "    }\n",
       "\n",
       "    .dataframe tbody tr th {\n",
       "        vertical-align: top;\n",
       "    }\n",
       "\n",
       "    .dataframe thead th {\n",
       "        text-align: right;\n",
       "    }\n",
       "</style>\n",
       "<table border=\"1\" class=\"dataframe\">\n",
       "  <thead>\n",
       "    <tr style=\"text-align: right;\">\n",
       "      <th></th>\n",
       "      <th>birth_date</th>\n",
       "      <th>birth_place</th>\n",
       "      <th>description</th>\n",
       "    </tr>\n",
       "  </thead>\n",
       "  <tbody>\n",
       "    <tr>\n",
       "      <th>0</th>\n",
       "      <td>March 14, 1879</td>\n",
       "      <td>March 14, 1879</td>\n",
       "      <td>In 1879, Albert Einstein was born in Ulm, Germ...</td>\n",
       "    </tr>\n",
       "    <tr>\n",
       "      <th>1</th>\n",
       "      <td>July 31, 1965</td>\n",
       "      <td>July 31, 1965</td>\n",
       "      <td>See also: Robert GalbraithAlthough she writes ...</td>\n",
       "    </tr>\n",
       "    <tr>\n",
       "      <th>2</th>\n",
       "      <td>March 14, 1879</td>\n",
       "      <td>March 14, 1879</td>\n",
       "      <td>In 1879, Albert Einstein was born in Ulm, Germ...</td>\n",
       "    </tr>\n",
       "    <tr>\n",
       "      <th>3</th>\n",
       "      <td>December 16, 1775</td>\n",
       "      <td>December 16, 1775</td>\n",
       "      <td>Jane Austen was an English novelist whose work...</td>\n",
       "    </tr>\n",
       "    <tr>\n",
       "      <th>4</th>\n",
       "      <td>June 01, 1926</td>\n",
       "      <td>June 01, 1926</td>\n",
       "      <td>Marilyn Monroe (born Norma Jeane Mortenson; Ju...</td>\n",
       "    </tr>\n",
       "    <tr>\n",
       "      <th>...</th>\n",
       "      <td>...</td>\n",
       "      <td>...</td>\n",
       "      <td>...</td>\n",
       "    </tr>\n",
       "    <tr>\n",
       "      <th>95</th>\n",
       "      <td>April 28, 1926</td>\n",
       "      <td>April 28, 1926</td>\n",
       "      <td>Harper Lee, known as Nelle, was born in the Al...</td>\n",
       "    </tr>\n",
       "    <tr>\n",
       "      <th>96</th>\n",
       "      <td>November 29, 1918</td>\n",
       "      <td>November 29, 1918</td>\n",
       "      <td>Madeleine L'Engle was an American writer best ...</td>\n",
       "    </tr>\n",
       "    <tr>\n",
       "      <th>97</th>\n",
       "      <td>November 30, 1835</td>\n",
       "      <td>November 30, 1835</td>\n",
       "      <td>Samuel Langhorne Clemens, better known by his ...</td>\n",
       "    </tr>\n",
       "    <tr>\n",
       "      <th>98</th>\n",
       "      <td>March 02, 1904</td>\n",
       "      <td>March 02, 1904</td>\n",
       "      <td>Theodor Seuss Geisel was born 2 March 1904 in ...</td>\n",
       "    </tr>\n",
       "    <tr>\n",
       "      <th>99</th>\n",
       "      <td>September 20, 1948</td>\n",
       "      <td>September 20, 1948</td>\n",
       "      <td>George R. R. Martin was born September 20, 194...</td>\n",
       "    </tr>\n",
       "  </tbody>\n",
       "</table>\n",
       "<p>100 rows × 3 columns</p>\n",
       "</div>"
      ],
      "text/plain": [
       "            birth_date         birth_place  \\\n",
       "0       March 14, 1879      March 14, 1879   \n",
       "1        July 31, 1965       July 31, 1965   \n",
       "2       March 14, 1879      March 14, 1879   \n",
       "3    December 16, 1775   December 16, 1775   \n",
       "4        June 01, 1926       June 01, 1926   \n",
       "..                 ...                 ...   \n",
       "95      April 28, 1926      April 28, 1926   \n",
       "96   November 29, 1918   November 29, 1918   \n",
       "97   November 30, 1835   November 30, 1835   \n",
       "98      March 02, 1904      March 02, 1904   \n",
       "99  September 20, 1948  September 20, 1948   \n",
       "\n",
       "                                          description  \n",
       "0   In 1879, Albert Einstein was born in Ulm, Germ...  \n",
       "1   See also: Robert GalbraithAlthough she writes ...  \n",
       "2   In 1879, Albert Einstein was born in Ulm, Germ...  \n",
       "3   Jane Austen was an English novelist whose work...  \n",
       "4   Marilyn Monroe (born Norma Jeane Mortenson; Ju...  \n",
       "..                                                ...  \n",
       "95  Harper Lee, known as Nelle, was born in the Al...  \n",
       "96  Madeleine L'Engle was an American writer best ...  \n",
       "97  Samuel Langhorne Clemens, better known by his ...  \n",
       "98  Theodor Seuss Geisel was born 2 March 1904 in ...  \n",
       "99  George R. R. Martin was born September 20, 194...  \n",
       "\n",
       "[100 rows x 3 columns]"
      ]
     },
     "execution_count": 34,
     "metadata": {},
     "output_type": "execute_result"
    }
   ],
   "source": [
    "df_author"
   ]
  },
  {
   "cell_type": "markdown",
   "metadata": {},
   "source": [
    "### Concatenating data frames"
   ]
  },
  {
   "cell_type": "code",
   "execution_count": 37,
   "metadata": {},
   "outputs": [],
   "source": [
    "df_clean = pd.concat([df_quotes,df_author],axis=1)"
   ]
  },
  {
   "cell_type": "code",
   "execution_count": 39,
   "metadata": {},
   "outputs": [
    {
     "data": {
      "text/plain": [
       "(100, 6)"
      ]
     },
     "execution_count": 39,
     "metadata": {},
     "output_type": "execute_result"
    }
   ],
   "source": [
    "df_clean.shape"
   ]
  },
  {
   "cell_type": "code",
   "execution_count": 46,
   "metadata": {},
   "outputs": [],
   "source": [
    "df_clean = df_clean.loc[:,['author','text','birth_date','birth_place','author_link','description']]"
   ]
  },
  {
   "cell_type": "code",
   "execution_count": 49,
   "metadata": {},
   "outputs": [],
   "source": [
    "df_clean.rename(columns = {'text':'quote',\n",
    "                           'birth_date':'author_birth_date',\n",
    "                           'birth_place':'author_birth_place',\n",
    "                           'description':'author_description'},\n",
    "                           inplace=True)"
   ]
  },
  {
   "cell_type": "markdown",
   "metadata": {},
   "source": [
    "### Final data frame"
   ]
  },
  {
   "cell_type": "code",
   "execution_count": 50,
   "metadata": {},
   "outputs": [
    {
     "data": {
      "text/html": [
       "<div>\n",
       "<style scoped>\n",
       "    .dataframe tbody tr th:only-of-type {\n",
       "        vertical-align: middle;\n",
       "    }\n",
       "\n",
       "    .dataframe tbody tr th {\n",
       "        vertical-align: top;\n",
       "    }\n",
       "\n",
       "    .dataframe thead th {\n",
       "        text-align: right;\n",
       "    }\n",
       "</style>\n",
       "<table border=\"1\" class=\"dataframe\">\n",
       "  <thead>\n",
       "    <tr style=\"text-align: right;\">\n",
       "      <th></th>\n",
       "      <th>author</th>\n",
       "      <th>quote</th>\n",
       "      <th>author_birth_date</th>\n",
       "      <th>author_birth_place</th>\n",
       "      <th>author_link</th>\n",
       "      <th>author_description</th>\n",
       "    </tr>\n",
       "  </thead>\n",
       "  <tbody>\n",
       "    <tr>\n",
       "      <th>0</th>\n",
       "      <td>Albert Einstein</td>\n",
       "      <td>“The world as we have created it is a process ...</td>\n",
       "      <td>March 14, 1879</td>\n",
       "      <td>March 14, 1879</td>\n",
       "      <td>http://quotes.toscrape.com/author/Albert-Einstein</td>\n",
       "      <td>In 1879, Albert Einstein was born in Ulm, Germ...</td>\n",
       "    </tr>\n",
       "    <tr>\n",
       "      <th>1</th>\n",
       "      <td>J.K. Rowling</td>\n",
       "      <td>“It is our choices, Harry, that show what we t...</td>\n",
       "      <td>July 31, 1965</td>\n",
       "      <td>July 31, 1965</td>\n",
       "      <td>http://quotes.toscrape.com/author/J-K-Rowling</td>\n",
       "      <td>See also: Robert GalbraithAlthough she writes ...</td>\n",
       "    </tr>\n",
       "    <tr>\n",
       "      <th>2</th>\n",
       "      <td>Albert Einstein</td>\n",
       "      <td>“There are only two ways to live your life. On...</td>\n",
       "      <td>March 14, 1879</td>\n",
       "      <td>March 14, 1879</td>\n",
       "      <td>http://quotes.toscrape.com/author/Albert-Einstein</td>\n",
       "      <td>In 1879, Albert Einstein was born in Ulm, Germ...</td>\n",
       "    </tr>\n",
       "    <tr>\n",
       "      <th>3</th>\n",
       "      <td>Jane Austen</td>\n",
       "      <td>“The person, be it gentleman or lady, who has ...</td>\n",
       "      <td>December 16, 1775</td>\n",
       "      <td>December 16, 1775</td>\n",
       "      <td>http://quotes.toscrape.com/author/Jane-Austen</td>\n",
       "      <td>Jane Austen was an English novelist whose work...</td>\n",
       "    </tr>\n",
       "    <tr>\n",
       "      <th>4</th>\n",
       "      <td>Marilyn Monroe</td>\n",
       "      <td>“Imperfection is beauty, madness is genius and...</td>\n",
       "      <td>June 01, 1926</td>\n",
       "      <td>June 01, 1926</td>\n",
       "      <td>http://quotes.toscrape.com/author/Marilyn-Monroe</td>\n",
       "      <td>Marilyn Monroe (born Norma Jeane Mortenson; Ju...</td>\n",
       "    </tr>\n",
       "    <tr>\n",
       "      <th>...</th>\n",
       "      <td>...</td>\n",
       "      <td>...</td>\n",
       "      <td>...</td>\n",
       "      <td>...</td>\n",
       "      <td>...</td>\n",
       "      <td>...</td>\n",
       "    </tr>\n",
       "    <tr>\n",
       "      <th>95</th>\n",
       "      <td>Harper Lee</td>\n",
       "      <td>“You never really understand a person until yo...</td>\n",
       "      <td>April 28, 1926</td>\n",
       "      <td>April 28, 1926</td>\n",
       "      <td>http://quotes.toscrape.com/author/Harper-Lee</td>\n",
       "      <td>Harper Lee, known as Nelle, was born in the Al...</td>\n",
       "    </tr>\n",
       "    <tr>\n",
       "      <th>96</th>\n",
       "      <td>Madeleine L'Engle</td>\n",
       "      <td>“You have to write the book that wants to be w...</td>\n",
       "      <td>November 29, 1918</td>\n",
       "      <td>November 29, 1918</td>\n",
       "      <td>http://quotes.toscrape.com/author/Madeleine-LE...</td>\n",
       "      <td>Madeleine L'Engle was an American writer best ...</td>\n",
       "    </tr>\n",
       "    <tr>\n",
       "      <th>97</th>\n",
       "      <td>Mark Twain</td>\n",
       "      <td>“Never tell the truth to people who are not wo...</td>\n",
       "      <td>November 30, 1835</td>\n",
       "      <td>November 30, 1835</td>\n",
       "      <td>http://quotes.toscrape.com/author/Mark-Twain</td>\n",
       "      <td>Samuel Langhorne Clemens, better known by his ...</td>\n",
       "    </tr>\n",
       "    <tr>\n",
       "      <th>98</th>\n",
       "      <td>Dr. Seuss</td>\n",
       "      <td>“A person's a person, no matter how small.”</td>\n",
       "      <td>March 02, 1904</td>\n",
       "      <td>March 02, 1904</td>\n",
       "      <td>http://quotes.toscrape.com/author/Dr-Seuss</td>\n",
       "      <td>Theodor Seuss Geisel was born 2 March 1904 in ...</td>\n",
       "    </tr>\n",
       "    <tr>\n",
       "      <th>99</th>\n",
       "      <td>George R.R. Martin</td>\n",
       "      <td>“... a mind needs books as a sword needs a whe...</td>\n",
       "      <td>September 20, 1948</td>\n",
       "      <td>September 20, 1948</td>\n",
       "      <td>http://quotes.toscrape.com/author/George-R-R-M...</td>\n",
       "      <td>George R. R. Martin was born September 20, 194...</td>\n",
       "    </tr>\n",
       "  </tbody>\n",
       "</table>\n",
       "<p>100 rows × 6 columns</p>\n",
       "</div>"
      ],
      "text/plain": [
       "                author                                              quote  \\\n",
       "0      Albert Einstein  “The world as we have created it is a process ...   \n",
       "1         J.K. Rowling  “It is our choices, Harry, that show what we t...   \n",
       "2      Albert Einstein  “There are only two ways to live your life. On...   \n",
       "3          Jane Austen  “The person, be it gentleman or lady, who has ...   \n",
       "4       Marilyn Monroe  “Imperfection is beauty, madness is genius and...   \n",
       "..                 ...                                                ...   \n",
       "95          Harper Lee  “You never really understand a person until yo...   \n",
       "96   Madeleine L'Engle  “You have to write the book that wants to be w...   \n",
       "97          Mark Twain  “Never tell the truth to people who are not wo...   \n",
       "98           Dr. Seuss        “A person's a person, no matter how small.”   \n",
       "99  George R.R. Martin  “... a mind needs books as a sword needs a whe...   \n",
       "\n",
       "     author_birth_date  author_birth_place  \\\n",
       "0       March 14, 1879      March 14, 1879   \n",
       "1        July 31, 1965       July 31, 1965   \n",
       "2       March 14, 1879      March 14, 1879   \n",
       "3    December 16, 1775   December 16, 1775   \n",
       "4        June 01, 1926       June 01, 1926   \n",
       "..                 ...                 ...   \n",
       "95      April 28, 1926      April 28, 1926   \n",
       "96   November 29, 1918   November 29, 1918   \n",
       "97   November 30, 1835   November 30, 1835   \n",
       "98      March 02, 1904      March 02, 1904   \n",
       "99  September 20, 1948  September 20, 1948   \n",
       "\n",
       "                                          author_link  \\\n",
       "0   http://quotes.toscrape.com/author/Albert-Einstein   \n",
       "1       http://quotes.toscrape.com/author/J-K-Rowling   \n",
       "2   http://quotes.toscrape.com/author/Albert-Einstein   \n",
       "3       http://quotes.toscrape.com/author/Jane-Austen   \n",
       "4    http://quotes.toscrape.com/author/Marilyn-Monroe   \n",
       "..                                                ...   \n",
       "95       http://quotes.toscrape.com/author/Harper-Lee   \n",
       "96  http://quotes.toscrape.com/author/Madeleine-LE...   \n",
       "97       http://quotes.toscrape.com/author/Mark-Twain   \n",
       "98         http://quotes.toscrape.com/author/Dr-Seuss   \n",
       "99  http://quotes.toscrape.com/author/George-R-R-M...   \n",
       "\n",
       "                                   author_description  \n",
       "0   In 1879, Albert Einstein was born in Ulm, Germ...  \n",
       "1   See also: Robert GalbraithAlthough she writes ...  \n",
       "2   In 1879, Albert Einstein was born in Ulm, Germ...  \n",
       "3   Jane Austen was an English novelist whose work...  \n",
       "4   Marilyn Monroe (born Norma Jeane Mortenson; Ju...  \n",
       "..                                                ...  \n",
       "95  Harper Lee, known as Nelle, was born in the Al...  \n",
       "96  Madeleine L'Engle was an American writer best ...  \n",
       "97  Samuel Langhorne Clemens, better known by his ...  \n",
       "98  Theodor Seuss Geisel was born 2 March 1904 in ...  \n",
       "99  George R. R. Martin was born September 20, 194...  \n",
       "\n",
       "[100 rows x 6 columns]"
      ]
     },
     "execution_count": 50,
     "metadata": {},
     "output_type": "execute_result"
    }
   ],
   "source": [
    "df_clean"
   ]
  }
 ],
 "metadata": {
  "kernelspec": {
   "display_name": "Python 3",
   "language": "python",
   "name": "python3"
  },
  "language_info": {
   "codemirror_mode": {
    "name": "ipython",
    "version": 3
   },
   "file_extension": ".py",
   "mimetype": "text/x-python",
   "name": "python",
   "nbconvert_exporter": "python",
   "pygments_lexer": "ipython3",
   "version": "3.11.0"
  },
  "orig_nbformat": 4
 },
 "nbformat": 4,
 "nbformat_minor": 2
}
