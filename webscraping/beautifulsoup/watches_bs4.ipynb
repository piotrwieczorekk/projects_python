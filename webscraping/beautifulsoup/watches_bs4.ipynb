{
 "cells": [
  {
   "attachments": {},
   "cell_type": "markdown",
   "metadata": {},
   "source": [
    "<b><h3>Scraping data about watches with BeautifulSoup</b></h3>"
   ]
  },
  {
   "attachments": {},
   "cell_type": "markdown",
   "metadata": {},
   "source": [
    "<h3>Importing libraries</h3>"
   ]
  },
  {
   "cell_type": "code",
   "execution_count": 1,
   "metadata": {},
   "outputs": [],
   "source": [
    "import time\n",
    "import requests\n",
    "import pandas as pd\n",
    "import numpy as np\n",
    "from bs4 import BeautifulSoup\n",
    "from IPython.display import Image"
   ]
  },
  {
   "attachments": {},
   "cell_type": "markdown",
   "metadata": {},
   "source": [
    "<h3>Initializing connection with the website</h3>"
   ]
  },
  {
   "cell_type": "code",
   "execution_count": 2,
   "metadata": {},
   "outputs": [
    {
     "data": {
      "text/plain": [
       "200"
      ]
     },
     "execution_count": 2,
     "metadata": {},
     "output_type": "execute_result"
    }
   ],
   "source": [
    "url = 'https://zegarownia.pl/zegarki-meskie?gclid=Cj0KCQjwz6ShBhCMARIsAH9A0qVz9m-gtxikJUcJ5kSEf7vmqbuyHQsyRptXkNUZhSwMc2OuuU7gB1gaAjcjEALw_wcB'\n",
    "response = requests.get(url)\n",
    "response.status_code"
   ]
  },
  {
   "attachments": {},
   "cell_type": "markdown",
   "metadata": {},
   "source": [
    "<h3>Creating soup and watch objects</h3>\n",
    "1. soup object parses the data</br>\n",
    "2. watch object finds all div tags with a specific class so as to find all watches on the page and later use that to extract detailed data</br>"
   ]
  },
  {
   "cell_type": "code",
   "execution_count": 3,
   "metadata": {},
   "outputs": [],
   "source": [
    "soup = BeautifulSoup(response.content,'html.parser')\n",
    "watch = soup.find_all('div',class_='product details product-item-details')"
   ]
  },
  {
   "attachments": {},
   "cell_type": "markdown",
   "metadata": {},
   "source": [
    "<h3>The source code:</h3>"
   ]
  },
  {
   "cell_type": "code",
   "execution_count": 4,
   "metadata": {},
   "outputs": [
    {
     "data": {
      "text/html": [
       "<img src=\"watch2.png\" width=\"1500\" height=\"500\"/>"
      ],
      "text/plain": [
       "<IPython.core.display.Image object>"
      ]
     },
     "execution_count": 4,
     "metadata": {},
     "output_type": "execute_result"
    }
   ],
   "source": [
    "Image(url=\"watch2.png\",width=1500, height=500)"
   ]
  },
  {
   "cell_type": "code",
   "execution_count": 5,
   "metadata": {},
   "outputs": [
    {
     "name": "stdout",
     "output_type": "stream",
     "text": [
      "Getting page 1. Waiting...\n",
      "Getting page 2. Waiting...\n",
      "Getting page 3. Waiting...\n",
      "Getting page 4. Waiting...\n",
      "Getting page 5. Waiting...\n",
      "Getting page 6. Waiting...\n",
      "Getting page 7. Waiting...\n",
      "Getting page 8. Waiting...\n",
      "Getting page 9. Waiting...\n"
     ]
    }
   ],
   "source": [
    "u = []\n",
    "for page in range(1,10):\n",
    "    # url is an f-string because we want to loop through pages from 1 to 9, so the url has to change\n",
    "    url = f'https://zegarownia.pl/zegarki-meskie?p={page}'\n",
    "    response = requests.get(url)\n",
    "    soup = BeautifulSoup(response.content,'html.parser')\n",
    "    watch = soup.find_all('div',class_='product details product-item-details')\n",
    "    for item in watch:\n",
    "        manufacturer = item.find('span',class_='product-item-link__manufacturer').text.strip()\n",
    "        product_item_name = item.find('span',class_='product-item-link__name').text.strip()\n",
    "        product_code = item.find('span',class_='product-item-link__sku').text.strip()\n",
    "        shipment = item.find('div',class_='product-item__free-delivery-mobile').text.strip()\n",
    "        # not all items are on sale and one solution to that is to try to find final_price and old_price at the same time,\n",
    "        # and if that can't be done (because there is no sale for a particular item)\n",
    "        # then we obtain final_price from another class (products with no sale store price in a different class)\n",
    "        try:\n",
    "            final_price = item.find('span',class_='special-price').text.strip()\n",
    "            old_price = item.find('span',class_='old-price').text.strip()\n",
    "        except:\n",
    "            final_price = item.find('span',class_='price-container price-final_price tax weee').text.strip()\n",
    "            old_price = np.NaN\n",
    "        # finally the data can be appended and used to make a dataframe out of it\n",
    "        u.append({'manufacturer':manufacturer,\n",
    "                  'product_item_name':product_item_name,\n",
    "                  'product_code':product_code,\n",
    "                  'final_price':final_price,\n",
    "                  'old_price':old_price,\n",
    "                  'shipment':shipment})\n",
    "    time.sleep(np.random.randint(3,10))\n",
    "    print(f'Getting page {page}. Waiting...')"
   ]
  },
  {
   "attachments": {},
   "cell_type": "markdown",
   "metadata": {},
   "source": [
    "<h3>Data cleaning</h3>"
   ]
  },
  {
   "cell_type": "code",
   "execution_count": 6,
   "metadata": {},
   "outputs": [],
   "source": [
    "watch_df = pd.DataFrame(u)"
   ]
  },
  {
   "cell_type": "code",
   "execution_count": 7,
   "metadata": {},
   "outputs": [
    {
     "data": {
      "text/html": [
       "<div>\n",
       "<style scoped>\n",
       "    .dataframe tbody tr th:only-of-type {\n",
       "        vertical-align: middle;\n",
       "    }\n",
       "\n",
       "    .dataframe tbody tr th {\n",
       "        vertical-align: top;\n",
       "    }\n",
       "\n",
       "    .dataframe thead th {\n",
       "        text-align: right;\n",
       "    }\n",
       "</style>\n",
       "<table border=\"1\" class=\"dataframe\">\n",
       "  <thead>\n",
       "    <tr style=\"text-align: right;\">\n",
       "      <th></th>\n",
       "      <th>manufacturer</th>\n",
       "      <th>product_item_name</th>\n",
       "      <th>product_code</th>\n",
       "      <th>final_price</th>\n",
       "      <th>old_price</th>\n",
       "      <th>shipment</th>\n",
       "    </tr>\n",
       "  </thead>\n",
       "  <tbody>\n",
       "    <tr>\n",
       "      <th>0</th>\n",
       "      <td>Suunto</td>\n",
       "      <td>9 Peak All Black</td>\n",
       "      <td>SS050522000</td>\n",
       "      <td>1 159,00 zł</td>\n",
       "      <td>1 869,00 zł</td>\n",
       "      <td>Darmowa dostawa 24H</td>\n",
       "    </tr>\n",
       "    <tr>\n",
       "      <th>1</th>\n",
       "      <td>Timex</td>\n",
       "      <td>Expedition Military Allied</td>\n",
       "      <td>T2N721</td>\n",
       "      <td>721,00 zł</td>\n",
       "      <td>NaN</td>\n",
       "      <td>Darmowa dostawa 24H</td>\n",
       "    </tr>\n",
       "    <tr>\n",
       "      <th>2</th>\n",
       "      <td>Timex</td>\n",
       "      <td>Chrono FullBlack</td>\n",
       "      <td>TW2T21200SS</td>\n",
       "      <td>289,00 zł</td>\n",
       "      <td>549,00 zł</td>\n",
       "      <td>Darmowa dostawa 24H</td>\n",
       "    </tr>\n",
       "    <tr>\n",
       "      <th>3</th>\n",
       "      <td>Suunto</td>\n",
       "      <td>9 Peak Granite Blue Titanium</td>\n",
       "      <td>SS050520000</td>\n",
       "      <td>1 399,00 zł</td>\n",
       "      <td>2 339,00 zł</td>\n",
       "      <td>Darmowa dostawa 24H</td>\n",
       "    </tr>\n",
       "    <tr>\n",
       "      <th>4</th>\n",
       "      <td>Festina</td>\n",
       "      <td>Timeless Chronograph</td>\n",
       "      <td>F16760/4</td>\n",
       "      <td>587,00 zł</td>\n",
       "      <td>699,00 zł</td>\n",
       "      <td>Darmowa dostawa 24H</td>\n",
       "    </tr>\n",
       "  </tbody>\n",
       "</table>\n",
       "</div>"
      ],
      "text/plain": [
       "  manufacturer             product_item_name product_code  final_price  \\\n",
       "0       Suunto              9 Peak All Black  SS050522000  1 159,00 zł   \n",
       "1        Timex    Expedition Military Allied       T2N721    721,00 zł   \n",
       "2        Timex              Chrono FullBlack  TW2T21200SS    289,00 zł   \n",
       "3       Suunto  9 Peak Granite Blue Titanium  SS050520000  1 399,00 zł   \n",
       "4      Festina          Timeless Chronograph     F16760/4    587,00 zł   \n",
       "\n",
       "     old_price             shipment  \n",
       "0  1 869,00 zł  Darmowa dostawa 24H  \n",
       "1          NaN  Darmowa dostawa 24H  \n",
       "2    549,00 zł  Darmowa dostawa 24H  \n",
       "3  2 339,00 zł  Darmowa dostawa 24H  \n",
       "4    699,00 zł  Darmowa dostawa 24H  "
      ]
     },
     "execution_count": 7,
     "metadata": {},
     "output_type": "execute_result"
    }
   ],
   "source": [
    "watch_df.head(5)"
   ]
  },
  {
   "cell_type": "code",
   "execution_count": 8,
   "metadata": {},
   "outputs": [
    {
     "data": {
      "text/plain": [
       "array(['Darmowa dostawa 24H'], dtype=object)"
      ]
     },
     "execution_count": 8,
     "metadata": {},
     "output_type": "execute_result"
    }
   ],
   "source": [
    "watch_df['shipment'].unique()"
   ]
  },
  {
   "cell_type": "code",
   "execution_count": 9,
   "metadata": {},
   "outputs": [],
   "source": [
    "watch_df['Free_24h_shipment'] = np.where(watch_df['shipment']=='Darmowa dostawa 24H',1,0)"
   ]
  },
  {
   "cell_type": "code",
   "execution_count": 10,
   "metadata": {},
   "outputs": [],
   "source": [
    "watch_df = watch_df.iloc[:,[0,1,2,3,4,6]]"
   ]
  },
  {
   "cell_type": "code",
   "execution_count": 11,
   "metadata": {},
   "outputs": [
    {
     "data": {
      "text/html": [
       "<div>\n",
       "<style scoped>\n",
       "    .dataframe tbody tr th:only-of-type {\n",
       "        vertical-align: middle;\n",
       "    }\n",
       "\n",
       "    .dataframe tbody tr th {\n",
       "        vertical-align: top;\n",
       "    }\n",
       "\n",
       "    .dataframe thead th {\n",
       "        text-align: right;\n",
       "    }\n",
       "</style>\n",
       "<table border=\"1\" class=\"dataframe\">\n",
       "  <thead>\n",
       "    <tr style=\"text-align: right;\">\n",
       "      <th></th>\n",
       "      <th>manufacturer</th>\n",
       "      <th>product_item_name</th>\n",
       "      <th>product_code</th>\n",
       "      <th>final_price</th>\n",
       "      <th>old_price</th>\n",
       "      <th>Free_24h_shipment</th>\n",
       "    </tr>\n",
       "  </thead>\n",
       "  <tbody>\n",
       "    <tr>\n",
       "      <th>0</th>\n",
       "      <td>Suunto</td>\n",
       "      <td>9 Peak All Black</td>\n",
       "      <td>SS050522000</td>\n",
       "      <td>1 159,00 zł</td>\n",
       "      <td>1 869,00 zł</td>\n",
       "      <td>1</td>\n",
       "    </tr>\n",
       "    <tr>\n",
       "      <th>1</th>\n",
       "      <td>Timex</td>\n",
       "      <td>Expedition Military Allied</td>\n",
       "      <td>T2N721</td>\n",
       "      <td>721,00 zł</td>\n",
       "      <td>NaN</td>\n",
       "      <td>1</td>\n",
       "    </tr>\n",
       "    <tr>\n",
       "      <th>2</th>\n",
       "      <td>Timex</td>\n",
       "      <td>Chrono FullBlack</td>\n",
       "      <td>TW2T21200SS</td>\n",
       "      <td>289,00 zł</td>\n",
       "      <td>549,00 zł</td>\n",
       "      <td>1</td>\n",
       "    </tr>\n",
       "    <tr>\n",
       "      <th>3</th>\n",
       "      <td>Suunto</td>\n",
       "      <td>9 Peak Granite Blue Titanium</td>\n",
       "      <td>SS050520000</td>\n",
       "      <td>1 399,00 zł</td>\n",
       "      <td>2 339,00 zł</td>\n",
       "      <td>1</td>\n",
       "    </tr>\n",
       "    <tr>\n",
       "      <th>4</th>\n",
       "      <td>Festina</td>\n",
       "      <td>Timeless Chronograph</td>\n",
       "      <td>F16760/4</td>\n",
       "      <td>587,00 zł</td>\n",
       "      <td>699,00 zł</td>\n",
       "      <td>1</td>\n",
       "    </tr>\n",
       "  </tbody>\n",
       "</table>\n",
       "</div>"
      ],
      "text/plain": [
       "  manufacturer             product_item_name product_code  final_price  \\\n",
       "0       Suunto              9 Peak All Black  SS050522000  1 159,00 zł   \n",
       "1        Timex    Expedition Military Allied       T2N721    721,00 zł   \n",
       "2        Timex              Chrono FullBlack  TW2T21200SS    289,00 zł   \n",
       "3       Suunto  9 Peak Granite Blue Titanium  SS050520000  1 399,00 zł   \n",
       "4      Festina          Timeless Chronograph     F16760/4    587,00 zł   \n",
       "\n",
       "     old_price  Free_24h_shipment  \n",
       "0  1 869,00 zł                  1  \n",
       "1          NaN                  1  \n",
       "2    549,00 zł                  1  \n",
       "3  2 339,00 zł                  1  \n",
       "4    699,00 zł                  1  "
      ]
     },
     "execution_count": 11,
     "metadata": {},
     "output_type": "execute_result"
    }
   ],
   "source": [
    "watch_df.head(5)"
   ]
  },
  {
   "cell_type": "code",
   "execution_count": 12,
   "metadata": {},
   "outputs": [
    {
     "data": {
      "text/plain": [
       "['1\\xa0159,00\\xa0zł',\n",
       " '721,00\\xa0zł',\n",
       " '289,00\\xa0zł',\n",
       " '1\\xa0399,00\\xa0zł',\n",
       " '587,00\\xa0zł']"
      ]
     },
     "execution_count": 12,
     "metadata": {},
     "output_type": "execute_result"
    }
   ],
   "source": [
    "watch_df['final_price'].to_list()[0:5]"
   ]
  },
  {
   "cell_type": "code",
   "execution_count": 13,
   "metadata": {},
   "outputs": [],
   "source": [
    "watch_df[['final_price','old_price']] = watch_df[['final_price','old_price']].apply(lambda x: x.str.replace('\\xa0','').str.replace('zł','').str.replace(',','.'))"
   ]
  },
  {
   "cell_type": "code",
   "execution_count": 14,
   "metadata": {},
   "outputs": [
    {
     "data": {
      "text/plain": [
       "manufacturer         object\n",
       "product_item_name    object\n",
       "product_code         object\n",
       "final_price          object\n",
       "old_price            object\n",
       "Free_24h_shipment     int32\n",
       "dtype: object"
      ]
     },
     "execution_count": 14,
     "metadata": {},
     "output_type": "execute_result"
    }
   ],
   "source": [
    "watch_df.dtypes"
   ]
  },
  {
   "cell_type": "code",
   "execution_count": 15,
   "metadata": {},
   "outputs": [],
   "source": [
    "watch_df[['final_price','old_price']] = watch_df[['final_price','old_price']].apply(pd.to_numeric)"
   ]
  },
  {
   "cell_type": "code",
   "execution_count": 16,
   "metadata": {},
   "outputs": [
    {
     "data": {
      "text/plain": [
       "manufacturer          object\n",
       "product_item_name     object\n",
       "product_code          object\n",
       "final_price          float64\n",
       "old_price            float64\n",
       "Free_24h_shipment      int32\n",
       "dtype: object"
      ]
     },
     "execution_count": 16,
     "metadata": {},
     "output_type": "execute_result"
    }
   ],
   "source": [
    "watch_df.dtypes"
   ]
  },
  {
   "cell_type": "code",
   "execution_count": 17,
   "metadata": {},
   "outputs": [
    {
     "data": {
      "text/html": [
       "<div>\n",
       "<style scoped>\n",
       "    .dataframe tbody tr th:only-of-type {\n",
       "        vertical-align: middle;\n",
       "    }\n",
       "\n",
       "    .dataframe tbody tr th {\n",
       "        vertical-align: top;\n",
       "    }\n",
       "\n",
       "    .dataframe thead th {\n",
       "        text-align: right;\n",
       "    }\n",
       "</style>\n",
       "<table border=\"1\" class=\"dataframe\">\n",
       "  <thead>\n",
       "    <tr style=\"text-align: right;\">\n",
       "      <th></th>\n",
       "      <th>manufacturer</th>\n",
       "      <th>product_item_name</th>\n",
       "      <th>product_code</th>\n",
       "      <th>final_price</th>\n",
       "      <th>old_price</th>\n",
       "      <th>Free_24h_shipment</th>\n",
       "    </tr>\n",
       "  </thead>\n",
       "  <tbody>\n",
       "    <tr>\n",
       "      <th>0</th>\n",
       "      <td>Suunto</td>\n",
       "      <td>9 Peak All Black</td>\n",
       "      <td>SS050522000</td>\n",
       "      <td>1159.0</td>\n",
       "      <td>1869.0</td>\n",
       "      <td>1</td>\n",
       "    </tr>\n",
       "    <tr>\n",
       "      <th>1</th>\n",
       "      <td>Timex</td>\n",
       "      <td>Expedition Military Allied</td>\n",
       "      <td>T2N721</td>\n",
       "      <td>721.0</td>\n",
       "      <td>NaN</td>\n",
       "      <td>1</td>\n",
       "    </tr>\n",
       "    <tr>\n",
       "      <th>2</th>\n",
       "      <td>Timex</td>\n",
       "      <td>Chrono FullBlack</td>\n",
       "      <td>TW2T21200SS</td>\n",
       "      <td>289.0</td>\n",
       "      <td>549.0</td>\n",
       "      <td>1</td>\n",
       "    </tr>\n",
       "    <tr>\n",
       "      <th>3</th>\n",
       "      <td>Suunto</td>\n",
       "      <td>9 Peak Granite Blue Titanium</td>\n",
       "      <td>SS050520000</td>\n",
       "      <td>1399.0</td>\n",
       "      <td>2339.0</td>\n",
       "      <td>1</td>\n",
       "    </tr>\n",
       "    <tr>\n",
       "      <th>4</th>\n",
       "      <td>Festina</td>\n",
       "      <td>Timeless Chronograph</td>\n",
       "      <td>F16760/4</td>\n",
       "      <td>587.0</td>\n",
       "      <td>699.0</td>\n",
       "      <td>1</td>\n",
       "    </tr>\n",
       "  </tbody>\n",
       "</table>\n",
       "</div>"
      ],
      "text/plain": [
       "  manufacturer             product_item_name product_code  final_price  \\\n",
       "0       Suunto              9 Peak All Black  SS050522000       1159.0   \n",
       "1        Timex    Expedition Military Allied       T2N721        721.0   \n",
       "2        Timex              Chrono FullBlack  TW2T21200SS        289.0   \n",
       "3       Suunto  9 Peak Granite Blue Titanium  SS050520000       1399.0   \n",
       "4      Festina          Timeless Chronograph     F16760/4        587.0   \n",
       "\n",
       "   old_price  Free_24h_shipment  \n",
       "0     1869.0                  1  \n",
       "1        NaN                  1  \n",
       "2      549.0                  1  \n",
       "3     2339.0                  1  \n",
       "4      699.0                  1  "
      ]
     },
     "execution_count": 17,
     "metadata": {},
     "output_type": "execute_result"
    }
   ],
   "source": [
    "watch_df.head(5)"
   ]
  },
  {
   "cell_type": "code",
   "execution_count": 18,
   "metadata": {},
   "outputs": [
    {
     "name": "stdout",
     "output_type": "stream",
     "text": [
      "<class 'pandas.core.frame.DataFrame'>\n",
      "RangeIndex: 891 entries, 0 to 890\n",
      "Data columns (total 6 columns):\n",
      " #   Column             Non-Null Count  Dtype  \n",
      "---  ------             --------------  -----  \n",
      " 0   manufacturer       891 non-null    object \n",
      " 1   product_item_name  891 non-null    object \n",
      " 2   product_code       891 non-null    object \n",
      " 3   final_price        891 non-null    float64\n",
      " 4   old_price          261 non-null    float64\n",
      " 5   Free_24h_shipment  891 non-null    int32  \n",
      "dtypes: float64(2), int32(1), object(3)\n",
      "memory usage: 38.4+ KB\n"
     ]
    }
   ],
   "source": [
    "watch_df.info()"
   ]
  },
  {
   "attachments": {},
   "cell_type": "markdown",
   "metadata": {},
   "source": [
    "### <br>Check whether or not a particular item is currently on sale</br>"
   ]
  },
  {
   "cell_type": "code",
   "execution_count": 19,
   "metadata": {},
   "outputs": [],
   "source": [
    "watch_df['On_sale'] = np.where(watch_df['old_price'].isna()==True,0,1)"
   ]
  },
  {
   "cell_type": "code",
   "execution_count": 20,
   "metadata": {},
   "outputs": [
    {
     "data": {
      "text/html": [
       "<div>\n",
       "<style scoped>\n",
       "    .dataframe tbody tr th:only-of-type {\n",
       "        vertical-align: middle;\n",
       "    }\n",
       "\n",
       "    .dataframe tbody tr th {\n",
       "        vertical-align: top;\n",
       "    }\n",
       "\n",
       "    .dataframe thead th {\n",
       "        text-align: right;\n",
       "    }\n",
       "</style>\n",
       "<table border=\"1\" class=\"dataframe\">\n",
       "  <thead>\n",
       "    <tr style=\"text-align: right;\">\n",
       "      <th></th>\n",
       "      <th>manufacturer</th>\n",
       "      <th>product_item_name</th>\n",
       "      <th>product_code</th>\n",
       "      <th>final_price</th>\n",
       "      <th>old_price</th>\n",
       "      <th>Free_24h_shipment</th>\n",
       "      <th>On_sale</th>\n",
       "    </tr>\n",
       "  </thead>\n",
       "  <tbody>\n",
       "    <tr>\n",
       "      <th>0</th>\n",
       "      <td>Suunto</td>\n",
       "      <td>9 Peak All Black</td>\n",
       "      <td>SS050522000</td>\n",
       "      <td>1159.0</td>\n",
       "      <td>1869.0</td>\n",
       "      <td>1</td>\n",
       "      <td>1</td>\n",
       "    </tr>\n",
       "    <tr>\n",
       "      <th>1</th>\n",
       "      <td>Timex</td>\n",
       "      <td>Expedition Military Allied</td>\n",
       "      <td>T2N721</td>\n",
       "      <td>721.0</td>\n",
       "      <td>NaN</td>\n",
       "      <td>1</td>\n",
       "      <td>0</td>\n",
       "    </tr>\n",
       "    <tr>\n",
       "      <th>2</th>\n",
       "      <td>Timex</td>\n",
       "      <td>Chrono FullBlack</td>\n",
       "      <td>TW2T21200SS</td>\n",
       "      <td>289.0</td>\n",
       "      <td>549.0</td>\n",
       "      <td>1</td>\n",
       "      <td>1</td>\n",
       "    </tr>\n",
       "    <tr>\n",
       "      <th>3</th>\n",
       "      <td>Suunto</td>\n",
       "      <td>9 Peak Granite Blue Titanium</td>\n",
       "      <td>SS050520000</td>\n",
       "      <td>1399.0</td>\n",
       "      <td>2339.0</td>\n",
       "      <td>1</td>\n",
       "      <td>1</td>\n",
       "    </tr>\n",
       "    <tr>\n",
       "      <th>4</th>\n",
       "      <td>Festina</td>\n",
       "      <td>Timeless Chronograph</td>\n",
       "      <td>F16760/4</td>\n",
       "      <td>587.0</td>\n",
       "      <td>699.0</td>\n",
       "      <td>1</td>\n",
       "      <td>1</td>\n",
       "    </tr>\n",
       "  </tbody>\n",
       "</table>\n",
       "</div>"
      ],
      "text/plain": [
       "  manufacturer             product_item_name product_code  final_price  \\\n",
       "0       Suunto              9 Peak All Black  SS050522000       1159.0   \n",
       "1        Timex    Expedition Military Allied       T2N721        721.0   \n",
       "2        Timex              Chrono FullBlack  TW2T21200SS        289.0   \n",
       "3       Suunto  9 Peak Granite Blue Titanium  SS050520000       1399.0   \n",
       "4      Festina          Timeless Chronograph     F16760/4        587.0   \n",
       "\n",
       "   old_price  Free_24h_shipment  On_sale  \n",
       "0     1869.0                  1        1  \n",
       "1        NaN                  1        0  \n",
       "2      549.0                  1        1  \n",
       "3     2339.0                  1        1  \n",
       "4      699.0                  1        1  "
      ]
     },
     "execution_count": 20,
     "metadata": {},
     "output_type": "execute_result"
    }
   ],
   "source": [
    "watch_df.head(5)"
   ]
  },
  {
   "attachments": {},
   "cell_type": "markdown",
   "metadata": {},
   "source": [
    "### <br>Calculating the discount</br>"
   ]
  },
  {
   "cell_type": "code",
   "execution_count": 21,
   "metadata": {},
   "outputs": [],
   "source": [
    "watch_df['discount'] = round(np.abs((watch_df['final_price']/watch_df['old_price'])-1),4)"
   ]
  },
  {
   "cell_type": "code",
   "execution_count": 22,
   "metadata": {},
   "outputs": [
    {
     "data": {
      "text/html": [
       "<div>\n",
       "<style scoped>\n",
       "    .dataframe tbody tr th:only-of-type {\n",
       "        vertical-align: middle;\n",
       "    }\n",
       "\n",
       "    .dataframe tbody tr th {\n",
       "        vertical-align: top;\n",
       "    }\n",
       "\n",
       "    .dataframe thead th {\n",
       "        text-align: right;\n",
       "    }\n",
       "</style>\n",
       "<table border=\"1\" class=\"dataframe\">\n",
       "  <thead>\n",
       "    <tr style=\"text-align: right;\">\n",
       "      <th></th>\n",
       "      <th>manufacturer</th>\n",
       "      <th>product_item_name</th>\n",
       "      <th>product_code</th>\n",
       "      <th>final_price</th>\n",
       "      <th>old_price</th>\n",
       "      <th>Free_24h_shipment</th>\n",
       "      <th>On_sale</th>\n",
       "      <th>discount</th>\n",
       "    </tr>\n",
       "  </thead>\n",
       "  <tbody>\n",
       "    <tr>\n",
       "      <th>0</th>\n",
       "      <td>Suunto</td>\n",
       "      <td>9 Peak All Black</td>\n",
       "      <td>SS050522000</td>\n",
       "      <td>1159.0</td>\n",
       "      <td>1869.0</td>\n",
       "      <td>1</td>\n",
       "      <td>1</td>\n",
       "      <td>0.3799</td>\n",
       "    </tr>\n",
       "    <tr>\n",
       "      <th>1</th>\n",
       "      <td>Timex</td>\n",
       "      <td>Expedition Military Allied</td>\n",
       "      <td>T2N721</td>\n",
       "      <td>721.0</td>\n",
       "      <td>NaN</td>\n",
       "      <td>1</td>\n",
       "      <td>0</td>\n",
       "      <td>NaN</td>\n",
       "    </tr>\n",
       "    <tr>\n",
       "      <th>2</th>\n",
       "      <td>Timex</td>\n",
       "      <td>Chrono FullBlack</td>\n",
       "      <td>TW2T21200SS</td>\n",
       "      <td>289.0</td>\n",
       "      <td>549.0</td>\n",
       "      <td>1</td>\n",
       "      <td>1</td>\n",
       "      <td>0.4736</td>\n",
       "    </tr>\n",
       "    <tr>\n",
       "      <th>3</th>\n",
       "      <td>Suunto</td>\n",
       "      <td>9 Peak Granite Blue Titanium</td>\n",
       "      <td>SS050520000</td>\n",
       "      <td>1399.0</td>\n",
       "      <td>2339.0</td>\n",
       "      <td>1</td>\n",
       "      <td>1</td>\n",
       "      <td>0.4019</td>\n",
       "    </tr>\n",
       "    <tr>\n",
       "      <th>4</th>\n",
       "      <td>Festina</td>\n",
       "      <td>Timeless Chronograph</td>\n",
       "      <td>F16760/4</td>\n",
       "      <td>587.0</td>\n",
       "      <td>699.0</td>\n",
       "      <td>1</td>\n",
       "      <td>1</td>\n",
       "      <td>0.1602</td>\n",
       "    </tr>\n",
       "    <tr>\n",
       "      <th>5</th>\n",
       "      <td>Błonie</td>\n",
       "      <td>Cyberpunk 2077 Limited Edition</td>\n",
       "      <td>CYBERPUNK-T-2077</td>\n",
       "      <td>2777.0</td>\n",
       "      <td>NaN</td>\n",
       "      <td>1</td>\n",
       "      <td>0</td>\n",
       "      <td>NaN</td>\n",
       "    </tr>\n",
       "    <tr>\n",
       "      <th>6</th>\n",
       "      <td>Adriatica</td>\n",
       "      <td>Titanium Chronograph</td>\n",
       "      <td>A8281.4116CH</td>\n",
       "      <td>1470.0</td>\n",
       "      <td>NaN</td>\n",
       "      <td>1</td>\n",
       "      <td>0</td>\n",
       "      <td>NaN</td>\n",
       "    </tr>\n",
       "    <tr>\n",
       "      <th>7</th>\n",
       "      <td>G-SHOCK</td>\n",
       "      <td>Casio</td>\n",
       "      <td>GA-100-1A1ER</td>\n",
       "      <td>455.0</td>\n",
       "      <td>NaN</td>\n",
       "      <td>1</td>\n",
       "      <td>0</td>\n",
       "      <td>NaN</td>\n",
       "    </tr>\n",
       "    <tr>\n",
       "      <th>8</th>\n",
       "      <td>Vostok Europe</td>\n",
       "      <td>Space Race Limited Edition</td>\n",
       "      <td>6S21-325A665</td>\n",
       "      <td>1422.0</td>\n",
       "      <td>1580.0</td>\n",
       "      <td>1</td>\n",
       "      <td>1</td>\n",
       "      <td>0.1000</td>\n",
       "    </tr>\n",
       "    <tr>\n",
       "      <th>9</th>\n",
       "      <td>Emporio Armani</td>\n",
       "      <td>Claudio Chronograph</td>\n",
       "      <td>AR11480</td>\n",
       "      <td>1359.0</td>\n",
       "      <td>1599.0</td>\n",
       "      <td>1</td>\n",
       "      <td>1</td>\n",
       "      <td>0.1501</td>\n",
       "    </tr>\n",
       "  </tbody>\n",
       "</table>\n",
       "</div>"
      ],
      "text/plain": [
       "     manufacturer               product_item_name      product_code  \\\n",
       "0          Suunto                9 Peak All Black       SS050522000   \n",
       "1           Timex      Expedition Military Allied            T2N721   \n",
       "2           Timex                Chrono FullBlack       TW2T21200SS   \n",
       "3          Suunto    9 Peak Granite Blue Titanium       SS050520000   \n",
       "4         Festina            Timeless Chronograph          F16760/4   \n",
       "5          Błonie  Cyberpunk 2077 Limited Edition  CYBERPUNK-T-2077   \n",
       "6       Adriatica            Titanium Chronograph      A8281.4116CH   \n",
       "7         G-SHOCK                           Casio      GA-100-1A1ER   \n",
       "8   Vostok Europe      Space Race Limited Edition      6S21-325A665   \n",
       "9  Emporio Armani             Claudio Chronograph           AR11480   \n",
       "\n",
       "   final_price  old_price  Free_24h_shipment  On_sale  discount  \n",
       "0       1159.0     1869.0                  1        1    0.3799  \n",
       "1        721.0        NaN                  1        0       NaN  \n",
       "2        289.0      549.0                  1        1    0.4736  \n",
       "3       1399.0     2339.0                  1        1    0.4019  \n",
       "4        587.0      699.0                  1        1    0.1602  \n",
       "5       2777.0        NaN                  1        0       NaN  \n",
       "6       1470.0        NaN                  1        0       NaN  \n",
       "7        455.0        NaN                  1        0       NaN  \n",
       "8       1422.0     1580.0                  1        1    0.1000  \n",
       "9       1359.0     1599.0                  1        1    0.1501  "
      ]
     },
     "execution_count": 22,
     "metadata": {},
     "output_type": "execute_result"
    }
   ],
   "source": [
    "watch_df.head(10)"
   ]
  },
  {
   "attachments": {},
   "cell_type": "markdown",
   "metadata": {},
   "source": [
    "<h3>The data can be now exported e.g. to an xlsx file:</h3>"
   ]
  },
  {
   "cell_type": "code",
   "execution_count": 23,
   "metadata": {},
   "outputs": [],
   "source": [
    "watch_df.to_excel('watches_data.xlsx',index=False)"
   ]
  }
 ],
 "metadata": {
  "kernelspec": {
   "display_name": "Python 3",
   "language": "python",
   "name": "python3"
  },
  "language_info": {
   "codemirror_mode": {
    "name": "ipython",
    "version": 3
   },
   "file_extension": ".py",
   "mimetype": "text/x-python",
   "name": "python",
   "nbconvert_exporter": "python",
   "pygments_lexer": "ipython3",
   "version": "3.11.0"
  },
  "orig_nbformat": 4
 },
 "nbformat": 4,
 "nbformat_minor": 2
}
