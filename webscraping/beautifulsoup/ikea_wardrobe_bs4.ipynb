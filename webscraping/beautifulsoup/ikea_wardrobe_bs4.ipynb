{
 "cells": [
  {
   "attachments": {},
   "cell_type": "markdown",
   "metadata": {},
   "source": [
    "<b><h2>Webscraping data about IKEA wadrobes with BeautifulSoup</h2></b>"
   ]
  },
  {
   "attachments": {},
   "cell_type": "markdown",
   "metadata": {},
   "source": [
    "### Libraries"
   ]
  },
  {
   "cell_type": "code",
   "execution_count": 1,
   "metadata": {},
   "outputs": [],
   "source": [
    "import pandas as pd\n",
    "import numpy as np\n",
    "import requests\n",
    "import time\n",
    "from bs4 import BeautifulSoup"
   ]
  },
  {
   "attachments": {},
   "cell_type": "markdown",
   "metadata": {},
   "source": [
    "### Connection"
   ]
  },
  {
   "cell_type": "code",
   "execution_count": 2,
   "metadata": {},
   "outputs": [
    {
     "data": {
      "text/plain": [
       "200"
      ]
     },
     "execution_count": 2,
     "metadata": {},
     "output_type": "execute_result"
    }
   ],
   "source": [
    "url = 'https://www.ikea.com/pl/pl/cat/szafy-19053/?page=1'\n",
    "response = requests.get(url)\n",
    "response.status_code"
   ]
  },
  {
   "attachments": {},
   "cell_type": "markdown",
   "metadata": {},
   "source": [
    "### Scraping code - getting data about ikea wardrobe products across 4 pages"
   ]
  },
  {
   "cell_type": "code",
   "execution_count": 3,
   "metadata": {},
   "outputs": [],
   "source": [
    "soup = BeautifulSoup(response.content,'html.parser')\n",
    "ikea = soup.find_all('div',class_='pip-compact-price-package')"
   ]
  },
  {
   "cell_type": "code",
   "execution_count": 47,
   "metadata": {},
   "outputs": [
    {
     "name": "stdout",
     "output_type": "stream",
     "text": [
      "Getting page 1. Waiting...\n",
      "Getting page 2. Waiting...\n",
      "Getting page 3. Waiting...\n",
      "Getting page 4. Waiting...\n"
     ]
    }
   ],
   "source": [
    "g = []\n",
    "for page in range(1,5):\n",
    "    url = f'https://www.ikea.com/pl/pl/cat/szafy-19053/?page={page}'\n",
    "    response = requests.get(url)\n",
    "    soup = BeautifulSoup(response.content,'html.parser')\n",
    "    ikea = soup.find_all('div',class_='pip-compact-price-package')\n",
    "    for i in ikea:\n",
    "        name1 = i.find('span',class_='pip-header-section__title--small notranslate').text.strip()\n",
    "        name2 = i.find('span',class_='pip-header-section__description-text').text.strip()\n",
    "        dimension = [i.find('span',class_='pip-header-section__description-measurement').text.strip() if i.find('span',class_='pip-header-section__description-measurement') in i.find('span',class_='pip-header-section__description') else 'Not given']\n",
    "        price = i.find('span',class_='pip-price__integer').text.strip().replace(' ','')\n",
    "        g.append([name1,name2,dimension,price])\n",
    "    time.sleep(np.random.randint(3,10))\n",
    "    print(f'Getting page {page}. Waiting...')"
   ]
  },
  {
   "cell_type": "code",
   "execution_count": 48,
   "metadata": {},
   "outputs": [],
   "source": [
    "ikea_df = pd.DataFrame(g,columns=('name1','name2','dimension','price'))"
   ]
  },
  {
   "cell_type": "code",
   "execution_count": 49,
   "metadata": {},
   "outputs": [
    {
     "name": "stdout",
     "output_type": "stream",
     "text": [
      "<class 'pandas.core.frame.DataFrame'>\n",
      "RangeIndex: 80 entries, 0 to 79\n",
      "Data columns (total 4 columns):\n",
      " #   Column     Non-Null Count  Dtype \n",
      "---  ------     --------------  ----- \n",
      " 0   name1      80 non-null     object\n",
      " 1   name2      80 non-null     object\n",
      " 2   dimension  80 non-null     object\n",
      " 3   price      80 non-null     object\n",
      "dtypes: object(4)\n",
      "memory usage: 2.6+ KB\n"
     ]
    }
   ],
   "source": [
    "ikea_df.info()"
   ]
  },
  {
   "cell_type": "code",
   "execution_count": 50,
   "metadata": {},
   "outputs": [
    {
     "data": {
      "text/html": [
       "<div>\n",
       "<style scoped>\n",
       "    .dataframe tbody tr th:only-of-type {\n",
       "        vertical-align: middle;\n",
       "    }\n",
       "\n",
       "    .dataframe tbody tr th {\n",
       "        vertical-align: top;\n",
       "    }\n",
       "\n",
       "    .dataframe thead th {\n",
       "        text-align: right;\n",
       "    }\n",
       "</style>\n",
       "<table border=\"1\" class=\"dataframe\">\n",
       "  <thead>\n",
       "    <tr style=\"text-align: right;\">\n",
       "      <th></th>\n",
       "      <th>name1</th>\n",
       "      <th>name2</th>\n",
       "      <th>dimension</th>\n",
       "      <th>price</th>\n",
       "    </tr>\n",
       "  </thead>\n",
       "  <tbody>\n",
       "    <tr>\n",
       "      <th>0</th>\n",
       "      <td>KLEPPSTAD</td>\n",
       "      <td>Szafa/3 drzwi,</td>\n",
       "      <td>[117x176 cm]</td>\n",
       "      <td>599</td>\n",
       "    </tr>\n",
       "    <tr>\n",
       "      <th>1</th>\n",
       "      <td>PAX / BERGSBO</td>\n",
       "      <td>Szafa/2 drzwi,</td>\n",
       "      <td>[100x60x236 cm]</td>\n",
       "      <td>800</td>\n",
       "    </tr>\n",
       "    <tr>\n",
       "      <th>2</th>\n",
       "      <td>VILHATTEN</td>\n",
       "      <td>Szafa 2 drzwi i 2 szuflady</td>\n",
       "      <td>[Not given]</td>\n",
       "      <td>899</td>\n",
       "    </tr>\n",
       "    <tr>\n",
       "      <th>3</th>\n",
       "      <td>BRIMNES</td>\n",
       "      <td>Szafa/3 drzwi,</td>\n",
       "      <td>[117x190 cm]</td>\n",
       "      <td>899</td>\n",
       "    </tr>\n",
       "    <tr>\n",
       "      <th>4</th>\n",
       "      <td>PAX / GRIMO</td>\n",
       "      <td>Kombinacja szafy,</td>\n",
       "      <td>[150x60x201 cm]</td>\n",
       "      <td>1410</td>\n",
       "    </tr>\n",
       "    <tr>\n",
       "      <th>5</th>\n",
       "      <td>KLEPPSTAD</td>\n",
       "      <td>Szafa/2 drzwi,</td>\n",
       "      <td>[79x176 cm]</td>\n",
       "      <td>399</td>\n",
       "    </tr>\n",
       "    <tr>\n",
       "      <th>6</th>\n",
       "      <td>PAX / BERGSBO</td>\n",
       "      <td>Szafa,</td>\n",
       "      <td>[150x60x236 cm]</td>\n",
       "      <td>2095</td>\n",
       "    </tr>\n",
       "    <tr>\n",
       "      <th>7</th>\n",
       "      <td>RAKKESTAD</td>\n",
       "      <td>Szafa/3 drzwi,</td>\n",
       "      <td>[117x176 cm]</td>\n",
       "      <td>699</td>\n",
       "    </tr>\n",
       "    <tr>\n",
       "      <th>8</th>\n",
       "      <td>KLEPPSTAD</td>\n",
       "      <td>Szafa z drzwiami przesuwanymi,</td>\n",
       "      <td>[117x176 cm]</td>\n",
       "      <td>649</td>\n",
       "    </tr>\n",
       "    <tr>\n",
       "      <th>9</th>\n",
       "      <td>SMÅSTAD / PLATSA</td>\n",
       "      <td>Szafa,</td>\n",
       "      <td>[60x42x181 cm]</td>\n",
       "      <td>880</td>\n",
       "    </tr>\n",
       "  </tbody>\n",
       "</table>\n",
       "</div>"
      ],
      "text/plain": [
       "              name1                           name2        dimension price\n",
       "0         KLEPPSTAD                  Szafa/3 drzwi,     [117x176 cm]   599\n",
       "1     PAX / BERGSBO                  Szafa/2 drzwi,  [100x60x236 cm]   800\n",
       "2         VILHATTEN      Szafa 2 drzwi i 2 szuflady      [Not given]   899\n",
       "3           BRIMNES                  Szafa/3 drzwi,     [117x190 cm]   899\n",
       "4       PAX / GRIMO               Kombinacja szafy,  [150x60x201 cm]  1410\n",
       "5         KLEPPSTAD                  Szafa/2 drzwi,      [79x176 cm]   399\n",
       "6     PAX / BERGSBO                          Szafa,  [150x60x236 cm]  2095\n",
       "7         RAKKESTAD                  Szafa/3 drzwi,     [117x176 cm]   699\n",
       "8         KLEPPSTAD  Szafa z drzwiami przesuwanymi,     [117x176 cm]   649\n",
       "9  SMÅSTAD / PLATSA                          Szafa,   [60x42x181 cm]   880"
      ]
     },
     "execution_count": 50,
     "metadata": {},
     "output_type": "execute_result"
    }
   ],
   "source": [
    "ikea_df.head(10)"
   ]
  },
  {
   "attachments": {},
   "cell_type": "markdown",
   "metadata": {},
   "source": [
    "### Data cleaning"
   ]
  },
  {
   "cell_type": "code",
   "execution_count": 52,
   "metadata": {},
   "outputs": [],
   "source": [
    "ikea_df['dimension'] = ikea_df['dimension'].apply(lambda x: ''.join(x))"
   ]
  },
  {
   "cell_type": "code",
   "execution_count": 53,
   "metadata": {},
   "outputs": [
    {
     "data": {
      "text/html": [
       "<div>\n",
       "<style scoped>\n",
       "    .dataframe tbody tr th:only-of-type {\n",
       "        vertical-align: middle;\n",
       "    }\n",
       "\n",
       "    .dataframe tbody tr th {\n",
       "        vertical-align: top;\n",
       "    }\n",
       "\n",
       "    .dataframe thead th {\n",
       "        text-align: right;\n",
       "    }\n",
       "</style>\n",
       "<table border=\"1\" class=\"dataframe\">\n",
       "  <thead>\n",
       "    <tr style=\"text-align: right;\">\n",
       "      <th></th>\n",
       "      <th>name1</th>\n",
       "      <th>name2</th>\n",
       "      <th>dimension</th>\n",
       "      <th>price</th>\n",
       "    </tr>\n",
       "  </thead>\n",
       "  <tbody>\n",
       "    <tr>\n",
       "      <th>0</th>\n",
       "      <td>KLEPPSTAD</td>\n",
       "      <td>Szafa/3 drzwi,</td>\n",
       "      <td>117x176 cm</td>\n",
       "      <td>599</td>\n",
       "    </tr>\n",
       "    <tr>\n",
       "      <th>1</th>\n",
       "      <td>PAX / BERGSBO</td>\n",
       "      <td>Szafa/2 drzwi,</td>\n",
       "      <td>100x60x236 cm</td>\n",
       "      <td>800</td>\n",
       "    </tr>\n",
       "    <tr>\n",
       "      <th>2</th>\n",
       "      <td>VILHATTEN</td>\n",
       "      <td>Szafa 2 drzwi i 2 szuflady</td>\n",
       "      <td>Not given</td>\n",
       "      <td>899</td>\n",
       "    </tr>\n",
       "    <tr>\n",
       "      <th>3</th>\n",
       "      <td>BRIMNES</td>\n",
       "      <td>Szafa/3 drzwi,</td>\n",
       "      <td>117x190 cm</td>\n",
       "      <td>899</td>\n",
       "    </tr>\n",
       "    <tr>\n",
       "      <th>4</th>\n",
       "      <td>PAX / GRIMO</td>\n",
       "      <td>Kombinacja szafy,</td>\n",
       "      <td>150x60x201 cm</td>\n",
       "      <td>1410</td>\n",
       "    </tr>\n",
       "  </tbody>\n",
       "</table>\n",
       "</div>"
      ],
      "text/plain": [
       "           name1                       name2      dimension price\n",
       "0      KLEPPSTAD              Szafa/3 drzwi,     117x176 cm   599\n",
       "1  PAX / BERGSBO              Szafa/2 drzwi,  100x60x236 cm   800\n",
       "2      VILHATTEN  Szafa 2 drzwi i 2 szuflady      Not given   899\n",
       "3        BRIMNES              Szafa/3 drzwi,     117x190 cm   899\n",
       "4    PAX / GRIMO           Kombinacja szafy,  150x60x201 cm  1410"
      ]
     },
     "execution_count": 53,
     "metadata": {},
     "output_type": "execute_result"
    }
   ],
   "source": [
    "ikea_df.head(5)"
   ]
  },
  {
   "cell_type": "code",
   "execution_count": 55,
   "metadata": {},
   "outputs": [],
   "source": [
    "ikea_df['dimension2'] = ikea_df['dimension'].replace('Not given',np.nan)"
   ]
  },
  {
   "cell_type": "code",
   "execution_count": 60,
   "metadata": {},
   "outputs": [
    {
     "data": {
      "text/html": [
       "<div>\n",
       "<style scoped>\n",
       "    .dataframe tbody tr th:only-of-type {\n",
       "        vertical-align: middle;\n",
       "    }\n",
       "\n",
       "    .dataframe tbody tr th {\n",
       "        vertical-align: top;\n",
       "    }\n",
       "\n",
       "    .dataframe thead th {\n",
       "        text-align: right;\n",
       "    }\n",
       "</style>\n",
       "<table border=\"1\" class=\"dataframe\">\n",
       "  <thead>\n",
       "    <tr style=\"text-align: right;\">\n",
       "      <th></th>\n",
       "      <th>name1</th>\n",
       "      <th>name2</th>\n",
       "      <th>dimension</th>\n",
       "      <th>price</th>\n",
       "      <th>dimension2</th>\n",
       "    </tr>\n",
       "  </thead>\n",
       "  <tbody>\n",
       "    <tr>\n",
       "      <th>0</th>\n",
       "      <td>KLEPPSTAD</td>\n",
       "      <td>Szafa/3 drzwi,</td>\n",
       "      <td>117x176 cm</td>\n",
       "      <td>599</td>\n",
       "      <td>117x176 cm</td>\n",
       "    </tr>\n",
       "    <tr>\n",
       "      <th>1</th>\n",
       "      <td>PAX / BERGSBO</td>\n",
       "      <td>Szafa/2 drzwi,</td>\n",
       "      <td>100x60x236 cm</td>\n",
       "      <td>800</td>\n",
       "      <td>100x60x236 cm</td>\n",
       "    </tr>\n",
       "    <tr>\n",
       "      <th>2</th>\n",
       "      <td>VILHATTEN</td>\n",
       "      <td>Szafa 2 drzwi i 2 szuflady</td>\n",
       "      <td>Not given</td>\n",
       "      <td>899</td>\n",
       "      <td>NaN</td>\n",
       "    </tr>\n",
       "    <tr>\n",
       "      <th>3</th>\n",
       "      <td>BRIMNES</td>\n",
       "      <td>Szafa/3 drzwi,</td>\n",
       "      <td>117x190 cm</td>\n",
       "      <td>899</td>\n",
       "      <td>117x190 cm</td>\n",
       "    </tr>\n",
       "    <tr>\n",
       "      <th>4</th>\n",
       "      <td>PAX / GRIMO</td>\n",
       "      <td>Kombinacja szafy,</td>\n",
       "      <td>150x60x201 cm</td>\n",
       "      <td>1410</td>\n",
       "      <td>150x60x201 cm</td>\n",
       "    </tr>\n",
       "    <tr>\n",
       "      <th>...</th>\n",
       "      <td>...</td>\n",
       "      <td>...</td>\n",
       "      <td>...</td>\n",
       "      <td>...</td>\n",
       "      <td>...</td>\n",
       "    </tr>\n",
       "    <tr>\n",
       "      <th>75</th>\n",
       "      <td>STUK</td>\n",
       "      <td>Organizator na ubrania 7 półek,</td>\n",
       "      <td>30x30x90 cm</td>\n",
       "      <td>49</td>\n",
       "      <td>30x30x90 cm</td>\n",
       "    </tr>\n",
       "    <tr>\n",
       "      <th>76</th>\n",
       "      <td>SKUBB</td>\n",
       "      <td>Wisząca półka, 6 przegród,</td>\n",
       "      <td>35x45x125 cm</td>\n",
       "      <td>49</td>\n",
       "      <td>35x45x125 cm</td>\n",
       "    </tr>\n",
       "    <tr>\n",
       "      <th>77</th>\n",
       "      <td>STUK</td>\n",
       "      <td>Pojemnik na ubrania/pościel,</td>\n",
       "      <td>55x51x18 cm</td>\n",
       "      <td>29</td>\n",
       "      <td>55x51x18 cm</td>\n",
       "    </tr>\n",
       "    <tr>\n",
       "      <th>78</th>\n",
       "      <td>SKUBB</td>\n",
       "      <td>Pojemnik na ubrania/pościel,</td>\n",
       "      <td>93x55x19 cm</td>\n",
       "      <td>39</td>\n",
       "      <td>93x55x19 cm</td>\n",
       "    </tr>\n",
       "    <tr>\n",
       "      <th>79</th>\n",
       "      <td>TOLKNING</td>\n",
       "      <td>Kosz,</td>\n",
       "      <td>50x43x19 cm</td>\n",
       "      <td>149</td>\n",
       "      <td>50x43x19 cm</td>\n",
       "    </tr>\n",
       "  </tbody>\n",
       "</table>\n",
       "<p>80 rows × 5 columns</p>\n",
       "</div>"
      ],
      "text/plain": [
       "            name1                            name2      dimension price  \\\n",
       "0       KLEPPSTAD                   Szafa/3 drzwi,     117x176 cm   599   \n",
       "1   PAX / BERGSBO                   Szafa/2 drzwi,  100x60x236 cm   800   \n",
       "2       VILHATTEN       Szafa 2 drzwi i 2 szuflady      Not given   899   \n",
       "3         BRIMNES                   Szafa/3 drzwi,     117x190 cm   899   \n",
       "4     PAX / GRIMO                Kombinacja szafy,  150x60x201 cm  1410   \n",
       "..            ...                              ...            ...   ...   \n",
       "75           STUK  Organizator na ubrania 7 półek,    30x30x90 cm    49   \n",
       "76          SKUBB       Wisząca półka, 6 przegród,   35x45x125 cm    49   \n",
       "77           STUK     Pojemnik na ubrania/pościel,    55x51x18 cm    29   \n",
       "78          SKUBB     Pojemnik na ubrania/pościel,    93x55x19 cm    39   \n",
       "79       TOLKNING                            Kosz,    50x43x19 cm   149   \n",
       "\n",
       "       dimension2  \n",
       "0      117x176 cm  \n",
       "1   100x60x236 cm  \n",
       "2             NaN  \n",
       "3      117x190 cm  \n",
       "4   150x60x201 cm  \n",
       "..            ...  \n",
       "75    30x30x90 cm  \n",
       "76   35x45x125 cm  \n",
       "77    55x51x18 cm  \n",
       "78    93x55x19 cm  \n",
       "79    50x43x19 cm  \n",
       "\n",
       "[80 rows x 5 columns]"
      ]
     },
     "execution_count": 60,
     "metadata": {},
     "output_type": "execute_result"
    }
   ],
   "source": [
    "ikea_df"
   ]
  },
  {
   "cell_type": "code",
   "execution_count": 61,
   "metadata": {},
   "outputs": [],
   "source": [
    "ikea_df = ikea_df.iloc[:,[0,1,3,4]]"
   ]
  },
  {
   "cell_type": "code",
   "execution_count": 62,
   "metadata": {},
   "outputs": [
    {
     "data": {
      "text/html": [
       "<div>\n",
       "<style scoped>\n",
       "    .dataframe tbody tr th:only-of-type {\n",
       "        vertical-align: middle;\n",
       "    }\n",
       "\n",
       "    .dataframe tbody tr th {\n",
       "        vertical-align: top;\n",
       "    }\n",
       "\n",
       "    .dataframe thead th {\n",
       "        text-align: right;\n",
       "    }\n",
       "</style>\n",
       "<table border=\"1\" class=\"dataframe\">\n",
       "  <thead>\n",
       "    <tr style=\"text-align: right;\">\n",
       "      <th></th>\n",
       "      <th>name1</th>\n",
       "      <th>name2</th>\n",
       "      <th>price</th>\n",
       "      <th>dimension2</th>\n",
       "    </tr>\n",
       "  </thead>\n",
       "  <tbody>\n",
       "    <tr>\n",
       "      <th>0</th>\n",
       "      <td>KLEPPSTAD</td>\n",
       "      <td>Szafa/3 drzwi,</td>\n",
       "      <td>599</td>\n",
       "      <td>117x176 cm</td>\n",
       "    </tr>\n",
       "    <tr>\n",
       "      <th>1</th>\n",
       "      <td>PAX / BERGSBO</td>\n",
       "      <td>Szafa/2 drzwi,</td>\n",
       "      <td>800</td>\n",
       "      <td>100x60x236 cm</td>\n",
       "    </tr>\n",
       "    <tr>\n",
       "      <th>2</th>\n",
       "      <td>VILHATTEN</td>\n",
       "      <td>Szafa 2 drzwi i 2 szuflady</td>\n",
       "      <td>899</td>\n",
       "      <td>NaN</td>\n",
       "    </tr>\n",
       "    <tr>\n",
       "      <th>3</th>\n",
       "      <td>BRIMNES</td>\n",
       "      <td>Szafa/3 drzwi,</td>\n",
       "      <td>899</td>\n",
       "      <td>117x190 cm</td>\n",
       "    </tr>\n",
       "    <tr>\n",
       "      <th>4</th>\n",
       "      <td>PAX / GRIMO</td>\n",
       "      <td>Kombinacja szafy,</td>\n",
       "      <td>1410</td>\n",
       "      <td>150x60x201 cm</td>\n",
       "    </tr>\n",
       "    <tr>\n",
       "      <th>5</th>\n",
       "      <td>KLEPPSTAD</td>\n",
       "      <td>Szafa/2 drzwi,</td>\n",
       "      <td>399</td>\n",
       "      <td>79x176 cm</td>\n",
       "    </tr>\n",
       "    <tr>\n",
       "      <th>6</th>\n",
       "      <td>PAX / BERGSBO</td>\n",
       "      <td>Szafa,</td>\n",
       "      <td>2095</td>\n",
       "      <td>150x60x236 cm</td>\n",
       "    </tr>\n",
       "    <tr>\n",
       "      <th>7</th>\n",
       "      <td>RAKKESTAD</td>\n",
       "      <td>Szafa/3 drzwi,</td>\n",
       "      <td>699</td>\n",
       "      <td>117x176 cm</td>\n",
       "    </tr>\n",
       "    <tr>\n",
       "      <th>8</th>\n",
       "      <td>KLEPPSTAD</td>\n",
       "      <td>Szafa z drzwiami przesuwanymi,</td>\n",
       "      <td>649</td>\n",
       "      <td>117x176 cm</td>\n",
       "    </tr>\n",
       "    <tr>\n",
       "      <th>9</th>\n",
       "      <td>SMÅSTAD / PLATSA</td>\n",
       "      <td>Szafa,</td>\n",
       "      <td>880</td>\n",
       "      <td>60x42x181 cm</td>\n",
       "    </tr>\n",
       "  </tbody>\n",
       "</table>\n",
       "</div>"
      ],
      "text/plain": [
       "              name1                           name2 price     dimension2\n",
       "0         KLEPPSTAD                  Szafa/3 drzwi,   599     117x176 cm\n",
       "1     PAX / BERGSBO                  Szafa/2 drzwi,   800  100x60x236 cm\n",
       "2         VILHATTEN      Szafa 2 drzwi i 2 szuflady   899            NaN\n",
       "3           BRIMNES                  Szafa/3 drzwi,   899     117x190 cm\n",
       "4       PAX / GRIMO               Kombinacja szafy,  1410  150x60x201 cm\n",
       "5         KLEPPSTAD                  Szafa/2 drzwi,   399      79x176 cm\n",
       "6     PAX / BERGSBO                          Szafa,  2095  150x60x236 cm\n",
       "7         RAKKESTAD                  Szafa/3 drzwi,   699     117x176 cm\n",
       "8         KLEPPSTAD  Szafa z drzwiami przesuwanymi,   649     117x176 cm\n",
       "9  SMÅSTAD / PLATSA                          Szafa,   880   60x42x181 cm"
      ]
     },
     "execution_count": 62,
     "metadata": {},
     "output_type": "execute_result"
    }
   ],
   "source": [
    "ikea_df.head(10)"
   ]
  },
  {
   "cell_type": "code",
   "execution_count": 66,
   "metadata": {},
   "outputs": [
    {
     "name": "stderr",
     "output_type": "stream",
     "text": [
      "C:\\Users\\piotr\\AppData\\Local\\Temp\\ipykernel_9624\\2683564018.py:1: SettingWithCopyWarning: \n",
      "A value is trying to be set on a copy of a slice from a DataFrame.\n",
      "Try using .loc[row_indexer,col_indexer] = value instead\n",
      "\n",
      "See the caveats in the documentation: https://pandas.pydata.org/pandas-docs/stable/user_guide/indexing.html#returning-a-view-versus-a-copy\n",
      "  ikea_df['price'] = ikea_df['price'].astype('int')\n"
     ]
    }
   ],
   "source": [
    "ikea_df['price'] = ikea_df['price'].astype('int')"
   ]
  },
  {
   "cell_type": "code",
   "execution_count": 71,
   "metadata": {},
   "outputs": [
    {
     "name": "stderr",
     "output_type": "stream",
     "text": [
      "C:\\Users\\piotr\\AppData\\Local\\Temp\\ipykernel_9624\\402150661.py:1: SettingWithCopyWarning: \n",
      "A value is trying to be set on a copy of a slice from a DataFrame.\n",
      "Try using .loc[row_indexer,col_indexer] = value instead\n",
      "\n",
      "See the caveats in the documentation: https://pandas.pydata.org/pandas-docs/stable/user_guide/indexing.html#returning-a-view-versus-a-copy\n",
      "  ikea_df['name1'] = ikea_df['name1'].apply(lambda x: x.capitalize())\n"
     ]
    }
   ],
   "source": [
    "ikea_df['name1'] = ikea_df['name1'].apply(lambda x: x.capitalize())"
   ]
  },
  {
   "attachments": {},
   "cell_type": "markdown",
   "metadata": {},
   "source": [
    "### Final data frame"
   ]
  },
  {
   "cell_type": "code",
   "execution_count": 72,
   "metadata": {},
   "outputs": [
    {
     "data": {
      "text/html": [
       "<div>\n",
       "<style scoped>\n",
       "    .dataframe tbody tr th:only-of-type {\n",
       "        vertical-align: middle;\n",
       "    }\n",
       "\n",
       "    .dataframe tbody tr th {\n",
       "        vertical-align: top;\n",
       "    }\n",
       "\n",
       "    .dataframe thead th {\n",
       "        text-align: right;\n",
       "    }\n",
       "</style>\n",
       "<table border=\"1\" class=\"dataframe\">\n",
       "  <thead>\n",
       "    <tr style=\"text-align: right;\">\n",
       "      <th></th>\n",
       "      <th>name1</th>\n",
       "      <th>name2</th>\n",
       "      <th>price</th>\n",
       "      <th>dimension2</th>\n",
       "    </tr>\n",
       "  </thead>\n",
       "  <tbody>\n",
       "    <tr>\n",
       "      <th>0</th>\n",
       "      <td>Kleppstad</td>\n",
       "      <td>Szafa/3 drzwi,</td>\n",
       "      <td>599</td>\n",
       "      <td>117x176 cm</td>\n",
       "    </tr>\n",
       "    <tr>\n",
       "      <th>1</th>\n",
       "      <td>Pax / bergsbo</td>\n",
       "      <td>Szafa/2 drzwi,</td>\n",
       "      <td>800</td>\n",
       "      <td>100x60x236 cm</td>\n",
       "    </tr>\n",
       "    <tr>\n",
       "      <th>2</th>\n",
       "      <td>Vilhatten</td>\n",
       "      <td>Szafa 2 drzwi i 2 szuflady</td>\n",
       "      <td>899</td>\n",
       "      <td>NaN</td>\n",
       "    </tr>\n",
       "    <tr>\n",
       "      <th>3</th>\n",
       "      <td>Brimnes</td>\n",
       "      <td>Szafa/3 drzwi,</td>\n",
       "      <td>899</td>\n",
       "      <td>117x190 cm</td>\n",
       "    </tr>\n",
       "    <tr>\n",
       "      <th>4</th>\n",
       "      <td>Pax / grimo</td>\n",
       "      <td>Kombinacja szafy,</td>\n",
       "      <td>1410</td>\n",
       "      <td>150x60x201 cm</td>\n",
       "    </tr>\n",
       "    <tr>\n",
       "      <th>5</th>\n",
       "      <td>Kleppstad</td>\n",
       "      <td>Szafa/2 drzwi,</td>\n",
       "      <td>399</td>\n",
       "      <td>79x176 cm</td>\n",
       "    </tr>\n",
       "    <tr>\n",
       "      <th>6</th>\n",
       "      <td>Pax / bergsbo</td>\n",
       "      <td>Szafa,</td>\n",
       "      <td>2095</td>\n",
       "      <td>150x60x236 cm</td>\n",
       "    </tr>\n",
       "    <tr>\n",
       "      <th>7</th>\n",
       "      <td>Rakkestad</td>\n",
       "      <td>Szafa/3 drzwi,</td>\n",
       "      <td>699</td>\n",
       "      <td>117x176 cm</td>\n",
       "    </tr>\n",
       "    <tr>\n",
       "      <th>8</th>\n",
       "      <td>Kleppstad</td>\n",
       "      <td>Szafa z drzwiami przesuwanymi,</td>\n",
       "      <td>649</td>\n",
       "      <td>117x176 cm</td>\n",
       "    </tr>\n",
       "    <tr>\n",
       "      <th>9</th>\n",
       "      <td>Småstad / platsa</td>\n",
       "      <td>Szafa,</td>\n",
       "      <td>880</td>\n",
       "      <td>60x42x181 cm</td>\n",
       "    </tr>\n",
       "  </tbody>\n",
       "</table>\n",
       "</div>"
      ],
      "text/plain": [
       "              name1                           name2  price     dimension2\n",
       "0         Kleppstad                  Szafa/3 drzwi,    599     117x176 cm\n",
       "1     Pax / bergsbo                  Szafa/2 drzwi,    800  100x60x236 cm\n",
       "2         Vilhatten      Szafa 2 drzwi i 2 szuflady    899            NaN\n",
       "3           Brimnes                  Szafa/3 drzwi,    899     117x190 cm\n",
       "4       Pax / grimo               Kombinacja szafy,   1410  150x60x201 cm\n",
       "5         Kleppstad                  Szafa/2 drzwi,    399      79x176 cm\n",
       "6     Pax / bergsbo                          Szafa,   2095  150x60x236 cm\n",
       "7         Rakkestad                  Szafa/3 drzwi,    699     117x176 cm\n",
       "8         Kleppstad  Szafa z drzwiami przesuwanymi,    649     117x176 cm\n",
       "9  Småstad / platsa                          Szafa,    880   60x42x181 cm"
      ]
     },
     "execution_count": 72,
     "metadata": {},
     "output_type": "execute_result"
    }
   ],
   "source": [
    "ikea_df.head(10)"
   ]
  }
 ],
 "metadata": {
  "kernelspec": {
   "display_name": "Python 3",
   "language": "python",
   "name": "python3"
  },
  "language_info": {
   "codemirror_mode": {
    "name": "ipython",
    "version": 3
   },
   "file_extension": ".py",
   "mimetype": "text/x-python",
   "name": "python",
   "nbconvert_exporter": "python",
   "pygments_lexer": "ipython3",
   "version": "3.11.0"
  },
  "orig_nbformat": 4,
  "vscode": {
   "interpreter": {
    "hash": "a1f2d31f3cfa242181f85bb58fcdf4b9b5b4fad4a1c371137165c825fb1a7558"
   }
  }
 },
 "nbformat": 4,
 "nbformat_minor": 2
}
